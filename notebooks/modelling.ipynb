{
 "cells": [
  {
   "cell_type": "code",
   "execution_count": 1,
   "metadata": {},
   "outputs": [
    {
     "name": "stderr",
     "output_type": "stream",
     "text": [
      "/var/folders/n2/9hl8ftpn3j379grs52lt_3q80000gn/T/ipykernel_67218/3771216383.py:2: DeprecationWarning: \n",
      "Pyarrow will become a required dependency of pandas in the next major release of pandas (pandas 3.0),\n",
      "(to allow more performant data types, such as the Arrow string type, and better interoperability with other libraries)\n",
      "but was not found to be installed on your system.\n",
      "If this would cause problems for you,\n",
      "please provide us feedback at https://github.com/pandas-dev/pandas/issues/54466\n",
      "        \n",
      "  import pandas as pd\n"
     ]
    }
   ],
   "source": [
    "import numpy as np\n",
    "import pandas as pd\n",
    "import tensorflow as tf\n",
    "import matplotlib.pyplot as plt\n",
    "\n",
    "from sklearn.metrics import accuracy_score, precision_score, recall_score\n",
    "from sklearn.model_selection import train_test_split\n",
    "from tensorflow.keras import layers, losses\n",
    "from tensorflow.keras.models import Model"
   ]
  },
  {
   "cell_type": "code",
   "execution_count": 2,
   "metadata": {},
   "outputs": [
    {
     "data": {
      "text/html": [
       "<div>\n",
       "<style scoped>\n",
       "    .dataframe tbody tr th:only-of-type {\n",
       "        vertical-align: middle;\n",
       "    }\n",
       "\n",
       "    .dataframe tbody tr th {\n",
       "        vertical-align: top;\n",
       "    }\n",
       "\n",
       "    .dataframe thead th {\n",
       "        text-align: right;\n",
       "    }\n",
       "</style>\n",
       "<table border=\"1\" class=\"dataframe\">\n",
       "  <thead>\n",
       "    <tr style=\"text-align: right;\">\n",
       "      <th></th>\n",
       "      <th>product_id</th>\n",
       "      <th>category</th>\n",
       "      <th>brand</th>\n",
       "      <th>kind</th>\n",
       "      <th>ratings</th>\n",
       "      <th>price</th>\n",
       "    </tr>\n",
       "  </thead>\n",
       "  <tbody>\n",
       "    <tr>\n",
       "      <th>0</th>\n",
       "      <td>0</td>\n",
       "      <td>Dress</td>\n",
       "      <td>Adidas</td>\n",
       "      <td>Kids' Fashion</td>\n",
       "      <td>3.270463</td>\n",
       "      <td>53.916667</td>\n",
       "    </tr>\n",
       "    <tr>\n",
       "      <th>1</th>\n",
       "      <td>1</td>\n",
       "      <td>Dress</td>\n",
       "      <td>Adidas</td>\n",
       "      <td>Men's Fashion</td>\n",
       "      <td>2.879264</td>\n",
       "      <td>44.500000</td>\n",
       "    </tr>\n",
       "    <tr>\n",
       "      <th>2</th>\n",
       "      <td>2</td>\n",
       "      <td>Dress</td>\n",
       "      <td>Adidas</td>\n",
       "      <td>Women's Fashion</td>\n",
       "      <td>2.673620</td>\n",
       "      <td>47.666667</td>\n",
       "    </tr>\n",
       "    <tr>\n",
       "      <th>3</th>\n",
       "      <td>3</td>\n",
       "      <td>Dress</td>\n",
       "      <td>Gucci</td>\n",
       "      <td>Kids' Fashion</td>\n",
       "      <td>3.689981</td>\n",
       "      <td>50.200000</td>\n",
       "    </tr>\n",
       "    <tr>\n",
       "      <th>4</th>\n",
       "      <td>4</td>\n",
       "      <td>Dress</td>\n",
       "      <td>Gucci</td>\n",
       "      <td>Men's Fashion</td>\n",
       "      <td>3.282323</td>\n",
       "      <td>51.125000</td>\n",
       "    </tr>\n",
       "    <tr>\n",
       "      <th>...</th>\n",
       "      <td>...</td>\n",
       "      <td>...</td>\n",
       "      <td>...</td>\n",
       "      <td>...</td>\n",
       "      <td>...</td>\n",
       "      <td>...</td>\n",
       "    </tr>\n",
       "    <tr>\n",
       "      <th>70</th>\n",
       "      <td>70</td>\n",
       "      <td>T-shirt</td>\n",
       "      <td>Nike</td>\n",
       "      <td>Men's Fashion</td>\n",
       "      <td>2.436425</td>\n",
       "      <td>56.500000</td>\n",
       "    </tr>\n",
       "    <tr>\n",
       "      <th>71</th>\n",
       "      <td>71</td>\n",
       "      <td>T-shirt</td>\n",
       "      <td>Nike</td>\n",
       "      <td>Women's Fashion</td>\n",
       "      <td>2.636504</td>\n",
       "      <td>72.166667</td>\n",
       "    </tr>\n",
       "    <tr>\n",
       "      <th>72</th>\n",
       "      <td>72</td>\n",
       "      <td>T-shirt</td>\n",
       "      <td>Zara</td>\n",
       "      <td>Kids' Fashion</td>\n",
       "      <td>3.548573</td>\n",
       "      <td>65.750000</td>\n",
       "    </tr>\n",
       "    <tr>\n",
       "      <th>73</th>\n",
       "      <td>73</td>\n",
       "      <td>T-shirt</td>\n",
       "      <td>Zara</td>\n",
       "      <td>Men's Fashion</td>\n",
       "      <td>2.520955</td>\n",
       "      <td>52.818182</td>\n",
       "    </tr>\n",
       "    <tr>\n",
       "      <th>74</th>\n",
       "      <td>74</td>\n",
       "      <td>T-shirt</td>\n",
       "      <td>Zara</td>\n",
       "      <td>Women's Fashion</td>\n",
       "      <td>2.908798</td>\n",
       "      <td>67.375000</td>\n",
       "    </tr>\n",
       "  </tbody>\n",
       "</table>\n",
       "<p>75 rows × 6 columns</p>\n",
       "</div>"
      ],
      "text/plain": [
       "    product_id category   brand             kind   ratings      price\n",
       "0            0    Dress  Adidas    Kids' Fashion  3.270463  53.916667\n",
       "1            1    Dress  Adidas    Men's Fashion  2.879264  44.500000\n",
       "2            2    Dress  Adidas  Women's Fashion  2.673620  47.666667\n",
       "3            3    Dress   Gucci    Kids' Fashion  3.689981  50.200000\n",
       "4            4    Dress   Gucci    Men's Fashion  3.282323  51.125000\n",
       "..         ...      ...     ...              ...       ...        ...\n",
       "70          70  T-shirt    Nike    Men's Fashion  2.436425  56.500000\n",
       "71          71  T-shirt    Nike  Women's Fashion  2.636504  72.166667\n",
       "72          72  T-shirt    Zara    Kids' Fashion  3.548573  65.750000\n",
       "73          73  T-shirt    Zara    Men's Fashion  2.520955  52.818182\n",
       "74          74  T-shirt    Zara  Women's Fashion  2.908798  67.375000\n",
       "\n",
       "[75 rows x 6 columns]"
      ]
     },
     "execution_count": 2,
     "metadata": {},
     "output_type": "execute_result"
    }
   ],
   "source": [
    "df_product = pd.read_csv('../datasets/fashion/product_details.csv', sep=';')\n",
    "df_product = df_product.loc[:, ~df_product.columns.str.contains('^Unnamed')]\n",
    "df_product"
   ]
  },
  {
   "cell_type": "code",
   "execution_count": 3,
   "metadata": {},
   "outputs": [
    {
     "data": {
      "text/html": [
       "<div>\n",
       "<style scoped>\n",
       "    .dataframe tbody tr th:only-of-type {\n",
       "        vertical-align: middle;\n",
       "    }\n",
       "\n",
       "    .dataframe tbody tr th {\n",
       "        vertical-align: top;\n",
       "    }\n",
       "\n",
       "    .dataframe thead th {\n",
       "        text-align: right;\n",
       "    }\n",
       "</style>\n",
       "<table border=\"1\" class=\"dataframe\">\n",
       "  <thead>\n",
       "    <tr style=\"text-align: right;\">\n",
       "      <th></th>\n",
       "      <th>customer_id</th>\n",
       "      <th>product_id</th>\n",
       "      <th>purchase_date</th>\n",
       "    </tr>\n",
       "  </thead>\n",
       "  <tbody>\n",
       "    <tr>\n",
       "      <th>0</th>\n",
       "      <td>18</td>\n",
       "      <td>1</td>\n",
       "      <td>NaN</td>\n",
       "    </tr>\n",
       "    <tr>\n",
       "      <th>1</th>\n",
       "      <td>96</td>\n",
       "      <td>38</td>\n",
       "      <td>NaN</td>\n",
       "    </tr>\n",
       "    <tr>\n",
       "      <th>2</th>\n",
       "      <td>24</td>\n",
       "      <td>2</td>\n",
       "      <td>NaN</td>\n",
       "    </tr>\n",
       "    <tr>\n",
       "      <th>3</th>\n",
       "      <td>56</td>\n",
       "      <td>43</td>\n",
       "      <td>NaN</td>\n",
       "    </tr>\n",
       "    <tr>\n",
       "      <th>4</th>\n",
       "      <td>78</td>\n",
       "      <td>61</td>\n",
       "      <td>NaN</td>\n",
       "    </tr>\n",
       "    <tr>\n",
       "      <th>...</th>\n",
       "      <td>...</td>\n",
       "      <td>...</td>\n",
       "      <td>...</td>\n",
       "    </tr>\n",
       "    <tr>\n",
       "      <th>995</th>\n",
       "      <td>19</td>\n",
       "      <td>44</td>\n",
       "      <td>NaN</td>\n",
       "    </tr>\n",
       "    <tr>\n",
       "      <th>996</th>\n",
       "      <td>41</td>\n",
       "      <td>54</td>\n",
       "      <td>NaN</td>\n",
       "    </tr>\n",
       "    <tr>\n",
       "      <th>997</th>\n",
       "      <td>8</td>\n",
       "      <td>58</td>\n",
       "      <td>NaN</td>\n",
       "    </tr>\n",
       "    <tr>\n",
       "      <th>998</th>\n",
       "      <td>7</td>\n",
       "      <td>74</td>\n",
       "      <td>NaN</td>\n",
       "    </tr>\n",
       "    <tr>\n",
       "      <th>999</th>\n",
       "      <td>90</td>\n",
       "      <td>32</td>\n",
       "      <td>NaN</td>\n",
       "    </tr>\n",
       "  </tbody>\n",
       "</table>\n",
       "<p>1000 rows × 3 columns</p>\n",
       "</div>"
      ],
      "text/plain": [
       "     customer_id  product_id  purchase_date\n",
       "0             18           1            NaN\n",
       "1             96          38            NaN\n",
       "2             24           2            NaN\n",
       "3             56          43            NaN\n",
       "4             78          61            NaN\n",
       "..           ...         ...            ...\n",
       "995           19          44            NaN\n",
       "996           41          54            NaN\n",
       "997            8          58            NaN\n",
       "998            7          74            NaN\n",
       "999           90          32            NaN\n",
       "\n",
       "[1000 rows x 3 columns]"
      ]
     },
     "execution_count": 3,
     "metadata": {},
     "output_type": "execute_result"
    }
   ],
   "source": [
    "df_history = pd.read_csv('../datasets/fashion/purchase_history.csv', sep=';')\n",
    "df_history = df_history.loc[:, ~df_history.columns.str.contains('^Unnamed')]\n",
    "df_history['customer_id'] -= 1\n",
    "df_history"
   ]
  },
  {
   "cell_type": "code",
   "execution_count": 4,
   "metadata": {},
   "outputs": [
    {
     "data": {
      "text/html": [
       "<div>\n",
       "<style scoped>\n",
       "    .dataframe tbody tr th:only-of-type {\n",
       "        vertical-align: middle;\n",
       "    }\n",
       "\n",
       "    .dataframe tbody tr th {\n",
       "        vertical-align: top;\n",
       "    }\n",
       "\n",
       "    .dataframe thead th {\n",
       "        text-align: right;\n",
       "    }\n",
       "</style>\n",
       "<table border=\"1\" class=\"dataframe\">\n",
       "  <thead>\n",
       "    <tr style=\"text-align: right;\">\n",
       "      <th></th>\n",
       "      <th>customer_id</th>\n",
       "      <th>product_id</th>\n",
       "    </tr>\n",
       "  </thead>\n",
       "  <tbody>\n",
       "    <tr>\n",
       "      <th>0</th>\n",
       "      <td>18</td>\n",
       "      <td>1</td>\n",
       "    </tr>\n",
       "    <tr>\n",
       "      <th>1</th>\n",
       "      <td>96</td>\n",
       "      <td>38</td>\n",
       "    </tr>\n",
       "    <tr>\n",
       "      <th>2</th>\n",
       "      <td>24</td>\n",
       "      <td>2</td>\n",
       "    </tr>\n",
       "    <tr>\n",
       "      <th>3</th>\n",
       "      <td>56</td>\n",
       "      <td>43</td>\n",
       "    </tr>\n",
       "    <tr>\n",
       "      <th>4</th>\n",
       "      <td>78</td>\n",
       "      <td>61</td>\n",
       "    </tr>\n",
       "    <tr>\n",
       "      <th>...</th>\n",
       "      <td>...</td>\n",
       "      <td>...</td>\n",
       "    </tr>\n",
       "    <tr>\n",
       "      <th>995</th>\n",
       "      <td>19</td>\n",
       "      <td>44</td>\n",
       "    </tr>\n",
       "    <tr>\n",
       "      <th>996</th>\n",
       "      <td>41</td>\n",
       "      <td>54</td>\n",
       "    </tr>\n",
       "    <tr>\n",
       "      <th>997</th>\n",
       "      <td>8</td>\n",
       "      <td>58</td>\n",
       "    </tr>\n",
       "    <tr>\n",
       "      <th>998</th>\n",
       "      <td>7</td>\n",
       "      <td>74</td>\n",
       "    </tr>\n",
       "    <tr>\n",
       "      <th>999</th>\n",
       "      <td>90</td>\n",
       "      <td>32</td>\n",
       "    </tr>\n",
       "  </tbody>\n",
       "</table>\n",
       "<p>1000 rows × 2 columns</p>\n",
       "</div>"
      ],
      "text/plain": [
       "     customer_id  product_id\n",
       "0             18           1\n",
       "1             96          38\n",
       "2             24           2\n",
       "3             56          43\n",
       "4             78          61\n",
       "..           ...         ...\n",
       "995           19          44\n",
       "996           41          54\n",
       "997            8          58\n",
       "998            7          74\n",
       "999           90          32\n",
       "\n",
       "[1000 rows x 2 columns]"
      ]
     },
     "execution_count": 4,
     "metadata": {},
     "output_type": "execute_result"
    }
   ],
   "source": [
    "df_dataset = df_history[['customer_id', 'product_id']]\n",
    "df_dataset"
   ]
  },
  {
   "cell_type": "code",
   "execution_count": 5,
   "metadata": {},
   "outputs": [
    {
     "data": {
      "text/html": [
       "<div>\n",
       "<style scoped>\n",
       "    .dataframe tbody tr th:only-of-type {\n",
       "        vertical-align: middle;\n",
       "    }\n",
       "\n",
       "    .dataframe tbody tr th {\n",
       "        vertical-align: top;\n",
       "    }\n",
       "\n",
       "    .dataframe thead th {\n",
       "        text-align: right;\n",
       "    }\n",
       "</style>\n",
       "<table border=\"1\" class=\"dataframe\">\n",
       "  <thead>\n",
       "    <tr style=\"text-align: right;\">\n",
       "      <th></th>\n",
       "      <th>customer_id</th>\n",
       "      <th>product_id</th>\n",
       "      <th>count</th>\n",
       "    </tr>\n",
       "  </thead>\n",
       "  <tbody>\n",
       "    <tr>\n",
       "      <th>527</th>\n",
       "      <td>54</td>\n",
       "      <td>70</td>\n",
       "      <td>2</td>\n",
       "    </tr>\n",
       "    <tr>\n",
       "      <th>295</th>\n",
       "      <td>32</td>\n",
       "      <td>28</td>\n",
       "      <td>2</td>\n",
       "    </tr>\n",
       "    <tr>\n",
       "      <th>919</th>\n",
       "      <td>97</td>\n",
       "      <td>11</td>\n",
       "      <td>2</td>\n",
       "    </tr>\n",
       "    <tr>\n",
       "      <th>456</th>\n",
       "      <td>47</td>\n",
       "      <td>62</td>\n",
       "      <td>2</td>\n",
       "    </tr>\n",
       "    <tr>\n",
       "      <th>734</th>\n",
       "      <td>76</td>\n",
       "      <td>67</td>\n",
       "      <td>2</td>\n",
       "    </tr>\n",
       "    <tr>\n",
       "      <th>...</th>\n",
       "      <td>...</td>\n",
       "      <td>...</td>\n",
       "      <td>...</td>\n",
       "    </tr>\n",
       "    <tr>\n",
       "      <th>329</th>\n",
       "      <td>34</td>\n",
       "      <td>66</td>\n",
       "      <td>1</td>\n",
       "    </tr>\n",
       "    <tr>\n",
       "      <th>330</th>\n",
       "      <td>35</td>\n",
       "      <td>0</td>\n",
       "      <td>1</td>\n",
       "    </tr>\n",
       "    <tr>\n",
       "      <th>331</th>\n",
       "      <td>35</td>\n",
       "      <td>1</td>\n",
       "      <td>1</td>\n",
       "    </tr>\n",
       "    <tr>\n",
       "      <th>332</th>\n",
       "      <td>35</td>\n",
       "      <td>17</td>\n",
       "      <td>1</td>\n",
       "    </tr>\n",
       "    <tr>\n",
       "      <th>950</th>\n",
       "      <td>99</td>\n",
       "      <td>68</td>\n",
       "      <td>1</td>\n",
       "    </tr>\n",
       "  </tbody>\n",
       "</table>\n",
       "<p>951 rows × 3 columns</p>\n",
       "</div>"
      ],
      "text/plain": [
       "     customer_id  product_id  count\n",
       "527           54          70      2\n",
       "295           32          28      2\n",
       "919           97          11      2\n",
       "456           47          62      2\n",
       "734           76          67      2\n",
       "..           ...         ...    ...\n",
       "329           34          66      1\n",
       "330           35           0      1\n",
       "331           35           1      1\n",
       "332           35          17      1\n",
       "950           99          68      1\n",
       "\n",
       "[951 rows x 3 columns]"
      ]
     },
     "execution_count": 5,
     "metadata": {},
     "output_type": "execute_result"
    }
   ],
   "source": [
    "df_freq = df_dataset.reset_index(names=['count']).groupby(by=['customer_id', 'product_id']).agg({'count': 'count'}).reset_index().sort_values(by=['count'], ascending=False)\n",
    "df_freq"
   ]
  },
  {
   "cell_type": "code",
   "execution_count": 6,
   "metadata": {},
   "outputs": [
    {
     "data": {
      "text/plain": [
       "count\n",
       "1    902\n",
       "2     49\n",
       "Name: count, dtype: int64"
      ]
     },
     "execution_count": 6,
     "metadata": {},
     "output_type": "execute_result"
    }
   ],
   "source": [
    "df_freq['count'].value_counts()"
   ]
  },
  {
   "cell_type": "code",
   "execution_count": 7,
   "metadata": {},
   "outputs": [],
   "source": [
    "# sorted(df_dataset['customer_id'].unique())\n",
    "# sorted(df_dataset['product_id'].unique())"
   ]
  },
  {
   "cell_type": "code",
   "execution_count": 194,
   "metadata": {},
   "outputs": [
    {
     "name": "stdout",
     "output_type": "stream",
     "text": [
      "total_user: 100\n",
      "total_product: 75\n"
     ]
    }
   ],
   "source": [
    "total_user = len(df_dataset['customer_id'].unique())\n",
    "total_product = len(df_dataset['product_id'].unique())\n",
    "print(f'total_user: {total_user}')\n",
    "print(f'total_product: {total_product}')"
   ]
  },
  {
   "cell_type": "code",
   "execution_count": 195,
   "metadata": {},
   "outputs": [
    {
     "data": {
      "text/plain": [
       "(100, 75)"
      ]
     },
     "execution_count": 195,
     "metadata": {},
     "output_type": "execute_result"
    }
   ],
   "source": [
    "datatsets = np.zeros((total_user, total_product))\n",
    "(datatsets.shape)"
   ]
  },
  {
   "cell_type": "code",
   "execution_count": 888,
   "metadata": {},
   "outputs": [],
   "source": [
    "# for i, row in df_dataset.iterrows():\n",
    "for i, row in df_freq.iterrows():\n",
    "    count = row['count']\n",
    "    datatsets[row['customer_id'], row['product_id']] = 1\n",
    "\n",
    "    # if count > 1:\n",
    "    #     x_test[row['customer_id'], row['product_id']] = 1"
   ]
  },
  {
   "cell_type": "code",
   "execution_count": 889,
   "metadata": {},
   "outputs": [],
   "source": [
    "# datatsets = (datatsets - datatsets.min()) / (datatsets.max() - datatsets.min())\n",
    "# print(datatsets.min(), datatsets.max())"
   ]
  },
  {
   "cell_type": "code",
   "execution_count": 890,
   "metadata": {},
   "outputs": [
    {
     "data": {
      "text/plain": [
       "array([ 9.,  9., 10., 12.,  8., 13., 11., 10., 14., 11., 14.,  6., 10.,\n",
       "        5.,  6.,  7.,  7.,  9.,  9.,  9.,  6.,  9.,  4., 11., 13., 10.,\n",
       "       10.,  6.,  5., 11.,  9., 10., 10., 15., 12.,  9., 16., 13., 13.,\n",
       "       10.,  9., 10.,  6., 11.,  5., 13.,  2., 12., 10., 11., 10., 12.,\n",
       "        5., 13.,  8., 11.,  7.,  5.,  8., 12., 14.,  7., 10.,  9., 13.,\n",
       "        9.,  7.,  9.,  7.,  8., 12., 10., 13.,  9.,  8.,  8., 13.,  9.,\n",
       "       10., 15.,  6., 11.,  8., 11.,  4.,  3., 11.,  9., 13.,  8., 10.,\n",
       "       13.,  7.,  9.,  9.,  6.,  8., 13.,  8., 13.])"
      ]
     },
     "execution_count": 890,
     "metadata": {},
     "output_type": "execute_result"
    }
   ],
   "source": [
    "datatsets.sum(axis=1)"
   ]
  },
  {
   "cell_type": "code",
   "execution_count": 1112,
   "metadata": {},
   "outputs": [
    {
     "name": "stdout",
     "output_type": "stream",
     "text": [
      "datatsets_train: (81, 75)\n",
      "datatsets_test: (19, 75)\n"
     ]
    }
   ],
   "source": [
    "# Drop \n",
    "min_items = 12 # datatsets.sum(axis=1).mean()\n",
    "\n",
    "datatsets_train = datatsets[datatsets.sum(axis=1) <= min_items, :]\n",
    "datatsets_test = datatsets[datatsets.sum(axis=1) > min_items, :]\n",
    "\n",
    "print(f'datatsets_train: {datatsets_train.shape}')\n",
    "print(f'datatsets_test: {datatsets_test.shape}')"
   ]
  },
  {
   "cell_type": "code",
   "execution_count": 1131,
   "metadata": {},
   "outputs": [
    {
     "name": "stdout",
     "output_type": "stream",
     "text": [
      "X: (5393, 75)\n",
      "y: (5393, 75)\n",
      "Train: ((3613, 75), (3613, 75))\n",
      "Test: ((1780, 75), (1780, 75))\n"
     ]
    }
   ],
   "source": [
    "import itertools\n",
    "\n",
    "def generate_trainset(datatsets):\n",
    "    # return datatsets, datatsets, datatsets\n",
    "\n",
    "    x, y, z = [], [], []\n",
    "    for row in datatsets:\n",
    "        product_ids = np.argwhere(row == 1).reshape(-1).tolist()\n",
    "        for c in range(1, min(3, len(product_ids) - 1)):\n",
    "            combs = list(itertools.combinations(product_ids, c))\n",
    "            # print(f'c: {c}')\n",
    "            # print(f'combs: {combs}')\n",
    "            # print(f'product_ids: {product_ids}')\n",
    "            \n",
    "            for k, comb in enumerate(combs):\n",
    "                combinations = np.zeros((1, total_product))\n",
    "                # print(f'comb: {comb}')\n",
    "                # print(f'combinations.shape: {combinations.shape}')\n",
    "\n",
    "                for i, product_id in enumerate(comb):\n",
    "                    combinations[0, product_id] = 1\n",
    "                # y.append(row - combinations[0])\n",
    "                y.append(row)\n",
    "                z.append(row)\n",
    "                x.extend(combinations)\n",
    "\n",
    "            # print()\n",
    "            \n",
    "    return np.array(x), np.array(y), np.array(z)\n",
    "\n",
    "X, y, z = generate_trainset(datatsets)\n",
    "print(f'X: {(X.shape)}')\n",
    "print(f'y: {(y.shape)}')\n",
    "\n",
    "x_train, x_test, y_train, y_test = train_test_split(X, y, test_size=0.33, random_state=42)\n",
    "print(f'Train: {(x_train.shape), (y_train.shape)}')\n",
    "print(f'Test: {(x_test.shape), (y_test.shape)}')\n",
    "\n",
    "# x_train, y_train = generate_trainset(datatsets_train)\n",
    "# x_test, y_test = generate_trainset(datatsets_test)\n",
    "# x_train, x_test, y_train, y_test = train_test_split(X, y, test_size=0.33, random_state=42)\n",
    "\n",
    "# print(f'Train: {(x_train.shape), (y_train.shape)}')\n",
    "# print(f'Test: {(x_test.shape), (y_test.shape)}')"
   ]
  },
  {
   "cell_type": "code",
   "execution_count": 1132,
   "metadata": {},
   "outputs": [],
   "source": [
    "idx = 10"
   ]
  },
  {
   "cell_type": "code",
   "execution_count": 1133,
   "metadata": {},
   "outputs": [],
   "source": [
    "# X[:200].sum(axis=1)"
   ]
  },
  {
   "cell_type": "code",
   "execution_count": 1134,
   "metadata": {},
   "outputs": [
    {
     "data": {
      "text/plain": [
       "array([0., 0., 0., 0., 0., 0., 0., 0., 0., 1., 0., 0., 0., 0., 0., 0., 0.,\n",
       "       0., 0., 0., 0., 0., 0., 0., 0., 0., 0., 0., 0., 0., 0., 0., 0., 0.,\n",
       "       1., 0., 0., 0., 0., 0., 0., 0., 0., 0., 0., 0., 0., 0., 0., 0., 0.,\n",
       "       0., 0., 0., 0., 0., 0., 0., 0., 0., 0., 0., 0., 0., 0., 0., 0., 0.,\n",
       "       0., 0., 0., 0., 0., 0., 0.])"
      ]
     },
     "execution_count": 1134,
     "metadata": {},
     "output_type": "execute_result"
    }
   ],
   "source": [
    "X[idx]"
   ]
  },
  {
   "cell_type": "code",
   "execution_count": 1135,
   "metadata": {},
   "outputs": [
    {
     "data": {
      "text/plain": [
       "array([0., 0., 0., 0., 0., 0., 0., 0., 0., 1., 0., 1., 0., 0., 0., 0., 0.,\n",
       "       0., 0., 0., 0., 0., 0., 0., 0., 0., 0., 0., 0., 0., 0., 0., 0., 0.,\n",
       "       1., 0., 0., 0., 0., 0., 0., 1., 0., 0., 0., 0., 0., 0., 0., 0., 0.,\n",
       "       0., 0., 0., 0., 1., 0., 1., 0., 0., 0., 0., 0., 0., 0., 1., 0., 0.,\n",
       "       0., 1., 0., 0., 1., 0., 0.])"
      ]
     },
     "execution_count": 1135,
     "metadata": {},
     "output_type": "execute_result"
    }
   ],
   "source": [
    "y[idx]"
   ]
  },
  {
   "cell_type": "code",
   "execution_count": 1136,
   "metadata": {},
   "outputs": [
    {
     "data": {
      "text/plain": [
       "array([0., 0., 0., 0., 0., 0., 0., 0., 0., 1., 0., 1., 0., 0., 0., 0., 0.,\n",
       "       0., 0., 0., 0., 0., 0., 0., 0., 0., 0., 0., 0., 0., 0., 0., 0., 0.,\n",
       "       1., 0., 0., 0., 0., 0., 0., 1., 0., 0., 0., 0., 0., 0., 0., 0., 0.,\n",
       "       0., 0., 0., 0., 1., 0., 1., 0., 0., 0., 0., 0., 0., 0., 1., 0., 0.,\n",
       "       0., 1., 0., 0., 1., 0., 0.])"
      ]
     },
     "execution_count": 1136,
     "metadata": {},
     "output_type": "execute_result"
    }
   ],
   "source": [
    "z[idx]"
   ]
  },
  {
   "cell_type": "code",
   "execution_count": 1137,
   "metadata": {},
   "outputs": [
    {
     "ename": "AssertionError",
     "evalue": "Something wrong!",
     "output_type": "error",
     "traceback": [
      "\u001b[0;31m---------------------------------------------------------------------------\u001b[0m",
      "\u001b[0;31mAssertionError\u001b[0m                            Traceback (most recent call last)",
      "Cell \u001b[0;32mIn[1137], line 1\u001b[0m\n\u001b[0;32m----> 1\u001b[0m \u001b[38;5;28;01massert\u001b[39;00m (z[idx] \u001b[38;5;241m==\u001b[39m X[idx] \u001b[38;5;241m+\u001b[39m y[idx])\u001b[38;5;241m.\u001b[39msum() \u001b[38;5;241m==\u001b[39m \u001b[38;5;241m75\u001b[39m, \u001b[38;5;124m\"\u001b[39m\u001b[38;5;124mSomething wrong!\u001b[39m\u001b[38;5;124m\"\u001b[39m\n",
      "\u001b[0;31mAssertionError\u001b[0m: Something wrong!"
     ]
    }
   ],
   "source": [
    "assert (z[idx] == X[idx] + y[idx]).sum() == 75, \"Something wrong!\""
   ]
  },
  {
   "cell_type": "code",
   "execution_count": 1138,
   "metadata": {},
   "outputs": [],
   "source": [
    "# x_train[1]"
   ]
  },
  {
   "cell_type": "code",
   "execution_count": 1139,
   "metadata": {},
   "outputs": [],
   "source": [
    "# y_train[1]"
   ]
  },
  {
   "cell_type": "markdown",
   "metadata": {},
   "source": [
    "# Model"
   ]
  },
  {
   "cell_type": "code",
   "execution_count": 1198,
   "metadata": {},
   "outputs": [],
   "source": [
    "@tf.function\n",
    "def macro_soft_f1(y, y_hat):\n",
    "    \"\"\"Compute the macro soft F1-score as a cost (average 1 - soft-F1 across all labels).\n",
    "    Use probability values instead of binary predictions.\n",
    "    \n",
    "    Args:\n",
    "        y (int32 Tensor): targets array of shape (BATCH_SIZE, N_LABELS)\n",
    "        y_hat (float32 Tensor): probability matrix from forward propagation of shape (BATCH_SIZE, N_LABELS)\n",
    "        \n",
    "    Returns:\n",
    "        cost (scalar Tensor): value of the cost function for the batch\n",
    "    \"\"\"\n",
    "    y = tf.cast(y, tf.float32)\n",
    "    y_hat = tf.cast(y_hat, tf.float32)\n",
    "    tp = tf.reduce_sum(y_hat * y, axis=0)\n",
    "    fp = tf.reduce_sum(y_hat * (1 - y), axis=0)\n",
    "    fn = tf.reduce_sum((1 - y_hat) * y, axis=0)\n",
    "    soft_f1 = 2*tp / (2*tp + fn + fp + 1e-16)\n",
    "    # cost = 1 - soft_f1 # reduce 1 - soft-f1 in order to increase soft-f1\n",
    "    cost = soft_f1 # reduce 1 - soft-f1 in order to increase soft-f1\n",
    "    macro_cost = tf.reduce_mean(cost) # average on all labels\n",
    "    return macro_cost\n",
    "\n",
    "@tf.function\n",
    "def macro_f1(y, y_hat, thresh=0.5):\n",
    "    \"\"\"Compute the macro F1-score on a batch of observations (average F1 across labels)\n",
    "    \n",
    "    Args:\n",
    "        y (int32 Tensor): labels array of shape (BATCH_SIZE, N_LABELS)\n",
    "        y_hat (float32 Tensor): probability matrix from forward propagation of shape (BATCH_SIZE, N_LABELS)\n",
    "        thresh: probability value above which we predict positive\n",
    "        \n",
    "    Returns:\n",
    "        macro_f1 (scalar Tensor): value of macro F1 for the batch\n",
    "    \"\"\"\n",
    "    y_pred = tf.cast(tf.greater(y_hat, thresh), tf.float32)\n",
    "    tp = tf.cast(tf.math.count_nonzero(y_pred * y, axis=0), tf.float32)\n",
    "    fp = tf.cast(tf.math.count_nonzero(y_pred * (1 - y), axis=0), tf.float32)\n",
    "    fn = tf.cast(tf.math.count_nonzero((1 - y_pred) * y, axis=0), tf.float32)\n",
    "    f1 = 2 * tp / (2*tp + fn + fp + 1e-16)\n",
    "    macro_f1 = tf.reduce_mean(f1)\n",
    "    return macro_f1\n",
    "\n",
    "\n",
    "class Autoencoder(Model):\n",
    "    def __init__(self, latent_dim, shape):\n",
    "        super(Autoencoder, self).__init__()\n",
    "        self.latent_dim = latent_dim\n",
    "        self.shape = shape\n",
    "        self.encoder = tf.keras.Sequential([\n",
    "            layers.Flatten(),\n",
    "            # layers.Dropout(0.6),\n",
    "            layers.Dense(latent_dim * 2, activation='relu'),\n",
    "            layers.Dense(latent_dim, activation='relu'),\n",
    "            layers.Dense(latent_dim // 2, activation='relu'),\n",
    "        ])\n",
    "        self.decoder = tf.keras.Sequential([\n",
    "            layers.Dense(latent_dim, activation='relu'),\n",
    "            layers.Dense(latent_dim * 2, activation='relu'),\n",
    "            layers.Dense(tf.math.reduce_prod(shape), activation='sigmoid'),\n",
    "        ])\n",
    "\n",
    "    def call(self, x):\n",
    "        encoded = self.encoder(x)\n",
    "        decoded = self.decoder(encoded)\n",
    "        return decoded"
   ]
  },
  {
   "cell_type": "code",
   "execution_count": 1199,
   "metadata": {},
   "outputs": [],
   "source": [
    "shape = x_train.shape[1:]\n",
    "latent_dim = 32\n",
    "autoencoder = Autoencoder(latent_dim, shape)\n",
    "autoencoder = tf.keras.Sequential([\n",
    "    layers.Flatten(),\n",
    "    layers.Dense(x_train.shape[1] * 4, activation='relu'),\n",
    "    layers.Dropout(0.2),\n",
    "    layers.Dense(x_train.shape[1] * 4, activation='relu'),\n",
    "    layers.Dropout(0.2),\n",
    "    layers.Dense(x_train.shape[1] * 2, activation='relu'),\n",
    "    layers.Dropout(0.2),\n",
    "    layers.Dense(x_train.shape[1], activation='sigmoid'),    \n",
    "])"
   ]
  },
  {
   "cell_type": "code",
   "execution_count": 1293,
   "metadata": {},
   "outputs": [
    {
     "data": {
      "text/plain": [
       "<keras.src.engine.sequential.Sequential at 0x2e9016dc0>"
      ]
     },
     "execution_count": 1293,
     "metadata": {},
     "output_type": "execute_result"
    }
   ],
   "source": [
    "autoencoder_best = tf.keras.Sequential([\n",
    "    layers.Flatten(),\n",
    "    layers.Dense(x_train.shape[1] * 4, activation='relu'),\n",
    "    layers.Dropout(0.2),\n",
    "    layers.Dense(x_train.shape[1] * 4, activation='relu'),\n",
    "    layers.Dropout(0.2),\n",
    "    layers.Dense(x_train.shape[1] * 2, activation='relu'),\n",
    "    layers.Dropout(0.2),\n",
    "    layers.Dense(x_train.shape[1], activation='sigmoid'),    \n",
    "])\n",
    "autoencoder_best.compile(\n",
    "    optimizer=tf.keras.optimizers.legacy.Adam(learning_rate=1e-5), \n",
    "    loss=losses.MeanSquaredError(), \n",
    "    # loss=losses.BinaryCrossentropy(from_logits=True), \n",
    "    # loss=macro_soft_f1,\n",
    "    # loss=tf.keras.losses.BinaryCrossentropy(from_logits=True),\n",
    "\n",
    "    metrics=tf.keras.metrics.BinaryAccuracy(),\n",
    "    # metrics=[macro_f1],\n",
    ")\n",
    "autoencoder_best"
   ]
  },
  {
   "cell_type": "code",
   "execution_count": 1200,
   "metadata": {},
   "outputs": [],
   "source": [
    "autoencoder.compile(\n",
    "    optimizer=tf.keras.optimizers.legacy.Adam(learning_rate=1e-5), \n",
    "    loss=losses.MeanSquaredError(), \n",
    "    # loss=losses.BinaryCrossentropy(from_logits=True), \n",
    "    # loss=macro_soft_f1,\n",
    "    # loss=tf.keras.losses.BinaryCrossentropy(from_logits=True),\n",
    "\n",
    "    metrics=tf.keras.metrics.BinaryAccuracy(),\n",
    "    # metrics=[macro_f1],\n",
    ")\n",
    "callback_plateau = tf.keras.callbacks.ReduceLROnPlateau(\n",
    "    monitor='val_loss',\n",
    "    factor=0.1,\n",
    "    patience=25,\n",
    "    verbose=0,\n",
    "    mode='auto',\n",
    "    min_delta=0.0001,\n",
    "    cooldown=0,\n",
    "    min_lr=0,\n",
    ")\n",
    "callback_checkpoint = tf.keras.callbacks.ModelCheckpoint(\n",
    "    '../models/FCN/checkpoint/',\n",
    "    monitor='val_loss',\n",
    "    save_best_only=True,\n",
    "    save_freq='epoch',\n",
    ")"
   ]
  },
  {
   "cell_type": "code",
   "execution_count": 1201,
   "metadata": {},
   "outputs": [
    {
     "name": "stdout",
     "output_type": "stream",
     "text": [
      "Epoch 1/1000\n",
      " 91/113 [=======================>......] - ETA: 0s - loss: 0.2494 - binary_accuracy: 0.5160INFO:tensorflow:Assets written to: ../models/FCN/checkpoint/assets\n"
     ]
    },
    {
     "name": "stderr",
     "output_type": "stream",
     "text": [
      "INFO:tensorflow:Assets written to: ../models/FCN/checkpoint/assets\n"
     ]
    },
    {
     "name": "stdout",
     "output_type": "stream",
     "text": [
      "113/113 [==============================] - 1s 6ms/step - loss: 0.2491 - binary_accuracy: 0.5231 - val_loss: 0.2474 - val_binary_accuracy: 0.5849 - lr: 1.0000e-05\n",
      "Epoch 2/1000\n",
      " 99/113 [=========================>....] - ETA: 0s - loss: 0.2458 - binary_accuracy: 0.5955INFO:tensorflow:Assets written to: ../models/FCN/checkpoint/assets\n"
     ]
    },
    {
     "name": "stderr",
     "output_type": "stream",
     "text": [
      "INFO:tensorflow:Assets written to: ../models/FCN/checkpoint/assets\n"
     ]
    },
    {
     "name": "stdout",
     "output_type": "stream",
     "text": [
      "113/113 [==============================] - 1s 5ms/step - loss: 0.2455 - binary_accuracy: 0.5999 - val_loss: 0.2435 - val_binary_accuracy: 0.6648 - lr: 1.0000e-05\n",
      "Epoch 3/1000\n",
      "112/113 [============================>.] - ETA: 0s - loss: 0.2408 - binary_accuracy: 0.6622INFO:tensorflow:Assets written to: ../models/FCN/checkpoint/assets\n"
     ]
    },
    {
     "name": "stderr",
     "output_type": "stream",
     "text": [
      "INFO:tensorflow:Assets written to: ../models/FCN/checkpoint/assets\n"
     ]
    },
    {
     "name": "stdout",
     "output_type": "stream",
     "text": [
      "113/113 [==============================] - 1s 5ms/step - loss: 0.2408 - binary_accuracy: 0.6624 - val_loss: 0.2379 - val_binary_accuracy: 0.7207 - lr: 1.0000e-05\n",
      "Epoch 4/1000\n",
      "109/113 [===========================>..] - ETA: 0s - loss: 0.2340 - binary_accuracy: 0.7113INFO:tensorflow:Assets written to: ../models/FCN/checkpoint/assets\n"
     ]
    },
    {
     "name": "stderr",
     "output_type": "stream",
     "text": [
      "INFO:tensorflow:Assets written to: ../models/FCN/checkpoint/assets\n"
     ]
    },
    {
     "name": "stdout",
     "output_type": "stream",
     "text": [
      "113/113 [==============================] - 1s 5ms/step - loss: 0.2339 - binary_accuracy: 0.7121 - val_loss: 0.2295 - val_binary_accuracy: 0.7599 - lr: 1.0000e-05\n",
      "Epoch 5/1000\n",
      " 90/113 [======================>.......] - ETA: 0s - loss: 0.2251 - binary_accuracy: 0.7476INFO:tensorflow:Assets written to: ../models/FCN/checkpoint/assets\n"
     ]
    },
    {
     "name": "stderr",
     "output_type": "stream",
     "text": [
      "INFO:tensorflow:Assets written to: ../models/FCN/checkpoint/assets\n"
     ]
    },
    {
     "name": "stdout",
     "output_type": "stream",
     "text": [
      "113/113 [==============================] - 1s 5ms/step - loss: 0.2239 - binary_accuracy: 0.7509 - val_loss: 0.2173 - val_binary_accuracy: 0.7960 - lr: 1.0000e-05\n",
      "Epoch 6/1000\n",
      "113/113 [==============================] - ETA: 0s - loss: 0.2099 - binary_accuracy: 0.7837INFO:tensorflow:Assets written to: ../models/FCN/checkpoint/assets\n"
     ]
    },
    {
     "name": "stderr",
     "output_type": "stream",
     "text": [
      "INFO:tensorflow:Assets written to: ../models/FCN/checkpoint/assets\n"
     ]
    },
    {
     "name": "stdout",
     "output_type": "stream",
     "text": [
      "113/113 [==============================] - 1s 5ms/step - loss: 0.2099 - binary_accuracy: 0.7837 - val_loss: 0.2009 - val_binary_accuracy: 0.8315 - lr: 1.0000e-05\n",
      "Epoch 7/1000\n",
      "109/113 [===========================>..] - ETA: 0s - loss: 0.1933 - binary_accuracy: 0.8088INFO:tensorflow:Assets written to: ../models/FCN/checkpoint/assets\n"
     ]
    },
    {
     "name": "stderr",
     "output_type": "stream",
     "text": [
      "INFO:tensorflow:Assets written to: ../models/FCN/checkpoint/assets\n"
     ]
    },
    {
     "name": "stdout",
     "output_type": "stream",
     "text": [
      "113/113 [==============================] - 1s 5ms/step - loss: 0.1930 - binary_accuracy: 0.8091 - val_loss: 0.1823 - val_binary_accuracy: 0.8499 - lr: 1.0000e-05\n",
      "Epoch 8/1000\n",
      "103/113 [==========================>...] - ETA: 0s - loss: 0.1762 - binary_accuracy: 0.8272INFO:tensorflow:Assets written to: ../models/FCN/checkpoint/assets\n"
     ]
    },
    {
     "name": "stderr",
     "output_type": "stream",
     "text": [
      "INFO:tensorflow:Assets written to: ../models/FCN/checkpoint/assets\n"
     ]
    },
    {
     "name": "stdout",
     "output_type": "stream",
     "text": [
      "113/113 [==============================] - 1s 5ms/step - loss: 0.1754 - binary_accuracy: 0.8280 - val_loss: 0.1645 - val_binary_accuracy: 0.8540 - lr: 1.0000e-05\n",
      "Epoch 9/1000\n",
      "111/113 [============================>.] - ETA: 0s - loss: 0.1601 - binary_accuracy: 0.8404INFO:tensorflow:Assets written to: ../models/FCN/checkpoint/assets\n"
     ]
    },
    {
     "name": "stderr",
     "output_type": "stream",
     "text": [
      "INFO:tensorflow:Assets written to: ../models/FCN/checkpoint/assets\n"
     ]
    },
    {
     "name": "stdout",
     "output_type": "stream",
     "text": [
      "113/113 [==============================] - 1s 5ms/step - loss: 0.1600 - binary_accuracy: 0.8404 - val_loss: 0.1500 - val_binary_accuracy: 0.8540 - lr: 1.0000e-05\n",
      "Epoch 10/1000\n",
      "108/113 [===========================>..] - ETA: 0s - loss: 0.1484 - binary_accuracy: 0.8471INFO:tensorflow:Assets written to: ../models/FCN/checkpoint/assets\n"
     ]
    },
    {
     "name": "stderr",
     "output_type": "stream",
     "text": [
      "INFO:tensorflow:Assets written to: ../models/FCN/checkpoint/assets\n"
     ]
    },
    {
     "name": "stdout",
     "output_type": "stream",
     "text": [
      "113/113 [==============================] - 1s 5ms/step - loss: 0.1482 - binary_accuracy: 0.8472 - val_loss: 0.1398 - val_binary_accuracy: 0.8540 - lr: 1.0000e-05\n",
      "Epoch 11/1000\n",
      "110/113 [============================>.] - ETA: 0s - loss: 0.1404 - binary_accuracy: 0.8500INFO:tensorflow:Assets written to: ../models/FCN/checkpoint/assets\n"
     ]
    },
    {
     "name": "stderr",
     "output_type": "stream",
     "text": [
      "INFO:tensorflow:Assets written to: ../models/FCN/checkpoint/assets\n"
     ]
    },
    {
     "name": "stdout",
     "output_type": "stream",
     "text": [
      "113/113 [==============================] - 1s 5ms/step - loss: 0.1403 - binary_accuracy: 0.8501 - val_loss: 0.1333 - val_binary_accuracy: 0.8540 - lr: 1.0000e-05\n",
      "Epoch 12/1000\n",
      "101/113 [=========================>....] - ETA: 0s - loss: 0.1356 - binary_accuracy: 0.8516INFO:tensorflow:Assets written to: ../models/FCN/checkpoint/assets\n"
     ]
    },
    {
     "name": "stderr",
     "output_type": "stream",
     "text": [
      "INFO:tensorflow:Assets written to: ../models/FCN/checkpoint/assets\n"
     ]
    },
    {
     "name": "stdout",
     "output_type": "stream",
     "text": [
      "113/113 [==============================] - 1s 5ms/step - loss: 0.1354 - binary_accuracy: 0.8516 - val_loss: 0.1295 - val_binary_accuracy: 0.8540 - lr: 1.0000e-05\n",
      "Epoch 13/1000\n",
      "112/113 [============================>.] - ETA: 0s - loss: 0.1323 - binary_accuracy: 0.8527INFO:tensorflow:Assets written to: ../models/FCN/checkpoint/assets\n"
     ]
    },
    {
     "name": "stderr",
     "output_type": "stream",
     "text": [
      "INFO:tensorflow:Assets written to: ../models/FCN/checkpoint/assets\n"
     ]
    },
    {
     "name": "stdout",
     "output_type": "stream",
     "text": [
      "113/113 [==============================] - 1s 4ms/step - loss: 0.1323 - binary_accuracy: 0.8527 - val_loss: 0.1273 - val_binary_accuracy: 0.8540 - lr: 1.0000e-05\n",
      "Epoch 14/1000\n",
      " 89/113 [======================>.......] - ETA: 0s - loss: 0.1307 - binary_accuracy: 0.8528INFO:tensorflow:Assets written to: ../models/FCN/checkpoint/assets\n"
     ]
    },
    {
     "name": "stderr",
     "output_type": "stream",
     "text": [
      "INFO:tensorflow:Assets written to: ../models/FCN/checkpoint/assets\n"
     ]
    },
    {
     "name": "stdout",
     "output_type": "stream",
     "text": [
      "113/113 [==============================] - 1s 5ms/step - loss: 0.1305 - binary_accuracy: 0.8529 - val_loss: 0.1260 - val_binary_accuracy: 0.8540 - lr: 1.0000e-05\n",
      "Epoch 15/1000\n",
      "111/113 [============================>.] - ETA: 0s - loss: 0.1294 - binary_accuracy: 0.8531INFO:tensorflow:Assets written to: ../models/FCN/checkpoint/assets\n"
     ]
    },
    {
     "name": "stderr",
     "output_type": "stream",
     "text": [
      "INFO:tensorflow:Assets written to: ../models/FCN/checkpoint/assets\n"
     ]
    },
    {
     "name": "stdout",
     "output_type": "stream",
     "text": [
      "113/113 [==============================] - 1s 5ms/step - loss: 0.1294 - binary_accuracy: 0.8531 - val_loss: 0.1252 - val_binary_accuracy: 0.8540 - lr: 1.0000e-05\n",
      "Epoch 16/1000\n",
      "111/113 [============================>.] - ETA: 0s - loss: 0.1286 - binary_accuracy: 0.8532INFO:tensorflow:Assets written to: ../models/FCN/checkpoint/assets\n"
     ]
    },
    {
     "name": "stderr",
     "output_type": "stream",
     "text": [
      "INFO:tensorflow:Assets written to: ../models/FCN/checkpoint/assets\n"
     ]
    },
    {
     "name": "stdout",
     "output_type": "stream",
     "text": [
      "113/113 [==============================] - 1s 5ms/step - loss: 0.1286 - binary_accuracy: 0.8533 - val_loss: 0.1247 - val_binary_accuracy: 0.8540 - lr: 1.0000e-05\n",
      "Epoch 17/1000\n",
      "111/113 [============================>.] - ETA: 0s - loss: 0.1281 - binary_accuracy: 0.8533INFO:tensorflow:Assets written to: ../models/FCN/checkpoint/assets\n"
     ]
    },
    {
     "name": "stderr",
     "output_type": "stream",
     "text": [
      "INFO:tensorflow:Assets written to: ../models/FCN/checkpoint/assets\n"
     ]
    },
    {
     "name": "stdout",
     "output_type": "stream",
     "text": [
      "113/113 [==============================] - 1s 10ms/step - loss: 0.1280 - binary_accuracy: 0.8534 - val_loss: 0.1243 - val_binary_accuracy: 0.8540 - lr: 1.0000e-05\n",
      "Epoch 18/1000\n",
      " 85/113 [=====================>........] - ETA: 0s - loss: 0.1276 - binary_accuracy: 0.8533INFO:tensorflow:Assets written to: ../models/FCN/checkpoint/assets\n"
     ]
    },
    {
     "name": "stderr",
     "output_type": "stream",
     "text": [
      "INFO:tensorflow:Assets written to: ../models/FCN/checkpoint/assets\n"
     ]
    },
    {
     "name": "stdout",
     "output_type": "stream",
     "text": [
      "113/113 [==============================] - 1s 4ms/step - loss: 0.1276 - binary_accuracy: 0.8533 - val_loss: 0.1241 - val_binary_accuracy: 0.8540 - lr: 1.0000e-05\n",
      "Epoch 19/1000\n",
      "112/113 [============================>.] - ETA: 0s - loss: 0.1273 - binary_accuracy: 0.8534INFO:tensorflow:Assets written to: ../models/FCN/checkpoint/assets\n"
     ]
    },
    {
     "name": "stderr",
     "output_type": "stream",
     "text": [
      "INFO:tensorflow:Assets written to: ../models/FCN/checkpoint/assets\n"
     ]
    },
    {
     "name": "stdout",
     "output_type": "stream",
     "text": [
      "113/113 [==============================] - 1s 5ms/step - loss: 0.1274 - binary_accuracy: 0.8534 - val_loss: 0.1239 - val_binary_accuracy: 0.8540 - lr: 1.0000e-05\n",
      "Epoch 20/1000\n",
      " 98/113 [=========================>....] - ETA: 0s - loss: 0.1270 - binary_accuracy: 0.8537INFO:tensorflow:Assets written to: ../models/FCN/checkpoint/assets\n"
     ]
    },
    {
     "name": "stderr",
     "output_type": "stream",
     "text": [
      "INFO:tensorflow:Assets written to: ../models/FCN/checkpoint/assets\n"
     ]
    },
    {
     "name": "stdout",
     "output_type": "stream",
     "text": [
      "113/113 [==============================] - 1s 5ms/step - loss: 0.1272 - binary_accuracy: 0.8534 - val_loss: 0.1237 - val_binary_accuracy: 0.8540 - lr: 1.0000e-05\n",
      "Epoch 21/1000\n",
      " 85/113 [=====================>........] - ETA: 0s - loss: 0.1267 - binary_accuracy: 0.8537INFO:tensorflow:Assets written to: ../models/FCN/checkpoint/assets\n"
     ]
    },
    {
     "name": "stderr",
     "output_type": "stream",
     "text": [
      "INFO:tensorflow:Assets written to: ../models/FCN/checkpoint/assets\n"
     ]
    },
    {
     "name": "stdout",
     "output_type": "stream",
     "text": [
      "113/113 [==============================] - 0s 4ms/step - loss: 0.1270 - binary_accuracy: 0.8534 - val_loss: 0.1236 - val_binary_accuracy: 0.8540 - lr: 1.0000e-05\n",
      "Epoch 22/1000\n",
      " 86/113 [=====================>........] - ETA: 0s - loss: 0.1269 - binary_accuracy: 0.8532INFO:tensorflow:Assets written to: ../models/FCN/checkpoint/assets\n"
     ]
    },
    {
     "name": "stderr",
     "output_type": "stream",
     "text": [
      "INFO:tensorflow:Assets written to: ../models/FCN/checkpoint/assets\n"
     ]
    },
    {
     "name": "stdout",
     "output_type": "stream",
     "text": [
      "113/113 [==============================] - 1s 4ms/step - loss: 0.1268 - binary_accuracy: 0.8534 - val_loss: 0.1235 - val_binary_accuracy: 0.8540 - lr: 1.0000e-05\n",
      "Epoch 23/1000\n",
      " 86/113 [=====================>........] - ETA: 0s - loss: 0.1267 - binary_accuracy: 0.8534INFO:tensorflow:Assets written to: ../models/FCN/checkpoint/assets\n"
     ]
    },
    {
     "name": "stderr",
     "output_type": "stream",
     "text": [
      "INFO:tensorflow:Assets written to: ../models/FCN/checkpoint/assets\n"
     ]
    },
    {
     "name": "stdout",
     "output_type": "stream",
     "text": [
      "113/113 [==============================] - 1s 4ms/step - loss: 0.1266 - binary_accuracy: 0.8534 - val_loss: 0.1234 - val_binary_accuracy: 0.8540 - lr: 1.0000e-05\n",
      "Epoch 24/1000\n",
      " 99/113 [=========================>....] - ETA: 0s - loss: 0.1265 - binary_accuracy: 0.8536INFO:tensorflow:Assets written to: ../models/FCN/checkpoint/assets\n"
     ]
    },
    {
     "name": "stderr",
     "output_type": "stream",
     "text": [
      "INFO:tensorflow:Assets written to: ../models/FCN/checkpoint/assets\n"
     ]
    },
    {
     "name": "stdout",
     "output_type": "stream",
     "text": [
      "113/113 [==============================] - 1s 5ms/step - loss: 0.1267 - binary_accuracy: 0.8534 - val_loss: 0.1233 - val_binary_accuracy: 0.8540 - lr: 1.0000e-05\n",
      "Epoch 25/1000\n",
      "109/113 [===========================>..] - ETA: 0s - loss: 0.1264 - binary_accuracy: 0.8533INFO:tensorflow:Assets written to: ../models/FCN/checkpoint/assets\n"
     ]
    },
    {
     "name": "stderr",
     "output_type": "stream",
     "text": [
      "INFO:tensorflow:Assets written to: ../models/FCN/checkpoint/assets\n"
     ]
    },
    {
     "name": "stdout",
     "output_type": "stream",
     "text": [
      "113/113 [==============================] - 1s 5ms/step - loss: 0.1264 - binary_accuracy: 0.8534 - val_loss: 0.1232 - val_binary_accuracy: 0.8540 - lr: 1.0000e-05\n",
      "Epoch 26/1000\n",
      "109/113 [===========================>..] - ETA: 0s - loss: 0.1262 - binary_accuracy: 0.8535INFO:tensorflow:Assets written to: ../models/FCN/checkpoint/assets\n"
     ]
    },
    {
     "name": "stderr",
     "output_type": "stream",
     "text": [
      "INFO:tensorflow:Assets written to: ../models/FCN/checkpoint/assets\n"
     ]
    },
    {
     "name": "stdout",
     "output_type": "stream",
     "text": [
      "113/113 [==============================] - 1s 5ms/step - loss: 0.1263 - binary_accuracy: 0.8534 - val_loss: 0.1231 - val_binary_accuracy: 0.8540 - lr: 1.0000e-05\n",
      "Epoch 27/1000\n",
      "113/113 [==============================] - ETA: 0s - loss: 0.1263 - binary_accuracy: 0.8535INFO:tensorflow:Assets written to: ../models/FCN/checkpoint/assets\n"
     ]
    },
    {
     "name": "stderr",
     "output_type": "stream",
     "text": [
      "INFO:tensorflow:Assets written to: ../models/FCN/checkpoint/assets\n"
     ]
    },
    {
     "name": "stdout",
     "output_type": "stream",
     "text": [
      "113/113 [==============================] - 1s 4ms/step - loss: 0.1263 - binary_accuracy: 0.8535 - val_loss: 0.1230 - val_binary_accuracy: 0.8540 - lr: 1.0000e-05\n",
      "Epoch 28/1000\n",
      " 84/113 [=====================>........] - ETA: 0s - loss: 0.1256 - binary_accuracy: 0.8542INFO:tensorflow:Assets written to: ../models/FCN/checkpoint/assets\n"
     ]
    },
    {
     "name": "stderr",
     "output_type": "stream",
     "text": [
      "INFO:tensorflow:Assets written to: ../models/FCN/checkpoint/assets\n"
     ]
    },
    {
     "name": "stdout",
     "output_type": "stream",
     "text": [
      "113/113 [==============================] - 0s 4ms/step - loss: 0.1261 - binary_accuracy: 0.8534 - val_loss: 0.1230 - val_binary_accuracy: 0.8540 - lr: 1.0000e-05\n",
      "Epoch 29/1000\n",
      " 86/113 [=====================>........] - ETA: 0s - loss: 0.1265 - binary_accuracy: 0.8527INFO:tensorflow:Assets written to: ../models/FCN/checkpoint/assets\n"
     ]
    },
    {
     "name": "stderr",
     "output_type": "stream",
     "text": [
      "INFO:tensorflow:Assets written to: ../models/FCN/checkpoint/assets\n"
     ]
    },
    {
     "name": "stdout",
     "output_type": "stream",
     "text": [
      "113/113 [==============================] - 1s 5ms/step - loss: 0.1261 - binary_accuracy: 0.8534 - val_loss: 0.1229 - val_binary_accuracy: 0.8540 - lr: 1.0000e-05\n",
      "Epoch 30/1000\n",
      " 87/113 [======================>.......] - ETA: 0s - loss: 0.1264 - binary_accuracy: 0.8528INFO:tensorflow:Assets written to: ../models/FCN/checkpoint/assets\n"
     ]
    },
    {
     "name": "stderr",
     "output_type": "stream",
     "text": [
      "INFO:tensorflow:Assets written to: ../models/FCN/checkpoint/assets\n"
     ]
    },
    {
     "name": "stdout",
     "output_type": "stream",
     "text": [
      "113/113 [==============================] - 0s 4ms/step - loss: 0.1259 - binary_accuracy: 0.8534 - val_loss: 0.1228 - val_binary_accuracy: 0.8540 - lr: 1.0000e-05\n",
      "Epoch 31/1000\n",
      "112/113 [============================>.] - ETA: 0s - loss: 0.1257 - binary_accuracy: 0.8534INFO:tensorflow:Assets written to: ../models/FCN/checkpoint/assets\n"
     ]
    },
    {
     "name": "stderr",
     "output_type": "stream",
     "text": [
      "INFO:tensorflow:Assets written to: ../models/FCN/checkpoint/assets\n"
     ]
    },
    {
     "name": "stdout",
     "output_type": "stream",
     "text": [
      "113/113 [==============================] - 0s 4ms/step - loss: 0.1257 - binary_accuracy: 0.8534 - val_loss: 0.1228 - val_binary_accuracy: 0.8540 - lr: 1.0000e-05\n",
      "Epoch 32/1000\n",
      " 87/113 [======================>.......] - ETA: 0s - loss: 0.1259 - binary_accuracy: 0.8532INFO:tensorflow:Assets written to: ../models/FCN/checkpoint/assets\n"
     ]
    },
    {
     "name": "stderr",
     "output_type": "stream",
     "text": [
      "INFO:tensorflow:Assets written to: ../models/FCN/checkpoint/assets\n"
     ]
    },
    {
     "name": "stdout",
     "output_type": "stream",
     "text": [
      "113/113 [==============================] - 0s 4ms/step - loss: 0.1257 - binary_accuracy: 0.8534 - val_loss: 0.1227 - val_binary_accuracy: 0.8540 - lr: 1.0000e-05\n",
      "Epoch 33/1000\n",
      " 87/113 [======================>.......] - ETA: 0s - loss: 0.1260 - binary_accuracy: 0.8530INFO:tensorflow:Assets written to: ../models/FCN/checkpoint/assets\n"
     ]
    },
    {
     "name": "stderr",
     "output_type": "stream",
     "text": [
      "INFO:tensorflow:Assets written to: ../models/FCN/checkpoint/assets\n"
     ]
    },
    {
     "name": "stdout",
     "output_type": "stream",
     "text": [
      "113/113 [==============================] - 0s 4ms/step - loss: 0.1257 - binary_accuracy: 0.8534 - val_loss: 0.1227 - val_binary_accuracy: 0.8540 - lr: 1.0000e-05\n",
      "Epoch 34/1000\n",
      " 99/113 [=========================>....] - ETA: 0s - loss: 0.1255 - binary_accuracy: 0.8535INFO:tensorflow:Assets written to: ../models/FCN/checkpoint/assets\n"
     ]
    },
    {
     "name": "stderr",
     "output_type": "stream",
     "text": [
      "INFO:tensorflow:Assets written to: ../models/FCN/checkpoint/assets\n"
     ]
    },
    {
     "name": "stdout",
     "output_type": "stream",
     "text": [
      "113/113 [==============================] - 1s 5ms/step - loss: 0.1255 - binary_accuracy: 0.8534 - val_loss: 0.1226 - val_binary_accuracy: 0.8540 - lr: 1.0000e-05\n",
      "Epoch 35/1000\n",
      "102/113 [==========================>...] - ETA: 0s - loss: 0.1257 - binary_accuracy: 0.8531INFO:tensorflow:Assets written to: ../models/FCN/checkpoint/assets\n"
     ]
    },
    {
     "name": "stderr",
     "output_type": "stream",
     "text": [
      "INFO:tensorflow:Assets written to: ../models/FCN/checkpoint/assets\n"
     ]
    },
    {
     "name": "stdout",
     "output_type": "stream",
     "text": [
      "113/113 [==============================] - 1s 5ms/step - loss: 0.1255 - binary_accuracy: 0.8535 - val_loss: 0.1225 - val_binary_accuracy: 0.8540 - lr: 1.0000e-05\n",
      "Epoch 36/1000\n",
      " 88/113 [======================>.......] - ETA: 0s - loss: 0.1252 - binary_accuracy: 0.8536INFO:tensorflow:Assets written to: ../models/FCN/checkpoint/assets\n"
     ]
    },
    {
     "name": "stderr",
     "output_type": "stream",
     "text": [
      "INFO:tensorflow:Assets written to: ../models/FCN/checkpoint/assets\n"
     ]
    },
    {
     "name": "stdout",
     "output_type": "stream",
     "text": [
      "113/113 [==============================] - 0s 4ms/step - loss: 0.1253 - binary_accuracy: 0.8535 - val_loss: 0.1225 - val_binary_accuracy: 0.8540 - lr: 1.0000e-05\n",
      "Epoch 37/1000\n",
      "107/113 [===========================>..] - ETA: 0s - loss: 0.1254 - binary_accuracy: 0.8534INFO:tensorflow:Assets written to: ../models/FCN/checkpoint/assets\n"
     ]
    },
    {
     "name": "stderr",
     "output_type": "stream",
     "text": [
      "INFO:tensorflow:Assets written to: ../models/FCN/checkpoint/assets\n"
     ]
    },
    {
     "name": "stdout",
     "output_type": "stream",
     "text": [
      "113/113 [==============================] - 1s 9ms/step - loss: 0.1254 - binary_accuracy: 0.8534 - val_loss: 0.1224 - val_binary_accuracy: 0.8540 - lr: 1.0000e-05\n",
      "Epoch 38/1000\n",
      "104/113 [==========================>...] - ETA: 0s - loss: 0.1253 - binary_accuracy: 0.8533INFO:tensorflow:Assets written to: ../models/FCN/checkpoint/assets\n"
     ]
    },
    {
     "name": "stderr",
     "output_type": "stream",
     "text": [
      "INFO:tensorflow:Assets written to: ../models/FCN/checkpoint/assets\n"
     ]
    },
    {
     "name": "stdout",
     "output_type": "stream",
     "text": [
      "113/113 [==============================] - 1s 5ms/step - loss: 0.1252 - binary_accuracy: 0.8535 - val_loss: 0.1224 - val_binary_accuracy: 0.8540 - lr: 1.0000e-05\n",
      "Epoch 39/1000\n",
      "107/113 [===========================>..] - ETA: 0s - loss: 0.1252 - binary_accuracy: 0.8535INFO:tensorflow:Assets written to: ../models/FCN/checkpoint/assets\n"
     ]
    },
    {
     "name": "stderr",
     "output_type": "stream",
     "text": [
      "INFO:tensorflow:Assets written to: ../models/FCN/checkpoint/assets\n"
     ]
    },
    {
     "name": "stdout",
     "output_type": "stream",
     "text": [
      "113/113 [==============================] - 1s 5ms/step - loss: 0.1253 - binary_accuracy: 0.8534 - val_loss: 0.1223 - val_binary_accuracy: 0.8540 - lr: 1.0000e-05\n",
      "Epoch 40/1000\n",
      "105/113 [==========================>...] - ETA: 0s - loss: 0.1251 - binary_accuracy: 0.8536INFO:tensorflow:Assets written to: ../models/FCN/checkpoint/assets\n"
     ]
    },
    {
     "name": "stderr",
     "output_type": "stream",
     "text": [
      "INFO:tensorflow:Assets written to: ../models/FCN/checkpoint/assets\n"
     ]
    },
    {
     "name": "stdout",
     "output_type": "stream",
     "text": [
      "113/113 [==============================] - 1s 5ms/step - loss: 0.1251 - binary_accuracy: 0.8534 - val_loss: 0.1223 - val_binary_accuracy: 0.8540 - lr: 1.0000e-05\n",
      "Epoch 41/1000\n",
      " 85/113 [=====================>........] - ETA: 0s - loss: 0.1250 - binary_accuracy: 0.8536INFO:tensorflow:Assets written to: ../models/FCN/checkpoint/assets\n"
     ]
    },
    {
     "name": "stderr",
     "output_type": "stream",
     "text": [
      "INFO:tensorflow:Assets written to: ../models/FCN/checkpoint/assets\n"
     ]
    },
    {
     "name": "stdout",
     "output_type": "stream",
     "text": [
      "113/113 [==============================] - 1s 4ms/step - loss: 0.1251 - binary_accuracy: 0.8535 - val_loss: 0.1222 - val_binary_accuracy: 0.8540 - lr: 1.0000e-05\n",
      "Epoch 42/1000\n",
      " 94/113 [=======================>......] - ETA: 0s - loss: 0.1248 - binary_accuracy: 0.8538INFO:tensorflow:Assets written to: ../models/FCN/checkpoint/assets\n"
     ]
    },
    {
     "name": "stderr",
     "output_type": "stream",
     "text": [
      "INFO:tensorflow:Assets written to: ../models/FCN/checkpoint/assets\n"
     ]
    },
    {
     "name": "stdout",
     "output_type": "stream",
     "text": [
      "113/113 [==============================] - 1s 5ms/step - loss: 0.1250 - binary_accuracy: 0.8535 - val_loss: 0.1221 - val_binary_accuracy: 0.8540 - lr: 1.0000e-05\n",
      "Epoch 43/1000\n",
      " 85/113 [=====================>........] - ETA: 0s - loss: 0.1246 - binary_accuracy: 0.8538INFO:tensorflow:Assets written to: ../models/FCN/checkpoint/assets\n"
     ]
    },
    {
     "name": "stderr",
     "output_type": "stream",
     "text": [
      "INFO:tensorflow:Assets written to: ../models/FCN/checkpoint/assets\n"
     ]
    },
    {
     "name": "stdout",
     "output_type": "stream",
     "text": [
      "113/113 [==============================] - 1s 4ms/step - loss: 0.1248 - binary_accuracy: 0.8535 - val_loss: 0.1221 - val_binary_accuracy: 0.8540 - lr: 1.0000e-05\n",
      "Epoch 44/1000\n",
      " 86/113 [=====================>........] - ETA: 0s - loss: 0.1245 - binary_accuracy: 0.8538INFO:tensorflow:Assets written to: ../models/FCN/checkpoint/assets\n"
     ]
    },
    {
     "name": "stderr",
     "output_type": "stream",
     "text": [
      "INFO:tensorflow:Assets written to: ../models/FCN/checkpoint/assets\n"
     ]
    },
    {
     "name": "stdout",
     "output_type": "stream",
     "text": [
      "113/113 [==============================] - 0s 4ms/step - loss: 0.1247 - binary_accuracy: 0.8535 - val_loss: 0.1220 - val_binary_accuracy: 0.8540 - lr: 1.0000e-05\n",
      "Epoch 45/1000\n",
      " 86/113 [=====================>........] - ETA: 0s - loss: 0.1249 - binary_accuracy: 0.8531INFO:tensorflow:Assets written to: ../models/FCN/checkpoint/assets\n"
     ]
    },
    {
     "name": "stderr",
     "output_type": "stream",
     "text": [
      "INFO:tensorflow:Assets written to: ../models/FCN/checkpoint/assets\n"
     ]
    },
    {
     "name": "stdout",
     "output_type": "stream",
     "text": [
      "113/113 [==============================] - 0s 4ms/step - loss: 0.1247 - binary_accuracy: 0.8535 - val_loss: 0.1220 - val_binary_accuracy: 0.8540 - lr: 1.0000e-05\n",
      "Epoch 46/1000\n",
      " 86/113 [=====================>........] - ETA: 0s - loss: 0.1242 - binary_accuracy: 0.8538INFO:tensorflow:Assets written to: ../models/FCN/checkpoint/assets\n"
     ]
    },
    {
     "name": "stderr",
     "output_type": "stream",
     "text": [
      "INFO:tensorflow:Assets written to: ../models/FCN/checkpoint/assets\n"
     ]
    },
    {
     "name": "stdout",
     "output_type": "stream",
     "text": [
      "113/113 [==============================] - 0s 4ms/step - loss: 0.1245 - binary_accuracy: 0.8535 - val_loss: 0.1219 - val_binary_accuracy: 0.8540 - lr: 1.0000e-05\n",
      "Epoch 47/1000\n",
      " 99/113 [=========================>....] - ETA: 0s - loss: 0.1247 - binary_accuracy: 0.8534INFO:tensorflow:Assets written to: ../models/FCN/checkpoint/assets\n"
     ]
    },
    {
     "name": "stderr",
     "output_type": "stream",
     "text": [
      "INFO:tensorflow:Assets written to: ../models/FCN/checkpoint/assets\n"
     ]
    },
    {
     "name": "stdout",
     "output_type": "stream",
     "text": [
      "113/113 [==============================] - 1s 5ms/step - loss: 0.1246 - binary_accuracy: 0.8535 - val_loss: 0.1218 - val_binary_accuracy: 0.8540 - lr: 1.0000e-05\n",
      "Epoch 48/1000\n",
      " 85/113 [=====================>........] - ETA: 0s - loss: 0.1247 - binary_accuracy: 0.8530INFO:tensorflow:Assets written to: ../models/FCN/checkpoint/assets\n"
     ]
    },
    {
     "name": "stderr",
     "output_type": "stream",
     "text": [
      "INFO:tensorflow:Assets written to: ../models/FCN/checkpoint/assets\n"
     ]
    },
    {
     "name": "stdout",
     "output_type": "stream",
     "text": [
      "113/113 [==============================] - 0s 4ms/step - loss: 0.1244 - binary_accuracy: 0.8535 - val_loss: 0.1218 - val_binary_accuracy: 0.8540 - lr: 1.0000e-05\n",
      "Epoch 49/1000\n",
      " 85/113 [=====================>........] - ETA: 0s - loss: 0.1243 - binary_accuracy: 0.8536INFO:tensorflow:Assets written to: ../models/FCN/checkpoint/assets\n"
     ]
    },
    {
     "name": "stderr",
     "output_type": "stream",
     "text": [
      "INFO:tensorflow:Assets written to: ../models/FCN/checkpoint/assets\n"
     ]
    },
    {
     "name": "stdout",
     "output_type": "stream",
     "text": [
      "113/113 [==============================] - 0s 4ms/step - loss: 0.1243 - binary_accuracy: 0.8535 - val_loss: 0.1217 - val_binary_accuracy: 0.8540 - lr: 1.0000e-05\n",
      "Epoch 50/1000\n",
      " 85/113 [=====================>........] - ETA: 0s - loss: 0.1243 - binary_accuracy: 0.8534INFO:tensorflow:Assets written to: ../models/FCN/checkpoint/assets\n"
     ]
    },
    {
     "name": "stderr",
     "output_type": "stream",
     "text": [
      "INFO:tensorflow:Assets written to: ../models/FCN/checkpoint/assets\n"
     ]
    },
    {
     "name": "stdout",
     "output_type": "stream",
     "text": [
      "113/113 [==============================] - 1s 4ms/step - loss: 0.1243 - binary_accuracy: 0.8535 - val_loss: 0.1216 - val_binary_accuracy: 0.8540 - lr: 1.0000e-05\n",
      "Epoch 51/1000\n",
      "101/113 [=========================>....] - ETA: 0s - loss: 0.1246 - binary_accuracy: 0.8533INFO:tensorflow:Assets written to: ../models/FCN/checkpoint/assets\n"
     ]
    },
    {
     "name": "stderr",
     "output_type": "stream",
     "text": [
      "INFO:tensorflow:Assets written to: ../models/FCN/checkpoint/assets\n"
     ]
    },
    {
     "name": "stdout",
     "output_type": "stream",
     "text": [
      "113/113 [==============================] - 1s 5ms/step - loss: 0.1243 - binary_accuracy: 0.8535 - val_loss: 0.1216 - val_binary_accuracy: 0.8540 - lr: 1.0000e-05\n",
      "Epoch 52/1000\n",
      " 86/113 [=====================>........] - ETA: 0s - loss: 0.1243 - binary_accuracy: 0.8532INFO:tensorflow:Assets written to: ../models/FCN/checkpoint/assets\n"
     ]
    },
    {
     "name": "stderr",
     "output_type": "stream",
     "text": [
      "INFO:tensorflow:Assets written to: ../models/FCN/checkpoint/assets\n"
     ]
    },
    {
     "name": "stdout",
     "output_type": "stream",
     "text": [
      "113/113 [==============================] - 0s 4ms/step - loss: 0.1240 - binary_accuracy: 0.8535 - val_loss: 0.1215 - val_binary_accuracy: 0.8540 - lr: 1.0000e-05\n",
      "Epoch 53/1000\n",
      " 85/113 [=====================>........] - ETA: 0s - loss: 0.1241 - binary_accuracy: 0.8536INFO:tensorflow:Assets written to: ../models/FCN/checkpoint/assets\n"
     ]
    },
    {
     "name": "stderr",
     "output_type": "stream",
     "text": [
      "INFO:tensorflow:Assets written to: ../models/FCN/checkpoint/assets\n"
     ]
    },
    {
     "name": "stdout",
     "output_type": "stream",
     "text": [
      "113/113 [==============================] - 0s 4ms/step - loss: 0.1241 - binary_accuracy: 0.8535 - val_loss: 0.1215 - val_binary_accuracy: 0.8540 - lr: 1.0000e-05\n",
      "Epoch 54/1000\n",
      " 87/113 [======================>.......] - ETA: 0s - loss: 0.1238 - binary_accuracy: 0.8535INFO:tensorflow:Assets written to: ../models/FCN/checkpoint/assets\n"
     ]
    },
    {
     "name": "stderr",
     "output_type": "stream",
     "text": [
      "INFO:tensorflow:Assets written to: ../models/FCN/checkpoint/assets\n"
     ]
    },
    {
     "name": "stdout",
     "output_type": "stream",
     "text": [
      "113/113 [==============================] - 0s 4ms/step - loss: 0.1238 - binary_accuracy: 0.8535 - val_loss: 0.1214 - val_binary_accuracy: 0.8540 - lr: 1.0000e-05\n",
      "Epoch 55/1000\n",
      " 88/113 [======================>.......] - ETA: 0s - loss: 0.1234 - binary_accuracy: 0.8540INFO:tensorflow:Assets written to: ../models/FCN/checkpoint/assets\n"
     ]
    },
    {
     "name": "stderr",
     "output_type": "stream",
     "text": [
      "INFO:tensorflow:Assets written to: ../models/FCN/checkpoint/assets\n"
     ]
    },
    {
     "name": "stdout",
     "output_type": "stream",
     "text": [
      "113/113 [==============================] - 0s 4ms/step - loss: 0.1237 - binary_accuracy: 0.8535 - val_loss: 0.1213 - val_binary_accuracy: 0.8540 - lr: 1.0000e-05\n",
      "Epoch 56/1000\n",
      " 87/113 [======================>.......] - ETA: 0s - loss: 0.1238 - binary_accuracy: 0.8532INFO:tensorflow:Assets written to: ../models/FCN/checkpoint/assets\n"
     ]
    },
    {
     "name": "stderr",
     "output_type": "stream",
     "text": [
      "INFO:tensorflow:Assets written to: ../models/FCN/checkpoint/assets\n"
     ]
    },
    {
     "name": "stdout",
     "output_type": "stream",
     "text": [
      "113/113 [==============================] - 0s 4ms/step - loss: 0.1236 - binary_accuracy: 0.8536 - val_loss: 0.1212 - val_binary_accuracy: 0.8540 - lr: 1.0000e-05\n",
      "Epoch 57/1000\n",
      "112/113 [============================>.] - ETA: 0s - loss: 0.1235 - binary_accuracy: 0.8536INFO:tensorflow:Assets written to: ../models/FCN/checkpoint/assets\n"
     ]
    },
    {
     "name": "stderr",
     "output_type": "stream",
     "text": [
      "INFO:tensorflow:Assets written to: ../models/FCN/checkpoint/assets\n"
     ]
    },
    {
     "name": "stdout",
     "output_type": "stream",
     "text": [
      "113/113 [==============================] - 1s 5ms/step - loss: 0.1235 - binary_accuracy: 0.8536 - val_loss: 0.1212 - val_binary_accuracy: 0.8540 - lr: 1.0000e-05\n",
      "Epoch 58/1000\n",
      "105/113 [==========================>...] - ETA: 0s - loss: 0.1234 - binary_accuracy: 0.8536INFO:tensorflow:Assets written to: ../models/FCN/checkpoint/assets\n"
     ]
    },
    {
     "name": "stderr",
     "output_type": "stream",
     "text": [
      "INFO:tensorflow:Assets written to: ../models/FCN/checkpoint/assets\n"
     ]
    },
    {
     "name": "stdout",
     "output_type": "stream",
     "text": [
      "113/113 [==============================] - 1s 9ms/step - loss: 0.1234 - binary_accuracy: 0.8536 - val_loss: 0.1211 - val_binary_accuracy: 0.8540 - lr: 1.0000e-05\n",
      "Epoch 59/1000\n",
      "107/113 [===========================>..] - ETA: 0s - loss: 0.1235 - binary_accuracy: 0.8536INFO:tensorflow:Assets written to: ../models/FCN/checkpoint/assets\n"
     ]
    },
    {
     "name": "stderr",
     "output_type": "stream",
     "text": [
      "INFO:tensorflow:Assets written to: ../models/FCN/checkpoint/assets\n"
     ]
    },
    {
     "name": "stdout",
     "output_type": "stream",
     "text": [
      "113/113 [==============================] - 1s 5ms/step - loss: 0.1235 - binary_accuracy: 0.8536 - val_loss: 0.1210 - val_binary_accuracy: 0.8540 - lr: 1.0000e-05\n",
      "Epoch 60/1000\n",
      " 88/113 [======================>.......] - ETA: 0s - loss: 0.1237 - binary_accuracy: 0.8533INFO:tensorflow:Assets written to: ../models/FCN/checkpoint/assets\n"
     ]
    },
    {
     "name": "stderr",
     "output_type": "stream",
     "text": [
      "INFO:tensorflow:Assets written to: ../models/FCN/checkpoint/assets\n"
     ]
    },
    {
     "name": "stdout",
     "output_type": "stream",
     "text": [
      "113/113 [==============================] - 1s 5ms/step - loss: 0.1234 - binary_accuracy: 0.8536 - val_loss: 0.1210 - val_binary_accuracy: 0.8540 - lr: 1.0000e-05\n",
      "Epoch 61/1000\n",
      "112/113 [============================>.] - ETA: 0s - loss: 0.1233 - binary_accuracy: 0.8535INFO:tensorflow:Assets written to: ../models/FCN/checkpoint/assets\n"
     ]
    },
    {
     "name": "stderr",
     "output_type": "stream",
     "text": [
      "INFO:tensorflow:Assets written to: ../models/FCN/checkpoint/assets\n"
     ]
    },
    {
     "name": "stdout",
     "output_type": "stream",
     "text": [
      "113/113 [==============================] - 1s 5ms/step - loss: 0.1233 - binary_accuracy: 0.8536 - val_loss: 0.1209 - val_binary_accuracy: 0.8540 - lr: 1.0000e-05\n",
      "Epoch 62/1000\n",
      "111/113 [============================>.] - ETA: 0s - loss: 0.1233 - binary_accuracy: 0.8535INFO:tensorflow:Assets written to: ../models/FCN/checkpoint/assets\n"
     ]
    },
    {
     "name": "stderr",
     "output_type": "stream",
     "text": [
      "INFO:tensorflow:Assets written to: ../models/FCN/checkpoint/assets\n"
     ]
    },
    {
     "name": "stdout",
     "output_type": "stream",
     "text": [
      "113/113 [==============================] - 1s 5ms/step - loss: 0.1232 - binary_accuracy: 0.8536 - val_loss: 0.1208 - val_binary_accuracy: 0.8540 - lr: 1.0000e-05\n",
      "Epoch 63/1000\n",
      "109/113 [===========================>..] - ETA: 0s - loss: 0.1230 - binary_accuracy: 0.8536INFO:tensorflow:Assets written to: ../models/FCN/checkpoint/assets\n"
     ]
    },
    {
     "name": "stderr",
     "output_type": "stream",
     "text": [
      "INFO:tensorflow:Assets written to: ../models/FCN/checkpoint/assets\n"
     ]
    },
    {
     "name": "stdout",
     "output_type": "stream",
     "text": [
      "113/113 [==============================] - 1s 5ms/step - loss: 0.1230 - binary_accuracy: 0.8536 - val_loss: 0.1207 - val_binary_accuracy: 0.8540 - lr: 1.0000e-05\n",
      "Epoch 64/1000\n",
      "112/113 [============================>.] - ETA: 0s - loss: 0.1230 - binary_accuracy: 0.8537INFO:tensorflow:Assets written to: ../models/FCN/checkpoint/assets\n"
     ]
    },
    {
     "name": "stderr",
     "output_type": "stream",
     "text": [
      "INFO:tensorflow:Assets written to: ../models/FCN/checkpoint/assets\n"
     ]
    },
    {
     "name": "stdout",
     "output_type": "stream",
     "text": [
      "113/113 [==============================] - 1s 4ms/step - loss: 0.1230 - binary_accuracy: 0.8537 - val_loss: 0.1206 - val_binary_accuracy: 0.8540 - lr: 1.0000e-05\n",
      "Epoch 65/1000\n",
      "113/113 [==============================] - ETA: 0s - loss: 0.1229 - binary_accuracy: 0.8537INFO:tensorflow:Assets written to: ../models/FCN/checkpoint/assets\n"
     ]
    },
    {
     "name": "stderr",
     "output_type": "stream",
     "text": [
      "INFO:tensorflow:Assets written to: ../models/FCN/checkpoint/assets\n"
     ]
    },
    {
     "name": "stdout",
     "output_type": "stream",
     "text": [
      "113/113 [==============================] - 1s 4ms/step - loss: 0.1229 - binary_accuracy: 0.8537 - val_loss: 0.1205 - val_binary_accuracy: 0.8540 - lr: 1.0000e-05\n",
      "Epoch 66/1000\n",
      "111/113 [============================>.] - ETA: 0s - loss: 0.1228 - binary_accuracy: 0.8537INFO:tensorflow:Assets written to: ../models/FCN/checkpoint/assets\n"
     ]
    },
    {
     "name": "stderr",
     "output_type": "stream",
     "text": [
      "INFO:tensorflow:Assets written to: ../models/FCN/checkpoint/assets\n"
     ]
    },
    {
     "name": "stdout",
     "output_type": "stream",
     "text": [
      "113/113 [==============================] - 1s 5ms/step - loss: 0.1228 - binary_accuracy: 0.8537 - val_loss: 0.1205 - val_binary_accuracy: 0.8540 - lr: 1.0000e-05\n",
      "Epoch 67/1000\n",
      "113/113 [==============================] - ETA: 0s - loss: 0.1227 - binary_accuracy: 0.8537INFO:tensorflow:Assets written to: ../models/FCN/checkpoint/assets\n"
     ]
    },
    {
     "name": "stderr",
     "output_type": "stream",
     "text": [
      "INFO:tensorflow:Assets written to: ../models/FCN/checkpoint/assets\n"
     ]
    },
    {
     "name": "stdout",
     "output_type": "stream",
     "text": [
      "113/113 [==============================] - 1s 4ms/step - loss: 0.1227 - binary_accuracy: 0.8537 - val_loss: 0.1204 - val_binary_accuracy: 0.8540 - lr: 1.0000e-05\n",
      "Epoch 68/1000\n",
      " 93/113 [=======================>......] - ETA: 0s - loss: 0.1229 - binary_accuracy: 0.8534INFO:tensorflow:Assets written to: ../models/FCN/checkpoint/assets\n"
     ]
    },
    {
     "name": "stderr",
     "output_type": "stream",
     "text": [
      "INFO:tensorflow:Assets written to: ../models/FCN/checkpoint/assets\n"
     ]
    },
    {
     "name": "stdout",
     "output_type": "stream",
     "text": [
      "113/113 [==============================] - 1s 5ms/step - loss: 0.1227 - binary_accuracy: 0.8537 - val_loss: 0.1203 - val_binary_accuracy: 0.8540 - lr: 1.0000e-05\n",
      "Epoch 69/1000\n",
      "112/113 [============================>.] - ETA: 0s - loss: 0.1226 - binary_accuracy: 0.8538INFO:tensorflow:Assets written to: ../models/FCN/checkpoint/assets\n"
     ]
    },
    {
     "name": "stderr",
     "output_type": "stream",
     "text": [
      "INFO:tensorflow:Assets written to: ../models/FCN/checkpoint/assets\n"
     ]
    },
    {
     "name": "stdout",
     "output_type": "stream",
     "text": [
      "113/113 [==============================] - 1s 5ms/step - loss: 0.1226 - binary_accuracy: 0.8537 - val_loss: 0.1202 - val_binary_accuracy: 0.8540 - lr: 1.0000e-05\n",
      "Epoch 70/1000\n",
      " 85/113 [=====================>........] - ETA: 0s - loss: 0.1224 - binary_accuracy: 0.8538INFO:tensorflow:Assets written to: ../models/FCN/checkpoint/assets\n"
     ]
    },
    {
     "name": "stderr",
     "output_type": "stream",
     "text": [
      "INFO:tensorflow:Assets written to: ../models/FCN/checkpoint/assets\n"
     ]
    },
    {
     "name": "stdout",
     "output_type": "stream",
     "text": [
      "113/113 [==============================] - 0s 4ms/step - loss: 0.1225 - binary_accuracy: 0.8537 - val_loss: 0.1201 - val_binary_accuracy: 0.8540 - lr: 1.0000e-05\n",
      "Epoch 71/1000\n",
      " 85/113 [=====================>........] - ETA: 0s - loss: 0.1225 - binary_accuracy: 0.8536INFO:tensorflow:Assets written to: ../models/FCN/checkpoint/assets\n"
     ]
    },
    {
     "name": "stderr",
     "output_type": "stream",
     "text": [
      "INFO:tensorflow:Assets written to: ../models/FCN/checkpoint/assets\n"
     ]
    },
    {
     "name": "stdout",
     "output_type": "stream",
     "text": [
      "113/113 [==============================] - 1s 4ms/step - loss: 0.1222 - binary_accuracy: 0.8538 - val_loss: 0.1200 - val_binary_accuracy: 0.8540 - lr: 1.0000e-05\n",
      "Epoch 72/1000\n",
      " 85/113 [=====================>........] - ETA: 0s - loss: 0.1221 - binary_accuracy: 0.8539INFO:tensorflow:Assets written to: ../models/FCN/checkpoint/assets\n"
     ]
    },
    {
     "name": "stderr",
     "output_type": "stream",
     "text": [
      "INFO:tensorflow:Assets written to: ../models/FCN/checkpoint/assets\n"
     ]
    },
    {
     "name": "stdout",
     "output_type": "stream",
     "text": [
      "113/113 [==============================] - 1s 4ms/step - loss: 0.1222 - binary_accuracy: 0.8538 - val_loss: 0.1199 - val_binary_accuracy: 0.8540 - lr: 1.0000e-05\n",
      "Epoch 73/1000\n",
      " 85/113 [=====================>........] - ETA: 0s - loss: 0.1222 - binary_accuracy: 0.8537INFO:tensorflow:Assets written to: ../models/FCN/checkpoint/assets\n"
     ]
    },
    {
     "name": "stderr",
     "output_type": "stream",
     "text": [
      "INFO:tensorflow:Assets written to: ../models/FCN/checkpoint/assets\n"
     ]
    },
    {
     "name": "stdout",
     "output_type": "stream",
     "text": [
      "113/113 [==============================] - 1s 4ms/step - loss: 0.1222 - binary_accuracy: 0.8539 - val_loss: 0.1198 - val_binary_accuracy: 0.8541 - lr: 1.0000e-05\n",
      "Epoch 74/1000\n",
      " 85/113 [=====================>........] - ETA: 0s - loss: 0.1223 - binary_accuracy: 0.8532INFO:tensorflow:Assets written to: ../models/FCN/checkpoint/assets\n"
     ]
    },
    {
     "name": "stderr",
     "output_type": "stream",
     "text": [
      "INFO:tensorflow:Assets written to: ../models/FCN/checkpoint/assets\n"
     ]
    },
    {
     "name": "stdout",
     "output_type": "stream",
     "text": [
      "113/113 [==============================] - 0s 4ms/step - loss: 0.1220 - binary_accuracy: 0.8538 - val_loss: 0.1197 - val_binary_accuracy: 0.8541 - lr: 1.0000e-05\n",
      "Epoch 75/1000\n",
      "113/113 [==============================] - ETA: 0s - loss: 0.1220 - binary_accuracy: 0.8540INFO:tensorflow:Assets written to: ../models/FCN/checkpoint/assets\n"
     ]
    },
    {
     "name": "stderr",
     "output_type": "stream",
     "text": [
      "INFO:tensorflow:Assets written to: ../models/FCN/checkpoint/assets\n"
     ]
    },
    {
     "name": "stdout",
     "output_type": "stream",
     "text": [
      "113/113 [==============================] - 1s 4ms/step - loss: 0.1220 - binary_accuracy: 0.8540 - val_loss: 0.1196 - val_binary_accuracy: 0.8541 - lr: 1.0000e-05\n",
      "Epoch 76/1000\n",
      " 85/113 [=====================>........] - ETA: 0s - loss: 0.1215 - binary_accuracy: 0.8543INFO:tensorflow:Assets written to: ../models/FCN/checkpoint/assets\n"
     ]
    },
    {
     "name": "stderr",
     "output_type": "stream",
     "text": [
      "INFO:tensorflow:Assets written to: ../models/FCN/checkpoint/assets\n"
     ]
    },
    {
     "name": "stdout",
     "output_type": "stream",
     "text": [
      "113/113 [==============================] - 0s 4ms/step - loss: 0.1217 - binary_accuracy: 0.8540 - val_loss: 0.1195 - val_binary_accuracy: 0.8541 - lr: 1.0000e-05\n",
      "Epoch 77/1000\n",
      " 92/113 [=======================>......] - ETA: 0s - loss: 0.1216 - binary_accuracy: 0.8540INFO:tensorflow:Assets written to: ../models/FCN/checkpoint/assets\n"
     ]
    },
    {
     "name": "stderr",
     "output_type": "stream",
     "text": [
      "INFO:tensorflow:Assets written to: ../models/FCN/checkpoint/assets\n"
     ]
    },
    {
     "name": "stdout",
     "output_type": "stream",
     "text": [
      "113/113 [==============================] - 1s 5ms/step - loss: 0.1215 - binary_accuracy: 0.8541 - val_loss: 0.1194 - val_binary_accuracy: 0.8542 - lr: 1.0000e-05\n",
      "Epoch 78/1000\n",
      " 86/113 [=====================>........] - ETA: 0s - loss: 0.1214 - binary_accuracy: 0.8541INFO:tensorflow:Assets written to: ../models/FCN/checkpoint/assets\n"
     ]
    },
    {
     "name": "stderr",
     "output_type": "stream",
     "text": [
      "INFO:tensorflow:Assets written to: ../models/FCN/checkpoint/assets\n"
     ]
    },
    {
     "name": "stdout",
     "output_type": "stream",
     "text": [
      "113/113 [==============================] - 1s 9ms/step - loss: 0.1214 - binary_accuracy: 0.8540 - val_loss: 0.1193 - val_binary_accuracy: 0.8542 - lr: 1.0000e-05\n",
      "Epoch 79/1000\n",
      "112/113 [============================>.] - ETA: 0s - loss: 0.1215 - binary_accuracy: 0.8540INFO:tensorflow:Assets written to: ../models/FCN/checkpoint/assets\n"
     ]
    },
    {
     "name": "stderr",
     "output_type": "stream",
     "text": [
      "INFO:tensorflow:Assets written to: ../models/FCN/checkpoint/assets\n"
     ]
    },
    {
     "name": "stdout",
     "output_type": "stream",
     "text": [
      "113/113 [==============================] - 1s 5ms/step - loss: 0.1215 - binary_accuracy: 0.8540 - val_loss: 0.1192 - val_binary_accuracy: 0.8543 - lr: 1.0000e-05\n",
      "Epoch 80/1000\n",
      " 85/113 [=====================>........] - ETA: 0s - loss: 0.1213 - binary_accuracy: 0.8540INFO:tensorflow:Assets written to: ../models/FCN/checkpoint/assets\n"
     ]
    },
    {
     "name": "stderr",
     "output_type": "stream",
     "text": [
      "INFO:tensorflow:Assets written to: ../models/FCN/checkpoint/assets\n"
     ]
    },
    {
     "name": "stdout",
     "output_type": "stream",
     "text": [
      "113/113 [==============================] - 1s 4ms/step - loss: 0.1213 - binary_accuracy: 0.8540 - val_loss: 0.1191 - val_binary_accuracy: 0.8543 - lr: 1.0000e-05\n",
      "Epoch 81/1000\n",
      "109/113 [===========================>..] - ETA: 0s - loss: 0.1211 - binary_accuracy: 0.8541INFO:tensorflow:Assets written to: ../models/FCN/checkpoint/assets\n"
     ]
    },
    {
     "name": "stderr",
     "output_type": "stream",
     "text": [
      "INFO:tensorflow:Assets written to: ../models/FCN/checkpoint/assets\n"
     ]
    },
    {
     "name": "stdout",
     "output_type": "stream",
     "text": [
      "113/113 [==============================] - 1s 5ms/step - loss: 0.1211 - binary_accuracy: 0.8542 - val_loss: 0.1190 - val_binary_accuracy: 0.8543 - lr: 1.0000e-05\n",
      "Epoch 82/1000\n",
      "111/113 [============================>.] - ETA: 0s - loss: 0.1211 - binary_accuracy: 0.8542INFO:tensorflow:Assets written to: ../models/FCN/checkpoint/assets\n"
     ]
    },
    {
     "name": "stderr",
     "output_type": "stream",
     "text": [
      "INFO:tensorflow:Assets written to: ../models/FCN/checkpoint/assets\n"
     ]
    },
    {
     "name": "stdout",
     "output_type": "stream",
     "text": [
      "113/113 [==============================] - 1s 5ms/step - loss: 0.1210 - binary_accuracy: 0.8543 - val_loss: 0.1189 - val_binary_accuracy: 0.8544 - lr: 1.0000e-05\n",
      "Epoch 83/1000\n",
      "110/113 [============================>.] - ETA: 0s - loss: 0.1209 - binary_accuracy: 0.8541INFO:tensorflow:Assets written to: ../models/FCN/checkpoint/assets\n"
     ]
    },
    {
     "name": "stderr",
     "output_type": "stream",
     "text": [
      "INFO:tensorflow:Assets written to: ../models/FCN/checkpoint/assets\n"
     ]
    },
    {
     "name": "stdout",
     "output_type": "stream",
     "text": [
      "113/113 [==============================] - 1s 5ms/step - loss: 0.1209 - binary_accuracy: 0.8541 - val_loss: 0.1187 - val_binary_accuracy: 0.8544 - lr: 1.0000e-05\n",
      "Epoch 84/1000\n",
      "112/113 [============================>.] - ETA: 0s - loss: 0.1207 - binary_accuracy: 0.8543INFO:tensorflow:Assets written to: ../models/FCN/checkpoint/assets\n"
     ]
    },
    {
     "name": "stderr",
     "output_type": "stream",
     "text": [
      "INFO:tensorflow:Assets written to: ../models/FCN/checkpoint/assets\n"
     ]
    },
    {
     "name": "stdout",
     "output_type": "stream",
     "text": [
      "113/113 [==============================] - 1s 4ms/step - loss: 0.1207 - binary_accuracy: 0.8543 - val_loss: 0.1186 - val_binary_accuracy: 0.8545 - lr: 1.0000e-05\n",
      "Epoch 85/1000\n",
      " 93/113 [=======================>......] - ETA: 0s - loss: 0.1205 - binary_accuracy: 0.8546INFO:tensorflow:Assets written to: ../models/FCN/checkpoint/assets\n"
     ]
    },
    {
     "name": "stderr",
     "output_type": "stream",
     "text": [
      "INFO:tensorflow:Assets written to: ../models/FCN/checkpoint/assets\n"
     ]
    },
    {
     "name": "stdout",
     "output_type": "stream",
     "text": [
      "113/113 [==============================] - 1s 5ms/step - loss: 0.1206 - binary_accuracy: 0.8544 - val_loss: 0.1185 - val_binary_accuracy: 0.8545 - lr: 1.0000e-05\n",
      "Epoch 86/1000\n",
      " 86/113 [=====================>........] - ETA: 0s - loss: 0.1203 - binary_accuracy: 0.8548INFO:tensorflow:Assets written to: ../models/FCN/checkpoint/assets\n"
     ]
    },
    {
     "name": "stderr",
     "output_type": "stream",
     "text": [
      "INFO:tensorflow:Assets written to: ../models/FCN/checkpoint/assets\n"
     ]
    },
    {
     "name": "stdout",
     "output_type": "stream",
     "text": [
      "113/113 [==============================] - 0s 4ms/step - loss: 0.1205 - binary_accuracy: 0.8545 - val_loss: 0.1184 - val_binary_accuracy: 0.8546 - lr: 1.0000e-05\n",
      "Epoch 87/1000\n",
      "113/113 [==============================] - ETA: 0s - loss: 0.1205 - binary_accuracy: 0.8545INFO:tensorflow:Assets written to: ../models/FCN/checkpoint/assets\n"
     ]
    },
    {
     "name": "stderr",
     "output_type": "stream",
     "text": [
      "INFO:tensorflow:Assets written to: ../models/FCN/checkpoint/assets\n"
     ]
    },
    {
     "name": "stdout",
     "output_type": "stream",
     "text": [
      "113/113 [==============================] - 1s 4ms/step - loss: 0.1205 - binary_accuracy: 0.8545 - val_loss: 0.1183 - val_binary_accuracy: 0.8547 - lr: 1.0000e-05\n",
      "Epoch 88/1000\n",
      "112/113 [============================>.] - ETA: 0s - loss: 0.1203 - binary_accuracy: 0.8546INFO:tensorflow:Assets written to: ../models/FCN/checkpoint/assets\n"
     ]
    },
    {
     "name": "stderr",
     "output_type": "stream",
     "text": [
      "INFO:tensorflow:Assets written to: ../models/FCN/checkpoint/assets\n"
     ]
    },
    {
     "name": "stdout",
     "output_type": "stream",
     "text": [
      "113/113 [==============================] - 1s 4ms/step - loss: 0.1203 - binary_accuracy: 0.8546 - val_loss: 0.1181 - val_binary_accuracy: 0.8548 - lr: 1.0000e-05\n",
      "Epoch 89/1000\n",
      "107/113 [===========================>..] - ETA: 0s - loss: 0.1203 - binary_accuracy: 0.8543INFO:tensorflow:Assets written to: ../models/FCN/checkpoint/assets\n"
     ]
    },
    {
     "name": "stderr",
     "output_type": "stream",
     "text": [
      "INFO:tensorflow:Assets written to: ../models/FCN/checkpoint/assets\n"
     ]
    },
    {
     "name": "stdout",
     "output_type": "stream",
     "text": [
      "113/113 [==============================] - 1s 5ms/step - loss: 0.1202 - binary_accuracy: 0.8546 - val_loss: 0.1180 - val_binary_accuracy: 0.8548 - lr: 1.0000e-05\n",
      "Epoch 90/1000\n",
      "104/113 [==========================>...] - ETA: 0s - loss: 0.1202 - binary_accuracy: 0.8546INFO:tensorflow:Assets written to: ../models/FCN/checkpoint/assets\n"
     ]
    },
    {
     "name": "stderr",
     "output_type": "stream",
     "text": [
      "INFO:tensorflow:Assets written to: ../models/FCN/checkpoint/assets\n"
     ]
    },
    {
     "name": "stdout",
     "output_type": "stream",
     "text": [
      "113/113 [==============================] - 1s 5ms/step - loss: 0.1201 - binary_accuracy: 0.8547 - val_loss: 0.1179 - val_binary_accuracy: 0.8549 - lr: 1.0000e-05\n",
      "Epoch 91/1000\n",
      "108/113 [===========================>..] - ETA: 0s - loss: 0.1200 - binary_accuracy: 0.8548INFO:tensorflow:Assets written to: ../models/FCN/checkpoint/assets\n"
     ]
    },
    {
     "name": "stderr",
     "output_type": "stream",
     "text": [
      "INFO:tensorflow:Assets written to: ../models/FCN/checkpoint/assets\n"
     ]
    },
    {
     "name": "stdout",
     "output_type": "stream",
     "text": [
      "113/113 [==============================] - 1s 5ms/step - loss: 0.1200 - binary_accuracy: 0.8548 - val_loss: 0.1178 - val_binary_accuracy: 0.8550 - lr: 1.0000e-05\n",
      "Epoch 92/1000\n",
      " 95/113 [========================>.....] - ETA: 0s - loss: 0.1199 - binary_accuracy: 0.8546INFO:tensorflow:Assets written to: ../models/FCN/checkpoint/assets\n"
     ]
    },
    {
     "name": "stderr",
     "output_type": "stream",
     "text": [
      "INFO:tensorflow:Assets written to: ../models/FCN/checkpoint/assets\n"
     ]
    },
    {
     "name": "stdout",
     "output_type": "stream",
     "text": [
      "113/113 [==============================] - 1s 5ms/step - loss: 0.1198 - binary_accuracy: 0.8548 - val_loss: 0.1176 - val_binary_accuracy: 0.8551 - lr: 1.0000e-05\n",
      "Epoch 93/1000\n",
      " 94/113 [=======================>......] - ETA: 0s - loss: 0.1199 - binary_accuracy: 0.8546INFO:tensorflow:Assets written to: ../models/FCN/checkpoint/assets\n"
     ]
    },
    {
     "name": "stderr",
     "output_type": "stream",
     "text": [
      "INFO:tensorflow:Assets written to: ../models/FCN/checkpoint/assets\n"
     ]
    },
    {
     "name": "stdout",
     "output_type": "stream",
     "text": [
      "113/113 [==============================] - 1s 5ms/step - loss: 0.1197 - binary_accuracy: 0.8549 - val_loss: 0.1175 - val_binary_accuracy: 0.8552 - lr: 1.0000e-05\n",
      "Epoch 94/1000\n",
      "102/113 [==========================>...] - ETA: 0s - loss: 0.1192 - binary_accuracy: 0.8554INFO:tensorflow:Assets written to: ../models/FCN/checkpoint/assets\n"
     ]
    },
    {
     "name": "stderr",
     "output_type": "stream",
     "text": [
      "INFO:tensorflow:Assets written to: ../models/FCN/checkpoint/assets\n"
     ]
    },
    {
     "name": "stdout",
     "output_type": "stream",
     "text": [
      "113/113 [==============================] - 1s 5ms/step - loss: 0.1195 - binary_accuracy: 0.8550 - val_loss: 0.1174 - val_binary_accuracy: 0.8553 - lr: 1.0000e-05\n",
      "Epoch 95/1000\n",
      "110/113 [============================>.] - ETA: 0s - loss: 0.1192 - binary_accuracy: 0.8550INFO:tensorflow:Assets written to: ../models/FCN/checkpoint/assets\n"
     ]
    },
    {
     "name": "stderr",
     "output_type": "stream",
     "text": [
      "INFO:tensorflow:Assets written to: ../models/FCN/checkpoint/assets\n"
     ]
    },
    {
     "name": "stdout",
     "output_type": "stream",
     "text": [
      "113/113 [==============================] - 1s 5ms/step - loss: 0.1192 - binary_accuracy: 0.8551 - val_loss: 0.1172 - val_binary_accuracy: 0.8554 - lr: 1.0000e-05\n",
      "Epoch 96/1000\n",
      "108/113 [===========================>..] - ETA: 0s - loss: 0.1192 - binary_accuracy: 0.8549INFO:tensorflow:Assets written to: ../models/FCN/checkpoint/assets\n"
     ]
    },
    {
     "name": "stderr",
     "output_type": "stream",
     "text": [
      "INFO:tensorflow:Assets written to: ../models/FCN/checkpoint/assets\n"
     ]
    },
    {
     "name": "stdout",
     "output_type": "stream",
     "text": [
      "113/113 [==============================] - 1s 5ms/step - loss: 0.1191 - binary_accuracy: 0.8551 - val_loss: 0.1171 - val_binary_accuracy: 0.8555 - lr: 1.0000e-05\n",
      "Epoch 97/1000\n",
      "105/113 [==========================>...] - ETA: 0s - loss: 0.1190 - binary_accuracy: 0.8553INFO:tensorflow:Assets written to: ../models/FCN/checkpoint/assets\n"
     ]
    },
    {
     "name": "stderr",
     "output_type": "stream",
     "text": [
      "INFO:tensorflow:Assets written to: ../models/FCN/checkpoint/assets\n"
     ]
    },
    {
     "name": "stdout",
     "output_type": "stream",
     "text": [
      "113/113 [==============================] - 1s 5ms/step - loss: 0.1191 - binary_accuracy: 0.8553 - val_loss: 0.1170 - val_binary_accuracy: 0.8556 - lr: 1.0000e-05\n",
      "Epoch 98/1000\n",
      " 94/113 [=======================>......] - ETA: 0s - loss: 0.1189 - binary_accuracy: 0.8556INFO:tensorflow:Assets written to: ../models/FCN/checkpoint/assets\n"
     ]
    },
    {
     "name": "stderr",
     "output_type": "stream",
     "text": [
      "INFO:tensorflow:Assets written to: ../models/FCN/checkpoint/assets\n"
     ]
    },
    {
     "name": "stdout",
     "output_type": "stream",
     "text": [
      "113/113 [==============================] - 1s 5ms/step - loss: 0.1191 - binary_accuracy: 0.8552 - val_loss: 0.1168 - val_binary_accuracy: 0.8558 - lr: 1.0000e-05\n",
      "Epoch 99/1000\n",
      "113/113 [==============================] - ETA: 0s - loss: 0.1189 - binary_accuracy: 0.8554INFO:tensorflow:Assets written to: ../models/FCN/checkpoint/assets\n"
     ]
    },
    {
     "name": "stderr",
     "output_type": "stream",
     "text": [
      "INFO:tensorflow:Assets written to: ../models/FCN/checkpoint/assets\n"
     ]
    },
    {
     "name": "stdout",
     "output_type": "stream",
     "text": [
      "113/113 [==============================] - 1s 9ms/step - loss: 0.1189 - binary_accuracy: 0.8554 - val_loss: 0.1167 - val_binary_accuracy: 0.8559 - lr: 1.0000e-05\n",
      "Epoch 100/1000\n",
      "112/113 [============================>.] - ETA: 0s - loss: 0.1187 - binary_accuracy: 0.8556INFO:tensorflow:Assets written to: ../models/FCN/checkpoint/assets\n"
     ]
    },
    {
     "name": "stderr",
     "output_type": "stream",
     "text": [
      "INFO:tensorflow:Assets written to: ../models/FCN/checkpoint/assets\n"
     ]
    },
    {
     "name": "stdout",
     "output_type": "stream",
     "text": [
      "113/113 [==============================] - 1s 5ms/step - loss: 0.1186 - binary_accuracy: 0.8556 - val_loss: 0.1166 - val_binary_accuracy: 0.8560 - lr: 1.0000e-05\n",
      "Epoch 101/1000\n",
      "111/113 [============================>.] - ETA: 0s - loss: 0.1186 - binary_accuracy: 0.8557INFO:tensorflow:Assets written to: ../models/FCN/checkpoint/assets\n"
     ]
    },
    {
     "name": "stderr",
     "output_type": "stream",
     "text": [
      "INFO:tensorflow:Assets written to: ../models/FCN/checkpoint/assets\n"
     ]
    },
    {
     "name": "stdout",
     "output_type": "stream",
     "text": [
      "113/113 [==============================] - 1s 5ms/step - loss: 0.1186 - binary_accuracy: 0.8557 - val_loss: 0.1164 - val_binary_accuracy: 0.8561 - lr: 1.0000e-05\n",
      "Epoch 102/1000\n",
      "113/113 [==============================] - ETA: 0s - loss: 0.1184 - binary_accuracy: 0.8557INFO:tensorflow:Assets written to: ../models/FCN/checkpoint/assets\n"
     ]
    },
    {
     "name": "stderr",
     "output_type": "stream",
     "text": [
      "INFO:tensorflow:Assets written to: ../models/FCN/checkpoint/assets\n"
     ]
    },
    {
     "name": "stdout",
     "output_type": "stream",
     "text": [
      "113/113 [==============================] - 1s 5ms/step - loss: 0.1184 - binary_accuracy: 0.8557 - val_loss: 0.1163 - val_binary_accuracy: 0.8562 - lr: 1.0000e-05\n",
      "Epoch 103/1000\n",
      "106/113 [===========================>..] - ETA: 0s - loss: 0.1182 - binary_accuracy: 0.8561INFO:tensorflow:Assets written to: ../models/FCN/checkpoint/assets\n"
     ]
    },
    {
     "name": "stderr",
     "output_type": "stream",
     "text": [
      "INFO:tensorflow:Assets written to: ../models/FCN/checkpoint/assets\n"
     ]
    },
    {
     "name": "stdout",
     "output_type": "stream",
     "text": [
      "113/113 [==============================] - 1s 5ms/step - loss: 0.1183 - binary_accuracy: 0.8560 - val_loss: 0.1161 - val_binary_accuracy: 0.8563 - lr: 1.0000e-05\n",
      "Epoch 104/1000\n",
      " 85/113 [=====================>........] - ETA: 0s - loss: 0.1179 - binary_accuracy: 0.8561INFO:tensorflow:Assets written to: ../models/FCN/checkpoint/assets\n"
     ]
    },
    {
     "name": "stderr",
     "output_type": "stream",
     "text": [
      "INFO:tensorflow:Assets written to: ../models/FCN/checkpoint/assets\n"
     ]
    },
    {
     "name": "stdout",
     "output_type": "stream",
     "text": [
      "113/113 [==============================] - 1s 4ms/step - loss: 0.1180 - binary_accuracy: 0.8559 - val_loss: 0.1160 - val_binary_accuracy: 0.8564 - lr: 1.0000e-05\n",
      "Epoch 105/1000\n",
      "113/113 [==============================] - ETA: 0s - loss: 0.1181 - binary_accuracy: 0.8561INFO:tensorflow:Assets written to: ../models/FCN/checkpoint/assets\n"
     ]
    },
    {
     "name": "stderr",
     "output_type": "stream",
     "text": [
      "INFO:tensorflow:Assets written to: ../models/FCN/checkpoint/assets\n"
     ]
    },
    {
     "name": "stdout",
     "output_type": "stream",
     "text": [
      "113/113 [==============================] - 1s 4ms/step - loss: 0.1181 - binary_accuracy: 0.8561 - val_loss: 0.1158 - val_binary_accuracy: 0.8565 - lr: 1.0000e-05\n",
      "Epoch 106/1000\n",
      " 96/113 [========================>.....] - ETA: 0s - loss: 0.1180 - binary_accuracy: 0.8560INFO:tensorflow:Assets written to: ../models/FCN/checkpoint/assets\n"
     ]
    },
    {
     "name": "stderr",
     "output_type": "stream",
     "text": [
      "INFO:tensorflow:Assets written to: ../models/FCN/checkpoint/assets\n"
     ]
    },
    {
     "name": "stdout",
     "output_type": "stream",
     "text": [
      "113/113 [==============================] - 1s 5ms/step - loss: 0.1179 - binary_accuracy: 0.8561 - val_loss: 0.1157 - val_binary_accuracy: 0.8567 - lr: 1.0000e-05\n",
      "Epoch 107/1000\n",
      "112/113 [============================>.] - ETA: 0s - loss: 0.1176 - binary_accuracy: 0.8562INFO:tensorflow:Assets written to: ../models/FCN/checkpoint/assets\n"
     ]
    },
    {
     "name": "stderr",
     "output_type": "stream",
     "text": [
      "INFO:tensorflow:Assets written to: ../models/FCN/checkpoint/assets\n"
     ]
    },
    {
     "name": "stdout",
     "output_type": "stream",
     "text": [
      "113/113 [==============================] - 1s 5ms/step - loss: 0.1176 - binary_accuracy: 0.8561 - val_loss: 0.1155 - val_binary_accuracy: 0.8569 - lr: 1.0000e-05\n",
      "Epoch 108/1000\n",
      "110/113 [============================>.] - ETA: 0s - loss: 0.1175 - binary_accuracy: 0.8565INFO:tensorflow:Assets written to: ../models/FCN/checkpoint/assets\n"
     ]
    },
    {
     "name": "stderr",
     "output_type": "stream",
     "text": [
      "INFO:tensorflow:Assets written to: ../models/FCN/checkpoint/assets\n"
     ]
    },
    {
     "name": "stdout",
     "output_type": "stream",
     "text": [
      "113/113 [==============================] - 1s 5ms/step - loss: 0.1175 - binary_accuracy: 0.8564 - val_loss: 0.1154 - val_binary_accuracy: 0.8570 - lr: 1.0000e-05\n",
      "Epoch 109/1000\n",
      "113/113 [==============================] - ETA: 0s - loss: 0.1174 - binary_accuracy: 0.8565INFO:tensorflow:Assets written to: ../models/FCN/checkpoint/assets\n"
     ]
    },
    {
     "name": "stderr",
     "output_type": "stream",
     "text": [
      "INFO:tensorflow:Assets written to: ../models/FCN/checkpoint/assets\n"
     ]
    },
    {
     "name": "stdout",
     "output_type": "stream",
     "text": [
      "113/113 [==============================] - 1s 4ms/step - loss: 0.1174 - binary_accuracy: 0.8565 - val_loss: 0.1152 - val_binary_accuracy: 0.8571 - lr: 1.0000e-05\n",
      "Epoch 110/1000\n",
      "112/113 [============================>.] - ETA: 0s - loss: 0.1174 - binary_accuracy: 0.8566INFO:tensorflow:Assets written to: ../models/FCN/checkpoint/assets\n"
     ]
    },
    {
     "name": "stderr",
     "output_type": "stream",
     "text": [
      "INFO:tensorflow:Assets written to: ../models/FCN/checkpoint/assets\n"
     ]
    },
    {
     "name": "stdout",
     "output_type": "stream",
     "text": [
      "113/113 [==============================] - 1s 6ms/step - loss: 0.1173 - binary_accuracy: 0.8566 - val_loss: 0.1151 - val_binary_accuracy: 0.8574 - lr: 1.0000e-05\n",
      "Epoch 111/1000\n",
      " 85/113 [=====================>........] - ETA: 0s - loss: 0.1171 - binary_accuracy: 0.8567INFO:tensorflow:Assets written to: ../models/FCN/checkpoint/assets\n"
     ]
    },
    {
     "name": "stderr",
     "output_type": "stream",
     "text": [
      "INFO:tensorflow:Assets written to: ../models/FCN/checkpoint/assets\n"
     ]
    },
    {
     "name": "stdout",
     "output_type": "stream",
     "text": [
      "113/113 [==============================] - 1s 5ms/step - loss: 0.1170 - binary_accuracy: 0.8568 - val_loss: 0.1150 - val_binary_accuracy: 0.8574 - lr: 1.0000e-05\n",
      "Epoch 112/1000\n",
      " 99/113 [=========================>....] - ETA: 0s - loss: 0.1169 - binary_accuracy: 0.8569INFO:tensorflow:Assets written to: ../models/FCN/checkpoint/assets\n"
     ]
    },
    {
     "name": "stderr",
     "output_type": "stream",
     "text": [
      "INFO:tensorflow:Assets written to: ../models/FCN/checkpoint/assets\n"
     ]
    },
    {
     "name": "stdout",
     "output_type": "stream",
     "text": [
      "113/113 [==============================] - 1s 5ms/step - loss: 0.1170 - binary_accuracy: 0.8569 - val_loss: 0.1148 - val_binary_accuracy: 0.8575 - lr: 1.0000e-05\n",
      "Epoch 113/1000\n",
      "113/113 [==============================] - ETA: 0s - loss: 0.1168 - binary_accuracy: 0.8570INFO:tensorflow:Assets written to: ../models/FCN/checkpoint/assets\n"
     ]
    },
    {
     "name": "stderr",
     "output_type": "stream",
     "text": [
      "INFO:tensorflow:Assets written to: ../models/FCN/checkpoint/assets\n"
     ]
    },
    {
     "name": "stdout",
     "output_type": "stream",
     "text": [
      "113/113 [==============================] - 1s 4ms/step - loss: 0.1168 - binary_accuracy: 0.8570 - val_loss: 0.1146 - val_binary_accuracy: 0.8577 - lr: 1.0000e-05\n",
      "Epoch 114/1000\n",
      " 94/113 [=======================>......] - ETA: 0s - loss: 0.1171 - binary_accuracy: 0.8565INFO:tensorflow:Assets written to: ../models/FCN/checkpoint/assets\n"
     ]
    },
    {
     "name": "stderr",
     "output_type": "stream",
     "text": [
      "INFO:tensorflow:Assets written to: ../models/FCN/checkpoint/assets\n"
     ]
    },
    {
     "name": "stdout",
     "output_type": "stream",
     "text": [
      "113/113 [==============================] - 1s 5ms/step - loss: 0.1167 - binary_accuracy: 0.8571 - val_loss: 0.1145 - val_binary_accuracy: 0.8577 - lr: 1.0000e-05\n",
      "Epoch 115/1000\n",
      "108/113 [===========================>..] - ETA: 0s - loss: 0.1166 - binary_accuracy: 0.8574INFO:tensorflow:Assets written to: ../models/FCN/checkpoint/assets\n"
     ]
    },
    {
     "name": "stderr",
     "output_type": "stream",
     "text": [
      "INFO:tensorflow:Assets written to: ../models/FCN/checkpoint/assets\n"
     ]
    },
    {
     "name": "stdout",
     "output_type": "stream",
     "text": [
      "113/113 [==============================] - 1s 5ms/step - loss: 0.1166 - binary_accuracy: 0.8574 - val_loss: 0.1144 - val_binary_accuracy: 0.8579 - lr: 1.0000e-05\n",
      "Epoch 116/1000\n",
      "112/113 [============================>.] - ETA: 0s - loss: 0.1165 - binary_accuracy: 0.8572INFO:tensorflow:Assets written to: ../models/FCN/checkpoint/assets\n"
     ]
    },
    {
     "name": "stderr",
     "output_type": "stream",
     "text": [
      "INFO:tensorflow:Assets written to: ../models/FCN/checkpoint/assets\n"
     ]
    },
    {
     "name": "stdout",
     "output_type": "stream",
     "text": [
      "113/113 [==============================] - 1s 5ms/step - loss: 0.1165 - binary_accuracy: 0.8573 - val_loss: 0.1142 - val_binary_accuracy: 0.8580 - lr: 1.0000e-05\n",
      "Epoch 117/1000\n",
      " 89/113 [======================>.......] - ETA: 0s - loss: 0.1164 - binary_accuracy: 0.8574INFO:tensorflow:Assets written to: ../models/FCN/checkpoint/assets\n"
     ]
    },
    {
     "name": "stderr",
     "output_type": "stream",
     "text": [
      "INFO:tensorflow:Assets written to: ../models/FCN/checkpoint/assets\n"
     ]
    },
    {
     "name": "stdout",
     "output_type": "stream",
     "text": [
      "113/113 [==============================] - 0s 4ms/step - loss: 0.1163 - binary_accuracy: 0.8575 - val_loss: 0.1141 - val_binary_accuracy: 0.8581 - lr: 1.0000e-05\n",
      "Epoch 118/1000\n",
      "113/113 [==============================] - ETA: 0s - loss: 0.1162 - binary_accuracy: 0.8577INFO:tensorflow:Assets written to: ../models/FCN/checkpoint/assets\n"
     ]
    },
    {
     "name": "stderr",
     "output_type": "stream",
     "text": [
      "INFO:tensorflow:Assets written to: ../models/FCN/checkpoint/assets\n"
     ]
    },
    {
     "name": "stdout",
     "output_type": "stream",
     "text": [
      "113/113 [==============================] - 1s 5ms/step - loss: 0.1162 - binary_accuracy: 0.8577 - val_loss: 0.1139 - val_binary_accuracy: 0.8583 - lr: 1.0000e-05\n",
      "Epoch 119/1000\n",
      " 85/113 [=====================>........] - ETA: 0s - loss: 0.1159 - binary_accuracy: 0.8578INFO:tensorflow:Assets written to: ../models/FCN/checkpoint/assets\n"
     ]
    },
    {
     "name": "stderr",
     "output_type": "stream",
     "text": [
      "INFO:tensorflow:Assets written to: ../models/FCN/checkpoint/assets\n"
     ]
    },
    {
     "name": "stdout",
     "output_type": "stream",
     "text": [
      "113/113 [==============================] - 1s 9ms/step - loss: 0.1160 - binary_accuracy: 0.8578 - val_loss: 0.1138 - val_binary_accuracy: 0.8584 - lr: 1.0000e-05\n",
      "Epoch 120/1000\n",
      " 86/113 [=====================>........] - ETA: 0s - loss: 0.1162 - binary_accuracy: 0.8573INFO:tensorflow:Assets written to: ../models/FCN/checkpoint/assets\n"
     ]
    },
    {
     "name": "stderr",
     "output_type": "stream",
     "text": [
      "INFO:tensorflow:Assets written to: ../models/FCN/checkpoint/assets\n"
     ]
    },
    {
     "name": "stdout",
     "output_type": "stream",
     "text": [
      "113/113 [==============================] - 1s 4ms/step - loss: 0.1159 - binary_accuracy: 0.8579 - val_loss: 0.1136 - val_binary_accuracy: 0.8586 - lr: 1.0000e-05\n",
      "Epoch 121/1000\n",
      " 85/113 [=====================>........] - ETA: 0s - loss: 0.1158 - binary_accuracy: 0.8577INFO:tensorflow:Assets written to: ../models/FCN/checkpoint/assets\n"
     ]
    },
    {
     "name": "stderr",
     "output_type": "stream",
     "text": [
      "INFO:tensorflow:Assets written to: ../models/FCN/checkpoint/assets\n"
     ]
    },
    {
     "name": "stdout",
     "output_type": "stream",
     "text": [
      "113/113 [==============================] - 1s 5ms/step - loss: 0.1155 - binary_accuracy: 0.8582 - val_loss: 0.1135 - val_binary_accuracy: 0.8587 - lr: 1.0000e-05\n",
      "Epoch 122/1000\n",
      " 98/113 [=========================>....] - ETA: 0s - loss: 0.1156 - binary_accuracy: 0.8581INFO:tensorflow:Assets written to: ../models/FCN/checkpoint/assets\n"
     ]
    },
    {
     "name": "stderr",
     "output_type": "stream",
     "text": [
      "INFO:tensorflow:Assets written to: ../models/FCN/checkpoint/assets\n"
     ]
    },
    {
     "name": "stdout",
     "output_type": "stream",
     "text": [
      "113/113 [==============================] - 1s 5ms/step - loss: 0.1156 - binary_accuracy: 0.8581 - val_loss: 0.1133 - val_binary_accuracy: 0.8588 - lr: 1.0000e-05\n",
      "Epoch 123/1000\n",
      "111/113 [============================>.] - ETA: 0s - loss: 0.1156 - binary_accuracy: 0.8581INFO:tensorflow:Assets written to: ../models/FCN/checkpoint/assets\n"
     ]
    },
    {
     "name": "stderr",
     "output_type": "stream",
     "text": [
      "INFO:tensorflow:Assets written to: ../models/FCN/checkpoint/assets\n"
     ]
    },
    {
     "name": "stdout",
     "output_type": "stream",
     "text": [
      "113/113 [==============================] - 1s 5ms/step - loss: 0.1155 - binary_accuracy: 0.8582 - val_loss: 0.1132 - val_binary_accuracy: 0.8589 - lr: 1.0000e-05\n",
      "Epoch 124/1000\n",
      "113/113 [==============================] - ETA: 0s - loss: 0.1153 - binary_accuracy: 0.8585INFO:tensorflow:Assets written to: ../models/FCN/checkpoint/assets\n"
     ]
    },
    {
     "name": "stderr",
     "output_type": "stream",
     "text": [
      "INFO:tensorflow:Assets written to: ../models/FCN/checkpoint/assets\n"
     ]
    },
    {
     "name": "stdout",
     "output_type": "stream",
     "text": [
      "113/113 [==============================] - 0s 4ms/step - loss: 0.1153 - binary_accuracy: 0.8585 - val_loss: 0.1130 - val_binary_accuracy: 0.8592 - lr: 1.0000e-05\n",
      "Epoch 125/1000\n",
      "112/113 [============================>.] - ETA: 0s - loss: 0.1151 - binary_accuracy: 0.8584INFO:tensorflow:Assets written to: ../models/FCN/checkpoint/assets\n"
     ]
    },
    {
     "name": "stderr",
     "output_type": "stream",
     "text": [
      "INFO:tensorflow:Assets written to: ../models/FCN/checkpoint/assets\n"
     ]
    },
    {
     "name": "stdout",
     "output_type": "stream",
     "text": [
      "113/113 [==============================] - 1s 5ms/step - loss: 0.1151 - binary_accuracy: 0.8584 - val_loss: 0.1129 - val_binary_accuracy: 0.8593 - lr: 1.0000e-05\n",
      "Epoch 126/1000\n",
      "112/113 [============================>.] - ETA: 0s - loss: 0.1149 - binary_accuracy: 0.8588INFO:tensorflow:Assets written to: ../models/FCN/checkpoint/assets\n"
     ]
    },
    {
     "name": "stderr",
     "output_type": "stream",
     "text": [
      "INFO:tensorflow:Assets written to: ../models/FCN/checkpoint/assets\n"
     ]
    },
    {
     "name": "stdout",
     "output_type": "stream",
     "text": [
      "113/113 [==============================] - 1s 5ms/step - loss: 0.1149 - binary_accuracy: 0.8588 - val_loss: 0.1127 - val_binary_accuracy: 0.8595 - lr: 1.0000e-05\n",
      "Epoch 127/1000\n",
      "113/113 [==============================] - ETA: 0s - loss: 0.1148 - binary_accuracy: 0.8589INFO:tensorflow:Assets written to: ../models/FCN/checkpoint/assets\n"
     ]
    },
    {
     "name": "stderr",
     "output_type": "stream",
     "text": [
      "INFO:tensorflow:Assets written to: ../models/FCN/checkpoint/assets\n"
     ]
    },
    {
     "name": "stdout",
     "output_type": "stream",
     "text": [
      "113/113 [==============================] - 1s 4ms/step - loss: 0.1148 - binary_accuracy: 0.8589 - val_loss: 0.1126 - val_binary_accuracy: 0.8597 - lr: 1.0000e-05\n",
      "Epoch 128/1000\n",
      " 85/113 [=====================>........] - ETA: 0s - loss: 0.1149 - binary_accuracy: 0.8588INFO:tensorflow:Assets written to: ../models/FCN/checkpoint/assets\n"
     ]
    },
    {
     "name": "stderr",
     "output_type": "stream",
     "text": [
      "INFO:tensorflow:Assets written to: ../models/FCN/checkpoint/assets\n"
     ]
    },
    {
     "name": "stdout",
     "output_type": "stream",
     "text": [
      "113/113 [==============================] - 1s 5ms/step - loss: 0.1148 - binary_accuracy: 0.8591 - val_loss: 0.1124 - val_binary_accuracy: 0.8598 - lr: 1.0000e-05\n",
      "Epoch 129/1000\n",
      " 87/113 [======================>.......] - ETA: 0s - loss: 0.1144 - binary_accuracy: 0.8597INFO:tensorflow:Assets written to: ../models/FCN/checkpoint/assets\n"
     ]
    },
    {
     "name": "stderr",
     "output_type": "stream",
     "text": [
      "INFO:tensorflow:Assets written to: ../models/FCN/checkpoint/assets\n"
     ]
    },
    {
     "name": "stdout",
     "output_type": "stream",
     "text": [
      "113/113 [==============================] - 1s 5ms/step - loss: 0.1145 - binary_accuracy: 0.8594 - val_loss: 0.1123 - val_binary_accuracy: 0.8601 - lr: 1.0000e-05\n",
      "Epoch 130/1000\n",
      " 95/113 [========================>.....] - ETA: 0s - loss: 0.1143 - binary_accuracy: 0.8597INFO:tensorflow:Assets written to: ../models/FCN/checkpoint/assets\n"
     ]
    },
    {
     "name": "stderr",
     "output_type": "stream",
     "text": [
      "INFO:tensorflow:Assets written to: ../models/FCN/checkpoint/assets\n"
     ]
    },
    {
     "name": "stdout",
     "output_type": "stream",
     "text": [
      "113/113 [==============================] - 1s 5ms/step - loss: 0.1144 - binary_accuracy: 0.8595 - val_loss: 0.1121 - val_binary_accuracy: 0.8603 - lr: 1.0000e-05\n",
      "Epoch 131/1000\n",
      " 86/113 [=====================>........] - ETA: 0s - loss: 0.1145 - binary_accuracy: 0.8592INFO:tensorflow:Assets written to: ../models/FCN/checkpoint/assets\n"
     ]
    },
    {
     "name": "stderr",
     "output_type": "stream",
     "text": [
      "INFO:tensorflow:Assets written to: ../models/FCN/checkpoint/assets\n"
     ]
    },
    {
     "name": "stdout",
     "output_type": "stream",
     "text": [
      "113/113 [==============================] - 1s 4ms/step - loss: 0.1144 - binary_accuracy: 0.8593 - val_loss: 0.1120 - val_binary_accuracy: 0.8605 - lr: 1.0000e-05\n",
      "Epoch 132/1000\n",
      "113/113 [==============================] - ETA: 0s - loss: 0.1141 - binary_accuracy: 0.8597INFO:tensorflow:Assets written to: ../models/FCN/checkpoint/assets\n"
     ]
    },
    {
     "name": "stderr",
     "output_type": "stream",
     "text": [
      "INFO:tensorflow:Assets written to: ../models/FCN/checkpoint/assets\n"
     ]
    },
    {
     "name": "stdout",
     "output_type": "stream",
     "text": [
      "113/113 [==============================] - 1s 4ms/step - loss: 0.1141 - binary_accuracy: 0.8597 - val_loss: 0.1119 - val_binary_accuracy: 0.8607 - lr: 1.0000e-05\n",
      "Epoch 133/1000\n",
      "112/113 [============================>.] - ETA: 0s - loss: 0.1139 - binary_accuracy: 0.8599INFO:tensorflow:Assets written to: ../models/FCN/checkpoint/assets\n"
     ]
    },
    {
     "name": "stderr",
     "output_type": "stream",
     "text": [
      "INFO:tensorflow:Assets written to: ../models/FCN/checkpoint/assets\n"
     ]
    },
    {
     "name": "stdout",
     "output_type": "stream",
     "text": [
      "113/113 [==============================] - 1s 5ms/step - loss: 0.1139 - binary_accuracy: 0.8599 - val_loss: 0.1117 - val_binary_accuracy: 0.8610 - lr: 1.0000e-05\n",
      "Epoch 134/1000\n",
      " 86/113 [=====================>........] - ETA: 0s - loss: 0.1140 - binary_accuracy: 0.8598INFO:tensorflow:Assets written to: ../models/FCN/checkpoint/assets\n"
     ]
    },
    {
     "name": "stderr",
     "output_type": "stream",
     "text": [
      "INFO:tensorflow:Assets written to: ../models/FCN/checkpoint/assets\n"
     ]
    },
    {
     "name": "stdout",
     "output_type": "stream",
     "text": [
      "113/113 [==============================] - 0s 4ms/step - loss: 0.1138 - binary_accuracy: 0.8601 - val_loss: 0.1116 - val_binary_accuracy: 0.8612 - lr: 1.0000e-05\n",
      "Epoch 135/1000\n",
      " 86/113 [=====================>........] - ETA: 0s - loss: 0.1137 - binary_accuracy: 0.8603INFO:tensorflow:Assets written to: ../models/FCN/checkpoint/assets\n"
     ]
    },
    {
     "name": "stderr",
     "output_type": "stream",
     "text": [
      "INFO:tensorflow:Assets written to: ../models/FCN/checkpoint/assets\n"
     ]
    },
    {
     "name": "stdout",
     "output_type": "stream",
     "text": [
      "113/113 [==============================] - 0s 4ms/step - loss: 0.1138 - binary_accuracy: 0.8601 - val_loss: 0.1114 - val_binary_accuracy: 0.8613 - lr: 1.0000e-05\n",
      "Epoch 136/1000\n",
      "112/113 [============================>.] - ETA: 0s - loss: 0.1136 - binary_accuracy: 0.8605INFO:tensorflow:Assets written to: ../models/FCN/checkpoint/assets\n"
     ]
    },
    {
     "name": "stderr",
     "output_type": "stream",
     "text": [
      "INFO:tensorflow:Assets written to: ../models/FCN/checkpoint/assets\n"
     ]
    },
    {
     "name": "stdout",
     "output_type": "stream",
     "text": [
      "113/113 [==============================] - 0s 4ms/step - loss: 0.1136 - binary_accuracy: 0.8604 - val_loss: 0.1113 - val_binary_accuracy: 0.8616 - lr: 1.0000e-05\n",
      "Epoch 137/1000\n",
      " 85/113 [=====================>........] - ETA: 0s - loss: 0.1135 - binary_accuracy: 0.8606INFO:tensorflow:Assets written to: ../models/FCN/checkpoint/assets\n"
     ]
    },
    {
     "name": "stderr",
     "output_type": "stream",
     "text": [
      "INFO:tensorflow:Assets written to: ../models/FCN/checkpoint/assets\n"
     ]
    },
    {
     "name": "stdout",
     "output_type": "stream",
     "text": [
      "113/113 [==============================] - 0s 4ms/step - loss: 0.1136 - binary_accuracy: 0.8606 - val_loss: 0.1112 - val_binary_accuracy: 0.8618 - lr: 1.0000e-05\n",
      "Epoch 138/1000\n",
      " 85/113 [=====================>........] - ETA: 0s - loss: 0.1134 - binary_accuracy: 0.8604INFO:tensorflow:Assets written to: ../models/FCN/checkpoint/assets\n"
     ]
    },
    {
     "name": "stderr",
     "output_type": "stream",
     "text": [
      "INFO:tensorflow:Assets written to: ../models/FCN/checkpoint/assets\n"
     ]
    },
    {
     "name": "stdout",
     "output_type": "stream",
     "text": [
      "113/113 [==============================] - 1s 5ms/step - loss: 0.1133 - binary_accuracy: 0.8607 - val_loss: 0.1110 - val_binary_accuracy: 0.8619 - lr: 1.0000e-05\n",
      "Epoch 139/1000\n",
      "113/113 [==============================] - ETA: 0s - loss: 0.1132 - binary_accuracy: 0.8608INFO:tensorflow:Assets written to: ../models/FCN/checkpoint/assets\n"
     ]
    },
    {
     "name": "stderr",
     "output_type": "stream",
     "text": [
      "INFO:tensorflow:Assets written to: ../models/FCN/checkpoint/assets\n"
     ]
    },
    {
     "name": "stdout",
     "output_type": "stream",
     "text": [
      "113/113 [==============================] - 1s 4ms/step - loss: 0.1132 - binary_accuracy: 0.8608 - val_loss: 0.1109 - val_binary_accuracy: 0.8621 - lr: 1.0000e-05\n",
      "Epoch 140/1000\n",
      "112/113 [============================>.] - ETA: 0s - loss: 0.1132 - binary_accuracy: 0.8608INFO:tensorflow:Assets written to: ../models/FCN/checkpoint/assets\n"
     ]
    },
    {
     "name": "stderr",
     "output_type": "stream",
     "text": [
      "INFO:tensorflow:Assets written to: ../models/FCN/checkpoint/assets\n"
     ]
    },
    {
     "name": "stdout",
     "output_type": "stream",
     "text": [
      "113/113 [==============================] - 1s 8ms/step - loss: 0.1132 - binary_accuracy: 0.8608 - val_loss: 0.1108 - val_binary_accuracy: 0.8624 - lr: 1.0000e-05\n",
      "Epoch 141/1000\n",
      "113/113 [==============================] - ETA: 0s - loss: 0.1129 - binary_accuracy: 0.8612INFO:tensorflow:Assets written to: ../models/FCN/checkpoint/assets\n"
     ]
    },
    {
     "name": "stderr",
     "output_type": "stream",
     "text": [
      "INFO:tensorflow:Assets written to: ../models/FCN/checkpoint/assets\n"
     ]
    },
    {
     "name": "stdout",
     "output_type": "stream",
     "text": [
      "113/113 [==============================] - 0s 4ms/step - loss: 0.1129 - binary_accuracy: 0.8612 - val_loss: 0.1106 - val_binary_accuracy: 0.8625 - lr: 1.0000e-05\n",
      "Epoch 142/1000\n",
      "113/113 [==============================] - ETA: 0s - loss: 0.1128 - binary_accuracy: 0.8614INFO:tensorflow:Assets written to: ../models/FCN/checkpoint/assets\n"
     ]
    },
    {
     "name": "stderr",
     "output_type": "stream",
     "text": [
      "INFO:tensorflow:Assets written to: ../models/FCN/checkpoint/assets\n"
     ]
    },
    {
     "name": "stdout",
     "output_type": "stream",
     "text": [
      "113/113 [==============================] - 1s 4ms/step - loss: 0.1128 - binary_accuracy: 0.8614 - val_loss: 0.1105 - val_binary_accuracy: 0.8628 - lr: 1.0000e-05\n",
      "Epoch 143/1000\n",
      "112/113 [============================>.] - ETA: 0s - loss: 0.1128 - binary_accuracy: 0.8614INFO:tensorflow:Assets written to: ../models/FCN/checkpoint/assets\n"
     ]
    },
    {
     "name": "stderr",
     "output_type": "stream",
     "text": [
      "INFO:tensorflow:Assets written to: ../models/FCN/checkpoint/assets\n"
     ]
    },
    {
     "name": "stdout",
     "output_type": "stream",
     "text": [
      "113/113 [==============================] - 1s 4ms/step - loss: 0.1128 - binary_accuracy: 0.8614 - val_loss: 0.1104 - val_binary_accuracy: 0.8630 - lr: 1.0000e-05\n",
      "Epoch 144/1000\n",
      "112/113 [============================>.] - ETA: 0s - loss: 0.1125 - binary_accuracy: 0.8617INFO:tensorflow:Assets written to: ../models/FCN/checkpoint/assets\n"
     ]
    },
    {
     "name": "stderr",
     "output_type": "stream",
     "text": [
      "INFO:tensorflow:Assets written to: ../models/FCN/checkpoint/assets\n"
     ]
    },
    {
     "name": "stdout",
     "output_type": "stream",
     "text": [
      "113/113 [==============================] - 1s 4ms/step - loss: 0.1125 - binary_accuracy: 0.8617 - val_loss: 0.1102 - val_binary_accuracy: 0.8631 - lr: 1.0000e-05\n",
      "Epoch 145/1000\n",
      "113/113 [==============================] - ETA: 0s - loss: 0.1124 - binary_accuracy: 0.8618INFO:tensorflow:Assets written to: ../models/FCN/checkpoint/assets\n"
     ]
    },
    {
     "name": "stderr",
     "output_type": "stream",
     "text": [
      "INFO:tensorflow:Assets written to: ../models/FCN/checkpoint/assets\n"
     ]
    },
    {
     "name": "stdout",
     "output_type": "stream",
     "text": [
      "113/113 [==============================] - 1s 4ms/step - loss: 0.1124 - binary_accuracy: 0.8618 - val_loss: 0.1101 - val_binary_accuracy: 0.8632 - lr: 1.0000e-05\n",
      "Epoch 146/1000\n",
      " 96/113 [========================>.....] - ETA: 0s - loss: 0.1127 - binary_accuracy: 0.8612INFO:tensorflow:Assets written to: ../models/FCN/checkpoint/assets\n"
     ]
    },
    {
     "name": "stderr",
     "output_type": "stream",
     "text": [
      "INFO:tensorflow:Assets written to: ../models/FCN/checkpoint/assets\n"
     ]
    },
    {
     "name": "stdout",
     "output_type": "stream",
     "text": [
      "113/113 [==============================] - 1s 5ms/step - loss: 0.1124 - binary_accuracy: 0.8617 - val_loss: 0.1100 - val_binary_accuracy: 0.8633 - lr: 1.0000e-05\n",
      "Epoch 147/1000\n",
      "111/113 [============================>.] - ETA: 0s - loss: 0.1122 - binary_accuracy: 0.8622INFO:tensorflow:Assets written to: ../models/FCN/checkpoint/assets\n"
     ]
    },
    {
     "name": "stderr",
     "output_type": "stream",
     "text": [
      "INFO:tensorflow:Assets written to: ../models/FCN/checkpoint/assets\n"
     ]
    },
    {
     "name": "stdout",
     "output_type": "stream",
     "text": [
      "113/113 [==============================] - 1s 4ms/step - loss: 0.1122 - binary_accuracy: 0.8621 - val_loss: 0.1099 - val_binary_accuracy: 0.8636 - lr: 1.0000e-05\n",
      "Epoch 148/1000\n",
      "102/113 [==========================>...] - ETA: 0s - loss: 0.1118 - binary_accuracy: 0.8624INFO:tensorflow:Assets written to: ../models/FCN/checkpoint/assets\n"
     ]
    },
    {
     "name": "stderr",
     "output_type": "stream",
     "text": [
      "INFO:tensorflow:Assets written to: ../models/FCN/checkpoint/assets\n"
     ]
    },
    {
     "name": "stdout",
     "output_type": "stream",
     "text": [
      "113/113 [==============================] - 1s 5ms/step - loss: 0.1120 - binary_accuracy: 0.8621 - val_loss: 0.1097 - val_binary_accuracy: 0.8638 - lr: 1.0000e-05\n",
      "Epoch 149/1000\n",
      " 85/113 [=====================>........] - ETA: 0s - loss: 0.1118 - binary_accuracy: 0.8620INFO:tensorflow:Assets written to: ../models/FCN/checkpoint/assets\n"
     ]
    },
    {
     "name": "stderr",
     "output_type": "stream",
     "text": [
      "INFO:tensorflow:Assets written to: ../models/FCN/checkpoint/assets\n"
     ]
    },
    {
     "name": "stdout",
     "output_type": "stream",
     "text": [
      "113/113 [==============================] - 0s 4ms/step - loss: 0.1120 - binary_accuracy: 0.8622 - val_loss: 0.1096 - val_binary_accuracy: 0.8640 - lr: 1.0000e-05\n",
      "Epoch 150/1000\n",
      "113/113 [==============================] - ETA: 0s - loss: 0.1117 - binary_accuracy: 0.8625INFO:tensorflow:Assets written to: ../models/FCN/checkpoint/assets\n"
     ]
    },
    {
     "name": "stderr",
     "output_type": "stream",
     "text": [
      "INFO:tensorflow:Assets written to: ../models/FCN/checkpoint/assets\n"
     ]
    },
    {
     "name": "stdout",
     "output_type": "stream",
     "text": [
      "113/113 [==============================] - 1s 5ms/step - loss: 0.1117 - binary_accuracy: 0.8625 - val_loss: 0.1095 - val_binary_accuracy: 0.8642 - lr: 1.0000e-05\n",
      "Epoch 151/1000\n",
      " 85/113 [=====================>........] - ETA: 0s - loss: 0.1118 - binary_accuracy: 0.8626INFO:tensorflow:Assets written to: ../models/FCN/checkpoint/assets\n"
     ]
    },
    {
     "name": "stderr",
     "output_type": "stream",
     "text": [
      "INFO:tensorflow:Assets written to: ../models/FCN/checkpoint/assets\n"
     ]
    },
    {
     "name": "stdout",
     "output_type": "stream",
     "text": [
      "113/113 [==============================] - 0s 4ms/step - loss: 0.1116 - binary_accuracy: 0.8626 - val_loss: 0.1094 - val_binary_accuracy: 0.8643 - lr: 1.0000e-05\n",
      "Epoch 152/1000\n",
      " 87/113 [======================>.......] - ETA: 0s - loss: 0.1119 - binary_accuracy: 0.8627INFO:tensorflow:Assets written to: ../models/FCN/checkpoint/assets\n"
     ]
    },
    {
     "name": "stderr",
     "output_type": "stream",
     "text": [
      "INFO:tensorflow:Assets written to: ../models/FCN/checkpoint/assets\n"
     ]
    },
    {
     "name": "stdout",
     "output_type": "stream",
     "text": [
      "113/113 [==============================] - 1s 4ms/step - loss: 0.1118 - binary_accuracy: 0.8626 - val_loss: 0.1092 - val_binary_accuracy: 0.8646 - lr: 1.0000e-05\n",
      "Epoch 153/1000\n",
      "113/113 [==============================] - ETA: 0s - loss: 0.1114 - binary_accuracy: 0.8629INFO:tensorflow:Assets written to: ../models/FCN/checkpoint/assets\n"
     ]
    },
    {
     "name": "stderr",
     "output_type": "stream",
     "text": [
      "INFO:tensorflow:Assets written to: ../models/FCN/checkpoint/assets\n"
     ]
    },
    {
     "name": "stdout",
     "output_type": "stream",
     "text": [
      "113/113 [==============================] - 1s 4ms/step - loss: 0.1114 - binary_accuracy: 0.8629 - val_loss: 0.1091 - val_binary_accuracy: 0.8647 - lr: 1.0000e-05\n",
      "Epoch 154/1000\n",
      " 99/113 [=========================>....] - ETA: 0s - loss: 0.1112 - binary_accuracy: 0.8632INFO:tensorflow:Assets written to: ../models/FCN/checkpoint/assets\n"
     ]
    },
    {
     "name": "stderr",
     "output_type": "stream",
     "text": [
      "INFO:tensorflow:Assets written to: ../models/FCN/checkpoint/assets\n"
     ]
    },
    {
     "name": "stdout",
     "output_type": "stream",
     "text": [
      "113/113 [==============================] - 1s 5ms/step - loss: 0.1113 - binary_accuracy: 0.8631 - val_loss: 0.1090 - val_binary_accuracy: 0.8649 - lr: 1.0000e-05\n",
      "Epoch 155/1000\n",
      " 85/113 [=====================>........] - ETA: 0s - loss: 0.1113 - binary_accuracy: 0.8633INFO:tensorflow:Assets written to: ../models/FCN/checkpoint/assets\n"
     ]
    },
    {
     "name": "stderr",
     "output_type": "stream",
     "text": [
      "INFO:tensorflow:Assets written to: ../models/FCN/checkpoint/assets\n"
     ]
    },
    {
     "name": "stdout",
     "output_type": "stream",
     "text": [
      "113/113 [==============================] - 0s 4ms/step - loss: 0.1113 - binary_accuracy: 0.8633 - val_loss: 0.1089 - val_binary_accuracy: 0.8652 - lr: 1.0000e-05\n",
      "Epoch 156/1000\n",
      "113/113 [==============================] - ETA: 0s - loss: 0.1109 - binary_accuracy: 0.8634INFO:tensorflow:Assets written to: ../models/FCN/checkpoint/assets\n"
     ]
    },
    {
     "name": "stderr",
     "output_type": "stream",
     "text": [
      "INFO:tensorflow:Assets written to: ../models/FCN/checkpoint/assets\n"
     ]
    },
    {
     "name": "stdout",
     "output_type": "stream",
     "text": [
      "113/113 [==============================] - 1s 5ms/step - loss: 0.1109 - binary_accuracy: 0.8634 - val_loss: 0.1088 - val_binary_accuracy: 0.8652 - lr: 1.0000e-05\n",
      "Epoch 157/1000\n",
      "112/113 [============================>.] - ETA: 0s - loss: 0.1109 - binary_accuracy: 0.8635INFO:tensorflow:Assets written to: ../models/FCN/checkpoint/assets\n"
     ]
    },
    {
     "name": "stderr",
     "output_type": "stream",
     "text": [
      "INFO:tensorflow:Assets written to: ../models/FCN/checkpoint/assets\n"
     ]
    },
    {
     "name": "stdout",
     "output_type": "stream",
     "text": [
      "113/113 [==============================] - 1s 4ms/step - loss: 0.1109 - binary_accuracy: 0.8636 - val_loss: 0.1087 - val_binary_accuracy: 0.8655 - lr: 1.0000e-05\n",
      "Epoch 158/1000\n",
      " 85/113 [=====================>........] - ETA: 0s - loss: 0.1107 - binary_accuracy: 0.8640INFO:tensorflow:Assets written to: ../models/FCN/checkpoint/assets\n"
     ]
    },
    {
     "name": "stderr",
     "output_type": "stream",
     "text": [
      "INFO:tensorflow:Assets written to: ../models/FCN/checkpoint/assets\n"
     ]
    },
    {
     "name": "stdout",
     "output_type": "stream",
     "text": [
      "113/113 [==============================] - 1s 4ms/step - loss: 0.1108 - binary_accuracy: 0.8639 - val_loss: 0.1085 - val_binary_accuracy: 0.8657 - lr: 1.0000e-05\n",
      "Epoch 159/1000\n",
      "109/113 [===========================>..] - ETA: 0s - loss: 0.1109 - binary_accuracy: 0.8636INFO:tensorflow:Assets written to: ../models/FCN/checkpoint/assets\n"
     ]
    },
    {
     "name": "stderr",
     "output_type": "stream",
     "text": [
      "INFO:tensorflow:Assets written to: ../models/FCN/checkpoint/assets\n"
     ]
    },
    {
     "name": "stdout",
     "output_type": "stream",
     "text": [
      "113/113 [==============================] - 1s 4ms/step - loss: 0.1109 - binary_accuracy: 0.8636 - val_loss: 0.1084 - val_binary_accuracy: 0.8658 - lr: 1.0000e-05\n",
      "Epoch 160/1000\n",
      " 85/113 [=====================>........] - ETA: 0s - loss: 0.1106 - binary_accuracy: 0.8636INFO:tensorflow:Assets written to: ../models/FCN/checkpoint/assets\n"
     ]
    },
    {
     "name": "stderr",
     "output_type": "stream",
     "text": [
      "INFO:tensorflow:Assets written to: ../models/FCN/checkpoint/assets\n"
     ]
    },
    {
     "name": "stdout",
     "output_type": "stream",
     "text": [
      "113/113 [==============================] - 1s 8ms/step - loss: 0.1105 - binary_accuracy: 0.8640 - val_loss: 0.1083 - val_binary_accuracy: 0.8661 - lr: 1.0000e-05\n",
      "Epoch 161/1000\n",
      " 85/113 [=====================>........] - ETA: 0s - loss: 0.1107 - binary_accuracy: 0.8637INFO:tensorflow:Assets written to: ../models/FCN/checkpoint/assets\n"
     ]
    },
    {
     "name": "stderr",
     "output_type": "stream",
     "text": [
      "INFO:tensorflow:Assets written to: ../models/FCN/checkpoint/assets\n"
     ]
    },
    {
     "name": "stdout",
     "output_type": "stream",
     "text": [
      "113/113 [==============================] - 1s 4ms/step - loss: 0.1105 - binary_accuracy: 0.8640 - val_loss: 0.1082 - val_binary_accuracy: 0.8662 - lr: 1.0000e-05\n",
      "Epoch 162/1000\n",
      "112/113 [============================>.] - ETA: 0s - loss: 0.1105 - binary_accuracy: 0.8639INFO:tensorflow:Assets written to: ../models/FCN/checkpoint/assets\n"
     ]
    },
    {
     "name": "stderr",
     "output_type": "stream",
     "text": [
      "INFO:tensorflow:Assets written to: ../models/FCN/checkpoint/assets\n"
     ]
    },
    {
     "name": "stdout",
     "output_type": "stream",
     "text": [
      "113/113 [==============================] - 1s 4ms/step - loss: 0.1105 - binary_accuracy: 0.8639 - val_loss: 0.1081 - val_binary_accuracy: 0.8664 - lr: 1.0000e-05\n",
      "Epoch 163/1000\n",
      " 99/113 [=========================>....] - ETA: 0s - loss: 0.1104 - binary_accuracy: 0.8642INFO:tensorflow:Assets written to: ../models/FCN/checkpoint/assets\n"
     ]
    },
    {
     "name": "stderr",
     "output_type": "stream",
     "text": [
      "INFO:tensorflow:Assets written to: ../models/FCN/checkpoint/assets\n"
     ]
    },
    {
     "name": "stdout",
     "output_type": "stream",
     "text": [
      "113/113 [==============================] - 1s 5ms/step - loss: 0.1103 - binary_accuracy: 0.8643 - val_loss: 0.1080 - val_binary_accuracy: 0.8665 - lr: 1.0000e-05\n",
      "Epoch 164/1000\n",
      "106/113 [===========================>..] - ETA: 0s - loss: 0.1103 - binary_accuracy: 0.8642INFO:tensorflow:Assets written to: ../models/FCN/checkpoint/assets\n"
     ]
    },
    {
     "name": "stderr",
     "output_type": "stream",
     "text": [
      "INFO:tensorflow:Assets written to: ../models/FCN/checkpoint/assets\n"
     ]
    },
    {
     "name": "stdout",
     "output_type": "stream",
     "text": [
      "113/113 [==============================] - 1s 5ms/step - loss: 0.1103 - binary_accuracy: 0.8645 - val_loss: 0.1079 - val_binary_accuracy: 0.8666 - lr: 1.0000e-05\n",
      "Epoch 165/1000\n",
      "101/113 [=========================>....] - ETA: 0s - loss: 0.1100 - binary_accuracy: 0.8647INFO:tensorflow:Assets written to: ../models/FCN/checkpoint/assets\n"
     ]
    },
    {
     "name": "stderr",
     "output_type": "stream",
     "text": [
      "INFO:tensorflow:Assets written to: ../models/FCN/checkpoint/assets\n"
     ]
    },
    {
     "name": "stdout",
     "output_type": "stream",
     "text": [
      "113/113 [==============================] - 1s 5ms/step - loss: 0.1102 - binary_accuracy: 0.8644 - val_loss: 0.1078 - val_binary_accuracy: 0.8667 - lr: 1.0000e-05\n",
      "Epoch 166/1000\n",
      "112/113 [============================>.] - ETA: 0s - loss: 0.1101 - binary_accuracy: 0.8645INFO:tensorflow:Assets written to: ../models/FCN/checkpoint/assets\n"
     ]
    },
    {
     "name": "stderr",
     "output_type": "stream",
     "text": [
      "INFO:tensorflow:Assets written to: ../models/FCN/checkpoint/assets\n"
     ]
    },
    {
     "name": "stdout",
     "output_type": "stream",
     "text": [
      "113/113 [==============================] - 0s 4ms/step - loss: 0.1101 - binary_accuracy: 0.8645 - val_loss: 0.1077 - val_binary_accuracy: 0.8669 - lr: 1.0000e-05\n",
      "Epoch 167/1000\n",
      "113/113 [==============================] - ETA: 0s - loss: 0.1099 - binary_accuracy: 0.8646INFO:tensorflow:Assets written to: ../models/FCN/checkpoint/assets\n"
     ]
    },
    {
     "name": "stderr",
     "output_type": "stream",
     "text": [
      "INFO:tensorflow:Assets written to: ../models/FCN/checkpoint/assets\n"
     ]
    },
    {
     "name": "stdout",
     "output_type": "stream",
     "text": [
      "113/113 [==============================] - 1s 4ms/step - loss: 0.1099 - binary_accuracy: 0.8646 - val_loss: 0.1076 - val_binary_accuracy: 0.8670 - lr: 1.0000e-05\n",
      "Epoch 168/1000\n",
      "112/113 [============================>.] - ETA: 0s - loss: 0.1098 - binary_accuracy: 0.8650INFO:tensorflow:Assets written to: ../models/FCN/checkpoint/assets\n"
     ]
    },
    {
     "name": "stderr",
     "output_type": "stream",
     "text": [
      "INFO:tensorflow:Assets written to: ../models/FCN/checkpoint/assets\n"
     ]
    },
    {
     "name": "stdout",
     "output_type": "stream",
     "text": [
      "113/113 [==============================] - 1s 5ms/step - loss: 0.1098 - binary_accuracy: 0.8650 - val_loss: 0.1075 - val_binary_accuracy: 0.8672 - lr: 1.0000e-05\n",
      "Epoch 169/1000\n",
      "112/113 [============================>.] - ETA: 0s - loss: 0.1098 - binary_accuracy: 0.8650INFO:tensorflow:Assets written to: ../models/FCN/checkpoint/assets\n"
     ]
    },
    {
     "name": "stderr",
     "output_type": "stream",
     "text": [
      "INFO:tensorflow:Assets written to: ../models/FCN/checkpoint/assets\n"
     ]
    },
    {
     "name": "stdout",
     "output_type": "stream",
     "text": [
      "113/113 [==============================] - 1s 5ms/step - loss: 0.1099 - binary_accuracy: 0.8650 - val_loss: 0.1074 - val_binary_accuracy: 0.8673 - lr: 1.0000e-05\n",
      "Epoch 170/1000\n",
      "113/113 [==============================] - ETA: 0s - loss: 0.1096 - binary_accuracy: 0.8652INFO:tensorflow:Assets written to: ../models/FCN/checkpoint/assets\n"
     ]
    },
    {
     "name": "stderr",
     "output_type": "stream",
     "text": [
      "INFO:tensorflow:Assets written to: ../models/FCN/checkpoint/assets\n"
     ]
    },
    {
     "name": "stdout",
     "output_type": "stream",
     "text": [
      "113/113 [==============================] - 1s 4ms/step - loss: 0.1096 - binary_accuracy: 0.8652 - val_loss: 0.1073 - val_binary_accuracy: 0.8674 - lr: 1.0000e-05\n",
      "Epoch 171/1000\n",
      " 91/113 [=======================>......] - ETA: 0s - loss: 0.1096 - binary_accuracy: 0.8647INFO:tensorflow:Assets written to: ../models/FCN/checkpoint/assets\n"
     ]
    },
    {
     "name": "stderr",
     "output_type": "stream",
     "text": [
      "INFO:tensorflow:Assets written to: ../models/FCN/checkpoint/assets\n"
     ]
    },
    {
     "name": "stdout",
     "output_type": "stream",
     "text": [
      "113/113 [==============================] - 1s 5ms/step - loss: 0.1094 - binary_accuracy: 0.8651 - val_loss: 0.1072 - val_binary_accuracy: 0.8676 - lr: 1.0000e-05\n",
      "Epoch 172/1000\n",
      "111/113 [============================>.] - ETA: 0s - loss: 0.1094 - binary_accuracy: 0.8656INFO:tensorflow:Assets written to: ../models/FCN/checkpoint/assets\n"
     ]
    },
    {
     "name": "stderr",
     "output_type": "stream",
     "text": [
      "INFO:tensorflow:Assets written to: ../models/FCN/checkpoint/assets\n"
     ]
    },
    {
     "name": "stdout",
     "output_type": "stream",
     "text": [
      "113/113 [==============================] - 1s 4ms/step - loss: 0.1095 - binary_accuracy: 0.8656 - val_loss: 0.1071 - val_binary_accuracy: 0.8677 - lr: 1.0000e-05\n",
      "Epoch 173/1000\n",
      "112/113 [============================>.] - ETA: 0s - loss: 0.1092 - binary_accuracy: 0.8657INFO:tensorflow:Assets written to: ../models/FCN/checkpoint/assets\n"
     ]
    },
    {
     "name": "stderr",
     "output_type": "stream",
     "text": [
      "INFO:tensorflow:Assets written to: ../models/FCN/checkpoint/assets\n"
     ]
    },
    {
     "name": "stdout",
     "output_type": "stream",
     "text": [
      "113/113 [==============================] - 1s 5ms/step - loss: 0.1092 - binary_accuracy: 0.8657 - val_loss: 0.1070 - val_binary_accuracy: 0.8679 - lr: 1.0000e-05\n",
      "Epoch 174/1000\n",
      "112/113 [============================>.] - ETA: 0s - loss: 0.1093 - binary_accuracy: 0.8657INFO:tensorflow:Assets written to: ../models/FCN/checkpoint/assets\n"
     ]
    },
    {
     "name": "stderr",
     "output_type": "stream",
     "text": [
      "INFO:tensorflow:Assets written to: ../models/FCN/checkpoint/assets\n"
     ]
    },
    {
     "name": "stdout",
     "output_type": "stream",
     "text": [
      "113/113 [==============================] - 1s 4ms/step - loss: 0.1093 - binary_accuracy: 0.8657 - val_loss: 0.1069 - val_binary_accuracy: 0.8680 - lr: 1.0000e-05\n",
      "Epoch 175/1000\n",
      "108/113 [===========================>..] - ETA: 0s - loss: 0.1090 - binary_accuracy: 0.8656INFO:tensorflow:Assets written to: ../models/FCN/checkpoint/assets\n"
     ]
    },
    {
     "name": "stderr",
     "output_type": "stream",
     "text": [
      "INFO:tensorflow:Assets written to: ../models/FCN/checkpoint/assets\n"
     ]
    },
    {
     "name": "stdout",
     "output_type": "stream",
     "text": [
      "113/113 [==============================] - 1s 5ms/step - loss: 0.1091 - binary_accuracy: 0.8655 - val_loss: 0.1068 - val_binary_accuracy: 0.8680 - lr: 1.0000e-05\n",
      "Epoch 176/1000\n",
      " 85/113 [=====================>........] - ETA: 0s - loss: 0.1095 - binary_accuracy: 0.8653INFO:tensorflow:Assets written to: ../models/FCN/checkpoint/assets\n"
     ]
    },
    {
     "name": "stderr",
     "output_type": "stream",
     "text": [
      "INFO:tensorflow:Assets written to: ../models/FCN/checkpoint/assets\n"
     ]
    },
    {
     "name": "stdout",
     "output_type": "stream",
     "text": [
      "113/113 [==============================] - 0s 4ms/step - loss: 0.1090 - binary_accuracy: 0.8659 - val_loss: 0.1067 - val_binary_accuracy: 0.8682 - lr: 1.0000e-05\n",
      "Epoch 177/1000\n",
      "111/113 [============================>.] - ETA: 0s - loss: 0.1088 - binary_accuracy: 0.8662INFO:tensorflow:Assets written to: ../models/FCN/checkpoint/assets\n"
     ]
    },
    {
     "name": "stderr",
     "output_type": "stream",
     "text": [
      "INFO:tensorflow:Assets written to: ../models/FCN/checkpoint/assets\n"
     ]
    },
    {
     "name": "stdout",
     "output_type": "stream",
     "text": [
      "113/113 [==============================] - 1s 4ms/step - loss: 0.1088 - binary_accuracy: 0.8660 - val_loss: 0.1066 - val_binary_accuracy: 0.8683 - lr: 1.0000e-05\n",
      "Epoch 178/1000\n",
      "113/113 [==============================] - ETA: 0s - loss: 0.1088 - binary_accuracy: 0.8663INFO:tensorflow:Assets written to: ../models/FCN/checkpoint/assets\n"
     ]
    },
    {
     "name": "stderr",
     "output_type": "stream",
     "text": [
      "INFO:tensorflow:Assets written to: ../models/FCN/checkpoint/assets\n"
     ]
    },
    {
     "name": "stdout",
     "output_type": "stream",
     "text": [
      "113/113 [==============================] - 1s 4ms/step - loss: 0.1088 - binary_accuracy: 0.8663 - val_loss: 0.1065 - val_binary_accuracy: 0.8684 - lr: 1.0000e-05\n",
      "Epoch 179/1000\n",
      " 94/113 [=======================>......] - ETA: 0s - loss: 0.1092 - binary_accuracy: 0.8656INFO:tensorflow:Assets written to: ../models/FCN/checkpoint/assets\n"
     ]
    },
    {
     "name": "stderr",
     "output_type": "stream",
     "text": [
      "INFO:tensorflow:Assets written to: ../models/FCN/checkpoint/assets\n"
     ]
    },
    {
     "name": "stdout",
     "output_type": "stream",
     "text": [
      "113/113 [==============================] - 1s 5ms/step - loss: 0.1087 - binary_accuracy: 0.8663 - val_loss: 0.1064 - val_binary_accuracy: 0.8686 - lr: 1.0000e-05\n",
      "Epoch 180/1000\n",
      "111/113 [============================>.] - ETA: 0s - loss: 0.1087 - binary_accuracy: 0.8663INFO:tensorflow:Assets written to: ../models/FCN/checkpoint/assets\n"
     ]
    },
    {
     "name": "stderr",
     "output_type": "stream",
     "text": [
      "INFO:tensorflow:Assets written to: ../models/FCN/checkpoint/assets\n"
     ]
    },
    {
     "name": "stdout",
     "output_type": "stream",
     "text": [
      "113/113 [==============================] - 1s 4ms/step - loss: 0.1087 - binary_accuracy: 0.8663 - val_loss: 0.1063 - val_binary_accuracy: 0.8688 - lr: 1.0000e-05\n",
      "Epoch 181/1000\n",
      "103/113 [==========================>...] - ETA: 0s - loss: 0.1084 - binary_accuracy: 0.8669INFO:tensorflow:Assets written to: ../models/FCN/checkpoint/assets\n"
     ]
    },
    {
     "name": "stderr",
     "output_type": "stream",
     "text": [
      "INFO:tensorflow:Assets written to: ../models/FCN/checkpoint/assets\n"
     ]
    },
    {
     "name": "stdout",
     "output_type": "stream",
     "text": [
      "113/113 [==============================] - 1s 9ms/step - loss: 0.1084 - binary_accuracy: 0.8667 - val_loss: 0.1063 - val_binary_accuracy: 0.8689 - lr: 1.0000e-05\n",
      "Epoch 182/1000\n",
      "113/113 [==============================] - ETA: 0s - loss: 0.1085 - binary_accuracy: 0.8665INFO:tensorflow:Assets written to: ../models/FCN/checkpoint/assets\n"
     ]
    },
    {
     "name": "stderr",
     "output_type": "stream",
     "text": [
      "INFO:tensorflow:Assets written to: ../models/FCN/checkpoint/assets\n"
     ]
    },
    {
     "name": "stdout",
     "output_type": "stream",
     "text": [
      "113/113 [==============================] - 1s 5ms/step - loss: 0.1085 - binary_accuracy: 0.8665 - val_loss: 0.1062 - val_binary_accuracy: 0.8689 - lr: 1.0000e-05\n",
      "Epoch 183/1000\n",
      "113/113 [==============================] - ETA: 0s - loss: 0.1083 - binary_accuracy: 0.8666INFO:tensorflow:Assets written to: ../models/FCN/checkpoint/assets\n"
     ]
    },
    {
     "name": "stderr",
     "output_type": "stream",
     "text": [
      "INFO:tensorflow:Assets written to: ../models/FCN/checkpoint/assets\n"
     ]
    },
    {
     "name": "stdout",
     "output_type": "stream",
     "text": [
      "113/113 [==============================] - 1s 5ms/step - loss: 0.1083 - binary_accuracy: 0.8666 - val_loss: 0.1061 - val_binary_accuracy: 0.8690 - lr: 1.0000e-05\n",
      "Epoch 184/1000\n",
      "112/113 [============================>.] - ETA: 0s - loss: 0.1086 - binary_accuracy: 0.8668INFO:tensorflow:Assets written to: ../models/FCN/checkpoint/assets\n"
     ]
    },
    {
     "name": "stderr",
     "output_type": "stream",
     "text": [
      "INFO:tensorflow:Assets written to: ../models/FCN/checkpoint/assets\n"
     ]
    },
    {
     "name": "stdout",
     "output_type": "stream",
     "text": [
      "113/113 [==============================] - 0s 4ms/step - loss: 0.1086 - binary_accuracy: 0.8668 - val_loss: 0.1060 - val_binary_accuracy: 0.8692 - lr: 1.0000e-05\n",
      "Epoch 185/1000\n",
      "112/113 [============================>.] - ETA: 0s - loss: 0.1082 - binary_accuracy: 0.8668INFO:tensorflow:Assets written to: ../models/FCN/checkpoint/assets\n"
     ]
    },
    {
     "name": "stderr",
     "output_type": "stream",
     "text": [
      "INFO:tensorflow:Assets written to: ../models/FCN/checkpoint/assets\n"
     ]
    },
    {
     "name": "stdout",
     "output_type": "stream",
     "text": [
      "113/113 [==============================] - 1s 4ms/step - loss: 0.1082 - binary_accuracy: 0.8668 - val_loss: 0.1059 - val_binary_accuracy: 0.8693 - lr: 1.0000e-05\n",
      "Epoch 186/1000\n",
      " 85/113 [=====================>........] - ETA: 0s - loss: 0.1084 - binary_accuracy: 0.8671INFO:tensorflow:Assets written to: ../models/FCN/checkpoint/assets\n"
     ]
    },
    {
     "name": "stderr",
     "output_type": "stream",
     "text": [
      "INFO:tensorflow:Assets written to: ../models/FCN/checkpoint/assets\n"
     ]
    },
    {
     "name": "stdout",
     "output_type": "stream",
     "text": [
      "113/113 [==============================] - 0s 4ms/step - loss: 0.1081 - binary_accuracy: 0.8671 - val_loss: 0.1058 - val_binary_accuracy: 0.8694 - lr: 1.0000e-05\n",
      "Epoch 187/1000\n",
      " 94/113 [=======================>......] - ETA: 0s - loss: 0.1082 - binary_accuracy: 0.8667INFO:tensorflow:Assets written to: ../models/FCN/checkpoint/assets\n"
     ]
    },
    {
     "name": "stderr",
     "output_type": "stream",
     "text": [
      "INFO:tensorflow:Assets written to: ../models/FCN/checkpoint/assets\n"
     ]
    },
    {
     "name": "stdout",
     "output_type": "stream",
     "text": [
      "113/113 [==============================] - 1s 5ms/step - loss: 0.1080 - binary_accuracy: 0.8668 - val_loss: 0.1057 - val_binary_accuracy: 0.8696 - lr: 1.0000e-05\n",
      "Epoch 188/1000\n",
      "113/113 [==============================] - ETA: 0s - loss: 0.1080 - binary_accuracy: 0.8670INFO:tensorflow:Assets written to: ../models/FCN/checkpoint/assets\n"
     ]
    },
    {
     "name": "stderr",
     "output_type": "stream",
     "text": [
      "INFO:tensorflow:Assets written to: ../models/FCN/checkpoint/assets\n"
     ]
    },
    {
     "name": "stdout",
     "output_type": "stream",
     "text": [
      "113/113 [==============================] - 1s 4ms/step - loss: 0.1080 - binary_accuracy: 0.8670 - val_loss: 0.1057 - val_binary_accuracy: 0.8697 - lr: 1.0000e-05\n",
      "Epoch 189/1000\n",
      " 86/113 [=====================>........] - ETA: 0s - loss: 0.1081 - binary_accuracy: 0.8672INFO:tensorflow:Assets written to: ../models/FCN/checkpoint/assets\n"
     ]
    },
    {
     "name": "stderr",
     "output_type": "stream",
     "text": [
      "INFO:tensorflow:Assets written to: ../models/FCN/checkpoint/assets\n"
     ]
    },
    {
     "name": "stdout",
     "output_type": "stream",
     "text": [
      "113/113 [==============================] - 0s 4ms/step - loss: 0.1080 - binary_accuracy: 0.8671 - val_loss: 0.1056 - val_binary_accuracy: 0.8699 - lr: 1.0000e-05\n",
      "Epoch 190/1000\n",
      " 87/113 [======================>.......] - ETA: 0s - loss: 0.1079 - binary_accuracy: 0.8671INFO:tensorflow:Assets written to: ../models/FCN/checkpoint/assets\n"
     ]
    },
    {
     "name": "stderr",
     "output_type": "stream",
     "text": [
      "INFO:tensorflow:Assets written to: ../models/FCN/checkpoint/assets\n"
     ]
    },
    {
     "name": "stdout",
     "output_type": "stream",
     "text": [
      "113/113 [==============================] - 0s 4ms/step - loss: 0.1078 - binary_accuracy: 0.8673 - val_loss: 0.1055 - val_binary_accuracy: 0.8701 - lr: 1.0000e-05\n",
      "Epoch 191/1000\n",
      "112/113 [============================>.] - ETA: 0s - loss: 0.1078 - binary_accuracy: 0.8673INFO:tensorflow:Assets written to: ../models/FCN/checkpoint/assets\n"
     ]
    },
    {
     "name": "stderr",
     "output_type": "stream",
     "text": [
      "INFO:tensorflow:Assets written to: ../models/FCN/checkpoint/assets\n"
     ]
    },
    {
     "name": "stdout",
     "output_type": "stream",
     "text": [
      "113/113 [==============================] - 1s 4ms/step - loss: 0.1078 - binary_accuracy: 0.8672 - val_loss: 0.1054 - val_binary_accuracy: 0.8701 - lr: 1.0000e-05\n",
      "Epoch 192/1000\n",
      "113/113 [==============================] - ETA: 0s - loss: 0.1076 - binary_accuracy: 0.8676INFO:tensorflow:Assets written to: ../models/FCN/checkpoint/assets\n"
     ]
    },
    {
     "name": "stderr",
     "output_type": "stream",
     "text": [
      "INFO:tensorflow:Assets written to: ../models/FCN/checkpoint/assets\n"
     ]
    },
    {
     "name": "stdout",
     "output_type": "stream",
     "text": [
      "113/113 [==============================] - 1s 4ms/step - loss: 0.1076 - binary_accuracy: 0.8676 - val_loss: 0.1053 - val_binary_accuracy: 0.8702 - lr: 1.0000e-05\n",
      "Epoch 193/1000\n",
      "112/113 [============================>.] - ETA: 0s - loss: 0.1077 - binary_accuracy: 0.8674INFO:tensorflow:Assets written to: ../models/FCN/checkpoint/assets\n"
     ]
    },
    {
     "name": "stderr",
     "output_type": "stream",
     "text": [
      "INFO:tensorflow:Assets written to: ../models/FCN/checkpoint/assets\n"
     ]
    },
    {
     "name": "stdout",
     "output_type": "stream",
     "text": [
      "113/113 [==============================] - 1s 4ms/step - loss: 0.1076 - binary_accuracy: 0.8675 - val_loss: 0.1053 - val_binary_accuracy: 0.8703 - lr: 1.0000e-05\n",
      "Epoch 194/1000\n",
      "113/113 [==============================] - ETA: 0s - loss: 0.1076 - binary_accuracy: 0.8678INFO:tensorflow:Assets written to: ../models/FCN/checkpoint/assets\n"
     ]
    },
    {
     "name": "stderr",
     "output_type": "stream",
     "text": [
      "INFO:tensorflow:Assets written to: ../models/FCN/checkpoint/assets\n"
     ]
    },
    {
     "name": "stdout",
     "output_type": "stream",
     "text": [
      "113/113 [==============================] - 1s 4ms/step - loss: 0.1076 - binary_accuracy: 0.8678 - val_loss: 0.1052 - val_binary_accuracy: 0.8704 - lr: 1.0000e-05\n",
      "Epoch 195/1000\n",
      " 93/113 [=======================>......] - ETA: 0s - loss: 0.1076 - binary_accuracy: 0.8675INFO:tensorflow:Assets written to: ../models/FCN/checkpoint/assets\n"
     ]
    },
    {
     "name": "stderr",
     "output_type": "stream",
     "text": [
      "INFO:tensorflow:Assets written to: ../models/FCN/checkpoint/assets\n"
     ]
    },
    {
     "name": "stdout",
     "output_type": "stream",
     "text": [
      "113/113 [==============================] - 1s 5ms/step - loss: 0.1074 - binary_accuracy: 0.8677 - val_loss: 0.1051 - val_binary_accuracy: 0.8705 - lr: 1.0000e-05\n",
      "Epoch 196/1000\n",
      "113/113 [==============================] - ETA: 0s - loss: 0.1073 - binary_accuracy: 0.8679INFO:tensorflow:Assets written to: ../models/FCN/checkpoint/assets\n"
     ]
    },
    {
     "name": "stderr",
     "output_type": "stream",
     "text": [
      "INFO:tensorflow:Assets written to: ../models/FCN/checkpoint/assets\n"
     ]
    },
    {
     "name": "stdout",
     "output_type": "stream",
     "text": [
      "113/113 [==============================] - 1s 5ms/step - loss: 0.1073 - binary_accuracy: 0.8679 - val_loss: 0.1050 - val_binary_accuracy: 0.8707 - lr: 1.0000e-05\n",
      "Epoch 197/1000\n",
      "106/113 [===========================>..] - ETA: 0s - loss: 0.1073 - binary_accuracy: 0.8678INFO:tensorflow:Assets written to: ../models/FCN/checkpoint/assets\n"
     ]
    },
    {
     "name": "stderr",
     "output_type": "stream",
     "text": [
      "INFO:tensorflow:Assets written to: ../models/FCN/checkpoint/assets\n"
     ]
    },
    {
     "name": "stdout",
     "output_type": "stream",
     "text": [
      "113/113 [==============================] - 1s 5ms/step - loss: 0.1072 - binary_accuracy: 0.8678 - val_loss: 0.1050 - val_binary_accuracy: 0.8708 - lr: 1.0000e-05\n",
      "Epoch 198/1000\n",
      "107/113 [===========================>..] - ETA: 0s - loss: 0.1071 - binary_accuracy: 0.8683INFO:tensorflow:Assets written to: ../models/FCN/checkpoint/assets\n"
     ]
    },
    {
     "name": "stderr",
     "output_type": "stream",
     "text": [
      "INFO:tensorflow:Assets written to: ../models/FCN/checkpoint/assets\n"
     ]
    },
    {
     "name": "stdout",
     "output_type": "stream",
     "text": [
      "113/113 [==============================] - 1s 5ms/step - loss: 0.1072 - binary_accuracy: 0.8679 - val_loss: 0.1049 - val_binary_accuracy: 0.8709 - lr: 1.0000e-05\n",
      "Epoch 199/1000\n",
      "103/113 [==========================>...] - ETA: 0s - loss: 0.1072 - binary_accuracy: 0.8680INFO:tensorflow:Assets written to: ../models/FCN/checkpoint/assets\n"
     ]
    },
    {
     "name": "stderr",
     "output_type": "stream",
     "text": [
      "INFO:tensorflow:Assets written to: ../models/FCN/checkpoint/assets\n"
     ]
    },
    {
     "name": "stdout",
     "output_type": "stream",
     "text": [
      "113/113 [==============================] - 1s 5ms/step - loss: 0.1072 - binary_accuracy: 0.8680 - val_loss: 0.1048 - val_binary_accuracy: 0.8711 - lr: 1.0000e-05\n",
      "Epoch 200/1000\n",
      "107/113 [===========================>..] - ETA: 0s - loss: 0.1070 - binary_accuracy: 0.8683INFO:tensorflow:Assets written to: ../models/FCN/checkpoint/assets\n"
     ]
    },
    {
     "name": "stderr",
     "output_type": "stream",
     "text": [
      "INFO:tensorflow:Assets written to: ../models/FCN/checkpoint/assets\n"
     ]
    },
    {
     "name": "stdout",
     "output_type": "stream",
     "text": [
      "113/113 [==============================] - 1s 5ms/step - loss: 0.1070 - binary_accuracy: 0.8685 - val_loss: 0.1047 - val_binary_accuracy: 0.8711 - lr: 1.0000e-05\n",
      "Epoch 201/1000\n",
      " 95/113 [========================>.....] - ETA: 0s - loss: 0.1069 - binary_accuracy: 0.8681INFO:tensorflow:Assets written to: ../models/FCN/checkpoint/assets\n"
     ]
    },
    {
     "name": "stderr",
     "output_type": "stream",
     "text": [
      "INFO:tensorflow:Assets written to: ../models/FCN/checkpoint/assets\n"
     ]
    },
    {
     "name": "stdout",
     "output_type": "stream",
     "text": [
      "113/113 [==============================] - 1s 9ms/step - loss: 0.1070 - binary_accuracy: 0.8680 - val_loss: 0.1047 - val_binary_accuracy: 0.8712 - lr: 1.0000e-05\n",
      "Epoch 202/1000\n",
      "100/113 [=========================>....] - ETA: 0s - loss: 0.1068 - binary_accuracy: 0.8684INFO:tensorflow:Assets written to: ../models/FCN/checkpoint/assets\n"
     ]
    },
    {
     "name": "stderr",
     "output_type": "stream",
     "text": [
      "INFO:tensorflow:Assets written to: ../models/FCN/checkpoint/assets\n"
     ]
    },
    {
     "name": "stdout",
     "output_type": "stream",
     "text": [
      "113/113 [==============================] - 1s 5ms/step - loss: 0.1069 - binary_accuracy: 0.8684 - val_loss: 0.1046 - val_binary_accuracy: 0.8713 - lr: 1.0000e-05\n",
      "Epoch 203/1000\n",
      " 86/113 [=====================>........] - ETA: 0s - loss: 0.1069 - binary_accuracy: 0.8686INFO:tensorflow:Assets written to: ../models/FCN/checkpoint/assets\n"
     ]
    },
    {
     "name": "stderr",
     "output_type": "stream",
     "text": [
      "INFO:tensorflow:Assets written to: ../models/FCN/checkpoint/assets\n"
     ]
    },
    {
     "name": "stdout",
     "output_type": "stream",
     "text": [
      "113/113 [==============================] - 1s 5ms/step - loss: 0.1070 - binary_accuracy: 0.8685 - val_loss: 0.1045 - val_binary_accuracy: 0.8714 - lr: 1.0000e-05\n",
      "Epoch 204/1000\n",
      "108/113 [===========================>..] - ETA: 0s - loss: 0.1064 - binary_accuracy: 0.8689INFO:tensorflow:Assets written to: ../models/FCN/checkpoint/assets\n"
     ]
    },
    {
     "name": "stderr",
     "output_type": "stream",
     "text": [
      "INFO:tensorflow:Assets written to: ../models/FCN/checkpoint/assets\n"
     ]
    },
    {
     "name": "stdout",
     "output_type": "stream",
     "text": [
      "113/113 [==============================] - 1s 5ms/step - loss: 0.1065 - binary_accuracy: 0.8686 - val_loss: 0.1045 - val_binary_accuracy: 0.8714 - lr: 1.0000e-05\n",
      "Epoch 205/1000\n",
      "104/113 [==========================>...] - ETA: 0s - loss: 0.1067 - binary_accuracy: 0.8685INFO:tensorflow:Assets written to: ../models/FCN/checkpoint/assets\n"
     ]
    },
    {
     "name": "stderr",
     "output_type": "stream",
     "text": [
      "INFO:tensorflow:Assets written to: ../models/FCN/checkpoint/assets\n"
     ]
    },
    {
     "name": "stdout",
     "output_type": "stream",
     "text": [
      "113/113 [==============================] - 1s 5ms/step - loss: 0.1065 - binary_accuracy: 0.8690 - val_loss: 0.1044 - val_binary_accuracy: 0.8716 - lr: 1.0000e-05\n",
      "Epoch 206/1000\n",
      "111/113 [============================>.] - ETA: 0s - loss: 0.1065 - binary_accuracy: 0.8690INFO:tensorflow:Assets written to: ../models/FCN/checkpoint/assets\n"
     ]
    },
    {
     "name": "stderr",
     "output_type": "stream",
     "text": [
      "INFO:tensorflow:Assets written to: ../models/FCN/checkpoint/assets\n"
     ]
    },
    {
     "name": "stdout",
     "output_type": "stream",
     "text": [
      "113/113 [==============================] - 1s 4ms/step - loss: 0.1065 - binary_accuracy: 0.8689 - val_loss: 0.1043 - val_binary_accuracy: 0.8716 - lr: 1.0000e-05\n",
      "Epoch 207/1000\n",
      "111/113 [============================>.] - ETA: 0s - loss: 0.1068 - binary_accuracy: 0.8686INFO:tensorflow:Assets written to: ../models/FCN/checkpoint/assets\n"
     ]
    },
    {
     "name": "stderr",
     "output_type": "stream",
     "text": [
      "INFO:tensorflow:Assets written to: ../models/FCN/checkpoint/assets\n"
     ]
    },
    {
     "name": "stdout",
     "output_type": "stream",
     "text": [
      "113/113 [==============================] - 1s 5ms/step - loss: 0.1069 - binary_accuracy: 0.8685 - val_loss: 0.1043 - val_binary_accuracy: 0.8717 - lr: 1.0000e-05\n",
      "Epoch 208/1000\n",
      "110/113 [============================>.] - ETA: 0s - loss: 0.1065 - binary_accuracy: 0.8687INFO:tensorflow:Assets written to: ../models/FCN/checkpoint/assets\n"
     ]
    },
    {
     "name": "stderr",
     "output_type": "stream",
     "text": [
      "INFO:tensorflow:Assets written to: ../models/FCN/checkpoint/assets\n"
     ]
    },
    {
     "name": "stdout",
     "output_type": "stream",
     "text": [
      "113/113 [==============================] - 1s 5ms/step - loss: 0.1064 - binary_accuracy: 0.8688 - val_loss: 0.1042 - val_binary_accuracy: 0.8718 - lr: 1.0000e-05\n",
      "Epoch 209/1000\n",
      "104/113 [==========================>...] - ETA: 0s - loss: 0.1063 - binary_accuracy: 0.8692INFO:tensorflow:Assets written to: ../models/FCN/checkpoint/assets\n"
     ]
    },
    {
     "name": "stderr",
     "output_type": "stream",
     "text": [
      "INFO:tensorflow:Assets written to: ../models/FCN/checkpoint/assets\n"
     ]
    },
    {
     "name": "stdout",
     "output_type": "stream",
     "text": [
      "113/113 [==============================] - 1s 5ms/step - loss: 0.1062 - binary_accuracy: 0.8692 - val_loss: 0.1041 - val_binary_accuracy: 0.8718 - lr: 1.0000e-05\n",
      "Epoch 210/1000\n",
      "113/113 [==============================] - ETA: 0s - loss: 0.1062 - binary_accuracy: 0.8693INFO:tensorflow:Assets written to: ../models/FCN/checkpoint/assets\n"
     ]
    },
    {
     "name": "stderr",
     "output_type": "stream",
     "text": [
      "INFO:tensorflow:Assets written to: ../models/FCN/checkpoint/assets\n"
     ]
    },
    {
     "name": "stdout",
     "output_type": "stream",
     "text": [
      "113/113 [==============================] - 1s 5ms/step - loss: 0.1062 - binary_accuracy: 0.8693 - val_loss: 0.1041 - val_binary_accuracy: 0.8719 - lr: 1.0000e-05\n",
      "Epoch 211/1000\n",
      "110/113 [============================>.] - ETA: 0s - loss: 0.1065 - binary_accuracy: 0.8687INFO:tensorflow:Assets written to: ../models/FCN/checkpoint/assets\n"
     ]
    },
    {
     "name": "stderr",
     "output_type": "stream",
     "text": [
      "INFO:tensorflow:Assets written to: ../models/FCN/checkpoint/assets\n"
     ]
    },
    {
     "name": "stdout",
     "output_type": "stream",
     "text": [
      "113/113 [==============================] - 1s 4ms/step - loss: 0.1064 - binary_accuracy: 0.8688 - val_loss: 0.1040 - val_binary_accuracy: 0.8720 - lr: 1.0000e-05\n",
      "Epoch 212/1000\n",
      " 85/113 [=====================>........] - ETA: 0s - loss: 0.1061 - binary_accuracy: 0.8693INFO:tensorflow:Assets written to: ../models/FCN/checkpoint/assets\n"
     ]
    },
    {
     "name": "stderr",
     "output_type": "stream",
     "text": [
      "INFO:tensorflow:Assets written to: ../models/FCN/checkpoint/assets\n"
     ]
    },
    {
     "name": "stdout",
     "output_type": "stream",
     "text": [
      "113/113 [==============================] - 1s 4ms/step - loss: 0.1062 - binary_accuracy: 0.8690 - val_loss: 0.1039 - val_binary_accuracy: 0.8721 - lr: 1.0000e-05\n",
      "Epoch 213/1000\n",
      "113/113 [==============================] - ETA: 0s - loss: 0.1062 - binary_accuracy: 0.8693INFO:tensorflow:Assets written to: ../models/FCN/checkpoint/assets\n"
     ]
    },
    {
     "name": "stderr",
     "output_type": "stream",
     "text": [
      "INFO:tensorflow:Assets written to: ../models/FCN/checkpoint/assets\n"
     ]
    },
    {
     "name": "stdout",
     "output_type": "stream",
     "text": [
      "113/113 [==============================] - 1s 5ms/step - loss: 0.1062 - binary_accuracy: 0.8693 - val_loss: 0.1039 - val_binary_accuracy: 0.8721 - lr: 1.0000e-05\n",
      "Epoch 214/1000\n",
      "109/113 [===========================>..] - ETA: 0s - loss: 0.1060 - binary_accuracy: 0.8695INFO:tensorflow:Assets written to: ../models/FCN/checkpoint/assets\n"
     ]
    },
    {
     "name": "stderr",
     "output_type": "stream",
     "text": [
      "INFO:tensorflow:Assets written to: ../models/FCN/checkpoint/assets\n"
     ]
    },
    {
     "name": "stdout",
     "output_type": "stream",
     "text": [
      "113/113 [==============================] - 1s 5ms/step - loss: 0.1061 - binary_accuracy: 0.8694 - val_loss: 0.1038 - val_binary_accuracy: 0.8722 - lr: 1.0000e-05\n",
      "Epoch 215/1000\n",
      "108/113 [===========================>..] - ETA: 0s - loss: 0.1061 - binary_accuracy: 0.8695INFO:tensorflow:Assets written to: ../models/FCN/checkpoint/assets\n"
     ]
    },
    {
     "name": "stderr",
     "output_type": "stream",
     "text": [
      "INFO:tensorflow:Assets written to: ../models/FCN/checkpoint/assets\n"
     ]
    },
    {
     "name": "stdout",
     "output_type": "stream",
     "text": [
      "113/113 [==============================] - 1s 5ms/step - loss: 0.1060 - binary_accuracy: 0.8696 - val_loss: 0.1038 - val_binary_accuracy: 0.8723 - lr: 1.0000e-05\n",
      "Epoch 216/1000\n",
      "107/113 [===========================>..] - ETA: 0s - loss: 0.1060 - binary_accuracy: 0.8693INFO:tensorflow:Assets written to: ../models/FCN/checkpoint/assets\n"
     ]
    },
    {
     "name": "stderr",
     "output_type": "stream",
     "text": [
      "INFO:tensorflow:Assets written to: ../models/FCN/checkpoint/assets\n"
     ]
    },
    {
     "name": "stdout",
     "output_type": "stream",
     "text": [
      "113/113 [==============================] - 1s 5ms/step - loss: 0.1060 - binary_accuracy: 0.8693 - val_loss: 0.1037 - val_binary_accuracy: 0.8724 - lr: 1.0000e-05\n",
      "Epoch 217/1000\n",
      " 86/113 [=====================>........] - ETA: 0s - loss: 0.1056 - binary_accuracy: 0.8699INFO:tensorflow:Assets written to: ../models/FCN/checkpoint/assets\n"
     ]
    },
    {
     "name": "stderr",
     "output_type": "stream",
     "text": [
      "INFO:tensorflow:Assets written to: ../models/FCN/checkpoint/assets\n"
     ]
    },
    {
     "name": "stdout",
     "output_type": "stream",
     "text": [
      "113/113 [==============================] - 1s 4ms/step - loss: 0.1057 - binary_accuracy: 0.8701 - val_loss: 0.1036 - val_binary_accuracy: 0.8724 - lr: 1.0000e-05\n",
      "Epoch 218/1000\n",
      " 84/113 [=====================>........] - ETA: 0s - loss: 0.1053 - binary_accuracy: 0.8704INFO:tensorflow:Assets written to: ../models/FCN/checkpoint/assets\n"
     ]
    },
    {
     "name": "stderr",
     "output_type": "stream",
     "text": [
      "INFO:tensorflow:Assets written to: ../models/FCN/checkpoint/assets\n"
     ]
    },
    {
     "name": "stdout",
     "output_type": "stream",
     "text": [
      "113/113 [==============================] - 1s 5ms/step - loss: 0.1056 - binary_accuracy: 0.8698 - val_loss: 0.1036 - val_binary_accuracy: 0.8725 - lr: 1.0000e-05\n",
      "Epoch 219/1000\n",
      "111/113 [============================>.] - ETA: 0s - loss: 0.1059 - binary_accuracy: 0.8697INFO:tensorflow:Assets written to: ../models/FCN/checkpoint/assets\n"
     ]
    },
    {
     "name": "stderr",
     "output_type": "stream",
     "text": [
      "INFO:tensorflow:Assets written to: ../models/FCN/checkpoint/assets\n"
     ]
    },
    {
     "name": "stdout",
     "output_type": "stream",
     "text": [
      "113/113 [==============================] - 1s 5ms/step - loss: 0.1058 - binary_accuracy: 0.8698 - val_loss: 0.1035 - val_binary_accuracy: 0.8726 - lr: 1.0000e-05\n",
      "Epoch 220/1000\n",
      "113/113 [==============================] - ETA: 0s - loss: 0.1058 - binary_accuracy: 0.8699INFO:tensorflow:Assets written to: ../models/FCN/checkpoint/assets\n"
     ]
    },
    {
     "name": "stderr",
     "output_type": "stream",
     "text": [
      "INFO:tensorflow:Assets written to: ../models/FCN/checkpoint/assets\n"
     ]
    },
    {
     "name": "stdout",
     "output_type": "stream",
     "text": [
      "113/113 [==============================] - 1s 5ms/step - loss: 0.1058 - binary_accuracy: 0.8699 - val_loss: 0.1035 - val_binary_accuracy: 0.8726 - lr: 1.0000e-05\n",
      "Epoch 221/1000\n",
      "113/113 [==============================] - ETA: 0s - loss: 0.1054 - binary_accuracy: 0.8700INFO:tensorflow:Assets written to: ../models/FCN/checkpoint/assets\n"
     ]
    },
    {
     "name": "stderr",
     "output_type": "stream",
     "text": [
      "INFO:tensorflow:Assets written to: ../models/FCN/checkpoint/assets\n"
     ]
    },
    {
     "name": "stdout",
     "output_type": "stream",
     "text": [
      "113/113 [==============================] - 1s 4ms/step - loss: 0.1054 - binary_accuracy: 0.8700 - val_loss: 0.1034 - val_binary_accuracy: 0.8727 - lr: 1.0000e-05\n",
      "Epoch 222/1000\n",
      "112/113 [============================>.] - ETA: 0s - loss: 0.1056 - binary_accuracy: 0.8699INFO:tensorflow:Assets written to: ../models/FCN/checkpoint/assets\n"
     ]
    },
    {
     "name": "stderr",
     "output_type": "stream",
     "text": [
      "INFO:tensorflow:Assets written to: ../models/FCN/checkpoint/assets\n"
     ]
    },
    {
     "name": "stdout",
     "output_type": "stream",
     "text": [
      "113/113 [==============================] - 1s 12ms/step - loss: 0.1056 - binary_accuracy: 0.8700 - val_loss: 0.1033 - val_binary_accuracy: 0.8727 - lr: 1.0000e-05\n",
      "Epoch 223/1000\n",
      "109/113 [===========================>..] - ETA: 0s - loss: 0.1055 - binary_accuracy: 0.8700INFO:tensorflow:Assets written to: ../models/FCN/checkpoint/assets\n"
     ]
    },
    {
     "name": "stderr",
     "output_type": "stream",
     "text": [
      "INFO:tensorflow:Assets written to: ../models/FCN/checkpoint/assets\n"
     ]
    },
    {
     "name": "stdout",
     "output_type": "stream",
     "text": [
      "113/113 [==============================] - 1s 5ms/step - loss: 0.1055 - binary_accuracy: 0.8700 - val_loss: 0.1033 - val_binary_accuracy: 0.8729 - lr: 1.0000e-05\n",
      "Epoch 224/1000\n",
      "110/113 [============================>.] - ETA: 0s - loss: 0.1056 - binary_accuracy: 0.8699INFO:tensorflow:Assets written to: ../models/FCN/checkpoint/assets\n"
     ]
    },
    {
     "name": "stderr",
     "output_type": "stream",
     "text": [
      "INFO:tensorflow:Assets written to: ../models/FCN/checkpoint/assets\n"
     ]
    },
    {
     "name": "stdout",
     "output_type": "stream",
     "text": [
      "113/113 [==============================] - 1s 5ms/step - loss: 0.1056 - binary_accuracy: 0.8699 - val_loss: 0.1032 - val_binary_accuracy: 0.8730 - lr: 1.0000e-05\n",
      "Epoch 225/1000\n",
      " 94/113 [=======================>......] - ETA: 0s - loss: 0.1054 - binary_accuracy: 0.8704INFO:tensorflow:Assets written to: ../models/FCN/checkpoint/assets\n"
     ]
    },
    {
     "name": "stderr",
     "output_type": "stream",
     "text": [
      "INFO:tensorflow:Assets written to: ../models/FCN/checkpoint/assets\n"
     ]
    },
    {
     "name": "stdout",
     "output_type": "stream",
     "text": [
      "113/113 [==============================] - 1s 5ms/step - loss: 0.1053 - binary_accuracy: 0.8703 - val_loss: 0.1032 - val_binary_accuracy: 0.8729 - lr: 1.0000e-05\n",
      "Epoch 226/1000\n",
      "113/113 [==============================] - ETA: 0s - loss: 0.1052 - binary_accuracy: 0.8702INFO:tensorflow:Assets written to: ../models/FCN/checkpoint/assets\n"
     ]
    },
    {
     "name": "stderr",
     "output_type": "stream",
     "text": [
      "INFO:tensorflow:Assets written to: ../models/FCN/checkpoint/assets\n"
     ]
    },
    {
     "name": "stdout",
     "output_type": "stream",
     "text": [
      "113/113 [==============================] - 1s 5ms/step - loss: 0.1052 - binary_accuracy: 0.8702 - val_loss: 0.1031 - val_binary_accuracy: 0.8732 - lr: 1.0000e-05\n",
      "Epoch 227/1000\n",
      "113/113 [==============================] - ETA: 0s - loss: 0.1054 - binary_accuracy: 0.8704INFO:tensorflow:Assets written to: ../models/FCN/checkpoint/assets\n"
     ]
    },
    {
     "name": "stderr",
     "output_type": "stream",
     "text": [
      "INFO:tensorflow:Assets written to: ../models/FCN/checkpoint/assets\n"
     ]
    },
    {
     "name": "stdout",
     "output_type": "stream",
     "text": [
      "113/113 [==============================] - 1s 5ms/step - loss: 0.1054 - binary_accuracy: 0.8704 - val_loss: 0.1031 - val_binary_accuracy: 0.8732 - lr: 1.0000e-05\n",
      "Epoch 228/1000\n",
      "111/113 [============================>.] - ETA: 0s - loss: 0.1051 - binary_accuracy: 0.8703INFO:tensorflow:Assets written to: ../models/FCN/checkpoint/assets\n"
     ]
    },
    {
     "name": "stderr",
     "output_type": "stream",
     "text": [
      "INFO:tensorflow:Assets written to: ../models/FCN/checkpoint/assets\n"
     ]
    },
    {
     "name": "stdout",
     "output_type": "stream",
     "text": [
      "113/113 [==============================] - 1s 5ms/step - loss: 0.1052 - binary_accuracy: 0.8702 - val_loss: 0.1030 - val_binary_accuracy: 0.8733 - lr: 1.0000e-05\n",
      "Epoch 229/1000\n",
      " 85/113 [=====================>........] - ETA: 0s - loss: 0.1049 - binary_accuracy: 0.8706INFO:tensorflow:Assets written to: ../models/FCN/checkpoint/assets\n"
     ]
    },
    {
     "name": "stderr",
     "output_type": "stream",
     "text": [
      "INFO:tensorflow:Assets written to: ../models/FCN/checkpoint/assets\n"
     ]
    },
    {
     "name": "stdout",
     "output_type": "stream",
     "text": [
      "113/113 [==============================] - 1s 5ms/step - loss: 0.1050 - binary_accuracy: 0.8704 - val_loss: 0.1030 - val_binary_accuracy: 0.8733 - lr: 1.0000e-05\n",
      "Epoch 230/1000\n",
      "105/113 [==========================>...] - ETA: 0s - loss: 0.1050 - binary_accuracy: 0.8706INFO:tensorflow:Assets written to: ../models/FCN/checkpoint/assets\n"
     ]
    },
    {
     "name": "stderr",
     "output_type": "stream",
     "text": [
      "INFO:tensorflow:Assets written to: ../models/FCN/checkpoint/assets\n"
     ]
    },
    {
     "name": "stdout",
     "output_type": "stream",
     "text": [
      "113/113 [==============================] - 1s 5ms/step - loss: 0.1050 - binary_accuracy: 0.8707 - val_loss: 0.1029 - val_binary_accuracy: 0.8734 - lr: 1.0000e-05\n",
      "Epoch 231/1000\n",
      " 88/113 [======================>.......] - ETA: 0s - loss: 0.1052 - binary_accuracy: 0.8701INFO:tensorflow:Assets written to: ../models/FCN/checkpoint/assets\n"
     ]
    },
    {
     "name": "stderr",
     "output_type": "stream",
     "text": [
      "INFO:tensorflow:Assets written to: ../models/FCN/checkpoint/assets\n"
     ]
    },
    {
     "name": "stdout",
     "output_type": "stream",
     "text": [
      "113/113 [==============================] - 0s 4ms/step - loss: 0.1049 - binary_accuracy: 0.8707 - val_loss: 0.1029 - val_binary_accuracy: 0.8735 - lr: 1.0000e-05\n",
      "Epoch 232/1000\n",
      " 85/113 [=====================>........] - ETA: 0s - loss: 0.1046 - binary_accuracy: 0.8714INFO:tensorflow:Assets written to: ../models/FCN/checkpoint/assets\n"
     ]
    },
    {
     "name": "stderr",
     "output_type": "stream",
     "text": [
      "INFO:tensorflow:Assets written to: ../models/FCN/checkpoint/assets\n"
     ]
    },
    {
     "name": "stdout",
     "output_type": "stream",
     "text": [
      "113/113 [==============================] - 0s 4ms/step - loss: 0.1049 - binary_accuracy: 0.8709 - val_loss: 0.1028 - val_binary_accuracy: 0.8736 - lr: 1.0000e-05\n",
      "Epoch 233/1000\n",
      " 87/113 [======================>.......] - ETA: 0s - loss: 0.1051 - binary_accuracy: 0.8705INFO:tensorflow:Assets written to: ../models/FCN/checkpoint/assets\n"
     ]
    },
    {
     "name": "stderr",
     "output_type": "stream",
     "text": [
      "INFO:tensorflow:Assets written to: ../models/FCN/checkpoint/assets\n"
     ]
    },
    {
     "name": "stdout",
     "output_type": "stream",
     "text": [
      "113/113 [==============================] - 1s 5ms/step - loss: 0.1049 - binary_accuracy: 0.8709 - val_loss: 0.1028 - val_binary_accuracy: 0.8737 - lr: 1.0000e-05\n",
      "Epoch 234/1000\n",
      "110/113 [============================>.] - ETA: 0s - loss: 0.1049 - binary_accuracy: 0.8712INFO:tensorflow:Assets written to: ../models/FCN/checkpoint/assets\n"
     ]
    },
    {
     "name": "stderr",
     "output_type": "stream",
     "text": [
      "INFO:tensorflow:Assets written to: ../models/FCN/checkpoint/assets\n"
     ]
    },
    {
     "name": "stdout",
     "output_type": "stream",
     "text": [
      "113/113 [==============================] - 1s 5ms/step - loss: 0.1049 - binary_accuracy: 0.8712 - val_loss: 0.1027 - val_binary_accuracy: 0.8737 - lr: 1.0000e-05\n",
      "Epoch 235/1000\n",
      "111/113 [============================>.] - ETA: 0s - loss: 0.1049 - binary_accuracy: 0.8710INFO:tensorflow:Assets written to: ../models/FCN/checkpoint/assets\n"
     ]
    },
    {
     "name": "stderr",
     "output_type": "stream",
     "text": [
      "INFO:tensorflow:Assets written to: ../models/FCN/checkpoint/assets\n"
     ]
    },
    {
     "name": "stdout",
     "output_type": "stream",
     "text": [
      "113/113 [==============================] - 1s 5ms/step - loss: 0.1047 - binary_accuracy: 0.8711 - val_loss: 0.1027 - val_binary_accuracy: 0.8738 - lr: 1.0000e-05\n",
      "Epoch 236/1000\n",
      "104/113 [==========================>...] - ETA: 0s - loss: 0.1045 - binary_accuracy: 0.8715INFO:tensorflow:Assets written to: ../models/FCN/checkpoint/assets\n"
     ]
    },
    {
     "name": "stderr",
     "output_type": "stream",
     "text": [
      "INFO:tensorflow:Assets written to: ../models/FCN/checkpoint/assets\n"
     ]
    },
    {
     "name": "stdout",
     "output_type": "stream",
     "text": [
      "113/113 [==============================] - 1s 5ms/step - loss: 0.1046 - binary_accuracy: 0.8715 - val_loss: 0.1026 - val_binary_accuracy: 0.8739 - lr: 1.0000e-05\n",
      "Epoch 237/1000\n",
      "113/113 [==============================] - ETA: 0s - loss: 0.1047 - binary_accuracy: 0.8711INFO:tensorflow:Assets written to: ../models/FCN/checkpoint/assets\n"
     ]
    },
    {
     "name": "stderr",
     "output_type": "stream",
     "text": [
      "INFO:tensorflow:Assets written to: ../models/FCN/checkpoint/assets\n"
     ]
    },
    {
     "name": "stdout",
     "output_type": "stream",
     "text": [
      "113/113 [==============================] - 1s 5ms/step - loss: 0.1047 - binary_accuracy: 0.8711 - val_loss: 0.1026 - val_binary_accuracy: 0.8739 - lr: 1.0000e-05\n",
      "Epoch 238/1000\n",
      "112/113 [============================>.] - ETA: 0s - loss: 0.1047 - binary_accuracy: 0.8709INFO:tensorflow:Assets written to: ../models/FCN/checkpoint/assets\n"
     ]
    },
    {
     "name": "stderr",
     "output_type": "stream",
     "text": [
      "INFO:tensorflow:Assets written to: ../models/FCN/checkpoint/assets\n"
     ]
    },
    {
     "name": "stdout",
     "output_type": "stream",
     "text": [
      "113/113 [==============================] - 1s 5ms/step - loss: 0.1047 - binary_accuracy: 0.8710 - val_loss: 0.1025 - val_binary_accuracy: 0.8740 - lr: 1.0000e-05\n",
      "Epoch 239/1000\n",
      "113/113 [==============================] - ETA: 0s - loss: 0.1045 - binary_accuracy: 0.8713INFO:tensorflow:Assets written to: ../models/FCN/checkpoint/assets\n"
     ]
    },
    {
     "name": "stderr",
     "output_type": "stream",
     "text": [
      "INFO:tensorflow:Assets written to: ../models/FCN/checkpoint/assets\n"
     ]
    },
    {
     "name": "stdout",
     "output_type": "stream",
     "text": [
      "113/113 [==============================] - 1s 5ms/step - loss: 0.1045 - binary_accuracy: 0.8713 - val_loss: 0.1025 - val_binary_accuracy: 0.8741 - lr: 1.0000e-05\n",
      "Epoch 240/1000\n",
      "107/113 [===========================>..] - ETA: 0s - loss: 0.1044 - binary_accuracy: 0.8711INFO:tensorflow:Assets written to: ../models/FCN/checkpoint/assets\n"
     ]
    },
    {
     "name": "stderr",
     "output_type": "stream",
     "text": [
      "INFO:tensorflow:Assets written to: ../models/FCN/checkpoint/assets\n"
     ]
    },
    {
     "name": "stdout",
     "output_type": "stream",
     "text": [
      "113/113 [==============================] - 1s 5ms/step - loss: 0.1045 - binary_accuracy: 0.8710 - val_loss: 0.1024 - val_binary_accuracy: 0.8741 - lr: 1.0000e-05\n",
      "Epoch 241/1000\n",
      " 94/113 [=======================>......] - ETA: 0s - loss: 0.1046 - binary_accuracy: 0.8712INFO:tensorflow:Assets written to: ../models/FCN/checkpoint/assets\n"
     ]
    },
    {
     "name": "stderr",
     "output_type": "stream",
     "text": [
      "INFO:tensorflow:Assets written to: ../models/FCN/checkpoint/assets\n"
     ]
    },
    {
     "name": "stdout",
     "output_type": "stream",
     "text": [
      "113/113 [==============================] - 1s 5ms/step - loss: 0.1043 - binary_accuracy: 0.8715 - val_loss: 0.1024 - val_binary_accuracy: 0.8742 - lr: 1.0000e-05\n",
      "Epoch 242/1000\n",
      "113/113 [==============================] - ETA: 0s - loss: 0.1042 - binary_accuracy: 0.8716INFO:tensorflow:Assets written to: ../models/FCN/checkpoint/assets\n"
     ]
    },
    {
     "name": "stderr",
     "output_type": "stream",
     "text": [
      "INFO:tensorflow:Assets written to: ../models/FCN/checkpoint/assets\n"
     ]
    },
    {
     "name": "stdout",
     "output_type": "stream",
     "text": [
      "113/113 [==============================] - 1s 9ms/step - loss: 0.1042 - binary_accuracy: 0.8716 - val_loss: 0.1023 - val_binary_accuracy: 0.8742 - lr: 1.0000e-05\n",
      "Epoch 243/1000\n",
      " 85/113 [=====================>........] - ETA: 0s - loss: 0.1047 - binary_accuracy: 0.8709INFO:tensorflow:Assets written to: ../models/FCN/checkpoint/assets\n"
     ]
    },
    {
     "name": "stderr",
     "output_type": "stream",
     "text": [
      "INFO:tensorflow:Assets written to: ../models/FCN/checkpoint/assets\n"
     ]
    },
    {
     "name": "stdout",
     "output_type": "stream",
     "text": [
      "113/113 [==============================] - 1s 5ms/step - loss: 0.1046 - binary_accuracy: 0.8713 - val_loss: 0.1023 - val_binary_accuracy: 0.8743 - lr: 1.0000e-05\n",
      "Epoch 244/1000\n",
      "112/113 [============================>.] - ETA: 0s - loss: 0.1042 - binary_accuracy: 0.8715INFO:tensorflow:Assets written to: ../models/FCN/checkpoint/assets\n"
     ]
    },
    {
     "name": "stderr",
     "output_type": "stream",
     "text": [
      "INFO:tensorflow:Assets written to: ../models/FCN/checkpoint/assets\n"
     ]
    },
    {
     "name": "stdout",
     "output_type": "stream",
     "text": [
      "113/113 [==============================] - 1s 4ms/step - loss: 0.1042 - binary_accuracy: 0.8715 - val_loss: 0.1022 - val_binary_accuracy: 0.8744 - lr: 1.0000e-05\n",
      "Epoch 245/1000\n",
      "113/113 [==============================] - ETA: 0s - loss: 0.1043 - binary_accuracy: 0.8713INFO:tensorflow:Assets written to: ../models/FCN/checkpoint/assets\n"
     ]
    },
    {
     "name": "stderr",
     "output_type": "stream",
     "text": [
      "INFO:tensorflow:Assets written to: ../models/FCN/checkpoint/assets\n"
     ]
    },
    {
     "name": "stdout",
     "output_type": "stream",
     "text": [
      "113/113 [==============================] - 1s 5ms/step - loss: 0.1043 - binary_accuracy: 0.8713 - val_loss: 0.1022 - val_binary_accuracy: 0.8743 - lr: 1.0000e-05\n",
      "Epoch 246/1000\n",
      "110/113 [============================>.] - ETA: 0s - loss: 0.1042 - binary_accuracy: 0.8715INFO:tensorflow:Assets written to: ../models/FCN/checkpoint/assets\n"
     ]
    },
    {
     "name": "stderr",
     "output_type": "stream",
     "text": [
      "INFO:tensorflow:Assets written to: ../models/FCN/checkpoint/assets\n"
     ]
    },
    {
     "name": "stdout",
     "output_type": "stream",
     "text": [
      "113/113 [==============================] - 1s 5ms/step - loss: 0.1043 - binary_accuracy: 0.8715 - val_loss: 0.1021 - val_binary_accuracy: 0.8744 - lr: 1.0000e-05\n",
      "Epoch 247/1000\n",
      "112/113 [============================>.] - ETA: 0s - loss: 0.1040 - binary_accuracy: 0.8715INFO:tensorflow:Assets written to: ../models/FCN/checkpoint/assets\n"
     ]
    },
    {
     "name": "stderr",
     "output_type": "stream",
     "text": [
      "INFO:tensorflow:Assets written to: ../models/FCN/checkpoint/assets\n"
     ]
    },
    {
     "name": "stdout",
     "output_type": "stream",
     "text": [
      "113/113 [==============================] - 1s 5ms/step - loss: 0.1040 - binary_accuracy: 0.8715 - val_loss: 0.1021 - val_binary_accuracy: 0.8745 - lr: 1.0000e-05\n",
      "Epoch 248/1000\n",
      "111/113 [============================>.] - ETA: 0s - loss: 0.1042 - binary_accuracy: 0.8715INFO:tensorflow:Assets written to: ../models/FCN/checkpoint/assets\n"
     ]
    },
    {
     "name": "stderr",
     "output_type": "stream",
     "text": [
      "INFO:tensorflow:Assets written to: ../models/FCN/checkpoint/assets\n"
     ]
    },
    {
     "name": "stdout",
     "output_type": "stream",
     "text": [
      "113/113 [==============================] - 1s 4ms/step - loss: 0.1042 - binary_accuracy: 0.8715 - val_loss: 0.1021 - val_binary_accuracy: 0.8746 - lr: 1.0000e-05\n",
      "Epoch 249/1000\n",
      " 93/113 [=======================>......] - ETA: 0s - loss: 0.1043 - binary_accuracy: 0.8717INFO:tensorflow:Assets written to: ../models/FCN/checkpoint/assets\n"
     ]
    },
    {
     "name": "stderr",
     "output_type": "stream",
     "text": [
      "INFO:tensorflow:Assets written to: ../models/FCN/checkpoint/assets\n"
     ]
    },
    {
     "name": "stdout",
     "output_type": "stream",
     "text": [
      "113/113 [==============================] - 1s 5ms/step - loss: 0.1041 - binary_accuracy: 0.8718 - val_loss: 0.1020 - val_binary_accuracy: 0.8746 - lr: 1.0000e-05\n",
      "Epoch 250/1000\n",
      "111/113 [============================>.] - ETA: 0s - loss: 0.1041 - binary_accuracy: 0.8716INFO:tensorflow:Assets written to: ../models/FCN/checkpoint/assets\n"
     ]
    },
    {
     "name": "stderr",
     "output_type": "stream",
     "text": [
      "INFO:tensorflow:Assets written to: ../models/FCN/checkpoint/assets\n"
     ]
    },
    {
     "name": "stdout",
     "output_type": "stream",
     "text": [
      "113/113 [==============================] - 1s 5ms/step - loss: 0.1041 - binary_accuracy: 0.8716 - val_loss: 0.1020 - val_binary_accuracy: 0.8747 - lr: 1.0000e-05\n",
      "Epoch 251/1000\n",
      " 85/113 [=====================>........] - ETA: 0s - loss: 0.1042 - binary_accuracy: 0.8715INFO:tensorflow:Assets written to: ../models/FCN/checkpoint/assets\n"
     ]
    },
    {
     "name": "stderr",
     "output_type": "stream",
     "text": [
      "INFO:tensorflow:Assets written to: ../models/FCN/checkpoint/assets\n"
     ]
    },
    {
     "name": "stdout",
     "output_type": "stream",
     "text": [
      "113/113 [==============================] - 1s 5ms/step - loss: 0.1041 - binary_accuracy: 0.8716 - val_loss: 0.1019 - val_binary_accuracy: 0.8747 - lr: 1.0000e-05\n",
      "Epoch 252/1000\n",
      " 87/113 [======================>.......] - ETA: 0s - loss: 0.1038 - binary_accuracy: 0.8718INFO:tensorflow:Assets written to: ../models/FCN/checkpoint/assets\n"
     ]
    },
    {
     "name": "stderr",
     "output_type": "stream",
     "text": [
      "INFO:tensorflow:Assets written to: ../models/FCN/checkpoint/assets\n"
     ]
    },
    {
     "name": "stdout",
     "output_type": "stream",
     "text": [
      "113/113 [==============================] - 1s 4ms/step - loss: 0.1040 - binary_accuracy: 0.8718 - val_loss: 0.1019 - val_binary_accuracy: 0.8747 - lr: 1.0000e-05\n",
      "Epoch 253/1000\n",
      " 88/113 [======================>.......] - ETA: 0s - loss: 0.1037 - binary_accuracy: 0.8721INFO:tensorflow:Assets written to: ../models/FCN/checkpoint/assets\n"
     ]
    },
    {
     "name": "stderr",
     "output_type": "stream",
     "text": [
      "INFO:tensorflow:Assets written to: ../models/FCN/checkpoint/assets\n"
     ]
    },
    {
     "name": "stdout",
     "output_type": "stream",
     "text": [
      "113/113 [==============================] - 1s 5ms/step - loss: 0.1039 - binary_accuracy: 0.8719 - val_loss: 0.1019 - val_binary_accuracy: 0.8748 - lr: 1.0000e-05\n",
      "Epoch 254/1000\n",
      " 86/113 [=====================>........] - ETA: 0s - loss: 0.1036 - binary_accuracy: 0.8727INFO:tensorflow:Assets written to: ../models/FCN/checkpoint/assets\n"
     ]
    },
    {
     "name": "stderr",
     "output_type": "stream",
     "text": [
      "INFO:tensorflow:Assets written to: ../models/FCN/checkpoint/assets\n"
     ]
    },
    {
     "name": "stdout",
     "output_type": "stream",
     "text": [
      "113/113 [==============================] - 0s 4ms/step - loss: 0.1038 - binary_accuracy: 0.8722 - val_loss: 0.1018 - val_binary_accuracy: 0.8748 - lr: 1.0000e-05\n",
      "Epoch 255/1000\n",
      " 88/113 [======================>.......] - ETA: 0s - loss: 0.1035 - binary_accuracy: 0.8724INFO:tensorflow:Assets written to: ../models/FCN/checkpoint/assets\n"
     ]
    },
    {
     "name": "stderr",
     "output_type": "stream",
     "text": [
      "INFO:tensorflow:Assets written to: ../models/FCN/checkpoint/assets\n"
     ]
    },
    {
     "name": "stdout",
     "output_type": "stream",
     "text": [
      "113/113 [==============================] - 1s 5ms/step - loss: 0.1036 - binary_accuracy: 0.8723 - val_loss: 0.1018 - val_binary_accuracy: 0.8749 - lr: 1.0000e-05\n",
      "Epoch 256/1000\n",
      " 87/113 [======================>.......] - ETA: 0s - loss: 0.1036 - binary_accuracy: 0.8723INFO:tensorflow:Assets written to: ../models/FCN/checkpoint/assets\n"
     ]
    },
    {
     "name": "stderr",
     "output_type": "stream",
     "text": [
      "INFO:tensorflow:Assets written to: ../models/FCN/checkpoint/assets\n"
     ]
    },
    {
     "name": "stdout",
     "output_type": "stream",
     "text": [
      "113/113 [==============================] - 0s 4ms/step - loss: 0.1035 - binary_accuracy: 0.8723 - val_loss: 0.1017 - val_binary_accuracy: 0.8749 - lr: 1.0000e-05\n",
      "Epoch 257/1000\n",
      " 88/113 [======================>.......] - ETA: 0s - loss: 0.1038 - binary_accuracy: 0.8719INFO:tensorflow:Assets written to: ../models/FCN/checkpoint/assets\n"
     ]
    },
    {
     "name": "stderr",
     "output_type": "stream",
     "text": [
      "INFO:tensorflow:Assets written to: ../models/FCN/checkpoint/assets\n"
     ]
    },
    {
     "name": "stdout",
     "output_type": "stream",
     "text": [
      "113/113 [==============================] - 0s 4ms/step - loss: 0.1036 - binary_accuracy: 0.8723 - val_loss: 0.1017 - val_binary_accuracy: 0.8749 - lr: 1.0000e-05\n",
      "Epoch 258/1000\n",
      " 89/113 [======================>.......] - ETA: 0s - loss: 0.1040 - binary_accuracy: 0.8718INFO:tensorflow:Assets written to: ../models/FCN/checkpoint/assets\n"
     ]
    },
    {
     "name": "stderr",
     "output_type": "stream",
     "text": [
      "INFO:tensorflow:Assets written to: ../models/FCN/checkpoint/assets\n"
     ]
    },
    {
     "name": "stdout",
     "output_type": "stream",
     "text": [
      "113/113 [==============================] - 1s 5ms/step - loss: 0.1038 - binary_accuracy: 0.8721 - val_loss: 0.1017 - val_binary_accuracy: 0.8749 - lr: 1.0000e-05\n",
      "Epoch 259/1000\n",
      " 96/113 [========================>.....] - ETA: 0s - loss: 0.1035 - binary_accuracy: 0.8722INFO:tensorflow:Assets written to: ../models/FCN/checkpoint/assets\n"
     ]
    },
    {
     "name": "stderr",
     "output_type": "stream",
     "text": [
      "INFO:tensorflow:Assets written to: ../models/FCN/checkpoint/assets\n"
     ]
    },
    {
     "name": "stdout",
     "output_type": "stream",
     "text": [
      "113/113 [==============================] - 1s 5ms/step - loss: 0.1035 - binary_accuracy: 0.8724 - val_loss: 0.1016 - val_binary_accuracy: 0.8749 - lr: 1.0000e-05\n",
      "Epoch 260/1000\n",
      "102/113 [==========================>...] - ETA: 0s - loss: 0.1034 - binary_accuracy: 0.8727INFO:tensorflow:Assets written to: ../models/FCN/checkpoint/assets\n"
     ]
    },
    {
     "name": "stderr",
     "output_type": "stream",
     "text": [
      "INFO:tensorflow:Assets written to: ../models/FCN/checkpoint/assets\n"
     ]
    },
    {
     "name": "stdout",
     "output_type": "stream",
     "text": [
      "113/113 [==============================] - 1s 5ms/step - loss: 0.1035 - binary_accuracy: 0.8725 - val_loss: 0.1016 - val_binary_accuracy: 0.8750 - lr: 1.0000e-05\n",
      "Epoch 261/1000\n",
      "105/113 [==========================>...] - ETA: 0s - loss: 0.1036 - binary_accuracy: 0.8723INFO:tensorflow:Assets written to: ../models/FCN/checkpoint/assets\n"
     ]
    },
    {
     "name": "stderr",
     "output_type": "stream",
     "text": [
      "INFO:tensorflow:Assets written to: ../models/FCN/checkpoint/assets\n"
     ]
    },
    {
     "name": "stdout",
     "output_type": "stream",
     "text": [
      "113/113 [==============================] - 1s 5ms/step - loss: 0.1036 - binary_accuracy: 0.8724 - val_loss: 0.1015 - val_binary_accuracy: 0.8750 - lr: 1.0000e-05\n",
      "Epoch 262/1000\n",
      " 90/113 [======================>.......] - ETA: 0s - loss: 0.1032 - binary_accuracy: 0.8730INFO:tensorflow:Assets written to: ../models/FCN/checkpoint/assets\n"
     ]
    },
    {
     "name": "stderr",
     "output_type": "stream",
     "text": [
      "INFO:tensorflow:Assets written to: ../models/FCN/checkpoint/assets\n"
     ]
    },
    {
     "name": "stdout",
     "output_type": "stream",
     "text": [
      "113/113 [==============================] - 0s 4ms/step - loss: 0.1034 - binary_accuracy: 0.8728 - val_loss: 0.1015 - val_binary_accuracy: 0.8750 - lr: 1.0000e-05\n",
      "Epoch 263/1000\n",
      " 91/113 [=======================>......] - ETA: 0s - loss: 0.1034 - binary_accuracy: 0.8724INFO:tensorflow:Assets written to: ../models/FCN/checkpoint/assets\n"
     ]
    },
    {
     "name": "stderr",
     "output_type": "stream",
     "text": [
      "INFO:tensorflow:Assets written to: ../models/FCN/checkpoint/assets\n"
     ]
    },
    {
     "name": "stdout",
     "output_type": "stream",
     "text": [
      "113/113 [==============================] - 1s 9ms/step - loss: 0.1034 - binary_accuracy: 0.8726 - val_loss: 0.1015 - val_binary_accuracy: 0.8751 - lr: 1.0000e-05\n",
      "Epoch 264/1000\n",
      "109/113 [===========================>..] - ETA: 0s - loss: 0.1033 - binary_accuracy: 0.8725INFO:tensorflow:Assets written to: ../models/FCN/checkpoint/assets\n"
     ]
    },
    {
     "name": "stderr",
     "output_type": "stream",
     "text": [
      "INFO:tensorflow:Assets written to: ../models/FCN/checkpoint/assets\n"
     ]
    },
    {
     "name": "stdout",
     "output_type": "stream",
     "text": [
      "113/113 [==============================] - 1s 5ms/step - loss: 0.1032 - binary_accuracy: 0.8726 - val_loss: 0.1014 - val_binary_accuracy: 0.8752 - lr: 1.0000e-05\n",
      "Epoch 265/1000\n",
      "113/113 [==============================] - ETA: 0s - loss: 0.1035 - binary_accuracy: 0.8723INFO:tensorflow:Assets written to: ../models/FCN/checkpoint/assets\n"
     ]
    },
    {
     "name": "stderr",
     "output_type": "stream",
     "text": [
      "INFO:tensorflow:Assets written to: ../models/FCN/checkpoint/assets\n"
     ]
    },
    {
     "name": "stdout",
     "output_type": "stream",
     "text": [
      "113/113 [==============================] - 1s 5ms/step - loss: 0.1035 - binary_accuracy: 0.8723 - val_loss: 0.1014 - val_binary_accuracy: 0.8752 - lr: 1.0000e-05\n",
      "Epoch 266/1000\n",
      " 85/113 [=====================>........] - ETA: 0s - loss: 0.1032 - binary_accuracy: 0.8727INFO:tensorflow:Assets written to: ../models/FCN/checkpoint/assets\n"
     ]
    },
    {
     "name": "stderr",
     "output_type": "stream",
     "text": [
      "INFO:tensorflow:Assets written to: ../models/FCN/checkpoint/assets\n"
     ]
    },
    {
     "name": "stdout",
     "output_type": "stream",
     "text": [
      "113/113 [==============================] - 1s 5ms/step - loss: 0.1033 - binary_accuracy: 0.8726 - val_loss: 0.1014 - val_binary_accuracy: 0.8753 - lr: 1.0000e-05\n",
      "Epoch 267/1000\n",
      " 90/113 [======================>.......] - ETA: 0s - loss: 0.1030 - binary_accuracy: 0.8728INFO:tensorflow:Assets written to: ../models/FCN/checkpoint/assets\n"
     ]
    },
    {
     "name": "stderr",
     "output_type": "stream",
     "text": [
      "INFO:tensorflow:Assets written to: ../models/FCN/checkpoint/assets\n"
     ]
    },
    {
     "name": "stdout",
     "output_type": "stream",
     "text": [
      "113/113 [==============================] - 1s 5ms/step - loss: 0.1030 - binary_accuracy: 0.8728 - val_loss: 0.1013 - val_binary_accuracy: 0.8753 - lr: 1.0000e-05\n",
      "Epoch 268/1000\n",
      "112/113 [============================>.] - ETA: 0s - loss: 0.1031 - binary_accuracy: 0.8725INFO:tensorflow:Assets written to: ../models/FCN/checkpoint/assets\n"
     ]
    },
    {
     "name": "stderr",
     "output_type": "stream",
     "text": [
      "INFO:tensorflow:Assets written to: ../models/FCN/checkpoint/assets\n"
     ]
    },
    {
     "name": "stdout",
     "output_type": "stream",
     "text": [
      "113/113 [==============================] - 1s 5ms/step - loss: 0.1031 - binary_accuracy: 0.8725 - val_loss: 0.1013 - val_binary_accuracy: 0.8754 - lr: 1.0000e-05\n",
      "Epoch 269/1000\n",
      " 90/113 [======================>.......] - ETA: 0s - loss: 0.1030 - binary_accuracy: 0.8732INFO:tensorflow:Assets written to: ../models/FCN/checkpoint/assets\n"
     ]
    },
    {
     "name": "stderr",
     "output_type": "stream",
     "text": [
      "INFO:tensorflow:Assets written to: ../models/FCN/checkpoint/assets\n"
     ]
    },
    {
     "name": "stdout",
     "output_type": "stream",
     "text": [
      "113/113 [==============================] - 0s 4ms/step - loss: 0.1032 - binary_accuracy: 0.8727 - val_loss: 0.1013 - val_binary_accuracy: 0.8754 - lr: 1.0000e-05\n",
      "Epoch 270/1000\n",
      " 90/113 [======================>.......] - ETA: 0s - loss: 0.1033 - binary_accuracy: 0.8726INFO:tensorflow:Assets written to: ../models/FCN/checkpoint/assets\n"
     ]
    },
    {
     "name": "stderr",
     "output_type": "stream",
     "text": [
      "INFO:tensorflow:Assets written to: ../models/FCN/checkpoint/assets\n"
     ]
    },
    {
     "name": "stdout",
     "output_type": "stream",
     "text": [
      "113/113 [==============================] - 0s 4ms/step - loss: 0.1032 - binary_accuracy: 0.8727 - val_loss: 0.1012 - val_binary_accuracy: 0.8754 - lr: 1.0000e-05\n",
      "Epoch 271/1000\n",
      "109/113 [===========================>..] - ETA: 0s - loss: 0.1030 - binary_accuracy: 0.8731INFO:tensorflow:Assets written to: ../models/FCN/checkpoint/assets\n"
     ]
    },
    {
     "name": "stderr",
     "output_type": "stream",
     "text": [
      "INFO:tensorflow:Assets written to: ../models/FCN/checkpoint/assets\n"
     ]
    },
    {
     "name": "stdout",
     "output_type": "stream",
     "text": [
      "113/113 [==============================] - 1s 5ms/step - loss: 0.1030 - binary_accuracy: 0.8730 - val_loss: 0.1012 - val_binary_accuracy: 0.8755 - lr: 1.0000e-05\n",
      "Epoch 272/1000\n",
      " 89/113 [======================>.......] - ETA: 0s - loss: 0.1030 - binary_accuracy: 0.8729INFO:tensorflow:Assets written to: ../models/FCN/checkpoint/assets\n"
     ]
    },
    {
     "name": "stderr",
     "output_type": "stream",
     "text": [
      "INFO:tensorflow:Assets written to: ../models/FCN/checkpoint/assets\n"
     ]
    },
    {
     "name": "stdout",
     "output_type": "stream",
     "text": [
      "113/113 [==============================] - 1s 5ms/step - loss: 0.1030 - binary_accuracy: 0.8729 - val_loss: 0.1012 - val_binary_accuracy: 0.8754 - lr: 1.0000e-05\n",
      "Epoch 273/1000\n",
      " 86/113 [=====================>........] - ETA: 0s - loss: 0.1029 - binary_accuracy: 0.8726INFO:tensorflow:Assets written to: ../models/FCN/checkpoint/assets\n"
     ]
    },
    {
     "name": "stderr",
     "output_type": "stream",
     "text": [
      "INFO:tensorflow:Assets written to: ../models/FCN/checkpoint/assets\n"
     ]
    },
    {
     "name": "stdout",
     "output_type": "stream",
     "text": [
      "113/113 [==============================] - 1s 5ms/step - loss: 0.1030 - binary_accuracy: 0.8729 - val_loss: 0.1011 - val_binary_accuracy: 0.8755 - lr: 1.0000e-05\n",
      "Epoch 274/1000\n",
      "112/113 [============================>.] - ETA: 0s - loss: 0.1027 - binary_accuracy: 0.8732INFO:tensorflow:Assets written to: ../models/FCN/checkpoint/assets\n"
     ]
    },
    {
     "name": "stderr",
     "output_type": "stream",
     "text": [
      "INFO:tensorflow:Assets written to: ../models/FCN/checkpoint/assets\n"
     ]
    },
    {
     "name": "stdout",
     "output_type": "stream",
     "text": [
      "113/113 [==============================] - 1s 5ms/step - loss: 0.1027 - binary_accuracy: 0.8732 - val_loss: 0.1011 - val_binary_accuracy: 0.8755 - lr: 1.0000e-05\n",
      "Epoch 275/1000\n",
      "111/113 [============================>.] - ETA: 0s - loss: 0.1030 - binary_accuracy: 0.8730INFO:tensorflow:Assets written to: ../models/FCN/checkpoint/assets\n"
     ]
    },
    {
     "name": "stderr",
     "output_type": "stream",
     "text": [
      "INFO:tensorflow:Assets written to: ../models/FCN/checkpoint/assets\n"
     ]
    },
    {
     "name": "stdout",
     "output_type": "stream",
     "text": [
      "113/113 [==============================] - 1s 5ms/step - loss: 0.1030 - binary_accuracy: 0.8730 - val_loss: 0.1010 - val_binary_accuracy: 0.8756 - lr: 1.0000e-05\n",
      "Epoch 276/1000\n",
      " 88/113 [======================>.......] - ETA: 0s - loss: 0.1024 - binary_accuracy: 0.8736INFO:tensorflow:Assets written to: ../models/FCN/checkpoint/assets\n"
     ]
    },
    {
     "name": "stderr",
     "output_type": "stream",
     "text": [
      "INFO:tensorflow:Assets written to: ../models/FCN/checkpoint/assets\n"
     ]
    },
    {
     "name": "stdout",
     "output_type": "stream",
     "text": [
      "113/113 [==============================] - 0s 4ms/step - loss: 0.1026 - binary_accuracy: 0.8733 - val_loss: 0.1010 - val_binary_accuracy: 0.8757 - lr: 1.0000e-05\n",
      "Epoch 277/1000\n",
      " 88/113 [======================>.......] - ETA: 0s - loss: 0.1026 - binary_accuracy: 0.8731INFO:tensorflow:Assets written to: ../models/FCN/checkpoint/assets\n"
     ]
    },
    {
     "name": "stderr",
     "output_type": "stream",
     "text": [
      "INFO:tensorflow:Assets written to: ../models/FCN/checkpoint/assets\n"
     ]
    },
    {
     "name": "stdout",
     "output_type": "stream",
     "text": [
      "113/113 [==============================] - 0s 4ms/step - loss: 0.1026 - binary_accuracy: 0.8732 - val_loss: 0.1010 - val_binary_accuracy: 0.8756 - lr: 1.0000e-05\n",
      "Epoch 278/1000\n",
      " 91/113 [=======================>......] - ETA: 0s - loss: 0.1026 - binary_accuracy: 0.8733INFO:tensorflow:Assets written to: ../models/FCN/checkpoint/assets\n"
     ]
    },
    {
     "name": "stderr",
     "output_type": "stream",
     "text": [
      "INFO:tensorflow:Assets written to: ../models/FCN/checkpoint/assets\n"
     ]
    },
    {
     "name": "stdout",
     "output_type": "stream",
     "text": [
      "113/113 [==============================] - 0s 4ms/step - loss: 0.1027 - binary_accuracy: 0.8730 - val_loss: 0.1010 - val_binary_accuracy: 0.8757 - lr: 1.0000e-05\n",
      "Epoch 279/1000\n",
      "106/113 [===========================>..] - ETA: 0s - loss: 0.1027 - binary_accuracy: 0.8728INFO:tensorflow:Assets written to: ../models/FCN/checkpoint/assets\n"
     ]
    },
    {
     "name": "stderr",
     "output_type": "stream",
     "text": [
      "INFO:tensorflow:Assets written to: ../models/FCN/checkpoint/assets\n"
     ]
    },
    {
     "name": "stdout",
     "output_type": "stream",
     "text": [
      "113/113 [==============================] - 1s 5ms/step - loss: 0.1026 - binary_accuracy: 0.8728 - val_loss: 0.1009 - val_binary_accuracy: 0.8757 - lr: 1.0000e-05\n",
      "Epoch 280/1000\n",
      " 93/113 [=======================>......] - ETA: 0s - loss: 0.1029 - binary_accuracy: 0.8734INFO:tensorflow:Assets written to: ../models/FCN/checkpoint/assets\n"
     ]
    },
    {
     "name": "stderr",
     "output_type": "stream",
     "text": [
      "INFO:tensorflow:Assets written to: ../models/FCN/checkpoint/assets\n"
     ]
    },
    {
     "name": "stdout",
     "output_type": "stream",
     "text": [
      "113/113 [==============================] - 1s 5ms/step - loss: 0.1027 - binary_accuracy: 0.8735 - val_loss: 0.1009 - val_binary_accuracy: 0.8757 - lr: 1.0000e-05\n",
      "Epoch 281/1000\n",
      " 95/113 [========================>.....] - ETA: 0s - loss: 0.1028 - binary_accuracy: 0.8732INFO:tensorflow:Assets written to: ../models/FCN/checkpoint/assets\n"
     ]
    },
    {
     "name": "stderr",
     "output_type": "stream",
     "text": [
      "INFO:tensorflow:Assets written to: ../models/FCN/checkpoint/assets\n"
     ]
    },
    {
     "name": "stdout",
     "output_type": "stream",
     "text": [
      "113/113 [==============================] - 1s 5ms/step - loss: 0.1026 - binary_accuracy: 0.8734 - val_loss: 0.1009 - val_binary_accuracy: 0.8757 - lr: 1.0000e-05\n",
      "Epoch 282/1000\n",
      " 96/113 [========================>.....] - ETA: 0s - loss: 0.1027 - binary_accuracy: 0.8730INFO:tensorflow:Assets written to: ../models/FCN/checkpoint/assets\n"
     ]
    },
    {
     "name": "stderr",
     "output_type": "stream",
     "text": [
      "INFO:tensorflow:Assets written to: ../models/FCN/checkpoint/assets\n"
     ]
    },
    {
     "name": "stdout",
     "output_type": "stream",
     "text": [
      "113/113 [==============================] - 1s 5ms/step - loss: 0.1027 - binary_accuracy: 0.8731 - val_loss: 0.1008 - val_binary_accuracy: 0.8758 - lr: 1.0000e-05\n",
      "Epoch 283/1000\n",
      "100/113 [=========================>....] - ETA: 0s - loss: 0.1022 - binary_accuracy: 0.8738INFO:tensorflow:Assets written to: ../models/FCN/checkpoint/assets\n"
     ]
    },
    {
     "name": "stderr",
     "output_type": "stream",
     "text": [
      "INFO:tensorflow:Assets written to: ../models/FCN/checkpoint/assets\n"
     ]
    },
    {
     "name": "stdout",
     "output_type": "stream",
     "text": [
      "113/113 [==============================] - 1s 9ms/step - loss: 0.1023 - binary_accuracy: 0.8738 - val_loss: 0.1008 - val_binary_accuracy: 0.8758 - lr: 1.0000e-05\n",
      "Epoch 284/1000\n",
      " 88/113 [======================>.......] - ETA: 0s - loss: 0.1026 - binary_accuracy: 0.8727INFO:tensorflow:Assets written to: ../models/FCN/checkpoint/assets\n"
     ]
    },
    {
     "name": "stderr",
     "output_type": "stream",
     "text": [
      "INFO:tensorflow:Assets written to: ../models/FCN/checkpoint/assets\n"
     ]
    },
    {
     "name": "stdout",
     "output_type": "stream",
     "text": [
      "113/113 [==============================] - 0s 4ms/step - loss: 0.1025 - binary_accuracy: 0.8729 - val_loss: 0.1008 - val_binary_accuracy: 0.8758 - lr: 1.0000e-05\n",
      "Epoch 285/1000\n",
      " 86/113 [=====================>........] - ETA: 0s - loss: 0.1024 - binary_accuracy: 0.8732INFO:tensorflow:Assets written to: ../models/FCN/checkpoint/assets\n"
     ]
    },
    {
     "name": "stderr",
     "output_type": "stream",
     "text": [
      "INFO:tensorflow:Assets written to: ../models/FCN/checkpoint/assets\n"
     ]
    },
    {
     "name": "stdout",
     "output_type": "stream",
     "text": [
      "113/113 [==============================] - 1s 4ms/step - loss: 0.1023 - binary_accuracy: 0.8734 - val_loss: 0.1007 - val_binary_accuracy: 0.8758 - lr: 1.0000e-05\n",
      "Epoch 286/1000\n",
      " 88/113 [======================>.......] - ETA: 0s - loss: 0.1025 - binary_accuracy: 0.8739INFO:tensorflow:Assets written to: ../models/FCN/checkpoint/assets\n"
     ]
    },
    {
     "name": "stderr",
     "output_type": "stream",
     "text": [
      "INFO:tensorflow:Assets written to: ../models/FCN/checkpoint/assets\n"
     ]
    },
    {
     "name": "stdout",
     "output_type": "stream",
     "text": [
      "113/113 [==============================] - 1s 5ms/step - loss: 0.1026 - binary_accuracy: 0.8737 - val_loss: 0.1007 - val_binary_accuracy: 0.8758 - lr: 1.0000e-05\n",
      "Epoch 287/1000\n",
      "113/113 [==============================] - ETA: 0s - loss: 0.1024 - binary_accuracy: 0.8737INFO:tensorflow:Assets written to: ../models/FCN/checkpoint/assets\n"
     ]
    },
    {
     "name": "stderr",
     "output_type": "stream",
     "text": [
      "INFO:tensorflow:Assets written to: ../models/FCN/checkpoint/assets\n"
     ]
    },
    {
     "name": "stdout",
     "output_type": "stream",
     "text": [
      "113/113 [==============================] - 1s 5ms/step - loss: 0.1024 - binary_accuracy: 0.8737 - val_loss: 0.1007 - val_binary_accuracy: 0.8759 - lr: 1.0000e-05\n",
      "Epoch 288/1000\n",
      "110/113 [============================>.] - ETA: 0s - loss: 0.1024 - binary_accuracy: 0.8740INFO:tensorflow:Assets written to: ../models/FCN/checkpoint/assets\n"
     ]
    },
    {
     "name": "stderr",
     "output_type": "stream",
     "text": [
      "INFO:tensorflow:Assets written to: ../models/FCN/checkpoint/assets\n"
     ]
    },
    {
     "name": "stdout",
     "output_type": "stream",
     "text": [
      "113/113 [==============================] - 1s 5ms/step - loss: 0.1024 - binary_accuracy: 0.8740 - val_loss: 0.1006 - val_binary_accuracy: 0.8759 - lr: 1.0000e-05\n",
      "Epoch 289/1000\n",
      " 89/113 [======================>.......] - ETA: 0s - loss: 0.1022 - binary_accuracy: 0.8740INFO:tensorflow:Assets written to: ../models/FCN/checkpoint/assets\n"
     ]
    },
    {
     "name": "stderr",
     "output_type": "stream",
     "text": [
      "INFO:tensorflow:Assets written to: ../models/FCN/checkpoint/assets\n"
     ]
    },
    {
     "name": "stdout",
     "output_type": "stream",
     "text": [
      "113/113 [==============================] - 0s 4ms/step - loss: 0.1023 - binary_accuracy: 0.8737 - val_loss: 0.1006 - val_binary_accuracy: 0.8760 - lr: 1.0000e-05\n",
      "Epoch 290/1000\n",
      "110/113 [============================>.] - ETA: 0s - loss: 0.1022 - binary_accuracy: 0.8736INFO:tensorflow:Assets written to: ../models/FCN/checkpoint/assets\n"
     ]
    },
    {
     "name": "stderr",
     "output_type": "stream",
     "text": [
      "INFO:tensorflow:Assets written to: ../models/FCN/checkpoint/assets\n"
     ]
    },
    {
     "name": "stdout",
     "output_type": "stream",
     "text": [
      "113/113 [==============================] - 1s 5ms/step - loss: 0.1023 - binary_accuracy: 0.8735 - val_loss: 0.1006 - val_binary_accuracy: 0.8761 - lr: 1.0000e-05\n",
      "Epoch 291/1000\n",
      " 88/113 [======================>.......] - ETA: 0s - loss: 0.1024 - binary_accuracy: 0.8733INFO:tensorflow:Assets written to: ../models/FCN/checkpoint/assets\n"
     ]
    },
    {
     "name": "stderr",
     "output_type": "stream",
     "text": [
      "INFO:tensorflow:Assets written to: ../models/FCN/checkpoint/assets\n"
     ]
    },
    {
     "name": "stdout",
     "output_type": "stream",
     "text": [
      "113/113 [==============================] - 0s 4ms/step - loss: 0.1022 - binary_accuracy: 0.8738 - val_loss: 0.1006 - val_binary_accuracy: 0.8760 - lr: 1.0000e-05\n",
      "Epoch 292/1000\n",
      "102/113 [==========================>...] - ETA: 0s - loss: 0.1022 - binary_accuracy: 0.8738INFO:tensorflow:Assets written to: ../models/FCN/checkpoint/assets\n"
     ]
    },
    {
     "name": "stderr",
     "output_type": "stream",
     "text": [
      "INFO:tensorflow:Assets written to: ../models/FCN/checkpoint/assets\n"
     ]
    },
    {
     "name": "stdout",
     "output_type": "stream",
     "text": [
      "113/113 [==============================] - 1s 5ms/step - loss: 0.1022 - binary_accuracy: 0.8738 - val_loss: 0.1005 - val_binary_accuracy: 0.8760 - lr: 1.0000e-05\n",
      "Epoch 293/1000\n",
      " 90/113 [======================>.......] - ETA: 0s - loss: 0.1019 - binary_accuracy: 0.8742INFO:tensorflow:Assets written to: ../models/FCN/checkpoint/assets\n"
     ]
    },
    {
     "name": "stderr",
     "output_type": "stream",
     "text": [
      "INFO:tensorflow:Assets written to: ../models/FCN/checkpoint/assets\n"
     ]
    },
    {
     "name": "stdout",
     "output_type": "stream",
     "text": [
      "113/113 [==============================] - 0s 4ms/step - loss: 0.1020 - binary_accuracy: 0.8740 - val_loss: 0.1005 - val_binary_accuracy: 0.8761 - lr: 1.0000e-05\n",
      "Epoch 294/1000\n",
      " 89/113 [======================>.......] - ETA: 0s - loss: 0.1023 - binary_accuracy: 0.8741INFO:tensorflow:Assets written to: ../models/FCN/checkpoint/assets\n"
     ]
    },
    {
     "name": "stderr",
     "output_type": "stream",
     "text": [
      "INFO:tensorflow:Assets written to: ../models/FCN/checkpoint/assets\n"
     ]
    },
    {
     "name": "stdout",
     "output_type": "stream",
     "text": [
      "113/113 [==============================] - 0s 4ms/step - loss: 0.1022 - binary_accuracy: 0.8741 - val_loss: 0.1005 - val_binary_accuracy: 0.8761 - lr: 1.0000e-05\n",
      "Epoch 295/1000\n",
      " 92/113 [=======================>......] - ETA: 0s - loss: 0.1020 - binary_accuracy: 0.8741INFO:tensorflow:Assets written to: ../models/FCN/checkpoint/assets\n"
     ]
    },
    {
     "name": "stderr",
     "output_type": "stream",
     "text": [
      "INFO:tensorflow:Assets written to: ../models/FCN/checkpoint/assets\n"
     ]
    },
    {
     "name": "stdout",
     "output_type": "stream",
     "text": [
      "113/113 [==============================] - 0s 4ms/step - loss: 0.1020 - binary_accuracy: 0.8739 - val_loss: 0.1004 - val_binary_accuracy: 0.8761 - lr: 1.0000e-05\n",
      "Epoch 296/1000\n",
      " 88/113 [======================>.......] - ETA: 0s - loss: 0.1021 - binary_accuracy: 0.8740INFO:tensorflow:Assets written to: ../models/FCN/checkpoint/assets\n"
     ]
    },
    {
     "name": "stderr",
     "output_type": "stream",
     "text": [
      "INFO:tensorflow:Assets written to: ../models/FCN/checkpoint/assets\n"
     ]
    },
    {
     "name": "stdout",
     "output_type": "stream",
     "text": [
      "113/113 [==============================] - 0s 4ms/step - loss: 0.1019 - binary_accuracy: 0.8739 - val_loss: 0.1004 - val_binary_accuracy: 0.8761 - lr: 1.0000e-05\n",
      "Epoch 297/1000\n",
      " 89/113 [======================>.......] - ETA: 0s - loss: 0.1021 - binary_accuracy: 0.8740INFO:tensorflow:Assets written to: ../models/FCN/checkpoint/assets\n"
     ]
    },
    {
     "name": "stderr",
     "output_type": "stream",
     "text": [
      "INFO:tensorflow:Assets written to: ../models/FCN/checkpoint/assets\n"
     ]
    },
    {
     "name": "stdout",
     "output_type": "stream",
     "text": [
      "113/113 [==============================] - 0s 4ms/step - loss: 0.1021 - binary_accuracy: 0.8740 - val_loss: 0.1004 - val_binary_accuracy: 0.8762 - lr: 1.0000e-05\n",
      "Epoch 298/1000\n",
      "113/113 [==============================] - ETA: 0s - loss: 0.1020 - binary_accuracy: 0.8738INFO:tensorflow:Assets written to: ../models/FCN/checkpoint/assets\n"
     ]
    },
    {
     "name": "stderr",
     "output_type": "stream",
     "text": [
      "INFO:tensorflow:Assets written to: ../models/FCN/checkpoint/assets\n"
     ]
    },
    {
     "name": "stdout",
     "output_type": "stream",
     "text": [
      "113/113 [==============================] - 1s 5ms/step - loss: 0.1020 - binary_accuracy: 0.8738 - val_loss: 0.1004 - val_binary_accuracy: 0.8762 - lr: 1.0000e-05\n",
      "Epoch 299/1000\n",
      " 90/113 [======================>.......] - ETA: 0s - loss: 0.1024 - binary_accuracy: 0.8734INFO:tensorflow:Assets written to: ../models/FCN/checkpoint/assets\n"
     ]
    },
    {
     "name": "stderr",
     "output_type": "stream",
     "text": [
      "INFO:tensorflow:Assets written to: ../models/FCN/checkpoint/assets\n"
     ]
    },
    {
     "name": "stdout",
     "output_type": "stream",
     "text": [
      "113/113 [==============================] - 0s 4ms/step - loss: 0.1022 - binary_accuracy: 0.8739 - val_loss: 0.1003 - val_binary_accuracy: 0.8762 - lr: 1.0000e-05\n",
      "Epoch 300/1000\n",
      " 89/113 [======================>.......] - ETA: 0s - loss: 0.1020 - binary_accuracy: 0.8736INFO:tensorflow:Assets written to: ../models/FCN/checkpoint/assets\n"
     ]
    },
    {
     "name": "stderr",
     "output_type": "stream",
     "text": [
      "INFO:tensorflow:Assets written to: ../models/FCN/checkpoint/assets\n"
     ]
    },
    {
     "name": "stdout",
     "output_type": "stream",
     "text": [
      "113/113 [==============================] - 0s 4ms/step - loss: 0.1019 - binary_accuracy: 0.8738 - val_loss: 0.1003 - val_binary_accuracy: 0.8763 - lr: 1.0000e-05\n",
      "Epoch 301/1000\n",
      " 89/113 [======================>.......] - ETA: 0s - loss: 0.1017 - binary_accuracy: 0.8745INFO:tensorflow:Assets written to: ../models/FCN/checkpoint/assets\n"
     ]
    },
    {
     "name": "stderr",
     "output_type": "stream",
     "text": [
      "INFO:tensorflow:Assets written to: ../models/FCN/checkpoint/assets\n"
     ]
    },
    {
     "name": "stdout",
     "output_type": "stream",
     "text": [
      "113/113 [==============================] - 1s 5ms/step - loss: 0.1017 - binary_accuracy: 0.8741 - val_loss: 0.1003 - val_binary_accuracy: 0.8763 - lr: 1.0000e-05\n",
      "Epoch 302/1000\n",
      " 90/113 [======================>.......] - ETA: 0s - loss: 0.1020 - binary_accuracy: 0.8737INFO:tensorflow:Assets written to: ../models/FCN/checkpoint/assets\n"
     ]
    },
    {
     "name": "stderr",
     "output_type": "stream",
     "text": [
      "INFO:tensorflow:Assets written to: ../models/FCN/checkpoint/assets\n"
     ]
    },
    {
     "name": "stdout",
     "output_type": "stream",
     "text": [
      "113/113 [==============================] - 1s 5ms/step - loss: 0.1018 - binary_accuracy: 0.8739 - val_loss: 0.1003 - val_binary_accuracy: 0.8764 - lr: 1.0000e-05\n",
      "Epoch 303/1000\n",
      "110/113 [============================>.] - ETA: 0s - loss: 0.1019 - binary_accuracy: 0.8741INFO:tensorflow:Assets written to: ../models/FCN/checkpoint/assets\n"
     ]
    },
    {
     "name": "stderr",
     "output_type": "stream",
     "text": [
      "INFO:tensorflow:Assets written to: ../models/FCN/checkpoint/assets\n"
     ]
    },
    {
     "name": "stdout",
     "output_type": "stream",
     "text": [
      "113/113 [==============================] - 1s 5ms/step - loss: 0.1019 - binary_accuracy: 0.8742 - val_loss: 0.1002 - val_binary_accuracy: 0.8764 - lr: 1.0000e-05\n",
      "Epoch 304/1000\n",
      "102/113 [==========================>...] - ETA: 0s - loss: 0.1017 - binary_accuracy: 0.8743INFO:tensorflow:Assets written to: ../models/FCN/checkpoint/assets\n"
     ]
    },
    {
     "name": "stderr",
     "output_type": "stream",
     "text": [
      "INFO:tensorflow:Assets written to: ../models/FCN/checkpoint/assets\n"
     ]
    },
    {
     "name": "stdout",
     "output_type": "stream",
     "text": [
      "113/113 [==============================] - 1s 9ms/step - loss: 0.1017 - binary_accuracy: 0.8744 - val_loss: 0.1002 - val_binary_accuracy: 0.8764 - lr: 1.0000e-05\n",
      "Epoch 305/1000\n",
      "113/113 [==============================] - ETA: 0s - loss: 0.1017 - binary_accuracy: 0.8742INFO:tensorflow:Assets written to: ../models/FCN/checkpoint/assets\n"
     ]
    },
    {
     "name": "stderr",
     "output_type": "stream",
     "text": [
      "INFO:tensorflow:Assets written to: ../models/FCN/checkpoint/assets\n"
     ]
    },
    {
     "name": "stdout",
     "output_type": "stream",
     "text": [
      "113/113 [==============================] - 1s 5ms/step - loss: 0.1017 - binary_accuracy: 0.8742 - val_loss: 0.1002 - val_binary_accuracy: 0.8764 - lr: 1.0000e-05\n",
      "Epoch 306/1000\n",
      "104/113 [==========================>...] - ETA: 0s - loss: 0.1018 - binary_accuracy: 0.8737INFO:tensorflow:Assets written to: ../models/FCN/checkpoint/assets\n"
     ]
    },
    {
     "name": "stderr",
     "output_type": "stream",
     "text": [
      "INFO:tensorflow:Assets written to: ../models/FCN/checkpoint/assets\n"
     ]
    },
    {
     "name": "stdout",
     "output_type": "stream",
     "text": [
      "113/113 [==============================] - 1s 5ms/step - loss: 0.1018 - binary_accuracy: 0.8739 - val_loss: 0.1002 - val_binary_accuracy: 0.8764 - lr: 1.0000e-05\n",
      "Epoch 307/1000\n",
      "112/113 [============================>.] - ETA: 0s - loss: 0.1017 - binary_accuracy: 0.8744INFO:tensorflow:Assets written to: ../models/FCN/checkpoint/assets\n"
     ]
    },
    {
     "name": "stderr",
     "output_type": "stream",
     "text": [
      "INFO:tensorflow:Assets written to: ../models/FCN/checkpoint/assets\n"
     ]
    },
    {
     "name": "stdout",
     "output_type": "stream",
     "text": [
      "113/113 [==============================] - 1s 5ms/step - loss: 0.1017 - binary_accuracy: 0.8745 - val_loss: 0.1001 - val_binary_accuracy: 0.8764 - lr: 1.0000e-05\n",
      "Epoch 308/1000\n",
      "106/113 [===========================>..] - ETA: 0s - loss: 0.1014 - binary_accuracy: 0.8743INFO:tensorflow:Assets written to: ../models/FCN/checkpoint/assets\n"
     ]
    },
    {
     "name": "stderr",
     "output_type": "stream",
     "text": [
      "INFO:tensorflow:Assets written to: ../models/FCN/checkpoint/assets\n"
     ]
    },
    {
     "name": "stdout",
     "output_type": "stream",
     "text": [
      "113/113 [==============================] - 1s 5ms/step - loss: 0.1016 - binary_accuracy: 0.8742 - val_loss: 0.1001 - val_binary_accuracy: 0.8765 - lr: 1.0000e-05\n",
      "Epoch 309/1000\n",
      "108/113 [===========================>..] - ETA: 0s - loss: 0.1017 - binary_accuracy: 0.8744INFO:tensorflow:Assets written to: ../models/FCN/checkpoint/assets\n"
     ]
    },
    {
     "name": "stderr",
     "output_type": "stream",
     "text": [
      "INFO:tensorflow:Assets written to: ../models/FCN/checkpoint/assets\n"
     ]
    },
    {
     "name": "stdout",
     "output_type": "stream",
     "text": [
      "113/113 [==============================] - 1s 5ms/step - loss: 0.1017 - binary_accuracy: 0.8744 - val_loss: 0.1001 - val_binary_accuracy: 0.8765 - lr: 1.0000e-05\n",
      "Epoch 310/1000\n",
      " 84/113 [=====================>........] - ETA: 0s - loss: 0.1013 - binary_accuracy: 0.8750INFO:tensorflow:Assets written to: ../models/FCN/checkpoint/assets\n"
     ]
    },
    {
     "name": "stderr",
     "output_type": "stream",
     "text": [
      "INFO:tensorflow:Assets written to: ../models/FCN/checkpoint/assets\n"
     ]
    },
    {
     "name": "stdout",
     "output_type": "stream",
     "text": [
      "113/113 [==============================] - 0s 4ms/step - loss: 0.1016 - binary_accuracy: 0.8745 - val_loss: 0.1001 - val_binary_accuracy: 0.8765 - lr: 1.0000e-05\n",
      "Epoch 311/1000\n",
      " 88/113 [======================>.......] - ETA: 0s - loss: 0.1017 - binary_accuracy: 0.8741INFO:tensorflow:Assets written to: ../models/FCN/checkpoint/assets\n"
     ]
    },
    {
     "name": "stderr",
     "output_type": "stream",
     "text": [
      "INFO:tensorflow:Assets written to: ../models/FCN/checkpoint/assets\n"
     ]
    },
    {
     "name": "stdout",
     "output_type": "stream",
     "text": [
      "113/113 [==============================] - 0s 4ms/step - loss: 0.1016 - binary_accuracy: 0.8743 - val_loss: 0.1000 - val_binary_accuracy: 0.8766 - lr: 1.0000e-05\n",
      "Epoch 312/1000\n",
      "111/113 [============================>.] - ETA: 0s - loss: 0.1011 - binary_accuracy: 0.8747INFO:tensorflow:Assets written to: ../models/FCN/checkpoint/assets\n"
     ]
    },
    {
     "name": "stderr",
     "output_type": "stream",
     "text": [
      "INFO:tensorflow:Assets written to: ../models/FCN/checkpoint/assets\n"
     ]
    },
    {
     "name": "stdout",
     "output_type": "stream",
     "text": [
      "113/113 [==============================] - 1s 5ms/step - loss: 0.1012 - binary_accuracy: 0.8747 - val_loss: 0.1000 - val_binary_accuracy: 0.8766 - lr: 1.0000e-05\n",
      "Epoch 313/1000\n",
      " 88/113 [======================>.......] - ETA: 0s - loss: 0.1015 - binary_accuracy: 0.8745INFO:tensorflow:Assets written to: ../models/FCN/checkpoint/assets\n"
     ]
    },
    {
     "name": "stderr",
     "output_type": "stream",
     "text": [
      "INFO:tensorflow:Assets written to: ../models/FCN/checkpoint/assets\n"
     ]
    },
    {
     "name": "stdout",
     "output_type": "stream",
     "text": [
      "113/113 [==============================] - 0s 4ms/step - loss: 0.1013 - binary_accuracy: 0.8748 - val_loss: 0.1000 - val_binary_accuracy: 0.8767 - lr: 1.0000e-05\n",
      "Epoch 314/1000\n",
      " 89/113 [======================>.......] - ETA: 0s - loss: 0.1015 - binary_accuracy: 0.8742INFO:tensorflow:Assets written to: ../models/FCN/checkpoint/assets\n"
     ]
    },
    {
     "name": "stderr",
     "output_type": "stream",
     "text": [
      "INFO:tensorflow:Assets written to: ../models/FCN/checkpoint/assets\n"
     ]
    },
    {
     "name": "stdout",
     "output_type": "stream",
     "text": [
      "113/113 [==============================] - 0s 4ms/step - loss: 0.1015 - binary_accuracy: 0.8744 - val_loss: 0.1000 - val_binary_accuracy: 0.8768 - lr: 1.0000e-05\n",
      "Epoch 315/1000\n",
      "100/113 [=========================>....] - ETA: 0s - loss: 0.1013 - binary_accuracy: 0.8743INFO:tensorflow:Assets written to: ../models/FCN/checkpoint/assets\n"
     ]
    },
    {
     "name": "stderr",
     "output_type": "stream",
     "text": [
      "INFO:tensorflow:Assets written to: ../models/FCN/checkpoint/assets\n"
     ]
    },
    {
     "name": "stdout",
     "output_type": "stream",
     "text": [
      "113/113 [==============================] - 1s 5ms/step - loss: 0.1013 - binary_accuracy: 0.8743 - val_loss: 0.0999 - val_binary_accuracy: 0.8768 - lr: 1.0000e-05\n",
      "Epoch 316/1000\n",
      " 86/113 [=====================>........] - ETA: 0s - loss: 0.1008 - binary_accuracy: 0.8755INFO:tensorflow:Assets written to: ../models/FCN/checkpoint/assets\n"
     ]
    },
    {
     "name": "stderr",
     "output_type": "stream",
     "text": [
      "INFO:tensorflow:Assets written to: ../models/FCN/checkpoint/assets\n"
     ]
    },
    {
     "name": "stdout",
     "output_type": "stream",
     "text": [
      "113/113 [==============================] - 1s 5ms/step - loss: 0.1011 - binary_accuracy: 0.8748 - val_loss: 0.0999 - val_binary_accuracy: 0.8768 - lr: 1.0000e-05\n",
      "Epoch 317/1000\n",
      " 86/113 [=====================>........] - ETA: 0s - loss: 0.1015 - binary_accuracy: 0.8742INFO:tensorflow:Assets written to: ../models/FCN/checkpoint/assets\n"
     ]
    },
    {
     "name": "stderr",
     "output_type": "stream",
     "text": [
      "INFO:tensorflow:Assets written to: ../models/FCN/checkpoint/assets\n"
     ]
    },
    {
     "name": "stdout",
     "output_type": "stream",
     "text": [
      "113/113 [==============================] - 0s 4ms/step - loss: 0.1013 - binary_accuracy: 0.8745 - val_loss: 0.0999 - val_binary_accuracy: 0.8768 - lr: 1.0000e-05\n",
      "Epoch 318/1000\n",
      " 90/113 [======================>.......] - ETA: 0s - loss: 0.1018 - binary_accuracy: 0.8743INFO:tensorflow:Assets written to: ../models/FCN/checkpoint/assets\n"
     ]
    },
    {
     "name": "stderr",
     "output_type": "stream",
     "text": [
      "INFO:tensorflow:Assets written to: ../models/FCN/checkpoint/assets\n"
     ]
    },
    {
     "name": "stdout",
     "output_type": "stream",
     "text": [
      "113/113 [==============================] - 0s 4ms/step - loss: 0.1015 - binary_accuracy: 0.8746 - val_loss: 0.0999 - val_binary_accuracy: 0.8768 - lr: 1.0000e-05\n",
      "Epoch 319/1000\n",
      "111/113 [============================>.] - ETA: 0s - loss: 0.1012 - binary_accuracy: 0.8751INFO:tensorflow:Assets written to: ../models/FCN/checkpoint/assets\n"
     ]
    },
    {
     "name": "stderr",
     "output_type": "stream",
     "text": [
      "INFO:tensorflow:Assets written to: ../models/FCN/checkpoint/assets\n"
     ]
    },
    {
     "name": "stdout",
     "output_type": "stream",
     "text": [
      "113/113 [==============================] - 1s 4ms/step - loss: 0.1012 - binary_accuracy: 0.8751 - val_loss: 0.0998 - val_binary_accuracy: 0.8768 - lr: 1.0000e-05\n",
      "Epoch 320/1000\n",
      " 89/113 [======================>.......] - ETA: 0s - loss: 0.1011 - binary_accuracy: 0.8749INFO:tensorflow:Assets written to: ../models/FCN/checkpoint/assets\n"
     ]
    },
    {
     "name": "stderr",
     "output_type": "stream",
     "text": [
      "INFO:tensorflow:Assets written to: ../models/FCN/checkpoint/assets\n"
     ]
    },
    {
     "name": "stdout",
     "output_type": "stream",
     "text": [
      "113/113 [==============================] - 1s 5ms/step - loss: 0.1012 - binary_accuracy: 0.8747 - val_loss: 0.0998 - val_binary_accuracy: 0.8768 - lr: 1.0000e-05\n",
      "Epoch 321/1000\n",
      " 97/113 [========================>.....] - ETA: 0s - loss: 0.1012 - binary_accuracy: 0.8750INFO:tensorflow:Assets written to: ../models/FCN/checkpoint/assets\n"
     ]
    },
    {
     "name": "stderr",
     "output_type": "stream",
     "text": [
      "INFO:tensorflow:Assets written to: ../models/FCN/checkpoint/assets\n"
     ]
    },
    {
     "name": "stdout",
     "output_type": "stream",
     "text": [
      "113/113 [==============================] - 1s 5ms/step - loss: 0.1013 - binary_accuracy: 0.8749 - val_loss: 0.0998 - val_binary_accuracy: 0.8768 - lr: 1.0000e-05\n",
      "Epoch 322/1000\n",
      "104/113 [==========================>...] - ETA: 0s - loss: 0.1011 - binary_accuracy: 0.8747INFO:tensorflow:Assets written to: ../models/FCN/checkpoint/assets\n"
     ]
    },
    {
     "name": "stderr",
     "output_type": "stream",
     "text": [
      "INFO:tensorflow:Assets written to: ../models/FCN/checkpoint/assets\n"
     ]
    },
    {
     "name": "stdout",
     "output_type": "stream",
     "text": [
      "113/113 [==============================] - 1s 5ms/step - loss: 0.1011 - binary_accuracy: 0.8746 - val_loss: 0.0998 - val_binary_accuracy: 0.8769 - lr: 1.0000e-05\n",
      "Epoch 323/1000\n",
      "102/113 [==========================>...] - ETA: 0s - loss: 0.1011 - binary_accuracy: 0.8750INFO:tensorflow:Assets written to: ../models/FCN/checkpoint/assets\n"
     ]
    },
    {
     "name": "stderr",
     "output_type": "stream",
     "text": [
      "INFO:tensorflow:Assets written to: ../models/FCN/checkpoint/assets\n"
     ]
    },
    {
     "name": "stdout",
     "output_type": "stream",
     "text": [
      "113/113 [==============================] - 1s 5ms/step - loss: 0.1010 - binary_accuracy: 0.8751 - val_loss: 0.0998 - val_binary_accuracy: 0.8769 - lr: 1.0000e-05\n",
      "Epoch 324/1000\n",
      " 90/113 [======================>.......] - ETA: 0s - loss: 0.1013 - binary_accuracy: 0.8747INFO:tensorflow:Assets written to: ../models/FCN/checkpoint/assets\n"
     ]
    },
    {
     "name": "stderr",
     "output_type": "stream",
     "text": [
      "INFO:tensorflow:Assets written to: ../models/FCN/checkpoint/assets\n"
     ]
    },
    {
     "name": "stdout",
     "output_type": "stream",
     "text": [
      "113/113 [==============================] - 1s 9ms/step - loss: 0.1012 - binary_accuracy: 0.8747 - val_loss: 0.0997 - val_binary_accuracy: 0.8770 - lr: 1.0000e-05\n",
      "Epoch 325/1000\n",
      " 88/113 [======================>.......] - ETA: 0s - loss: 0.1012 - binary_accuracy: 0.8748INFO:tensorflow:Assets written to: ../models/FCN/checkpoint/assets\n"
     ]
    },
    {
     "name": "stderr",
     "output_type": "stream",
     "text": [
      "INFO:tensorflow:Assets written to: ../models/FCN/checkpoint/assets\n"
     ]
    },
    {
     "name": "stdout",
     "output_type": "stream",
     "text": [
      "113/113 [==============================] - 1s 5ms/step - loss: 0.1011 - binary_accuracy: 0.8749 - val_loss: 0.0997 - val_binary_accuracy: 0.8769 - lr: 1.0000e-05\n",
      "Epoch 326/1000\n",
      " 90/113 [======================>.......] - ETA: 0s - loss: 0.1010 - binary_accuracy: 0.8753INFO:tensorflow:Assets written to: ../models/FCN/checkpoint/assets\n"
     ]
    },
    {
     "name": "stderr",
     "output_type": "stream",
     "text": [
      "INFO:tensorflow:Assets written to: ../models/FCN/checkpoint/assets\n"
     ]
    },
    {
     "name": "stdout",
     "output_type": "stream",
     "text": [
      "113/113 [==============================] - 0s 4ms/step - loss: 0.1011 - binary_accuracy: 0.8749 - val_loss: 0.0997 - val_binary_accuracy: 0.8770 - lr: 1.0000e-05\n",
      "Epoch 327/1000\n",
      " 85/113 [=====================>........] - ETA: 0s - loss: 0.1007 - binary_accuracy: 0.8754INFO:tensorflow:Assets written to: ../models/FCN/checkpoint/assets\n"
     ]
    },
    {
     "name": "stderr",
     "output_type": "stream",
     "text": [
      "INFO:tensorflow:Assets written to: ../models/FCN/checkpoint/assets\n"
     ]
    },
    {
     "name": "stdout",
     "output_type": "stream",
     "text": [
      "113/113 [==============================] - 1s 5ms/step - loss: 0.1010 - binary_accuracy: 0.8748 - val_loss: 0.0997 - val_binary_accuracy: 0.8770 - lr: 1.0000e-05\n",
      "Epoch 328/1000\n",
      " 87/113 [======================>.......] - ETA: 0s - loss: 0.1005 - binary_accuracy: 0.8753INFO:tensorflow:Assets written to: ../models/FCN/checkpoint/assets\n"
     ]
    },
    {
     "name": "stderr",
     "output_type": "stream",
     "text": [
      "INFO:tensorflow:Assets written to: ../models/FCN/checkpoint/assets\n"
     ]
    },
    {
     "name": "stdout",
     "output_type": "stream",
     "text": [
      "113/113 [==============================] - 0s 4ms/step - loss: 0.1008 - binary_accuracy: 0.8751 - val_loss: 0.0997 - val_binary_accuracy: 0.8769 - lr: 1.0000e-05\n",
      "Epoch 329/1000\n",
      " 88/113 [======================>.......] - ETA: 0s - loss: 0.1010 - binary_accuracy: 0.8749INFO:tensorflow:Assets written to: ../models/FCN/checkpoint/assets\n"
     ]
    },
    {
     "name": "stderr",
     "output_type": "stream",
     "text": [
      "INFO:tensorflow:Assets written to: ../models/FCN/checkpoint/assets\n"
     ]
    },
    {
     "name": "stdout",
     "output_type": "stream",
     "text": [
      "113/113 [==============================] - 0s 4ms/step - loss: 0.1009 - binary_accuracy: 0.8750 - val_loss: 0.0996 - val_binary_accuracy: 0.8770 - lr: 1.0000e-05\n",
      "Epoch 330/1000\n",
      " 86/113 [=====================>........] - ETA: 0s - loss: 0.1011 - binary_accuracy: 0.8748INFO:tensorflow:Assets written to: ../models/FCN/checkpoint/assets\n"
     ]
    },
    {
     "name": "stderr",
     "output_type": "stream",
     "text": [
      "INFO:tensorflow:Assets written to: ../models/FCN/checkpoint/assets\n"
     ]
    },
    {
     "name": "stdout",
     "output_type": "stream",
     "text": [
      "113/113 [==============================] - 0s 4ms/step - loss: 0.1011 - binary_accuracy: 0.8747 - val_loss: 0.0996 - val_binary_accuracy: 0.8770 - lr: 1.0000e-05\n",
      "Epoch 331/1000\n",
      "108/113 [===========================>..] - ETA: 0s - loss: 0.1007 - binary_accuracy: 0.8752INFO:tensorflow:Assets written to: ../models/FCN/checkpoint/assets\n"
     ]
    },
    {
     "name": "stderr",
     "output_type": "stream",
     "text": [
      "INFO:tensorflow:Assets written to: ../models/FCN/checkpoint/assets\n"
     ]
    },
    {
     "name": "stdout",
     "output_type": "stream",
     "text": [
      "113/113 [==============================] - 1s 6ms/step - loss: 0.1008 - binary_accuracy: 0.8752 - val_loss: 0.0996 - val_binary_accuracy: 0.8770 - lr: 1.0000e-05\n",
      "Epoch 332/1000\n",
      " 90/113 [======================>.......] - ETA: 0s - loss: 0.1011 - binary_accuracy: 0.8746INFO:tensorflow:Assets written to: ../models/FCN/checkpoint/assets\n"
     ]
    },
    {
     "name": "stderr",
     "output_type": "stream",
     "text": [
      "INFO:tensorflow:Assets written to: ../models/FCN/checkpoint/assets\n"
     ]
    },
    {
     "name": "stdout",
     "output_type": "stream",
     "text": [
      "113/113 [==============================] - 0s 4ms/step - loss: 0.1011 - binary_accuracy: 0.8748 - val_loss: 0.0996 - val_binary_accuracy: 0.8771 - lr: 1.0000e-05\n",
      "Epoch 333/1000\n",
      " 84/113 [=====================>........] - ETA: 0s - loss: 0.1010 - binary_accuracy: 0.8746INFO:tensorflow:Assets written to: ../models/FCN/checkpoint/assets\n"
     ]
    },
    {
     "name": "stderr",
     "output_type": "stream",
     "text": [
      "INFO:tensorflow:Assets written to: ../models/FCN/checkpoint/assets\n"
     ]
    },
    {
     "name": "stdout",
     "output_type": "stream",
     "text": [
      "113/113 [==============================] - 0s 4ms/step - loss: 0.1009 - binary_accuracy: 0.8750 - val_loss: 0.0996 - val_binary_accuracy: 0.8771 - lr: 1.0000e-05\n",
      "Epoch 334/1000\n",
      " 88/113 [======================>.......] - ETA: 0s - loss: 0.1007 - binary_accuracy: 0.8751INFO:tensorflow:Assets written to: ../models/FCN/checkpoint/assets\n"
     ]
    },
    {
     "name": "stderr",
     "output_type": "stream",
     "text": [
      "INFO:tensorflow:Assets written to: ../models/FCN/checkpoint/assets\n"
     ]
    },
    {
     "name": "stdout",
     "output_type": "stream",
     "text": [
      "113/113 [==============================] - 0s 4ms/step - loss: 0.1007 - binary_accuracy: 0.8751 - val_loss: 0.0995 - val_binary_accuracy: 0.8771 - lr: 1.0000e-05\n",
      "Epoch 335/1000\n",
      " 88/113 [======================>.......] - ETA: 0s - loss: 0.1007 - binary_accuracy: 0.8751INFO:tensorflow:Assets written to: ../models/FCN/checkpoint/assets\n"
     ]
    },
    {
     "name": "stderr",
     "output_type": "stream",
     "text": [
      "INFO:tensorflow:Assets written to: ../models/FCN/checkpoint/assets\n"
     ]
    },
    {
     "name": "stdout",
     "output_type": "stream",
     "text": [
      "113/113 [==============================] - 0s 4ms/step - loss: 0.1008 - binary_accuracy: 0.8750 - val_loss: 0.0995 - val_binary_accuracy: 0.8772 - lr: 1.0000e-05\n",
      "Epoch 336/1000\n",
      " 89/113 [======================>.......] - ETA: 0s - loss: 0.1007 - binary_accuracy: 0.8751INFO:tensorflow:Assets written to: ../models/FCN/checkpoint/assets\n"
     ]
    },
    {
     "name": "stderr",
     "output_type": "stream",
     "text": [
      "INFO:tensorflow:Assets written to: ../models/FCN/checkpoint/assets\n"
     ]
    },
    {
     "name": "stdout",
     "output_type": "stream",
     "text": [
      "113/113 [==============================] - 0s 4ms/step - loss: 0.1007 - binary_accuracy: 0.8753 - val_loss: 0.0995 - val_binary_accuracy: 0.8771 - lr: 1.0000e-05\n",
      "Epoch 337/1000\n",
      " 88/113 [======================>.......] - ETA: 0s - loss: 0.1007 - binary_accuracy: 0.8755INFO:tensorflow:Assets written to: ../models/FCN/checkpoint/assets\n"
     ]
    },
    {
     "name": "stderr",
     "output_type": "stream",
     "text": [
      "INFO:tensorflow:Assets written to: ../models/FCN/checkpoint/assets\n"
     ]
    },
    {
     "name": "stdout",
     "output_type": "stream",
     "text": [
      "113/113 [==============================] - 0s 4ms/step - loss: 0.1008 - binary_accuracy: 0.8752 - val_loss: 0.0995 - val_binary_accuracy: 0.8771 - lr: 1.0000e-05\n",
      "Epoch 338/1000\n",
      " 86/113 [=====================>........] - ETA: 0s - loss: 0.1009 - binary_accuracy: 0.8747INFO:tensorflow:Assets written to: ../models/FCN/checkpoint/assets\n"
     ]
    },
    {
     "name": "stderr",
     "output_type": "stream",
     "text": [
      "INFO:tensorflow:Assets written to: ../models/FCN/checkpoint/assets\n"
     ]
    },
    {
     "name": "stdout",
     "output_type": "stream",
     "text": [
      "113/113 [==============================] - 0s 4ms/step - loss: 0.1007 - binary_accuracy: 0.8751 - val_loss: 0.0994 - val_binary_accuracy: 0.8772 - lr: 1.0000e-05\n",
      "Epoch 339/1000\n",
      " 97/113 [========================>.....] - ETA: 0s - loss: 0.1003 - binary_accuracy: 0.8757INFO:tensorflow:Assets written to: ../models/FCN/checkpoint/assets\n"
     ]
    },
    {
     "name": "stderr",
     "output_type": "stream",
     "text": [
      "INFO:tensorflow:Assets written to: ../models/FCN/checkpoint/assets\n"
     ]
    },
    {
     "name": "stdout",
     "output_type": "stream",
     "text": [
      "113/113 [==============================] - 0s 4ms/step - loss: 0.1005 - binary_accuracy: 0.8755 - val_loss: 0.0994 - val_binary_accuracy: 0.8772 - lr: 1.0000e-05\n",
      "Epoch 340/1000\n",
      " 88/113 [======================>.......] - ETA: 0s - loss: 0.1010 - binary_accuracy: 0.8749INFO:tensorflow:Assets written to: ../models/FCN/checkpoint/assets\n"
     ]
    },
    {
     "name": "stderr",
     "output_type": "stream",
     "text": [
      "INFO:tensorflow:Assets written to: ../models/FCN/checkpoint/assets\n"
     ]
    },
    {
     "name": "stdout",
     "output_type": "stream",
     "text": [
      "113/113 [==============================] - 0s 4ms/step - loss: 0.1007 - binary_accuracy: 0.8752 - val_loss: 0.0994 - val_binary_accuracy: 0.8772 - lr: 1.0000e-05\n",
      "Epoch 341/1000\n",
      "102/113 [==========================>...] - ETA: 0s - loss: 0.1005 - binary_accuracy: 0.8749INFO:tensorflow:Assets written to: ../models/FCN/checkpoint/assets\n"
     ]
    },
    {
     "name": "stderr",
     "output_type": "stream",
     "text": [
      "INFO:tensorflow:Assets written to: ../models/FCN/checkpoint/assets\n"
     ]
    },
    {
     "name": "stdout",
     "output_type": "stream",
     "text": [
      "113/113 [==============================] - 1s 5ms/step - loss: 0.1005 - binary_accuracy: 0.8748 - val_loss: 0.0994 - val_binary_accuracy: 0.8773 - lr: 1.0000e-05\n",
      "Epoch 342/1000\n",
      " 87/113 [======================>.......] - ETA: 0s - loss: 0.1008 - binary_accuracy: 0.8752INFO:tensorflow:Assets written to: ../models/FCN/checkpoint/assets\n"
     ]
    },
    {
     "name": "stderr",
     "output_type": "stream",
     "text": [
      "INFO:tensorflow:Assets written to: ../models/FCN/checkpoint/assets\n"
     ]
    },
    {
     "name": "stdout",
     "output_type": "stream",
     "text": [
      "113/113 [==============================] - 0s 4ms/step - loss: 0.1005 - binary_accuracy: 0.8753 - val_loss: 0.0994 - val_binary_accuracy: 0.8772 - lr: 1.0000e-05\n",
      "Epoch 343/1000\n",
      " 88/113 [======================>.......] - ETA: 0s - loss: 0.1006 - binary_accuracy: 0.8751INFO:tensorflow:Assets written to: ../models/FCN/checkpoint/assets\n"
     ]
    },
    {
     "name": "stderr",
     "output_type": "stream",
     "text": [
      "INFO:tensorflow:Assets written to: ../models/FCN/checkpoint/assets\n"
     ]
    },
    {
     "name": "stdout",
     "output_type": "stream",
     "text": [
      "113/113 [==============================] - 0s 4ms/step - loss: 0.1006 - binary_accuracy: 0.8750 - val_loss: 0.0994 - val_binary_accuracy: 0.8772 - lr: 1.0000e-05\n",
      "Epoch 344/1000\n",
      " 90/113 [======================>.......] - ETA: 0s - loss: 0.1003 - binary_accuracy: 0.8752INFO:tensorflow:Assets written to: ../models/FCN/checkpoint/assets\n"
     ]
    },
    {
     "name": "stderr",
     "output_type": "stream",
     "text": [
      "INFO:tensorflow:Assets written to: ../models/FCN/checkpoint/assets\n"
     ]
    },
    {
     "name": "stdout",
     "output_type": "stream",
     "text": [
      "113/113 [==============================] - 0s 4ms/step - loss: 0.1005 - binary_accuracy: 0.8752 - val_loss: 0.0993 - val_binary_accuracy: 0.8772 - lr: 1.0000e-05\n",
      "Epoch 345/1000\n",
      " 89/113 [======================>.......] - ETA: 0s - loss: 0.1005 - binary_accuracy: 0.8754INFO:tensorflow:Assets written to: ../models/FCN/checkpoint/assets\n"
     ]
    },
    {
     "name": "stderr",
     "output_type": "stream",
     "text": [
      "INFO:tensorflow:Assets written to: ../models/FCN/checkpoint/assets\n"
     ]
    },
    {
     "name": "stdout",
     "output_type": "stream",
     "text": [
      "113/113 [==============================] - 1s 8ms/step - loss: 0.1004 - binary_accuracy: 0.8756 - val_loss: 0.0993 - val_binary_accuracy: 0.8773 - lr: 1.0000e-05\n",
      "Epoch 346/1000\n",
      " 88/113 [======================>.......] - ETA: 0s - loss: 0.1005 - binary_accuracy: 0.8755INFO:tensorflow:Assets written to: ../models/FCN/checkpoint/assets\n"
     ]
    },
    {
     "name": "stderr",
     "output_type": "stream",
     "text": [
      "INFO:tensorflow:Assets written to: ../models/FCN/checkpoint/assets\n"
     ]
    },
    {
     "name": "stdout",
     "output_type": "stream",
     "text": [
      "113/113 [==============================] - 0s 4ms/step - loss: 0.1006 - binary_accuracy: 0.8754 - val_loss: 0.0993 - val_binary_accuracy: 0.8773 - lr: 1.0000e-05\n",
      "Epoch 347/1000\n",
      " 88/113 [======================>.......] - ETA: 0s - loss: 0.1006 - binary_accuracy: 0.8752INFO:tensorflow:Assets written to: ../models/FCN/checkpoint/assets\n"
     ]
    },
    {
     "name": "stderr",
     "output_type": "stream",
     "text": [
      "INFO:tensorflow:Assets written to: ../models/FCN/checkpoint/assets\n"
     ]
    },
    {
     "name": "stdout",
     "output_type": "stream",
     "text": [
      "113/113 [==============================] - 0s 4ms/step - loss: 0.1004 - binary_accuracy: 0.8756 - val_loss: 0.0993 - val_binary_accuracy: 0.8772 - lr: 1.0000e-05\n",
      "Epoch 348/1000\n",
      " 89/113 [======================>.......] - ETA: 0s - loss: 0.1004 - binary_accuracy: 0.8755INFO:tensorflow:Assets written to: ../models/FCN/checkpoint/assets\n"
     ]
    },
    {
     "name": "stderr",
     "output_type": "stream",
     "text": [
      "INFO:tensorflow:Assets written to: ../models/FCN/checkpoint/assets\n"
     ]
    },
    {
     "name": "stdout",
     "output_type": "stream",
     "text": [
      "113/113 [==============================] - 0s 4ms/step - loss: 0.1003 - binary_accuracy: 0.8757 - val_loss: 0.0993 - val_binary_accuracy: 0.8773 - lr: 1.0000e-05\n",
      "Epoch 349/1000\n",
      " 91/113 [=======================>......] - ETA: 0s - loss: 0.1006 - binary_accuracy: 0.8756INFO:tensorflow:Assets written to: ../models/FCN/checkpoint/assets\n"
     ]
    },
    {
     "name": "stderr",
     "output_type": "stream",
     "text": [
      "INFO:tensorflow:Assets written to: ../models/FCN/checkpoint/assets\n"
     ]
    },
    {
     "name": "stdout",
     "output_type": "stream",
     "text": [
      "113/113 [==============================] - 0s 4ms/step - loss: 0.1005 - binary_accuracy: 0.8755 - val_loss: 0.0992 - val_binary_accuracy: 0.8773 - lr: 1.0000e-05\n",
      "Epoch 350/1000\n",
      " 89/113 [======================>.......] - ETA: 0s - loss: 0.1005 - binary_accuracy: 0.8754INFO:tensorflow:Assets written to: ../models/FCN/checkpoint/assets\n"
     ]
    },
    {
     "name": "stderr",
     "output_type": "stream",
     "text": [
      "INFO:tensorflow:Assets written to: ../models/FCN/checkpoint/assets\n"
     ]
    },
    {
     "name": "stdout",
     "output_type": "stream",
     "text": [
      "113/113 [==============================] - 0s 4ms/step - loss: 0.1004 - binary_accuracy: 0.8754 - val_loss: 0.0992 - val_binary_accuracy: 0.8774 - lr: 1.0000e-05\n",
      "Epoch 351/1000\n",
      " 91/113 [=======================>......] - ETA: 0s - loss: 0.1004 - binary_accuracy: 0.8755INFO:tensorflow:Assets written to: ../models/FCN/checkpoint/assets\n"
     ]
    },
    {
     "name": "stderr",
     "output_type": "stream",
     "text": [
      "INFO:tensorflow:Assets written to: ../models/FCN/checkpoint/assets\n"
     ]
    },
    {
     "name": "stdout",
     "output_type": "stream",
     "text": [
      "113/113 [==============================] - 0s 4ms/step - loss: 0.1003 - binary_accuracy: 0.8758 - val_loss: 0.0992 - val_binary_accuracy: 0.8774 - lr: 1.0000e-05\n",
      "Epoch 352/1000\n",
      " 99/113 [=========================>....] - ETA: 0s - loss: 0.1004 - binary_accuracy: 0.8757INFO:tensorflow:Assets written to: ../models/FCN/checkpoint/assets\n"
     ]
    },
    {
     "name": "stderr",
     "output_type": "stream",
     "text": [
      "INFO:tensorflow:Assets written to: ../models/FCN/checkpoint/assets\n"
     ]
    },
    {
     "name": "stdout",
     "output_type": "stream",
     "text": [
      "113/113 [==============================] - 1s 5ms/step - loss: 0.1003 - binary_accuracy: 0.8757 - val_loss: 0.0992 - val_binary_accuracy: 0.8774 - lr: 1.0000e-05\n",
      "Epoch 353/1000\n",
      " 86/113 [=====================>........] - ETA: 0s - loss: 0.1002 - binary_accuracy: 0.8759INFO:tensorflow:Assets written to: ../models/FCN/checkpoint/assets\n"
     ]
    },
    {
     "name": "stderr",
     "output_type": "stream",
     "text": [
      "INFO:tensorflow:Assets written to: ../models/FCN/checkpoint/assets\n"
     ]
    },
    {
     "name": "stdout",
     "output_type": "stream",
     "text": [
      "113/113 [==============================] - 0s 4ms/step - loss: 0.1002 - binary_accuracy: 0.8758 - val_loss: 0.0992 - val_binary_accuracy: 0.8774 - lr: 1.0000e-05\n",
      "Epoch 354/1000\n",
      " 89/113 [======================>.......] - ETA: 0s - loss: 0.1005 - binary_accuracy: 0.8756INFO:tensorflow:Assets written to: ../models/FCN/checkpoint/assets\n"
     ]
    },
    {
     "name": "stderr",
     "output_type": "stream",
     "text": [
      "INFO:tensorflow:Assets written to: ../models/FCN/checkpoint/assets\n"
     ]
    },
    {
     "name": "stdout",
     "output_type": "stream",
     "text": [
      "113/113 [==============================] - 0s 4ms/step - loss: 0.1004 - binary_accuracy: 0.8757 - val_loss: 0.0991 - val_binary_accuracy: 0.8774 - lr: 1.0000e-05\n",
      "Epoch 355/1000\n",
      " 89/113 [======================>.......] - ETA: 0s - loss: 0.1003 - binary_accuracy: 0.8754INFO:tensorflow:Assets written to: ../models/FCN/checkpoint/assets\n"
     ]
    },
    {
     "name": "stderr",
     "output_type": "stream",
     "text": [
      "INFO:tensorflow:Assets written to: ../models/FCN/checkpoint/assets\n"
     ]
    },
    {
     "name": "stdout",
     "output_type": "stream",
     "text": [
      "113/113 [==============================] - 0s 4ms/step - loss: 0.1003 - binary_accuracy: 0.8754 - val_loss: 0.0991 - val_binary_accuracy: 0.8774 - lr: 1.0000e-05\n",
      "Epoch 356/1000\n",
      " 90/113 [======================>.......] - ETA: 0s - loss: 0.1001 - binary_accuracy: 0.8757INFO:tensorflow:Assets written to: ../models/FCN/checkpoint/assets\n"
     ]
    },
    {
     "name": "stderr",
     "output_type": "stream",
     "text": [
      "INFO:tensorflow:Assets written to: ../models/FCN/checkpoint/assets\n"
     ]
    },
    {
     "name": "stdout",
     "output_type": "stream",
     "text": [
      "113/113 [==============================] - 0s 4ms/step - loss: 0.1001 - binary_accuracy: 0.8756 - val_loss: 0.0991 - val_binary_accuracy: 0.8774 - lr: 1.0000e-05\n",
      "Epoch 357/1000\n",
      " 89/113 [======================>.......] - ETA: 0s - loss: 0.1002 - binary_accuracy: 0.8755INFO:tensorflow:Assets written to: ../models/FCN/checkpoint/assets\n"
     ]
    },
    {
     "name": "stderr",
     "output_type": "stream",
     "text": [
      "INFO:tensorflow:Assets written to: ../models/FCN/checkpoint/assets\n"
     ]
    },
    {
     "name": "stdout",
     "output_type": "stream",
     "text": [
      "113/113 [==============================] - 0s 4ms/step - loss: 0.1001 - binary_accuracy: 0.8758 - val_loss: 0.0991 - val_binary_accuracy: 0.8775 - lr: 1.0000e-05\n",
      "Epoch 358/1000\n",
      " 87/113 [======================>.......] - ETA: 0s - loss: 0.0999 - binary_accuracy: 0.8764INFO:tensorflow:Assets written to: ../models/FCN/checkpoint/assets\n"
     ]
    },
    {
     "name": "stderr",
     "output_type": "stream",
     "text": [
      "INFO:tensorflow:Assets written to: ../models/FCN/checkpoint/assets\n"
     ]
    },
    {
     "name": "stdout",
     "output_type": "stream",
     "text": [
      "113/113 [==============================] - 1s 4ms/step - loss: 0.1002 - binary_accuracy: 0.8759 - val_loss: 0.0991 - val_binary_accuracy: 0.8775 - lr: 1.0000e-05\n",
      "Epoch 359/1000\n",
      "108/113 [===========================>..] - ETA: 0s - loss: 0.1000 - binary_accuracy: 0.8758INFO:tensorflow:Assets written to: ../models/FCN/checkpoint/assets\n"
     ]
    },
    {
     "name": "stderr",
     "output_type": "stream",
     "text": [
      "INFO:tensorflow:Assets written to: ../models/FCN/checkpoint/assets\n"
     ]
    },
    {
     "name": "stdout",
     "output_type": "stream",
     "text": [
      "113/113 [==============================] - 1s 5ms/step - loss: 0.1000 - binary_accuracy: 0.8757 - val_loss: 0.0991 - val_binary_accuracy: 0.8775 - lr: 1.0000e-05\n",
      "Epoch 360/1000\n",
      " 87/113 [======================>.......] - ETA: 0s - loss: 0.1002 - binary_accuracy: 0.8754INFO:tensorflow:Assets written to: ../models/FCN/checkpoint/assets\n"
     ]
    },
    {
     "name": "stderr",
     "output_type": "stream",
     "text": [
      "INFO:tensorflow:Assets written to: ../models/FCN/checkpoint/assets\n"
     ]
    },
    {
     "name": "stdout",
     "output_type": "stream",
     "text": [
      "113/113 [==============================] - 0s 4ms/step - loss: 0.1001 - binary_accuracy: 0.8756 - val_loss: 0.0991 - val_binary_accuracy: 0.8775 - lr: 1.0000e-05\n",
      "Epoch 361/1000\n",
      "103/113 [==========================>...] - ETA: 0s - loss: 0.0998 - binary_accuracy: 0.8764INFO:tensorflow:Assets written to: ../models/FCN/checkpoint/assets\n"
     ]
    },
    {
     "name": "stderr",
     "output_type": "stream",
     "text": [
      "INFO:tensorflow:Assets written to: ../models/FCN/checkpoint/assets\n"
     ]
    },
    {
     "name": "stdout",
     "output_type": "stream",
     "text": [
      "113/113 [==============================] - 1s 6ms/step - loss: 0.0999 - binary_accuracy: 0.8761 - val_loss: 0.0990 - val_binary_accuracy: 0.8775 - lr: 1.0000e-05\n",
      "Epoch 362/1000\n",
      "108/113 [===========================>..] - ETA: 0s - loss: 0.1001 - binary_accuracy: 0.8756INFO:tensorflow:Assets written to: ../models/FCN/checkpoint/assets\n"
     ]
    },
    {
     "name": "stderr",
     "output_type": "stream",
     "text": [
      "INFO:tensorflow:Assets written to: ../models/FCN/checkpoint/assets\n"
     ]
    },
    {
     "name": "stdout",
     "output_type": "stream",
     "text": [
      "113/113 [==============================] - 1s 4ms/step - loss: 0.1001 - binary_accuracy: 0.8757 - val_loss: 0.0990 - val_binary_accuracy: 0.8776 - lr: 1.0000e-05\n",
      "Epoch 363/1000\n",
      " 88/113 [======================>.......] - ETA: 0s - loss: 0.0999 - binary_accuracy: 0.8763INFO:tensorflow:Assets written to: ../models/FCN/checkpoint/assets\n"
     ]
    },
    {
     "name": "stderr",
     "output_type": "stream",
     "text": [
      "INFO:tensorflow:Assets written to: ../models/FCN/checkpoint/assets\n"
     ]
    },
    {
     "name": "stdout",
     "output_type": "stream",
     "text": [
      "113/113 [==============================] - 0s 4ms/step - loss: 0.0999 - binary_accuracy: 0.8763 - val_loss: 0.0990 - val_binary_accuracy: 0.8776 - lr: 1.0000e-05\n",
      "Epoch 364/1000\n",
      "112/113 [============================>.] - ETA: 0s - loss: 0.0997 - binary_accuracy: 0.8760INFO:tensorflow:Assets written to: ../models/FCN/checkpoint/assets\n"
     ]
    },
    {
     "name": "stderr",
     "output_type": "stream",
     "text": [
      "INFO:tensorflow:Assets written to: ../models/FCN/checkpoint/assets\n"
     ]
    },
    {
     "name": "stdout",
     "output_type": "stream",
     "text": [
      "113/113 [==============================] - 1s 5ms/step - loss: 0.0997 - binary_accuracy: 0.8760 - val_loss: 0.0990 - val_binary_accuracy: 0.8776 - lr: 1.0000e-05\n",
      "Epoch 365/1000\n",
      "113/113 [==============================] - ETA: 0s - loss: 0.1000 - binary_accuracy: 0.8757INFO:tensorflow:Assets written to: ../models/FCN/checkpoint/assets\n"
     ]
    },
    {
     "name": "stderr",
     "output_type": "stream",
     "text": [
      "INFO:tensorflow:Assets written to: ../models/FCN/checkpoint/assets\n"
     ]
    },
    {
     "name": "stdout",
     "output_type": "stream",
     "text": [
      "113/113 [==============================] - 1s 9ms/step - loss: 0.1000 - binary_accuracy: 0.8757 - val_loss: 0.0990 - val_binary_accuracy: 0.8776 - lr: 1.0000e-05\n",
      "Epoch 366/1000\n",
      " 90/113 [======================>.......] - ETA: 0s - loss: 0.0999 - binary_accuracy: 0.8760INFO:tensorflow:Assets written to: ../models/FCN/checkpoint/assets\n"
     ]
    },
    {
     "name": "stderr",
     "output_type": "stream",
     "text": [
      "INFO:tensorflow:Assets written to: ../models/FCN/checkpoint/assets\n"
     ]
    },
    {
     "name": "stdout",
     "output_type": "stream",
     "text": [
      "113/113 [==============================] - 0s 4ms/step - loss: 0.1000 - binary_accuracy: 0.8758 - val_loss: 0.0990 - val_binary_accuracy: 0.8776 - lr: 1.0000e-05\n",
      "Epoch 367/1000\n",
      " 88/113 [======================>.......] - ETA: 0s - loss: 0.0999 - binary_accuracy: 0.8759INFO:tensorflow:Assets written to: ../models/FCN/checkpoint/assets\n"
     ]
    },
    {
     "name": "stderr",
     "output_type": "stream",
     "text": [
      "INFO:tensorflow:Assets written to: ../models/FCN/checkpoint/assets\n"
     ]
    },
    {
     "name": "stdout",
     "output_type": "stream",
     "text": [
      "113/113 [==============================] - 0s 4ms/step - loss: 0.0999 - binary_accuracy: 0.8758 - val_loss: 0.0989 - val_binary_accuracy: 0.8777 - lr: 1.0000e-05\n",
      "Epoch 368/1000\n",
      "113/113 [==============================] - ETA: 0s - loss: 0.0998 - binary_accuracy: 0.8760INFO:tensorflow:Assets written to: ../models/FCN/checkpoint/assets\n"
     ]
    },
    {
     "name": "stderr",
     "output_type": "stream",
     "text": [
      "INFO:tensorflow:Assets written to: ../models/FCN/checkpoint/assets\n"
     ]
    },
    {
     "name": "stdout",
     "output_type": "stream",
     "text": [
      "113/113 [==============================] - 1s 5ms/step - loss: 0.0998 - binary_accuracy: 0.8760 - val_loss: 0.0989 - val_binary_accuracy: 0.8776 - lr: 1.0000e-05\n",
      "Epoch 369/1000\n",
      " 91/113 [=======================>......] - ETA: 0s - loss: 0.1000 - binary_accuracy: 0.8757INFO:tensorflow:Assets written to: ../models/FCN/checkpoint/assets\n"
     ]
    },
    {
     "name": "stderr",
     "output_type": "stream",
     "text": [
      "INFO:tensorflow:Assets written to: ../models/FCN/checkpoint/assets\n"
     ]
    },
    {
     "name": "stdout",
     "output_type": "stream",
     "text": [
      "113/113 [==============================] - 1s 5ms/step - loss: 0.0999 - binary_accuracy: 0.8758 - val_loss: 0.0989 - val_binary_accuracy: 0.8776 - lr: 1.0000e-05\n",
      "Epoch 370/1000\n",
      "112/113 [============================>.] - ETA: 0s - loss: 0.0997 - binary_accuracy: 0.8761INFO:tensorflow:Assets written to: ../models/FCN/checkpoint/assets\n"
     ]
    },
    {
     "name": "stderr",
     "output_type": "stream",
     "text": [
      "INFO:tensorflow:Assets written to: ../models/FCN/checkpoint/assets\n"
     ]
    },
    {
     "name": "stdout",
     "output_type": "stream",
     "text": [
      "113/113 [==============================] - 1s 5ms/step - loss: 0.0997 - binary_accuracy: 0.8761 - val_loss: 0.0989 - val_binary_accuracy: 0.8777 - lr: 1.0000e-05\n",
      "Epoch 371/1000\n",
      "111/113 [============================>.] - ETA: 0s - loss: 0.0998 - binary_accuracy: 0.8759INFO:tensorflow:Assets written to: ../models/FCN/checkpoint/assets\n"
     ]
    },
    {
     "name": "stderr",
     "output_type": "stream",
     "text": [
      "INFO:tensorflow:Assets written to: ../models/FCN/checkpoint/assets\n"
     ]
    },
    {
     "name": "stdout",
     "output_type": "stream",
     "text": [
      "113/113 [==============================] - 1s 5ms/step - loss: 0.0998 - binary_accuracy: 0.8759 - val_loss: 0.0989 - val_binary_accuracy: 0.8777 - lr: 1.0000e-05\n",
      "Epoch 372/1000\n",
      "105/113 [==========================>...] - ETA: 0s - loss: 0.0998 - binary_accuracy: 0.8759INFO:tensorflow:Assets written to: ../models/FCN/checkpoint/assets\n"
     ]
    },
    {
     "name": "stderr",
     "output_type": "stream",
     "text": [
      "INFO:tensorflow:Assets written to: ../models/FCN/checkpoint/assets\n"
     ]
    },
    {
     "name": "stdout",
     "output_type": "stream",
     "text": [
      "113/113 [==============================] - 1s 5ms/step - loss: 0.0997 - binary_accuracy: 0.8760 - val_loss: 0.0988 - val_binary_accuracy: 0.8777 - lr: 1.0000e-05\n",
      "Epoch 373/1000\n",
      "110/113 [============================>.] - ETA: 0s - loss: 0.0997 - binary_accuracy: 0.8763INFO:tensorflow:Assets written to: ../models/FCN/checkpoint/assets\n"
     ]
    },
    {
     "name": "stderr",
     "output_type": "stream",
     "text": [
      "INFO:tensorflow:Assets written to: ../models/FCN/checkpoint/assets\n"
     ]
    },
    {
     "name": "stdout",
     "output_type": "stream",
     "text": [
      "113/113 [==============================] - 1s 5ms/step - loss: 0.0997 - binary_accuracy: 0.8763 - val_loss: 0.0988 - val_binary_accuracy: 0.8776 - lr: 1.0000e-05\n",
      "Epoch 374/1000\n",
      " 95/113 [========================>.....] - ETA: 0s - loss: 0.0998 - binary_accuracy: 0.8757INFO:tensorflow:Assets written to: ../models/FCN/checkpoint/assets\n"
     ]
    },
    {
     "name": "stderr",
     "output_type": "stream",
     "text": [
      "INFO:tensorflow:Assets written to: ../models/FCN/checkpoint/assets\n"
     ]
    },
    {
     "name": "stdout",
     "output_type": "stream",
     "text": [
      "113/113 [==============================] - 1s 5ms/step - loss: 0.0998 - binary_accuracy: 0.8758 - val_loss: 0.0988 - val_binary_accuracy: 0.8777 - lr: 1.0000e-05\n",
      "Epoch 375/1000\n",
      " 96/113 [========================>.....] - ETA: 0s - loss: 0.0995 - binary_accuracy: 0.8767INFO:tensorflow:Assets written to: ../models/FCN/checkpoint/assets\n"
     ]
    },
    {
     "name": "stderr",
     "output_type": "stream",
     "text": [
      "INFO:tensorflow:Assets written to: ../models/FCN/checkpoint/assets\n"
     ]
    },
    {
     "name": "stdout",
     "output_type": "stream",
     "text": [
      "113/113 [==============================] - 1s 5ms/step - loss: 0.0997 - binary_accuracy: 0.8761 - val_loss: 0.0988 - val_binary_accuracy: 0.8777 - lr: 1.0000e-05\n",
      "Epoch 376/1000\n",
      "111/113 [============================>.] - ETA: 0s - loss: 0.0993 - binary_accuracy: 0.8767INFO:tensorflow:Assets written to: ../models/FCN/checkpoint/assets\n"
     ]
    },
    {
     "name": "stderr",
     "output_type": "stream",
     "text": [
      "INFO:tensorflow:Assets written to: ../models/FCN/checkpoint/assets\n"
     ]
    },
    {
     "name": "stdout",
     "output_type": "stream",
     "text": [
      "113/113 [==============================] - 1s 4ms/step - loss: 0.0994 - binary_accuracy: 0.8767 - val_loss: 0.0988 - val_binary_accuracy: 0.8776 - lr: 1.0000e-05\n",
      "Epoch 377/1000\n",
      " 89/113 [======================>.......] - ETA: 0s - loss: 0.0995 - binary_accuracy: 0.8765INFO:tensorflow:Assets written to: ../models/FCN/checkpoint/assets\n"
     ]
    },
    {
     "name": "stderr",
     "output_type": "stream",
     "text": [
      "INFO:tensorflow:Assets written to: ../models/FCN/checkpoint/assets\n"
     ]
    },
    {
     "name": "stdout",
     "output_type": "stream",
     "text": [
      "113/113 [==============================] - 0s 4ms/step - loss: 0.0997 - binary_accuracy: 0.8764 - val_loss: 0.0988 - val_binary_accuracy: 0.8777 - lr: 1.0000e-05\n",
      "Epoch 378/1000\n",
      " 97/113 [========================>.....] - ETA: 0s - loss: 0.0996 - binary_accuracy: 0.8762INFO:tensorflow:Assets written to: ../models/FCN/checkpoint/assets\n"
     ]
    },
    {
     "name": "stderr",
     "output_type": "stream",
     "text": [
      "INFO:tensorflow:Assets written to: ../models/FCN/checkpoint/assets\n"
     ]
    },
    {
     "name": "stdout",
     "output_type": "stream",
     "text": [
      "113/113 [==============================] - 1s 5ms/step - loss: 0.0997 - binary_accuracy: 0.8759 - val_loss: 0.0988 - val_binary_accuracy: 0.8777 - lr: 1.0000e-05\n",
      "Epoch 379/1000\n",
      "110/113 [============================>.] - ETA: 0s - loss: 0.0996 - binary_accuracy: 0.8763INFO:tensorflow:Assets written to: ../models/FCN/checkpoint/assets\n"
     ]
    },
    {
     "name": "stderr",
     "output_type": "stream",
     "text": [
      "INFO:tensorflow:Assets written to: ../models/FCN/checkpoint/assets\n"
     ]
    },
    {
     "name": "stdout",
     "output_type": "stream",
     "text": [
      "113/113 [==============================] - 1s 5ms/step - loss: 0.0997 - binary_accuracy: 0.8762 - val_loss: 0.0987 - val_binary_accuracy: 0.8777 - lr: 1.0000e-05\n",
      "Epoch 380/1000\n",
      " 86/113 [=====================>........] - ETA: 0s - loss: 0.0994 - binary_accuracy: 0.8764INFO:tensorflow:Assets written to: ../models/FCN/checkpoint/assets\n"
     ]
    },
    {
     "name": "stderr",
     "output_type": "stream",
     "text": [
      "INFO:tensorflow:Assets written to: ../models/FCN/checkpoint/assets\n"
     ]
    },
    {
     "name": "stdout",
     "output_type": "stream",
     "text": [
      "113/113 [==============================] - 0s 4ms/step - loss: 0.0995 - binary_accuracy: 0.8763 - val_loss: 0.0987 - val_binary_accuracy: 0.8778 - lr: 1.0000e-05\n",
      "Epoch 381/1000\n",
      " 96/113 [========================>.....] - ETA: 0s - loss: 0.0994 - binary_accuracy: 0.8759INFO:tensorflow:Assets written to: ../models/FCN/checkpoint/assets\n"
     ]
    },
    {
     "name": "stderr",
     "output_type": "stream",
     "text": [
      "INFO:tensorflow:Assets written to: ../models/FCN/checkpoint/assets\n"
     ]
    },
    {
     "name": "stdout",
     "output_type": "stream",
     "text": [
      "113/113 [==============================] - 1s 5ms/step - loss: 0.0995 - binary_accuracy: 0.8760 - val_loss: 0.0987 - val_binary_accuracy: 0.8777 - lr: 1.0000e-05\n",
      "Epoch 382/1000\n",
      "108/113 [===========================>..] - ETA: 0s - loss: 0.0996 - binary_accuracy: 0.8761INFO:tensorflow:Assets written to: ../models/FCN/checkpoint/assets\n"
     ]
    },
    {
     "name": "stderr",
     "output_type": "stream",
     "text": [
      "INFO:tensorflow:Assets written to: ../models/FCN/checkpoint/assets\n"
     ]
    },
    {
     "name": "stdout",
     "output_type": "stream",
     "text": [
      "113/113 [==============================] - 1s 5ms/step - loss: 0.0996 - binary_accuracy: 0.8761 - val_loss: 0.0987 - val_binary_accuracy: 0.8778 - lr: 1.0000e-05\n",
      "Epoch 383/1000\n",
      "113/113 [==============================] - ETA: 0s - loss: 0.0996 - binary_accuracy: 0.8757INFO:tensorflow:Assets written to: ../models/FCN/checkpoint/assets\n"
     ]
    },
    {
     "name": "stderr",
     "output_type": "stream",
     "text": [
      "INFO:tensorflow:Assets written to: ../models/FCN/checkpoint/assets\n"
     ]
    },
    {
     "name": "stdout",
     "output_type": "stream",
     "text": [
      "113/113 [==============================] - 0s 4ms/step - loss: 0.0996 - binary_accuracy: 0.8757 - val_loss: 0.0987 - val_binary_accuracy: 0.8778 - lr: 1.0000e-05\n",
      "Epoch 384/1000\n",
      " 87/113 [======================>.......] - ETA: 0s - loss: 0.0998 - binary_accuracy: 0.8753INFO:tensorflow:Assets written to: ../models/FCN/checkpoint/assets\n"
     ]
    },
    {
     "name": "stderr",
     "output_type": "stream",
     "text": [
      "INFO:tensorflow:Assets written to: ../models/FCN/checkpoint/assets\n"
     ]
    },
    {
     "name": "stdout",
     "output_type": "stream",
     "text": [
      "113/113 [==============================] - 0s 4ms/step - loss: 0.0997 - binary_accuracy: 0.8757 - val_loss: 0.0987 - val_binary_accuracy: 0.8778 - lr: 1.0000e-05\n",
      "Epoch 385/1000\n",
      " 87/113 [======================>.......] - ETA: 0s - loss: 0.0991 - binary_accuracy: 0.8765INFO:tensorflow:Assets written to: ../models/FCN/checkpoint/assets\n"
     ]
    },
    {
     "name": "stderr",
     "output_type": "stream",
     "text": [
      "INFO:tensorflow:Assets written to: ../models/FCN/checkpoint/assets\n"
     ]
    },
    {
     "name": "stdout",
     "output_type": "stream",
     "text": [
      "113/113 [==============================] - 1s 5ms/step - loss: 0.0992 - binary_accuracy: 0.8763 - val_loss: 0.0986 - val_binary_accuracy: 0.8778 - lr: 1.0000e-05\n",
      "Epoch 386/1000\n",
      "110/113 [============================>.] - ETA: 0s - loss: 0.0995 - binary_accuracy: 0.8763INFO:tensorflow:Assets written to: ../models/FCN/checkpoint/assets\n"
     ]
    },
    {
     "name": "stderr",
     "output_type": "stream",
     "text": [
      "INFO:tensorflow:Assets written to: ../models/FCN/checkpoint/assets\n"
     ]
    },
    {
     "name": "stdout",
     "output_type": "stream",
     "text": [
      "113/113 [==============================] - 1s 9ms/step - loss: 0.0995 - binary_accuracy: 0.8763 - val_loss: 0.0986 - val_binary_accuracy: 0.8778 - lr: 1.0000e-05\n",
      "Epoch 387/1000\n",
      " 86/113 [=====================>........] - ETA: 0s - loss: 0.0992 - binary_accuracy: 0.8763INFO:tensorflow:Assets written to: ../models/FCN/checkpoint/assets\n"
     ]
    },
    {
     "name": "stderr",
     "output_type": "stream",
     "text": [
      "INFO:tensorflow:Assets written to: ../models/FCN/checkpoint/assets\n"
     ]
    },
    {
     "name": "stdout",
     "output_type": "stream",
     "text": [
      "113/113 [==============================] - 1s 4ms/step - loss: 0.0993 - binary_accuracy: 0.8763 - val_loss: 0.0986 - val_binary_accuracy: 0.8778 - lr: 1.0000e-05\n",
      "Epoch 388/1000\n",
      " 87/113 [======================>.......] - ETA: 0s - loss: 0.0996 - binary_accuracy: 0.8761INFO:tensorflow:Assets written to: ../models/FCN/checkpoint/assets\n"
     ]
    },
    {
     "name": "stderr",
     "output_type": "stream",
     "text": [
      "INFO:tensorflow:Assets written to: ../models/FCN/checkpoint/assets\n"
     ]
    },
    {
     "name": "stdout",
     "output_type": "stream",
     "text": [
      "113/113 [==============================] - 0s 4ms/step - loss: 0.0994 - binary_accuracy: 0.8763 - val_loss: 0.0986 - val_binary_accuracy: 0.8778 - lr: 1.0000e-05\n",
      "Epoch 389/1000\n",
      " 98/113 [=========================>....] - ETA: 0s - loss: 0.0995 - binary_accuracy: 0.8760INFO:tensorflow:Assets written to: ../models/FCN/checkpoint/assets\n"
     ]
    },
    {
     "name": "stderr",
     "output_type": "stream",
     "text": [
      "INFO:tensorflow:Assets written to: ../models/FCN/checkpoint/assets\n"
     ]
    },
    {
     "name": "stdout",
     "output_type": "stream",
     "text": [
      "113/113 [==============================] - 1s 5ms/step - loss: 0.0997 - binary_accuracy: 0.8758 - val_loss: 0.0986 - val_binary_accuracy: 0.8778 - lr: 1.0000e-05\n",
      "Epoch 390/1000\n",
      "112/113 [============================>.] - ETA: 0s - loss: 0.0992 - binary_accuracy: 0.8764INFO:tensorflow:Assets written to: ../models/FCN/checkpoint/assets\n"
     ]
    },
    {
     "name": "stderr",
     "output_type": "stream",
     "text": [
      "INFO:tensorflow:Assets written to: ../models/FCN/checkpoint/assets\n"
     ]
    },
    {
     "name": "stdout",
     "output_type": "stream",
     "text": [
      "113/113 [==============================] - 1s 6ms/step - loss: 0.0993 - binary_accuracy: 0.8763 - val_loss: 0.0986 - val_binary_accuracy: 0.8778 - lr: 1.0000e-05\n",
      "Epoch 391/1000\n",
      "103/113 [==========================>...] - ETA: 0s - loss: 0.0993 - binary_accuracy: 0.8766INFO:tensorflow:Assets written to: ../models/FCN/checkpoint/assets\n"
     ]
    },
    {
     "name": "stderr",
     "output_type": "stream",
     "text": [
      "INFO:tensorflow:Assets written to: ../models/FCN/checkpoint/assets\n"
     ]
    },
    {
     "name": "stdout",
     "output_type": "stream",
     "text": [
      "113/113 [==============================] - 1s 5ms/step - loss: 0.0994 - binary_accuracy: 0.8764 - val_loss: 0.0986 - val_binary_accuracy: 0.8779 - lr: 1.0000e-05\n",
      "Epoch 392/1000\n",
      " 93/113 [=======================>......] - ETA: 0s - loss: 0.0993 - binary_accuracy: 0.8762INFO:tensorflow:Assets written to: ../models/FCN/checkpoint/assets\n"
     ]
    },
    {
     "name": "stderr",
     "output_type": "stream",
     "text": [
      "INFO:tensorflow:Assets written to: ../models/FCN/checkpoint/assets\n"
     ]
    },
    {
     "name": "stdout",
     "output_type": "stream",
     "text": [
      "113/113 [==============================] - 1s 5ms/step - loss: 0.0993 - binary_accuracy: 0.8765 - val_loss: 0.0986 - val_binary_accuracy: 0.8779 - lr: 1.0000e-05\n",
      "Epoch 393/1000\n",
      "112/113 [============================>.] - ETA: 0s - loss: 0.0992 - binary_accuracy: 0.8763INFO:tensorflow:Assets written to: ../models/FCN/checkpoint/assets\n"
     ]
    },
    {
     "name": "stderr",
     "output_type": "stream",
     "text": [
      "INFO:tensorflow:Assets written to: ../models/FCN/checkpoint/assets\n"
     ]
    },
    {
     "name": "stdout",
     "output_type": "stream",
     "text": [
      "113/113 [==============================] - 1s 5ms/step - loss: 0.0992 - binary_accuracy: 0.8763 - val_loss: 0.0985 - val_binary_accuracy: 0.8779 - lr: 1.0000e-05\n",
      "Epoch 394/1000\n",
      " 85/113 [=====================>........] - ETA: 0s - loss: 0.0994 - binary_accuracy: 0.8763INFO:tensorflow:Assets written to: ../models/FCN/checkpoint/assets\n"
     ]
    },
    {
     "name": "stderr",
     "output_type": "stream",
     "text": [
      "INFO:tensorflow:Assets written to: ../models/FCN/checkpoint/assets\n"
     ]
    },
    {
     "name": "stdout",
     "output_type": "stream",
     "text": [
      "113/113 [==============================] - 1s 4ms/step - loss: 0.0994 - binary_accuracy: 0.8764 - val_loss: 0.0985 - val_binary_accuracy: 0.8779 - lr: 1.0000e-05\n",
      "Epoch 395/1000\n",
      " 86/113 [=====================>........] - ETA: 0s - loss: 0.0992 - binary_accuracy: 0.8764INFO:tensorflow:Assets written to: ../models/FCN/checkpoint/assets\n"
     ]
    },
    {
     "name": "stderr",
     "output_type": "stream",
     "text": [
      "INFO:tensorflow:Assets written to: ../models/FCN/checkpoint/assets\n"
     ]
    },
    {
     "name": "stdout",
     "output_type": "stream",
     "text": [
      "113/113 [==============================] - 1s 5ms/step - loss: 0.0994 - binary_accuracy: 0.8763 - val_loss: 0.0985 - val_binary_accuracy: 0.8779 - lr: 1.0000e-05\n",
      "Epoch 396/1000\n",
      "113/113 [==============================] - ETA: 0s - loss: 0.0992 - binary_accuracy: 0.8765INFO:tensorflow:Assets written to: ../models/FCN/checkpoint/assets\n"
     ]
    },
    {
     "name": "stderr",
     "output_type": "stream",
     "text": [
      "INFO:tensorflow:Assets written to: ../models/FCN/checkpoint/assets\n"
     ]
    },
    {
     "name": "stdout",
     "output_type": "stream",
     "text": [
      "113/113 [==============================] - 1s 5ms/step - loss: 0.0992 - binary_accuracy: 0.8765 - val_loss: 0.0985 - val_binary_accuracy: 0.8779 - lr: 1.0000e-05\n",
      "Epoch 397/1000\n",
      " 87/113 [======================>.......] - ETA: 0s - loss: 0.0993 - binary_accuracy: 0.8766INFO:tensorflow:Assets written to: ../models/FCN/checkpoint/assets\n"
     ]
    },
    {
     "name": "stderr",
     "output_type": "stream",
     "text": [
      "INFO:tensorflow:Assets written to: ../models/FCN/checkpoint/assets\n"
     ]
    },
    {
     "name": "stdout",
     "output_type": "stream",
     "text": [
      "113/113 [==============================] - 0s 4ms/step - loss: 0.0992 - binary_accuracy: 0.8766 - val_loss: 0.0985 - val_binary_accuracy: 0.8779 - lr: 1.0000e-05\n",
      "Epoch 398/1000\n",
      " 87/113 [======================>.......] - ETA: 0s - loss: 0.0992 - binary_accuracy: 0.8761INFO:tensorflow:Assets written to: ../models/FCN/checkpoint/assets\n"
     ]
    },
    {
     "name": "stderr",
     "output_type": "stream",
     "text": [
      "INFO:tensorflow:Assets written to: ../models/FCN/checkpoint/assets\n"
     ]
    },
    {
     "name": "stdout",
     "output_type": "stream",
     "text": [
      "113/113 [==============================] - 1s 5ms/step - loss: 0.0991 - binary_accuracy: 0.8765 - val_loss: 0.0985 - val_binary_accuracy: 0.8779 - lr: 1.0000e-05\n",
      "Epoch 399/1000\n",
      " 88/113 [======================>.......] - ETA: 0s - loss: 0.0991 - binary_accuracy: 0.8764INFO:tensorflow:Assets written to: ../models/FCN/checkpoint/assets\n"
     ]
    },
    {
     "name": "stderr",
     "output_type": "stream",
     "text": [
      "INFO:tensorflow:Assets written to: ../models/FCN/checkpoint/assets\n"
     ]
    },
    {
     "name": "stdout",
     "output_type": "stream",
     "text": [
      "113/113 [==============================] - 0s 4ms/step - loss: 0.0992 - binary_accuracy: 0.8763 - val_loss: 0.0984 - val_binary_accuracy: 0.8779 - lr: 1.0000e-05\n",
      "Epoch 400/1000\n",
      " 90/113 [======================>.......] - ETA: 0s - loss: 0.0992 - binary_accuracy: 0.8763INFO:tensorflow:Assets written to: ../models/FCN/checkpoint/assets\n"
     ]
    },
    {
     "name": "stderr",
     "output_type": "stream",
     "text": [
      "INFO:tensorflow:Assets written to: ../models/FCN/checkpoint/assets\n"
     ]
    },
    {
     "name": "stdout",
     "output_type": "stream",
     "text": [
      "113/113 [==============================] - 0s 4ms/step - loss: 0.0992 - binary_accuracy: 0.8763 - val_loss: 0.0984 - val_binary_accuracy: 0.8779 - lr: 1.0000e-05\n",
      "Epoch 401/1000\n",
      " 89/113 [======================>.......] - ETA: 0s - loss: 0.0993 - binary_accuracy: 0.8768INFO:tensorflow:Assets written to: ../models/FCN/checkpoint/assets\n"
     ]
    },
    {
     "name": "stderr",
     "output_type": "stream",
     "text": [
      "INFO:tensorflow:Assets written to: ../models/FCN/checkpoint/assets\n"
     ]
    },
    {
     "name": "stdout",
     "output_type": "stream",
     "text": [
      "113/113 [==============================] - 0s 4ms/step - loss: 0.0991 - binary_accuracy: 0.8767 - val_loss: 0.0984 - val_binary_accuracy: 0.8780 - lr: 1.0000e-05\n",
      "Epoch 402/1000\n",
      " 89/113 [======================>.......] - ETA: 0s - loss: 0.0991 - binary_accuracy: 0.8764INFO:tensorflow:Assets written to: ../models/FCN/checkpoint/assets\n"
     ]
    },
    {
     "name": "stderr",
     "output_type": "stream",
     "text": [
      "INFO:tensorflow:Assets written to: ../models/FCN/checkpoint/assets\n"
     ]
    },
    {
     "name": "stdout",
     "output_type": "stream",
     "text": [
      "113/113 [==============================] - 1s 5ms/step - loss: 0.0990 - binary_accuracy: 0.8767 - val_loss: 0.0984 - val_binary_accuracy: 0.8779 - lr: 1.0000e-05\n",
      "Epoch 403/1000\n",
      " 86/113 [=====================>........] - ETA: 0s - loss: 0.0993 - binary_accuracy: 0.8764INFO:tensorflow:Assets written to: ../models/FCN/checkpoint/assets\n"
     ]
    },
    {
     "name": "stderr",
     "output_type": "stream",
     "text": [
      "INFO:tensorflow:Assets written to: ../models/FCN/checkpoint/assets\n"
     ]
    },
    {
     "name": "stdout",
     "output_type": "stream",
     "text": [
      "113/113 [==============================] - 0s 4ms/step - loss: 0.0991 - binary_accuracy: 0.8767 - val_loss: 0.0984 - val_binary_accuracy: 0.8779 - lr: 1.0000e-05\n",
      "Epoch 404/1000\n",
      " 88/113 [======================>.......] - ETA: 0s - loss: 0.0989 - binary_accuracy: 0.8772INFO:tensorflow:Assets written to: ../models/FCN/checkpoint/assets\n"
     ]
    },
    {
     "name": "stderr",
     "output_type": "stream",
     "text": [
      "INFO:tensorflow:Assets written to: ../models/FCN/checkpoint/assets\n"
     ]
    },
    {
     "name": "stdout",
     "output_type": "stream",
     "text": [
      "113/113 [==============================] - 0s 4ms/step - loss: 0.0989 - binary_accuracy: 0.8769 - val_loss: 0.0984 - val_binary_accuracy: 0.8780 - lr: 1.0000e-05\n",
      "Epoch 405/1000\n",
      " 88/113 [======================>.......] - ETA: 0s - loss: 0.0991 - binary_accuracy: 0.8765INFO:tensorflow:Assets written to: ../models/FCN/checkpoint/assets\n"
     ]
    },
    {
     "name": "stderr",
     "output_type": "stream",
     "text": [
      "INFO:tensorflow:Assets written to: ../models/FCN/checkpoint/assets\n"
     ]
    },
    {
     "name": "stdout",
     "output_type": "stream",
     "text": [
      "113/113 [==============================] - 1s 4ms/step - loss: 0.0991 - binary_accuracy: 0.8765 - val_loss: 0.0984 - val_binary_accuracy: 0.8780 - lr: 1.0000e-05\n",
      "Epoch 406/1000\n",
      " 88/113 [======================>.......] - ETA: 0s - loss: 0.0990 - binary_accuracy: 0.8765INFO:tensorflow:Assets written to: ../models/FCN/checkpoint/assets\n"
     ]
    },
    {
     "name": "stderr",
     "output_type": "stream",
     "text": [
      "INFO:tensorflow:Assets written to: ../models/FCN/checkpoint/assets\n"
     ]
    },
    {
     "name": "stdout",
     "output_type": "stream",
     "text": [
      "113/113 [==============================] - 1s 9ms/step - loss: 0.0989 - binary_accuracy: 0.8767 - val_loss: 0.0984 - val_binary_accuracy: 0.8780 - lr: 1.0000e-05\n",
      "Epoch 407/1000\n",
      "109/113 [===========================>..] - ETA: 0s - loss: 0.0990 - binary_accuracy: 0.8763INFO:tensorflow:Assets written to: ../models/FCN/checkpoint/assets\n"
     ]
    },
    {
     "name": "stderr",
     "output_type": "stream",
     "text": [
      "INFO:tensorflow:Assets written to: ../models/FCN/checkpoint/assets\n"
     ]
    },
    {
     "name": "stdout",
     "output_type": "stream",
     "text": [
      "113/113 [==============================] - 1s 5ms/step - loss: 0.0990 - binary_accuracy: 0.8764 - val_loss: 0.0983 - val_binary_accuracy: 0.8781 - lr: 1.0000e-05\n",
      "Epoch 408/1000\n",
      "112/113 [============================>.] - ETA: 0s - loss: 0.0990 - binary_accuracy: 0.8768INFO:tensorflow:Assets written to: ../models/FCN/checkpoint/assets\n"
     ]
    },
    {
     "name": "stderr",
     "output_type": "stream",
     "text": [
      "INFO:tensorflow:Assets written to: ../models/FCN/checkpoint/assets\n"
     ]
    },
    {
     "name": "stdout",
     "output_type": "stream",
     "text": [
      "113/113 [==============================] - 1s 6ms/step - loss: 0.0990 - binary_accuracy: 0.8768 - val_loss: 0.0983 - val_binary_accuracy: 0.8781 - lr: 1.0000e-05\n",
      "Epoch 409/1000\n",
      " 94/113 [=======================>......] - ETA: 0s - loss: 0.0990 - binary_accuracy: 0.8769INFO:tensorflow:Assets written to: ../models/FCN/checkpoint/assets\n"
     ]
    },
    {
     "name": "stderr",
     "output_type": "stream",
     "text": [
      "INFO:tensorflow:Assets written to: ../models/FCN/checkpoint/assets\n"
     ]
    },
    {
     "name": "stdout",
     "output_type": "stream",
     "text": [
      "113/113 [==============================] - 1s 5ms/step - loss: 0.0990 - binary_accuracy: 0.8768 - val_loss: 0.0983 - val_binary_accuracy: 0.8780 - lr: 1.0000e-05\n",
      "Epoch 410/1000\n",
      " 87/113 [======================>.......] - ETA: 0s - loss: 0.0990 - binary_accuracy: 0.8764INFO:tensorflow:Assets written to: ../models/FCN/checkpoint/assets\n"
     ]
    },
    {
     "name": "stderr",
     "output_type": "stream",
     "text": [
      "INFO:tensorflow:Assets written to: ../models/FCN/checkpoint/assets\n"
     ]
    },
    {
     "name": "stdout",
     "output_type": "stream",
     "text": [
      "113/113 [==============================] - 0s 4ms/step - loss: 0.0990 - binary_accuracy: 0.8766 - val_loss: 0.0983 - val_binary_accuracy: 0.8780 - lr: 1.0000e-05\n",
      "Epoch 411/1000\n",
      "100/113 [=========================>....] - ETA: 0s - loss: 0.0987 - binary_accuracy: 0.8768INFO:tensorflow:Assets written to: ../models/FCN/checkpoint/assets\n"
     ]
    },
    {
     "name": "stderr",
     "output_type": "stream",
     "text": [
      "INFO:tensorflow:Assets written to: ../models/FCN/checkpoint/assets\n"
     ]
    },
    {
     "name": "stdout",
     "output_type": "stream",
     "text": [
      "113/113 [==============================] - 1s 5ms/step - loss: 0.0988 - binary_accuracy: 0.8768 - val_loss: 0.0983 - val_binary_accuracy: 0.8781 - lr: 1.0000e-05\n",
      "Epoch 412/1000\n",
      " 86/113 [=====================>........] - ETA: 0s - loss: 0.0991 - binary_accuracy: 0.8765INFO:tensorflow:Assets written to: ../models/FCN/checkpoint/assets\n"
     ]
    },
    {
     "name": "stderr",
     "output_type": "stream",
     "text": [
      "INFO:tensorflow:Assets written to: ../models/FCN/checkpoint/assets\n"
     ]
    },
    {
     "name": "stdout",
     "output_type": "stream",
     "text": [
      "113/113 [==============================] - 0s 4ms/step - loss: 0.0990 - binary_accuracy: 0.8763 - val_loss: 0.0983 - val_binary_accuracy: 0.8780 - lr: 1.0000e-05\n",
      "Epoch 413/1000\n",
      " 88/113 [======================>.......] - ETA: 0s - loss: 0.0989 - binary_accuracy: 0.8764INFO:tensorflow:Assets written to: ../models/FCN/checkpoint/assets\n"
     ]
    },
    {
     "name": "stderr",
     "output_type": "stream",
     "text": [
      "INFO:tensorflow:Assets written to: ../models/FCN/checkpoint/assets\n"
     ]
    },
    {
     "name": "stdout",
     "output_type": "stream",
     "text": [
      "113/113 [==============================] - 0s 4ms/step - loss: 0.0987 - binary_accuracy: 0.8768 - val_loss: 0.0983 - val_binary_accuracy: 0.8780 - lr: 1.0000e-05\n",
      "Epoch 414/1000\n",
      " 89/113 [======================>.......] - ETA: 0s - loss: 0.0991 - binary_accuracy: 0.8766INFO:tensorflow:Assets written to: ../models/FCN/checkpoint/assets\n"
     ]
    },
    {
     "name": "stderr",
     "output_type": "stream",
     "text": [
      "INFO:tensorflow:Assets written to: ../models/FCN/checkpoint/assets\n"
     ]
    },
    {
     "name": "stdout",
     "output_type": "stream",
     "text": [
      "113/113 [==============================] - 0s 4ms/step - loss: 0.0991 - binary_accuracy: 0.8768 - val_loss: 0.0983 - val_binary_accuracy: 0.8781 - lr: 1.0000e-05\n",
      "Epoch 415/1000\n",
      " 89/113 [======================>.......] - ETA: 0s - loss: 0.0984 - binary_accuracy: 0.8768INFO:tensorflow:Assets written to: ../models/FCN/checkpoint/assets\n"
     ]
    },
    {
     "name": "stderr",
     "output_type": "stream",
     "text": [
      "INFO:tensorflow:Assets written to: ../models/FCN/checkpoint/assets\n"
     ]
    },
    {
     "name": "stdout",
     "output_type": "stream",
     "text": [
      "113/113 [==============================] - 0s 4ms/step - loss: 0.0986 - binary_accuracy: 0.8768 - val_loss: 0.0982 - val_binary_accuracy: 0.8780 - lr: 1.0000e-05\n",
      "Epoch 416/1000\n",
      " 89/113 [======================>.......] - ETA: 0s - loss: 0.0989 - binary_accuracy: 0.8768INFO:tensorflow:Assets written to: ../models/FCN/checkpoint/assets\n"
     ]
    },
    {
     "name": "stderr",
     "output_type": "stream",
     "text": [
      "INFO:tensorflow:Assets written to: ../models/FCN/checkpoint/assets\n"
     ]
    },
    {
     "name": "stdout",
     "output_type": "stream",
     "text": [
      "113/113 [==============================] - 0s 4ms/step - loss: 0.0989 - binary_accuracy: 0.8767 - val_loss: 0.0982 - val_binary_accuracy: 0.8780 - lr: 1.0000e-05\n",
      "Epoch 417/1000\n",
      " 89/113 [======================>.......] - ETA: 0s - loss: 0.0989 - binary_accuracy: 0.8768INFO:tensorflow:Assets written to: ../models/FCN/checkpoint/assets\n"
     ]
    },
    {
     "name": "stderr",
     "output_type": "stream",
     "text": [
      "INFO:tensorflow:Assets written to: ../models/FCN/checkpoint/assets\n"
     ]
    },
    {
     "name": "stdout",
     "output_type": "stream",
     "text": [
      "113/113 [==============================] - 0s 4ms/step - loss: 0.0987 - binary_accuracy: 0.8769 - val_loss: 0.0982 - val_binary_accuracy: 0.8780 - lr: 1.0000e-05\n",
      "Epoch 418/1000\n",
      " 88/113 [======================>.......] - ETA: 0s - loss: 0.0987 - binary_accuracy: 0.8772INFO:tensorflow:Assets written to: ../models/FCN/checkpoint/assets\n"
     ]
    },
    {
     "name": "stderr",
     "output_type": "stream",
     "text": [
      "INFO:tensorflow:Assets written to: ../models/FCN/checkpoint/assets\n"
     ]
    },
    {
     "name": "stdout",
     "output_type": "stream",
     "text": [
      "113/113 [==============================] - 0s 4ms/step - loss: 0.0986 - binary_accuracy: 0.8771 - val_loss: 0.0982 - val_binary_accuracy: 0.8780 - lr: 1.0000e-05\n",
      "Epoch 419/1000\n",
      " 90/113 [======================>.......] - ETA: 0s - loss: 0.0985 - binary_accuracy: 0.8774INFO:tensorflow:Assets written to: ../models/FCN/checkpoint/assets\n"
     ]
    },
    {
     "name": "stderr",
     "output_type": "stream",
     "text": [
      "INFO:tensorflow:Assets written to: ../models/FCN/checkpoint/assets\n"
     ]
    },
    {
     "name": "stdout",
     "output_type": "stream",
     "text": [
      "113/113 [==============================] - 0s 4ms/step - loss: 0.0986 - binary_accuracy: 0.8771 - val_loss: 0.0982 - val_binary_accuracy: 0.8780 - lr: 1.0000e-05\n",
      "Epoch 420/1000\n",
      " 90/113 [======================>.......] - ETA: 0s - loss: 0.0985 - binary_accuracy: 0.8773INFO:tensorflow:Assets written to: ../models/FCN/checkpoint/assets\n"
     ]
    },
    {
     "name": "stderr",
     "output_type": "stream",
     "text": [
      "INFO:tensorflow:Assets written to: ../models/FCN/checkpoint/assets\n"
     ]
    },
    {
     "name": "stdout",
     "output_type": "stream",
     "text": [
      "113/113 [==============================] - 0s 4ms/step - loss: 0.0985 - binary_accuracy: 0.8771 - val_loss: 0.0982 - val_binary_accuracy: 0.8780 - lr: 1.0000e-05\n",
      "Epoch 421/1000\n",
      "101/113 [=========================>....] - ETA: 0s - loss: 0.0986 - binary_accuracy: 0.8767INFO:tensorflow:Assets written to: ../models/FCN/checkpoint/assets\n"
     ]
    },
    {
     "name": "stderr",
     "output_type": "stream",
     "text": [
      "INFO:tensorflow:Assets written to: ../models/FCN/checkpoint/assets\n"
     ]
    },
    {
     "name": "stdout",
     "output_type": "stream",
     "text": [
      "113/113 [==============================] - 1s 5ms/step - loss: 0.0985 - binary_accuracy: 0.8769 - val_loss: 0.0982 - val_binary_accuracy: 0.8780 - lr: 1.0000e-05\n",
      "Epoch 422/1000\n",
      "111/113 [============================>.] - ETA: 0s - loss: 0.0984 - binary_accuracy: 0.8771INFO:tensorflow:Assets written to: ../models/FCN/checkpoint/assets\n"
     ]
    },
    {
     "name": "stderr",
     "output_type": "stream",
     "text": [
      "INFO:tensorflow:Assets written to: ../models/FCN/checkpoint/assets\n"
     ]
    },
    {
     "name": "stdout",
     "output_type": "stream",
     "text": [
      "113/113 [==============================] - 1s 5ms/step - loss: 0.0984 - binary_accuracy: 0.8772 - val_loss: 0.0982 - val_binary_accuracy: 0.8781 - lr: 1.0000e-05\n",
      "Epoch 423/1000\n",
      " 87/113 [======================>.......] - ETA: 0s - loss: 0.0984 - binary_accuracy: 0.8772INFO:tensorflow:Assets written to: ../models/FCN/checkpoint/assets\n"
     ]
    },
    {
     "name": "stderr",
     "output_type": "stream",
     "text": [
      "INFO:tensorflow:Assets written to: ../models/FCN/checkpoint/assets\n"
     ]
    },
    {
     "name": "stdout",
     "output_type": "stream",
     "text": [
      "113/113 [==============================] - 1s 4ms/step - loss: 0.0985 - binary_accuracy: 0.8769 - val_loss: 0.0982 - val_binary_accuracy: 0.8781 - lr: 1.0000e-05\n",
      "Epoch 424/1000\n",
      "109/113 [===========================>..] - ETA: 0s - loss: 0.0983 - binary_accuracy: 0.8771INFO:tensorflow:Assets written to: ../models/FCN/checkpoint/assets\n"
     ]
    },
    {
     "name": "stderr",
     "output_type": "stream",
     "text": [
      "INFO:tensorflow:Assets written to: ../models/FCN/checkpoint/assets\n"
     ]
    },
    {
     "name": "stdout",
     "output_type": "stream",
     "text": [
      "113/113 [==============================] - 1s 5ms/step - loss: 0.0984 - binary_accuracy: 0.8772 - val_loss: 0.0981 - val_binary_accuracy: 0.8781 - lr: 1.0000e-05\n",
      "Epoch 425/1000\n",
      " 86/113 [=====================>........] - ETA: 0s - loss: 0.0985 - binary_accuracy: 0.8767INFO:tensorflow:Assets written to: ../models/FCN/checkpoint/assets\n"
     ]
    },
    {
     "name": "stderr",
     "output_type": "stream",
     "text": [
      "INFO:tensorflow:Assets written to: ../models/FCN/checkpoint/assets\n"
     ]
    },
    {
     "name": "stdout",
     "output_type": "stream",
     "text": [
      "113/113 [==============================] - 1s 5ms/step - loss: 0.0986 - binary_accuracy: 0.8768 - val_loss: 0.0981 - val_binary_accuracy: 0.8780 - lr: 1.0000e-05\n",
      "Epoch 426/1000\n",
      "109/113 [===========================>..] - ETA: 0s - loss: 0.0987 - binary_accuracy: 0.8769INFO:tensorflow:Assets written to: ../models/FCN/checkpoint/assets\n"
     ]
    },
    {
     "name": "stderr",
     "output_type": "stream",
     "text": [
      "INFO:tensorflow:Assets written to: ../models/FCN/checkpoint/assets\n"
     ]
    },
    {
     "name": "stdout",
     "output_type": "stream",
     "text": [
      "113/113 [==============================] - 1s 5ms/step - loss: 0.0987 - binary_accuracy: 0.8770 - val_loss: 0.0981 - val_binary_accuracy: 0.8781 - lr: 1.0000e-05\n",
      "Epoch 427/1000\n",
      "113/113 [==============================] - ETA: 0s - loss: 0.0985 - binary_accuracy: 0.8769INFO:tensorflow:Assets written to: ../models/FCN/checkpoint/assets\n"
     ]
    },
    {
     "name": "stderr",
     "output_type": "stream",
     "text": [
      "INFO:tensorflow:Assets written to: ../models/FCN/checkpoint/assets\n"
     ]
    },
    {
     "name": "stdout",
     "output_type": "stream",
     "text": [
      "113/113 [==============================] - 1s 9ms/step - loss: 0.0985 - binary_accuracy: 0.8769 - val_loss: 0.0981 - val_binary_accuracy: 0.8780 - lr: 1.0000e-05\n",
      "Epoch 428/1000\n",
      "105/113 [==========================>...] - ETA: 0s - loss: 0.0984 - binary_accuracy: 0.8776INFO:tensorflow:Assets written to: ../models/FCN/checkpoint/assets\n"
     ]
    },
    {
     "name": "stderr",
     "output_type": "stream",
     "text": [
      "INFO:tensorflow:Assets written to: ../models/FCN/checkpoint/assets\n"
     ]
    },
    {
     "name": "stdout",
     "output_type": "stream",
     "text": [
      "113/113 [==============================] - 1s 5ms/step - loss: 0.0986 - binary_accuracy: 0.8773 - val_loss: 0.0981 - val_binary_accuracy: 0.8781 - lr: 1.0000e-05\n",
      "Epoch 429/1000\n",
      "113/113 [==============================] - ETA: 0s - loss: 0.0985 - binary_accuracy: 0.8771INFO:tensorflow:Assets written to: ../models/FCN/checkpoint/assets\n"
     ]
    },
    {
     "name": "stderr",
     "output_type": "stream",
     "text": [
      "INFO:tensorflow:Assets written to: ../models/FCN/checkpoint/assets\n"
     ]
    },
    {
     "name": "stdout",
     "output_type": "stream",
     "text": [
      "113/113 [==============================] - 1s 5ms/step - loss: 0.0985 - binary_accuracy: 0.8771 - val_loss: 0.0981 - val_binary_accuracy: 0.8781 - lr: 1.0000e-05\n",
      "Epoch 430/1000\n",
      "110/113 [============================>.] - ETA: 0s - loss: 0.0983 - binary_accuracy: 0.8773INFO:tensorflow:Assets written to: ../models/FCN/checkpoint/assets\n"
     ]
    },
    {
     "name": "stderr",
     "output_type": "stream",
     "text": [
      "INFO:tensorflow:Assets written to: ../models/FCN/checkpoint/assets\n"
     ]
    },
    {
     "name": "stdout",
     "output_type": "stream",
     "text": [
      "113/113 [==============================] - 1s 5ms/step - loss: 0.0983 - binary_accuracy: 0.8774 - val_loss: 0.0981 - val_binary_accuracy: 0.8781 - lr: 1.0000e-05\n",
      "Epoch 431/1000\n",
      "108/113 [===========================>..] - ETA: 0s - loss: 0.0984 - binary_accuracy: 0.8769INFO:tensorflow:Assets written to: ../models/FCN/checkpoint/assets\n"
     ]
    },
    {
     "name": "stderr",
     "output_type": "stream",
     "text": [
      "INFO:tensorflow:Assets written to: ../models/FCN/checkpoint/assets\n"
     ]
    },
    {
     "name": "stdout",
     "output_type": "stream",
     "text": [
      "113/113 [==============================] - 1s 5ms/step - loss: 0.0983 - binary_accuracy: 0.8769 - val_loss: 0.0981 - val_binary_accuracy: 0.8782 - lr: 1.0000e-05\n",
      "Epoch 432/1000\n",
      " 87/113 [======================>.......] - ETA: 0s - loss: 0.0983 - binary_accuracy: 0.8774INFO:tensorflow:Assets written to: ../models/FCN/checkpoint/assets\n"
     ]
    },
    {
     "name": "stderr",
     "output_type": "stream",
     "text": [
      "INFO:tensorflow:Assets written to: ../models/FCN/checkpoint/assets\n"
     ]
    },
    {
     "name": "stdout",
     "output_type": "stream",
     "text": [
      "113/113 [==============================] - 0s 4ms/step - loss: 0.0983 - binary_accuracy: 0.8773 - val_loss: 0.0980 - val_binary_accuracy: 0.8782 - lr: 1.0000e-05\n",
      "Epoch 433/1000\n",
      " 87/113 [======================>.......] - ETA: 0s - loss: 0.0985 - binary_accuracy: 0.8766INFO:tensorflow:Assets written to: ../models/FCN/checkpoint/assets\n"
     ]
    },
    {
     "name": "stderr",
     "output_type": "stream",
     "text": [
      "INFO:tensorflow:Assets written to: ../models/FCN/checkpoint/assets\n"
     ]
    },
    {
     "name": "stdout",
     "output_type": "stream",
     "text": [
      "113/113 [==============================] - 0s 4ms/step - loss: 0.0983 - binary_accuracy: 0.8772 - val_loss: 0.0980 - val_binary_accuracy: 0.8782 - lr: 1.0000e-05\n",
      "Epoch 434/1000\n",
      "108/113 [===========================>..] - ETA: 0s - loss: 0.0984 - binary_accuracy: 0.8767INFO:tensorflow:Assets written to: ../models/FCN/checkpoint/assets\n"
     ]
    },
    {
     "name": "stderr",
     "output_type": "stream",
     "text": [
      "INFO:tensorflow:Assets written to: ../models/FCN/checkpoint/assets\n"
     ]
    },
    {
     "name": "stdout",
     "output_type": "stream",
     "text": [
      "113/113 [==============================] - 1s 5ms/step - loss: 0.0984 - binary_accuracy: 0.8768 - val_loss: 0.0980 - val_binary_accuracy: 0.8782 - lr: 1.0000e-05\n",
      "Epoch 435/1000\n",
      " 87/113 [======================>.......] - ETA: 0s - loss: 0.0984 - binary_accuracy: 0.8772INFO:tensorflow:Assets written to: ../models/FCN/checkpoint/assets\n"
     ]
    },
    {
     "name": "stderr",
     "output_type": "stream",
     "text": [
      "INFO:tensorflow:Assets written to: ../models/FCN/checkpoint/assets\n"
     ]
    },
    {
     "name": "stdout",
     "output_type": "stream",
     "text": [
      "113/113 [==============================] - 0s 4ms/step - loss: 0.0985 - binary_accuracy: 0.8771 - val_loss: 0.0980 - val_binary_accuracy: 0.8782 - lr: 1.0000e-05\n",
      "Epoch 436/1000\n",
      " 99/113 [=========================>....] - ETA: 0s - loss: 0.0985 - binary_accuracy: 0.8764INFO:tensorflow:Assets written to: ../models/FCN/checkpoint/assets\n"
     ]
    },
    {
     "name": "stderr",
     "output_type": "stream",
     "text": [
      "INFO:tensorflow:Assets written to: ../models/FCN/checkpoint/assets\n"
     ]
    },
    {
     "name": "stdout",
     "output_type": "stream",
     "text": [
      "113/113 [==============================] - 1s 5ms/step - loss: 0.0983 - binary_accuracy: 0.8767 - val_loss: 0.0980 - val_binary_accuracy: 0.8782 - lr: 1.0000e-05\n",
      "Epoch 437/1000\n",
      " 87/113 [======================>.......] - ETA: 0s - loss: 0.0984 - binary_accuracy: 0.8772INFO:tensorflow:Assets written to: ../models/FCN/checkpoint/assets\n"
     ]
    },
    {
     "name": "stderr",
     "output_type": "stream",
     "text": [
      "INFO:tensorflow:Assets written to: ../models/FCN/checkpoint/assets\n"
     ]
    },
    {
     "name": "stdout",
     "output_type": "stream",
     "text": [
      "113/113 [==============================] - 0s 4ms/step - loss: 0.0985 - binary_accuracy: 0.8771 - val_loss: 0.0980 - val_binary_accuracy: 0.8782 - lr: 1.0000e-05\n",
      "Epoch 438/1000\n",
      " 87/113 [======================>.......] - ETA: 0s - loss: 0.0983 - binary_accuracy: 0.8771INFO:tensorflow:Assets written to: ../models/FCN/checkpoint/assets\n"
     ]
    },
    {
     "name": "stderr",
     "output_type": "stream",
     "text": [
      "INFO:tensorflow:Assets written to: ../models/FCN/checkpoint/assets\n"
     ]
    },
    {
     "name": "stdout",
     "output_type": "stream",
     "text": [
      "113/113 [==============================] - 0s 4ms/step - loss: 0.0983 - binary_accuracy: 0.8772 - val_loss: 0.0980 - val_binary_accuracy: 0.8782 - lr: 1.0000e-05\n",
      "Epoch 439/1000\n",
      " 88/113 [======================>.......] - ETA: 0s - loss: 0.0982 - binary_accuracy: 0.8771INFO:tensorflow:Assets written to: ../models/FCN/checkpoint/assets\n"
     ]
    },
    {
     "name": "stderr",
     "output_type": "stream",
     "text": [
      "INFO:tensorflow:Assets written to: ../models/FCN/checkpoint/assets\n"
     ]
    },
    {
     "name": "stdout",
     "output_type": "stream",
     "text": [
      "113/113 [==============================] - 0s 4ms/step - loss: 0.0984 - binary_accuracy: 0.8769 - val_loss: 0.0980 - val_binary_accuracy: 0.8782 - lr: 1.0000e-05\n",
      "Epoch 440/1000\n",
      " 87/113 [======================>.......] - ETA: 0s - loss: 0.0983 - binary_accuracy: 0.8773INFO:tensorflow:Assets written to: ../models/FCN/checkpoint/assets\n"
     ]
    },
    {
     "name": "stderr",
     "output_type": "stream",
     "text": [
      "INFO:tensorflow:Assets written to: ../models/FCN/checkpoint/assets\n"
     ]
    },
    {
     "name": "stdout",
     "output_type": "stream",
     "text": [
      "113/113 [==============================] - 0s 4ms/step - loss: 0.0981 - binary_accuracy: 0.8774 - val_loss: 0.0980 - val_binary_accuracy: 0.8782 - lr: 1.0000e-05\n",
      "Epoch 441/1000\n",
      " 89/113 [======================>.......] - ETA: 0s - loss: 0.0983 - binary_accuracy: 0.8766INFO:tensorflow:Assets written to: ../models/FCN/checkpoint/assets\n"
     ]
    },
    {
     "name": "stderr",
     "output_type": "stream",
     "text": [
      "INFO:tensorflow:Assets written to: ../models/FCN/checkpoint/assets\n"
     ]
    },
    {
     "name": "stdout",
     "output_type": "stream",
     "text": [
      "113/113 [==============================] - 0s 4ms/step - loss: 0.0983 - binary_accuracy: 0.8769 - val_loss: 0.0980 - val_binary_accuracy: 0.8783 - lr: 1.0000e-05\n",
      "Epoch 442/1000\n",
      " 89/113 [======================>.......] - ETA: 0s - loss: 0.0983 - binary_accuracy: 0.8772INFO:tensorflow:Assets written to: ../models/FCN/checkpoint/assets\n"
     ]
    },
    {
     "name": "stderr",
     "output_type": "stream",
     "text": [
      "INFO:tensorflow:Assets written to: ../models/FCN/checkpoint/assets\n"
     ]
    },
    {
     "name": "stdout",
     "output_type": "stream",
     "text": [
      "113/113 [==============================] - 1s 5ms/step - loss: 0.0984 - binary_accuracy: 0.8772 - val_loss: 0.0979 - val_binary_accuracy: 0.8782 - lr: 1.0000e-05\n",
      "Epoch 443/1000\n",
      " 87/113 [======================>.......] - ETA: 0s - loss: 0.0985 - binary_accuracy: 0.8774INFO:tensorflow:Assets written to: ../models/FCN/checkpoint/assets\n"
     ]
    },
    {
     "name": "stderr",
     "output_type": "stream",
     "text": [
      "INFO:tensorflow:Assets written to: ../models/FCN/checkpoint/assets\n"
     ]
    },
    {
     "name": "stdout",
     "output_type": "stream",
     "text": [
      "113/113 [==============================] - 1s 6ms/step - loss: 0.0984 - binary_accuracy: 0.8774 - val_loss: 0.0979 - val_binary_accuracy: 0.8783 - lr: 1.0000e-05\n",
      "Epoch 444/1000\n",
      " 87/113 [======================>.......] - ETA: 0s - loss: 0.0982 - binary_accuracy: 0.8771INFO:tensorflow:Assets written to: ../models/FCN/checkpoint/assets\n"
     ]
    },
    {
     "name": "stderr",
     "output_type": "stream",
     "text": [
      "INFO:tensorflow:Assets written to: ../models/FCN/checkpoint/assets\n"
     ]
    },
    {
     "name": "stdout",
     "output_type": "stream",
     "text": [
      "113/113 [==============================] - 0s 4ms/step - loss: 0.0982 - binary_accuracy: 0.8773 - val_loss: 0.0979 - val_binary_accuracy: 0.8782 - lr: 1.0000e-05\n",
      "Epoch 445/1000\n",
      "113/113 [==============================] - ETA: 0s - loss: 0.0983 - binary_accuracy: 0.8770INFO:tensorflow:Assets written to: ../models/FCN/checkpoint/assets\n"
     ]
    },
    {
     "name": "stderr",
     "output_type": "stream",
     "text": [
      "INFO:tensorflow:Assets written to: ../models/FCN/checkpoint/assets\n"
     ]
    },
    {
     "name": "stdout",
     "output_type": "stream",
     "text": [
      "113/113 [==============================] - 0s 4ms/step - loss: 0.0983 - binary_accuracy: 0.8770 - val_loss: 0.0979 - val_binary_accuracy: 0.8782 - lr: 1.0000e-05\n",
      "Epoch 446/1000\n",
      " 99/113 [=========================>....] - ETA: 0s - loss: 0.0984 - binary_accuracy: 0.8772INFO:tensorflow:Assets written to: ../models/FCN/checkpoint/assets\n"
     ]
    },
    {
     "name": "stderr",
     "output_type": "stream",
     "text": [
      "INFO:tensorflow:Assets written to: ../models/FCN/checkpoint/assets\n"
     ]
    },
    {
     "name": "stdout",
     "output_type": "stream",
     "text": [
      "113/113 [==============================] - 1s 5ms/step - loss: 0.0983 - binary_accuracy: 0.8773 - val_loss: 0.0979 - val_binary_accuracy: 0.8783 - lr: 1.0000e-05\n",
      "Epoch 447/1000\n",
      " 88/113 [======================>.......] - ETA: 0s - loss: 0.0977 - binary_accuracy: 0.8779INFO:tensorflow:Assets written to: ../models/FCN/checkpoint/assets\n"
     ]
    },
    {
     "name": "stderr",
     "output_type": "stream",
     "text": [
      "INFO:tensorflow:Assets written to: ../models/FCN/checkpoint/assets\n"
     ]
    },
    {
     "name": "stdout",
     "output_type": "stream",
     "text": [
      "113/113 [==============================] - 1s 9ms/step - loss: 0.0978 - binary_accuracy: 0.8775 - val_loss: 0.0979 - val_binary_accuracy: 0.8782 - lr: 1.0000e-05\n",
      "Epoch 448/1000\n",
      " 88/113 [======================>.......] - ETA: 0s - loss: 0.0979 - binary_accuracy: 0.8774INFO:tensorflow:Assets written to: ../models/FCN/checkpoint/assets\n"
     ]
    },
    {
     "name": "stderr",
     "output_type": "stream",
     "text": [
      "INFO:tensorflow:Assets written to: ../models/FCN/checkpoint/assets\n"
     ]
    },
    {
     "name": "stdout",
     "output_type": "stream",
     "text": [
      "113/113 [==============================] - 0s 4ms/step - loss: 0.0980 - binary_accuracy: 0.8771 - val_loss: 0.0979 - val_binary_accuracy: 0.8783 - lr: 1.0000e-05\n",
      "Epoch 449/1000\n",
      "113/113 [==============================] - ETA: 0s - loss: 0.0980 - binary_accuracy: 0.8774INFO:tensorflow:Assets written to: ../models/FCN/checkpoint/assets\n"
     ]
    },
    {
     "name": "stderr",
     "output_type": "stream",
     "text": [
      "INFO:tensorflow:Assets written to: ../models/FCN/checkpoint/assets\n"
     ]
    },
    {
     "name": "stdout",
     "output_type": "stream",
     "text": [
      "113/113 [==============================] - 1s 4ms/step - loss: 0.0980 - binary_accuracy: 0.8774 - val_loss: 0.0979 - val_binary_accuracy: 0.8782 - lr: 1.0000e-05\n",
      "Epoch 450/1000\n",
      " 88/113 [======================>.......] - ETA: 0s - loss: 0.0986 - binary_accuracy: 0.8767INFO:tensorflow:Assets written to: ../models/FCN/checkpoint/assets\n"
     ]
    },
    {
     "name": "stderr",
     "output_type": "stream",
     "text": [
      "INFO:tensorflow:Assets written to: ../models/FCN/checkpoint/assets\n"
     ]
    },
    {
     "name": "stdout",
     "output_type": "stream",
     "text": [
      "113/113 [==============================] - 1s 4ms/step - loss: 0.0983 - binary_accuracy: 0.8772 - val_loss: 0.0979 - val_binary_accuracy: 0.8783 - lr: 1.0000e-05\n",
      "Epoch 451/1000\n",
      " 87/113 [======================>.......] - ETA: 0s - loss: 0.0979 - binary_accuracy: 0.8772INFO:tensorflow:Assets written to: ../models/FCN/checkpoint/assets\n"
     ]
    },
    {
     "name": "stderr",
     "output_type": "stream",
     "text": [
      "INFO:tensorflow:Assets written to: ../models/FCN/checkpoint/assets\n"
     ]
    },
    {
     "name": "stdout",
     "output_type": "stream",
     "text": [
      "113/113 [==============================] - 0s 4ms/step - loss: 0.0978 - binary_accuracy: 0.8773 - val_loss: 0.0978 - val_binary_accuracy: 0.8782 - lr: 1.0000e-05\n",
      "Epoch 452/1000\n",
      " 88/113 [======================>.......] - ETA: 0s - loss: 0.0984 - binary_accuracy: 0.8771INFO:tensorflow:Assets written to: ../models/FCN/checkpoint/assets\n"
     ]
    },
    {
     "name": "stderr",
     "output_type": "stream",
     "text": [
      "INFO:tensorflow:Assets written to: ../models/FCN/checkpoint/assets\n"
     ]
    },
    {
     "name": "stdout",
     "output_type": "stream",
     "text": [
      "113/113 [==============================] - 0s 4ms/step - loss: 0.0983 - binary_accuracy: 0.8772 - val_loss: 0.0978 - val_binary_accuracy: 0.8782 - lr: 1.0000e-05\n",
      "Epoch 453/1000\n",
      " 87/113 [======================>.......] - ETA: 0s - loss: 0.0975 - binary_accuracy: 0.8780INFO:tensorflow:Assets written to: ../models/FCN/checkpoint/assets\n"
     ]
    },
    {
     "name": "stderr",
     "output_type": "stream",
     "text": [
      "INFO:tensorflow:Assets written to: ../models/FCN/checkpoint/assets\n"
     ]
    },
    {
     "name": "stdout",
     "output_type": "stream",
     "text": [
      "113/113 [==============================] - 0s 4ms/step - loss: 0.0979 - binary_accuracy: 0.8773 - val_loss: 0.0978 - val_binary_accuracy: 0.8782 - lr: 1.0000e-05\n",
      "Epoch 454/1000\n",
      " 89/113 [======================>.......] - ETA: 0s - loss: 0.0978 - binary_accuracy: 0.8779INFO:tensorflow:Assets written to: ../models/FCN/checkpoint/assets\n"
     ]
    },
    {
     "name": "stderr",
     "output_type": "stream",
     "text": [
      "INFO:tensorflow:Assets written to: ../models/FCN/checkpoint/assets\n"
     ]
    },
    {
     "name": "stdout",
     "output_type": "stream",
     "text": [
      "113/113 [==============================] - 0s 4ms/step - loss: 0.0980 - binary_accuracy: 0.8776 - val_loss: 0.0978 - val_binary_accuracy: 0.8782 - lr: 1.0000e-05\n",
      "Epoch 455/1000\n",
      " 88/113 [======================>.......] - ETA: 0s - loss: 0.0977 - binary_accuracy: 0.8776INFO:tensorflow:Assets written to: ../models/FCN/checkpoint/assets\n"
     ]
    },
    {
     "name": "stderr",
     "output_type": "stream",
     "text": [
      "INFO:tensorflow:Assets written to: ../models/FCN/checkpoint/assets\n"
     ]
    },
    {
     "name": "stdout",
     "output_type": "stream",
     "text": [
      "113/113 [==============================] - 0s 4ms/step - loss: 0.0981 - binary_accuracy: 0.8773 - val_loss: 0.0978 - val_binary_accuracy: 0.8783 - lr: 1.0000e-05\n",
      "Epoch 456/1000\n",
      "100/113 [=========================>....] - ETA: 0s - loss: 0.0980 - binary_accuracy: 0.8774INFO:tensorflow:Assets written to: ../models/FCN/checkpoint/assets\n"
     ]
    },
    {
     "name": "stderr",
     "output_type": "stream",
     "text": [
      "INFO:tensorflow:Assets written to: ../models/FCN/checkpoint/assets\n"
     ]
    },
    {
     "name": "stdout",
     "output_type": "stream",
     "text": [
      "113/113 [==============================] - 1s 5ms/step - loss: 0.0981 - binary_accuracy: 0.8772 - val_loss: 0.0978 - val_binary_accuracy: 0.8782 - lr: 1.0000e-05\n",
      "Epoch 457/1000\n",
      " 90/113 [======================>.......] - ETA: 0s - loss: 0.0980 - binary_accuracy: 0.8776INFO:tensorflow:Assets written to: ../models/FCN/checkpoint/assets\n"
     ]
    },
    {
     "name": "stderr",
     "output_type": "stream",
     "text": [
      "INFO:tensorflow:Assets written to: ../models/FCN/checkpoint/assets\n"
     ]
    },
    {
     "name": "stdout",
     "output_type": "stream",
     "text": [
      "113/113 [==============================] - 0s 4ms/step - loss: 0.0980 - binary_accuracy: 0.8775 - val_loss: 0.0978 - val_binary_accuracy: 0.8783 - lr: 1.0000e-05\n",
      "Epoch 458/1000\n",
      " 88/113 [======================>.......] - ETA: 0s - loss: 0.0980 - binary_accuracy: 0.8778INFO:tensorflow:Assets written to: ../models/FCN/checkpoint/assets\n"
     ]
    },
    {
     "name": "stderr",
     "output_type": "stream",
     "text": [
      "INFO:tensorflow:Assets written to: ../models/FCN/checkpoint/assets\n"
     ]
    },
    {
     "name": "stdout",
     "output_type": "stream",
     "text": [
      "113/113 [==============================] - 0s 4ms/step - loss: 0.0981 - binary_accuracy: 0.8774 - val_loss: 0.0978 - val_binary_accuracy: 0.8783 - lr: 1.0000e-05\n",
      "Epoch 459/1000\n",
      " 88/113 [======================>.......] - ETA: 0s - loss: 0.0978 - binary_accuracy: 0.8777INFO:tensorflow:Assets written to: ../models/FCN/checkpoint/assets\n"
     ]
    },
    {
     "name": "stderr",
     "output_type": "stream",
     "text": [
      "INFO:tensorflow:Assets written to: ../models/FCN/checkpoint/assets\n"
     ]
    },
    {
     "name": "stdout",
     "output_type": "stream",
     "text": [
      "113/113 [==============================] - 0s 4ms/step - loss: 0.0978 - binary_accuracy: 0.8777 - val_loss: 0.0978 - val_binary_accuracy: 0.8783 - lr: 1.0000e-05\n",
      "Epoch 460/1000\n",
      " 89/113 [======================>.......] - ETA: 0s - loss: 0.0983 - binary_accuracy: 0.8769INFO:tensorflow:Assets written to: ../models/FCN/checkpoint/assets\n"
     ]
    },
    {
     "name": "stderr",
     "output_type": "stream",
     "text": [
      "INFO:tensorflow:Assets written to: ../models/FCN/checkpoint/assets\n"
     ]
    },
    {
     "name": "stdout",
     "output_type": "stream",
     "text": [
      "113/113 [==============================] - 0s 4ms/step - loss: 0.0980 - binary_accuracy: 0.8773 - val_loss: 0.0977 - val_binary_accuracy: 0.8783 - lr: 1.0000e-05\n",
      "Epoch 461/1000\n",
      " 88/113 [======================>.......] - ETA: 0s - loss: 0.0979 - binary_accuracy: 0.8776INFO:tensorflow:Assets written to: ../models/FCN/checkpoint/assets\n"
     ]
    },
    {
     "name": "stderr",
     "output_type": "stream",
     "text": [
      "INFO:tensorflow:Assets written to: ../models/FCN/checkpoint/assets\n"
     ]
    },
    {
     "name": "stdout",
     "output_type": "stream",
     "text": [
      "113/113 [==============================] - 0s 4ms/step - loss: 0.0980 - binary_accuracy: 0.8774 - val_loss: 0.0977 - val_binary_accuracy: 0.8782 - lr: 1.0000e-05\n",
      "Epoch 462/1000\n",
      " 88/113 [======================>.......] - ETA: 0s - loss: 0.0975 - binary_accuracy: 0.8778INFO:tensorflow:Assets written to: ../models/FCN/checkpoint/assets\n"
     ]
    },
    {
     "name": "stderr",
     "output_type": "stream",
     "text": [
      "INFO:tensorflow:Assets written to: ../models/FCN/checkpoint/assets\n"
     ]
    },
    {
     "name": "stdout",
     "output_type": "stream",
     "text": [
      "113/113 [==============================] - 0s 4ms/step - loss: 0.0977 - binary_accuracy: 0.8775 - val_loss: 0.0977 - val_binary_accuracy: 0.8783 - lr: 1.0000e-05\n",
      "Epoch 463/1000\n",
      " 89/113 [======================>.......] - ETA: 0s - loss: 0.0977 - binary_accuracy: 0.8775INFO:tensorflow:Assets written to: ../models/FCN/checkpoint/assets\n"
     ]
    },
    {
     "name": "stderr",
     "output_type": "stream",
     "text": [
      "INFO:tensorflow:Assets written to: ../models/FCN/checkpoint/assets\n"
     ]
    },
    {
     "name": "stdout",
     "output_type": "stream",
     "text": [
      "113/113 [==============================] - 0s 4ms/step - loss: 0.0977 - binary_accuracy: 0.8775 - val_loss: 0.0977 - val_binary_accuracy: 0.8783 - lr: 1.0000e-05\n",
      "Epoch 464/1000\n",
      " 88/113 [======================>.......] - ETA: 0s - loss: 0.0978 - binary_accuracy: 0.8773INFO:tensorflow:Assets written to: ../models/FCN/checkpoint/assets\n"
     ]
    },
    {
     "name": "stderr",
     "output_type": "stream",
     "text": [
      "INFO:tensorflow:Assets written to: ../models/FCN/checkpoint/assets\n"
     ]
    },
    {
     "name": "stdout",
     "output_type": "stream",
     "text": [
      "113/113 [==============================] - 0s 4ms/step - loss: 0.0977 - binary_accuracy: 0.8776 - val_loss: 0.0977 - val_binary_accuracy: 0.8783 - lr: 1.0000e-05\n",
      "Epoch 465/1000\n",
      " 88/113 [======================>.......] - ETA: 0s - loss: 0.0977 - binary_accuracy: 0.8773INFO:tensorflow:Assets written to: ../models/FCN/checkpoint/assets\n"
     ]
    },
    {
     "name": "stderr",
     "output_type": "stream",
     "text": [
      "INFO:tensorflow:Assets written to: ../models/FCN/checkpoint/assets\n"
     ]
    },
    {
     "name": "stdout",
     "output_type": "stream",
     "text": [
      "113/113 [==============================] - 0s 4ms/step - loss: 0.0978 - binary_accuracy: 0.8774 - val_loss: 0.0977 - val_binary_accuracy: 0.8783 - lr: 1.0000e-05\n",
      "Epoch 466/1000\n",
      "101/113 [=========================>....] - ETA: 0s - loss: 0.0977 - binary_accuracy: 0.8776INFO:tensorflow:Assets written to: ../models/FCN/checkpoint/assets\n"
     ]
    },
    {
     "name": "stderr",
     "output_type": "stream",
     "text": [
      "INFO:tensorflow:Assets written to: ../models/FCN/checkpoint/assets\n"
     ]
    },
    {
     "name": "stdout",
     "output_type": "stream",
     "text": [
      "113/113 [==============================] - 1s 5ms/step - loss: 0.0978 - binary_accuracy: 0.8776 - val_loss: 0.0977 - val_binary_accuracy: 0.8783 - lr: 1.0000e-05\n",
      "Epoch 467/1000\n",
      " 88/113 [======================>.......] - ETA: 0s - loss: 0.0976 - binary_accuracy: 0.8779INFO:tensorflow:Assets written to: ../models/FCN/checkpoint/assets\n"
     ]
    },
    {
     "name": "stderr",
     "output_type": "stream",
     "text": [
      "INFO:tensorflow:Assets written to: ../models/FCN/checkpoint/assets\n"
     ]
    },
    {
     "name": "stdout",
     "output_type": "stream",
     "text": [
      "113/113 [==============================] - 0s 4ms/step - loss: 0.0980 - binary_accuracy: 0.8775 - val_loss: 0.0977 - val_binary_accuracy: 0.8783 - lr: 1.0000e-05\n",
      "Epoch 468/1000\n",
      " 89/113 [======================>.......] - ETA: 0s - loss: 0.0982 - binary_accuracy: 0.8775INFO:tensorflow:Assets written to: ../models/FCN/checkpoint/assets\n"
     ]
    },
    {
     "name": "stderr",
     "output_type": "stream",
     "text": [
      "INFO:tensorflow:Assets written to: ../models/FCN/checkpoint/assets\n"
     ]
    },
    {
     "name": "stdout",
     "output_type": "stream",
     "text": [
      "113/113 [==============================] - 1s 8ms/step - loss: 0.0980 - binary_accuracy: 0.8777 - val_loss: 0.0977 - val_binary_accuracy: 0.8783 - lr: 1.0000e-05\n",
      "Epoch 469/1000\n",
      " 88/113 [======================>.......] - ETA: 0s - loss: 0.0974 - binary_accuracy: 0.8779INFO:tensorflow:Assets written to: ../models/FCN/checkpoint/assets\n"
     ]
    },
    {
     "name": "stderr",
     "output_type": "stream",
     "text": [
      "INFO:tensorflow:Assets written to: ../models/FCN/checkpoint/assets\n"
     ]
    },
    {
     "name": "stdout",
     "output_type": "stream",
     "text": [
      "113/113 [==============================] - 0s 4ms/step - loss: 0.0975 - binary_accuracy: 0.8782 - val_loss: 0.0977 - val_binary_accuracy: 0.8783 - lr: 1.0000e-05\n",
      "Epoch 470/1000\n",
      " 85/113 [=====================>........] - ETA: 0s - loss: 0.0974 - binary_accuracy: 0.8780INFO:tensorflow:Assets written to: ../models/FCN/checkpoint/assets\n"
     ]
    },
    {
     "name": "stderr",
     "output_type": "stream",
     "text": [
      "INFO:tensorflow:Assets written to: ../models/FCN/checkpoint/assets\n"
     ]
    },
    {
     "name": "stdout",
     "output_type": "stream",
     "text": [
      "113/113 [==============================] - 1s 4ms/step - loss: 0.0977 - binary_accuracy: 0.8773 - val_loss: 0.0977 - val_binary_accuracy: 0.8783 - lr: 1.0000e-05\n",
      "Epoch 471/1000\n",
      " 86/113 [=====================>........] - ETA: 0s - loss: 0.0979 - binary_accuracy: 0.8772INFO:tensorflow:Assets written to: ../models/FCN/checkpoint/assets\n"
     ]
    },
    {
     "name": "stderr",
     "output_type": "stream",
     "text": [
      "INFO:tensorflow:Assets written to: ../models/FCN/checkpoint/assets\n"
     ]
    },
    {
     "name": "stdout",
     "output_type": "stream",
     "text": [
      "113/113 [==============================] - 0s 4ms/step - loss: 0.0979 - binary_accuracy: 0.8774 - val_loss: 0.0976 - val_binary_accuracy: 0.8783 - lr: 1.0000e-05\n",
      "Epoch 472/1000\n",
      " 88/113 [======================>.......] - ETA: 0s - loss: 0.0978 - binary_accuracy: 0.8771INFO:tensorflow:Assets written to: ../models/FCN/checkpoint/assets\n"
     ]
    },
    {
     "name": "stderr",
     "output_type": "stream",
     "text": [
      "INFO:tensorflow:Assets written to: ../models/FCN/checkpoint/assets\n"
     ]
    },
    {
     "name": "stdout",
     "output_type": "stream",
     "text": [
      "113/113 [==============================] - 0s 4ms/step - loss: 0.0977 - binary_accuracy: 0.8773 - val_loss: 0.0976 - val_binary_accuracy: 0.8783 - lr: 1.0000e-05\n",
      "Epoch 473/1000\n",
      " 88/113 [======================>.......] - ETA: 0s - loss: 0.0978 - binary_accuracy: 0.8772INFO:tensorflow:Assets written to: ../models/FCN/checkpoint/assets\n"
     ]
    },
    {
     "name": "stderr",
     "output_type": "stream",
     "text": [
      "INFO:tensorflow:Assets written to: ../models/FCN/checkpoint/assets\n"
     ]
    },
    {
     "name": "stdout",
     "output_type": "stream",
     "text": [
      "113/113 [==============================] - 0s 4ms/step - loss: 0.0976 - binary_accuracy: 0.8777 - val_loss: 0.0976 - val_binary_accuracy: 0.8783 - lr: 1.0000e-05\n",
      "Epoch 474/1000\n",
      " 87/113 [======================>.......] - ETA: 0s - loss: 0.0977 - binary_accuracy: 0.8774INFO:tensorflow:Assets written to: ../models/FCN/checkpoint/assets\n"
     ]
    },
    {
     "name": "stderr",
     "output_type": "stream",
     "text": [
      "INFO:tensorflow:Assets written to: ../models/FCN/checkpoint/assets\n"
     ]
    },
    {
     "name": "stdout",
     "output_type": "stream",
     "text": [
      "113/113 [==============================] - 0s 4ms/step - loss: 0.0978 - binary_accuracy: 0.8774 - val_loss: 0.0976 - val_binary_accuracy: 0.8783 - lr: 1.0000e-05\n",
      "Epoch 475/1000\n",
      "100/113 [=========================>....] - ETA: 0s - loss: 0.0976 - binary_accuracy: 0.8778INFO:tensorflow:Assets written to: ../models/FCN/checkpoint/assets\n"
     ]
    },
    {
     "name": "stderr",
     "output_type": "stream",
     "text": [
      "INFO:tensorflow:Assets written to: ../models/FCN/checkpoint/assets\n"
     ]
    },
    {
     "name": "stdout",
     "output_type": "stream",
     "text": [
      "113/113 [==============================] - 1s 5ms/step - loss: 0.0976 - binary_accuracy: 0.8778 - val_loss: 0.0976 - val_binary_accuracy: 0.8783 - lr: 1.0000e-05\n",
      "Epoch 476/1000\n",
      " 86/113 [=====================>........] - ETA: 0s - loss: 0.0974 - binary_accuracy: 0.8781INFO:tensorflow:Assets written to: ../models/FCN/checkpoint/assets\n"
     ]
    },
    {
     "name": "stderr",
     "output_type": "stream",
     "text": [
      "INFO:tensorflow:Assets written to: ../models/FCN/checkpoint/assets\n"
     ]
    },
    {
     "name": "stdout",
     "output_type": "stream",
     "text": [
      "113/113 [==============================] - 0s 4ms/step - loss: 0.0977 - binary_accuracy: 0.8776 - val_loss: 0.0976 - val_binary_accuracy: 0.8784 - lr: 1.0000e-05\n",
      "Epoch 477/1000\n",
      " 86/113 [=====================>........] - ETA: 0s - loss: 0.0975 - binary_accuracy: 0.8776INFO:tensorflow:Assets written to: ../models/FCN/checkpoint/assets\n"
     ]
    },
    {
     "name": "stderr",
     "output_type": "stream",
     "text": [
      "INFO:tensorflow:Assets written to: ../models/FCN/checkpoint/assets\n"
     ]
    },
    {
     "name": "stdout",
     "output_type": "stream",
     "text": [
      "113/113 [==============================] - 0s 4ms/step - loss: 0.0975 - binary_accuracy: 0.8777 - val_loss: 0.0976 - val_binary_accuracy: 0.8784 - lr: 1.0000e-05\n",
      "Epoch 478/1000\n",
      " 87/113 [======================>.......] - ETA: 0s - loss: 0.0977 - binary_accuracy: 0.8775INFO:tensorflow:Assets written to: ../models/FCN/checkpoint/assets\n"
     ]
    },
    {
     "name": "stderr",
     "output_type": "stream",
     "text": [
      "INFO:tensorflow:Assets written to: ../models/FCN/checkpoint/assets\n"
     ]
    },
    {
     "name": "stdout",
     "output_type": "stream",
     "text": [
      "113/113 [==============================] - 0s 4ms/step - loss: 0.0976 - binary_accuracy: 0.8775 - val_loss: 0.0976 - val_binary_accuracy: 0.8784 - lr: 1.0000e-05\n",
      "Epoch 479/1000\n",
      " 88/113 [======================>.......] - ETA: 0s - loss: 0.0974 - binary_accuracy: 0.8780INFO:tensorflow:Assets written to: ../models/FCN/checkpoint/assets\n"
     ]
    },
    {
     "name": "stderr",
     "output_type": "stream",
     "text": [
      "INFO:tensorflow:Assets written to: ../models/FCN/checkpoint/assets\n"
     ]
    },
    {
     "name": "stdout",
     "output_type": "stream",
     "text": [
      "113/113 [==============================] - 0s 4ms/step - loss: 0.0974 - binary_accuracy: 0.8779 - val_loss: 0.0976 - val_binary_accuracy: 0.8784 - lr: 1.0000e-05\n",
      "Epoch 480/1000\n",
      "113/113 [==============================] - 0s 2ms/step - loss: 0.0975 - binary_accuracy: 0.8776 - val_loss: 0.0976 - val_binary_accuracy: 0.8784 - lr: 1.0000e-05\n",
      "Epoch 481/1000\n",
      " 89/113 [======================>.......] - ETA: 0s - loss: 0.0972 - binary_accuracy: 0.8781INFO:tensorflow:Assets written to: ../models/FCN/checkpoint/assets\n"
     ]
    },
    {
     "name": "stderr",
     "output_type": "stream",
     "text": [
      "INFO:tensorflow:Assets written to: ../models/FCN/checkpoint/assets\n"
     ]
    },
    {
     "name": "stdout",
     "output_type": "stream",
     "text": [
      "113/113 [==============================] - 0s 4ms/step - loss: 0.0973 - binary_accuracy: 0.8782 - val_loss: 0.0975 - val_binary_accuracy: 0.8783 - lr: 1.0000e-05\n",
      "Epoch 482/1000\n",
      " 89/113 [======================>.......] - ETA: 0s - loss: 0.0976 - binary_accuracy: 0.8779INFO:tensorflow:Assets written to: ../models/FCN/checkpoint/assets\n"
     ]
    },
    {
     "name": "stderr",
     "output_type": "stream",
     "text": [
      "INFO:tensorflow:Assets written to: ../models/FCN/checkpoint/assets\n"
     ]
    },
    {
     "name": "stdout",
     "output_type": "stream",
     "text": [
      "113/113 [==============================] - 0s 4ms/step - loss: 0.0975 - binary_accuracy: 0.8780 - val_loss: 0.0975 - val_binary_accuracy: 0.8784 - lr: 1.0000e-05\n",
      "Epoch 483/1000\n",
      " 88/113 [======================>.......] - ETA: 0s - loss: 0.0972 - binary_accuracy: 0.8782INFO:tensorflow:Assets written to: ../models/FCN/checkpoint/assets\n"
     ]
    },
    {
     "name": "stderr",
     "output_type": "stream",
     "text": [
      "INFO:tensorflow:Assets written to: ../models/FCN/checkpoint/assets\n"
     ]
    },
    {
     "name": "stdout",
     "output_type": "stream",
     "text": [
      "113/113 [==============================] - 0s 4ms/step - loss: 0.0975 - binary_accuracy: 0.8779 - val_loss: 0.0975 - val_binary_accuracy: 0.8784 - lr: 1.0000e-05\n",
      "Epoch 484/1000\n",
      " 89/113 [======================>.......] - ETA: 0s - loss: 0.0975 - binary_accuracy: 0.8779INFO:tensorflow:Assets written to: ../models/FCN/checkpoint/assets\n"
     ]
    },
    {
     "name": "stderr",
     "output_type": "stream",
     "text": [
      "INFO:tensorflow:Assets written to: ../models/FCN/checkpoint/assets\n"
     ]
    },
    {
     "name": "stdout",
     "output_type": "stream",
     "text": [
      "113/113 [==============================] - 0s 4ms/step - loss: 0.0975 - binary_accuracy: 0.8777 - val_loss: 0.0975 - val_binary_accuracy: 0.8783 - lr: 1.0000e-05\n",
      "Epoch 485/1000\n",
      "105/113 [==========================>...] - ETA: 0s - loss: 0.0976 - binary_accuracy: 0.8781INFO:tensorflow:Assets written to: ../models/FCN/checkpoint/assets\n"
     ]
    },
    {
     "name": "stderr",
     "output_type": "stream",
     "text": [
      "INFO:tensorflow:Assets written to: ../models/FCN/checkpoint/assets\n"
     ]
    },
    {
     "name": "stdout",
     "output_type": "stream",
     "text": [
      "113/113 [==============================] - 1s 5ms/step - loss: 0.0975 - binary_accuracy: 0.8783 - val_loss: 0.0975 - val_binary_accuracy: 0.8784 - lr: 1.0000e-05\n",
      "Epoch 486/1000\n",
      " 86/113 [=====================>........] - ETA: 0s - loss: 0.0974 - binary_accuracy: 0.8786INFO:tensorflow:Assets written to: ../models/FCN/checkpoint/assets\n"
     ]
    },
    {
     "name": "stderr",
     "output_type": "stream",
     "text": [
      "INFO:tensorflow:Assets written to: ../models/FCN/checkpoint/assets\n"
     ]
    },
    {
     "name": "stdout",
     "output_type": "stream",
     "text": [
      "113/113 [==============================] - 0s 4ms/step - loss: 0.0972 - binary_accuracy: 0.8786 - val_loss: 0.0975 - val_binary_accuracy: 0.8784 - lr: 1.0000e-05\n",
      "Epoch 487/1000\n",
      " 88/113 [======================>.......] - ETA: 0s - loss: 0.0977 - binary_accuracy: 0.8772INFO:tensorflow:Assets written to: ../models/FCN/checkpoint/assets\n"
     ]
    },
    {
     "name": "stderr",
     "output_type": "stream",
     "text": [
      "INFO:tensorflow:Assets written to: ../models/FCN/checkpoint/assets\n"
     ]
    },
    {
     "name": "stdout",
     "output_type": "stream",
     "text": [
      "113/113 [==============================] - 0s 4ms/step - loss: 0.0975 - binary_accuracy: 0.8776 - val_loss: 0.0975 - val_binary_accuracy: 0.8784 - lr: 1.0000e-05\n",
      "Epoch 488/1000\n",
      " 89/113 [======================>.......] - ETA: 0s - loss: 0.0970 - binary_accuracy: 0.8788INFO:tensorflow:Assets written to: ../models/FCN/checkpoint/assets\n"
     ]
    },
    {
     "name": "stderr",
     "output_type": "stream",
     "text": [
      "INFO:tensorflow:Assets written to: ../models/FCN/checkpoint/assets\n"
     ]
    },
    {
     "name": "stdout",
     "output_type": "stream",
     "text": [
      "113/113 [==============================] - 0s 4ms/step - loss: 0.0971 - binary_accuracy: 0.8785 - val_loss: 0.0975 - val_binary_accuracy: 0.8785 - lr: 1.0000e-05\n",
      "Epoch 489/1000\n",
      " 89/113 [======================>.......] - ETA: 0s - loss: 0.0974 - binary_accuracy: 0.8781INFO:tensorflow:Assets written to: ../models/FCN/checkpoint/assets\n"
     ]
    },
    {
     "name": "stderr",
     "output_type": "stream",
     "text": [
      "INFO:tensorflow:Assets written to: ../models/FCN/checkpoint/assets\n"
     ]
    },
    {
     "name": "stdout",
     "output_type": "stream",
     "text": [
      "113/113 [==============================] - 1s 8ms/step - loss: 0.0975 - binary_accuracy: 0.8779 - val_loss: 0.0975 - val_binary_accuracy: 0.8784 - lr: 1.0000e-05\n",
      "Epoch 490/1000\n",
      " 90/113 [======================>.......] - ETA: 0s - loss: 0.0974 - binary_accuracy: 0.8779INFO:tensorflow:Assets written to: ../models/FCN/checkpoint/assets\n"
     ]
    },
    {
     "name": "stderr",
     "output_type": "stream",
     "text": [
      "INFO:tensorflow:Assets written to: ../models/FCN/checkpoint/assets\n"
     ]
    },
    {
     "name": "stdout",
     "output_type": "stream",
     "text": [
      "113/113 [==============================] - 0s 4ms/step - loss: 0.0973 - binary_accuracy: 0.8780 - val_loss: 0.0975 - val_binary_accuracy: 0.8785 - lr: 1.0000e-05\n",
      "Epoch 491/1000\n",
      "113/113 [==============================] - ETA: 0s - loss: 0.0972 - binary_accuracy: 0.8779INFO:tensorflow:Assets written to: ../models/FCN/checkpoint/assets\n"
     ]
    },
    {
     "name": "stderr",
     "output_type": "stream",
     "text": [
      "INFO:tensorflow:Assets written to: ../models/FCN/checkpoint/assets\n"
     ]
    },
    {
     "name": "stdout",
     "output_type": "stream",
     "text": [
      "113/113 [==============================] - 1s 4ms/step - loss: 0.0972 - binary_accuracy: 0.8779 - val_loss: 0.0975 - val_binary_accuracy: 0.8784 - lr: 1.0000e-05\n",
      "Epoch 492/1000\n",
      " 87/113 [======================>.......] - ETA: 0s - loss: 0.0973 - binary_accuracy: 0.8780INFO:tensorflow:Assets written to: ../models/FCN/checkpoint/assets\n"
     ]
    },
    {
     "name": "stderr",
     "output_type": "stream",
     "text": [
      "INFO:tensorflow:Assets written to: ../models/FCN/checkpoint/assets\n"
     ]
    },
    {
     "name": "stdout",
     "output_type": "stream",
     "text": [
      "113/113 [==============================] - 1s 4ms/step - loss: 0.0974 - binary_accuracy: 0.8779 - val_loss: 0.0975 - val_binary_accuracy: 0.8784 - lr: 1.0000e-05\n",
      "Epoch 493/1000\n",
      " 88/113 [======================>.......] - ETA: 0s - loss: 0.0975 - binary_accuracy: 0.8777INFO:tensorflow:Assets written to: ../models/FCN/checkpoint/assets\n"
     ]
    },
    {
     "name": "stderr",
     "output_type": "stream",
     "text": [
      "INFO:tensorflow:Assets written to: ../models/FCN/checkpoint/assets\n"
     ]
    },
    {
     "name": "stdout",
     "output_type": "stream",
     "text": [
      "113/113 [==============================] - 0s 4ms/step - loss: 0.0972 - binary_accuracy: 0.8780 - val_loss: 0.0974 - val_binary_accuracy: 0.8784 - lr: 1.0000e-05\n",
      "Epoch 494/1000\n",
      " 86/113 [=====================>........] - ETA: 0s - loss: 0.0971 - binary_accuracy: 0.8786INFO:tensorflow:Assets written to: ../models/FCN/checkpoint/assets\n"
     ]
    },
    {
     "name": "stderr",
     "output_type": "stream",
     "text": [
      "INFO:tensorflow:Assets written to: ../models/FCN/checkpoint/assets\n"
     ]
    },
    {
     "name": "stdout",
     "output_type": "stream",
     "text": [
      "113/113 [==============================] - 0s 4ms/step - loss: 0.0971 - binary_accuracy: 0.8783 - val_loss: 0.0974 - val_binary_accuracy: 0.8784 - lr: 1.0000e-05\n",
      "Epoch 495/1000\n",
      "101/113 [=========================>....] - ETA: 0s - loss: 0.0971 - binary_accuracy: 0.8781INFO:tensorflow:Assets written to: ../models/FCN/checkpoint/assets\n"
     ]
    },
    {
     "name": "stderr",
     "output_type": "stream",
     "text": [
      "INFO:tensorflow:Assets written to: ../models/FCN/checkpoint/assets\n"
     ]
    },
    {
     "name": "stdout",
     "output_type": "stream",
     "text": [
      "113/113 [==============================] - 1s 5ms/step - loss: 0.0971 - binary_accuracy: 0.8781 - val_loss: 0.0974 - val_binary_accuracy: 0.8784 - lr: 1.0000e-05\n",
      "Epoch 496/1000\n",
      " 89/113 [======================>.......] - ETA: 0s - loss: 0.0973 - binary_accuracy: 0.8773INFO:tensorflow:Assets written to: ../models/FCN/checkpoint/assets\n"
     ]
    },
    {
     "name": "stderr",
     "output_type": "stream",
     "text": [
      "INFO:tensorflow:Assets written to: ../models/FCN/checkpoint/assets\n"
     ]
    },
    {
     "name": "stdout",
     "output_type": "stream",
     "text": [
      "113/113 [==============================] - 0s 4ms/step - loss: 0.0971 - binary_accuracy: 0.8777 - val_loss: 0.0974 - val_binary_accuracy: 0.8785 - lr: 1.0000e-05\n",
      "Epoch 497/1000\n",
      " 88/113 [======================>.......] - ETA: 0s - loss: 0.0973 - binary_accuracy: 0.8781INFO:tensorflow:Assets written to: ../models/FCN/checkpoint/assets\n"
     ]
    },
    {
     "name": "stderr",
     "output_type": "stream",
     "text": [
      "INFO:tensorflow:Assets written to: ../models/FCN/checkpoint/assets\n"
     ]
    },
    {
     "name": "stdout",
     "output_type": "stream",
     "text": [
      "113/113 [==============================] - 0s 4ms/step - loss: 0.0973 - binary_accuracy: 0.8779 - val_loss: 0.0974 - val_binary_accuracy: 0.8784 - lr: 1.0000e-05\n",
      "Epoch 498/1000\n",
      "113/113 [==============================] - ETA: 0s - loss: 0.0973 - binary_accuracy: 0.8784INFO:tensorflow:Assets written to: ../models/FCN/checkpoint/assets\n"
     ]
    },
    {
     "name": "stderr",
     "output_type": "stream",
     "text": [
      "INFO:tensorflow:Assets written to: ../models/FCN/checkpoint/assets\n"
     ]
    },
    {
     "name": "stdout",
     "output_type": "stream",
     "text": [
      "113/113 [==============================] - 0s 4ms/step - loss: 0.0973 - binary_accuracy: 0.8784 - val_loss: 0.0974 - val_binary_accuracy: 0.8784 - lr: 1.0000e-05\n",
      "Epoch 499/1000\n",
      " 88/113 [======================>.......] - ETA: 0s - loss: 0.0969 - binary_accuracy: 0.8786INFO:tensorflow:Assets written to: ../models/FCN/checkpoint/assets\n"
     ]
    },
    {
     "name": "stderr",
     "output_type": "stream",
     "text": [
      "INFO:tensorflow:Assets written to: ../models/FCN/checkpoint/assets\n"
     ]
    },
    {
     "name": "stdout",
     "output_type": "stream",
     "text": [
      "113/113 [==============================] - 0s 4ms/step - loss: 0.0971 - binary_accuracy: 0.8782 - val_loss: 0.0974 - val_binary_accuracy: 0.8784 - lr: 1.0000e-05\n",
      "Epoch 500/1000\n",
      " 88/113 [======================>.......] - ETA: 0s - loss: 0.0968 - binary_accuracy: 0.8781INFO:tensorflow:Assets written to: ../models/FCN/checkpoint/assets\n"
     ]
    },
    {
     "name": "stderr",
     "output_type": "stream",
     "text": [
      "INFO:tensorflow:Assets written to: ../models/FCN/checkpoint/assets\n"
     ]
    },
    {
     "name": "stdout",
     "output_type": "stream",
     "text": [
      "113/113 [==============================] - 0s 4ms/step - loss: 0.0970 - binary_accuracy: 0.8780 - val_loss: 0.0974 - val_binary_accuracy: 0.8784 - lr: 1.0000e-05\n",
      "Epoch 501/1000\n",
      " 88/113 [======================>.......] - ETA: 0s - loss: 0.0972 - binary_accuracy: 0.8778INFO:tensorflow:Assets written to: ../models/FCN/checkpoint/assets\n"
     ]
    },
    {
     "name": "stderr",
     "output_type": "stream",
     "text": [
      "INFO:tensorflow:Assets written to: ../models/FCN/checkpoint/assets\n"
     ]
    },
    {
     "name": "stdout",
     "output_type": "stream",
     "text": [
      "113/113 [==============================] - 0s 4ms/step - loss: 0.0970 - binary_accuracy: 0.8782 - val_loss: 0.0974 - val_binary_accuracy: 0.8784 - lr: 1.0000e-05\n",
      "Epoch 502/1000\n",
      " 91/113 [=======================>......] - ETA: 0s - loss: 0.0970 - binary_accuracy: 0.8784INFO:tensorflow:Assets written to: ../models/FCN/checkpoint/assets\n"
     ]
    },
    {
     "name": "stderr",
     "output_type": "stream",
     "text": [
      "INFO:tensorflow:Assets written to: ../models/FCN/checkpoint/assets\n"
     ]
    },
    {
     "name": "stdout",
     "output_type": "stream",
     "text": [
      "113/113 [==============================] - 0s 4ms/step - loss: 0.0970 - binary_accuracy: 0.8781 - val_loss: 0.0974 - val_binary_accuracy: 0.8784 - lr: 1.0000e-05\n",
      "Epoch 503/1000\n",
      " 89/113 [======================>.......] - ETA: 0s - loss: 0.0972 - binary_accuracy: 0.8777INFO:tensorflow:Assets written to: ../models/FCN/checkpoint/assets\n"
     ]
    },
    {
     "name": "stderr",
     "output_type": "stream",
     "text": [
      "INFO:tensorflow:Assets written to: ../models/FCN/checkpoint/assets\n"
     ]
    },
    {
     "name": "stdout",
     "output_type": "stream",
     "text": [
      "113/113 [==============================] - 0s 4ms/step - loss: 0.0972 - binary_accuracy: 0.8779 - val_loss: 0.0974 - val_binary_accuracy: 0.8785 - lr: 1.0000e-05\n",
      "Epoch 504/1000\n",
      " 88/113 [======================>.......] - ETA: 0s - loss: 0.0970 - binary_accuracy: 0.8778INFO:tensorflow:Assets written to: ../models/FCN/checkpoint/assets\n"
     ]
    },
    {
     "name": "stderr",
     "output_type": "stream",
     "text": [
      "INFO:tensorflow:Assets written to: ../models/FCN/checkpoint/assets\n"
     ]
    },
    {
     "name": "stdout",
     "output_type": "stream",
     "text": [
      "113/113 [==============================] - 0s 4ms/step - loss: 0.0972 - binary_accuracy: 0.8777 - val_loss: 0.0974 - val_binary_accuracy: 0.8784 - lr: 1.0000e-05\n",
      "Epoch 505/1000\n",
      "100/113 [=========================>....] - ETA: 0s - loss: 0.0969 - binary_accuracy: 0.8784INFO:tensorflow:Assets written to: ../models/FCN/checkpoint/assets\n"
     ]
    },
    {
     "name": "stderr",
     "output_type": "stream",
     "text": [
      "INFO:tensorflow:Assets written to: ../models/FCN/checkpoint/assets\n"
     ]
    },
    {
     "name": "stdout",
     "output_type": "stream",
     "text": [
      "113/113 [==============================] - 1s 5ms/step - loss: 0.0969 - binary_accuracy: 0.8784 - val_loss: 0.0974 - val_binary_accuracy: 0.8785 - lr: 1.0000e-05\n",
      "Epoch 506/1000\n",
      " 89/113 [======================>.......] - ETA: 0s - loss: 0.0973 - binary_accuracy: 0.8774INFO:tensorflow:Assets written to: ../models/FCN/checkpoint/assets\n"
     ]
    },
    {
     "name": "stderr",
     "output_type": "stream",
     "text": [
      "INFO:tensorflow:Assets written to: ../models/FCN/checkpoint/assets\n"
     ]
    },
    {
     "name": "stdout",
     "output_type": "stream",
     "text": [
      "113/113 [==============================] - 0s 4ms/step - loss: 0.0971 - binary_accuracy: 0.8780 - val_loss: 0.0973 - val_binary_accuracy: 0.8785 - lr: 1.0000e-05\n",
      "Epoch 507/1000\n",
      " 89/113 [======================>.......] - ETA: 0s - loss: 0.0971 - binary_accuracy: 0.8780INFO:tensorflow:Assets written to: ../models/FCN/checkpoint/assets\n"
     ]
    },
    {
     "name": "stderr",
     "output_type": "stream",
     "text": [
      "INFO:tensorflow:Assets written to: ../models/FCN/checkpoint/assets\n"
     ]
    },
    {
     "name": "stdout",
     "output_type": "stream",
     "text": [
      "113/113 [==============================] - 0s 4ms/step - loss: 0.0972 - binary_accuracy: 0.8782 - val_loss: 0.0973 - val_binary_accuracy: 0.8784 - lr: 1.0000e-05\n",
      "Epoch 508/1000\n",
      " 89/113 [======================>.......] - ETA: 0s - loss: 0.0975 - binary_accuracy: 0.8776INFO:tensorflow:Assets written to: ../models/FCN/checkpoint/assets\n"
     ]
    },
    {
     "name": "stderr",
     "output_type": "stream",
     "text": [
      "INFO:tensorflow:Assets written to: ../models/FCN/checkpoint/assets\n"
     ]
    },
    {
     "name": "stdout",
     "output_type": "stream",
     "text": [
      "113/113 [==============================] - 0s 4ms/step - loss: 0.0973 - binary_accuracy: 0.8780 - val_loss: 0.0973 - val_binary_accuracy: 0.8784 - lr: 1.0000e-05\n",
      "Epoch 509/1000\n",
      " 90/113 [======================>.......] - ETA: 0s - loss: 0.0967 - binary_accuracy: 0.8787INFO:tensorflow:Assets written to: ../models/FCN/checkpoint/assets\n"
     ]
    },
    {
     "name": "stderr",
     "output_type": "stream",
     "text": [
      "INFO:tensorflow:Assets written to: ../models/FCN/checkpoint/assets\n"
     ]
    },
    {
     "name": "stdout",
     "output_type": "stream",
     "text": [
      "113/113 [==============================] - 0s 4ms/step - loss: 0.0967 - binary_accuracy: 0.8783 - val_loss: 0.0973 - val_binary_accuracy: 0.8784 - lr: 1.0000e-05\n",
      "Epoch 510/1000\n",
      " 88/113 [======================>.......] - ETA: 0s - loss: 0.0978 - binary_accuracy: 0.8768INFO:tensorflow:Assets written to: ../models/FCN/checkpoint/assets\n"
     ]
    },
    {
     "name": "stderr",
     "output_type": "stream",
     "text": [
      "INFO:tensorflow:Assets written to: ../models/FCN/checkpoint/assets\n"
     ]
    },
    {
     "name": "stdout",
     "output_type": "stream",
     "text": [
      "113/113 [==============================] - 1s 8ms/step - loss: 0.0972 - binary_accuracy: 0.8778 - val_loss: 0.0973 - val_binary_accuracy: 0.8785 - lr: 1.0000e-05\n",
      "Epoch 511/1000\n",
      " 88/113 [======================>.......] - ETA: 0s - loss: 0.0975 - binary_accuracy: 0.8777INFO:tensorflow:Assets written to: ../models/FCN/checkpoint/assets\n"
     ]
    },
    {
     "name": "stderr",
     "output_type": "stream",
     "text": [
      "INFO:tensorflow:Assets written to: ../models/FCN/checkpoint/assets\n"
     ]
    },
    {
     "name": "stdout",
     "output_type": "stream",
     "text": [
      "113/113 [==============================] - 0s 4ms/step - loss: 0.0973 - binary_accuracy: 0.8782 - val_loss: 0.0973 - val_binary_accuracy: 0.8784 - lr: 1.0000e-05\n",
      "Epoch 512/1000\n",
      " 89/113 [======================>.......] - ETA: 0s - loss: 0.0967 - binary_accuracy: 0.8788INFO:tensorflow:Assets written to: ../models/FCN/checkpoint/assets\n"
     ]
    },
    {
     "name": "stderr",
     "output_type": "stream",
     "text": [
      "INFO:tensorflow:Assets written to: ../models/FCN/checkpoint/assets\n"
     ]
    },
    {
     "name": "stdout",
     "output_type": "stream",
     "text": [
      "113/113 [==============================] - 0s 4ms/step - loss: 0.0968 - binary_accuracy: 0.8784 - val_loss: 0.0973 - val_binary_accuracy: 0.8784 - lr: 1.0000e-05\n",
      "Epoch 513/1000\n",
      " 88/113 [======================>.......] - ETA: 0s - loss: 0.0969 - binary_accuracy: 0.8783INFO:tensorflow:Assets written to: ../models/FCN/checkpoint/assets\n"
     ]
    },
    {
     "name": "stderr",
     "output_type": "stream",
     "text": [
      "INFO:tensorflow:Assets written to: ../models/FCN/checkpoint/assets\n"
     ]
    },
    {
     "name": "stdout",
     "output_type": "stream",
     "text": [
      "113/113 [==============================] - 0s 4ms/step - loss: 0.0969 - binary_accuracy: 0.8783 - val_loss: 0.0973 - val_binary_accuracy: 0.8785 - lr: 1.0000e-05\n",
      "Epoch 514/1000\n",
      " 88/113 [======================>.......] - ETA: 0s - loss: 0.0969 - binary_accuracy: 0.8780INFO:tensorflow:Assets written to: ../models/FCN/checkpoint/assets\n"
     ]
    },
    {
     "name": "stderr",
     "output_type": "stream",
     "text": [
      "INFO:tensorflow:Assets written to: ../models/FCN/checkpoint/assets\n"
     ]
    },
    {
     "name": "stdout",
     "output_type": "stream",
     "text": [
      "113/113 [==============================] - 0s 4ms/step - loss: 0.0969 - binary_accuracy: 0.8782 - val_loss: 0.0973 - val_binary_accuracy: 0.8785 - lr: 1.0000e-05\n",
      "Epoch 515/1000\n",
      " 89/113 [======================>.......] - ETA: 0s - loss: 0.0969 - binary_accuracy: 0.8784INFO:tensorflow:Assets written to: ../models/FCN/checkpoint/assets\n"
     ]
    },
    {
     "name": "stderr",
     "output_type": "stream",
     "text": [
      "INFO:tensorflow:Assets written to: ../models/FCN/checkpoint/assets\n"
     ]
    },
    {
     "name": "stdout",
     "output_type": "stream",
     "text": [
      "113/113 [==============================] - 0s 4ms/step - loss: 0.0968 - binary_accuracy: 0.8784 - val_loss: 0.0973 - val_binary_accuracy: 0.8785 - lr: 1.0000e-05\n",
      "Epoch 516/1000\n",
      " 88/113 [======================>.......] - ETA: 0s - loss: 0.0968 - binary_accuracy: 0.8779INFO:tensorflow:Assets written to: ../models/FCN/checkpoint/assets\n"
     ]
    },
    {
     "name": "stderr",
     "output_type": "stream",
     "text": [
      "INFO:tensorflow:Assets written to: ../models/FCN/checkpoint/assets\n"
     ]
    },
    {
     "name": "stdout",
     "output_type": "stream",
     "text": [
      "113/113 [==============================] - 0s 4ms/step - loss: 0.0968 - binary_accuracy: 0.8780 - val_loss: 0.0973 - val_binary_accuracy: 0.8784 - lr: 1.0000e-05\n",
      "Epoch 517/1000\n",
      " 88/113 [======================>.......] - ETA: 0s - loss: 0.0969 - binary_accuracy: 0.8782INFO:tensorflow:Assets written to: ../models/FCN/checkpoint/assets\n"
     ]
    },
    {
     "name": "stderr",
     "output_type": "stream",
     "text": [
      "INFO:tensorflow:Assets written to: ../models/FCN/checkpoint/assets\n"
     ]
    },
    {
     "name": "stdout",
     "output_type": "stream",
     "text": [
      "113/113 [==============================] - 0s 4ms/step - loss: 0.0969 - binary_accuracy: 0.8783 - val_loss: 0.0972 - val_binary_accuracy: 0.8784 - lr: 1.0000e-05\n",
      "Epoch 518/1000\n",
      " 90/113 [======================>.......] - ETA: 0s - loss: 0.0968 - binary_accuracy: 0.8785INFO:tensorflow:Assets written to: ../models/FCN/checkpoint/assets\n"
     ]
    },
    {
     "name": "stderr",
     "output_type": "stream",
     "text": [
      "INFO:tensorflow:Assets written to: ../models/FCN/checkpoint/assets\n"
     ]
    },
    {
     "name": "stdout",
     "output_type": "stream",
     "text": [
      "113/113 [==============================] - 0s 4ms/step - loss: 0.0969 - binary_accuracy: 0.8782 - val_loss: 0.0972 - val_binary_accuracy: 0.8784 - lr: 1.0000e-05\n",
      "Epoch 519/1000\n",
      " 89/113 [======================>.......] - ETA: 0s - loss: 0.0965 - binary_accuracy: 0.8787INFO:tensorflow:Assets written to: ../models/FCN/checkpoint/assets\n"
     ]
    },
    {
     "name": "stderr",
     "output_type": "stream",
     "text": [
      "INFO:tensorflow:Assets written to: ../models/FCN/checkpoint/assets\n"
     ]
    },
    {
     "name": "stdout",
     "output_type": "stream",
     "text": [
      "113/113 [==============================] - 0s 4ms/step - loss: 0.0966 - binary_accuracy: 0.8786 - val_loss: 0.0972 - val_binary_accuracy: 0.8785 - lr: 1.0000e-05\n",
      "Epoch 520/1000\n",
      " 89/113 [======================>.......] - ETA: 0s - loss: 0.0968 - binary_accuracy: 0.8777INFO:tensorflow:Assets written to: ../models/FCN/checkpoint/assets\n"
     ]
    },
    {
     "name": "stderr",
     "output_type": "stream",
     "text": [
      "INFO:tensorflow:Assets written to: ../models/FCN/checkpoint/assets\n"
     ]
    },
    {
     "name": "stdout",
     "output_type": "stream",
     "text": [
      "113/113 [==============================] - 0s 4ms/step - loss: 0.0968 - binary_accuracy: 0.8778 - val_loss: 0.0972 - val_binary_accuracy: 0.8785 - lr: 1.0000e-05\n",
      "Epoch 521/1000\n",
      " 92/113 [=======================>......] - ETA: 0s - loss: 0.0965 - binary_accuracy: 0.8785INFO:tensorflow:Assets written to: ../models/FCN/checkpoint/assets\n"
     ]
    },
    {
     "name": "stderr",
     "output_type": "stream",
     "text": [
      "INFO:tensorflow:Assets written to: ../models/FCN/checkpoint/assets\n"
     ]
    },
    {
     "name": "stdout",
     "output_type": "stream",
     "text": [
      "113/113 [==============================] - 0s 4ms/step - loss: 0.0966 - binary_accuracy: 0.8784 - val_loss: 0.0972 - val_binary_accuracy: 0.8785 - lr: 1.0000e-05\n",
      "Epoch 522/1000\n",
      " 89/113 [======================>.......] - ETA: 0s - loss: 0.0967 - binary_accuracy: 0.8784INFO:tensorflow:Assets written to: ../models/FCN/checkpoint/assets\n"
     ]
    },
    {
     "name": "stderr",
     "output_type": "stream",
     "text": [
      "INFO:tensorflow:Assets written to: ../models/FCN/checkpoint/assets\n"
     ]
    },
    {
     "name": "stdout",
     "output_type": "stream",
     "text": [
      "113/113 [==============================] - 0s 4ms/step - loss: 0.0965 - binary_accuracy: 0.8788 - val_loss: 0.0972 - val_binary_accuracy: 0.8785 - lr: 1.0000e-05\n",
      "Epoch 523/1000\n",
      " 90/113 [======================>.......] - ETA: 0s - loss: 0.0965 - binary_accuracy: 0.8787INFO:tensorflow:Assets written to: ../models/FCN/checkpoint/assets\n"
     ]
    },
    {
     "name": "stderr",
     "output_type": "stream",
     "text": [
      "INFO:tensorflow:Assets written to: ../models/FCN/checkpoint/assets\n"
     ]
    },
    {
     "name": "stdout",
     "output_type": "stream",
     "text": [
      "113/113 [==============================] - 0s 4ms/step - loss: 0.0966 - binary_accuracy: 0.8787 - val_loss: 0.0972 - val_binary_accuracy: 0.8784 - lr: 1.0000e-05\n",
      "Epoch 524/1000\n",
      "101/113 [=========================>....] - ETA: 0s - loss: 0.0966 - binary_accuracy: 0.8781INFO:tensorflow:Assets written to: ../models/FCN/checkpoint/assets\n"
     ]
    },
    {
     "name": "stderr",
     "output_type": "stream",
     "text": [
      "INFO:tensorflow:Assets written to: ../models/FCN/checkpoint/assets\n"
     ]
    },
    {
     "name": "stdout",
     "output_type": "stream",
     "text": [
      "113/113 [==============================] - 1s 5ms/step - loss: 0.0967 - binary_accuracy: 0.8780 - val_loss: 0.0972 - val_binary_accuracy: 0.8785 - lr: 1.0000e-05\n",
      "Epoch 525/1000\n",
      " 89/113 [======================>.......] - ETA: 0s - loss: 0.0967 - binary_accuracy: 0.8785INFO:tensorflow:Assets written to: ../models/FCN/checkpoint/assets\n"
     ]
    },
    {
     "name": "stderr",
     "output_type": "stream",
     "text": [
      "INFO:tensorflow:Assets written to: ../models/FCN/checkpoint/assets\n"
     ]
    },
    {
     "name": "stdout",
     "output_type": "stream",
     "text": [
      "113/113 [==============================] - 0s 4ms/step - loss: 0.0966 - binary_accuracy: 0.8784 - val_loss: 0.0972 - val_binary_accuracy: 0.8785 - lr: 1.0000e-05\n",
      "Epoch 526/1000\n",
      " 88/113 [======================>.......] - ETA: 0s - loss: 0.0967 - binary_accuracy: 0.8787INFO:tensorflow:Assets written to: ../models/FCN/checkpoint/assets\n"
     ]
    },
    {
     "name": "stderr",
     "output_type": "stream",
     "text": [
      "INFO:tensorflow:Assets written to: ../models/FCN/checkpoint/assets\n"
     ]
    },
    {
     "name": "stdout",
     "output_type": "stream",
     "text": [
      "113/113 [==============================] - 0s 4ms/step - loss: 0.0965 - binary_accuracy: 0.8790 - val_loss: 0.0972 - val_binary_accuracy: 0.8785 - lr: 1.0000e-05\n",
      "Epoch 527/1000\n",
      " 89/113 [======================>.......] - ETA: 0s - loss: 0.0968 - binary_accuracy: 0.8781INFO:tensorflow:Assets written to: ../models/FCN/checkpoint/assets\n"
     ]
    },
    {
     "name": "stderr",
     "output_type": "stream",
     "text": [
      "INFO:tensorflow:Assets written to: ../models/FCN/checkpoint/assets\n"
     ]
    },
    {
     "name": "stdout",
     "output_type": "stream",
     "text": [
      "113/113 [==============================] - 0s 4ms/step - loss: 0.0967 - binary_accuracy: 0.8782 - val_loss: 0.0972 - val_binary_accuracy: 0.8785 - lr: 1.0000e-05\n",
      "Epoch 528/1000\n",
      " 88/113 [======================>.......] - ETA: 0s - loss: 0.0964 - binary_accuracy: 0.8792INFO:tensorflow:Assets written to: ../models/FCN/checkpoint/assets\n"
     ]
    },
    {
     "name": "stderr",
     "output_type": "stream",
     "text": [
      "INFO:tensorflow:Assets written to: ../models/FCN/checkpoint/assets\n"
     ]
    },
    {
     "name": "stdout",
     "output_type": "stream",
     "text": [
      "113/113 [==============================] - 0s 4ms/step - loss: 0.0967 - binary_accuracy: 0.8787 - val_loss: 0.0972 - val_binary_accuracy: 0.8785 - lr: 1.0000e-05\n",
      "Epoch 529/1000\n",
      " 88/113 [======================>.......] - ETA: 0s - loss: 0.0968 - binary_accuracy: 0.8781INFO:tensorflow:Assets written to: ../models/FCN/checkpoint/assets\n"
     ]
    },
    {
     "name": "stderr",
     "output_type": "stream",
     "text": [
      "INFO:tensorflow:Assets written to: ../models/FCN/checkpoint/assets\n"
     ]
    },
    {
     "name": "stdout",
     "output_type": "stream",
     "text": [
      "113/113 [==============================] - 0s 4ms/step - loss: 0.0968 - binary_accuracy: 0.8781 - val_loss: 0.0972 - val_binary_accuracy: 0.8785 - lr: 1.0000e-05\n",
      "Epoch 530/1000\n",
      " 90/113 [======================>.......] - ETA: 0s - loss: 0.0964 - binary_accuracy: 0.8787INFO:tensorflow:Assets written to: ../models/FCN/checkpoint/assets\n"
     ]
    },
    {
     "name": "stderr",
     "output_type": "stream",
     "text": [
      "INFO:tensorflow:Assets written to: ../models/FCN/checkpoint/assets\n"
     ]
    },
    {
     "name": "stdout",
     "output_type": "stream",
     "text": [
      "113/113 [==============================] - 1s 8ms/step - loss: 0.0967 - binary_accuracy: 0.8783 - val_loss: 0.0971 - val_binary_accuracy: 0.8785 - lr: 1.0000e-05\n",
      "Epoch 531/1000\n",
      " 89/113 [======================>.......] - ETA: 0s - loss: 0.0968 - binary_accuracy: 0.8785INFO:tensorflow:Assets written to: ../models/FCN/checkpoint/assets\n"
     ]
    },
    {
     "name": "stderr",
     "output_type": "stream",
     "text": [
      "INFO:tensorflow:Assets written to: ../models/FCN/checkpoint/assets\n"
     ]
    },
    {
     "name": "stdout",
     "output_type": "stream",
     "text": [
      "113/113 [==============================] - 0s 4ms/step - loss: 0.0967 - binary_accuracy: 0.8784 - val_loss: 0.0971 - val_binary_accuracy: 0.8785 - lr: 1.0000e-05\n",
      "Epoch 532/1000\n",
      " 86/113 [=====================>........] - ETA: 0s - loss: 0.0969 - binary_accuracy: 0.8779INFO:tensorflow:Assets written to: ../models/FCN/checkpoint/assets\n"
     ]
    },
    {
     "name": "stderr",
     "output_type": "stream",
     "text": [
      "INFO:tensorflow:Assets written to: ../models/FCN/checkpoint/assets\n"
     ]
    },
    {
     "name": "stdout",
     "output_type": "stream",
     "text": [
      "113/113 [==============================] - 0s 4ms/step - loss: 0.0968 - binary_accuracy: 0.8781 - val_loss: 0.0971 - val_binary_accuracy: 0.8785 - lr: 1.0000e-05\n",
      "Epoch 533/1000\n",
      "101/113 [=========================>....] - ETA: 0s - loss: 0.0967 - binary_accuracy: 0.8782INFO:tensorflow:Assets written to: ../models/FCN/checkpoint/assets\n"
     ]
    },
    {
     "name": "stderr",
     "output_type": "stream",
     "text": [
      "INFO:tensorflow:Assets written to: ../models/FCN/checkpoint/assets\n"
     ]
    },
    {
     "name": "stdout",
     "output_type": "stream",
     "text": [
      "113/113 [==============================] - 1s 5ms/step - loss: 0.0965 - binary_accuracy: 0.8784 - val_loss: 0.0971 - val_binary_accuracy: 0.8786 - lr: 1.0000e-05\n",
      "Epoch 534/1000\n",
      " 90/113 [======================>.......] - ETA: 0s - loss: 0.0965 - binary_accuracy: 0.8789INFO:tensorflow:Assets written to: ../models/FCN/checkpoint/assets\n"
     ]
    },
    {
     "name": "stderr",
     "output_type": "stream",
     "text": [
      "INFO:tensorflow:Assets written to: ../models/FCN/checkpoint/assets\n"
     ]
    },
    {
     "name": "stdout",
     "output_type": "stream",
     "text": [
      "113/113 [==============================] - 0s 4ms/step - loss: 0.0965 - binary_accuracy: 0.8788 - val_loss: 0.0971 - val_binary_accuracy: 0.8786 - lr: 1.0000e-05\n",
      "Epoch 535/1000\n",
      " 89/113 [======================>.......] - ETA: 0s - loss: 0.0963 - binary_accuracy: 0.8786INFO:tensorflow:Assets written to: ../models/FCN/checkpoint/assets\n"
     ]
    },
    {
     "name": "stderr",
     "output_type": "stream",
     "text": [
      "INFO:tensorflow:Assets written to: ../models/FCN/checkpoint/assets\n"
     ]
    },
    {
     "name": "stdout",
     "output_type": "stream",
     "text": [
      "113/113 [==============================] - 0s 4ms/step - loss: 0.0964 - binary_accuracy: 0.8785 - val_loss: 0.0971 - val_binary_accuracy: 0.8785 - lr: 1.0000e-05\n",
      "Epoch 536/1000\n",
      " 89/113 [======================>.......] - ETA: 0s - loss: 0.0964 - binary_accuracy: 0.8787INFO:tensorflow:Assets written to: ../models/FCN/checkpoint/assets\n"
     ]
    },
    {
     "name": "stderr",
     "output_type": "stream",
     "text": [
      "INFO:tensorflow:Assets written to: ../models/FCN/checkpoint/assets\n"
     ]
    },
    {
     "name": "stdout",
     "output_type": "stream",
     "text": [
      "113/113 [==============================] - 0s 4ms/step - loss: 0.0966 - binary_accuracy: 0.8784 - val_loss: 0.0971 - val_binary_accuracy: 0.8785 - lr: 1.0000e-05\n",
      "Epoch 537/1000\n",
      " 89/113 [======================>.......] - ETA: 0s - loss: 0.0964 - binary_accuracy: 0.8783INFO:tensorflow:Assets written to: ../models/FCN/checkpoint/assets\n"
     ]
    },
    {
     "name": "stderr",
     "output_type": "stream",
     "text": [
      "INFO:tensorflow:Assets written to: ../models/FCN/checkpoint/assets\n"
     ]
    },
    {
     "name": "stdout",
     "output_type": "stream",
     "text": [
      "113/113 [==============================] - 0s 4ms/step - loss: 0.0964 - binary_accuracy: 0.8785 - val_loss: 0.0971 - val_binary_accuracy: 0.8785 - lr: 1.0000e-05\n",
      "Epoch 538/1000\n",
      " 89/113 [======================>.......] - ETA: 0s - loss: 0.0969 - binary_accuracy: 0.8783INFO:tensorflow:Assets written to: ../models/FCN/checkpoint/assets\n"
     ]
    },
    {
     "name": "stderr",
     "output_type": "stream",
     "text": [
      "INFO:tensorflow:Assets written to: ../models/FCN/checkpoint/assets\n"
     ]
    },
    {
     "name": "stdout",
     "output_type": "stream",
     "text": [
      "113/113 [==============================] - 0s 4ms/step - loss: 0.0969 - binary_accuracy: 0.8781 - val_loss: 0.0971 - val_binary_accuracy: 0.8784 - lr: 1.0000e-05\n",
      "Epoch 539/1000\n",
      " 90/113 [======================>.......] - ETA: 0s - loss: 0.0961 - binary_accuracy: 0.8790INFO:tensorflow:Assets written to: ../models/FCN/checkpoint/assets\n"
     ]
    },
    {
     "name": "stderr",
     "output_type": "stream",
     "text": [
      "INFO:tensorflow:Assets written to: ../models/FCN/checkpoint/assets\n"
     ]
    },
    {
     "name": "stdout",
     "output_type": "stream",
     "text": [
      "113/113 [==============================] - 0s 4ms/step - loss: 0.0962 - binary_accuracy: 0.8789 - val_loss: 0.0971 - val_binary_accuracy: 0.8785 - lr: 1.0000e-05\n",
      "Epoch 540/1000\n",
      " 88/113 [======================>.......] - ETA: 0s - loss: 0.0967 - binary_accuracy: 0.8783INFO:tensorflow:Assets written to: ../models/FCN/checkpoint/assets\n"
     ]
    },
    {
     "name": "stderr",
     "output_type": "stream",
     "text": [
      "INFO:tensorflow:Assets written to: ../models/FCN/checkpoint/assets\n"
     ]
    },
    {
     "name": "stdout",
     "output_type": "stream",
     "text": [
      "113/113 [==============================] - 0s 4ms/step - loss: 0.0964 - binary_accuracy: 0.8787 - val_loss: 0.0971 - val_binary_accuracy: 0.8786 - lr: 1.0000e-05\n",
      "Epoch 541/1000\n",
      " 88/113 [======================>.......] - ETA: 0s - loss: 0.0968 - binary_accuracy: 0.8786INFO:tensorflow:Assets written to: ../models/FCN/checkpoint/assets\n"
     ]
    },
    {
     "name": "stderr",
     "output_type": "stream",
     "text": [
      "INFO:tensorflow:Assets written to: ../models/FCN/checkpoint/assets\n"
     ]
    },
    {
     "name": "stdout",
     "output_type": "stream",
     "text": [
      "113/113 [==============================] - 0s 4ms/step - loss: 0.0967 - binary_accuracy: 0.8788 - val_loss: 0.0971 - val_binary_accuracy: 0.8785 - lr: 1.0000e-05\n",
      "Epoch 542/1000\n",
      " 90/113 [======================>.......] - ETA: 0s - loss: 0.0966 - binary_accuracy: 0.8783INFO:tensorflow:Assets written to: ../models/FCN/checkpoint/assets\n"
     ]
    },
    {
     "name": "stderr",
     "output_type": "stream",
     "text": [
      "INFO:tensorflow:Assets written to: ../models/FCN/checkpoint/assets\n"
     ]
    },
    {
     "name": "stdout",
     "output_type": "stream",
     "text": [
      "113/113 [==============================] - 0s 4ms/step - loss: 0.0966 - binary_accuracy: 0.8784 - val_loss: 0.0971 - val_binary_accuracy: 0.8785 - lr: 1.0000e-05\n",
      "Epoch 543/1000\n",
      "101/113 [=========================>....] - ETA: 0s - loss: 0.0963 - binary_accuracy: 0.8786INFO:tensorflow:Assets written to: ../models/FCN/checkpoint/assets\n"
     ]
    },
    {
     "name": "stderr",
     "output_type": "stream",
     "text": [
      "INFO:tensorflow:Assets written to: ../models/FCN/checkpoint/assets\n"
     ]
    },
    {
     "name": "stdout",
     "output_type": "stream",
     "text": [
      "113/113 [==============================] - 1s 5ms/step - loss: 0.0963 - binary_accuracy: 0.8785 - val_loss: 0.0971 - val_binary_accuracy: 0.8785 - lr: 1.0000e-05\n",
      "Epoch 544/1000\n",
      " 88/113 [======================>.......] - ETA: 0s - loss: 0.0963 - binary_accuracy: 0.8787INFO:tensorflow:Assets written to: ../models/FCN/checkpoint/assets\n"
     ]
    },
    {
     "name": "stderr",
     "output_type": "stream",
     "text": [
      "INFO:tensorflow:Assets written to: ../models/FCN/checkpoint/assets\n"
     ]
    },
    {
     "name": "stdout",
     "output_type": "stream",
     "text": [
      "113/113 [==============================] - 0s 4ms/step - loss: 0.0962 - binary_accuracy: 0.8786 - val_loss: 0.0970 - val_binary_accuracy: 0.8785 - lr: 1.0000e-05\n",
      "Epoch 545/1000\n",
      " 88/113 [======================>.......] - ETA: 0s - loss: 0.0961 - binary_accuracy: 0.8793INFO:tensorflow:Assets written to: ../models/FCN/checkpoint/assets\n"
     ]
    },
    {
     "name": "stderr",
     "output_type": "stream",
     "text": [
      "INFO:tensorflow:Assets written to: ../models/FCN/checkpoint/assets\n"
     ]
    },
    {
     "name": "stdout",
     "output_type": "stream",
     "text": [
      "113/113 [==============================] - 0s 4ms/step - loss: 0.0963 - binary_accuracy: 0.8791 - val_loss: 0.0970 - val_binary_accuracy: 0.8785 - lr: 1.0000e-05\n",
      "Epoch 546/1000\n",
      " 89/113 [======================>.......] - ETA: 0s - loss: 0.0964 - binary_accuracy: 0.8787INFO:tensorflow:Assets written to: ../models/FCN/checkpoint/assets\n"
     ]
    },
    {
     "name": "stderr",
     "output_type": "stream",
     "text": [
      "INFO:tensorflow:Assets written to: ../models/FCN/checkpoint/assets\n"
     ]
    },
    {
     "name": "stdout",
     "output_type": "stream",
     "text": [
      "113/113 [==============================] - 0s 4ms/step - loss: 0.0966 - binary_accuracy: 0.8784 - val_loss: 0.0970 - val_binary_accuracy: 0.8785 - lr: 1.0000e-05\n",
      "Epoch 547/1000\n",
      " 88/113 [======================>.......] - ETA: 0s - loss: 0.0966 - binary_accuracy: 0.8785INFO:tensorflow:Assets written to: ../models/FCN/checkpoint/assets\n"
     ]
    },
    {
     "name": "stderr",
     "output_type": "stream",
     "text": [
      "INFO:tensorflow:Assets written to: ../models/FCN/checkpoint/assets\n"
     ]
    },
    {
     "name": "stdout",
     "output_type": "stream",
     "text": [
      "113/113 [==============================] - 0s 4ms/step - loss: 0.0965 - binary_accuracy: 0.8784 - val_loss: 0.0970 - val_binary_accuracy: 0.8785 - lr: 1.0000e-05\n",
      "Epoch 548/1000\n",
      " 89/113 [======================>.......] - ETA: 0s - loss: 0.0964 - binary_accuracy: 0.8789INFO:tensorflow:Assets written to: ../models/FCN/checkpoint/assets\n"
     ]
    },
    {
     "name": "stderr",
     "output_type": "stream",
     "text": [
      "INFO:tensorflow:Assets written to: ../models/FCN/checkpoint/assets\n"
     ]
    },
    {
     "name": "stdout",
     "output_type": "stream",
     "text": [
      "113/113 [==============================] - 0s 4ms/step - loss: 0.0966 - binary_accuracy: 0.8787 - val_loss: 0.0970 - val_binary_accuracy: 0.8785 - lr: 1.0000e-05\n",
      "Epoch 549/1000\n",
      " 90/113 [======================>.......] - ETA: 0s - loss: 0.0963 - binary_accuracy: 0.8787INFO:tensorflow:Assets written to: ../models/FCN/checkpoint/assets\n"
     ]
    },
    {
     "name": "stderr",
     "output_type": "stream",
     "text": [
      "INFO:tensorflow:Assets written to: ../models/FCN/checkpoint/assets\n"
     ]
    },
    {
     "name": "stdout",
     "output_type": "stream",
     "text": [
      "113/113 [==============================] - 0s 4ms/step - loss: 0.0965 - binary_accuracy: 0.8785 - val_loss: 0.0970 - val_binary_accuracy: 0.8786 - lr: 1.0000e-05\n",
      "Epoch 550/1000\n",
      " 89/113 [======================>.......] - ETA: 0s - loss: 0.0965 - binary_accuracy: 0.8784INFO:tensorflow:Assets written to: ../models/FCN/checkpoint/assets\n"
     ]
    },
    {
     "name": "stderr",
     "output_type": "stream",
     "text": [
      "INFO:tensorflow:Assets written to: ../models/FCN/checkpoint/assets\n"
     ]
    },
    {
     "name": "stdout",
     "output_type": "stream",
     "text": [
      "113/113 [==============================] - 0s 4ms/step - loss: 0.0963 - binary_accuracy: 0.8786 - val_loss: 0.0970 - val_binary_accuracy: 0.8786 - lr: 1.0000e-05\n",
      "Epoch 551/1000\n",
      " 89/113 [======================>.......] - ETA: 0s - loss: 0.0962 - binary_accuracy: 0.8791INFO:tensorflow:Assets written to: ../models/FCN/checkpoint/assets\n"
     ]
    },
    {
     "name": "stderr",
     "output_type": "stream",
     "text": [
      "INFO:tensorflow:Assets written to: ../models/FCN/checkpoint/assets\n"
     ]
    },
    {
     "name": "stdout",
     "output_type": "stream",
     "text": [
      "113/113 [==============================] - 1s 8ms/step - loss: 0.0963 - binary_accuracy: 0.8788 - val_loss: 0.0970 - val_binary_accuracy: 0.8786 - lr: 1.0000e-05\n",
      "Epoch 552/1000\n",
      "105/113 [==========================>...] - ETA: 0s - loss: 0.0964 - binary_accuracy: 0.8786INFO:tensorflow:Assets written to: ../models/FCN/checkpoint/assets\n"
     ]
    },
    {
     "name": "stderr",
     "output_type": "stream",
     "text": [
      "INFO:tensorflow:Assets written to: ../models/FCN/checkpoint/assets\n"
     ]
    },
    {
     "name": "stdout",
     "output_type": "stream",
     "text": [
      "113/113 [==============================] - 1s 5ms/step - loss: 0.0963 - binary_accuracy: 0.8786 - val_loss: 0.0970 - val_binary_accuracy: 0.8786 - lr: 1.0000e-05\n",
      "Epoch 553/1000\n",
      "113/113 [==============================] - 0s 2ms/step - loss: 0.0962 - binary_accuracy: 0.8784 - val_loss: 0.0970 - val_binary_accuracy: 0.8786 - lr: 1.0000e-05\n",
      "Epoch 554/1000\n",
      "112/113 [============================>.] - ETA: 0s - loss: 0.0963 - binary_accuracy: 0.8788INFO:tensorflow:Assets written to: ../models/FCN/checkpoint/assets\n"
     ]
    },
    {
     "name": "stderr",
     "output_type": "stream",
     "text": [
      "INFO:tensorflow:Assets written to: ../models/FCN/checkpoint/assets\n"
     ]
    },
    {
     "name": "stdout",
     "output_type": "stream",
     "text": [
      "113/113 [==============================] - 1s 4ms/step - loss: 0.0963 - binary_accuracy: 0.8788 - val_loss: 0.0970 - val_binary_accuracy: 0.8787 - lr: 1.0000e-05\n",
      "Epoch 555/1000\n",
      " 88/113 [======================>.......] - ETA: 0s - loss: 0.0964 - binary_accuracy: 0.8787INFO:tensorflow:Assets written to: ../models/FCN/checkpoint/assets\n"
     ]
    },
    {
     "name": "stderr",
     "output_type": "stream",
     "text": [
      "INFO:tensorflow:Assets written to: ../models/FCN/checkpoint/assets\n"
     ]
    },
    {
     "name": "stdout",
     "output_type": "stream",
     "text": [
      "113/113 [==============================] - 0s 4ms/step - loss: 0.0964 - binary_accuracy: 0.8788 - val_loss: 0.0970 - val_binary_accuracy: 0.8786 - lr: 1.0000e-05\n",
      "Epoch 556/1000\n",
      " 88/113 [======================>.......] - ETA: 0s - loss: 0.0966 - binary_accuracy: 0.8780INFO:tensorflow:Assets written to: ../models/FCN/checkpoint/assets\n"
     ]
    },
    {
     "name": "stderr",
     "output_type": "stream",
     "text": [
      "INFO:tensorflow:Assets written to: ../models/FCN/checkpoint/assets\n"
     ]
    },
    {
     "name": "stdout",
     "output_type": "stream",
     "text": [
      "113/113 [==============================] - 0s 4ms/step - loss: 0.0965 - binary_accuracy: 0.8783 - val_loss: 0.0970 - val_binary_accuracy: 0.8786 - lr: 1.0000e-05\n",
      "Epoch 557/1000\n",
      " 88/113 [======================>.......] - ETA: 0s - loss: 0.0960 - binary_accuracy: 0.8785INFO:tensorflow:Assets written to: ../models/FCN/checkpoint/assets\n"
     ]
    },
    {
     "name": "stderr",
     "output_type": "stream",
     "text": [
      "INFO:tensorflow:Assets written to: ../models/FCN/checkpoint/assets\n"
     ]
    },
    {
     "name": "stdout",
     "output_type": "stream",
     "text": [
      "113/113 [==============================] - 0s 4ms/step - loss: 0.0961 - binary_accuracy: 0.8785 - val_loss: 0.0969 - val_binary_accuracy: 0.8786 - lr: 1.0000e-05\n",
      "Epoch 558/1000\n",
      " 90/113 [======================>.......] - ETA: 0s - loss: 0.0963 - binary_accuracy: 0.8788INFO:tensorflow:Assets written to: ../models/FCN/checkpoint/assets\n"
     ]
    },
    {
     "name": "stderr",
     "output_type": "stream",
     "text": [
      "INFO:tensorflow:Assets written to: ../models/FCN/checkpoint/assets\n"
     ]
    },
    {
     "name": "stdout",
     "output_type": "stream",
     "text": [
      "113/113 [==============================] - 0s 4ms/step - loss: 0.0961 - binary_accuracy: 0.8791 - val_loss: 0.0969 - val_binary_accuracy: 0.8786 - lr: 1.0000e-05\n",
      "Epoch 559/1000\n",
      " 89/113 [======================>.......] - ETA: 0s - loss: 0.0962 - binary_accuracy: 0.8785INFO:tensorflow:Assets written to: ../models/FCN/checkpoint/assets\n"
     ]
    },
    {
     "name": "stderr",
     "output_type": "stream",
     "text": [
      "INFO:tensorflow:Assets written to: ../models/FCN/checkpoint/assets\n"
     ]
    },
    {
     "name": "stdout",
     "output_type": "stream",
     "text": [
      "113/113 [==============================] - 0s 4ms/step - loss: 0.0963 - binary_accuracy: 0.8788 - val_loss: 0.0969 - val_binary_accuracy: 0.8786 - lr: 1.0000e-05\n",
      "Epoch 560/1000\n",
      "111/113 [============================>.] - ETA: 0s - loss: 0.0960 - binary_accuracy: 0.8787INFO:tensorflow:Assets written to: ../models/FCN/checkpoint/assets\n"
     ]
    },
    {
     "name": "stderr",
     "output_type": "stream",
     "text": [
      "INFO:tensorflow:Assets written to: ../models/FCN/checkpoint/assets\n"
     ]
    },
    {
     "name": "stdout",
     "output_type": "stream",
     "text": [
      "113/113 [==============================] - 0s 4ms/step - loss: 0.0961 - binary_accuracy: 0.8787 - val_loss: 0.0969 - val_binary_accuracy: 0.8786 - lr: 1.0000e-05\n",
      "Epoch 561/1000\n",
      " 88/113 [======================>.......] - ETA: 0s - loss: 0.0962 - binary_accuracy: 0.8793INFO:tensorflow:Assets written to: ../models/FCN/checkpoint/assets\n"
     ]
    },
    {
     "name": "stderr",
     "output_type": "stream",
     "text": [
      "INFO:tensorflow:Assets written to: ../models/FCN/checkpoint/assets\n"
     ]
    },
    {
     "name": "stdout",
     "output_type": "stream",
     "text": [
      "113/113 [==============================] - 0s 4ms/step - loss: 0.0961 - binary_accuracy: 0.8791 - val_loss: 0.0969 - val_binary_accuracy: 0.8786 - lr: 1.0000e-05\n",
      "Epoch 562/1000\n",
      "113/113 [==============================] - 0s 2ms/step - loss: 0.0962 - binary_accuracy: 0.8787 - val_loss: 0.0969 - val_binary_accuracy: 0.8786 - lr: 1.0000e-05\n",
      "Epoch 563/1000\n",
      " 88/113 [======================>.......] - ETA: 0s - loss: 0.0959 - binary_accuracy: 0.8790INFO:tensorflow:Assets written to: ../models/FCN/checkpoint/assets\n"
     ]
    },
    {
     "name": "stderr",
     "output_type": "stream",
     "text": [
      "INFO:tensorflow:Assets written to: ../models/FCN/checkpoint/assets\n"
     ]
    },
    {
     "name": "stdout",
     "output_type": "stream",
     "text": [
      "113/113 [==============================] - 1s 5ms/step - loss: 0.0959 - binary_accuracy: 0.8792 - val_loss: 0.0969 - val_binary_accuracy: 0.8786 - lr: 1.0000e-05\n",
      "Epoch 564/1000\n",
      "106/113 [===========================>..] - ETA: 0s - loss: 0.0961 - binary_accuracy: 0.8786INFO:tensorflow:Assets written to: ../models/FCN/checkpoint/assets\n"
     ]
    },
    {
     "name": "stderr",
     "output_type": "stream",
     "text": [
      "INFO:tensorflow:Assets written to: ../models/FCN/checkpoint/assets\n"
     ]
    },
    {
     "name": "stdout",
     "output_type": "stream",
     "text": [
      "113/113 [==============================] - 1s 5ms/step - loss: 0.0962 - binary_accuracy: 0.8786 - val_loss: 0.0969 - val_binary_accuracy: 0.8785 - lr: 1.0000e-05\n",
      "Epoch 565/1000\n",
      " 88/113 [======================>.......] - ETA: 0s - loss: 0.0958 - binary_accuracy: 0.8792INFO:tensorflow:Assets written to: ../models/FCN/checkpoint/assets\n"
     ]
    },
    {
     "name": "stderr",
     "output_type": "stream",
     "text": [
      "INFO:tensorflow:Assets written to: ../models/FCN/checkpoint/assets\n"
     ]
    },
    {
     "name": "stdout",
     "output_type": "stream",
     "text": [
      "113/113 [==============================] - 0s 4ms/step - loss: 0.0960 - binary_accuracy: 0.8790 - val_loss: 0.0969 - val_binary_accuracy: 0.8785 - lr: 1.0000e-05\n",
      "Epoch 566/1000\n",
      "106/113 [===========================>..] - ETA: 0s - loss: 0.0961 - binary_accuracy: 0.8786INFO:tensorflow:Assets written to: ../models/FCN/checkpoint/assets\n"
     ]
    },
    {
     "name": "stderr",
     "output_type": "stream",
     "text": [
      "INFO:tensorflow:Assets written to: ../models/FCN/checkpoint/assets\n"
     ]
    },
    {
     "name": "stdout",
     "output_type": "stream",
     "text": [
      "113/113 [==============================] - 1s 5ms/step - loss: 0.0961 - binary_accuracy: 0.8787 - val_loss: 0.0969 - val_binary_accuracy: 0.8785 - lr: 1.0000e-05\n",
      "Epoch 567/1000\n",
      "108/113 [===========================>..] - ETA: 0s - loss: 0.0958 - binary_accuracy: 0.8790INFO:tensorflow:Assets written to: ../models/FCN/checkpoint/assets\n"
     ]
    },
    {
     "name": "stderr",
     "output_type": "stream",
     "text": [
      "INFO:tensorflow:Assets written to: ../models/FCN/checkpoint/assets\n"
     ]
    },
    {
     "name": "stdout",
     "output_type": "stream",
     "text": [
      "113/113 [==============================] - 1s 5ms/step - loss: 0.0958 - binary_accuracy: 0.8790 - val_loss: 0.0969 - val_binary_accuracy: 0.8785 - lr: 1.0000e-05\n",
      "Epoch 568/1000\n",
      "111/113 [============================>.] - ETA: 0s - loss: 0.0959 - binary_accuracy: 0.8788INFO:tensorflow:Assets written to: ../models/FCN/checkpoint/assets\n"
     ]
    },
    {
     "name": "stderr",
     "output_type": "stream",
     "text": [
      "INFO:tensorflow:Assets written to: ../models/FCN/checkpoint/assets\n"
     ]
    },
    {
     "name": "stdout",
     "output_type": "stream",
     "text": [
      "113/113 [==============================] - 1s 5ms/step - loss: 0.0960 - binary_accuracy: 0.8788 - val_loss: 0.0969 - val_binary_accuracy: 0.8786 - lr: 1.0000e-05\n",
      "Epoch 569/1000\n",
      "106/113 [===========================>..] - ETA: 0s - loss: 0.0961 - binary_accuracy: 0.8788INFO:tensorflow:Assets written to: ../models/FCN/checkpoint/assets\n"
     ]
    },
    {
     "name": "stderr",
     "output_type": "stream",
     "text": [
      "INFO:tensorflow:Assets written to: ../models/FCN/checkpoint/assets\n"
     ]
    },
    {
     "name": "stdout",
     "output_type": "stream",
     "text": [
      "113/113 [==============================] - 1s 5ms/step - loss: 0.0960 - binary_accuracy: 0.8790 - val_loss: 0.0969 - val_binary_accuracy: 0.8786 - lr: 1.0000e-05\n",
      "Epoch 570/1000\n",
      "107/113 [===========================>..] - ETA: 0s - loss: 0.0960 - binary_accuracy: 0.8788INFO:tensorflow:Assets written to: ../models/FCN/checkpoint/assets\n"
     ]
    },
    {
     "name": "stderr",
     "output_type": "stream",
     "text": [
      "INFO:tensorflow:Assets written to: ../models/FCN/checkpoint/assets\n"
     ]
    },
    {
     "name": "stdout",
     "output_type": "stream",
     "text": [
      "113/113 [==============================] - 1s 5ms/step - loss: 0.0961 - binary_accuracy: 0.8786 - val_loss: 0.0969 - val_binary_accuracy: 0.8786 - lr: 1.0000e-05\n",
      "Epoch 571/1000\n",
      "112/113 [============================>.] - ETA: 0s - loss: 0.0960 - binary_accuracy: 0.8785INFO:tensorflow:Assets written to: ../models/FCN/checkpoint/assets\n"
     ]
    },
    {
     "name": "stderr",
     "output_type": "stream",
     "text": [
      "INFO:tensorflow:Assets written to: ../models/FCN/checkpoint/assets\n"
     ]
    },
    {
     "name": "stdout",
     "output_type": "stream",
     "text": [
      "113/113 [==============================] - 1s 5ms/step - loss: 0.0960 - binary_accuracy: 0.8785 - val_loss: 0.0969 - val_binary_accuracy: 0.8786 - lr: 1.0000e-05\n",
      "Epoch 572/1000\n",
      "104/113 [==========================>...] - ETA: 0s - loss: 0.0959 - binary_accuracy: 0.8791INFO:tensorflow:Assets written to: ../models/FCN/checkpoint/assets\n"
     ]
    },
    {
     "name": "stderr",
     "output_type": "stream",
     "text": [
      "INFO:tensorflow:Assets written to: ../models/FCN/checkpoint/assets\n"
     ]
    },
    {
     "name": "stdout",
     "output_type": "stream",
     "text": [
      "113/113 [==============================] - 1s 5ms/step - loss: 0.0959 - binary_accuracy: 0.8793 - val_loss: 0.0969 - val_binary_accuracy: 0.8786 - lr: 1.0000e-05\n",
      "Epoch 573/1000\n",
      "108/113 [===========================>..] - ETA: 0s - loss: 0.0958 - binary_accuracy: 0.8793INFO:tensorflow:Assets written to: ../models/FCN/checkpoint/assets\n"
     ]
    },
    {
     "name": "stderr",
     "output_type": "stream",
     "text": [
      "INFO:tensorflow:Assets written to: ../models/FCN/checkpoint/assets\n"
     ]
    },
    {
     "name": "stdout",
     "output_type": "stream",
     "text": [
      "113/113 [==============================] - 1s 10ms/step - loss: 0.0958 - binary_accuracy: 0.8791 - val_loss: 0.0968 - val_binary_accuracy: 0.8786 - lr: 1.0000e-05\n",
      "Epoch 574/1000\n",
      "109/113 [===========================>..] - ETA: 0s - loss: 0.0959 - binary_accuracy: 0.8790INFO:tensorflow:Assets written to: ../models/FCN/checkpoint/assets\n"
     ]
    },
    {
     "name": "stderr",
     "output_type": "stream",
     "text": [
      "INFO:tensorflow:Assets written to: ../models/FCN/checkpoint/assets\n"
     ]
    },
    {
     "name": "stdout",
     "output_type": "stream",
     "text": [
      "113/113 [==============================] - 1s 5ms/step - loss: 0.0959 - binary_accuracy: 0.8790 - val_loss: 0.0968 - val_binary_accuracy: 0.8786 - lr: 1.0000e-05\n",
      "Epoch 575/1000\n",
      "103/113 [==========================>...] - ETA: 0s - loss: 0.0958 - binary_accuracy: 0.8791INFO:tensorflow:Assets written to: ../models/FCN/checkpoint/assets\n"
     ]
    },
    {
     "name": "stderr",
     "output_type": "stream",
     "text": [
      "INFO:tensorflow:Assets written to: ../models/FCN/checkpoint/assets\n"
     ]
    },
    {
     "name": "stdout",
     "output_type": "stream",
     "text": [
      "113/113 [==============================] - 1s 5ms/step - loss: 0.0959 - binary_accuracy: 0.8791 - val_loss: 0.0968 - val_binary_accuracy: 0.8786 - lr: 1.0000e-05\n",
      "Epoch 576/1000\n",
      "107/113 [===========================>..] - ETA: 0s - loss: 0.0959 - binary_accuracy: 0.8792INFO:tensorflow:Assets written to: ../models/FCN/checkpoint/assets\n"
     ]
    },
    {
     "name": "stderr",
     "output_type": "stream",
     "text": [
      "INFO:tensorflow:Assets written to: ../models/FCN/checkpoint/assets\n"
     ]
    },
    {
     "name": "stdout",
     "output_type": "stream",
     "text": [
      "113/113 [==============================] - 1s 5ms/step - loss: 0.0959 - binary_accuracy: 0.8792 - val_loss: 0.0968 - val_binary_accuracy: 0.8786 - lr: 1.0000e-05\n",
      "Epoch 577/1000\n",
      "113/113 [==============================] - 0s 3ms/step - loss: 0.0960 - binary_accuracy: 0.8789 - val_loss: 0.0968 - val_binary_accuracy: 0.8785 - lr: 1.0000e-05\n",
      "Epoch 578/1000\n",
      "113/113 [==============================] - 0s 2ms/step - loss: 0.0959 - binary_accuracy: 0.8789 - val_loss: 0.0968 - val_binary_accuracy: 0.8786 - lr: 1.0000e-05\n",
      "Epoch 579/1000\n",
      "108/113 [===========================>..] - ETA: 0s - loss: 0.0958 - binary_accuracy: 0.8790INFO:tensorflow:Assets written to: ../models/FCN/checkpoint/assets\n"
     ]
    },
    {
     "name": "stderr",
     "output_type": "stream",
     "text": [
      "INFO:tensorflow:Assets written to: ../models/FCN/checkpoint/assets\n"
     ]
    },
    {
     "name": "stdout",
     "output_type": "stream",
     "text": [
      "113/113 [==============================] - 1s 5ms/step - loss: 0.0960 - binary_accuracy: 0.8788 - val_loss: 0.0968 - val_binary_accuracy: 0.8786 - lr: 1.0000e-05\n",
      "Epoch 580/1000\n",
      "109/113 [===========================>..] - ETA: 0s - loss: 0.0957 - binary_accuracy: 0.8792INFO:tensorflow:Assets written to: ../models/FCN/checkpoint/assets\n"
     ]
    },
    {
     "name": "stderr",
     "output_type": "stream",
     "text": [
      "INFO:tensorflow:Assets written to: ../models/FCN/checkpoint/assets\n"
     ]
    },
    {
     "name": "stdout",
     "output_type": "stream",
     "text": [
      "113/113 [==============================] - 1s 5ms/step - loss: 0.0958 - binary_accuracy: 0.8790 - val_loss: 0.0968 - val_binary_accuracy: 0.8785 - lr: 1.0000e-05\n",
      "Epoch 581/1000\n",
      "101/113 [=========================>....] - ETA: 0s - loss: 0.0960 - binary_accuracy: 0.8790INFO:tensorflow:Assets written to: ../models/FCN/checkpoint/assets\n"
     ]
    },
    {
     "name": "stderr",
     "output_type": "stream",
     "text": [
      "INFO:tensorflow:Assets written to: ../models/FCN/checkpoint/assets\n"
     ]
    },
    {
     "name": "stdout",
     "output_type": "stream",
     "text": [
      "113/113 [==============================] - 1s 5ms/step - loss: 0.0958 - binary_accuracy: 0.8792 - val_loss: 0.0968 - val_binary_accuracy: 0.8785 - lr: 1.0000e-05\n",
      "Epoch 582/1000\n",
      "109/113 [===========================>..] - ETA: 0s - loss: 0.0956 - binary_accuracy: 0.8792INFO:tensorflow:Assets written to: ../models/FCN/checkpoint/assets\n"
     ]
    },
    {
     "name": "stderr",
     "output_type": "stream",
     "text": [
      "INFO:tensorflow:Assets written to: ../models/FCN/checkpoint/assets\n"
     ]
    },
    {
     "name": "stdout",
     "output_type": "stream",
     "text": [
      "113/113 [==============================] - 1s 5ms/step - loss: 0.0956 - binary_accuracy: 0.8792 - val_loss: 0.0968 - val_binary_accuracy: 0.8785 - lr: 1.0000e-05\n",
      "Epoch 583/1000\n",
      "109/113 [===========================>..] - ETA: 0s - loss: 0.0962 - binary_accuracy: 0.8791INFO:tensorflow:Assets written to: ../models/FCN/checkpoint/assets\n"
     ]
    },
    {
     "name": "stderr",
     "output_type": "stream",
     "text": [
      "INFO:tensorflow:Assets written to: ../models/FCN/checkpoint/assets\n"
     ]
    },
    {
     "name": "stdout",
     "output_type": "stream",
     "text": [
      "113/113 [==============================] - 1s 5ms/step - loss: 0.0962 - binary_accuracy: 0.8791 - val_loss: 0.0968 - val_binary_accuracy: 0.8785 - lr: 1.0000e-05\n",
      "Epoch 584/1000\n",
      "108/113 [===========================>..] - ETA: 0s - loss: 0.0961 - binary_accuracy: 0.8789INFO:tensorflow:Assets written to: ../models/FCN/checkpoint/assets\n"
     ]
    },
    {
     "name": "stderr",
     "output_type": "stream",
     "text": [
      "INFO:tensorflow:Assets written to: ../models/FCN/checkpoint/assets\n"
     ]
    },
    {
     "name": "stdout",
     "output_type": "stream",
     "text": [
      "113/113 [==============================] - 1s 5ms/step - loss: 0.0960 - binary_accuracy: 0.8790 - val_loss: 0.0968 - val_binary_accuracy: 0.8786 - lr: 1.0000e-05\n",
      "Epoch 585/1000\n",
      "108/113 [===========================>..] - ETA: 0s - loss: 0.0957 - binary_accuracy: 0.8790INFO:tensorflow:Assets written to: ../models/FCN/checkpoint/assets\n"
     ]
    },
    {
     "name": "stderr",
     "output_type": "stream",
     "text": [
      "INFO:tensorflow:Assets written to: ../models/FCN/checkpoint/assets\n"
     ]
    },
    {
     "name": "stdout",
     "output_type": "stream",
     "text": [
      "113/113 [==============================] - 1s 5ms/step - loss: 0.0957 - binary_accuracy: 0.8791 - val_loss: 0.0968 - val_binary_accuracy: 0.8785 - lr: 1.0000e-05\n",
      "Epoch 586/1000\n",
      " 87/113 [======================>.......] - ETA: 0s - loss: 0.0959 - binary_accuracy: 0.8790INFO:tensorflow:Assets written to: ../models/FCN/checkpoint/assets\n"
     ]
    },
    {
     "name": "stderr",
     "output_type": "stream",
     "text": [
      "INFO:tensorflow:Assets written to: ../models/FCN/checkpoint/assets\n"
     ]
    },
    {
     "name": "stdout",
     "output_type": "stream",
     "text": [
      "113/113 [==============================] - 1s 5ms/step - loss: 0.0957 - binary_accuracy: 0.8792 - val_loss: 0.0968 - val_binary_accuracy: 0.8785 - lr: 1.0000e-05\n",
      "Epoch 587/1000\n",
      "105/113 [==========================>...] - ETA: 0s - loss: 0.0956 - binary_accuracy: 0.8794INFO:tensorflow:Assets written to: ../models/FCN/checkpoint/assets\n"
     ]
    },
    {
     "name": "stderr",
     "output_type": "stream",
     "text": [
      "INFO:tensorflow:Assets written to: ../models/FCN/checkpoint/assets\n"
     ]
    },
    {
     "name": "stdout",
     "output_type": "stream",
     "text": [
      "113/113 [==============================] - 1s 5ms/step - loss: 0.0956 - binary_accuracy: 0.8794 - val_loss: 0.0968 - val_binary_accuracy: 0.8786 - lr: 1.0000e-05\n",
      "Epoch 588/1000\n",
      "107/113 [===========================>..] - ETA: 0s - loss: 0.0959 - binary_accuracy: 0.8786INFO:tensorflow:Assets written to: ../models/FCN/checkpoint/assets\n"
     ]
    },
    {
     "name": "stderr",
     "output_type": "stream",
     "text": [
      "INFO:tensorflow:Assets written to: ../models/FCN/checkpoint/assets\n"
     ]
    },
    {
     "name": "stdout",
     "output_type": "stream",
     "text": [
      "113/113 [==============================] - 1s 5ms/step - loss: 0.0958 - binary_accuracy: 0.8787 - val_loss: 0.0968 - val_binary_accuracy: 0.8786 - lr: 1.0000e-05\n",
      "Epoch 589/1000\n",
      " 88/113 [======================>.......] - ETA: 0s - loss: 0.0959 - binary_accuracy: 0.8788INFO:tensorflow:Assets written to: ../models/FCN/checkpoint/assets\n"
     ]
    },
    {
     "name": "stderr",
     "output_type": "stream",
     "text": [
      "INFO:tensorflow:Assets written to: ../models/FCN/checkpoint/assets\n"
     ]
    },
    {
     "name": "stdout",
     "output_type": "stream",
     "text": [
      "113/113 [==============================] - 0s 4ms/step - loss: 0.0958 - binary_accuracy: 0.8790 - val_loss: 0.0967 - val_binary_accuracy: 0.8786 - lr: 1.0000e-05\n",
      "Epoch 590/1000\n",
      " 87/113 [======================>.......] - ETA: 0s - loss: 0.0959 - binary_accuracy: 0.8785INFO:tensorflow:Assets written to: ../models/FCN/checkpoint/assets\n"
     ]
    },
    {
     "name": "stderr",
     "output_type": "stream",
     "text": [
      "INFO:tensorflow:Assets written to: ../models/FCN/checkpoint/assets\n"
     ]
    },
    {
     "name": "stdout",
     "output_type": "stream",
     "text": [
      "113/113 [==============================] - 0s 4ms/step - loss: 0.0958 - binary_accuracy: 0.8789 - val_loss: 0.0967 - val_binary_accuracy: 0.8786 - lr: 1.0000e-05\n",
      "Epoch 591/1000\n",
      " 88/113 [======================>.......] - ETA: 0s - loss: 0.0959 - binary_accuracy: 0.8790INFO:tensorflow:Assets written to: ../models/FCN/checkpoint/assets\n"
     ]
    },
    {
     "name": "stderr",
     "output_type": "stream",
     "text": [
      "INFO:tensorflow:Assets written to: ../models/FCN/checkpoint/assets\n"
     ]
    },
    {
     "name": "stdout",
     "output_type": "stream",
     "text": [
      "113/113 [==============================] - 1s 4ms/step - loss: 0.0959 - binary_accuracy: 0.8790 - val_loss: 0.0967 - val_binary_accuracy: 0.8785 - lr: 1.0000e-05\n",
      "Epoch 592/1000\n",
      "109/113 [===========================>..] - ETA: 0s - loss: 0.0958 - binary_accuracy: 0.8792INFO:tensorflow:Assets written to: ../models/FCN/checkpoint/assets\n"
     ]
    },
    {
     "name": "stderr",
     "output_type": "stream",
     "text": [
      "INFO:tensorflow:Assets written to: ../models/FCN/checkpoint/assets\n"
     ]
    },
    {
     "name": "stdout",
     "output_type": "stream",
     "text": [
      "113/113 [==============================] - 1s 5ms/step - loss: 0.0957 - binary_accuracy: 0.8793 - val_loss: 0.0967 - val_binary_accuracy: 0.8786 - lr: 1.0000e-05\n",
      "Epoch 593/1000\n",
      "109/113 [===========================>..] - ETA: 0s - loss: 0.0959 - binary_accuracy: 0.8785INFO:tensorflow:Assets written to: ../models/FCN/checkpoint/assets\n"
     ]
    },
    {
     "name": "stderr",
     "output_type": "stream",
     "text": [
      "INFO:tensorflow:Assets written to: ../models/FCN/checkpoint/assets\n"
     ]
    },
    {
     "name": "stdout",
     "output_type": "stream",
     "text": [
      "113/113 [==============================] - 1s 5ms/step - loss: 0.0959 - binary_accuracy: 0.8787 - val_loss: 0.0967 - val_binary_accuracy: 0.8785 - lr: 1.0000e-05\n",
      "Epoch 594/1000\n",
      "107/113 [===========================>..] - ETA: 0s - loss: 0.0959 - binary_accuracy: 0.8792INFO:tensorflow:Assets written to: ../models/FCN/checkpoint/assets\n"
     ]
    },
    {
     "name": "stderr",
     "output_type": "stream",
     "text": [
      "INFO:tensorflow:Assets written to: ../models/FCN/checkpoint/assets\n"
     ]
    },
    {
     "name": "stdout",
     "output_type": "stream",
     "text": [
      "113/113 [==============================] - 1s 5ms/step - loss: 0.0959 - binary_accuracy: 0.8791 - val_loss: 0.0967 - val_binary_accuracy: 0.8786 - lr: 1.0000e-05\n",
      "Epoch 595/1000\n",
      "113/113 [==============================] - 0s 2ms/step - loss: 0.0957 - binary_accuracy: 0.8791 - val_loss: 0.0967 - val_binary_accuracy: 0.8785 - lr: 1.0000e-05\n",
      "Epoch 596/1000\n",
      "113/113 [==============================] - 0s 3ms/step - loss: 0.0957 - binary_accuracy: 0.8792 - val_loss: 0.0967 - val_binary_accuracy: 0.8785 - lr: 1.0000e-05\n",
      "Epoch 597/1000\n",
      "105/113 [==========================>...] - ETA: 0s - loss: 0.0955 - binary_accuracy: 0.8792INFO:tensorflow:Assets written to: ../models/FCN/checkpoint/assets\n"
     ]
    },
    {
     "name": "stderr",
     "output_type": "stream",
     "text": [
      "INFO:tensorflow:Assets written to: ../models/FCN/checkpoint/assets\n"
     ]
    },
    {
     "name": "stdout",
     "output_type": "stream",
     "text": [
      "113/113 [==============================] - 1s 5ms/step - loss: 0.0955 - binary_accuracy: 0.8791 - val_loss: 0.0967 - val_binary_accuracy: 0.8785 - lr: 1.0000e-05\n",
      "Epoch 598/1000\n",
      "108/113 [===========================>..] - ETA: 0s - loss: 0.0957 - binary_accuracy: 0.8792INFO:tensorflow:Assets written to: ../models/FCN/checkpoint/assets\n"
     ]
    },
    {
     "name": "stderr",
     "output_type": "stream",
     "text": [
      "INFO:tensorflow:Assets written to: ../models/FCN/checkpoint/assets\n"
     ]
    },
    {
     "name": "stdout",
     "output_type": "stream",
     "text": [
      "113/113 [==============================] - 1s 9ms/step - loss: 0.0956 - binary_accuracy: 0.8794 - val_loss: 0.0967 - val_binary_accuracy: 0.8785 - lr: 1.0000e-05\n",
      "Epoch 599/1000\n",
      "112/113 [============================>.] - ETA: 0s - loss: 0.0954 - binary_accuracy: 0.8797INFO:tensorflow:Assets written to: ../models/FCN/checkpoint/assets\n"
     ]
    },
    {
     "name": "stderr",
     "output_type": "stream",
     "text": [
      "INFO:tensorflow:Assets written to: ../models/FCN/checkpoint/assets\n"
     ]
    },
    {
     "name": "stdout",
     "output_type": "stream",
     "text": [
      "113/113 [==============================] - 1s 5ms/step - loss: 0.0954 - binary_accuracy: 0.8797 - val_loss: 0.0967 - val_binary_accuracy: 0.8785 - lr: 1.0000e-05\n",
      "Epoch 600/1000\n",
      "101/113 [=========================>....] - ETA: 0s - loss: 0.0956 - binary_accuracy: 0.8792INFO:tensorflow:Assets written to: ../models/FCN/checkpoint/assets\n"
     ]
    },
    {
     "name": "stderr",
     "output_type": "stream",
     "text": [
      "INFO:tensorflow:Assets written to: ../models/FCN/checkpoint/assets\n"
     ]
    },
    {
     "name": "stdout",
     "output_type": "stream",
     "text": [
      "113/113 [==============================] - 1s 5ms/step - loss: 0.0957 - binary_accuracy: 0.8793 - val_loss: 0.0967 - val_binary_accuracy: 0.8785 - lr: 1.0000e-05\n",
      "Epoch 601/1000\n",
      "105/113 [==========================>...] - ETA: 0s - loss: 0.0956 - binary_accuracy: 0.8794INFO:tensorflow:Assets written to: ../models/FCN/checkpoint/assets\n"
     ]
    },
    {
     "name": "stderr",
     "output_type": "stream",
     "text": [
      "INFO:tensorflow:Assets written to: ../models/FCN/checkpoint/assets\n"
     ]
    },
    {
     "name": "stdout",
     "output_type": "stream",
     "text": [
      "113/113 [==============================] - 1s 5ms/step - loss: 0.0956 - binary_accuracy: 0.8794 - val_loss: 0.0967 - val_binary_accuracy: 0.8786 - lr: 1.0000e-05\n",
      "Epoch 602/1000\n",
      "106/113 [===========================>..] - ETA: 0s - loss: 0.0957 - binary_accuracy: 0.8791INFO:tensorflow:Assets written to: ../models/FCN/checkpoint/assets\n"
     ]
    },
    {
     "name": "stderr",
     "output_type": "stream",
     "text": [
      "INFO:tensorflow:Assets written to: ../models/FCN/checkpoint/assets\n"
     ]
    },
    {
     "name": "stdout",
     "output_type": "stream",
     "text": [
      "113/113 [==============================] - 1s 5ms/step - loss: 0.0956 - binary_accuracy: 0.8792 - val_loss: 0.0967 - val_binary_accuracy: 0.8786 - lr: 1.0000e-05\n",
      "Epoch 603/1000\n",
      "107/113 [===========================>..] - ETA: 0s - loss: 0.0955 - binary_accuracy: 0.8793INFO:tensorflow:Assets written to: ../models/FCN/checkpoint/assets\n"
     ]
    },
    {
     "name": "stderr",
     "output_type": "stream",
     "text": [
      "INFO:tensorflow:Assets written to: ../models/FCN/checkpoint/assets\n"
     ]
    },
    {
     "name": "stdout",
     "output_type": "stream",
     "text": [
      "113/113 [==============================] - 1s 5ms/step - loss: 0.0954 - binary_accuracy: 0.8793 - val_loss: 0.0967 - val_binary_accuracy: 0.8786 - lr: 1.0000e-05\n",
      "Epoch 604/1000\n",
      "105/113 [==========================>...] - ETA: 0s - loss: 0.0956 - binary_accuracy: 0.8789INFO:tensorflow:Assets written to: ../models/FCN/checkpoint/assets\n"
     ]
    },
    {
     "name": "stderr",
     "output_type": "stream",
     "text": [
      "INFO:tensorflow:Assets written to: ../models/FCN/checkpoint/assets\n"
     ]
    },
    {
     "name": "stdout",
     "output_type": "stream",
     "text": [
      "113/113 [==============================] - 1s 5ms/step - loss: 0.0955 - binary_accuracy: 0.8790 - val_loss: 0.0967 - val_binary_accuracy: 0.8785 - lr: 1.0000e-05\n",
      "Epoch 605/1000\n",
      "111/113 [============================>.] - ETA: 0s - loss: 0.0956 - binary_accuracy: 0.8790INFO:tensorflow:Assets written to: ../models/FCN/checkpoint/assets\n"
     ]
    },
    {
     "name": "stderr",
     "output_type": "stream",
     "text": [
      "INFO:tensorflow:Assets written to: ../models/FCN/checkpoint/assets\n"
     ]
    },
    {
     "name": "stdout",
     "output_type": "stream",
     "text": [
      "113/113 [==============================] - 1s 5ms/step - loss: 0.0957 - binary_accuracy: 0.8788 - val_loss: 0.0966 - val_binary_accuracy: 0.8785 - lr: 1.0000e-05\n",
      "Epoch 606/1000\n",
      "105/113 [==========================>...] - ETA: 0s - loss: 0.0952 - binary_accuracy: 0.8795INFO:tensorflow:Assets written to: ../models/FCN/checkpoint/assets\n"
     ]
    },
    {
     "name": "stderr",
     "output_type": "stream",
     "text": [
      "INFO:tensorflow:Assets written to: ../models/FCN/checkpoint/assets\n"
     ]
    },
    {
     "name": "stdout",
     "output_type": "stream",
     "text": [
      "113/113 [==============================] - 1s 5ms/step - loss: 0.0953 - binary_accuracy: 0.8794 - val_loss: 0.0966 - val_binary_accuracy: 0.8785 - lr: 1.0000e-05\n",
      "Epoch 607/1000\n",
      "107/113 [===========================>..] - ETA: 0s - loss: 0.0954 - binary_accuracy: 0.8794INFO:tensorflow:Assets written to: ../models/FCN/checkpoint/assets\n"
     ]
    },
    {
     "name": "stderr",
     "output_type": "stream",
     "text": [
      "INFO:tensorflow:Assets written to: ../models/FCN/checkpoint/assets\n"
     ]
    },
    {
     "name": "stdout",
     "output_type": "stream",
     "text": [
      "113/113 [==============================] - 1s 5ms/step - loss: 0.0954 - binary_accuracy: 0.8793 - val_loss: 0.0966 - val_binary_accuracy: 0.8784 - lr: 1.0000e-05\n",
      "Epoch 608/1000\n",
      "113/113 [==============================] - 0s 2ms/step - loss: 0.0954 - binary_accuracy: 0.8791 - val_loss: 0.0966 - val_binary_accuracy: 0.8785 - lr: 1.0000e-05\n",
      "Epoch 609/1000\n",
      "109/113 [===========================>..] - ETA: 0s - loss: 0.0952 - binary_accuracy: 0.8792INFO:tensorflow:Assets written to: ../models/FCN/checkpoint/assets\n"
     ]
    },
    {
     "name": "stderr",
     "output_type": "stream",
     "text": [
      "INFO:tensorflow:Assets written to: ../models/FCN/checkpoint/assets\n"
     ]
    },
    {
     "name": "stdout",
     "output_type": "stream",
     "text": [
      "113/113 [==============================] - 1s 5ms/step - loss: 0.0952 - binary_accuracy: 0.8792 - val_loss: 0.0966 - val_binary_accuracy: 0.8785 - lr: 1.0000e-05\n",
      "Epoch 610/1000\n",
      "107/113 [===========================>..] - ETA: 0s - loss: 0.0955 - binary_accuracy: 0.8798INFO:tensorflow:Assets written to: ../models/FCN/checkpoint/assets\n"
     ]
    },
    {
     "name": "stderr",
     "output_type": "stream",
     "text": [
      "INFO:tensorflow:Assets written to: ../models/FCN/checkpoint/assets\n"
     ]
    },
    {
     "name": "stdout",
     "output_type": "stream",
     "text": [
      "113/113 [==============================] - 1s 5ms/step - loss: 0.0955 - binary_accuracy: 0.8796 - val_loss: 0.0966 - val_binary_accuracy: 0.8784 - lr: 1.0000e-05\n",
      "Epoch 611/1000\n",
      "107/113 [===========================>..] - ETA: 0s - loss: 0.0955 - binary_accuracy: 0.8792INFO:tensorflow:Assets written to: ../models/FCN/checkpoint/assets\n"
     ]
    },
    {
     "name": "stderr",
     "output_type": "stream",
     "text": [
      "INFO:tensorflow:Assets written to: ../models/FCN/checkpoint/assets\n"
     ]
    },
    {
     "name": "stdout",
     "output_type": "stream",
     "text": [
      "113/113 [==============================] - 1s 5ms/step - loss: 0.0956 - binary_accuracy: 0.8791 - val_loss: 0.0966 - val_binary_accuracy: 0.8784 - lr: 1.0000e-05\n",
      "Epoch 612/1000\n",
      "108/113 [===========================>..] - ETA: 0s - loss: 0.0959 - binary_accuracy: 0.8790INFO:tensorflow:Assets written to: ../models/FCN/checkpoint/assets\n"
     ]
    },
    {
     "name": "stderr",
     "output_type": "stream",
     "text": [
      "INFO:tensorflow:Assets written to: ../models/FCN/checkpoint/assets\n"
     ]
    },
    {
     "name": "stdout",
     "output_type": "stream",
     "text": [
      "113/113 [==============================] - 1s 5ms/step - loss: 0.0959 - binary_accuracy: 0.8789 - val_loss: 0.0966 - val_binary_accuracy: 0.8786 - lr: 1.0000e-05\n",
      "Epoch 613/1000\n",
      "108/113 [===========================>..] - ETA: 0s - loss: 0.0954 - binary_accuracy: 0.8791INFO:tensorflow:Assets written to: ../models/FCN/checkpoint/assets\n"
     ]
    },
    {
     "name": "stderr",
     "output_type": "stream",
     "text": [
      "INFO:tensorflow:Assets written to: ../models/FCN/checkpoint/assets\n"
     ]
    },
    {
     "name": "stdout",
     "output_type": "stream",
     "text": [
      "113/113 [==============================] - 1s 5ms/step - loss: 0.0955 - binary_accuracy: 0.8790 - val_loss: 0.0966 - val_binary_accuracy: 0.8785 - lr: 1.0000e-05\n",
      "Epoch 614/1000\n",
      " 88/113 [======================>.......] - ETA: 0s - loss: 0.0954 - binary_accuracy: 0.8790INFO:tensorflow:Assets written to: ../models/FCN/checkpoint/assets\n"
     ]
    },
    {
     "name": "stderr",
     "output_type": "stream",
     "text": [
      "INFO:tensorflow:Assets written to: ../models/FCN/checkpoint/assets\n"
     ]
    },
    {
     "name": "stdout",
     "output_type": "stream",
     "text": [
      "113/113 [==============================] - 1s 5ms/step - loss: 0.0954 - binary_accuracy: 0.8792 - val_loss: 0.0966 - val_binary_accuracy: 0.8785 - lr: 1.0000e-05\n",
      "Epoch 615/1000\n",
      "110/113 [============================>.] - ETA: 0s - loss: 0.0953 - binary_accuracy: 0.8796INFO:tensorflow:Assets written to: ../models/FCN/checkpoint/assets\n"
     ]
    },
    {
     "name": "stderr",
     "output_type": "stream",
     "text": [
      "INFO:tensorflow:Assets written to: ../models/FCN/checkpoint/assets\n"
     ]
    },
    {
     "name": "stdout",
     "output_type": "stream",
     "text": [
      "113/113 [==============================] - 1s 4ms/step - loss: 0.0953 - binary_accuracy: 0.8796 - val_loss: 0.0966 - val_binary_accuracy: 0.8785 - lr: 1.0000e-05\n",
      "Epoch 616/1000\n",
      "113/113 [==============================] - 0s 2ms/step - loss: 0.0955 - binary_accuracy: 0.8793 - val_loss: 0.0966 - val_binary_accuracy: 0.8785 - lr: 1.0000e-05\n",
      "Epoch 617/1000\n",
      " 90/113 [======================>.......] - ETA: 0s - loss: 0.0953 - binary_accuracy: 0.8795INFO:tensorflow:Assets written to: ../models/FCN/checkpoint/assets\n"
     ]
    },
    {
     "name": "stderr",
     "output_type": "stream",
     "text": [
      "INFO:tensorflow:Assets written to: ../models/FCN/checkpoint/assets\n"
     ]
    },
    {
     "name": "stdout",
     "output_type": "stream",
     "text": [
      "113/113 [==============================] - 0s 4ms/step - loss: 0.0955 - binary_accuracy: 0.8793 - val_loss: 0.0966 - val_binary_accuracy: 0.8785 - lr: 1.0000e-05\n",
      "Epoch 618/1000\n",
      " 89/113 [======================>.......] - ETA: 0s - loss: 0.0954 - binary_accuracy: 0.8789INFO:tensorflow:Assets written to: ../models/FCN/checkpoint/assets\n"
     ]
    },
    {
     "name": "stderr",
     "output_type": "stream",
     "text": [
      "INFO:tensorflow:Assets written to: ../models/FCN/checkpoint/assets\n"
     ]
    },
    {
     "name": "stdout",
     "output_type": "stream",
     "text": [
      "113/113 [==============================] - 0s 4ms/step - loss: 0.0955 - binary_accuracy: 0.8788 - val_loss: 0.0966 - val_binary_accuracy: 0.8785 - lr: 1.0000e-05\n",
      "Epoch 619/1000\n",
      " 88/113 [======================>.......] - ETA: 0s - loss: 0.0956 - binary_accuracy: 0.8791INFO:tensorflow:Assets written to: ../models/FCN/checkpoint/assets\n"
     ]
    },
    {
     "name": "stderr",
     "output_type": "stream",
     "text": [
      "INFO:tensorflow:Assets written to: ../models/FCN/checkpoint/assets\n"
     ]
    },
    {
     "name": "stdout",
     "output_type": "stream",
     "text": [
      "113/113 [==============================] - 0s 4ms/step - loss: 0.0956 - binary_accuracy: 0.8791 - val_loss: 0.0966 - val_binary_accuracy: 0.8785 - lr: 1.0000e-05\n",
      "Epoch 620/1000\n",
      " 88/113 [======================>.......] - ETA: 0s - loss: 0.0954 - binary_accuracy: 0.8799INFO:tensorflow:Assets written to: ../models/FCN/checkpoint/assets\n"
     ]
    },
    {
     "name": "stderr",
     "output_type": "stream",
     "text": [
      "INFO:tensorflow:Assets written to: ../models/FCN/checkpoint/assets\n"
     ]
    },
    {
     "name": "stdout",
     "output_type": "stream",
     "text": [
      "113/113 [==============================] - 1s 8ms/step - loss: 0.0954 - binary_accuracy: 0.8796 - val_loss: 0.0966 - val_binary_accuracy: 0.8784 - lr: 1.0000e-05\n",
      "Epoch 621/1000\n",
      "113/113 [==============================] - 0s 2ms/step - loss: 0.0953 - binary_accuracy: 0.8794 - val_loss: 0.0966 - val_binary_accuracy: 0.8784 - lr: 1.0000e-05\n",
      "Epoch 622/1000\n",
      "113/113 [==============================] - 0s 2ms/step - loss: 0.0955 - binary_accuracy: 0.8790 - val_loss: 0.0966 - val_binary_accuracy: 0.8784 - lr: 1.0000e-05\n",
      "Epoch 623/1000\n",
      " 88/113 [======================>.......] - ETA: 0s - loss: 0.0956 - binary_accuracy: 0.8789INFO:tensorflow:Assets written to: ../models/FCN/checkpoint/assets\n"
     ]
    },
    {
     "name": "stderr",
     "output_type": "stream",
     "text": [
      "INFO:tensorflow:Assets written to: ../models/FCN/checkpoint/assets\n"
     ]
    },
    {
     "name": "stdout",
     "output_type": "stream",
     "text": [
      "113/113 [==============================] - 0s 4ms/step - loss: 0.0953 - binary_accuracy: 0.8789 - val_loss: 0.0966 - val_binary_accuracy: 0.8784 - lr: 1.0000e-05\n",
      "Epoch 624/1000\n",
      " 88/113 [======================>.......] - ETA: 0s - loss: 0.0952 - binary_accuracy: 0.8796INFO:tensorflow:Assets written to: ../models/FCN/checkpoint/assets\n"
     ]
    },
    {
     "name": "stderr",
     "output_type": "stream",
     "text": [
      "INFO:tensorflow:Assets written to: ../models/FCN/checkpoint/assets\n"
     ]
    },
    {
     "name": "stdout",
     "output_type": "stream",
     "text": [
      "113/113 [==============================] - 0s 4ms/step - loss: 0.0952 - binary_accuracy: 0.8794 - val_loss: 0.0965 - val_binary_accuracy: 0.8784 - lr: 1.0000e-05\n",
      "Epoch 625/1000\n",
      " 98/113 [=========================>....] - ETA: 0s - loss: 0.0951 - binary_accuracy: 0.8802INFO:tensorflow:Assets written to: ../models/FCN/checkpoint/assets\n"
     ]
    },
    {
     "name": "stderr",
     "output_type": "stream",
     "text": [
      "INFO:tensorflow:Assets written to: ../models/FCN/checkpoint/assets\n"
     ]
    },
    {
     "name": "stdout",
     "output_type": "stream",
     "text": [
      "113/113 [==============================] - 1s 5ms/step - loss: 0.0952 - binary_accuracy: 0.8799 - val_loss: 0.0965 - val_binary_accuracy: 0.8784 - lr: 1.0000e-05\n",
      "Epoch 626/1000\n",
      "113/113 [==============================] - 0s 2ms/step - loss: 0.0952 - binary_accuracy: 0.8796 - val_loss: 0.0965 - val_binary_accuracy: 0.8784 - lr: 1.0000e-05\n",
      "Epoch 627/1000\n",
      " 89/113 [======================>.......] - ETA: 0s - loss: 0.0955 - binary_accuracy: 0.8788INFO:tensorflow:Assets written to: ../models/FCN/checkpoint/assets\n"
     ]
    },
    {
     "name": "stderr",
     "output_type": "stream",
     "text": [
      "INFO:tensorflow:Assets written to: ../models/FCN/checkpoint/assets\n"
     ]
    },
    {
     "name": "stdout",
     "output_type": "stream",
     "text": [
      "113/113 [==============================] - 0s 4ms/step - loss: 0.0951 - binary_accuracy: 0.8794 - val_loss: 0.0965 - val_binary_accuracy: 0.8785 - lr: 1.0000e-05\n",
      "Epoch 628/1000\n",
      " 88/113 [======================>.......] - ETA: 0s - loss: 0.0954 - binary_accuracy: 0.8790INFO:tensorflow:Assets written to: ../models/FCN/checkpoint/assets\n"
     ]
    },
    {
     "name": "stderr",
     "output_type": "stream",
     "text": [
      "INFO:tensorflow:Assets written to: ../models/FCN/checkpoint/assets\n"
     ]
    },
    {
     "name": "stdout",
     "output_type": "stream",
     "text": [
      "113/113 [==============================] - 0s 4ms/step - loss: 0.0953 - binary_accuracy: 0.8789 - val_loss: 0.0965 - val_binary_accuracy: 0.8784 - lr: 1.0000e-05\n",
      "Epoch 629/1000\n",
      " 86/113 [=====================>........] - ETA: 0s - loss: 0.0950 - binary_accuracy: 0.8802INFO:tensorflow:Assets written to: ../models/FCN/checkpoint/assets\n"
     ]
    },
    {
     "name": "stderr",
     "output_type": "stream",
     "text": [
      "INFO:tensorflow:Assets written to: ../models/FCN/checkpoint/assets\n"
     ]
    },
    {
     "name": "stdout",
     "output_type": "stream",
     "text": [
      "113/113 [==============================] - 0s 4ms/step - loss: 0.0950 - binary_accuracy: 0.8798 - val_loss: 0.0965 - val_binary_accuracy: 0.8785 - lr: 1.0000e-05\n",
      "Epoch 630/1000\n",
      " 88/113 [======================>.......] - ETA: 0s - loss: 0.0957 - binary_accuracy: 0.8793INFO:tensorflow:Assets written to: ../models/FCN/checkpoint/assets\n"
     ]
    },
    {
     "name": "stderr",
     "output_type": "stream",
     "text": [
      "INFO:tensorflow:Assets written to: ../models/FCN/checkpoint/assets\n"
     ]
    },
    {
     "name": "stdout",
     "output_type": "stream",
     "text": [
      "113/113 [==============================] - 0s 4ms/step - loss: 0.0955 - binary_accuracy: 0.8797 - val_loss: 0.0965 - val_binary_accuracy: 0.8785 - lr: 1.0000e-05\n",
      "Epoch 631/1000\n",
      " 87/113 [======================>.......] - ETA: 0s - loss: 0.0954 - binary_accuracy: 0.8789INFO:tensorflow:Assets written to: ../models/FCN/checkpoint/assets\n"
     ]
    },
    {
     "name": "stderr",
     "output_type": "stream",
     "text": [
      "INFO:tensorflow:Assets written to: ../models/FCN/checkpoint/assets\n"
     ]
    },
    {
     "name": "stdout",
     "output_type": "stream",
     "text": [
      "113/113 [==============================] - 0s 4ms/step - loss: 0.0953 - binary_accuracy: 0.8792 - val_loss: 0.0965 - val_binary_accuracy: 0.8785 - lr: 1.0000e-05\n",
      "Epoch 632/1000\n",
      " 88/113 [======================>.......] - ETA: 0s - loss: 0.0951 - binary_accuracy: 0.8792INFO:tensorflow:Assets written to: ../models/FCN/checkpoint/assets\n"
     ]
    },
    {
     "name": "stderr",
     "output_type": "stream",
     "text": [
      "INFO:tensorflow:Assets written to: ../models/FCN/checkpoint/assets\n"
     ]
    },
    {
     "name": "stdout",
     "output_type": "stream",
     "text": [
      "113/113 [==============================] - 0s 4ms/step - loss: 0.0951 - binary_accuracy: 0.8793 - val_loss: 0.0965 - val_binary_accuracy: 0.8785 - lr: 1.0000e-05\n",
      "Epoch 633/1000\n",
      " 88/113 [======================>.......] - ETA: 0s - loss: 0.0953 - binary_accuracy: 0.8792INFO:tensorflow:Assets written to: ../models/FCN/checkpoint/assets\n"
     ]
    },
    {
     "name": "stderr",
     "output_type": "stream",
     "text": [
      "INFO:tensorflow:Assets written to: ../models/FCN/checkpoint/assets\n"
     ]
    },
    {
     "name": "stdout",
     "output_type": "stream",
     "text": [
      "113/113 [==============================] - 0s 4ms/step - loss: 0.0952 - binary_accuracy: 0.8794 - val_loss: 0.0965 - val_binary_accuracy: 0.8785 - lr: 1.0000e-05\n",
      "Epoch 634/1000\n",
      "102/113 [==========================>...] - ETA: 0s - loss: 0.0953 - binary_accuracy: 0.8796INFO:tensorflow:Assets written to: ../models/FCN/checkpoint/assets\n"
     ]
    },
    {
     "name": "stderr",
     "output_type": "stream",
     "text": [
      "INFO:tensorflow:Assets written to: ../models/FCN/checkpoint/assets\n"
     ]
    },
    {
     "name": "stdout",
     "output_type": "stream",
     "text": [
      "113/113 [==============================] - 1s 5ms/step - loss: 0.0954 - binary_accuracy: 0.8795 - val_loss: 0.0965 - val_binary_accuracy: 0.8784 - lr: 1.0000e-05\n",
      "Epoch 635/1000\n",
      " 88/113 [======================>.......] - ETA: 0s - loss: 0.0949 - binary_accuracy: 0.8795INFO:tensorflow:Assets written to: ../models/FCN/checkpoint/assets\n"
     ]
    },
    {
     "name": "stderr",
     "output_type": "stream",
     "text": [
      "INFO:tensorflow:Assets written to: ../models/FCN/checkpoint/assets\n"
     ]
    },
    {
     "name": "stdout",
     "output_type": "stream",
     "text": [
      "113/113 [==============================] - 0s 4ms/step - loss: 0.0952 - binary_accuracy: 0.8793 - val_loss: 0.0965 - val_binary_accuracy: 0.8785 - lr: 1.0000e-05\n",
      "Epoch 636/1000\n",
      " 87/113 [======================>.......] - ETA: 0s - loss: 0.0947 - binary_accuracy: 0.8797INFO:tensorflow:Assets written to: ../models/FCN/checkpoint/assets\n"
     ]
    },
    {
     "name": "stderr",
     "output_type": "stream",
     "text": [
      "INFO:tensorflow:Assets written to: ../models/FCN/checkpoint/assets\n"
     ]
    },
    {
     "name": "stdout",
     "output_type": "stream",
     "text": [
      "113/113 [==============================] - 0s 4ms/step - loss: 0.0950 - binary_accuracy: 0.8797 - val_loss: 0.0965 - val_binary_accuracy: 0.8783 - lr: 1.0000e-05\n",
      "Epoch 637/1000\n",
      " 88/113 [======================>.......] - ETA: 0s - loss: 0.0952 - binary_accuracy: 0.8797INFO:tensorflow:Assets written to: ../models/FCN/checkpoint/assets\n"
     ]
    },
    {
     "name": "stderr",
     "output_type": "stream",
     "text": [
      "INFO:tensorflow:Assets written to: ../models/FCN/checkpoint/assets\n"
     ]
    },
    {
     "name": "stdout",
     "output_type": "stream",
     "text": [
      "113/113 [==============================] - 0s 4ms/step - loss: 0.0951 - binary_accuracy: 0.8799 - val_loss: 0.0965 - val_binary_accuracy: 0.8784 - lr: 1.0000e-05\n",
      "Epoch 638/1000\n",
      " 89/113 [======================>.......] - ETA: 0s - loss: 0.0947 - binary_accuracy: 0.8798INFO:tensorflow:Assets written to: ../models/FCN/checkpoint/assets\n"
     ]
    },
    {
     "name": "stderr",
     "output_type": "stream",
     "text": [
      "INFO:tensorflow:Assets written to: ../models/FCN/checkpoint/assets\n"
     ]
    },
    {
     "name": "stdout",
     "output_type": "stream",
     "text": [
      "113/113 [==============================] - 0s 4ms/step - loss: 0.0950 - binary_accuracy: 0.8795 - val_loss: 0.0965 - val_binary_accuracy: 0.8784 - lr: 1.0000e-05\n",
      "Epoch 639/1000\n",
      " 89/113 [======================>.......] - ETA: 0s - loss: 0.0952 - binary_accuracy: 0.8795INFO:tensorflow:Assets written to: ../models/FCN/checkpoint/assets\n"
     ]
    },
    {
     "name": "stderr",
     "output_type": "stream",
     "text": [
      "INFO:tensorflow:Assets written to: ../models/FCN/checkpoint/assets\n"
     ]
    },
    {
     "name": "stdout",
     "output_type": "stream",
     "text": [
      "113/113 [==============================] - 0s 4ms/step - loss: 0.0952 - binary_accuracy: 0.8795 - val_loss: 0.0965 - val_binary_accuracy: 0.8784 - lr: 1.0000e-05\n",
      "Epoch 640/1000\n",
      " 87/113 [======================>.......] - ETA: 0s - loss: 0.0950 - binary_accuracy: 0.8802INFO:tensorflow:Assets written to: ../models/FCN/checkpoint/assets\n"
     ]
    },
    {
     "name": "stderr",
     "output_type": "stream",
     "text": [
      "INFO:tensorflow:Assets written to: ../models/FCN/checkpoint/assets\n"
     ]
    },
    {
     "name": "stdout",
     "output_type": "stream",
     "text": [
      "113/113 [==============================] - 0s 4ms/step - loss: 0.0952 - binary_accuracy: 0.8797 - val_loss: 0.0965 - val_binary_accuracy: 0.8785 - lr: 1.0000e-05\n",
      "Epoch 641/1000\n",
      "113/113 [==============================] - 0s 2ms/step - loss: 0.0952 - binary_accuracy: 0.8791 - val_loss: 0.0965 - val_binary_accuracy: 0.8785 - lr: 1.0000e-05\n",
      "Epoch 642/1000\n",
      " 89/113 [======================>.......] - ETA: 0s - loss: 0.0945 - binary_accuracy: 0.8802INFO:tensorflow:Assets written to: ../models/FCN/checkpoint/assets\n"
     ]
    },
    {
     "name": "stderr",
     "output_type": "stream",
     "text": [
      "INFO:tensorflow:Assets written to: ../models/FCN/checkpoint/assets\n"
     ]
    },
    {
     "name": "stdout",
     "output_type": "stream",
     "text": [
      "113/113 [==============================] - 0s 4ms/step - loss: 0.0947 - binary_accuracy: 0.8800 - val_loss: 0.0964 - val_binary_accuracy: 0.8784 - lr: 1.0000e-05\n",
      "Epoch 643/1000\n",
      "113/113 [==============================] - 0s 2ms/step - loss: 0.0950 - binary_accuracy: 0.8796 - val_loss: 0.0964 - val_binary_accuracy: 0.8784 - lr: 1.0000e-05\n",
      "Epoch 644/1000\n",
      " 88/113 [======================>.......] - ETA: 0s - loss: 0.0951 - binary_accuracy: 0.8791INFO:tensorflow:Assets written to: ../models/FCN/checkpoint/assets\n"
     ]
    },
    {
     "name": "stderr",
     "output_type": "stream",
     "text": [
      "INFO:tensorflow:Assets written to: ../models/FCN/checkpoint/assets\n"
     ]
    },
    {
     "name": "stdout",
     "output_type": "stream",
     "text": [
      "113/113 [==============================] - 0s 4ms/step - loss: 0.0950 - binary_accuracy: 0.8795 - val_loss: 0.0964 - val_binary_accuracy: 0.8784 - lr: 1.0000e-05\n",
      "Epoch 645/1000\n",
      "101/113 [=========================>....] - ETA: 0s - loss: 0.0951 - binary_accuracy: 0.8793INFO:tensorflow:Assets written to: ../models/FCN/checkpoint/assets\n"
     ]
    },
    {
     "name": "stderr",
     "output_type": "stream",
     "text": [
      "INFO:tensorflow:Assets written to: ../models/FCN/checkpoint/assets\n"
     ]
    },
    {
     "name": "stdout",
     "output_type": "stream",
     "text": [
      "113/113 [==============================] - 1s 5ms/step - loss: 0.0950 - binary_accuracy: 0.8795 - val_loss: 0.0964 - val_binary_accuracy: 0.8785 - lr: 1.0000e-05\n",
      "Epoch 646/1000\n",
      " 86/113 [=====================>........] - ETA: 0s - loss: 0.0948 - binary_accuracy: 0.8797INFO:tensorflow:Assets written to: ../models/FCN/checkpoint/assets\n"
     ]
    },
    {
     "name": "stderr",
     "output_type": "stream",
     "text": [
      "INFO:tensorflow:Assets written to: ../models/FCN/checkpoint/assets\n"
     ]
    },
    {
     "name": "stdout",
     "output_type": "stream",
     "text": [
      "113/113 [==============================] - 1s 8ms/step - loss: 0.0948 - binary_accuracy: 0.8795 - val_loss: 0.0964 - val_binary_accuracy: 0.8783 - lr: 1.0000e-05\n",
      "Epoch 647/1000\n",
      " 90/113 [======================>.......] - ETA: 0s - loss: 0.0949 - binary_accuracy: 0.8798INFO:tensorflow:Assets written to: ../models/FCN/checkpoint/assets\n"
     ]
    },
    {
     "name": "stderr",
     "output_type": "stream",
     "text": [
      "INFO:tensorflow:Assets written to: ../models/FCN/checkpoint/assets\n"
     ]
    },
    {
     "name": "stdout",
     "output_type": "stream",
     "text": [
      "113/113 [==============================] - 0s 4ms/step - loss: 0.0949 - binary_accuracy: 0.8799 - val_loss: 0.0964 - val_binary_accuracy: 0.8784 - lr: 1.0000e-05\n",
      "Epoch 648/1000\n",
      "113/113 [==============================] - 0s 2ms/step - loss: 0.0949 - binary_accuracy: 0.8797 - val_loss: 0.0964 - val_binary_accuracy: 0.8784 - lr: 1.0000e-05\n",
      "Epoch 649/1000\n",
      " 88/113 [======================>.......] - ETA: 0s - loss: 0.0943 - binary_accuracy: 0.8803INFO:tensorflow:Assets written to: ../models/FCN/checkpoint/assets\n"
     ]
    },
    {
     "name": "stderr",
     "output_type": "stream",
     "text": [
      "INFO:tensorflow:Assets written to: ../models/FCN/checkpoint/assets\n"
     ]
    },
    {
     "name": "stdout",
     "output_type": "stream",
     "text": [
      "113/113 [==============================] - 0s 4ms/step - loss: 0.0945 - binary_accuracy: 0.8798 - val_loss: 0.0964 - val_binary_accuracy: 0.8783 - lr: 1.0000e-05\n",
      "Epoch 650/1000\n",
      " 87/113 [======================>.......] - ETA: 0s - loss: 0.0951 - binary_accuracy: 0.8796INFO:tensorflow:Assets written to: ../models/FCN/checkpoint/assets\n"
     ]
    },
    {
     "name": "stderr",
     "output_type": "stream",
     "text": [
      "INFO:tensorflow:Assets written to: ../models/FCN/checkpoint/assets\n"
     ]
    },
    {
     "name": "stdout",
     "output_type": "stream",
     "text": [
      "113/113 [==============================] - 0s 4ms/step - loss: 0.0952 - binary_accuracy: 0.8794 - val_loss: 0.0964 - val_binary_accuracy: 0.8784 - lr: 1.0000e-05\n",
      "Epoch 651/1000\n",
      " 88/113 [======================>.......] - ETA: 0s - loss: 0.0951 - binary_accuracy: 0.8796INFO:tensorflow:Assets written to: ../models/FCN/checkpoint/assets\n"
     ]
    },
    {
     "name": "stderr",
     "output_type": "stream",
     "text": [
      "INFO:tensorflow:Assets written to: ../models/FCN/checkpoint/assets\n"
     ]
    },
    {
     "name": "stdout",
     "output_type": "stream",
     "text": [
      "113/113 [==============================] - 0s 4ms/step - loss: 0.0949 - binary_accuracy: 0.8796 - val_loss: 0.0964 - val_binary_accuracy: 0.8784 - lr: 1.0000e-05\n",
      "Epoch 652/1000\n",
      " 87/113 [======================>.......] - ETA: 0s - loss: 0.0948 - binary_accuracy: 0.8796INFO:tensorflow:Assets written to: ../models/FCN/checkpoint/assets\n"
     ]
    },
    {
     "name": "stderr",
     "output_type": "stream",
     "text": [
      "INFO:tensorflow:Assets written to: ../models/FCN/checkpoint/assets\n"
     ]
    },
    {
     "name": "stdout",
     "output_type": "stream",
     "text": [
      "113/113 [==============================] - 0s 4ms/step - loss: 0.0950 - binary_accuracy: 0.8794 - val_loss: 0.0964 - val_binary_accuracy: 0.8783 - lr: 1.0000e-05\n",
      "Epoch 653/1000\n",
      " 89/113 [======================>.......] - ETA: 0s - loss: 0.0949 - binary_accuracy: 0.8795INFO:tensorflow:Assets written to: ../models/FCN/checkpoint/assets\n"
     ]
    },
    {
     "name": "stderr",
     "output_type": "stream",
     "text": [
      "INFO:tensorflow:Assets written to: ../models/FCN/checkpoint/assets\n"
     ]
    },
    {
     "name": "stdout",
     "output_type": "stream",
     "text": [
      "113/113 [==============================] - 0s 4ms/step - loss: 0.0948 - binary_accuracy: 0.8797 - val_loss: 0.0964 - val_binary_accuracy: 0.8784 - lr: 1.0000e-05\n",
      "Epoch 654/1000\n",
      "102/113 [==========================>...] - ETA: 0s - loss: 0.0948 - binary_accuracy: 0.8798INFO:tensorflow:Assets written to: ../models/FCN/checkpoint/assets\n"
     ]
    },
    {
     "name": "stderr",
     "output_type": "stream",
     "text": [
      "INFO:tensorflow:Assets written to: ../models/FCN/checkpoint/assets\n"
     ]
    },
    {
     "name": "stdout",
     "output_type": "stream",
     "text": [
      "113/113 [==============================] - 1s 5ms/step - loss: 0.0949 - binary_accuracy: 0.8797 - val_loss: 0.0964 - val_binary_accuracy: 0.8784 - lr: 1.0000e-05\n",
      "Epoch 655/1000\n",
      "113/113 [==============================] - 0s 2ms/step - loss: 0.0948 - binary_accuracy: 0.8799 - val_loss: 0.0964 - val_binary_accuracy: 0.8784 - lr: 1.0000e-05\n",
      "Epoch 656/1000\n",
      " 89/113 [======================>.......] - ETA: 0s - loss: 0.0949 - binary_accuracy: 0.8797INFO:tensorflow:Assets written to: ../models/FCN/checkpoint/assets\n"
     ]
    },
    {
     "name": "stderr",
     "output_type": "stream",
     "text": [
      "INFO:tensorflow:Assets written to: ../models/FCN/checkpoint/assets\n"
     ]
    },
    {
     "name": "stdout",
     "output_type": "stream",
     "text": [
      "113/113 [==============================] - 0s 4ms/step - loss: 0.0946 - binary_accuracy: 0.8799 - val_loss: 0.0964 - val_binary_accuracy: 0.8783 - lr: 1.0000e-05\n",
      "Epoch 657/1000\n",
      " 88/113 [======================>.......] - ETA: 0s - loss: 0.0954 - binary_accuracy: 0.8796INFO:tensorflow:Assets written to: ../models/FCN/checkpoint/assets\n"
     ]
    },
    {
     "name": "stderr",
     "output_type": "stream",
     "text": [
      "INFO:tensorflow:Assets written to: ../models/FCN/checkpoint/assets\n"
     ]
    },
    {
     "name": "stdout",
     "output_type": "stream",
     "text": [
      "113/113 [==============================] - 0s 4ms/step - loss: 0.0951 - binary_accuracy: 0.8799 - val_loss: 0.0964 - val_binary_accuracy: 0.8784 - lr: 1.0000e-05\n",
      "Epoch 658/1000\n",
      " 87/113 [======================>.......] - ETA: 0s - loss: 0.0945 - binary_accuracy: 0.8803INFO:tensorflow:Assets written to: ../models/FCN/checkpoint/assets\n"
     ]
    },
    {
     "name": "stderr",
     "output_type": "stream",
     "text": [
      "INFO:tensorflow:Assets written to: ../models/FCN/checkpoint/assets\n"
     ]
    },
    {
     "name": "stdout",
     "output_type": "stream",
     "text": [
      "113/113 [==============================] - 0s 4ms/step - loss: 0.0947 - binary_accuracy: 0.8798 - val_loss: 0.0964 - val_binary_accuracy: 0.8784 - lr: 1.0000e-05\n",
      "Epoch 659/1000\n",
      "113/113 [==============================] - 0s 2ms/step - loss: 0.0947 - binary_accuracy: 0.8802 - val_loss: 0.0964 - val_binary_accuracy: 0.8784 - lr: 1.0000e-05\n",
      "Epoch 660/1000\n",
      " 88/113 [======================>.......] - ETA: 0s - loss: 0.0948 - binary_accuracy: 0.8796INFO:tensorflow:Assets written to: ../models/FCN/checkpoint/assets\n"
     ]
    },
    {
     "name": "stderr",
     "output_type": "stream",
     "text": [
      "INFO:tensorflow:Assets written to: ../models/FCN/checkpoint/assets\n"
     ]
    },
    {
     "name": "stdout",
     "output_type": "stream",
     "text": [
      "113/113 [==============================] - 0s 4ms/step - loss: 0.0948 - binary_accuracy: 0.8798 - val_loss: 0.0964 - val_binary_accuracy: 0.8784 - lr: 1.0000e-05\n",
      "Epoch 661/1000\n",
      " 89/113 [======================>.......] - ETA: 0s - loss: 0.0947 - binary_accuracy: 0.8797INFO:tensorflow:Assets written to: ../models/FCN/checkpoint/assets\n"
     ]
    },
    {
     "name": "stderr",
     "output_type": "stream",
     "text": [
      "INFO:tensorflow:Assets written to: ../models/FCN/checkpoint/assets\n"
     ]
    },
    {
     "name": "stdout",
     "output_type": "stream",
     "text": [
      "113/113 [==============================] - 0s 4ms/step - loss: 0.0948 - binary_accuracy: 0.8797 - val_loss: 0.0963 - val_binary_accuracy: 0.8783 - lr: 1.0000e-05\n",
      "Epoch 662/1000\n",
      "113/113 [==============================] - 0s 2ms/step - loss: 0.0946 - binary_accuracy: 0.8798 - val_loss: 0.0964 - val_binary_accuracy: 0.8783 - lr: 1.0000e-05\n",
      "Epoch 663/1000\n",
      "113/113 [==============================] - 0s 2ms/step - loss: 0.0948 - binary_accuracy: 0.8797 - val_loss: 0.0964 - val_binary_accuracy: 0.8783 - lr: 1.0000e-05\n",
      "Epoch 664/1000\n",
      " 87/113 [======================>.......] - ETA: 0s - loss: 0.0947 - binary_accuracy: 0.8800INFO:tensorflow:Assets written to: ../models/FCN/checkpoint/assets\n"
     ]
    },
    {
     "name": "stderr",
     "output_type": "stream",
     "text": [
      "INFO:tensorflow:Assets written to: ../models/FCN/checkpoint/assets\n"
     ]
    },
    {
     "name": "stdout",
     "output_type": "stream",
     "text": [
      "113/113 [==============================] - 0s 4ms/step - loss: 0.0947 - binary_accuracy: 0.8800 - val_loss: 0.0963 - val_binary_accuracy: 0.8783 - lr: 1.0000e-05\n",
      "Epoch 665/1000\n",
      " 90/113 [======================>.......] - ETA: 0s - loss: 0.0945 - binary_accuracy: 0.8803INFO:tensorflow:Assets written to: ../models/FCN/checkpoint/assets\n"
     ]
    },
    {
     "name": "stderr",
     "output_type": "stream",
     "text": [
      "INFO:tensorflow:Assets written to: ../models/FCN/checkpoint/assets\n"
     ]
    },
    {
     "name": "stdout",
     "output_type": "stream",
     "text": [
      "113/113 [==============================] - 0s 4ms/step - loss: 0.0946 - binary_accuracy: 0.8801 - val_loss: 0.0963 - val_binary_accuracy: 0.8783 - lr: 1.0000e-05\n",
      "Epoch 666/1000\n",
      "101/113 [=========================>....] - ETA: 0s - loss: 0.0946 - binary_accuracy: 0.8803INFO:tensorflow:Assets written to: ../models/FCN/checkpoint/assets\n"
     ]
    },
    {
     "name": "stderr",
     "output_type": "stream",
     "text": [
      "INFO:tensorflow:Assets written to: ../models/FCN/checkpoint/assets\n"
     ]
    },
    {
     "name": "stdout",
     "output_type": "stream",
     "text": [
      "113/113 [==============================] - 1s 5ms/step - loss: 0.0948 - binary_accuracy: 0.8799 - val_loss: 0.0963 - val_binary_accuracy: 0.8784 - lr: 1.0000e-05\n",
      "Epoch 667/1000\n",
      " 88/113 [======================>.......] - ETA: 0s - loss: 0.0946 - binary_accuracy: 0.8800INFO:tensorflow:Assets written to: ../models/FCN/checkpoint/assets\n"
     ]
    },
    {
     "name": "stderr",
     "output_type": "stream",
     "text": [
      "INFO:tensorflow:Assets written to: ../models/FCN/checkpoint/assets\n"
     ]
    },
    {
     "name": "stdout",
     "output_type": "stream",
     "text": [
      "113/113 [==============================] - 0s 4ms/step - loss: 0.0948 - binary_accuracy: 0.8798 - val_loss: 0.0963 - val_binary_accuracy: 0.8783 - lr: 1.0000e-05\n",
      "Epoch 668/1000\n",
      " 86/113 [=====================>........] - ETA: 0s - loss: 0.0947 - binary_accuracy: 0.8800INFO:tensorflow:Assets written to: ../models/FCN/checkpoint/assets\n"
     ]
    },
    {
     "name": "stderr",
     "output_type": "stream",
     "text": [
      "INFO:tensorflow:Assets written to: ../models/FCN/checkpoint/assets\n"
     ]
    },
    {
     "name": "stdout",
     "output_type": "stream",
     "text": [
      "113/113 [==============================] - 0s 4ms/step - loss: 0.0948 - binary_accuracy: 0.8798 - val_loss: 0.0963 - val_binary_accuracy: 0.8784 - lr: 1.0000e-05\n",
      "Epoch 669/1000\n",
      " 88/113 [======================>.......] - ETA: 0s - loss: 0.0949 - binary_accuracy: 0.8791INFO:tensorflow:Assets written to: ../models/FCN/checkpoint/assets\n"
     ]
    },
    {
     "name": "stderr",
     "output_type": "stream",
     "text": [
      "INFO:tensorflow:Assets written to: ../models/FCN/checkpoint/assets\n"
     ]
    },
    {
     "name": "stdout",
     "output_type": "stream",
     "text": [
      "113/113 [==============================] - 0s 4ms/step - loss: 0.0948 - binary_accuracy: 0.8793 - val_loss: 0.0963 - val_binary_accuracy: 0.8783 - lr: 1.0000e-05\n",
      "Epoch 670/1000\n",
      " 88/113 [======================>.......] - ETA: 0s - loss: 0.0948 - binary_accuracy: 0.8799INFO:tensorflow:Assets written to: ../models/FCN/checkpoint/assets\n"
     ]
    },
    {
     "name": "stderr",
     "output_type": "stream",
     "text": [
      "INFO:tensorflow:Assets written to: ../models/FCN/checkpoint/assets\n"
     ]
    },
    {
     "name": "stdout",
     "output_type": "stream",
     "text": [
      "113/113 [==============================] - 0s 4ms/step - loss: 0.0947 - binary_accuracy: 0.8799 - val_loss: 0.0963 - val_binary_accuracy: 0.8783 - lr: 1.0000e-05\n",
      "Epoch 671/1000\n",
      " 88/113 [======================>.......] - ETA: 0s - loss: 0.0949 - binary_accuracy: 0.8798INFO:tensorflow:Assets written to: ../models/FCN/checkpoint/assets\n"
     ]
    },
    {
     "name": "stderr",
     "output_type": "stream",
     "text": [
      "INFO:tensorflow:Assets written to: ../models/FCN/checkpoint/assets\n"
     ]
    },
    {
     "name": "stdout",
     "output_type": "stream",
     "text": [
      "113/113 [==============================] - 1s 8ms/step - loss: 0.0947 - binary_accuracy: 0.8801 - val_loss: 0.0963 - val_binary_accuracy: 0.8783 - lr: 1.0000e-05\n",
      "Epoch 672/1000\n",
      " 90/113 [======================>.......] - ETA: 0s - loss: 0.0943 - binary_accuracy: 0.8806INFO:tensorflow:Assets written to: ../models/FCN/checkpoint/assets\n"
     ]
    },
    {
     "name": "stderr",
     "output_type": "stream",
     "text": [
      "INFO:tensorflow:Assets written to: ../models/FCN/checkpoint/assets\n"
     ]
    },
    {
     "name": "stdout",
     "output_type": "stream",
     "text": [
      "113/113 [==============================] - 0s 4ms/step - loss: 0.0945 - binary_accuracy: 0.8804 - val_loss: 0.0963 - val_binary_accuracy: 0.8783 - lr: 1.0000e-05\n",
      "Epoch 673/1000\n",
      " 86/113 [=====================>........] - ETA: 0s - loss: 0.0947 - binary_accuracy: 0.8802INFO:tensorflow:Assets written to: ../models/FCN/checkpoint/assets\n"
     ]
    },
    {
     "name": "stderr",
     "output_type": "stream",
     "text": [
      "INFO:tensorflow:Assets written to: ../models/FCN/checkpoint/assets\n"
     ]
    },
    {
     "name": "stdout",
     "output_type": "stream",
     "text": [
      "113/113 [==============================] - 0s 4ms/step - loss: 0.0948 - binary_accuracy: 0.8800 - val_loss: 0.0963 - val_binary_accuracy: 0.8783 - lr: 1.0000e-05\n",
      "Epoch 674/1000\n",
      " 86/113 [=====================>........] - ETA: 0s - loss: 0.0947 - binary_accuracy: 0.8801INFO:tensorflow:Assets written to: ../models/FCN/checkpoint/assets\n"
     ]
    },
    {
     "name": "stderr",
     "output_type": "stream",
     "text": [
      "INFO:tensorflow:Assets written to: ../models/FCN/checkpoint/assets\n"
     ]
    },
    {
     "name": "stdout",
     "output_type": "stream",
     "text": [
      "113/113 [==============================] - 0s 4ms/step - loss: 0.0946 - binary_accuracy: 0.8801 - val_loss: 0.0963 - val_binary_accuracy: 0.8783 - lr: 1.0000e-05\n",
      "Epoch 675/1000\n",
      "113/113 [==============================] - 0s 2ms/step - loss: 0.0946 - binary_accuracy: 0.8799 - val_loss: 0.0963 - val_binary_accuracy: 0.8783 - lr: 1.0000e-05\n",
      "Epoch 676/1000\n",
      "102/113 [==========================>...] - ETA: 0s - loss: 0.0947 - binary_accuracy: 0.8798INFO:tensorflow:Assets written to: ../models/FCN/checkpoint/assets\n"
     ]
    },
    {
     "name": "stderr",
     "output_type": "stream",
     "text": [
      "INFO:tensorflow:Assets written to: ../models/FCN/checkpoint/assets\n"
     ]
    },
    {
     "name": "stdout",
     "output_type": "stream",
     "text": [
      "113/113 [==============================] - 1s 5ms/step - loss: 0.0948 - binary_accuracy: 0.8797 - val_loss: 0.0963 - val_binary_accuracy: 0.8783 - lr: 1.0000e-05\n",
      "Epoch 677/1000\n",
      " 89/113 [======================>.......] - ETA: 0s - loss: 0.0943 - binary_accuracy: 0.8797INFO:tensorflow:Assets written to: ../models/FCN/checkpoint/assets\n"
     ]
    },
    {
     "name": "stderr",
     "output_type": "stream",
     "text": [
      "INFO:tensorflow:Assets written to: ../models/FCN/checkpoint/assets\n"
     ]
    },
    {
     "name": "stdout",
     "output_type": "stream",
     "text": [
      "113/113 [==============================] - 0s 4ms/step - loss: 0.0943 - binary_accuracy: 0.8799 - val_loss: 0.0963 - val_binary_accuracy: 0.8784 - lr: 1.0000e-05\n",
      "Epoch 678/1000\n",
      "113/113 [==============================] - 0s 2ms/step - loss: 0.0947 - binary_accuracy: 0.8801 - val_loss: 0.0963 - val_binary_accuracy: 0.8784 - lr: 1.0000e-05\n",
      "Epoch 679/1000\n",
      " 88/113 [======================>.......] - ETA: 0s - loss: 0.0947 - binary_accuracy: 0.8795INFO:tensorflow:Assets written to: ../models/FCN/checkpoint/assets\n"
     ]
    },
    {
     "name": "stderr",
     "output_type": "stream",
     "text": [
      "INFO:tensorflow:Assets written to: ../models/FCN/checkpoint/assets\n"
     ]
    },
    {
     "name": "stdout",
     "output_type": "stream",
     "text": [
      "113/113 [==============================] - 0s 4ms/step - loss: 0.0948 - binary_accuracy: 0.8796 - val_loss: 0.0963 - val_binary_accuracy: 0.8784 - lr: 1.0000e-05\n",
      "Epoch 680/1000\n",
      " 89/113 [======================>.......] - ETA: 0s - loss: 0.0945 - binary_accuracy: 0.8794INFO:tensorflow:Assets written to: ../models/FCN/checkpoint/assets\n"
     ]
    },
    {
     "name": "stderr",
     "output_type": "stream",
     "text": [
      "INFO:tensorflow:Assets written to: ../models/FCN/checkpoint/assets\n"
     ]
    },
    {
     "name": "stdout",
     "output_type": "stream",
     "text": [
      "113/113 [==============================] - 0s 4ms/step - loss: 0.0946 - binary_accuracy: 0.8795 - val_loss: 0.0963 - val_binary_accuracy: 0.8784 - lr: 1.0000e-05\n",
      "Epoch 681/1000\n",
      " 87/113 [======================>.......] - ETA: 0s - loss: 0.0943 - binary_accuracy: 0.8807INFO:tensorflow:Assets written to: ../models/FCN/checkpoint/assets\n"
     ]
    },
    {
     "name": "stderr",
     "output_type": "stream",
     "text": [
      "INFO:tensorflow:Assets written to: ../models/FCN/checkpoint/assets\n"
     ]
    },
    {
     "name": "stdout",
     "output_type": "stream",
     "text": [
      "113/113 [==============================] - 1s 5ms/step - loss: 0.0943 - binary_accuracy: 0.8805 - val_loss: 0.0963 - val_binary_accuracy: 0.8784 - lr: 1.0000e-05\n",
      "Epoch 682/1000\n",
      " 84/113 [=====================>........] - ETA: 0s - loss: 0.0948 - binary_accuracy: 0.8795INFO:tensorflow:Assets written to: ../models/FCN/checkpoint/assets\n"
     ]
    },
    {
     "name": "stderr",
     "output_type": "stream",
     "text": [
      "INFO:tensorflow:Assets written to: ../models/FCN/checkpoint/assets\n"
     ]
    },
    {
     "name": "stdout",
     "output_type": "stream",
     "text": [
      "113/113 [==============================] - 1s 4ms/step - loss: 0.0946 - binary_accuracy: 0.8801 - val_loss: 0.0963 - val_binary_accuracy: 0.8783 - lr: 1.0000e-05\n",
      "Epoch 683/1000\n",
      " 88/113 [======================>.......] - ETA: 0s - loss: 0.0944 - binary_accuracy: 0.8805INFO:tensorflow:Assets written to: ../models/FCN/checkpoint/assets\n"
     ]
    },
    {
     "name": "stderr",
     "output_type": "stream",
     "text": [
      "INFO:tensorflow:Assets written to: ../models/FCN/checkpoint/assets\n"
     ]
    },
    {
     "name": "stdout",
     "output_type": "stream",
     "text": [
      "113/113 [==============================] - 0s 4ms/step - loss: 0.0943 - binary_accuracy: 0.8806 - val_loss: 0.0962 - val_binary_accuracy: 0.8783 - lr: 1.0000e-05\n",
      "Epoch 684/1000\n",
      "113/113 [==============================] - 0s 2ms/step - loss: 0.0946 - binary_accuracy: 0.8800 - val_loss: 0.0963 - val_binary_accuracy: 0.8784 - lr: 1.0000e-05\n",
      "Epoch 685/1000\n",
      "113/113 [==============================] - 0s 2ms/step - loss: 0.0945 - binary_accuracy: 0.8801 - val_loss: 0.0962 - val_binary_accuracy: 0.8784 - lr: 1.0000e-05\n",
      "Epoch 686/1000\n",
      "113/113 [==============================] - 0s 2ms/step - loss: 0.0946 - binary_accuracy: 0.8798 - val_loss: 0.0963 - val_binary_accuracy: 0.8784 - lr: 1.0000e-05\n",
      "Epoch 687/1000\n",
      "110/113 [============================>.] - ETA: 0s - loss: 0.0944 - binary_accuracy: 0.8802INFO:tensorflow:Assets written to: ../models/FCN/checkpoint/assets\n"
     ]
    },
    {
     "name": "stderr",
     "output_type": "stream",
     "text": [
      "INFO:tensorflow:Assets written to: ../models/FCN/checkpoint/assets\n"
     ]
    },
    {
     "name": "stdout",
     "output_type": "stream",
     "text": [
      "113/113 [==============================] - 1s 5ms/step - loss: 0.0944 - binary_accuracy: 0.8802 - val_loss: 0.0962 - val_binary_accuracy: 0.8784 - lr: 1.0000e-05\n",
      "Epoch 688/1000\n",
      " 86/113 [=====================>........] - ETA: 0s - loss: 0.0941 - binary_accuracy: 0.8810INFO:tensorflow:Assets written to: ../models/FCN/checkpoint/assets\n"
     ]
    },
    {
     "name": "stderr",
     "output_type": "stream",
     "text": [
      "INFO:tensorflow:Assets written to: ../models/FCN/checkpoint/assets\n"
     ]
    },
    {
     "name": "stdout",
     "output_type": "stream",
     "text": [
      "113/113 [==============================] - 1s 5ms/step - loss: 0.0942 - binary_accuracy: 0.8807 - val_loss: 0.0962 - val_binary_accuracy: 0.8784 - lr: 1.0000e-05\n",
      "Epoch 689/1000\n",
      " 87/113 [======================>.......] - ETA: 0s - loss: 0.0941 - binary_accuracy: 0.8805INFO:tensorflow:Assets written to: ../models/FCN/checkpoint/assets\n"
     ]
    },
    {
     "name": "stderr",
     "output_type": "stream",
     "text": [
      "INFO:tensorflow:Assets written to: ../models/FCN/checkpoint/assets\n"
     ]
    },
    {
     "name": "stdout",
     "output_type": "stream",
     "text": [
      "113/113 [==============================] - 0s 4ms/step - loss: 0.0943 - binary_accuracy: 0.8802 - val_loss: 0.0962 - val_binary_accuracy: 0.8784 - lr: 1.0000e-05\n",
      "Epoch 690/1000\n",
      " 88/113 [======================>.......] - ETA: 0s - loss: 0.0946 - binary_accuracy: 0.8795INFO:tensorflow:Assets written to: ../models/FCN/checkpoint/assets\n"
     ]
    },
    {
     "name": "stderr",
     "output_type": "stream",
     "text": [
      "INFO:tensorflow:Assets written to: ../models/FCN/checkpoint/assets\n"
     ]
    },
    {
     "name": "stdout",
     "output_type": "stream",
     "text": [
      "113/113 [==============================] - 0s 4ms/step - loss: 0.0945 - binary_accuracy: 0.8799 - val_loss: 0.0962 - val_binary_accuracy: 0.8784 - lr: 1.0000e-05\n",
      "Epoch 691/1000\n",
      " 88/113 [======================>.......] - ETA: 0s - loss: 0.0945 - binary_accuracy: 0.8801INFO:tensorflow:Assets written to: ../models/FCN/checkpoint/assets\n"
     ]
    },
    {
     "name": "stderr",
     "output_type": "stream",
     "text": [
      "INFO:tensorflow:Assets written to: ../models/FCN/checkpoint/assets\n"
     ]
    },
    {
     "name": "stdout",
     "output_type": "stream",
     "text": [
      "113/113 [==============================] - 0s 4ms/step - loss: 0.0946 - binary_accuracy: 0.8799 - val_loss: 0.0962 - val_binary_accuracy: 0.8784 - lr: 1.0000e-05\n",
      "Epoch 692/1000\n",
      " 88/113 [======================>.......] - ETA: 0s - loss: 0.0945 - binary_accuracy: 0.8796INFO:tensorflow:Assets written to: ../models/FCN/checkpoint/assets\n"
     ]
    },
    {
     "name": "stderr",
     "output_type": "stream",
     "text": [
      "INFO:tensorflow:Assets written to: ../models/FCN/checkpoint/assets\n"
     ]
    },
    {
     "name": "stdout",
     "output_type": "stream",
     "text": [
      "113/113 [==============================] - 0s 4ms/step - loss: 0.0945 - binary_accuracy: 0.8797 - val_loss: 0.0962 - val_binary_accuracy: 0.8784 - lr: 1.0000e-05\n",
      "Epoch 693/1000\n",
      " 89/113 [======================>.......] - ETA: 0s - loss: 0.0942 - binary_accuracy: 0.8805INFO:tensorflow:Assets written to: ../models/FCN/checkpoint/assets\n"
     ]
    },
    {
     "name": "stderr",
     "output_type": "stream",
     "text": [
      "INFO:tensorflow:Assets written to: ../models/FCN/checkpoint/assets\n"
     ]
    },
    {
     "name": "stdout",
     "output_type": "stream",
     "text": [
      "113/113 [==============================] - 0s 4ms/step - loss: 0.0944 - binary_accuracy: 0.8801 - val_loss: 0.0962 - val_binary_accuracy: 0.8783 - lr: 1.0000e-05\n",
      "Epoch 694/1000\n",
      " 87/113 [======================>.......] - ETA: 0s - loss: 0.0944 - binary_accuracy: 0.8802INFO:tensorflow:Assets written to: ../models/FCN/checkpoint/assets\n"
     ]
    },
    {
     "name": "stderr",
     "output_type": "stream",
     "text": [
      "INFO:tensorflow:Assets written to: ../models/FCN/checkpoint/assets\n"
     ]
    },
    {
     "name": "stdout",
     "output_type": "stream",
     "text": [
      "113/113 [==============================] - 0s 4ms/step - loss: 0.0944 - binary_accuracy: 0.8801 - val_loss: 0.0962 - val_binary_accuracy: 0.8784 - lr: 1.0000e-05\n",
      "Epoch 695/1000\n",
      "113/113 [==============================] - 0s 2ms/step - loss: 0.0944 - binary_accuracy: 0.8802 - val_loss: 0.0962 - val_binary_accuracy: 0.8784 - lr: 1.0000e-05\n",
      "Epoch 696/1000\n",
      " 88/113 [======================>.......] - ETA: 0s - loss: 0.0946 - binary_accuracy: 0.8798INFO:tensorflow:Assets written to: ../models/FCN/checkpoint/assets\n"
     ]
    },
    {
     "name": "stderr",
     "output_type": "stream",
     "text": [
      "INFO:tensorflow:Assets written to: ../models/FCN/checkpoint/assets\n"
     ]
    },
    {
     "name": "stdout",
     "output_type": "stream",
     "text": [
      "113/113 [==============================] - 0s 4ms/step - loss: 0.0947 - binary_accuracy: 0.8797 - val_loss: 0.0962 - val_binary_accuracy: 0.8783 - lr: 1.0000e-05\n",
      "Epoch 697/1000\n",
      "106/113 [===========================>..] - ETA: 0s - loss: 0.0943 - binary_accuracy: 0.8801INFO:tensorflow:Assets written to: ../models/FCN/checkpoint/assets\n"
     ]
    },
    {
     "name": "stderr",
     "output_type": "stream",
     "text": [
      "INFO:tensorflow:Assets written to: ../models/FCN/checkpoint/assets\n"
     ]
    },
    {
     "name": "stdout",
     "output_type": "stream",
     "text": [
      "113/113 [==============================] - 1s 5ms/step - loss: 0.0943 - binary_accuracy: 0.8802 - val_loss: 0.0962 - val_binary_accuracy: 0.8784 - lr: 1.0000e-05\n",
      "Epoch 698/1000\n",
      "113/113 [==============================] - ETA: 0s - loss: 0.0940 - binary_accuracy: 0.8805INFO:tensorflow:Assets written to: ../models/FCN/checkpoint/assets\n"
     ]
    },
    {
     "name": "stderr",
     "output_type": "stream",
     "text": [
      "INFO:tensorflow:Assets written to: ../models/FCN/checkpoint/assets\n"
     ]
    },
    {
     "name": "stdout",
     "output_type": "stream",
     "text": [
      "113/113 [==============================] - 1s 9ms/step - loss: 0.0940 - binary_accuracy: 0.8805 - val_loss: 0.0962 - val_binary_accuracy: 0.8784 - lr: 1.0000e-05\n",
      "Epoch 699/1000\n",
      " 91/113 [=======================>......] - ETA: 0s - loss: 0.0941 - binary_accuracy: 0.8803INFO:tensorflow:Assets written to: ../models/FCN/checkpoint/assets\n"
     ]
    },
    {
     "name": "stderr",
     "output_type": "stream",
     "text": [
      "INFO:tensorflow:Assets written to: ../models/FCN/checkpoint/assets\n"
     ]
    },
    {
     "name": "stdout",
     "output_type": "stream",
     "text": [
      "113/113 [==============================] - 0s 4ms/step - loss: 0.0942 - binary_accuracy: 0.8803 - val_loss: 0.0962 - val_binary_accuracy: 0.8784 - lr: 1.0000e-05\n",
      "Epoch 700/1000\n",
      " 85/113 [=====================>........] - ETA: 0s - loss: 0.0940 - binary_accuracy: 0.8804INFO:tensorflow:Assets written to: ../models/FCN/checkpoint/assets\n"
     ]
    },
    {
     "name": "stderr",
     "output_type": "stream",
     "text": [
      "INFO:tensorflow:Assets written to: ../models/FCN/checkpoint/assets\n"
     ]
    },
    {
     "name": "stdout",
     "output_type": "stream",
     "text": [
      "113/113 [==============================] - 1s 4ms/step - loss: 0.0943 - binary_accuracy: 0.8801 - val_loss: 0.0962 - val_binary_accuracy: 0.8784 - lr: 1.0000e-05\n",
      "Epoch 701/1000\n",
      "113/113 [==============================] - 0s 2ms/step - loss: 0.0942 - binary_accuracy: 0.8802 - val_loss: 0.0962 - val_binary_accuracy: 0.8784 - lr: 1.0000e-05\n",
      "Epoch 702/1000\n",
      "113/113 [==============================] - 0s 2ms/step - loss: 0.0944 - binary_accuracy: 0.8802 - val_loss: 0.0962 - val_binary_accuracy: 0.8784 - lr: 1.0000e-05\n",
      "Epoch 703/1000\n",
      " 89/113 [======================>.......] - ETA: 0s - loss: 0.0940 - binary_accuracy: 0.8807INFO:tensorflow:Assets written to: ../models/FCN/checkpoint/assets\n"
     ]
    },
    {
     "name": "stderr",
     "output_type": "stream",
     "text": [
      "INFO:tensorflow:Assets written to: ../models/FCN/checkpoint/assets\n"
     ]
    },
    {
     "name": "stdout",
     "output_type": "stream",
     "text": [
      "113/113 [==============================] - 0s 4ms/step - loss: 0.0941 - binary_accuracy: 0.8805 - val_loss: 0.0962 - val_binary_accuracy: 0.8784 - lr: 1.0000e-05\n",
      "Epoch 704/1000\n",
      " 89/113 [======================>.......] - ETA: 0s - loss: 0.0940 - binary_accuracy: 0.8809INFO:tensorflow:Assets written to: ../models/FCN/checkpoint/assets\n"
     ]
    },
    {
     "name": "stderr",
     "output_type": "stream",
     "text": [
      "INFO:tensorflow:Assets written to: ../models/FCN/checkpoint/assets\n"
     ]
    },
    {
     "name": "stdout",
     "output_type": "stream",
     "text": [
      "113/113 [==============================] - 0s 4ms/step - loss: 0.0944 - binary_accuracy: 0.8804 - val_loss: 0.0962 - val_binary_accuracy: 0.8784 - lr: 1.0000e-05\n",
      "Epoch 705/1000\n",
      " 87/113 [======================>.......] - ETA: 0s - loss: 0.0941 - binary_accuracy: 0.8806INFO:tensorflow:Assets written to: ../models/FCN/checkpoint/assets\n"
     ]
    },
    {
     "name": "stderr",
     "output_type": "stream",
     "text": [
      "INFO:tensorflow:Assets written to: ../models/FCN/checkpoint/assets\n"
     ]
    },
    {
     "name": "stdout",
     "output_type": "stream",
     "text": [
      "113/113 [==============================] - 0s 4ms/step - loss: 0.0943 - binary_accuracy: 0.8800 - val_loss: 0.0962 - val_binary_accuracy: 0.8784 - lr: 1.0000e-05\n",
      "Epoch 706/1000\n",
      "108/113 [===========================>..] - ETA: 0s - loss: 0.0944 - binary_accuracy: 0.8800INFO:tensorflow:Assets written to: ../models/FCN/checkpoint/assets\n"
     ]
    },
    {
     "name": "stderr",
     "output_type": "stream",
     "text": [
      "INFO:tensorflow:Assets written to: ../models/FCN/checkpoint/assets\n"
     ]
    },
    {
     "name": "stdout",
     "output_type": "stream",
     "text": [
      "113/113 [==============================] - 1s 6ms/step - loss: 0.0944 - binary_accuracy: 0.8800 - val_loss: 0.0961 - val_binary_accuracy: 0.8784 - lr: 1.0000e-05\n",
      "Epoch 707/1000\n",
      "113/113 [==============================] - 0s 2ms/step - loss: 0.0944 - binary_accuracy: 0.8799 - val_loss: 0.0961 - val_binary_accuracy: 0.8784 - lr: 1.0000e-05\n",
      "Epoch 708/1000\n",
      " 90/113 [======================>.......] - ETA: 0s - loss: 0.0942 - binary_accuracy: 0.8804INFO:tensorflow:Assets written to: ../models/FCN/checkpoint/assets\n"
     ]
    },
    {
     "name": "stderr",
     "output_type": "stream",
     "text": [
      "INFO:tensorflow:Assets written to: ../models/FCN/checkpoint/assets\n"
     ]
    },
    {
     "name": "stdout",
     "output_type": "stream",
     "text": [
      "113/113 [==============================] - 1s 5ms/step - loss: 0.0942 - binary_accuracy: 0.8804 - val_loss: 0.0961 - val_binary_accuracy: 0.8785 - lr: 1.0000e-05\n",
      "Epoch 709/1000\n",
      " 88/113 [======================>.......] - ETA: 0s - loss: 0.0938 - binary_accuracy: 0.8808INFO:tensorflow:Assets written to: ../models/FCN/checkpoint/assets\n"
     ]
    },
    {
     "name": "stderr",
     "output_type": "stream",
     "text": [
      "INFO:tensorflow:Assets written to: ../models/FCN/checkpoint/assets\n"
     ]
    },
    {
     "name": "stdout",
     "output_type": "stream",
     "text": [
      "113/113 [==============================] - 0s 4ms/step - loss: 0.0939 - binary_accuracy: 0.8805 - val_loss: 0.0961 - val_binary_accuracy: 0.8784 - lr: 1.0000e-05\n",
      "Epoch 710/1000\n",
      " 88/113 [======================>.......] - ETA: 0s - loss: 0.0942 - binary_accuracy: 0.8802INFO:tensorflow:Assets written to: ../models/FCN/checkpoint/assets\n"
     ]
    },
    {
     "name": "stderr",
     "output_type": "stream",
     "text": [
      "INFO:tensorflow:Assets written to: ../models/FCN/checkpoint/assets\n"
     ]
    },
    {
     "name": "stdout",
     "output_type": "stream",
     "text": [
      "113/113 [==============================] - 0s 4ms/step - loss: 0.0940 - binary_accuracy: 0.8805 - val_loss: 0.0961 - val_binary_accuracy: 0.8784 - lr: 1.0000e-05\n",
      "Epoch 711/1000\n",
      " 86/113 [=====================>........] - ETA: 0s - loss: 0.0936 - binary_accuracy: 0.8807INFO:tensorflow:Assets written to: ../models/FCN/checkpoint/assets\n"
     ]
    },
    {
     "name": "stderr",
     "output_type": "stream",
     "text": [
      "INFO:tensorflow:Assets written to: ../models/FCN/checkpoint/assets\n"
     ]
    },
    {
     "name": "stdout",
     "output_type": "stream",
     "text": [
      "113/113 [==============================] - 0s 4ms/step - loss: 0.0939 - binary_accuracy: 0.8804 - val_loss: 0.0961 - val_binary_accuracy: 0.8784 - lr: 1.0000e-05\n",
      "Epoch 712/1000\n",
      " 87/113 [======================>.......] - ETA: 0s - loss: 0.0942 - binary_accuracy: 0.8802INFO:tensorflow:Assets written to: ../models/FCN/checkpoint/assets\n"
     ]
    },
    {
     "name": "stderr",
     "output_type": "stream",
     "text": [
      "INFO:tensorflow:Assets written to: ../models/FCN/checkpoint/assets\n"
     ]
    },
    {
     "name": "stdout",
     "output_type": "stream",
     "text": [
      "113/113 [==============================] - 0s 4ms/step - loss: 0.0941 - binary_accuracy: 0.8805 - val_loss: 0.0961 - val_binary_accuracy: 0.8784 - lr: 1.0000e-05\n",
      "Epoch 713/1000\n",
      " 87/113 [======================>.......] - ETA: 0s - loss: 0.0939 - binary_accuracy: 0.8806INFO:tensorflow:Assets written to: ../models/FCN/checkpoint/assets\n"
     ]
    },
    {
     "name": "stderr",
     "output_type": "stream",
     "text": [
      "INFO:tensorflow:Assets written to: ../models/FCN/checkpoint/assets\n"
     ]
    },
    {
     "name": "stdout",
     "output_type": "stream",
     "text": [
      "113/113 [==============================] - 0s 4ms/step - loss: 0.0942 - binary_accuracy: 0.8802 - val_loss: 0.0961 - val_binary_accuracy: 0.8784 - lr: 1.0000e-05\n",
      "Epoch 714/1000\n",
      " 87/113 [======================>.......] - ETA: 0s - loss: 0.0938 - binary_accuracy: 0.8811INFO:tensorflow:Assets written to: ../models/FCN/checkpoint/assets\n"
     ]
    },
    {
     "name": "stderr",
     "output_type": "stream",
     "text": [
      "INFO:tensorflow:Assets written to: ../models/FCN/checkpoint/assets\n"
     ]
    },
    {
     "name": "stdout",
     "output_type": "stream",
     "text": [
      "113/113 [==============================] - 0s 4ms/step - loss: 0.0941 - binary_accuracy: 0.8807 - val_loss: 0.0961 - val_binary_accuracy: 0.8785 - lr: 1.0000e-05\n",
      "Epoch 715/1000\n",
      "113/113 [==============================] - 0s 2ms/step - loss: 0.0943 - binary_accuracy: 0.8803 - val_loss: 0.0961 - val_binary_accuracy: 0.8784 - lr: 1.0000e-05\n",
      "Epoch 716/1000\n",
      " 88/113 [======================>.......] - ETA: 0s - loss: 0.0938 - binary_accuracy: 0.8803INFO:tensorflow:Assets written to: ../models/FCN/checkpoint/assets\n"
     ]
    },
    {
     "name": "stderr",
     "output_type": "stream",
     "text": [
      "INFO:tensorflow:Assets written to: ../models/FCN/checkpoint/assets\n"
     ]
    },
    {
     "name": "stdout",
     "output_type": "stream",
     "text": [
      "113/113 [==============================] - 0s 4ms/step - loss: 0.0939 - binary_accuracy: 0.8803 - val_loss: 0.0961 - val_binary_accuracy: 0.8784 - lr: 1.0000e-05\n",
      "Epoch 717/1000\n",
      "110/113 [============================>.] - ETA: 0s - loss: 0.0941 - binary_accuracy: 0.8803INFO:tensorflow:Assets written to: ../models/FCN/checkpoint/assets\n"
     ]
    },
    {
     "name": "stderr",
     "output_type": "stream",
     "text": [
      "INFO:tensorflow:Assets written to: ../models/FCN/checkpoint/assets\n"
     ]
    },
    {
     "name": "stdout",
     "output_type": "stream",
     "text": [
      "113/113 [==============================] - 1s 5ms/step - loss: 0.0941 - binary_accuracy: 0.8802 - val_loss: 0.0961 - val_binary_accuracy: 0.8784 - lr: 1.0000e-05\n",
      "Epoch 718/1000\n",
      "113/113 [==============================] - 0s 3ms/step - loss: 0.0941 - binary_accuracy: 0.8802 - val_loss: 0.0961 - val_binary_accuracy: 0.8785 - lr: 1.0000e-05\n",
      "Epoch 719/1000\n",
      "112/113 [============================>.] - ETA: 0s - loss: 0.0939 - binary_accuracy: 0.8805INFO:tensorflow:Assets written to: ../models/FCN/checkpoint/assets\n"
     ]
    },
    {
     "name": "stderr",
     "output_type": "stream",
     "text": [
      "INFO:tensorflow:Assets written to: ../models/FCN/checkpoint/assets\n"
     ]
    },
    {
     "name": "stdout",
     "output_type": "stream",
     "text": [
      "113/113 [==============================] - 1s 5ms/step - loss: 0.0939 - binary_accuracy: 0.8805 - val_loss: 0.0961 - val_binary_accuracy: 0.8785 - lr: 1.0000e-05\n",
      "Epoch 720/1000\n",
      " 87/113 [======================>.......] - ETA: 0s - loss: 0.0942 - binary_accuracy: 0.8804INFO:tensorflow:Assets written to: ../models/FCN/checkpoint/assets\n"
     ]
    },
    {
     "name": "stderr",
     "output_type": "stream",
     "text": [
      "INFO:tensorflow:Assets written to: ../models/FCN/checkpoint/assets\n"
     ]
    },
    {
     "name": "stdout",
     "output_type": "stream",
     "text": [
      "113/113 [==============================] - 1s 5ms/step - loss: 0.0940 - binary_accuracy: 0.8806 - val_loss: 0.0961 - val_binary_accuracy: 0.8785 - lr: 1.0000e-05\n",
      "Epoch 721/1000\n",
      " 85/113 [=====================>........] - ETA: 0s - loss: 0.0939 - binary_accuracy: 0.8800INFO:tensorflow:Assets written to: ../models/FCN/checkpoint/assets\n"
     ]
    },
    {
     "name": "stderr",
     "output_type": "stream",
     "text": [
      "INFO:tensorflow:Assets written to: ../models/FCN/checkpoint/assets\n"
     ]
    },
    {
     "name": "stdout",
     "output_type": "stream",
     "text": [
      "113/113 [==============================] - 1s 5ms/step - loss: 0.0938 - binary_accuracy: 0.8803 - val_loss: 0.0961 - val_binary_accuracy: 0.8784 - lr: 1.0000e-05\n",
      "Epoch 722/1000\n",
      "113/113 [==============================] - 0s 2ms/step - loss: 0.0940 - binary_accuracy: 0.8805 - val_loss: 0.0961 - val_binary_accuracy: 0.8786 - lr: 1.0000e-05\n",
      "Epoch 723/1000\n",
      "110/113 [============================>.] - ETA: 0s - loss: 0.0940 - binary_accuracy: 0.8801INFO:tensorflow:Assets written to: ../models/FCN/checkpoint/assets\n"
     ]
    },
    {
     "name": "stderr",
     "output_type": "stream",
     "text": [
      "INFO:tensorflow:Assets written to: ../models/FCN/checkpoint/assets\n"
     ]
    },
    {
     "name": "stdout",
     "output_type": "stream",
     "text": [
      "113/113 [==============================] - 1s 5ms/step - loss: 0.0940 - binary_accuracy: 0.8801 - val_loss: 0.0961 - val_binary_accuracy: 0.8785 - lr: 1.0000e-05\n",
      "Epoch 724/1000\n",
      " 88/113 [======================>.......] - ETA: 0s - loss: 0.0939 - binary_accuracy: 0.8808INFO:tensorflow:Assets written to: ../models/FCN/checkpoint/assets\n"
     ]
    },
    {
     "name": "stderr",
     "output_type": "stream",
     "text": [
      "INFO:tensorflow:Assets written to: ../models/FCN/checkpoint/assets\n"
     ]
    },
    {
     "name": "stdout",
     "output_type": "stream",
     "text": [
      "113/113 [==============================] - 1s 9ms/step - loss: 0.0941 - binary_accuracy: 0.8806 - val_loss: 0.0961 - val_binary_accuracy: 0.8785 - lr: 1.0000e-05\n",
      "Epoch 725/1000\n",
      " 89/113 [======================>.......] - ETA: 0s - loss: 0.0941 - binary_accuracy: 0.8796INFO:tensorflow:Assets written to: ../models/FCN/checkpoint/assets\n"
     ]
    },
    {
     "name": "stderr",
     "output_type": "stream",
     "text": [
      "INFO:tensorflow:Assets written to: ../models/FCN/checkpoint/assets\n"
     ]
    },
    {
     "name": "stdout",
     "output_type": "stream",
     "text": [
      "113/113 [==============================] - 0s 4ms/step - loss: 0.0939 - binary_accuracy: 0.8802 - val_loss: 0.0961 - val_binary_accuracy: 0.8785 - lr: 1.0000e-05\n",
      "Epoch 726/1000\n",
      "111/113 [============================>.] - ETA: 0s - loss: 0.0939 - binary_accuracy: 0.8801INFO:tensorflow:Assets written to: ../models/FCN/checkpoint/assets\n"
     ]
    },
    {
     "name": "stderr",
     "output_type": "stream",
     "text": [
      "INFO:tensorflow:Assets written to: ../models/FCN/checkpoint/assets\n"
     ]
    },
    {
     "name": "stdout",
     "output_type": "stream",
     "text": [
      "113/113 [==============================] - 1s 4ms/step - loss: 0.0940 - binary_accuracy: 0.8800 - val_loss: 0.0961 - val_binary_accuracy: 0.8785 - lr: 1.0000e-05\n",
      "Epoch 727/1000\n",
      "100/113 [=========================>....] - ETA: 0s - loss: 0.0937 - binary_accuracy: 0.8807INFO:tensorflow:Assets written to: ../models/FCN/checkpoint/assets\n"
     ]
    },
    {
     "name": "stderr",
     "output_type": "stream",
     "text": [
      "INFO:tensorflow:Assets written to: ../models/FCN/checkpoint/assets\n"
     ]
    },
    {
     "name": "stdout",
     "output_type": "stream",
     "text": [
      "113/113 [==============================] - 1s 5ms/step - loss: 0.0938 - binary_accuracy: 0.8806 - val_loss: 0.0961 - val_binary_accuracy: 0.8786 - lr: 1.0000e-05\n",
      "Epoch 728/1000\n",
      " 89/113 [======================>.......] - ETA: 0s - loss: 0.0940 - binary_accuracy: 0.8807INFO:tensorflow:Assets written to: ../models/FCN/checkpoint/assets\n"
     ]
    },
    {
     "name": "stderr",
     "output_type": "stream",
     "text": [
      "INFO:tensorflow:Assets written to: ../models/FCN/checkpoint/assets\n"
     ]
    },
    {
     "name": "stdout",
     "output_type": "stream",
     "text": [
      "113/113 [==============================] - 0s 4ms/step - loss: 0.0940 - binary_accuracy: 0.8807 - val_loss: 0.0960 - val_binary_accuracy: 0.8786 - lr: 1.0000e-05\n",
      "Epoch 729/1000\n",
      " 87/113 [======================>.......] - ETA: 0s - loss: 0.0938 - binary_accuracy: 0.8807INFO:tensorflow:Assets written to: ../models/FCN/checkpoint/assets\n"
     ]
    },
    {
     "name": "stderr",
     "output_type": "stream",
     "text": [
      "INFO:tensorflow:Assets written to: ../models/FCN/checkpoint/assets\n"
     ]
    },
    {
     "name": "stdout",
     "output_type": "stream",
     "text": [
      "113/113 [==============================] - 0s 4ms/step - loss: 0.0939 - binary_accuracy: 0.8806 - val_loss: 0.0960 - val_binary_accuracy: 0.8786 - lr: 1.0000e-05\n",
      "Epoch 730/1000\n",
      "113/113 [==============================] - 0s 2ms/step - loss: 0.0940 - binary_accuracy: 0.8802 - val_loss: 0.0960 - val_binary_accuracy: 0.8786 - lr: 1.0000e-05\n",
      "Epoch 731/1000\n",
      " 90/113 [======================>.......] - ETA: 0s - loss: 0.0936 - binary_accuracy: 0.8807INFO:tensorflow:Assets written to: ../models/FCN/checkpoint/assets\n"
     ]
    },
    {
     "name": "stderr",
     "output_type": "stream",
     "text": [
      "INFO:tensorflow:Assets written to: ../models/FCN/checkpoint/assets\n"
     ]
    },
    {
     "name": "stdout",
     "output_type": "stream",
     "text": [
      "113/113 [==============================] - 0s 4ms/step - loss: 0.0936 - binary_accuracy: 0.8807 - val_loss: 0.0960 - val_binary_accuracy: 0.8786 - lr: 1.0000e-05\n",
      "Epoch 732/1000\n",
      " 89/113 [======================>.......] - ETA: 0s - loss: 0.0941 - binary_accuracy: 0.8809INFO:tensorflow:Assets written to: ../models/FCN/checkpoint/assets\n"
     ]
    },
    {
     "name": "stderr",
     "output_type": "stream",
     "text": [
      "INFO:tensorflow:Assets written to: ../models/FCN/checkpoint/assets\n"
     ]
    },
    {
     "name": "stdout",
     "output_type": "stream",
     "text": [
      "113/113 [==============================] - 0s 4ms/step - loss: 0.0940 - binary_accuracy: 0.8807 - val_loss: 0.0960 - val_binary_accuracy: 0.8786 - lr: 1.0000e-05\n",
      "Epoch 733/1000\n",
      " 85/113 [=====================>........] - ETA: 0s - loss: 0.0938 - binary_accuracy: 0.8804INFO:tensorflow:Assets written to: ../models/FCN/checkpoint/assets\n"
     ]
    },
    {
     "name": "stderr",
     "output_type": "stream",
     "text": [
      "INFO:tensorflow:Assets written to: ../models/FCN/checkpoint/assets\n"
     ]
    },
    {
     "name": "stdout",
     "output_type": "stream",
     "text": [
      "113/113 [==============================] - 0s 4ms/step - loss: 0.0936 - binary_accuracy: 0.8808 - val_loss: 0.0960 - val_binary_accuracy: 0.8786 - lr: 1.0000e-05\n",
      "Epoch 734/1000\n",
      " 88/113 [======================>.......] - ETA: 0s - loss: 0.0942 - binary_accuracy: 0.8799INFO:tensorflow:Assets written to: ../models/FCN/checkpoint/assets\n"
     ]
    },
    {
     "name": "stderr",
     "output_type": "stream",
     "text": [
      "INFO:tensorflow:Assets written to: ../models/FCN/checkpoint/assets\n"
     ]
    },
    {
     "name": "stdout",
     "output_type": "stream",
     "text": [
      "113/113 [==============================] - 0s 4ms/step - loss: 0.0939 - binary_accuracy: 0.8803 - val_loss: 0.0960 - val_binary_accuracy: 0.8786 - lr: 1.0000e-05\n",
      "Epoch 735/1000\n",
      " 88/113 [======================>.......] - ETA: 0s - loss: 0.0935 - binary_accuracy: 0.8814INFO:tensorflow:Assets written to: ../models/FCN/checkpoint/assets\n"
     ]
    },
    {
     "name": "stderr",
     "output_type": "stream",
     "text": [
      "INFO:tensorflow:Assets written to: ../models/FCN/checkpoint/assets\n"
     ]
    },
    {
     "name": "stdout",
     "output_type": "stream",
     "text": [
      "113/113 [==============================] - 0s 4ms/step - loss: 0.0938 - binary_accuracy: 0.8809 - val_loss: 0.0960 - val_binary_accuracy: 0.8786 - lr: 1.0000e-05\n",
      "Epoch 736/1000\n",
      "113/113 [==============================] - 0s 2ms/step - loss: 0.0939 - binary_accuracy: 0.8803 - val_loss: 0.0960 - val_binary_accuracy: 0.8786 - lr: 1.0000e-05\n",
      "Epoch 737/1000\n",
      "113/113 [==============================] - 0s 2ms/step - loss: 0.0937 - binary_accuracy: 0.8802 - val_loss: 0.0960 - val_binary_accuracy: 0.8786 - lr: 1.0000e-05\n",
      "Epoch 738/1000\n",
      "113/113 [==============================] - 0s 2ms/step - loss: 0.0940 - binary_accuracy: 0.8804 - val_loss: 0.0960 - val_binary_accuracy: 0.8786 - lr: 1.0000e-05\n",
      "Epoch 739/1000\n",
      " 88/113 [======================>.......] - ETA: 0s - loss: 0.0939 - binary_accuracy: 0.8805INFO:tensorflow:Assets written to: ../models/FCN/checkpoint/assets\n"
     ]
    },
    {
     "name": "stderr",
     "output_type": "stream",
     "text": [
      "INFO:tensorflow:Assets written to: ../models/FCN/checkpoint/assets\n"
     ]
    },
    {
     "name": "stdout",
     "output_type": "stream",
     "text": [
      "113/113 [==============================] - 0s 4ms/step - loss: 0.0938 - binary_accuracy: 0.8807 - val_loss: 0.0960 - val_binary_accuracy: 0.8787 - lr: 1.0000e-05\n",
      "Epoch 740/1000\n",
      " 89/113 [======================>.......] - ETA: 0s - loss: 0.0938 - binary_accuracy: 0.8805INFO:tensorflow:Assets written to: ../models/FCN/checkpoint/assets\n"
     ]
    },
    {
     "name": "stderr",
     "output_type": "stream",
     "text": [
      "INFO:tensorflow:Assets written to: ../models/FCN/checkpoint/assets\n"
     ]
    },
    {
     "name": "stdout",
     "output_type": "stream",
     "text": [
      "113/113 [==============================] - 0s 4ms/step - loss: 0.0937 - binary_accuracy: 0.8806 - val_loss: 0.0960 - val_binary_accuracy: 0.8787 - lr: 1.0000e-05\n",
      "Epoch 741/1000\n",
      " 89/113 [======================>.......] - ETA: 0s - loss: 0.0932 - binary_accuracy: 0.8808INFO:tensorflow:Assets written to: ../models/FCN/checkpoint/assets\n"
     ]
    },
    {
     "name": "stderr",
     "output_type": "stream",
     "text": [
      "INFO:tensorflow:Assets written to: ../models/FCN/checkpoint/assets\n"
     ]
    },
    {
     "name": "stdout",
     "output_type": "stream",
     "text": [
      "113/113 [==============================] - 0s 4ms/step - loss: 0.0936 - binary_accuracy: 0.8806 - val_loss: 0.0960 - val_binary_accuracy: 0.8787 - lr: 1.0000e-05\n",
      "Epoch 742/1000\n",
      " 86/113 [=====================>........] - ETA: 0s - loss: 0.0937 - binary_accuracy: 0.8808INFO:tensorflow:Assets written to: ../models/FCN/checkpoint/assets\n"
     ]
    },
    {
     "name": "stderr",
     "output_type": "stream",
     "text": [
      "INFO:tensorflow:Assets written to: ../models/FCN/checkpoint/assets\n"
     ]
    },
    {
     "name": "stdout",
     "output_type": "stream",
     "text": [
      "113/113 [==============================] - 0s 4ms/step - loss: 0.0936 - binary_accuracy: 0.8808 - val_loss: 0.0960 - val_binary_accuracy: 0.8786 - lr: 1.0000e-05\n",
      "Epoch 743/1000\n",
      "113/113 [==============================] - 0s 2ms/step - loss: 0.0937 - binary_accuracy: 0.8806 - val_loss: 0.0960 - val_binary_accuracy: 0.8786 - lr: 1.0000e-05\n",
      "Epoch 744/1000\n",
      "113/113 [==============================] - 0s 2ms/step - loss: 0.0937 - binary_accuracy: 0.8805 - val_loss: 0.0960 - val_binary_accuracy: 0.8786 - lr: 1.0000e-05\n",
      "Epoch 745/1000\n",
      " 90/113 [======================>.......] - ETA: 0s - loss: 0.0938 - binary_accuracy: 0.8804INFO:tensorflow:Assets written to: ../models/FCN/checkpoint/assets\n"
     ]
    },
    {
     "name": "stderr",
     "output_type": "stream",
     "text": [
      "INFO:tensorflow:Assets written to: ../models/FCN/checkpoint/assets\n"
     ]
    },
    {
     "name": "stdout",
     "output_type": "stream",
     "text": [
      "113/113 [==============================] - 0s 4ms/step - loss: 0.0937 - binary_accuracy: 0.8808 - val_loss: 0.0960 - val_binary_accuracy: 0.8786 - lr: 1.0000e-05\n",
      "Epoch 746/1000\n",
      " 87/113 [======================>.......] - ETA: 0s - loss: 0.0943 - binary_accuracy: 0.8802INFO:tensorflow:Assets written to: ../models/FCN/checkpoint/assets\n"
     ]
    },
    {
     "name": "stderr",
     "output_type": "stream",
     "text": [
      "INFO:tensorflow:Assets written to: ../models/FCN/checkpoint/assets\n"
     ]
    },
    {
     "name": "stdout",
     "output_type": "stream",
     "text": [
      "113/113 [==============================] - 0s 4ms/step - loss: 0.0938 - binary_accuracy: 0.8806 - val_loss: 0.0960 - val_binary_accuracy: 0.8786 - lr: 1.0000e-05\n",
      "Epoch 747/1000\n",
      " 88/113 [======================>.......] - ETA: 0s - loss: 0.0938 - binary_accuracy: 0.8805INFO:tensorflow:Assets written to: ../models/FCN/checkpoint/assets\n"
     ]
    },
    {
     "name": "stderr",
     "output_type": "stream",
     "text": [
      "INFO:tensorflow:Assets written to: ../models/FCN/checkpoint/assets\n"
     ]
    },
    {
     "name": "stdout",
     "output_type": "stream",
     "text": [
      "113/113 [==============================] - 0s 4ms/step - loss: 0.0937 - binary_accuracy: 0.8804 - val_loss: 0.0960 - val_binary_accuracy: 0.8786 - lr: 1.0000e-05\n",
      "Epoch 748/1000\n",
      " 93/113 [=======================>......] - ETA: 0s - loss: 0.0933 - binary_accuracy: 0.8809INFO:tensorflow:Assets written to: ../models/FCN/checkpoint/assets\n"
     ]
    },
    {
     "name": "stderr",
     "output_type": "stream",
     "text": [
      "INFO:tensorflow:Assets written to: ../models/FCN/checkpoint/assets\n"
     ]
    },
    {
     "name": "stdout",
     "output_type": "stream",
     "text": [
      "113/113 [==============================] - 1s 5ms/step - loss: 0.0934 - binary_accuracy: 0.8809 - val_loss: 0.0960 - val_binary_accuracy: 0.8786 - lr: 1.0000e-05\n",
      "Epoch 749/1000\n",
      "113/113 [==============================] - 0s 2ms/step - loss: 0.0936 - binary_accuracy: 0.8808 - val_loss: 0.0960 - val_binary_accuracy: 0.8786 - lr: 1.0000e-05\n",
      "Epoch 750/1000\n",
      " 91/113 [=======================>......] - ETA: 0s - loss: 0.0938 - binary_accuracy: 0.8809INFO:tensorflow:Assets written to: ../models/FCN/checkpoint/assets\n"
     ]
    },
    {
     "name": "stderr",
     "output_type": "stream",
     "text": [
      "INFO:tensorflow:Assets written to: ../models/FCN/checkpoint/assets\n"
     ]
    },
    {
     "name": "stdout",
     "output_type": "stream",
     "text": [
      "113/113 [==============================] - 0s 4ms/step - loss: 0.0938 - binary_accuracy: 0.8810 - val_loss: 0.0960 - val_binary_accuracy: 0.8786 - lr: 1.0000e-05\n",
      "Epoch 751/1000\n",
      " 88/113 [======================>.......] - ETA: 0s - loss: 0.0934 - binary_accuracy: 0.8815INFO:tensorflow:Assets written to: ../models/FCN/checkpoint/assets\n"
     ]
    },
    {
     "name": "stderr",
     "output_type": "stream",
     "text": [
      "INFO:tensorflow:Assets written to: ../models/FCN/checkpoint/assets\n"
     ]
    },
    {
     "name": "stdout",
     "output_type": "stream",
     "text": [
      "113/113 [==============================] - 1s 8ms/step - loss: 0.0935 - binary_accuracy: 0.8810 - val_loss: 0.0959 - val_binary_accuracy: 0.8786 - lr: 1.0000e-05\n",
      "Epoch 752/1000\n",
      "113/113 [==============================] - 0s 2ms/step - loss: 0.0937 - binary_accuracy: 0.8803 - val_loss: 0.0959 - val_binary_accuracy: 0.8786 - lr: 1.0000e-05\n",
      "Epoch 753/1000\n",
      "113/113 [==============================] - 0s 2ms/step - loss: 0.0935 - binary_accuracy: 0.8808 - val_loss: 0.0959 - val_binary_accuracy: 0.8787 - lr: 1.0000e-05\n",
      "Epoch 754/1000\n",
      " 89/113 [======================>.......] - ETA: 0s - loss: 0.0932 - binary_accuracy: 0.8810INFO:tensorflow:Assets written to: ../models/FCN/checkpoint/assets\n"
     ]
    },
    {
     "name": "stderr",
     "output_type": "stream",
     "text": [
      "INFO:tensorflow:Assets written to: ../models/FCN/checkpoint/assets\n"
     ]
    },
    {
     "name": "stdout",
     "output_type": "stream",
     "text": [
      "113/113 [==============================] - 0s 4ms/step - loss: 0.0935 - binary_accuracy: 0.8807 - val_loss: 0.0959 - val_binary_accuracy: 0.8786 - lr: 1.0000e-05\n",
      "Epoch 755/1000\n",
      " 88/113 [======================>.......] - ETA: 0s - loss: 0.0934 - binary_accuracy: 0.8809INFO:tensorflow:Assets written to: ../models/FCN/checkpoint/assets\n"
     ]
    },
    {
     "name": "stderr",
     "output_type": "stream",
     "text": [
      "INFO:tensorflow:Assets written to: ../models/FCN/checkpoint/assets\n"
     ]
    },
    {
     "name": "stdout",
     "output_type": "stream",
     "text": [
      "113/113 [==============================] - 0s 4ms/step - loss: 0.0935 - binary_accuracy: 0.8803 - val_loss: 0.0959 - val_binary_accuracy: 0.8786 - lr: 1.0000e-05\n",
      "Epoch 756/1000\n",
      " 87/113 [======================>.......] - ETA: 0s - loss: 0.0933 - binary_accuracy: 0.8819INFO:tensorflow:Assets written to: ../models/FCN/checkpoint/assets\n"
     ]
    },
    {
     "name": "stderr",
     "output_type": "stream",
     "text": [
      "INFO:tensorflow:Assets written to: ../models/FCN/checkpoint/assets\n"
     ]
    },
    {
     "name": "stdout",
     "output_type": "stream",
     "text": [
      "113/113 [==============================] - 1s 4ms/step - loss: 0.0937 - binary_accuracy: 0.8809 - val_loss: 0.0959 - val_binary_accuracy: 0.8787 - lr: 1.0000e-05\n",
      "Epoch 757/1000\n",
      "113/113 [==============================] - 0s 2ms/step - loss: 0.0934 - binary_accuracy: 0.8810 - val_loss: 0.0959 - val_binary_accuracy: 0.8786 - lr: 1.0000e-05\n",
      "Epoch 758/1000\n",
      "113/113 [==============================] - 0s 2ms/step - loss: 0.0933 - binary_accuracy: 0.8811 - val_loss: 0.0959 - val_binary_accuracy: 0.8787 - lr: 1.0000e-05\n",
      "Epoch 759/1000\n",
      " 90/113 [======================>.......] - ETA: 0s - loss: 0.0938 - binary_accuracy: 0.8803INFO:tensorflow:Assets written to: ../models/FCN/checkpoint/assets\n"
     ]
    },
    {
     "name": "stderr",
     "output_type": "stream",
     "text": [
      "INFO:tensorflow:Assets written to: ../models/FCN/checkpoint/assets\n"
     ]
    },
    {
     "name": "stdout",
     "output_type": "stream",
     "text": [
      "113/113 [==============================] - 1s 5ms/step - loss: 0.0936 - binary_accuracy: 0.8806 - val_loss: 0.0959 - val_binary_accuracy: 0.8786 - lr: 1.0000e-05\n",
      "Epoch 760/1000\n",
      " 88/113 [======================>.......] - ETA: 0s - loss: 0.0934 - binary_accuracy: 0.8806INFO:tensorflow:Assets written to: ../models/FCN/checkpoint/assets\n"
     ]
    },
    {
     "name": "stderr",
     "output_type": "stream",
     "text": [
      "INFO:tensorflow:Assets written to: ../models/FCN/checkpoint/assets\n"
     ]
    },
    {
     "name": "stdout",
     "output_type": "stream",
     "text": [
      "113/113 [==============================] - 0s 4ms/step - loss: 0.0934 - binary_accuracy: 0.8809 - val_loss: 0.0959 - val_binary_accuracy: 0.8787 - lr: 1.0000e-05\n",
      "Epoch 761/1000\n",
      " 86/113 [=====================>........] - ETA: 0s - loss: 0.0934 - binary_accuracy: 0.8809INFO:tensorflow:Assets written to: ../models/FCN/checkpoint/assets\n"
     ]
    },
    {
     "name": "stderr",
     "output_type": "stream",
     "text": [
      "INFO:tensorflow:Assets written to: ../models/FCN/checkpoint/assets\n"
     ]
    },
    {
     "name": "stdout",
     "output_type": "stream",
     "text": [
      "113/113 [==============================] - 0s 4ms/step - loss: 0.0936 - binary_accuracy: 0.8808 - val_loss: 0.0959 - val_binary_accuracy: 0.8787 - lr: 1.0000e-05\n",
      "Epoch 762/1000\n",
      " 88/113 [======================>.......] - ETA: 0s - loss: 0.0934 - binary_accuracy: 0.8813INFO:tensorflow:Assets written to: ../models/FCN/checkpoint/assets\n"
     ]
    },
    {
     "name": "stderr",
     "output_type": "stream",
     "text": [
      "INFO:tensorflow:Assets written to: ../models/FCN/checkpoint/assets\n"
     ]
    },
    {
     "name": "stdout",
     "output_type": "stream",
     "text": [
      "113/113 [==============================] - 0s 4ms/step - loss: 0.0935 - binary_accuracy: 0.8812 - val_loss: 0.0959 - val_binary_accuracy: 0.8787 - lr: 1.0000e-05\n",
      "Epoch 763/1000\n",
      " 90/113 [======================>.......] - ETA: 0s - loss: 0.0932 - binary_accuracy: 0.8810INFO:tensorflow:Assets written to: ../models/FCN/checkpoint/assets\n"
     ]
    },
    {
     "name": "stderr",
     "output_type": "stream",
     "text": [
      "INFO:tensorflow:Assets written to: ../models/FCN/checkpoint/assets\n"
     ]
    },
    {
     "name": "stdout",
     "output_type": "stream",
     "text": [
      "113/113 [==============================] - 0s 4ms/step - loss: 0.0935 - binary_accuracy: 0.8807 - val_loss: 0.0959 - val_binary_accuracy: 0.8787 - lr: 1.0000e-05\n",
      "Epoch 764/1000\n",
      " 89/113 [======================>.......] - ETA: 0s - loss: 0.0933 - binary_accuracy: 0.8809INFO:tensorflow:Assets written to: ../models/FCN/checkpoint/assets\n"
     ]
    },
    {
     "name": "stderr",
     "output_type": "stream",
     "text": [
      "INFO:tensorflow:Assets written to: ../models/FCN/checkpoint/assets\n"
     ]
    },
    {
     "name": "stdout",
     "output_type": "stream",
     "text": [
      "113/113 [==============================] - 1s 4ms/step - loss: 0.0933 - binary_accuracy: 0.8810 - val_loss: 0.0959 - val_binary_accuracy: 0.8787 - lr: 1.0000e-05\n",
      "Epoch 765/1000\n",
      "113/113 [==============================] - 0s 2ms/step - loss: 0.0938 - binary_accuracy: 0.8803 - val_loss: 0.0959 - val_binary_accuracy: 0.8788 - lr: 1.0000e-05\n",
      "Epoch 766/1000\n",
      "113/113 [==============================] - 0s 2ms/step - loss: 0.0934 - binary_accuracy: 0.8805 - val_loss: 0.0959 - val_binary_accuracy: 0.8787 - lr: 1.0000e-05\n",
      "Epoch 767/1000\n",
      "113/113 [==============================] - 0s 2ms/step - loss: 0.0936 - binary_accuracy: 0.8805 - val_loss: 0.0959 - val_binary_accuracy: 0.8786 - lr: 1.0000e-05\n",
      "Epoch 768/1000\n",
      "113/113 [==============================] - 0s 2ms/step - loss: 0.0932 - binary_accuracy: 0.8814 - val_loss: 0.0959 - val_binary_accuracy: 0.8787 - lr: 1.0000e-05\n",
      "Epoch 769/1000\n",
      " 91/113 [=======================>......] - ETA: 0s - loss: 0.0936 - binary_accuracy: 0.8807INFO:tensorflow:Assets written to: ../models/FCN/checkpoint/assets\n"
     ]
    },
    {
     "name": "stderr",
     "output_type": "stream",
     "text": [
      "INFO:tensorflow:Assets written to: ../models/FCN/checkpoint/assets\n"
     ]
    },
    {
     "name": "stdout",
     "output_type": "stream",
     "text": [
      "113/113 [==============================] - 0s 4ms/step - loss: 0.0933 - binary_accuracy: 0.8810 - val_loss: 0.0959 - val_binary_accuracy: 0.8786 - lr: 1.0000e-05\n",
      "Epoch 770/1000\n",
      " 91/113 [=======================>......] - ETA: 0s - loss: 0.0936 - binary_accuracy: 0.8803INFO:tensorflow:Assets written to: ../models/FCN/checkpoint/assets\n"
     ]
    },
    {
     "name": "stderr",
     "output_type": "stream",
     "text": [
      "INFO:tensorflow:Assets written to: ../models/FCN/checkpoint/assets\n"
     ]
    },
    {
     "name": "stdout",
     "output_type": "stream",
     "text": [
      "113/113 [==============================] - 0s 4ms/step - loss: 0.0934 - binary_accuracy: 0.8804 - val_loss: 0.0959 - val_binary_accuracy: 0.8787 - lr: 1.0000e-05\n",
      "Epoch 771/1000\n",
      "113/113 [==============================] - 0s 2ms/step - loss: 0.0935 - binary_accuracy: 0.8810 - val_loss: 0.0959 - val_binary_accuracy: 0.8788 - lr: 1.0000e-05\n",
      "Epoch 772/1000\n",
      " 90/113 [======================>.......] - ETA: 0s - loss: 0.0933 - binary_accuracy: 0.8811INFO:tensorflow:Assets written to: ../models/FCN/checkpoint/assets\n"
     ]
    },
    {
     "name": "stderr",
     "output_type": "stream",
     "text": [
      "INFO:tensorflow:Assets written to: ../models/FCN/checkpoint/assets\n"
     ]
    },
    {
     "name": "stdout",
     "output_type": "stream",
     "text": [
      "113/113 [==============================] - 1s 5ms/step - loss: 0.0934 - binary_accuracy: 0.8810 - val_loss: 0.0959 - val_binary_accuracy: 0.8787 - lr: 1.0000e-05\n",
      "Epoch 773/1000\n",
      " 90/113 [======================>.......] - ETA: 0s - loss: 0.0932 - binary_accuracy: 0.8811INFO:tensorflow:Assets written to: ../models/FCN/checkpoint/assets\n"
     ]
    },
    {
     "name": "stderr",
     "output_type": "stream",
     "text": [
      "INFO:tensorflow:Assets written to: ../models/FCN/checkpoint/assets\n"
     ]
    },
    {
     "name": "stdout",
     "output_type": "stream",
     "text": [
      "113/113 [==============================] - 0s 4ms/step - loss: 0.0932 - binary_accuracy: 0.8813 - val_loss: 0.0959 - val_binary_accuracy: 0.8788 - lr: 1.0000e-05\n",
      "Epoch 774/1000\n",
      " 88/113 [======================>.......] - ETA: 0s - loss: 0.0931 - binary_accuracy: 0.8809INFO:tensorflow:Assets written to: ../models/FCN/checkpoint/assets\n"
     ]
    },
    {
     "name": "stderr",
     "output_type": "stream",
     "text": [
      "INFO:tensorflow:Assets written to: ../models/FCN/checkpoint/assets\n"
     ]
    },
    {
     "name": "stdout",
     "output_type": "stream",
     "text": [
      "113/113 [==============================] - 0s 4ms/step - loss: 0.0932 - binary_accuracy: 0.8810 - val_loss: 0.0959 - val_binary_accuracy: 0.8787 - lr: 1.0000e-06\n",
      "Epoch 775/1000\n",
      " 89/113 [======================>.......] - ETA: 0s - loss: 0.0936 - binary_accuracy: 0.8806INFO:tensorflow:Assets written to: ../models/FCN/checkpoint/assets\n"
     ]
    },
    {
     "name": "stderr",
     "output_type": "stream",
     "text": [
      "INFO:tensorflow:Assets written to: ../models/FCN/checkpoint/assets\n"
     ]
    },
    {
     "name": "stdout",
     "output_type": "stream",
     "text": [
      "113/113 [==============================] - 1s 4ms/step - loss: 0.0934 - binary_accuracy: 0.8809 - val_loss: 0.0959 - val_binary_accuracy: 0.8787 - lr: 1.0000e-06\n",
      "Epoch 776/1000\n",
      "109/113 [===========================>..] - ETA: 0s - loss: 0.0933 - binary_accuracy: 0.8812INFO:tensorflow:Assets written to: ../models/FCN/checkpoint/assets\n"
     ]
    },
    {
     "name": "stderr",
     "output_type": "stream",
     "text": [
      "INFO:tensorflow:Assets written to: ../models/FCN/checkpoint/assets\n"
     ]
    },
    {
     "name": "stdout",
     "output_type": "stream",
     "text": [
      "113/113 [==============================] - 1s 5ms/step - loss: 0.0933 - binary_accuracy: 0.8812 - val_loss: 0.0959 - val_binary_accuracy: 0.8788 - lr: 1.0000e-06\n",
      "Epoch 777/1000\n",
      "112/113 [============================>.] - ETA: 0s - loss: 0.0934 - binary_accuracy: 0.8807INFO:tensorflow:Assets written to: ../models/FCN/checkpoint/assets\n"
     ]
    },
    {
     "name": "stderr",
     "output_type": "stream",
     "text": [
      "INFO:tensorflow:Assets written to: ../models/FCN/checkpoint/assets\n"
     ]
    },
    {
     "name": "stdout",
     "output_type": "stream",
     "text": [
      "113/113 [==============================] - 1s 5ms/step - loss: 0.0934 - binary_accuracy: 0.8807 - val_loss: 0.0959 - val_binary_accuracy: 0.8787 - lr: 1.0000e-06\n",
      "Epoch 778/1000\n",
      "113/113 [==============================] - 0s 2ms/step - loss: 0.0932 - binary_accuracy: 0.8813 - val_loss: 0.0959 - val_binary_accuracy: 0.8787 - lr: 1.0000e-06\n",
      "Epoch 779/1000\n",
      " 90/113 [======================>.......] - ETA: 0s - loss: 0.0936 - binary_accuracy: 0.8807INFO:tensorflow:Assets written to: ../models/FCN/checkpoint/assets\n"
     ]
    },
    {
     "name": "stderr",
     "output_type": "stream",
     "text": [
      "INFO:tensorflow:Assets written to: ../models/FCN/checkpoint/assets\n"
     ]
    },
    {
     "name": "stdout",
     "output_type": "stream",
     "text": [
      "113/113 [==============================] - 1s 5ms/step - loss: 0.0933 - binary_accuracy: 0.8811 - val_loss: 0.0959 - val_binary_accuracy: 0.8787 - lr: 1.0000e-06\n",
      "Epoch 780/1000\n",
      " 86/113 [=====================>........] - ETA: 0s - loss: 0.0934 - binary_accuracy: 0.8812INFO:tensorflow:Assets written to: ../models/FCN/checkpoint/assets\n"
     ]
    },
    {
     "name": "stderr",
     "output_type": "stream",
     "text": [
      "INFO:tensorflow:Assets written to: ../models/FCN/checkpoint/assets\n"
     ]
    },
    {
     "name": "stdout",
     "output_type": "stream",
     "text": [
      "113/113 [==============================] - 0s 4ms/step - loss: 0.0935 - binary_accuracy: 0.8809 - val_loss: 0.0959 - val_binary_accuracy: 0.8788 - lr: 1.0000e-06\n",
      "Epoch 781/1000\n",
      "101/113 [=========================>....] - ETA: 0s - loss: 0.0932 - binary_accuracy: 0.8812INFO:tensorflow:Assets written to: ../models/FCN/checkpoint/assets\n"
     ]
    },
    {
     "name": "stderr",
     "output_type": "stream",
     "text": [
      "INFO:tensorflow:Assets written to: ../models/FCN/checkpoint/assets\n"
     ]
    },
    {
     "name": "stdout",
     "output_type": "stream",
     "text": [
      "113/113 [==============================] - 1s 5ms/step - loss: 0.0933 - binary_accuracy: 0.8811 - val_loss: 0.0959 - val_binary_accuracy: 0.8787 - lr: 1.0000e-06\n",
      "Epoch 782/1000\n",
      " 96/113 [========================>.....] - ETA: 0s - loss: 0.0930 - binary_accuracy: 0.8812INFO:tensorflow:Assets written to: ../models/FCN/checkpoint/assets\n"
     ]
    },
    {
     "name": "stderr",
     "output_type": "stream",
     "text": [
      "INFO:tensorflow:Assets written to: ../models/FCN/checkpoint/assets\n"
     ]
    },
    {
     "name": "stdout",
     "output_type": "stream",
     "text": [
      "113/113 [==============================] - 1s 10ms/step - loss: 0.0930 - binary_accuracy: 0.8811 - val_loss: 0.0959 - val_binary_accuracy: 0.8787 - lr: 1.0000e-06\n",
      "Epoch 783/1000\n",
      "110/113 [============================>.] - ETA: 0s - loss: 0.0937 - binary_accuracy: 0.8807INFO:tensorflow:Assets written to: ../models/FCN/checkpoint/assets\n"
     ]
    },
    {
     "name": "stderr",
     "output_type": "stream",
     "text": [
      "INFO:tensorflow:Assets written to: ../models/FCN/checkpoint/assets\n"
     ]
    },
    {
     "name": "stdout",
     "output_type": "stream",
     "text": [
      "113/113 [==============================] - 1s 5ms/step - loss: 0.0936 - binary_accuracy: 0.8808 - val_loss: 0.0959 - val_binary_accuracy: 0.8787 - lr: 1.0000e-06\n",
      "Epoch 784/1000\n",
      " 86/113 [=====================>........] - ETA: 0s - loss: 0.0931 - binary_accuracy: 0.8809INFO:tensorflow:Assets written to: ../models/FCN/checkpoint/assets\n"
     ]
    },
    {
     "name": "stderr",
     "output_type": "stream",
     "text": [
      "INFO:tensorflow:Assets written to: ../models/FCN/checkpoint/assets\n"
     ]
    },
    {
     "name": "stdout",
     "output_type": "stream",
     "text": [
      "113/113 [==============================] - 0s 4ms/step - loss: 0.0933 - binary_accuracy: 0.8808 - val_loss: 0.0959 - val_binary_accuracy: 0.8787 - lr: 1.0000e-06\n",
      "Epoch 785/1000\n",
      " 89/113 [======================>.......] - ETA: 0s - loss: 0.0932 - binary_accuracy: 0.8813INFO:tensorflow:Assets written to: ../models/FCN/checkpoint/assets\n"
     ]
    },
    {
     "name": "stderr",
     "output_type": "stream",
     "text": [
      "INFO:tensorflow:Assets written to: ../models/FCN/checkpoint/assets\n"
     ]
    },
    {
     "name": "stdout",
     "output_type": "stream",
     "text": [
      "113/113 [==============================] - 0s 4ms/step - loss: 0.0934 - binary_accuracy: 0.8812 - val_loss: 0.0959 - val_binary_accuracy: 0.8787 - lr: 1.0000e-06\n",
      "Epoch 786/1000\n",
      " 89/113 [======================>.......] - ETA: 0s - loss: 0.0931 - binary_accuracy: 0.8811INFO:tensorflow:Assets written to: ../models/FCN/checkpoint/assets\n"
     ]
    },
    {
     "name": "stderr",
     "output_type": "stream",
     "text": [
      "INFO:tensorflow:Assets written to: ../models/FCN/checkpoint/assets\n"
     ]
    },
    {
     "name": "stdout",
     "output_type": "stream",
     "text": [
      "113/113 [==============================] - 0s 4ms/step - loss: 0.0930 - binary_accuracy: 0.8811 - val_loss: 0.0959 - val_binary_accuracy: 0.8787 - lr: 1.0000e-06\n",
      "Epoch 787/1000\n",
      "113/113 [==============================] - 0s 2ms/step - loss: 0.0931 - binary_accuracy: 0.8809 - val_loss: 0.0959 - val_binary_accuracy: 0.8787 - lr: 1.0000e-06\n",
      "Epoch 788/1000\n",
      " 90/113 [======================>.......] - ETA: 0s - loss: 0.0929 - binary_accuracy: 0.8816INFO:tensorflow:Assets written to: ../models/FCN/checkpoint/assets\n"
     ]
    },
    {
     "name": "stderr",
     "output_type": "stream",
     "text": [
      "INFO:tensorflow:Assets written to: ../models/FCN/checkpoint/assets\n"
     ]
    },
    {
     "name": "stdout",
     "output_type": "stream",
     "text": [
      "113/113 [==============================] - 0s 4ms/step - loss: 0.0929 - binary_accuracy: 0.8814 - val_loss: 0.0959 - val_binary_accuracy: 0.8787 - lr: 1.0000e-06\n",
      "Epoch 789/1000\n",
      " 88/113 [======================>.......] - ETA: 0s - loss: 0.0931 - binary_accuracy: 0.8811INFO:tensorflow:Assets written to: ../models/FCN/checkpoint/assets\n"
     ]
    },
    {
     "name": "stderr",
     "output_type": "stream",
     "text": [
      "INFO:tensorflow:Assets written to: ../models/FCN/checkpoint/assets\n"
     ]
    },
    {
     "name": "stdout",
     "output_type": "stream",
     "text": [
      "113/113 [==============================] - 0s 4ms/step - loss: 0.0931 - binary_accuracy: 0.8811 - val_loss: 0.0959 - val_binary_accuracy: 0.8788 - lr: 1.0000e-06\n",
      "Epoch 790/1000\n",
      "100/113 [=========================>....] - ETA: 0s - loss: 0.0929 - binary_accuracy: 0.8811INFO:tensorflow:Assets written to: ../models/FCN/checkpoint/assets\n"
     ]
    },
    {
     "name": "stderr",
     "output_type": "stream",
     "text": [
      "INFO:tensorflow:Assets written to: ../models/FCN/checkpoint/assets\n"
     ]
    },
    {
     "name": "stdout",
     "output_type": "stream",
     "text": [
      "113/113 [==============================] - 1s 5ms/step - loss: 0.0930 - binary_accuracy: 0.8810 - val_loss: 0.0959 - val_binary_accuracy: 0.8787 - lr: 1.0000e-06\n",
      "Epoch 791/1000\n",
      "113/113 [==============================] - 0s 2ms/step - loss: 0.0933 - binary_accuracy: 0.8808 - val_loss: 0.0959 - val_binary_accuracy: 0.8787 - lr: 1.0000e-06\n",
      "Epoch 792/1000\n",
      " 90/113 [======================>.......] - ETA: 0s - loss: 0.0928 - binary_accuracy: 0.8817INFO:tensorflow:Assets written to: ../models/FCN/checkpoint/assets\n"
     ]
    },
    {
     "name": "stderr",
     "output_type": "stream",
     "text": [
      "INFO:tensorflow:Assets written to: ../models/FCN/checkpoint/assets\n"
     ]
    },
    {
     "name": "stdout",
     "output_type": "stream",
     "text": [
      "113/113 [==============================] - 0s 4ms/step - loss: 0.0933 - binary_accuracy: 0.8811 - val_loss: 0.0959 - val_binary_accuracy: 0.8787 - lr: 1.0000e-06\n",
      "Epoch 793/1000\n",
      " 90/113 [======================>.......] - ETA: 0s - loss: 0.0931 - binary_accuracy: 0.8811INFO:tensorflow:Assets written to: ../models/FCN/checkpoint/assets\n"
     ]
    },
    {
     "name": "stderr",
     "output_type": "stream",
     "text": [
      "INFO:tensorflow:Assets written to: ../models/FCN/checkpoint/assets\n"
     ]
    },
    {
     "name": "stdout",
     "output_type": "stream",
     "text": [
      "113/113 [==============================] - 0s 4ms/step - loss: 0.0932 - binary_accuracy: 0.8809 - val_loss: 0.0959 - val_binary_accuracy: 0.8787 - lr: 1.0000e-06\n",
      "Epoch 794/1000\n",
      "113/113 [==============================] - 0s 2ms/step - loss: 0.0932 - binary_accuracy: 0.8810 - val_loss: 0.0959 - val_binary_accuracy: 0.8787 - lr: 1.0000e-06\n",
      "Epoch 795/1000\n",
      "113/113 [==============================] - 0s 3ms/step - loss: 0.0930 - binary_accuracy: 0.8815 - val_loss: 0.0959 - val_binary_accuracy: 0.8787 - lr: 1.0000e-06\n",
      "Epoch 796/1000\n",
      "113/113 [==============================] - 0s 2ms/step - loss: 0.0931 - binary_accuracy: 0.8812 - val_loss: 0.0959 - val_binary_accuracy: 0.8787 - lr: 1.0000e-06\n",
      "Epoch 797/1000\n",
      " 89/113 [======================>.......] - ETA: 0s - loss: 0.0933 - binary_accuracy: 0.8812INFO:tensorflow:Assets written to: ../models/FCN/checkpoint/assets\n"
     ]
    },
    {
     "name": "stderr",
     "output_type": "stream",
     "text": [
      "INFO:tensorflow:Assets written to: ../models/FCN/checkpoint/assets\n"
     ]
    },
    {
     "name": "stdout",
     "output_type": "stream",
     "text": [
      "113/113 [==============================] - 0s 4ms/step - loss: 0.0932 - binary_accuracy: 0.8814 - val_loss: 0.0959 - val_binary_accuracy: 0.8787 - lr: 1.0000e-06\n",
      "Epoch 798/1000\n",
      "113/113 [==============================] - 0s 2ms/step - loss: 0.0933 - binary_accuracy: 0.8812 - val_loss: 0.0959 - val_binary_accuracy: 0.8787 - lr: 1.0000e-06\n",
      "Epoch 799/1000\n",
      "113/113 [==============================] - 0s 2ms/step - loss: 0.0932 - binary_accuracy: 0.8810 - val_loss: 0.0959 - val_binary_accuracy: 0.8787 - lr: 1.0000e-07\n",
      "Epoch 800/1000\n",
      "113/113 [==============================] - 0s 2ms/step - loss: 0.0933 - binary_accuracy: 0.8807 - val_loss: 0.0959 - val_binary_accuracy: 0.8787 - lr: 1.0000e-07\n",
      "Epoch 801/1000\n",
      "113/113 [==============================] - 0s 2ms/step - loss: 0.0931 - binary_accuracy: 0.8813 - val_loss: 0.0959 - val_binary_accuracy: 0.8787 - lr: 1.0000e-07\n",
      "Epoch 802/1000\n",
      "113/113 [==============================] - 0s 2ms/step - loss: 0.0933 - binary_accuracy: 0.8810 - val_loss: 0.0959 - val_binary_accuracy: 0.8787 - lr: 1.0000e-07\n",
      "Epoch 803/1000\n",
      "113/113 [==============================] - 0s 2ms/step - loss: 0.0932 - binary_accuracy: 0.8809 - val_loss: 0.0959 - val_binary_accuracy: 0.8787 - lr: 1.0000e-07\n",
      "Epoch 804/1000\n",
      "113/113 [==============================] - 0s 2ms/step - loss: 0.0933 - binary_accuracy: 0.8811 - val_loss: 0.0959 - val_binary_accuracy: 0.8787 - lr: 1.0000e-07\n",
      "Epoch 805/1000\n",
      "113/113 [==============================] - 0s 2ms/step - loss: 0.0934 - binary_accuracy: 0.8809 - val_loss: 0.0959 - val_binary_accuracy: 0.8787 - lr: 1.0000e-07\n",
      "Epoch 806/1000\n",
      "113/113 [==============================] - 0s 2ms/step - loss: 0.0932 - binary_accuracy: 0.8806 - val_loss: 0.0959 - val_binary_accuracy: 0.8787 - lr: 1.0000e-07\n",
      "Epoch 807/1000\n",
      "113/113 [==============================] - 0s 2ms/step - loss: 0.0934 - binary_accuracy: 0.8805 - val_loss: 0.0959 - val_binary_accuracy: 0.8787 - lr: 1.0000e-07\n",
      "Epoch 808/1000\n",
      "113/113 [==============================] - 0s 2ms/step - loss: 0.0936 - binary_accuracy: 0.8809 - val_loss: 0.0959 - val_binary_accuracy: 0.8787 - lr: 1.0000e-07\n",
      "Epoch 809/1000\n",
      " 88/113 [======================>.......] - ETA: 0s - loss: 0.0932 - binary_accuracy: 0.8814INFO:tensorflow:Assets written to: ../models/FCN/checkpoint/assets\n"
     ]
    },
    {
     "name": "stderr",
     "output_type": "stream",
     "text": [
      "INFO:tensorflow:Assets written to: ../models/FCN/checkpoint/assets\n"
     ]
    },
    {
     "name": "stdout",
     "output_type": "stream",
     "text": [
      "113/113 [==============================] - 0s 4ms/step - loss: 0.0933 - binary_accuracy: 0.8812 - val_loss: 0.0959 - val_binary_accuracy: 0.8787 - lr: 1.0000e-07\n",
      "Epoch 810/1000\n",
      " 89/113 [======================>.......] - ETA: 0s - loss: 0.0931 - binary_accuracy: 0.8812INFO:tensorflow:Assets written to: ../models/FCN/checkpoint/assets\n"
     ]
    },
    {
     "name": "stderr",
     "output_type": "stream",
     "text": [
      "INFO:tensorflow:Assets written to: ../models/FCN/checkpoint/assets\n"
     ]
    },
    {
     "name": "stdout",
     "output_type": "stream",
     "text": [
      "113/113 [==============================] - 0s 4ms/step - loss: 0.0933 - binary_accuracy: 0.8810 - val_loss: 0.0959 - val_binary_accuracy: 0.8787 - lr: 1.0000e-07\n",
      "Epoch 811/1000\n",
      " 87/113 [======================>.......] - ETA: 0s - loss: 0.0932 - binary_accuracy: 0.8812INFO:tensorflow:Assets written to: ../models/FCN/checkpoint/assets\n"
     ]
    },
    {
     "name": "stderr",
     "output_type": "stream",
     "text": [
      "INFO:tensorflow:Assets written to: ../models/FCN/checkpoint/assets\n"
     ]
    },
    {
     "name": "stdout",
     "output_type": "stream",
     "text": [
      "113/113 [==============================] - 0s 4ms/step - loss: 0.0932 - binary_accuracy: 0.8812 - val_loss: 0.0959 - val_binary_accuracy: 0.8787 - lr: 1.0000e-07\n",
      "Epoch 812/1000\n",
      " 90/113 [======================>.......] - ETA: 0s - loss: 0.0930 - binary_accuracy: 0.8813INFO:tensorflow:Assets written to: ../models/FCN/checkpoint/assets\n"
     ]
    },
    {
     "name": "stderr",
     "output_type": "stream",
     "text": [
      "INFO:tensorflow:Assets written to: ../models/FCN/checkpoint/assets\n"
     ]
    },
    {
     "name": "stdout",
     "output_type": "stream",
     "text": [
      "113/113 [==============================] - 0s 4ms/step - loss: 0.0929 - binary_accuracy: 0.8815 - val_loss: 0.0959 - val_binary_accuracy: 0.8787 - lr: 1.0000e-07\n",
      "Epoch 813/1000\n",
      "113/113 [==============================] - 0s 2ms/step - loss: 0.0929 - binary_accuracy: 0.8814 - val_loss: 0.0959 - val_binary_accuracy: 0.8787 - lr: 1.0000e-07\n",
      "Epoch 814/1000\n",
      "113/113 [==============================] - 0s 2ms/step - loss: 0.0932 - binary_accuracy: 0.8807 - val_loss: 0.0959 - val_binary_accuracy: 0.8787 - lr: 1.0000e-07\n",
      "Epoch 815/1000\n",
      "113/113 [==============================] - 0s 2ms/step - loss: 0.0934 - binary_accuracy: 0.8810 - val_loss: 0.0959 - val_binary_accuracy: 0.8787 - lr: 1.0000e-07\n",
      "Epoch 816/1000\n",
      "113/113 [==============================] - 0s 2ms/step - loss: 0.0931 - binary_accuracy: 0.8813 - val_loss: 0.0959 - val_binary_accuracy: 0.8787 - lr: 1.0000e-07\n",
      "Epoch 817/1000\n",
      "113/113 [==============================] - 0s 2ms/step - loss: 0.0931 - binary_accuracy: 0.8814 - val_loss: 0.0959 - val_binary_accuracy: 0.8787 - lr: 1.0000e-07\n",
      "Epoch 818/1000\n",
      " 90/113 [======================>.......] - ETA: 0s - loss: 0.0937 - binary_accuracy: 0.8805INFO:tensorflow:Assets written to: ../models/FCN/checkpoint/assets\n"
     ]
    },
    {
     "name": "stderr",
     "output_type": "stream",
     "text": [
      "INFO:tensorflow:Assets written to: ../models/FCN/checkpoint/assets\n"
     ]
    },
    {
     "name": "stdout",
     "output_type": "stream",
     "text": [
      "113/113 [==============================] - 0s 4ms/step - loss: 0.0936 - binary_accuracy: 0.8806 - val_loss: 0.0959 - val_binary_accuracy: 0.8787 - lr: 1.0000e-07\n",
      "Epoch 819/1000\n",
      " 89/113 [======================>.......] - ETA: 0s - loss: 0.0934 - binary_accuracy: 0.8809INFO:tensorflow:Assets written to: ../models/FCN/checkpoint/assets\n"
     ]
    },
    {
     "name": "stderr",
     "output_type": "stream",
     "text": [
      "INFO:tensorflow:Assets written to: ../models/FCN/checkpoint/assets\n"
     ]
    },
    {
     "name": "stdout",
     "output_type": "stream",
     "text": [
      "113/113 [==============================] - 1s 4ms/step - loss: 0.0931 - binary_accuracy: 0.8812 - val_loss: 0.0959 - val_binary_accuracy: 0.8787 - lr: 1.0000e-07\n",
      "Epoch 820/1000\n",
      " 88/113 [======================>.......] - ETA: 0s - loss: 0.0933 - binary_accuracy: 0.8810INFO:tensorflow:Assets written to: ../models/FCN/checkpoint/assets\n"
     ]
    },
    {
     "name": "stderr",
     "output_type": "stream",
     "text": [
      "INFO:tensorflow:Assets written to: ../models/FCN/checkpoint/assets\n"
     ]
    },
    {
     "name": "stdout",
     "output_type": "stream",
     "text": [
      "113/113 [==============================] - 0s 4ms/step - loss: 0.0933 - binary_accuracy: 0.8809 - val_loss: 0.0959 - val_binary_accuracy: 0.8787 - lr: 1.0000e-07\n",
      "Epoch 821/1000\n",
      "113/113 [==============================] - 0s 2ms/step - loss: 0.0934 - binary_accuracy: 0.8809 - val_loss: 0.0959 - val_binary_accuracy: 0.8787 - lr: 1.0000e-07\n",
      "Epoch 822/1000\n",
      " 99/113 [=========================>....] - ETA: 0s - loss: 0.0930 - binary_accuracy: 0.8811INFO:tensorflow:Assets written to: ../models/FCN/checkpoint/assets\n"
     ]
    },
    {
     "name": "stderr",
     "output_type": "stream",
     "text": [
      "INFO:tensorflow:Assets written to: ../models/FCN/checkpoint/assets\n"
     ]
    },
    {
     "name": "stdout",
     "output_type": "stream",
     "text": [
      "113/113 [==============================] - 1s 6ms/step - loss: 0.0930 - binary_accuracy: 0.8812 - val_loss: 0.0959 - val_binary_accuracy: 0.8787 - lr: 1.0000e-07\n",
      "Epoch 823/1000\n",
      "113/113 [==============================] - 0s 2ms/step - loss: 0.0934 - binary_accuracy: 0.8810 - val_loss: 0.0959 - val_binary_accuracy: 0.8787 - lr: 1.0000e-07\n",
      "Epoch 824/1000\n",
      " 91/113 [=======================>......] - ETA: 0s - loss: 0.0928 - binary_accuracy: 0.8809INFO:tensorflow:Assets written to: ../models/FCN/checkpoint/assets\n"
     ]
    },
    {
     "name": "stderr",
     "output_type": "stream",
     "text": [
      "INFO:tensorflow:Assets written to: ../models/FCN/checkpoint/assets\n"
     ]
    },
    {
     "name": "stdout",
     "output_type": "stream",
     "text": [
      "113/113 [==============================] - 0s 4ms/step - loss: 0.0930 - binary_accuracy: 0.8808 - val_loss: 0.0959 - val_binary_accuracy: 0.8787 - lr: 1.0000e-08\n",
      "Epoch 825/1000\n",
      " 90/113 [======================>.......] - ETA: 0s - loss: 0.0932 - binary_accuracy: 0.8810INFO:tensorflow:Assets written to: ../models/FCN/checkpoint/assets\n"
     ]
    },
    {
     "name": "stderr",
     "output_type": "stream",
     "text": [
      "INFO:tensorflow:Assets written to: ../models/FCN/checkpoint/assets\n"
     ]
    },
    {
     "name": "stdout",
     "output_type": "stream",
     "text": [
      "113/113 [==============================] - 1s 9ms/step - loss: 0.0931 - binary_accuracy: 0.8812 - val_loss: 0.0959 - val_binary_accuracy: 0.8787 - lr: 1.0000e-08\n",
      "Epoch 826/1000\n",
      "113/113 [==============================] - 0s 2ms/step - loss: 0.0932 - binary_accuracy: 0.8808 - val_loss: 0.0959 - val_binary_accuracy: 0.8787 - lr: 1.0000e-08\n",
      "Epoch 827/1000\n",
      " 89/113 [======================>.......] - ETA: 0s - loss: 0.0933 - binary_accuracy: 0.8809INFO:tensorflow:Assets written to: ../models/FCN/checkpoint/assets\n"
     ]
    },
    {
     "name": "stderr",
     "output_type": "stream",
     "text": [
      "INFO:tensorflow:Assets written to: ../models/FCN/checkpoint/assets\n"
     ]
    },
    {
     "name": "stdout",
     "output_type": "stream",
     "text": [
      "113/113 [==============================] - 1s 4ms/step - loss: 0.0935 - binary_accuracy: 0.8808 - val_loss: 0.0959 - val_binary_accuracy: 0.8787 - lr: 1.0000e-08\n",
      "Epoch 828/1000\n",
      "113/113 [==============================] - 0s 2ms/step - loss: 0.0934 - binary_accuracy: 0.8810 - val_loss: 0.0959 - val_binary_accuracy: 0.8787 - lr: 1.0000e-08\n",
      "Epoch 829/1000\n",
      "113/113 [==============================] - 0s 2ms/step - loss: 0.0932 - binary_accuracy: 0.8810 - val_loss: 0.0959 - val_binary_accuracy: 0.8787 - lr: 1.0000e-08\n",
      "Epoch 830/1000\n",
      "113/113 [==============================] - 0s 2ms/step - loss: 0.0933 - binary_accuracy: 0.8809 - val_loss: 0.0959 - val_binary_accuracy: 0.8787 - lr: 1.0000e-08\n",
      "Epoch 831/1000\n",
      "113/113 [==============================] - 0s 2ms/step - loss: 0.0931 - binary_accuracy: 0.8811 - val_loss: 0.0959 - val_binary_accuracy: 0.8787 - lr: 1.0000e-08\n",
      "Epoch 832/1000\n",
      "113/113 [==============================] - 0s 2ms/step - loss: 0.0931 - binary_accuracy: 0.8810 - val_loss: 0.0959 - val_binary_accuracy: 0.8787 - lr: 1.0000e-08\n",
      "Epoch 833/1000\n",
      "113/113 [==============================] - 0s 2ms/step - loss: 0.0934 - binary_accuracy: 0.8810 - val_loss: 0.0959 - val_binary_accuracy: 0.8787 - lr: 1.0000e-08\n",
      "Epoch 834/1000\n",
      "113/113 [==============================] - 0s 2ms/step - loss: 0.0930 - binary_accuracy: 0.8815 - val_loss: 0.0959 - val_binary_accuracy: 0.8787 - lr: 1.0000e-08\n",
      "Epoch 835/1000\n",
      "113/113 [==============================] - 0s 2ms/step - loss: 0.0932 - binary_accuracy: 0.8809 - val_loss: 0.0959 - val_binary_accuracy: 0.8787 - lr: 1.0000e-08\n",
      "Epoch 836/1000\n",
      "113/113 [==============================] - 0s 2ms/step - loss: 0.0933 - binary_accuracy: 0.8811 - val_loss: 0.0959 - val_binary_accuracy: 0.8787 - lr: 1.0000e-08\n",
      "Epoch 837/1000\n",
      " 90/113 [======================>.......] - ETA: 0s - loss: 0.0934 - binary_accuracy: 0.8807INFO:tensorflow:Assets written to: ../models/FCN/checkpoint/assets\n"
     ]
    },
    {
     "name": "stderr",
     "output_type": "stream",
     "text": [
      "INFO:tensorflow:Assets written to: ../models/FCN/checkpoint/assets\n"
     ]
    },
    {
     "name": "stdout",
     "output_type": "stream",
     "text": [
      "113/113 [==============================] - 0s 4ms/step - loss: 0.0934 - binary_accuracy: 0.8809 - val_loss: 0.0959 - val_binary_accuracy: 0.8787 - lr: 1.0000e-08\n",
      "Epoch 838/1000\n",
      "113/113 [==============================] - 0s 2ms/step - loss: 0.0934 - binary_accuracy: 0.8806 - val_loss: 0.0959 - val_binary_accuracy: 0.8787 - lr: 1.0000e-08\n",
      "Epoch 839/1000\n",
      "113/113 [==============================] - 0s 2ms/step - loss: 0.0931 - binary_accuracy: 0.8813 - val_loss: 0.0959 - val_binary_accuracy: 0.8787 - lr: 1.0000e-08\n",
      "Epoch 840/1000\n",
      "113/113 [==============================] - 0s 2ms/step - loss: 0.0931 - binary_accuracy: 0.8814 - val_loss: 0.0959 - val_binary_accuracy: 0.8787 - lr: 1.0000e-08\n",
      "Epoch 841/1000\n",
      "113/113 [==============================] - 0s 2ms/step - loss: 0.0934 - binary_accuracy: 0.8807 - val_loss: 0.0959 - val_binary_accuracy: 0.8787 - lr: 1.0000e-08\n",
      "Epoch 842/1000\n",
      "113/113 [==============================] - 0s 2ms/step - loss: 0.0935 - binary_accuracy: 0.8808 - val_loss: 0.0959 - val_binary_accuracy: 0.8787 - lr: 1.0000e-08\n",
      "Epoch 843/1000\n",
      "113/113 [==============================] - 0s 2ms/step - loss: 0.0934 - binary_accuracy: 0.8804 - val_loss: 0.0959 - val_binary_accuracy: 0.8787 - lr: 1.0000e-08\n",
      "Epoch 844/1000\n",
      "113/113 [==============================] - 0s 2ms/step - loss: 0.0934 - binary_accuracy: 0.8809 - val_loss: 0.0959 - val_binary_accuracy: 0.8787 - lr: 1.0000e-08\n",
      "Epoch 845/1000\n",
      " 91/113 [=======================>......] - ETA: 0s - loss: 0.0934 - binary_accuracy: 0.8804INFO:tensorflow:Assets written to: ../models/FCN/checkpoint/assets\n"
     ]
    },
    {
     "name": "stderr",
     "output_type": "stream",
     "text": [
      "INFO:tensorflow:Assets written to: ../models/FCN/checkpoint/assets\n"
     ]
    },
    {
     "name": "stdout",
     "output_type": "stream",
     "text": [
      "113/113 [==============================] - 0s 4ms/step - loss: 0.0934 - binary_accuracy: 0.8805 - val_loss: 0.0959 - val_binary_accuracy: 0.8787 - lr: 1.0000e-08\n",
      "Epoch 846/1000\n",
      "113/113 [==============================] - 0s 2ms/step - loss: 0.0931 - binary_accuracy: 0.8814 - val_loss: 0.0959 - val_binary_accuracy: 0.8787 - lr: 1.0000e-08\n",
      "Epoch 847/1000\n",
      "113/113 [==============================] - 0s 3ms/step - loss: 0.0931 - binary_accuracy: 0.8813 - val_loss: 0.0959 - val_binary_accuracy: 0.8787 - lr: 1.0000e-08\n",
      "Epoch 848/1000\n",
      " 90/113 [======================>.......] - ETA: 0s - loss: 0.0931 - binary_accuracy: 0.8814INFO:tensorflow:Assets written to: ../models/FCN/checkpoint/assets\n"
     ]
    },
    {
     "name": "stderr",
     "output_type": "stream",
     "text": [
      "INFO:tensorflow:Assets written to: ../models/FCN/checkpoint/assets\n"
     ]
    },
    {
     "name": "stdout",
     "output_type": "stream",
     "text": [
      "113/113 [==============================] - 0s 4ms/step - loss: 0.0933 - binary_accuracy: 0.8813 - val_loss: 0.0959 - val_binary_accuracy: 0.8787 - lr: 1.0000e-08\n",
      "Epoch 849/1000\n",
      "113/113 [==============================] - 0s 2ms/step - loss: 0.0932 - binary_accuracy: 0.8810 - val_loss: 0.0959 - val_binary_accuracy: 0.8787 - lr: 1.0000e-09\n",
      "Epoch 850/1000\n",
      " 91/113 [=======================>......] - ETA: 0s - loss: 0.0929 - binary_accuracy: 0.8815INFO:tensorflow:Assets written to: ../models/FCN/checkpoint/assets\n"
     ]
    },
    {
     "name": "stderr",
     "output_type": "stream",
     "text": [
      "INFO:tensorflow:Assets written to: ../models/FCN/checkpoint/assets\n"
     ]
    },
    {
     "name": "stdout",
     "output_type": "stream",
     "text": [
      "113/113 [==============================] - 0s 4ms/step - loss: 0.0930 - binary_accuracy: 0.8815 - val_loss: 0.0959 - val_binary_accuracy: 0.8787 - lr: 1.0000e-09\n",
      "Epoch 851/1000\n",
      "113/113 [==============================] - 0s 2ms/step - loss: 0.0933 - binary_accuracy: 0.8808 - val_loss: 0.0959 - val_binary_accuracy: 0.8787 - lr: 1.0000e-09\n",
      "Epoch 852/1000\n",
      "113/113 [==============================] - 0s 2ms/step - loss: 0.0933 - binary_accuracy: 0.8809 - val_loss: 0.0959 - val_binary_accuracy: 0.8787 - lr: 1.0000e-09\n",
      "Epoch 853/1000\n",
      "113/113 [==============================] - 0s 2ms/step - loss: 0.0933 - binary_accuracy: 0.8808 - val_loss: 0.0959 - val_binary_accuracy: 0.8787 - lr: 1.0000e-09\n",
      "Epoch 854/1000\n",
      "113/113 [==============================] - 0s 2ms/step - loss: 0.0933 - binary_accuracy: 0.8808 - val_loss: 0.0959 - val_binary_accuracy: 0.8787 - lr: 1.0000e-09\n",
      "Epoch 855/1000\n",
      "113/113 [==============================] - 0s 2ms/step - loss: 0.0932 - binary_accuracy: 0.8812 - val_loss: 0.0959 - val_binary_accuracy: 0.8787 - lr: 1.0000e-09\n",
      "Epoch 856/1000\n",
      "113/113 [==============================] - 0s 2ms/step - loss: 0.0934 - binary_accuracy: 0.8811 - val_loss: 0.0959 - val_binary_accuracy: 0.8787 - lr: 1.0000e-09\n",
      "Epoch 857/1000\n",
      "113/113 [==============================] - 0s 2ms/step - loss: 0.0930 - binary_accuracy: 0.8814 - val_loss: 0.0959 - val_binary_accuracy: 0.8787 - lr: 1.0000e-09\n",
      "Epoch 858/1000\n",
      "113/113 [==============================] - 0s 2ms/step - loss: 0.0935 - binary_accuracy: 0.8805 - val_loss: 0.0959 - val_binary_accuracy: 0.8787 - lr: 1.0000e-09\n",
      "Epoch 859/1000\n",
      "113/113 [==============================] - 0s 2ms/step - loss: 0.0931 - binary_accuracy: 0.8809 - val_loss: 0.0959 - val_binary_accuracy: 0.8787 - lr: 1.0000e-09\n",
      "Epoch 860/1000\n",
      "113/113 [==============================] - 0s 2ms/step - loss: 0.0931 - binary_accuracy: 0.8813 - val_loss: 0.0959 - val_binary_accuracy: 0.8787 - lr: 1.0000e-09\n",
      "Epoch 861/1000\n",
      "113/113 [==============================] - 0s 2ms/step - loss: 0.0931 - binary_accuracy: 0.8811 - val_loss: 0.0959 - val_binary_accuracy: 0.8787 - lr: 1.0000e-09\n",
      "Epoch 862/1000\n",
      "113/113 [==============================] - 0s 2ms/step - loss: 0.0930 - binary_accuracy: 0.8812 - val_loss: 0.0959 - val_binary_accuracy: 0.8787 - lr: 1.0000e-09\n",
      "Epoch 863/1000\n",
      "113/113 [==============================] - 0s 2ms/step - loss: 0.0931 - binary_accuracy: 0.8813 - val_loss: 0.0959 - val_binary_accuracy: 0.8787 - lr: 1.0000e-09\n",
      "Epoch 864/1000\n",
      "113/113 [==============================] - 0s 2ms/step - loss: 0.0933 - binary_accuracy: 0.8809 - val_loss: 0.0959 - val_binary_accuracy: 0.8787 - lr: 1.0000e-09\n",
      "Epoch 865/1000\n",
      "113/113 [==============================] - 0s 2ms/step - loss: 0.0931 - binary_accuracy: 0.8814 - val_loss: 0.0959 - val_binary_accuracy: 0.8787 - lr: 1.0000e-09\n",
      "Epoch 866/1000\n",
      "113/113 [==============================] - 0s 2ms/step - loss: 0.0932 - binary_accuracy: 0.8808 - val_loss: 0.0959 - val_binary_accuracy: 0.8787 - lr: 1.0000e-09\n",
      "Epoch 867/1000\n",
      "113/113 [==============================] - 0s 2ms/step - loss: 0.0934 - binary_accuracy: 0.8809 - val_loss: 0.0959 - val_binary_accuracy: 0.8787 - lr: 1.0000e-09\n",
      "Epoch 868/1000\n",
      "113/113 [==============================] - 0s 2ms/step - loss: 0.0931 - binary_accuracy: 0.8811 - val_loss: 0.0959 - val_binary_accuracy: 0.8787 - lr: 1.0000e-09\n",
      "Epoch 869/1000\n",
      "113/113 [==============================] - 0s 2ms/step - loss: 0.0932 - binary_accuracy: 0.8810 - val_loss: 0.0959 - val_binary_accuracy: 0.8787 - lr: 1.0000e-09\n",
      "Epoch 870/1000\n",
      "113/113 [==============================] - 0s 2ms/step - loss: 0.0934 - binary_accuracy: 0.8806 - val_loss: 0.0959 - val_binary_accuracy: 0.8787 - lr: 1.0000e-09\n",
      "Epoch 871/1000\n",
      "113/113 [==============================] - 0s 2ms/step - loss: 0.0935 - binary_accuracy: 0.8805 - val_loss: 0.0959 - val_binary_accuracy: 0.8787 - lr: 1.0000e-09\n",
      "Epoch 872/1000\n",
      "113/113 [==============================] - 0s 2ms/step - loss: 0.0935 - binary_accuracy: 0.8810 - val_loss: 0.0959 - val_binary_accuracy: 0.8787 - lr: 1.0000e-09\n",
      "Epoch 873/1000\n",
      "113/113 [==============================] - 0s 2ms/step - loss: 0.0931 - binary_accuracy: 0.8815 - val_loss: 0.0959 - val_binary_accuracy: 0.8787 - lr: 1.0000e-09\n",
      "Epoch 874/1000\n",
      "113/113 [==============================] - 0s 2ms/step - loss: 0.0931 - binary_accuracy: 0.8812 - val_loss: 0.0959 - val_binary_accuracy: 0.8787 - lr: 1.0000e-10\n",
      "Epoch 875/1000\n",
      "113/113 [==============================] - 0s 2ms/step - loss: 0.0933 - binary_accuracy: 0.8810 - val_loss: 0.0959 - val_binary_accuracy: 0.8787 - lr: 1.0000e-10\n",
      "Epoch 876/1000\n",
      "113/113 [==============================] - 0s 2ms/step - loss: 0.0933 - binary_accuracy: 0.8810 - val_loss: 0.0959 - val_binary_accuracy: 0.8787 - lr: 1.0000e-10\n",
      "Epoch 877/1000\n",
      "113/113 [==============================] - 0s 2ms/step - loss: 0.0932 - binary_accuracy: 0.8809 - val_loss: 0.0959 - val_binary_accuracy: 0.8787 - lr: 1.0000e-10\n",
      "Epoch 878/1000\n",
      "113/113 [==============================] - 0s 2ms/step - loss: 0.0932 - binary_accuracy: 0.8810 - val_loss: 0.0959 - val_binary_accuracy: 0.8787 - lr: 1.0000e-10\n",
      "Epoch 879/1000\n",
      "113/113 [==============================] - 0s 2ms/step - loss: 0.0934 - binary_accuracy: 0.8809 - val_loss: 0.0959 - val_binary_accuracy: 0.8787 - lr: 1.0000e-10\n",
      "Epoch 880/1000\n",
      "113/113 [==============================] - 0s 2ms/step - loss: 0.0932 - binary_accuracy: 0.8810 - val_loss: 0.0959 - val_binary_accuracy: 0.8787 - lr: 1.0000e-10\n",
      "Epoch 881/1000\n",
      "113/113 [==============================] - 0s 2ms/step - loss: 0.0932 - binary_accuracy: 0.8810 - val_loss: 0.0959 - val_binary_accuracy: 0.8787 - lr: 1.0000e-10\n",
      "Epoch 882/1000\n",
      "113/113 [==============================] - 0s 2ms/step - loss: 0.0931 - binary_accuracy: 0.8810 - val_loss: 0.0959 - val_binary_accuracy: 0.8787 - lr: 1.0000e-10\n",
      "Epoch 883/1000\n",
      "113/113 [==============================] - 0s 2ms/step - loss: 0.0932 - binary_accuracy: 0.8813 - val_loss: 0.0959 - val_binary_accuracy: 0.8787 - lr: 1.0000e-10\n",
      "Epoch 884/1000\n",
      "113/113 [==============================] - 0s 2ms/step - loss: 0.0929 - binary_accuracy: 0.8815 - val_loss: 0.0959 - val_binary_accuracy: 0.8787 - lr: 1.0000e-10\n",
      "Epoch 885/1000\n",
      "113/113 [==============================] - 0s 2ms/step - loss: 0.0936 - binary_accuracy: 0.8807 - val_loss: 0.0959 - val_binary_accuracy: 0.8787 - lr: 1.0000e-10\n",
      "Epoch 886/1000\n",
      "113/113 [==============================] - 0s 2ms/step - loss: 0.0934 - binary_accuracy: 0.8808 - val_loss: 0.0959 - val_binary_accuracy: 0.8787 - lr: 1.0000e-10\n",
      "Epoch 887/1000\n",
      "113/113 [==============================] - 0s 2ms/step - loss: 0.0933 - binary_accuracy: 0.8811 - val_loss: 0.0959 - val_binary_accuracy: 0.8787 - lr: 1.0000e-10\n",
      "Epoch 888/1000\n",
      "113/113 [==============================] - 0s 2ms/step - loss: 0.0932 - binary_accuracy: 0.8809 - val_loss: 0.0959 - val_binary_accuracy: 0.8787 - lr: 1.0000e-10\n",
      "Epoch 889/1000\n",
      "113/113 [==============================] - 0s 2ms/step - loss: 0.0932 - binary_accuracy: 0.8810 - val_loss: 0.0959 - val_binary_accuracy: 0.8787 - lr: 1.0000e-10\n",
      "Epoch 890/1000\n",
      "113/113 [==============================] - 0s 2ms/step - loss: 0.0934 - binary_accuracy: 0.8804 - val_loss: 0.0959 - val_binary_accuracy: 0.8787 - lr: 1.0000e-10\n",
      "Epoch 891/1000\n",
      "113/113 [==============================] - 0s 2ms/step - loss: 0.0934 - binary_accuracy: 0.8814 - val_loss: 0.0959 - val_binary_accuracy: 0.8787 - lr: 1.0000e-10\n",
      "Epoch 892/1000\n",
      "113/113 [==============================] - 0s 2ms/step - loss: 0.0933 - binary_accuracy: 0.8809 - val_loss: 0.0959 - val_binary_accuracy: 0.8787 - lr: 1.0000e-10\n",
      "Epoch 893/1000\n",
      "113/113 [==============================] - 0s 2ms/step - loss: 0.0932 - binary_accuracy: 0.8808 - val_loss: 0.0959 - val_binary_accuracy: 0.8787 - lr: 1.0000e-10\n",
      "Epoch 894/1000\n",
      "113/113 [==============================] - 0s 2ms/step - loss: 0.0934 - binary_accuracy: 0.8807 - val_loss: 0.0959 - val_binary_accuracy: 0.8787 - lr: 1.0000e-10\n",
      "Epoch 895/1000\n",
      "113/113 [==============================] - 0s 2ms/step - loss: 0.0932 - binary_accuracy: 0.8809 - val_loss: 0.0959 - val_binary_accuracy: 0.8787 - lr: 1.0000e-10\n",
      "Epoch 896/1000\n",
      "113/113 [==============================] - 0s 2ms/step - loss: 0.0931 - binary_accuracy: 0.8810 - val_loss: 0.0959 - val_binary_accuracy: 0.8787 - lr: 1.0000e-10\n",
      "Epoch 897/1000\n",
      "113/113 [==============================] - 0s 2ms/step - loss: 0.0933 - binary_accuracy: 0.8806 - val_loss: 0.0959 - val_binary_accuracy: 0.8787 - lr: 1.0000e-10\n",
      "Epoch 898/1000\n",
      "113/113 [==============================] - 0s 2ms/step - loss: 0.0935 - binary_accuracy: 0.8806 - val_loss: 0.0959 - val_binary_accuracy: 0.8787 - lr: 1.0000e-10\n",
      "Epoch 899/1000\n",
      "113/113 [==============================] - 0s 2ms/step - loss: 0.0933 - binary_accuracy: 0.8809 - val_loss: 0.0959 - val_binary_accuracy: 0.8787 - lr: 1.0000e-11\n",
      "Epoch 900/1000\n",
      "113/113 [==============================] - 0s 2ms/step - loss: 0.0934 - binary_accuracy: 0.8812 - val_loss: 0.0959 - val_binary_accuracy: 0.8787 - lr: 1.0000e-11\n",
      "Epoch 901/1000\n",
      "113/113 [==============================] - 0s 2ms/step - loss: 0.0932 - binary_accuracy: 0.8811 - val_loss: 0.0959 - val_binary_accuracy: 0.8787 - lr: 1.0000e-11\n",
      "Epoch 902/1000\n",
      "113/113 [==============================] - 0s 2ms/step - loss: 0.0933 - binary_accuracy: 0.8810 - val_loss: 0.0959 - val_binary_accuracy: 0.8787 - lr: 1.0000e-11\n",
      "Epoch 903/1000\n",
      "113/113 [==============================] - 0s 2ms/step - loss: 0.0931 - binary_accuracy: 0.8813 - val_loss: 0.0959 - val_binary_accuracy: 0.8787 - lr: 1.0000e-11\n",
      "Epoch 904/1000\n",
      "113/113 [==============================] - 0s 2ms/step - loss: 0.0934 - binary_accuracy: 0.8810 - val_loss: 0.0959 - val_binary_accuracy: 0.8787 - lr: 1.0000e-11\n",
      "Epoch 905/1000\n",
      "113/113 [==============================] - 0s 2ms/step - loss: 0.0932 - binary_accuracy: 0.8813 - val_loss: 0.0959 - val_binary_accuracy: 0.8787 - lr: 1.0000e-11\n",
      "Epoch 906/1000\n",
      "113/113 [==============================] - 0s 2ms/step - loss: 0.0932 - binary_accuracy: 0.8809 - val_loss: 0.0959 - val_binary_accuracy: 0.8787 - lr: 1.0000e-11\n",
      "Epoch 907/1000\n",
      "113/113 [==============================] - 0s 2ms/step - loss: 0.0933 - binary_accuracy: 0.8807 - val_loss: 0.0959 - val_binary_accuracy: 0.8787 - lr: 1.0000e-11\n",
      "Epoch 908/1000\n",
      "113/113 [==============================] - 0s 2ms/step - loss: 0.0932 - binary_accuracy: 0.8813 - val_loss: 0.0959 - val_binary_accuracy: 0.8787 - lr: 1.0000e-11\n",
      "Epoch 909/1000\n",
      "113/113 [==============================] - 0s 2ms/step - loss: 0.0933 - binary_accuracy: 0.8809 - val_loss: 0.0959 - val_binary_accuracy: 0.8787 - lr: 1.0000e-11\n",
      "Epoch 910/1000\n",
      "113/113 [==============================] - 0s 2ms/step - loss: 0.0931 - binary_accuracy: 0.8809 - val_loss: 0.0959 - val_binary_accuracy: 0.8787 - lr: 1.0000e-11\n",
      "Epoch 911/1000\n",
      "113/113 [==============================] - 0s 2ms/step - loss: 0.0936 - binary_accuracy: 0.8809 - val_loss: 0.0959 - val_binary_accuracy: 0.8787 - lr: 1.0000e-11\n",
      "Epoch 912/1000\n",
      "113/113 [==============================] - 0s 2ms/step - loss: 0.0933 - binary_accuracy: 0.8810 - val_loss: 0.0959 - val_binary_accuracy: 0.8787 - lr: 1.0000e-11\n",
      "Epoch 913/1000\n",
      "113/113 [==============================] - 0s 2ms/step - loss: 0.0932 - binary_accuracy: 0.8810 - val_loss: 0.0959 - val_binary_accuracy: 0.8787 - lr: 1.0000e-11\n",
      "Epoch 914/1000\n",
      "113/113 [==============================] - 0s 2ms/step - loss: 0.0933 - binary_accuracy: 0.8808 - val_loss: 0.0959 - val_binary_accuracy: 0.8787 - lr: 1.0000e-11\n",
      "Epoch 915/1000\n",
      "113/113 [==============================] - 0s 2ms/step - loss: 0.0929 - binary_accuracy: 0.8812 - val_loss: 0.0959 - val_binary_accuracy: 0.8787 - lr: 1.0000e-11\n",
      "Epoch 916/1000\n",
      "113/113 [==============================] - 0s 2ms/step - loss: 0.0929 - binary_accuracy: 0.8813 - val_loss: 0.0959 - val_binary_accuracy: 0.8787 - lr: 1.0000e-11\n",
      "Epoch 917/1000\n",
      "113/113 [==============================] - 0s 2ms/step - loss: 0.0933 - binary_accuracy: 0.8811 - val_loss: 0.0959 - val_binary_accuracy: 0.8787 - lr: 1.0000e-11\n",
      "Epoch 918/1000\n",
      "113/113 [==============================] - 0s 2ms/step - loss: 0.0932 - binary_accuracy: 0.8812 - val_loss: 0.0959 - val_binary_accuracy: 0.8787 - lr: 1.0000e-11\n",
      "Epoch 919/1000\n",
      "113/113 [==============================] - 0s 2ms/step - loss: 0.0930 - binary_accuracy: 0.8814 - val_loss: 0.0959 - val_binary_accuracy: 0.8787 - lr: 1.0000e-11\n",
      "Epoch 920/1000\n",
      "113/113 [==============================] - 0s 2ms/step - loss: 0.0932 - binary_accuracy: 0.8809 - val_loss: 0.0959 - val_binary_accuracy: 0.8787 - lr: 1.0000e-11\n",
      "Epoch 921/1000\n",
      "113/113 [==============================] - 0s 2ms/step - loss: 0.0930 - binary_accuracy: 0.8812 - val_loss: 0.0959 - val_binary_accuracy: 0.8787 - lr: 1.0000e-11\n",
      "Epoch 922/1000\n",
      "113/113 [==============================] - 0s 2ms/step - loss: 0.0934 - binary_accuracy: 0.8809 - val_loss: 0.0959 - val_binary_accuracy: 0.8787 - lr: 1.0000e-11\n",
      "Epoch 923/1000\n",
      "113/113 [==============================] - 0s 2ms/step - loss: 0.0933 - binary_accuracy: 0.8807 - val_loss: 0.0959 - val_binary_accuracy: 0.8787 - lr: 1.0000e-11\n",
      "Epoch 924/1000\n",
      "113/113 [==============================] - 0s 2ms/step - loss: 0.0934 - binary_accuracy: 0.8809 - val_loss: 0.0959 - val_binary_accuracy: 0.8787 - lr: 1.0000e-12\n",
      "Epoch 925/1000\n",
      "113/113 [==============================] - 0s 2ms/step - loss: 0.0934 - binary_accuracy: 0.8810 - val_loss: 0.0959 - val_binary_accuracy: 0.8787 - lr: 1.0000e-12\n",
      "Epoch 926/1000\n",
      "113/113 [==============================] - 0s 2ms/step - loss: 0.0937 - binary_accuracy: 0.8805 - val_loss: 0.0959 - val_binary_accuracy: 0.8787 - lr: 1.0000e-12\n",
      "Epoch 927/1000\n",
      "113/113 [==============================] - 0s 2ms/step - loss: 0.0936 - binary_accuracy: 0.8805 - val_loss: 0.0959 - val_binary_accuracy: 0.8787 - lr: 1.0000e-12\n",
      "Epoch 928/1000\n",
      "113/113 [==============================] - 0s 2ms/step - loss: 0.0931 - binary_accuracy: 0.8813 - val_loss: 0.0959 - val_binary_accuracy: 0.8787 - lr: 1.0000e-12\n",
      "Epoch 929/1000\n",
      "113/113 [==============================] - 0s 2ms/step - loss: 0.0934 - binary_accuracy: 0.8807 - val_loss: 0.0959 - val_binary_accuracy: 0.8787 - lr: 1.0000e-12\n",
      "Epoch 930/1000\n",
      "113/113 [==============================] - 0s 2ms/step - loss: 0.0933 - binary_accuracy: 0.8809 - val_loss: 0.0959 - val_binary_accuracy: 0.8787 - lr: 1.0000e-12\n",
      "Epoch 931/1000\n",
      "113/113 [==============================] - 0s 2ms/step - loss: 0.0931 - binary_accuracy: 0.8812 - val_loss: 0.0959 - val_binary_accuracy: 0.8787 - lr: 1.0000e-12\n",
      "Epoch 932/1000\n",
      "113/113 [==============================] - 0s 2ms/step - loss: 0.0932 - binary_accuracy: 0.8810 - val_loss: 0.0959 - val_binary_accuracy: 0.8787 - lr: 1.0000e-12\n",
      "Epoch 933/1000\n",
      "113/113 [==============================] - 0s 2ms/step - loss: 0.0930 - binary_accuracy: 0.8814 - val_loss: 0.0959 - val_binary_accuracy: 0.8787 - lr: 1.0000e-12\n",
      "Epoch 934/1000\n",
      "113/113 [==============================] - 0s 2ms/step - loss: 0.0931 - binary_accuracy: 0.8813 - val_loss: 0.0959 - val_binary_accuracy: 0.8787 - lr: 1.0000e-12\n",
      "Epoch 935/1000\n",
      "113/113 [==============================] - 0s 2ms/step - loss: 0.0934 - binary_accuracy: 0.8808 - val_loss: 0.0959 - val_binary_accuracy: 0.8787 - lr: 1.0000e-12\n",
      "Epoch 936/1000\n",
      "113/113 [==============================] - 0s 2ms/step - loss: 0.0932 - binary_accuracy: 0.8812 - val_loss: 0.0959 - val_binary_accuracy: 0.8787 - lr: 1.0000e-12\n",
      "Epoch 937/1000\n",
      "113/113 [==============================] - 0s 2ms/step - loss: 0.0936 - binary_accuracy: 0.8808 - val_loss: 0.0959 - val_binary_accuracy: 0.8787 - lr: 1.0000e-12\n",
      "Epoch 938/1000\n",
      "113/113 [==============================] - 0s 2ms/step - loss: 0.0933 - binary_accuracy: 0.8808 - val_loss: 0.0959 - val_binary_accuracy: 0.8787 - lr: 1.0000e-12\n",
      "Epoch 939/1000\n",
      "113/113 [==============================] - 0s 2ms/step - loss: 0.0933 - binary_accuracy: 0.8811 - val_loss: 0.0959 - val_binary_accuracy: 0.8787 - lr: 1.0000e-12\n",
      "Epoch 940/1000\n",
      "113/113 [==============================] - 0s 2ms/step - loss: 0.0932 - binary_accuracy: 0.8809 - val_loss: 0.0959 - val_binary_accuracy: 0.8787 - lr: 1.0000e-12\n",
      "Epoch 941/1000\n",
      "113/113 [==============================] - 0s 2ms/step - loss: 0.0931 - binary_accuracy: 0.8811 - val_loss: 0.0959 - val_binary_accuracy: 0.8787 - lr: 1.0000e-12\n",
      "Epoch 942/1000\n",
      "113/113 [==============================] - 0s 2ms/step - loss: 0.0933 - binary_accuracy: 0.8810 - val_loss: 0.0959 - val_binary_accuracy: 0.8787 - lr: 1.0000e-12\n",
      "Epoch 943/1000\n",
      "113/113 [==============================] - 0s 2ms/step - loss: 0.0930 - binary_accuracy: 0.8814 - val_loss: 0.0959 - val_binary_accuracy: 0.8787 - lr: 1.0000e-12\n",
      "Epoch 944/1000\n",
      "113/113 [==============================] - 0s 2ms/step - loss: 0.0936 - binary_accuracy: 0.8807 - val_loss: 0.0959 - val_binary_accuracy: 0.8787 - lr: 1.0000e-12\n",
      "Epoch 945/1000\n",
      "113/113 [==============================] - 0s 2ms/step - loss: 0.0935 - binary_accuracy: 0.8803 - val_loss: 0.0959 - val_binary_accuracy: 0.8787 - lr: 1.0000e-12\n",
      "Epoch 946/1000\n",
      "113/113 [==============================] - 0s 2ms/step - loss: 0.0931 - binary_accuracy: 0.8808 - val_loss: 0.0959 - val_binary_accuracy: 0.8787 - lr: 1.0000e-12\n",
      "Epoch 947/1000\n",
      "113/113 [==============================] - 0s 2ms/step - loss: 0.0931 - binary_accuracy: 0.8813 - val_loss: 0.0959 - val_binary_accuracy: 0.8787 - lr: 1.0000e-12\n",
      "Epoch 948/1000\n",
      "113/113 [==============================] - 0s 2ms/step - loss: 0.0931 - binary_accuracy: 0.8814 - val_loss: 0.0959 - val_binary_accuracy: 0.8787 - lr: 1.0000e-12\n",
      "Epoch 949/1000\n",
      "113/113 [==============================] - 0s 2ms/step - loss: 0.0932 - binary_accuracy: 0.8808 - val_loss: 0.0959 - val_binary_accuracy: 0.8787 - lr: 1.0000e-13\n",
      "Epoch 950/1000\n",
      "113/113 [==============================] - 0s 2ms/step - loss: 0.0935 - binary_accuracy: 0.8808 - val_loss: 0.0959 - val_binary_accuracy: 0.8787 - lr: 1.0000e-13\n",
      "Epoch 951/1000\n",
      "113/113 [==============================] - 0s 2ms/step - loss: 0.0936 - binary_accuracy: 0.8805 - val_loss: 0.0959 - val_binary_accuracy: 0.8787 - lr: 1.0000e-13\n",
      "Epoch 952/1000\n",
      "113/113 [==============================] - 0s 2ms/step - loss: 0.0934 - binary_accuracy: 0.8809 - val_loss: 0.0959 - val_binary_accuracy: 0.8787 - lr: 1.0000e-13\n",
      "Epoch 953/1000\n",
      "113/113 [==============================] - 0s 2ms/step - loss: 0.0935 - binary_accuracy: 0.8810 - val_loss: 0.0959 - val_binary_accuracy: 0.8787 - lr: 1.0000e-13\n",
      "Epoch 954/1000\n",
      "113/113 [==============================] - 0s 2ms/step - loss: 0.0934 - binary_accuracy: 0.8805 - val_loss: 0.0959 - val_binary_accuracy: 0.8787 - lr: 1.0000e-13\n",
      "Epoch 955/1000\n",
      "113/113 [==============================] - 0s 2ms/step - loss: 0.0931 - binary_accuracy: 0.8809 - val_loss: 0.0959 - val_binary_accuracy: 0.8787 - lr: 1.0000e-13\n",
      "Epoch 956/1000\n",
      "113/113 [==============================] - 0s 2ms/step - loss: 0.0931 - binary_accuracy: 0.8809 - val_loss: 0.0959 - val_binary_accuracy: 0.8787 - lr: 1.0000e-13\n",
      "Epoch 957/1000\n",
      "113/113 [==============================] - 0s 2ms/step - loss: 0.0931 - binary_accuracy: 0.8810 - val_loss: 0.0959 - val_binary_accuracy: 0.8787 - lr: 1.0000e-13\n",
      "Epoch 958/1000\n",
      "113/113 [==============================] - 0s 2ms/step - loss: 0.0932 - binary_accuracy: 0.8806 - val_loss: 0.0959 - val_binary_accuracy: 0.8787 - lr: 1.0000e-13\n",
      "Epoch 959/1000\n",
      "113/113 [==============================] - 0s 2ms/step - loss: 0.0932 - binary_accuracy: 0.8811 - val_loss: 0.0959 - val_binary_accuracy: 0.8787 - lr: 1.0000e-13\n",
      "Epoch 960/1000\n",
      "113/113 [==============================] - 0s 2ms/step - loss: 0.0931 - binary_accuracy: 0.8813 - val_loss: 0.0959 - val_binary_accuracy: 0.8787 - lr: 1.0000e-13\n",
      "Epoch 961/1000\n",
      "113/113 [==============================] - 0s 2ms/step - loss: 0.0935 - binary_accuracy: 0.8808 - val_loss: 0.0959 - val_binary_accuracy: 0.8787 - lr: 1.0000e-13\n",
      "Epoch 962/1000\n",
      "113/113 [==============================] - 0s 2ms/step - loss: 0.0934 - binary_accuracy: 0.8808 - val_loss: 0.0959 - val_binary_accuracy: 0.8787 - lr: 1.0000e-13\n",
      "Epoch 963/1000\n",
      "113/113 [==============================] - 0s 2ms/step - loss: 0.0933 - binary_accuracy: 0.8806 - val_loss: 0.0959 - val_binary_accuracy: 0.8787 - lr: 1.0000e-13\n",
      "Epoch 964/1000\n",
      "113/113 [==============================] - 0s 2ms/step - loss: 0.0933 - binary_accuracy: 0.8809 - val_loss: 0.0959 - val_binary_accuracy: 0.8787 - lr: 1.0000e-13\n",
      "Epoch 965/1000\n",
      "113/113 [==============================] - 0s 2ms/step - loss: 0.0936 - binary_accuracy: 0.8807 - val_loss: 0.0959 - val_binary_accuracy: 0.8787 - lr: 1.0000e-13\n",
      "Epoch 966/1000\n",
      "113/113 [==============================] - 0s 2ms/step - loss: 0.0934 - binary_accuracy: 0.8813 - val_loss: 0.0959 - val_binary_accuracy: 0.8787 - lr: 1.0000e-13\n",
      "Epoch 967/1000\n",
      "113/113 [==============================] - 0s 2ms/step - loss: 0.0933 - binary_accuracy: 0.8813 - val_loss: 0.0959 - val_binary_accuracy: 0.8787 - lr: 1.0000e-13\n",
      "Epoch 968/1000\n",
      "113/113 [==============================] - 0s 2ms/step - loss: 0.0931 - binary_accuracy: 0.8812 - val_loss: 0.0959 - val_binary_accuracy: 0.8787 - lr: 1.0000e-13\n",
      "Epoch 969/1000\n",
      "113/113 [==============================] - 0s 2ms/step - loss: 0.0935 - binary_accuracy: 0.8809 - val_loss: 0.0959 - val_binary_accuracy: 0.8787 - lr: 1.0000e-13\n",
      "Epoch 970/1000\n",
      "113/113 [==============================] - 0s 2ms/step - loss: 0.0933 - binary_accuracy: 0.8810 - val_loss: 0.0959 - val_binary_accuracy: 0.8787 - lr: 1.0000e-13\n",
      "Epoch 971/1000\n",
      "113/113 [==============================] - 0s 2ms/step - loss: 0.0930 - binary_accuracy: 0.8812 - val_loss: 0.0959 - val_binary_accuracy: 0.8787 - lr: 1.0000e-13\n",
      "Epoch 972/1000\n",
      "113/113 [==============================] - 0s 2ms/step - loss: 0.0934 - binary_accuracy: 0.8808 - val_loss: 0.0959 - val_binary_accuracy: 0.8787 - lr: 1.0000e-13\n",
      "Epoch 973/1000\n",
      "113/113 [==============================] - 0s 2ms/step - loss: 0.0930 - binary_accuracy: 0.8814 - val_loss: 0.0959 - val_binary_accuracy: 0.8787 - lr: 1.0000e-13\n",
      "Epoch 974/1000\n",
      "113/113 [==============================] - 0s 2ms/step - loss: 0.0932 - binary_accuracy: 0.8810 - val_loss: 0.0959 - val_binary_accuracy: 0.8787 - lr: 1.0000e-14\n",
      "Epoch 975/1000\n",
      "113/113 [==============================] - 0s 2ms/step - loss: 0.0932 - binary_accuracy: 0.8812 - val_loss: 0.0959 - val_binary_accuracy: 0.8787 - lr: 1.0000e-14\n",
      "Epoch 976/1000\n",
      "113/113 [==============================] - 0s 2ms/step - loss: 0.0934 - binary_accuracy: 0.8810 - val_loss: 0.0959 - val_binary_accuracy: 0.8787 - lr: 1.0000e-14\n",
      "Epoch 977/1000\n",
      "113/113 [==============================] - 0s 2ms/step - loss: 0.0933 - binary_accuracy: 0.8813 - val_loss: 0.0959 - val_binary_accuracy: 0.8787 - lr: 1.0000e-14\n",
      "Epoch 978/1000\n",
      "113/113 [==============================] - 0s 2ms/step - loss: 0.0935 - binary_accuracy: 0.8806 - val_loss: 0.0959 - val_binary_accuracy: 0.8787 - lr: 1.0000e-14\n",
      "Epoch 979/1000\n",
      "113/113 [==============================] - 0s 2ms/step - loss: 0.0932 - binary_accuracy: 0.8811 - val_loss: 0.0959 - val_binary_accuracy: 0.8787 - lr: 1.0000e-14\n",
      "Epoch 980/1000\n",
      "113/113 [==============================] - 0s 2ms/step - loss: 0.0933 - binary_accuracy: 0.8813 - val_loss: 0.0959 - val_binary_accuracy: 0.8787 - lr: 1.0000e-14\n",
      "Epoch 981/1000\n",
      "113/113 [==============================] - 0s 2ms/step - loss: 0.0933 - binary_accuracy: 0.8808 - val_loss: 0.0959 - val_binary_accuracy: 0.8787 - lr: 1.0000e-14\n",
      "Epoch 982/1000\n",
      "113/113 [==============================] - 0s 2ms/step - loss: 0.0933 - binary_accuracy: 0.8813 - val_loss: 0.0959 - val_binary_accuracy: 0.8787 - lr: 1.0000e-14\n",
      "Epoch 983/1000\n",
      "113/113 [==============================] - 0s 2ms/step - loss: 0.0933 - binary_accuracy: 0.8810 - val_loss: 0.0959 - val_binary_accuracy: 0.8787 - lr: 1.0000e-14\n",
      "Epoch 984/1000\n",
      "113/113 [==============================] - 0s 2ms/step - loss: 0.0933 - binary_accuracy: 0.8812 - val_loss: 0.0959 - val_binary_accuracy: 0.8787 - lr: 1.0000e-14\n",
      "Epoch 985/1000\n",
      "113/113 [==============================] - 0s 2ms/step - loss: 0.0933 - binary_accuracy: 0.8809 - val_loss: 0.0959 - val_binary_accuracy: 0.8787 - lr: 1.0000e-14\n",
      "Epoch 986/1000\n",
      "113/113 [==============================] - 0s 2ms/step - loss: 0.0930 - binary_accuracy: 0.8811 - val_loss: 0.0959 - val_binary_accuracy: 0.8787 - lr: 1.0000e-14\n",
      "Epoch 987/1000\n",
      "113/113 [==============================] - 0s 2ms/step - loss: 0.0933 - binary_accuracy: 0.8811 - val_loss: 0.0959 - val_binary_accuracy: 0.8787 - lr: 1.0000e-14\n",
      "Epoch 988/1000\n",
      "113/113 [==============================] - 0s 2ms/step - loss: 0.0933 - binary_accuracy: 0.8809 - val_loss: 0.0959 - val_binary_accuracy: 0.8787 - lr: 1.0000e-14\n",
      "Epoch 989/1000\n",
      "113/113 [==============================] - 0s 2ms/step - loss: 0.0931 - binary_accuracy: 0.8811 - val_loss: 0.0959 - val_binary_accuracy: 0.8787 - lr: 1.0000e-14\n",
      "Epoch 990/1000\n",
      "113/113 [==============================] - 0s 2ms/step - loss: 0.0933 - binary_accuracy: 0.8809 - val_loss: 0.0959 - val_binary_accuracy: 0.8787 - lr: 1.0000e-14\n",
      "Epoch 991/1000\n",
      "113/113 [==============================] - 0s 2ms/step - loss: 0.0932 - binary_accuracy: 0.8812 - val_loss: 0.0959 - val_binary_accuracy: 0.8787 - lr: 1.0000e-14\n",
      "Epoch 992/1000\n",
      "113/113 [==============================] - 0s 2ms/step - loss: 0.0934 - binary_accuracy: 0.8809 - val_loss: 0.0959 - val_binary_accuracy: 0.8787 - lr: 1.0000e-14\n",
      "Epoch 993/1000\n",
      "113/113 [==============================] - 0s 2ms/step - loss: 0.0933 - binary_accuracy: 0.8810 - val_loss: 0.0959 - val_binary_accuracy: 0.8787 - lr: 1.0000e-14\n",
      "Epoch 994/1000\n",
      "113/113 [==============================] - 0s 2ms/step - loss: 0.0932 - binary_accuracy: 0.8808 - val_loss: 0.0959 - val_binary_accuracy: 0.8787 - lr: 1.0000e-14\n",
      "Epoch 995/1000\n",
      "113/113 [==============================] - 0s 2ms/step - loss: 0.0935 - binary_accuracy: 0.8806 - val_loss: 0.0959 - val_binary_accuracy: 0.8787 - lr: 1.0000e-14\n",
      "Epoch 996/1000\n",
      "113/113 [==============================] - 0s 2ms/step - loss: 0.0931 - binary_accuracy: 0.8810 - val_loss: 0.0959 - val_binary_accuracy: 0.8787 - lr: 1.0000e-14\n",
      "Epoch 997/1000\n",
      "113/113 [==============================] - 0s 2ms/step - loss: 0.0933 - binary_accuracy: 0.8809 - val_loss: 0.0959 - val_binary_accuracy: 0.8787 - lr: 1.0000e-14\n",
      "Epoch 998/1000\n",
      "113/113 [==============================] - 0s 2ms/step - loss: 0.0932 - binary_accuracy: 0.8810 - val_loss: 0.0959 - val_binary_accuracy: 0.8787 - lr: 1.0000e-14\n",
      "Epoch 999/1000\n",
      "113/113 [==============================] - 0s 2ms/step - loss: 0.0933 - binary_accuracy: 0.8812 - val_loss: 0.0959 - val_binary_accuracy: 0.8787 - lr: 1.0000e-15\n",
      "Epoch 1000/1000\n",
      "113/113 [==============================] - 0s 2ms/step - loss: 0.0933 - binary_accuracy: 0.8810 - val_loss: 0.0959 - val_binary_accuracy: 0.8787 - lr: 1.0000e-15\n"
     ]
    }
   ],
   "source": [
    "res = autoencoder.fit(\n",
    "    x_train, y_train,\n",
    "    epochs=1_000,\n",
    "    # batch_size=256,\n",
    "    shuffle=True,\n",
    "    validation_data=(x_test, y_test),\n",
    "    # callbacks=[callback_plateau, callback_checkpoint], \n",
    ")"
   ]
  },
  {
   "cell_type": "code",
   "execution_count": 1202,
   "metadata": {},
   "outputs": [],
   "source": [
    "autoencoder.save_weights('../models/FCN/latest/')"
   ]
  },
  {
   "cell_type": "code",
   "execution_count": 1294,
   "metadata": {},
   "outputs": [
    {
     "name": "stderr",
     "output_type": "stream",
     "text": [
      "2024-01-26 10:08:14.035304: W tensorflow/core/util/tensor_slice_reader.cc:98] Could not open ../models/FCN/checkpoint/: FAILED_PRECONDITION: ../models/FCN/checkpoint; Is a directory: perhaps your file is in a different file format and you need to use a different restore operator?\n"
     ]
    },
    {
     "data": {
      "text/plain": [
       "<tensorflow.python.checkpoint.checkpoint.CheckpointLoadStatus at 0x2e9334fd0>"
      ]
     },
     "execution_count": 1294,
     "metadata": {},
     "output_type": "execute_result"
    }
   ],
   "source": [
    "autoencoder_best.load_weights('../models/FCN/checkpoint/')"
   ]
  },
  {
   "cell_type": "code",
   "execution_count": 1296,
   "metadata": {},
   "outputs": [
    {
     "name": "stdout",
     "output_type": "stream",
     "text": [
      "56/56 [==============================] - 0s 783us/step - loss: 0.0959 - binary_accuracy: 0.8787\n"
     ]
    },
    {
     "data": {
      "text/plain": [
       "[0.09586004912853241, 0.8787041306495667]"
      ]
     },
     "execution_count": 1296,
     "metadata": {},
     "output_type": "execute_result"
    }
   ],
   "source": [
    "autoencoder.evaluate(x_test, y_test)"
   ]
  },
  {
   "cell_type": "code",
   "execution_count": 1297,
   "metadata": {},
   "outputs": [
    {
     "name": "stdout",
     "output_type": "stream",
     "text": [
      "56/56 [==============================] - 0s 750us/step - loss: 0.0959 - binary_accuracy: 0.8787\n"
     ]
    },
    {
     "data": {
      "text/plain": [
       "[0.09586004912853241, 0.8787041306495667]"
      ]
     },
     "execution_count": 1297,
     "metadata": {},
     "output_type": "execute_result"
    }
   ],
   "source": [
    "autoencoder_best.evaluate(x_test, y_test)"
   ]
  },
  {
   "cell_type": "code",
   "execution_count": 1299,
   "metadata": {},
   "outputs": [
    {
     "name": "stdout",
     "output_type": "stream",
     "text": [
      "INFO:tensorflow:Assets written to: ../models/FCN/model/assets\n"
     ]
    },
    {
     "name": "stderr",
     "output_type": "stream",
     "text": [
      "INFO:tensorflow:Assets written to: ../models/FCN/model/assets\n"
     ]
    }
   ],
   "source": [
    "autoencoder_best.save('../models/FCN/model')"
   ]
  },
  {
   "cell_type": "code",
   "execution_count": 1207,
   "metadata": {},
   "outputs": [],
   "source": [
    "# Epoch 300/300\n",
    "# 20/20 [==============================] - 0s 2ms/step - loss: 0.1080 - binary_accuracy: 0.8767 - val_loss: 0.1113 - val_binary_accuracy: 0.8724\n",
    "\n",
    "# Epoch 300/300\n",
    "# 20/20 [==============================] - 0s 1ms/step - loss: 0.1082 - binary_accuracy: 0.8767 - val_loss: 0.1114 - val_binary_accuracy: 0.8724"
   ]
  },
  {
   "cell_type": "code",
   "execution_count": 1208,
   "metadata": {},
   "outputs": [
    {
     "data": {
      "image/png": "[encoded data removed]",
      "text/plain": [
       "<Figure size 640x480 with 1 Axes>"
      ]
     },
     "metadata": {},
     "output_type": "display_data"
    }
   ],
   "source": [
    "plt.plot(res.history['binary_accuracy'], label='binary_accuracy')\n",
    "plt.plot(res.history['val_binary_accuracy'], label='val_binary_accuracy')\n",
    "plt.ylabel('Binary Accuracy')\n",
    "\n",
    "# plt.plot(res.history['macro_f1'], label='macro_f1')\n",
    "# plt.plot(res.history['val_macro_f1'], label='val_macro_f1')\n",
    "# plt.ylabel('Macro F1')\n",
    "\n",
    "plt.xlabel('Epochs')\n",
    "plt.legend()\n",
    "plt.show()"
   ]
  },
  {
   "cell_type": "code",
   "execution_count": 1209,
   "metadata": {},
   "outputs": [
    {
     "data": {
      "image/png": "[encoded data removed]",
      "text/plain": [
       "<Figure size 640x480 with 1 Axes>"
      ]
     },
     "metadata": {},
     "output_type": "display_data"
    }
   ],
   "source": [
    "plt.plot(res.history['loss'], label='train_loss')\n",
    "plt.plot(res.history['val_loss'], label='val_loss')\n",
    "plt.xlabel('Epochs')\n",
    "plt.ylabel('Loss')\n",
    "plt.legend()\n",
    "plt.show()\n",
    "\n",
    "# val_loss: 0.6336"
   ]
  },
  {
   "cell_type": "markdown",
   "metadata": {},
   "source": [
    "# Predict"
   ]
  },
  {
   "cell_type": "code",
   "execution_count": 1210,
   "metadata": {},
   "outputs": [
    {
     "data": {
      "text/html": [
       "<div>\n",
       "<style scoped>\n",
       "    .dataframe tbody tr th:only-of-type {\n",
       "        vertical-align: middle;\n",
       "    }\n",
       "\n",
       "    .dataframe tbody tr th {\n",
       "        vertical-align: top;\n",
       "    }\n",
       "\n",
       "    .dataframe thead th {\n",
       "        text-align: right;\n",
       "    }\n",
       "</style>\n",
       "<table border=\"1\" class=\"dataframe\">\n",
       "  <thead>\n",
       "    <tr style=\"text-align: right;\">\n",
       "      <th></th>\n",
       "      <th>product_id</th>\n",
       "      <th>category</th>\n",
       "      <th>brand</th>\n",
       "      <th>kind</th>\n",
       "      <th>ratings</th>\n",
       "      <th>price</th>\n",
       "    </tr>\n",
       "  </thead>\n",
       "  <tbody>\n",
       "    <tr>\n",
       "      <th>0</th>\n",
       "      <td>0</td>\n",
       "      <td>Dress</td>\n",
       "      <td>Adidas</td>\n",
       "      <td>Kids' Fashion</td>\n",
       "      <td>3.270463</td>\n",
       "      <td>53.916667</td>\n",
       "    </tr>\n",
       "    <tr>\n",
       "      <th>1</th>\n",
       "      <td>1</td>\n",
       "      <td>Dress</td>\n",
       "      <td>Adidas</td>\n",
       "      <td>Men's Fashion</td>\n",
       "      <td>2.879264</td>\n",
       "      <td>44.500000</td>\n",
       "    </tr>\n",
       "    <tr>\n",
       "      <th>2</th>\n",
       "      <td>2</td>\n",
       "      <td>Dress</td>\n",
       "      <td>Adidas</td>\n",
       "      <td>Women's Fashion</td>\n",
       "      <td>2.673620</td>\n",
       "      <td>47.666667</td>\n",
       "    </tr>\n",
       "    <tr>\n",
       "      <th>3</th>\n",
       "      <td>3</td>\n",
       "      <td>Dress</td>\n",
       "      <td>Gucci</td>\n",
       "      <td>Kids' Fashion</td>\n",
       "      <td>3.689981</td>\n",
       "      <td>50.200000</td>\n",
       "    </tr>\n",
       "    <tr>\n",
       "      <th>4</th>\n",
       "      <td>4</td>\n",
       "      <td>Dress</td>\n",
       "      <td>Gucci</td>\n",
       "      <td>Men's Fashion</td>\n",
       "      <td>3.282323</td>\n",
       "      <td>51.125000</td>\n",
       "    </tr>\n",
       "    <tr>\n",
       "      <th>...</th>\n",
       "      <td>...</td>\n",
       "      <td>...</td>\n",
       "      <td>...</td>\n",
       "      <td>...</td>\n",
       "      <td>...</td>\n",
       "      <td>...</td>\n",
       "    </tr>\n",
       "    <tr>\n",
       "      <th>70</th>\n",
       "      <td>70</td>\n",
       "      <td>T-shirt</td>\n",
       "      <td>Nike</td>\n",
       "      <td>Men's Fashion</td>\n",
       "      <td>2.436425</td>\n",
       "      <td>56.500000</td>\n",
       "    </tr>\n",
       "    <tr>\n",
       "      <th>71</th>\n",
       "      <td>71</td>\n",
       "      <td>T-shirt</td>\n",
       "      <td>Nike</td>\n",
       "      <td>Women's Fashion</td>\n",
       "      <td>2.636504</td>\n",
       "      <td>72.166667</td>\n",
       "    </tr>\n",
       "    <tr>\n",
       "      <th>72</th>\n",
       "      <td>72</td>\n",
       "      <td>T-shirt</td>\n",
       "      <td>Zara</td>\n",
       "      <td>Kids' Fashion</td>\n",
       "      <td>3.548573</td>\n",
       "      <td>65.750000</td>\n",
       "    </tr>\n",
       "    <tr>\n",
       "      <th>73</th>\n",
       "      <td>73</td>\n",
       "      <td>T-shirt</td>\n",
       "      <td>Zara</td>\n",
       "      <td>Men's Fashion</td>\n",
       "      <td>2.520955</td>\n",
       "      <td>52.818182</td>\n",
       "    </tr>\n",
       "    <tr>\n",
       "      <th>74</th>\n",
       "      <td>74</td>\n",
       "      <td>T-shirt</td>\n",
       "      <td>Zara</td>\n",
       "      <td>Women's Fashion</td>\n",
       "      <td>2.908798</td>\n",
       "      <td>67.375000</td>\n",
       "    </tr>\n",
       "  </tbody>\n",
       "</table>\n",
       "<p>75 rows × 6 columns</p>\n",
       "</div>"
      ],
      "text/plain": [
       "    product_id category   brand             kind   ratings      price\n",
       "0            0    Dress  Adidas    Kids' Fashion  3.270463  53.916667\n",
       "1            1    Dress  Adidas    Men's Fashion  2.879264  44.500000\n",
       "2            2    Dress  Adidas  Women's Fashion  2.673620  47.666667\n",
       "3            3    Dress   Gucci    Kids' Fashion  3.689981  50.200000\n",
       "4            4    Dress   Gucci    Men's Fashion  3.282323  51.125000\n",
       "..         ...      ...     ...              ...       ...        ...\n",
       "70          70  T-shirt    Nike    Men's Fashion  2.436425  56.500000\n",
       "71          71  T-shirt    Nike  Women's Fashion  2.636504  72.166667\n",
       "72          72  T-shirt    Zara    Kids' Fashion  3.548573  65.750000\n",
       "73          73  T-shirt    Zara    Men's Fashion  2.520955  52.818182\n",
       "74          74  T-shirt    Zara  Women's Fashion  2.908798  67.375000\n",
       "\n",
       "[75 rows x 6 columns]"
      ]
     },
     "execution_count": 1210,
     "metadata": {},
     "output_type": "execute_result"
    }
   ],
   "source": [
    "df_product"
   ]
  },
  {
   "cell_type": "code",
   "execution_count": 1218,
   "metadata": {},
   "outputs": [
    {
     "data": {
      "text/plain": [
       "[22, 39, 45, 17, 33, 30, 18, 69, 25]"
      ]
     },
     "execution_count": 1218,
     "metadata": {},
     "output_type": "execute_result"
    }
   ],
   "source": [
    "customer_id = 1\n",
    "products_on_chart = df_dataset[df_dataset['customer_id'] == customer_id]['product_id'].unique().tolist()\n",
    "products_on_chart"
   ]
  },
  {
   "cell_type": "code",
   "execution_count": 1303,
   "metadata": {},
   "outputs": [
    {
     "name": "stdout",
     "output_type": "stream",
     "text": [
      "Items on your chart: \n"
     ]
    },
    {
     "data": {
      "text/html": [
       "<div>\n",
       "<style scoped>\n",
       "    .dataframe tbody tr th:only-of-type {\n",
       "        vertical-align: middle;\n",
       "    }\n",
       "\n",
       "    .dataframe tbody tr th {\n",
       "        vertical-align: top;\n",
       "    }\n",
       "\n",
       "    .dataframe thead th {\n",
       "        text-align: right;\n",
       "    }\n",
       "</style>\n",
       "<table border=\"1\" class=\"dataframe\">\n",
       "  <thead>\n",
       "    <tr style=\"text-align: right;\">\n",
       "      <th></th>\n",
       "      <th>product_id</th>\n",
       "      <th>category</th>\n",
       "      <th>brand</th>\n",
       "      <th>kind</th>\n",
       "      <th>ratings</th>\n",
       "      <th>price</th>\n",
       "    </tr>\n",
       "  </thead>\n",
       "  <tbody>\n",
       "    <tr>\n",
       "      <th>0</th>\n",
       "      <td>0</td>\n",
       "      <td>Dress</td>\n",
       "      <td>Adidas</td>\n",
       "      <td>Kids' Fashion</td>\n",
       "      <td>3.270463</td>\n",
       "      <td>53.916667</td>\n",
       "    </tr>\n",
       "    <tr>\n",
       "      <th>1</th>\n",
       "      <td>1</td>\n",
       "      <td>Dress</td>\n",
       "      <td>Adidas</td>\n",
       "      <td>Men's Fashion</td>\n",
       "      <td>2.879264</td>\n",
       "      <td>44.500000</td>\n",
       "    </tr>\n",
       "  </tbody>\n",
       "</table>\n",
       "</div>"
      ],
      "text/plain": [
       "   product_id category   brand           kind   ratings      price\n",
       "0           0    Dress  Adidas  Kids' Fashion  3.270463  53.916667\n",
       "1           1    Dress  Adidas  Men's Fashion  2.879264  44.500000"
      ]
     },
     "execution_count": 1303,
     "metadata": {},
     "output_type": "execute_result"
    }
   ],
   "source": [
    "# Input: from dataset\n",
    "idx = 10\n",
    "input_arr = x_test[idx]\n",
    "output_arr = y_test[idx]\n",
    "products_on_chart = np.argwhere(input_arr > 0.5).reshape(-1).tolist()\n",
    "products_truth = np.argwhere(output_arr > 0.5).reshape(-1).tolist()\n",
    "\n",
    "# Input: manual select\n",
    "# products_on_chart = [70, ]\n",
    "products_on_chart = [0, 1]\n",
    "products_truth = products_on_chart\n",
    "input_arr = np.zeros((1, total_product))\n",
    "input_arr[0, products_on_chart] = 1\n",
    "# for id in products_on_chart:\n",
    "    # input_arr[0, id] = 1\n",
    "\n",
    "# # Input From Customer\n",
    "# customer_id = 4\n",
    "# products_on_chart = df_dataset[df_dataset['customer_id'] == customer_id]['product_id'].unique().tolist()\n",
    "# products_truth = products_on_chart\n",
    "\n",
    "print(f'Items on your chart: ')\n",
    "df_product.iloc[products_on_chart]"
   ]
  },
  {
   "cell_type": "code",
   "execution_count": 1304,
   "metadata": {},
   "outputs": [],
   "source": [
    "# input_arr[:, products_on_chart] = 2"
   ]
  },
  {
   "cell_type": "code",
   "execution_count": 1306,
   "metadata": {},
   "outputs": [
    {
     "data": {
      "text/plain": [
       "array([[1., 1., 0., 0., 0., 0., 0., 0., 0., 0., 0., 0., 0., 0., 0., 0.,\n",
       "        0., 0., 0., 0., 0., 0., 0., 0., 0., 0., 0., 0., 0., 0., 0., 0.,\n",
       "        0., 0., 0., 0., 0., 0., 0., 0., 0., 0., 0., 0., 0., 0., 0., 0.,\n",
       "        0., 0., 0., 0., 0., 0., 0., 0., 0., 0., 0., 0., 0., 0., 0., 0.,\n",
       "        0., 0., 0., 0., 0., 0., 0., 0., 0., 0., 0.]])"
      ]
     },
     "execution_count": 1306,
     "metadata": {},
     "output_type": "execute_result"
    }
   ],
   "source": [
    "input_arr"
   ]
  },
  {
   "cell_type": "code",
   "execution_count": 1307,
   "metadata": {},
   "outputs": [
    {
     "name": "stdout",
     "output_type": "stream",
     "text": [
      "Another Product you actualy buy:\n"
     ]
    },
    {
     "data": {
      "text/html": [
       "<div>\n",
       "<style scoped>\n",
       "    .dataframe tbody tr th:only-of-type {\n",
       "        vertical-align: middle;\n",
       "    }\n",
       "\n",
       "    .dataframe tbody tr th {\n",
       "        vertical-align: top;\n",
       "    }\n",
       "\n",
       "    .dataframe thead th {\n",
       "        text-align: right;\n",
       "    }\n",
       "</style>\n",
       "<table border=\"1\" class=\"dataframe\">\n",
       "  <thead>\n",
       "    <tr style=\"text-align: right;\">\n",
       "      <th></th>\n",
       "      <th>product_id</th>\n",
       "      <th>category</th>\n",
       "      <th>brand</th>\n",
       "      <th>kind</th>\n",
       "      <th>ratings</th>\n",
       "      <th>price</th>\n",
       "    </tr>\n",
       "  </thead>\n",
       "  <tbody>\n",
       "    <tr>\n",
       "      <th>0</th>\n",
       "      <td>0</td>\n",
       "      <td>Dress</td>\n",
       "      <td>Adidas</td>\n",
       "      <td>Kids' Fashion</td>\n",
       "      <td>3.270463</td>\n",
       "      <td>53.916667</td>\n",
       "    </tr>\n",
       "    <tr>\n",
       "      <th>1</th>\n",
       "      <td>1</td>\n",
       "      <td>Dress</td>\n",
       "      <td>Adidas</td>\n",
       "      <td>Men's Fashion</td>\n",
       "      <td>2.879264</td>\n",
       "      <td>44.500000</td>\n",
       "    </tr>\n",
       "  </tbody>\n",
       "</table>\n",
       "</div>"
      ],
      "text/plain": [
       "   product_id category   brand           kind   ratings      price\n",
       "0           0    Dress  Adidas  Kids' Fashion  3.270463  53.916667\n",
       "1           1    Dress  Adidas  Men's Fashion  2.879264  44.500000"
      ]
     },
     "execution_count": 1307,
     "metadata": {},
     "output_type": "execute_result"
    }
   ],
   "source": [
    "print(f'Another Product you actualy buy:')\n",
    "df_product_act = df_product.iloc[products_truth].copy()\n",
    "df_product_act"
   ]
  },
  {
   "cell_type": "code",
   "execution_count": 1308,
   "metadata": {},
   "outputs": [
    {
     "name": "stdout",
     "output_type": "stream",
     "text": [
      "Another product you might like:\n",
      "(10, 8)\n"
     ]
    },
    {
     "data": {
      "text/html": [
       "<div>\n",
       "<style scoped>\n",
       "    .dataframe tbody tr th:only-of-type {\n",
       "        vertical-align: middle;\n",
       "    }\n",
       "\n",
       "    .dataframe tbody tr th {\n",
       "        vertical-align: top;\n",
       "    }\n",
       "\n",
       "    .dataframe thead th {\n",
       "        text-align: right;\n",
       "    }\n",
       "</style>\n",
       "<table border=\"1\" class=\"dataframe\">\n",
       "  <thead>\n",
       "    <tr style=\"text-align: right;\">\n",
       "      <th></th>\n",
       "      <th>product_id</th>\n",
       "      <th>category</th>\n",
       "      <th>brand</th>\n",
       "      <th>kind</th>\n",
       "      <th>ratings</th>\n",
       "      <th>price</th>\n",
       "      <th>Score</th>\n",
       "      <th>Correct</th>\n",
       "    </tr>\n",
       "  </thead>\n",
       "  <tbody>\n",
       "    <tr>\n",
       "      <th>24</th>\n",
       "      <td>24</td>\n",
       "      <td>Jeans</td>\n",
       "      <td>Nike</td>\n",
       "      <td>Kids' Fashion</td>\n",
       "      <td>2.461879</td>\n",
       "      <td>56.650000</td>\n",
       "      <td>0.429233</td>\n",
       "      <td>False</td>\n",
       "    </tr>\n",
       "    <tr>\n",
       "      <th>72</th>\n",
       "      <td>72</td>\n",
       "      <td>T-shirt</td>\n",
       "      <td>Zara</td>\n",
       "      <td>Kids' Fashion</td>\n",
       "      <td>3.548573</td>\n",
       "      <td>65.750000</td>\n",
       "      <td>0.370171</td>\n",
       "      <td>False</td>\n",
       "    </tr>\n",
       "    <tr>\n",
       "      <th>21</th>\n",
       "      <td>21</td>\n",
       "      <td>Jeans</td>\n",
       "      <td>H&amp;M</td>\n",
       "      <td>Kids' Fashion</td>\n",
       "      <td>2.813687</td>\n",
       "      <td>56.857143</td>\n",
       "      <td>0.365256</td>\n",
       "      <td>False</td>\n",
       "    </tr>\n",
       "    <tr>\n",
       "      <th>26</th>\n",
       "      <td>26</td>\n",
       "      <td>Jeans</td>\n",
       "      <td>Nike</td>\n",
       "      <td>Women's Fashion</td>\n",
       "      <td>2.710139</td>\n",
       "      <td>54.875000</td>\n",
       "      <td>0.333732</td>\n",
       "      <td>False</td>\n",
       "    </tr>\n",
       "    <tr>\n",
       "      <th>68</th>\n",
       "      <td>68</td>\n",
       "      <td>T-shirt</td>\n",
       "      <td>H&amp;M</td>\n",
       "      <td>Women's Fashion</td>\n",
       "      <td>2.673312</td>\n",
       "      <td>43.538462</td>\n",
       "      <td>0.330870</td>\n",
       "      <td>False</td>\n",
       "    </tr>\n",
       "    <tr>\n",
       "      <th>43</th>\n",
       "      <td>43</td>\n",
       "      <td>Shoes</td>\n",
       "      <td>Zara</td>\n",
       "      <td>Men's Fashion</td>\n",
       "      <td>2.468021</td>\n",
       "      <td>55.388889</td>\n",
       "      <td>0.320512</td>\n",
       "      <td>False</td>\n",
       "    </tr>\n",
       "    <tr>\n",
       "      <th>15</th>\n",
       "      <td>15</td>\n",
       "      <td>Jeans</td>\n",
       "      <td>Adidas</td>\n",
       "      <td>Kids' Fashion</td>\n",
       "      <td>2.591739</td>\n",
       "      <td>51.600000</td>\n",
       "      <td>0.310816</td>\n",
       "      <td>False</td>\n",
       "    </tr>\n",
       "    <tr>\n",
       "      <th>14</th>\n",
       "      <td>14</td>\n",
       "      <td>Dress</td>\n",
       "      <td>Zara</td>\n",
       "      <td>Women's Fashion</td>\n",
       "      <td>3.071304</td>\n",
       "      <td>62.571429</td>\n",
       "      <td>0.277801</td>\n",
       "      <td>False</td>\n",
       "    </tr>\n",
       "    <tr>\n",
       "      <th>28</th>\n",
       "      <td>28</td>\n",
       "      <td>Jeans</td>\n",
       "      <td>Zara</td>\n",
       "      <td>Men's Fashion</td>\n",
       "      <td>3.153564</td>\n",
       "      <td>50.789474</td>\n",
       "      <td>0.270499</td>\n",
       "      <td>False</td>\n",
       "    </tr>\n",
       "    <tr>\n",
       "      <th>41</th>\n",
       "      <td>41</td>\n",
       "      <td>Shoes</td>\n",
       "      <td>Nike</td>\n",
       "      <td>Women's Fashion</td>\n",
       "      <td>2.681958</td>\n",
       "      <td>66.176471</td>\n",
       "      <td>0.263458</td>\n",
       "      <td>False</td>\n",
       "    </tr>\n",
       "  </tbody>\n",
       "</table>\n",
       "</div>"
      ],
      "text/plain": [
       "    product_id category   brand             kind   ratings      price  \\\n",
       "24          24    Jeans    Nike    Kids' Fashion  2.461879  56.650000   \n",
       "72          72  T-shirt    Zara    Kids' Fashion  3.548573  65.750000   \n",
       "21          21    Jeans     H&M    Kids' Fashion  2.813687  56.857143   \n",
       "26          26    Jeans    Nike  Women's Fashion  2.710139  54.875000   \n",
       "68          68  T-shirt     H&M  Women's Fashion  2.673312  43.538462   \n",
       "43          43    Shoes    Zara    Men's Fashion  2.468021  55.388889   \n",
       "15          15    Jeans  Adidas    Kids' Fashion  2.591739  51.600000   \n",
       "14          14    Dress    Zara  Women's Fashion  3.071304  62.571429   \n",
       "28          28    Jeans    Zara    Men's Fashion  3.153564  50.789474   \n",
       "41          41    Shoes    Nike  Women's Fashion  2.681958  66.176471   \n",
       "\n",
       "       Score  Correct  \n",
       "24  0.429233    False  \n",
       "72  0.370171    False  \n",
       "21  0.365256    False  \n",
       "26  0.333732    False  \n",
       "68  0.330870    False  \n",
       "43  0.320512    False  \n",
       "15  0.310816    False  \n",
       "14  0.277801    False  \n",
       "28  0.270499    False  \n",
       "41  0.263458    False  "
      ]
     },
     "execution_count": 1308,
     "metadata": {},
     "output_type": "execute_result"
    }
   ],
   "source": [
    "x_input = np.array([input_arr, ])\n",
    "pred = autoencoder(x_input)\n",
    "\n",
    "# pred_ids = np.argwhere(pred[0] > 0.5).reshape(-1).tolist()\n",
    "\n",
    "df_product_pred = df_product.copy()\n",
    "df_product_pred['Score'] = pred.numpy()[0]\n",
    "df_product_pred['Correct'] = df_product_pred['product_id'].isin(df_product_act['product_id'].tolist())\n",
    "\n",
    "# df_product_pred[(df_product_pred['Score'] > 0.2)].sort_values(by=['Score'], ascending=False)\n",
    "df_product_pred = df_product_pred[~df_product_pred['product_id'].isin(products_on_chart)]\n",
    "df_product_pred = df_product_pred.sort_values(by=['Score'], ascending=False).head(10)\n",
    "\n",
    "\n",
    "print(f'Another product you might like:')\n",
    "print(df_product_pred.shape)\n",
    "df_product_pred"
   ]
  },
  {
   "cell_type": "code",
   "execution_count": 1269,
   "metadata": {},
   "outputs": [
    {
     "data": {
      "text/plain": [
       "array([[[0., 0., 0., 1., 1., 1., 0., 0., 0., 0., 0., 0., 0., 0., 0., 0.,\n",
       "         0., 0., 0., 0., 0., 0., 0., 0., 0., 0., 0., 0., 0., 0., 0., 0.,\n",
       "         0., 0., 0., 0., 0., 0., 0., 0., 0., 0., 0., 0., 0., 0., 0., 0.,\n",
       "         0., 0., 0., 0., 0., 0., 0., 0., 0., 0., 0., 0., 0., 0., 0., 0.,\n",
       "         0., 0., 0., 0., 0., 0., 0., 0., 0., 0., 0.]]])"
      ]
     },
     "execution_count": 1269,
     "metadata": {},
     "output_type": "execute_result"
    }
   ],
   "source": [
    "x_input"
   ]
  },
  {
   "cell_type": "code",
   "execution_count": 1270,
   "metadata": {},
   "outputs": [
    {
     "data": {
      "text/plain": [
       "<tf.Tensor: shape=(1, 75), dtype=float32, numpy=\n",
       "array([[0.03549025, 0.03008403, 0.04218327, 0.7937713 , 0.39259616,\n",
       "        0.7036501 , 0.11470842, 0.10842402, 0.42239547, 0.08023383,\n",
       "        0.06155409, 0.33042544, 0.008607  , 0.20189787, 0.06807294,\n",
       "        0.02369922, 0.3430141 , 0.1357131 , 0.37729785, 0.04174098,\n",
       "        0.09679006, 0.06729826, 0.04275778, 0.01248185, 0.11567681,\n",
       "        0.27785113, 0.00569219, 0.04346628, 0.0580584 , 0.14379571,\n",
       "        0.2885237 , 0.44866285, 0.0528258 , 0.2642989 , 0.01665205,\n",
       "        0.23062144, 0.06537809, 0.02831221, 0.0196442 , 0.06838156,\n",
       "        0.04806912, 0.05659426, 0.20029353, 0.20326865, 0.02027381,\n",
       "        0.0228399 , 0.01253361, 0.02480413, 0.02605806, 0.05771708,\n",
       "        0.16113387, 0.66384274, 0.5133173 , 0.03055782, 0.03579544,\n",
       "        0.08307961, 0.00318655, 0.12704316, 0.36204568, 0.00585675,\n",
       "        0.13101222, 0.10840213, 0.00461842, 0.02037658, 0.05074368,\n",
       "        0.02183163, 0.2505927 , 0.00546964, 0.12083121, 0.71644634,\n",
       "        0.06721704, 0.2894642 , 0.27175143, 0.08146034, 0.05574665]],\n",
       "      dtype=float32)>"
      ]
     },
     "execution_count": 1270,
     "metadata": {},
     "output_type": "execute_result"
    }
   ],
   "source": [
    "pred"
   ]
  },
  {
   "cell_type": "code",
   "execution_count": 1178,
   "metadata": {},
   "outputs": [],
   "source": [
    "# df_product_pred.sort_values(by=['Score'], ascending=False).head(10)"
   ]
  },
  {
   "cell_type": "code",
   "execution_count": null,
   "metadata": {},
   "outputs": [],
   "source": []
  },
  {
   "cell_type": "code",
   "execution_count": null,
   "metadata": {},
   "outputs": [],
   "source": []
  },
  {
   "cell_type": "code",
   "execution_count": null,
   "metadata": {},
   "outputs": [],
   "source": []
  }
 ],
 "metadata": {
  "kernelspec": {
   "display_name": "skilvul",
   "language": "python",
   "name": "python3"
  },
  "language_info": {
   "codemirror_mode": {
    "name": "ipython",
    "version": 3
   },
   "file_extension": ".py",
   "mimetype": "text/x-python",
   "name": "python",
   "nbconvert_exporter": "python",
   "pygments_lexer": "ipython3",
   "version": "3.9.18"
  }
 },
 "nbformat": 4,
 "nbformat_minor": 2
}
