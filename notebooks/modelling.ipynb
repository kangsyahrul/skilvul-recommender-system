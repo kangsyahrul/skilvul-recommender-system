{
 "cells": [
  {
   "cell_type": "code",
   "execution_count": 1,
   "metadata": {},
   "outputs": [],
   "source": [
    "import numpy as np\n",
    "import pandas as pd\n",
    "import tensorflow as tf\n",
    "import matplotlib.pyplot as plt\n",
    "\n",
    "from sklearn.metrics import accuracy_score, precision_score, recall_score\n",
    "from sklearn.model_selection import train_test_split\n",
    "from tensorflow.keras import layers, losses\n",
    "from tensorflow.keras.models import Model"
   ]
  },
  {
   "cell_type": "code",
   "execution_count": 2,
   "metadata": {},
   "outputs": [
    {
     "data": {
      "text/html": [
       "<div>\n",
       "<style scoped>\n",
       "    .dataframe tbody tr th:only-of-type {\n",
       "        vertical-align: middle;\n",
       "    }\n",
       "\n",
       "    .dataframe tbody tr th {\n",
       "        vertical-align: top;\n",
       "    }\n",
       "\n",
       "    .dataframe thead th {\n",
       "        text-align: right;\n",
       "    }\n",
       "</style>\n",
       "<table border=\"1\" class=\"dataframe\">\n",
       "  <thead>\n",
       "    <tr style=\"text-align: right;\">\n",
       "      <th></th>\n",
       "      <th>product_id</th>\n",
       "      <th>ratings</th>\n",
       "      <th>price</th>\n",
       "      <th>category</th>\n",
       "      <th>brand</th>\n",
       "      <th>kind</th>\n",
       "    </tr>\n",
       "  </thead>\n",
       "  <tbody>\n",
       "    <tr>\n",
       "      <th>0</th>\n",
       "      <td>0</td>\n",
       "      <td>3.270463</td>\n",
       "      <td>53.916667</td>\n",
       "      <td>Dress</td>\n",
       "      <td>Adidas</td>\n",
       "      <td>Kids' Fashion</td>\n",
       "    </tr>\n",
       "    <tr>\n",
       "      <th>1</th>\n",
       "      <td>1</td>\n",
       "      <td>2.879264</td>\n",
       "      <td>44.500000</td>\n",
       "      <td>Dress</td>\n",
       "      <td>Adidas</td>\n",
       "      <td>Men's Fashion</td>\n",
       "    </tr>\n",
       "    <tr>\n",
       "      <th>2</th>\n",
       "      <td>2</td>\n",
       "      <td>2.673620</td>\n",
       "      <td>47.666667</td>\n",
       "      <td>Dress</td>\n",
       "      <td>Adidas</td>\n",
       "      <td>Women's Fashion</td>\n",
       "    </tr>\n",
       "    <tr>\n",
       "      <th>3</th>\n",
       "      <td>3</td>\n",
       "      <td>3.689981</td>\n",
       "      <td>50.200000</td>\n",
       "      <td>Dress</td>\n",
       "      <td>Gucci</td>\n",
       "      <td>Kids' Fashion</td>\n",
       "    </tr>\n",
       "    <tr>\n",
       "      <th>4</th>\n",
       "      <td>4</td>\n",
       "      <td>3.282323</td>\n",
       "      <td>51.125000</td>\n",
       "      <td>Dress</td>\n",
       "      <td>Gucci</td>\n",
       "      <td>Men's Fashion</td>\n",
       "    </tr>\n",
       "    <tr>\n",
       "      <th>...</th>\n",
       "      <td>...</td>\n",
       "      <td>...</td>\n",
       "      <td>...</td>\n",
       "      <td>...</td>\n",
       "      <td>...</td>\n",
       "      <td>...</td>\n",
       "    </tr>\n",
       "    <tr>\n",
       "      <th>70</th>\n",
       "      <td>70</td>\n",
       "      <td>2.436425</td>\n",
       "      <td>56.500000</td>\n",
       "      <td>T-shirt</td>\n",
       "      <td>Nike</td>\n",
       "      <td>Men's Fashion</td>\n",
       "    </tr>\n",
       "    <tr>\n",
       "      <th>71</th>\n",
       "      <td>71</td>\n",
       "      <td>2.636504</td>\n",
       "      <td>72.166667</td>\n",
       "      <td>T-shirt</td>\n",
       "      <td>Nike</td>\n",
       "      <td>Women's Fashion</td>\n",
       "    </tr>\n",
       "    <tr>\n",
       "      <th>72</th>\n",
       "      <td>72</td>\n",
       "      <td>3.548573</td>\n",
       "      <td>65.750000</td>\n",
       "      <td>T-shirt</td>\n",
       "      <td>Zara</td>\n",
       "      <td>Kids' Fashion</td>\n",
       "    </tr>\n",
       "    <tr>\n",
       "      <th>73</th>\n",
       "      <td>73</td>\n",
       "      <td>2.520955</td>\n",
       "      <td>52.818182</td>\n",
       "      <td>T-shirt</td>\n",
       "      <td>Zara</td>\n",
       "      <td>Men's Fashion</td>\n",
       "    </tr>\n",
       "    <tr>\n",
       "      <th>74</th>\n",
       "      <td>74</td>\n",
       "      <td>2.908798</td>\n",
       "      <td>67.375000</td>\n",
       "      <td>T-shirt</td>\n",
       "      <td>Zara</td>\n",
       "      <td>Women's Fashion</td>\n",
       "    </tr>\n",
       "  </tbody>\n",
       "</table>\n",
       "<p>75 rows × 6 columns</p>\n",
       "</div>"
      ],
      "text/plain": [
       "    product_id   ratings      price category   brand             kind\n",
       "0            0  3.270463  53.916667    Dress  Adidas    Kids' Fashion\n",
       "1            1  2.879264  44.500000    Dress  Adidas    Men's Fashion\n",
       "2            2  2.673620  47.666667    Dress  Adidas  Women's Fashion\n",
       "3            3  3.689981  50.200000    Dress   Gucci    Kids' Fashion\n",
       "4            4  3.282323  51.125000    Dress   Gucci    Men's Fashion\n",
       "..         ...       ...        ...      ...     ...              ...\n",
       "70          70  2.436425  56.500000  T-shirt    Nike    Men's Fashion\n",
       "71          71  2.636504  72.166667  T-shirt    Nike  Women's Fashion\n",
       "72          72  3.548573  65.750000  T-shirt    Zara    Kids' Fashion\n",
       "73          73  2.520955  52.818182  T-shirt    Zara    Men's Fashion\n",
       "74          74  2.908798  67.375000  T-shirt    Zara  Women's Fashion\n",
       "\n",
       "[75 rows x 6 columns]"
      ]
     },
     "execution_count": 2,
     "metadata": {},
     "output_type": "execute_result"
    }
   ],
   "source": [
    "df_product = pd.read_csv('../datasets/fashion/product_details.csv', sep=';')\n",
    "df_product = df_product.loc[:, ~df_product.columns.str.contains('^Unnamed')]\n",
    "df_product"
   ]
  },
  {
   "cell_type": "code",
   "execution_count": 3,
   "metadata": {},
   "outputs": [
    {
     "data": {
      "text/html": [
       "<div>\n",
       "<style scoped>\n",
       "    .dataframe tbody tr th:only-of-type {\n",
       "        vertical-align: middle;\n",
       "    }\n",
       "\n",
       "    .dataframe tbody tr th {\n",
       "        vertical-align: top;\n",
       "    }\n",
       "\n",
       "    .dataframe thead th {\n",
       "        text-align: right;\n",
       "    }\n",
       "</style>\n",
       "<table border=\"1\" class=\"dataframe\">\n",
       "  <thead>\n",
       "    <tr style=\"text-align: right;\">\n",
       "      <th></th>\n",
       "      <th>customer_id</th>\n",
       "      <th>product_id</th>\n",
       "      <th>purchase_date</th>\n",
       "    </tr>\n",
       "  </thead>\n",
       "  <tbody>\n",
       "    <tr>\n",
       "      <th>0</th>\n",
       "      <td>18</td>\n",
       "      <td>1</td>\n",
       "      <td>NaN</td>\n",
       "    </tr>\n",
       "    <tr>\n",
       "      <th>1</th>\n",
       "      <td>96</td>\n",
       "      <td>38</td>\n",
       "      <td>NaN</td>\n",
       "    </tr>\n",
       "    <tr>\n",
       "      <th>2</th>\n",
       "      <td>24</td>\n",
       "      <td>2</td>\n",
       "      <td>NaN</td>\n",
       "    </tr>\n",
       "    <tr>\n",
       "      <th>3</th>\n",
       "      <td>56</td>\n",
       "      <td>43</td>\n",
       "      <td>NaN</td>\n",
       "    </tr>\n",
       "    <tr>\n",
       "      <th>4</th>\n",
       "      <td>78</td>\n",
       "      <td>61</td>\n",
       "      <td>NaN</td>\n",
       "    </tr>\n",
       "    <tr>\n",
       "      <th>...</th>\n",
       "      <td>...</td>\n",
       "      <td>...</td>\n",
       "      <td>...</td>\n",
       "    </tr>\n",
       "    <tr>\n",
       "      <th>995</th>\n",
       "      <td>19</td>\n",
       "      <td>44</td>\n",
       "      <td>NaN</td>\n",
       "    </tr>\n",
       "    <tr>\n",
       "      <th>996</th>\n",
       "      <td>41</td>\n",
       "      <td>54</td>\n",
       "      <td>NaN</td>\n",
       "    </tr>\n",
       "    <tr>\n",
       "      <th>997</th>\n",
       "      <td>8</td>\n",
       "      <td>58</td>\n",
       "      <td>NaN</td>\n",
       "    </tr>\n",
       "    <tr>\n",
       "      <th>998</th>\n",
       "      <td>7</td>\n",
       "      <td>74</td>\n",
       "      <td>NaN</td>\n",
       "    </tr>\n",
       "    <tr>\n",
       "      <th>999</th>\n",
       "      <td>90</td>\n",
       "      <td>32</td>\n",
       "      <td>NaN</td>\n",
       "    </tr>\n",
       "  </tbody>\n",
       "</table>\n",
       "<p>1000 rows × 3 columns</p>\n",
       "</div>"
      ],
      "text/plain": [
       "     customer_id  product_id  purchase_date\n",
       "0             18           1            NaN\n",
       "1             96          38            NaN\n",
       "2             24           2            NaN\n",
       "3             56          43            NaN\n",
       "4             78          61            NaN\n",
       "..           ...         ...            ...\n",
       "995           19          44            NaN\n",
       "996           41          54            NaN\n",
       "997            8          58            NaN\n",
       "998            7          74            NaN\n",
       "999           90          32            NaN\n",
       "\n",
       "[1000 rows x 3 columns]"
      ]
     },
     "execution_count": 3,
     "metadata": {},
     "output_type": "execute_result"
    }
   ],
   "source": [
    "df_history = pd.read_csv('../datasets/fashion/purchase_history.csv', sep=';')\n",
    "df_history = df_history.loc[:, ~df_history.columns.str.contains('^Unnamed')]\n",
    "df_history['customer_id'] -= 1\n",
    "df_history"
   ]
  },
  {
   "cell_type": "code",
   "execution_count": 4,
   "metadata": {},
   "outputs": [
    {
     "data": {
      "text/html": [
       "<div>\n",
       "<style scoped>\n",
       "    .dataframe tbody tr th:only-of-type {\n",
       "        vertical-align: middle;\n",
       "    }\n",
       "\n",
       "    .dataframe tbody tr th {\n",
       "        vertical-align: top;\n",
       "    }\n",
       "\n",
       "    .dataframe thead th {\n",
       "        text-align: right;\n",
       "    }\n",
       "</style>\n",
       "<table border=\"1\" class=\"dataframe\">\n",
       "  <thead>\n",
       "    <tr style=\"text-align: right;\">\n",
       "      <th></th>\n",
       "      <th>customer_id</th>\n",
       "      <th>product_id</th>\n",
       "    </tr>\n",
       "  </thead>\n",
       "  <tbody>\n",
       "    <tr>\n",
       "      <th>0</th>\n",
       "      <td>18</td>\n",
       "      <td>1</td>\n",
       "    </tr>\n",
       "    <tr>\n",
       "      <th>1</th>\n",
       "      <td>96</td>\n",
       "      <td>38</td>\n",
       "    </tr>\n",
       "    <tr>\n",
       "      <th>2</th>\n",
       "      <td>24</td>\n",
       "      <td>2</td>\n",
       "    </tr>\n",
       "    <tr>\n",
       "      <th>3</th>\n",
       "      <td>56</td>\n",
       "      <td>43</td>\n",
       "    </tr>\n",
       "    <tr>\n",
       "      <th>4</th>\n",
       "      <td>78</td>\n",
       "      <td>61</td>\n",
       "    </tr>\n",
       "    <tr>\n",
       "      <th>...</th>\n",
       "      <td>...</td>\n",
       "      <td>...</td>\n",
       "    </tr>\n",
       "    <tr>\n",
       "      <th>995</th>\n",
       "      <td>19</td>\n",
       "      <td>44</td>\n",
       "    </tr>\n",
       "    <tr>\n",
       "      <th>996</th>\n",
       "      <td>41</td>\n",
       "      <td>54</td>\n",
       "    </tr>\n",
       "    <tr>\n",
       "      <th>997</th>\n",
       "      <td>8</td>\n",
       "      <td>58</td>\n",
       "    </tr>\n",
       "    <tr>\n",
       "      <th>998</th>\n",
       "      <td>7</td>\n",
       "      <td>74</td>\n",
       "    </tr>\n",
       "    <tr>\n",
       "      <th>999</th>\n",
       "      <td>90</td>\n",
       "      <td>32</td>\n",
       "    </tr>\n",
       "  </tbody>\n",
       "</table>\n",
       "<p>1000 rows × 2 columns</p>\n",
       "</div>"
      ],
      "text/plain": [
       "     customer_id  product_id\n",
       "0             18           1\n",
       "1             96          38\n",
       "2             24           2\n",
       "3             56          43\n",
       "4             78          61\n",
       "..           ...         ...\n",
       "995           19          44\n",
       "996           41          54\n",
       "997            8          58\n",
       "998            7          74\n",
       "999           90          32\n",
       "\n",
       "[1000 rows x 2 columns]"
      ]
     },
     "execution_count": 4,
     "metadata": {},
     "output_type": "execute_result"
    }
   ],
   "source": [
    "df_dataset = df_history[['customer_id', 'product_id']]\n",
    "df_dataset"
   ]
  },
  {
   "cell_type": "code",
   "execution_count": 5,
   "metadata": {},
   "outputs": [
    {
     "data": {
      "text/html": [
       "<div>\n",
       "<style scoped>\n",
       "    .dataframe tbody tr th:only-of-type {\n",
       "        vertical-align: middle;\n",
       "    }\n",
       "\n",
       "    .dataframe tbody tr th {\n",
       "        vertical-align: top;\n",
       "    }\n",
       "\n",
       "    .dataframe thead th {\n",
       "        text-align: right;\n",
       "    }\n",
       "</style>\n",
       "<table border=\"1\" class=\"dataframe\">\n",
       "  <thead>\n",
       "    <tr style=\"text-align: right;\">\n",
       "      <th></th>\n",
       "      <th>customer_id</th>\n",
       "      <th>product_id</th>\n",
       "      <th>count</th>\n",
       "    </tr>\n",
       "  </thead>\n",
       "  <tbody>\n",
       "    <tr>\n",
       "      <th>527</th>\n",
       "      <td>54</td>\n",
       "      <td>70</td>\n",
       "      <td>2</td>\n",
       "    </tr>\n",
       "    <tr>\n",
       "      <th>295</th>\n",
       "      <td>32</td>\n",
       "      <td>28</td>\n",
       "      <td>2</td>\n",
       "    </tr>\n",
       "    <tr>\n",
       "      <th>919</th>\n",
       "      <td>97</td>\n",
       "      <td>11</td>\n",
       "      <td>2</td>\n",
       "    </tr>\n",
       "    <tr>\n",
       "      <th>456</th>\n",
       "      <td>47</td>\n",
       "      <td>62</td>\n",
       "      <td>2</td>\n",
       "    </tr>\n",
       "    <tr>\n",
       "      <th>734</th>\n",
       "      <td>76</td>\n",
       "      <td>67</td>\n",
       "      <td>2</td>\n",
       "    </tr>\n",
       "    <tr>\n",
       "      <th>...</th>\n",
       "      <td>...</td>\n",
       "      <td>...</td>\n",
       "      <td>...</td>\n",
       "    </tr>\n",
       "    <tr>\n",
       "      <th>329</th>\n",
       "      <td>34</td>\n",
       "      <td>66</td>\n",
       "      <td>1</td>\n",
       "    </tr>\n",
       "    <tr>\n",
       "      <th>330</th>\n",
       "      <td>35</td>\n",
       "      <td>0</td>\n",
       "      <td>1</td>\n",
       "    </tr>\n",
       "    <tr>\n",
       "      <th>331</th>\n",
       "      <td>35</td>\n",
       "      <td>1</td>\n",
       "      <td>1</td>\n",
       "    </tr>\n",
       "    <tr>\n",
       "      <th>332</th>\n",
       "      <td>35</td>\n",
       "      <td>17</td>\n",
       "      <td>1</td>\n",
       "    </tr>\n",
       "    <tr>\n",
       "      <th>950</th>\n",
       "      <td>99</td>\n",
       "      <td>68</td>\n",
       "      <td>1</td>\n",
       "    </tr>\n",
       "  </tbody>\n",
       "</table>\n",
       "<p>951 rows × 3 columns</p>\n",
       "</div>"
      ],
      "text/plain": [
       "     customer_id  product_id  count\n",
       "527           54          70      2\n",
       "295           32          28      2\n",
       "919           97          11      2\n",
       "456           47          62      2\n",
       "734           76          67      2\n",
       "..           ...         ...    ...\n",
       "329           34          66      1\n",
       "330           35           0      1\n",
       "331           35           1      1\n",
       "332           35          17      1\n",
       "950           99          68      1\n",
       "\n",
       "[951 rows x 3 columns]"
      ]
     },
     "execution_count": 5,
     "metadata": {},
     "output_type": "execute_result"
    }
   ],
   "source": [
    "df_freq = df_dataset.reset_index(names=['count']).groupby(by=['customer_id', 'product_id']).agg({'count': 'count'}).reset_index().sort_values(by=['count'], ascending=False)\n",
    "df_freq"
   ]
  },
  {
   "cell_type": "code",
   "execution_count": 6,
   "metadata": {},
   "outputs": [
    {
     "data": {
      "text/plain": [
       "count\n",
       "1    902\n",
       "2     49\n",
       "Name: count, dtype: int64"
      ]
     },
     "execution_count": 6,
     "metadata": {},
     "output_type": "execute_result"
    }
   ],
   "source": [
    "df_freq['count'].value_counts()"
   ]
  },
  {
   "cell_type": "code",
   "execution_count": 7,
   "metadata": {},
   "outputs": [],
   "source": [
    "# sorted(df_dataset['customer_id'].unique())\n",
    "# sorted(df_dataset['product_id'].unique())"
   ]
  },
  {
   "cell_type": "code",
   "execution_count": 8,
   "metadata": {},
   "outputs": [
    {
     "name": "stdout",
     "output_type": "stream",
     "text": [
      "total_user: 100\n",
      "total_product: 75\n"
     ]
    }
   ],
   "source": [
    "total_user = len(df_dataset['customer_id'].unique())\n",
    "total_product = len(df_dataset['product_id'].unique())\n",
    "print(f'total_user: {total_user}')\n",
    "print(f'total_product: {total_product}')"
   ]
  },
  {
   "cell_type": "code",
   "execution_count": 9,
   "metadata": {},
   "outputs": [
    {
     "data": {
      "text/plain": [
       "(100, 75)"
      ]
     },
     "execution_count": 9,
     "metadata": {},
     "output_type": "execute_result"
    }
   ],
   "source": [
    "datatsets = np.zeros((total_user, total_product))\n",
    "(datatsets.shape)"
   ]
  },
  {
   "cell_type": "code",
   "execution_count": 10,
   "metadata": {},
   "outputs": [],
   "source": [
    "for i, row in df_freq.iterrows():\n",
    "    count = row['count']\n",
    "    datatsets[row['customer_id'], row['product_id']] = 1"
   ]
  },
  {
   "cell_type": "code",
   "execution_count": 12,
   "metadata": {},
   "outputs": [
    {
     "data": {
      "text/plain": [
       "array([ 9.,  9., 10., 12.,  8., 13., 11., 10., 14., 11., 14.,  6., 10.,\n",
       "        5.,  6.,  7.,  7.,  9.,  9.,  9.,  6.,  9.,  4., 11., 13., 10.,\n",
       "       10.,  6.,  5., 11.,  9., 10., 10., 15., 12.,  9., 16., 13., 13.,\n",
       "       10.,  9., 10.,  6., 11.,  5., 13.,  2., 12., 10., 11., 10., 12.,\n",
       "        5., 13.,  8., 11.,  7.,  5.,  8., 12., 14.,  7., 10.,  9., 13.,\n",
       "        9.,  7.,  9.,  7.,  8., 12., 10., 13.,  9.,  8.,  8., 13.,  9.,\n",
       "       10., 15.,  6., 11.,  8., 11.,  4.,  3., 11.,  9., 13.,  8., 10.,\n",
       "       13.,  7.,  9.,  9.,  6.,  8., 13.,  8., 13.])"
      ]
     },
     "execution_count": 12,
     "metadata": {},
     "output_type": "execute_result"
    }
   ],
   "source": [
    "datatsets.sum(axis=1)"
   ]
  },
  {
   "cell_type": "code",
   "execution_count": 13,
   "metadata": {},
   "outputs": [
    {
     "name": "stdout",
     "output_type": "stream",
     "text": [
      "datatsets_train: (81, 75)\n",
      "datatsets_test: (19, 75)\n"
     ]
    }
   ],
   "source": [
    "# Drop \n",
    "min_items = 12 # datatsets.sum(axis=1).mean()\n",
    "\n",
    "datatsets_train = datatsets[datatsets.sum(axis=1) <= min_items, :]\n",
    "datatsets_test = datatsets[datatsets.sum(axis=1) > min_items, :]\n",
    "\n",
    "print(f'datatsets_train: {datatsets_train.shape}')\n",
    "print(f'datatsets_test: {datatsets_test.shape}')"
   ]
  },
  {
   "cell_type": "code",
   "execution_count": 65,
   "metadata": {},
   "outputs": [
    {
     "name": "stdout",
     "output_type": "stream",
     "text": [
      "Train: ((10647, 75), (10647, 75))\n",
      "Test: ((8154, 75), (8154, 75))\n"
     ]
    }
   ],
   "source": [
    "import itertools\n",
    "\n",
    "def generate_trainset(datatsets):\n",
    "    x, y, z = [], [], []\n",
    "    for row in datatsets:\n",
    "        product_ids = np.argwhere(row == 1).reshape(-1).tolist()\n",
    "        for c in range(1, min(4, len(product_ids) - 2)):\n",
    "            combs = list(itertools.combinations(product_ids, c))\n",
    "            \n",
    "            for k, comb in enumerate(combs):\n",
    "                combinations = np.zeros((1, total_product))\n",
    "\n",
    "                for i, product_id in enumerate(comb):\n",
    "                    combinations[0, product_id] = 1\n",
    "                y.append(row - combinations[0])\n",
    "                z.append(row)\n",
    "                x.extend(combinations)\n",
    "            \n",
    "    return np.array(x), np.array(y), np.array(z)\n",
    "\n",
    "x_train, y_train, z_train = generate_trainset(datatsets_train)\n",
    "x_test, y_test, z_test = generate_trainset(datatsets_test)\n",
    "\n",
    "print(f'Train: {(x_train.shape), (y_train.shape)}')\n",
    "print(f'Test: {(x_test.shape), (y_test.shape)}')"
   ]
  },
  {
   "cell_type": "markdown",
   "metadata": {},
   "source": [
    "# Model"
   ]
  },
  {
   "cell_type": "code",
   "execution_count": 103,
   "metadata": {},
   "outputs": [],
   "source": [
    "class Autoencoder(Model):\n",
    "    def __init__(self, latent_dim, shape):\n",
    "        super(Autoencoder, self).__init__()\n",
    "        self.latent_dim = latent_dim\n",
    "        self.shape = shape\n",
    "        self.encoder = tf.keras.Sequential([\n",
    "            layers.Flatten(),\n",
    "            layers.Dense(latent_dim * 2, activation='relu'),\n",
    "            layers.Dense(latent_dim, activation='relu'),\n",
    "            layers.Dense(latent_dim // 2, activation='relu'),\n",
    "        ])\n",
    "        self.decoder = tf.keras.Sequential([\n",
    "            layers.Dense(latent_dim, activation='relu'),\n",
    "            layers.Dense(latent_dim * 2, activation='relu'),\n",
    "            layers.Dense(tf.math.reduce_prod(shape), activation='sigmoid'),\n",
    "        ])\n",
    "\n",
    "    def call(self, x):\n",
    "        encoded = self.encoder(x)\n",
    "        decoded = self.decoder(encoded)\n",
    "        return decoded\n",
    "    \n",
    "def build_model(model_name='autoencoder'):\n",
    "    shape = x_train.shape[1:]\n",
    "    latent_dim = 32\n",
    "    if model_name == 'autoencoder':\n",
    "        model = Autoencoder(latent_dim, shape)\n",
    "        model.compile(\n",
    "            optimizer=tf.keras.optimizers.legacy.Adam(learning_rate=1e-4), \n",
    "            loss=losses.MeanSquaredError(), \n",
    "            metrics=tf.keras.metrics.BinaryAccuracy(),\n",
    "        )\n",
    "\n",
    "    else:\n",
    "        model = tf.keras.Sequential([\n",
    "            layers.Flatten(),\n",
    "            layers.Dense(x_train.shape[1] * 4, activation='relu'),\n",
    "            layers.Dropout(0.2),\n",
    "            layers.Dense(x_train.shape[1] * 4, activation='relu'),\n",
    "            layers.Dropout(0.2),\n",
    "            layers.Dense(x_train.shape[1] * 2, activation='relu'),\n",
    "            layers.Dropout(0.2),\n",
    "            layers.Dense(x_train.shape[1], activation='sigmoid'),    \n",
    "        ])\n",
    "        model.compile(\n",
    "            optimizer=tf.keras.optimizers.legacy.Adam(learning_rate=1e-3), \n",
    "            loss=losses.MeanSquaredError(), \n",
    "            metrics=tf.keras.metrics.BinaryAccuracy(),\n",
    "        )\n",
    "    return model"
   ]
  },
  {
   "cell_type": "code",
   "execution_count": 104,
   "metadata": {},
   "outputs": [],
   "source": [
    "# model_name = 'NN'\n",
    "model_name = 'autoencoder'\n",
    "model = build_model(model_name)"
   ]
  },
  {
   "cell_type": "code",
   "execution_count": 105,
   "metadata": {},
   "outputs": [],
   "source": [
    "callback_plateau = tf.keras.callbacks.ReduceLROnPlateau(\n",
    "    monitor='val_loss',\n",
    "    factor=0.1,\n",
    "    patience=10,\n",
    "    verbose=0,\n",
    "    mode='auto',\n",
    "    min_delta=0.001,\n",
    "    cooldown=0,\n",
    "    min_lr=0,\n",
    ")\n",
    "callback_checkpoint = tf.keras.callbacks.ModelCheckpoint(\n",
    "    f'../models/{model_name}/checkpoint/',\n",
    "    monitor='val_loss',\n",
    "    save_best_only=True,\n",
    "    save_freq='epoch',\n",
    ")"
   ]
  },
  {
   "cell_type": "code",
   "execution_count": 106,
   "metadata": {},
   "outputs": [
    {
     "name": "stdout",
     "output_type": "stream",
     "text": [
      "Epoch 1/200\n",
      "1/6 [====>.........................] - ETA: 1s - loss: 0.2497 - binary_accuracy: 0.5290INFO:tensorflow:Assets written to: ../models/autoencoder/checkpoint/assets\n"
     ]
    },
    {
     "name": "stderr",
     "output_type": "stream",
     "text": [
      "INFO:tensorflow:Assets written to: ../models/autoencoder/checkpoint/assets\n"
     ]
    },
    {
     "name": "stdout",
     "output_type": "stream",
     "text": [
      "6/6 [==============================] - 1s 83ms/step - loss: 0.2495 - binary_accuracy: 0.5383 - val_loss: 0.2494 - val_binary_accuracy: 0.5405 - lr: 1.0000e-04\n",
      "Epoch 2/200\n",
      "1/6 [====>.........................] - ETA: 0s - loss: 0.2492 - binary_accuracy: 0.5550INFO:tensorflow:Assets written to: ../models/autoencoder/checkpoint/assets\n"
     ]
    },
    {
     "name": "stderr",
     "output_type": "stream",
     "text": [
      "INFO:tensorflow:Assets written to: ../models/autoencoder/checkpoint/assets\n"
     ]
    },
    {
     "name": "stdout",
     "output_type": "stream",
     "text": [
      "6/6 [==============================] - 0s 72ms/step - loss: 0.2491 - binary_accuracy: 0.5638 - val_loss: 0.2490 - val_binary_accuracy: 0.5609 - lr: 1.0000e-04\n",
      "Epoch 3/200\n",
      "1/6 [====>.........................] - ETA: 0s - loss: 0.2488 - binary_accuracy: 0.5804WARNING:tensorflow:Detecting that an object or model or tf.train.Checkpoint is being deleted with unrestored values. See the following logs for the specific values in question. To silence these warnings, use `status.expect_partial()`. See https://www.tensorflow.org/api_docs/python/tf/train/Checkpoint#restorefor details about the status object returned by the restore function.\n"
     ]
    },
    {
     "name": "stderr",
     "output_type": "stream",
     "text": [
      "WARNING:tensorflow:Detecting that an object or model or tf.train.Checkpoint is being deleted with unrestored values. See the following logs for the specific values in question. To silence these warnings, use `status.expect_partial()`. See https://www.tensorflow.org/api_docs/python/tf/train/Checkpoint#restorefor details about the status object returned by the restore function.\n"
     ]
    },
    {
     "name": "stdout",
     "output_type": "stream",
     "text": [
      "WARNING:tensorflow:Value in checkpoint could not be found in the restored object: (root).optimizer.iter\n"
     ]
    },
    {
     "name": "stderr",
     "output_type": "stream",
     "text": [
      "WARNING:tensorflow:Value in checkpoint could not be found in the restored object: (root).optimizer.iter\n"
     ]
    },
    {
     "name": "stdout",
     "output_type": "stream",
     "text": [
      "WARNING:tensorflow:Value in checkpoint could not be found in the restored object: (root).optimizer.beta_1\n"
     ]
    },
    {
     "name": "stderr",
     "output_type": "stream",
     "text": [
      "WARNING:tensorflow:Value in checkpoint could not be found in the restored object: (root).optimizer.beta_1\n"
     ]
    },
    {
     "name": "stdout",
     "output_type": "stream",
     "text": [
      "WARNING:tensorflow:Value in checkpoint could not be found in the restored object: (root).optimizer.beta_2\n"
     ]
    },
    {
     "name": "stderr",
     "output_type": "stream",
     "text": [
      "WARNING:tensorflow:Value in checkpoint could not be found in the restored object: (root).optimizer.beta_2\n"
     ]
    },
    {
     "name": "stdout",
     "output_type": "stream",
     "text": [
      "WARNING:tensorflow:Value in checkpoint could not be found in the restored object: (root).optimizer.decay\n"
     ]
    },
    {
     "name": "stderr",
     "output_type": "stream",
     "text": [
      "WARNING:tensorflow:Value in checkpoint could not be found in the restored object: (root).optimizer.decay\n"
     ]
    },
    {
     "name": "stdout",
     "output_type": "stream",
     "text": [
      "WARNING:tensorflow:Value in checkpoint could not be found in the restored object: (root).optimizer.learning_rate\n"
     ]
    },
    {
     "name": "stderr",
     "output_type": "stream",
     "text": [
      "WARNING:tensorflow:Value in checkpoint could not be found in the restored object: (root).optimizer.learning_rate\n"
     ]
    },
    {
     "name": "stdout",
     "output_type": "stream",
     "text": [
      "WARNING:tensorflow:Value in checkpoint could not be found in the restored object: (root).keras_api.metrics.0.total\n"
     ]
    },
    {
     "name": "stderr",
     "output_type": "stream",
     "text": [
      "WARNING:tensorflow:Value in checkpoint could not be found in the restored object: (root).keras_api.metrics.0.total\n"
     ]
    },
    {
     "name": "stdout",
     "output_type": "stream",
     "text": [
      "WARNING:tensorflow:Value in checkpoint could not be found in the restored object: (root).keras_api.metrics.0.count\n"
     ]
    },
    {
     "name": "stderr",
     "output_type": "stream",
     "text": [
      "WARNING:tensorflow:Value in checkpoint could not be found in the restored object: (root).keras_api.metrics.0.count\n"
     ]
    },
    {
     "name": "stdout",
     "output_type": "stream",
     "text": [
      "WARNING:tensorflow:Value in checkpoint could not be found in the restored object: (root).keras_api.metrics.1.total\n"
     ]
    },
    {
     "name": "stderr",
     "output_type": "stream",
     "text": [
      "WARNING:tensorflow:Value in checkpoint could not be found in the restored object: (root).keras_api.metrics.1.total\n"
     ]
    },
    {
     "name": "stdout",
     "output_type": "stream",
     "text": [
      "WARNING:tensorflow:Value in checkpoint could not be found in the restored object: (root).keras_api.metrics.1.count\n"
     ]
    },
    {
     "name": "stderr",
     "output_type": "stream",
     "text": [
      "WARNING:tensorflow:Value in checkpoint could not be found in the restored object: (root).keras_api.metrics.1.count\n"
     ]
    },
    {
     "name": "stdout",
     "output_type": "stream",
     "text": [
      "WARNING:tensorflow:Value in checkpoint could not be found in the restored object: (root).optimizer's state 'm' for (root).variables.0\n"
     ]
    },
    {
     "name": "stderr",
     "output_type": "stream",
     "text": [
      "WARNING:tensorflow:Value in checkpoint could not be found in the restored object: (root).optimizer's state 'm' for (root).variables.0\n"
     ]
    },
    {
     "name": "stdout",
     "output_type": "stream",
     "text": [
      "WARNING:tensorflow:Value in checkpoint could not be found in the restored object: (root).optimizer's state 'm' for (root).variables.1\n"
     ]
    },
    {
     "name": "stderr",
     "output_type": "stream",
     "text": [
      "WARNING:tensorflow:Value in checkpoint could not be found in the restored object: (root).optimizer's state 'm' for (root).variables.1\n"
     ]
    },
    {
     "name": "stdout",
     "output_type": "stream",
     "text": [
      "WARNING:tensorflow:Value in checkpoint could not be found in the restored object: (root).optimizer's state 'm' for (root).variables.2\n"
     ]
    },
    {
     "name": "stderr",
     "output_type": "stream",
     "text": [
      "WARNING:tensorflow:Value in checkpoint could not be found in the restored object: (root).optimizer's state 'm' for (root).variables.2\n"
     ]
    },
    {
     "name": "stdout",
     "output_type": "stream",
     "text": [
      "WARNING:tensorflow:Value in checkpoint could not be found in the restored object: (root).optimizer's state 'm' for (root).variables.3\n"
     ]
    },
    {
     "name": "stderr",
     "output_type": "stream",
     "text": [
      "WARNING:tensorflow:Value in checkpoint could not be found in the restored object: (root).optimizer's state 'm' for (root).variables.3\n"
     ]
    },
    {
     "name": "stdout",
     "output_type": "stream",
     "text": [
      "WARNING:tensorflow:Value in checkpoint could not be found in the restored object: (root).optimizer's state 'm' for (root).variables.4\n"
     ]
    },
    {
     "name": "stderr",
     "output_type": "stream",
     "text": [
      "WARNING:tensorflow:Value in checkpoint could not be found in the restored object: (root).optimizer's state 'm' for (root).variables.4\n"
     ]
    },
    {
     "name": "stdout",
     "output_type": "stream",
     "text": [
      "WARNING:tensorflow:Value in checkpoint could not be found in the restored object: (root).optimizer's state 'm' for (root).variables.5\n"
     ]
    },
    {
     "name": "stderr",
     "output_type": "stream",
     "text": [
      "WARNING:tensorflow:Value in checkpoint could not be found in the restored object: (root).optimizer's state 'm' for (root).variables.5\n"
     ]
    },
    {
     "name": "stdout",
     "output_type": "stream",
     "text": [
      "WARNING:tensorflow:Value in checkpoint could not be found in the restored object: (root).optimizer's state 'm' for (root).variables.6\n"
     ]
    },
    {
     "name": "stderr",
     "output_type": "stream",
     "text": [
      "WARNING:tensorflow:Value in checkpoint could not be found in the restored object: (root).optimizer's state 'm' for (root).variables.6\n"
     ]
    },
    {
     "name": "stdout",
     "output_type": "stream",
     "text": [
      "WARNING:tensorflow:Value in checkpoint could not be found in the restored object: (root).optimizer's state 'm' for (root).variables.7\n"
     ]
    },
    {
     "name": "stderr",
     "output_type": "stream",
     "text": [
      "WARNING:tensorflow:Value in checkpoint could not be found in the restored object: (root).optimizer's state 'm' for (root).variables.7\n"
     ]
    },
    {
     "name": "stdout",
     "output_type": "stream",
     "text": [
      "WARNING:tensorflow:Value in checkpoint could not be found in the restored object: (root).optimizer's state 'm' for (root).variables.8\n"
     ]
    },
    {
     "name": "stderr",
     "output_type": "stream",
     "text": [
      "WARNING:tensorflow:Value in checkpoint could not be found in the restored object: (root).optimizer's state 'm' for (root).variables.8\n"
     ]
    },
    {
     "name": "stdout",
     "output_type": "stream",
     "text": [
      "WARNING:tensorflow:Value in checkpoint could not be found in the restored object: (root).optimizer's state 'm' for (root).variables.9\n"
     ]
    },
    {
     "name": "stderr",
     "output_type": "stream",
     "text": [
      "WARNING:tensorflow:Value in checkpoint could not be found in the restored object: (root).optimizer's state 'm' for (root).variables.9\n"
     ]
    },
    {
     "name": "stdout",
     "output_type": "stream",
     "text": [
      "WARNING:tensorflow:Value in checkpoint could not be found in the restored object: (root).optimizer's state 'm' for (root).variables.10\n"
     ]
    },
    {
     "name": "stderr",
     "output_type": "stream",
     "text": [
      "WARNING:tensorflow:Value in checkpoint could not be found in the restored object: (root).optimizer's state 'm' for (root).variables.10\n"
     ]
    },
    {
     "name": "stdout",
     "output_type": "stream",
     "text": [
      "WARNING:tensorflow:Value in checkpoint could not be found in the restored object: (root).optimizer's state 'm' for (root).variables.11\n"
     ]
    },
    {
     "name": "stderr",
     "output_type": "stream",
     "text": [
      "WARNING:tensorflow:Value in checkpoint could not be found in the restored object: (root).optimizer's state 'm' for (root).variables.11\n"
     ]
    },
    {
     "name": "stdout",
     "output_type": "stream",
     "text": [
      "WARNING:tensorflow:Value in checkpoint could not be found in the restored object: (root).optimizer's state 'v' for (root).variables.0\n"
     ]
    },
    {
     "name": "stderr",
     "output_type": "stream",
     "text": [
      "WARNING:tensorflow:Value in checkpoint could not be found in the restored object: (root).optimizer's state 'v' for (root).variables.0\n"
     ]
    },
    {
     "name": "stdout",
     "output_type": "stream",
     "text": [
      "WARNING:tensorflow:Value in checkpoint could not be found in the restored object: (root).optimizer's state 'v' for (root).variables.1\n"
     ]
    },
    {
     "name": "stderr",
     "output_type": "stream",
     "text": [
      "WARNING:tensorflow:Value in checkpoint could not be found in the restored object: (root).optimizer's state 'v' for (root).variables.1\n"
     ]
    },
    {
     "name": "stdout",
     "output_type": "stream",
     "text": [
      "WARNING:tensorflow:Value in checkpoint could not be found in the restored object: (root).optimizer's state 'v' for (root).variables.2\n"
     ]
    },
    {
     "name": "stderr",
     "output_type": "stream",
     "text": [
      "WARNING:tensorflow:Value in checkpoint could not be found in the restored object: (root).optimizer's state 'v' for (root).variables.2\n"
     ]
    },
    {
     "name": "stdout",
     "output_type": "stream",
     "text": [
      "WARNING:tensorflow:Value in checkpoint could not be found in the restored object: (root).optimizer's state 'v' for (root).variables.3\n"
     ]
    },
    {
     "name": "stderr",
     "output_type": "stream",
     "text": [
      "WARNING:tensorflow:Value in checkpoint could not be found in the restored object: (root).optimizer's state 'v' for (root).variables.3\n"
     ]
    },
    {
     "name": "stdout",
     "output_type": "stream",
     "text": [
      "WARNING:tensorflow:Value in checkpoint could not be found in the restored object: (root).optimizer's state 'v' for (root).variables.4\n"
     ]
    },
    {
     "name": "stderr",
     "output_type": "stream",
     "text": [
      "WARNING:tensorflow:Value in checkpoint could not be found in the restored object: (root).optimizer's state 'v' for (root).variables.4\n"
     ]
    },
    {
     "name": "stdout",
     "output_type": "stream",
     "text": [
      "WARNING:tensorflow:Value in checkpoint could not be found in the restored object: (root).optimizer's state 'v' for (root).variables.5\n"
     ]
    },
    {
     "name": "stderr",
     "output_type": "stream",
     "text": [
      "WARNING:tensorflow:Value in checkpoint could not be found in the restored object: (root).optimizer's state 'v' for (root).variables.5\n"
     ]
    },
    {
     "name": "stdout",
     "output_type": "stream",
     "text": [
      "WARNING:tensorflow:Value in checkpoint could not be found in the restored object: (root).optimizer's state 'v' for (root).variables.6\n"
     ]
    },
    {
     "name": "stderr",
     "output_type": "stream",
     "text": [
      "WARNING:tensorflow:Value in checkpoint could not be found in the restored object: (root).optimizer's state 'v' for (root).variables.6\n"
     ]
    },
    {
     "name": "stdout",
     "output_type": "stream",
     "text": [
      "WARNING:tensorflow:Value in checkpoint could not be found in the restored object: (root).optimizer's state 'v' for (root).variables.7\n"
     ]
    },
    {
     "name": "stderr",
     "output_type": "stream",
     "text": [
      "WARNING:tensorflow:Value in checkpoint could not be found in the restored object: (root).optimizer's state 'v' for (root).variables.7\n"
     ]
    },
    {
     "name": "stdout",
     "output_type": "stream",
     "text": [
      "WARNING:tensorflow:Value in checkpoint could not be found in the restored object: (root).optimizer's state 'v' for (root).variables.8\n"
     ]
    },
    {
     "name": "stderr",
     "output_type": "stream",
     "text": [
      "WARNING:tensorflow:Value in checkpoint could not be found in the restored object: (root).optimizer's state 'v' for (root).variables.8\n"
     ]
    },
    {
     "name": "stdout",
     "output_type": "stream",
     "text": [
      "WARNING:tensorflow:Value in checkpoint could not be found in the restored object: (root).optimizer's state 'v' for (root).variables.9\n"
     ]
    },
    {
     "name": "stderr",
     "output_type": "stream",
     "text": [
      "WARNING:tensorflow:Value in checkpoint could not be found in the restored object: (root).optimizer's state 'v' for (root).variables.9\n"
     ]
    },
    {
     "name": "stdout",
     "output_type": "stream",
     "text": [
      "WARNING:tensorflow:Value in checkpoint could not be found in the restored object: (root).optimizer's state 'v' for (root).variables.10\n"
     ]
    },
    {
     "name": "stderr",
     "output_type": "stream",
     "text": [
      "WARNING:tensorflow:Value in checkpoint could not be found in the restored object: (root).optimizer's state 'v' for (root).variables.10\n"
     ]
    },
    {
     "name": "stdout",
     "output_type": "stream",
     "text": [
      "WARNING:tensorflow:Value in checkpoint could not be found in the restored object: (root).optimizer's state 'v' for (root).variables.11\n"
     ]
    },
    {
     "name": "stderr",
     "output_type": "stream",
     "text": [
      "WARNING:tensorflow:Value in checkpoint could not be found in the restored object: (root).optimizer's state 'v' for (root).variables.11\n"
     ]
    },
    {
     "name": "stdout",
     "output_type": "stream",
     "text": [
      "WARNING:tensorflow:Detecting that an object or model or tf.train.Checkpoint is being deleted with unrestored values. See the following logs for the specific values in question. To silence these warnings, use `status.expect_partial()`. See https://www.tensorflow.org/api_docs/python/tf/train/Checkpoint#restorefor details about the status object returned by the restore function.\n"
     ]
    },
    {
     "name": "stderr",
     "output_type": "stream",
     "text": [
      "WARNING:tensorflow:Detecting that an object or model or tf.train.Checkpoint is being deleted with unrestored values. See the following logs for the specific values in question. To silence these warnings, use `status.expect_partial()`. See https://www.tensorflow.org/api_docs/python/tf/train/Checkpoint#restorefor details about the status object returned by the restore function.\n"
     ]
    },
    {
     "name": "stdout",
     "output_type": "stream",
     "text": [
      "WARNING:tensorflow:Value in checkpoint could not be found in the restored object: (root).optimizer.iter\n"
     ]
    },
    {
     "name": "stderr",
     "output_type": "stream",
     "text": [
      "WARNING:tensorflow:Value in checkpoint could not be found in the restored object: (root).optimizer.iter\n"
     ]
    },
    {
     "name": "stdout",
     "output_type": "stream",
     "text": [
      "WARNING:tensorflow:Value in checkpoint could not be found in the restored object: (root).optimizer.beta_1\n"
     ]
    },
    {
     "name": "stderr",
     "output_type": "stream",
     "text": [
      "WARNING:tensorflow:Value in checkpoint could not be found in the restored object: (root).optimizer.beta_1\n"
     ]
    },
    {
     "name": "stdout",
     "output_type": "stream",
     "text": [
      "WARNING:tensorflow:Value in checkpoint could not be found in the restored object: (root).optimizer.beta_2\n"
     ]
    },
    {
     "name": "stderr",
     "output_type": "stream",
     "text": [
      "WARNING:tensorflow:Value in checkpoint could not be found in the restored object: (root).optimizer.beta_2\n"
     ]
    },
    {
     "name": "stdout",
     "output_type": "stream",
     "text": [
      "WARNING:tensorflow:Value in checkpoint could not be found in the restored object: (root).optimizer.decay\n"
     ]
    },
    {
     "name": "stderr",
     "output_type": "stream",
     "text": [
      "WARNING:tensorflow:Value in checkpoint could not be found in the restored object: (root).optimizer.decay\n"
     ]
    },
    {
     "name": "stdout",
     "output_type": "stream",
     "text": [
      "WARNING:tensorflow:Value in checkpoint could not be found in the restored object: (root).optimizer.learning_rate\n"
     ]
    },
    {
     "name": "stderr",
     "output_type": "stream",
     "text": [
      "WARNING:tensorflow:Value in checkpoint could not be found in the restored object: (root).optimizer.learning_rate\n"
     ]
    },
    {
     "name": "stdout",
     "output_type": "stream",
     "text": [
      "WARNING:tensorflow:Value in checkpoint could not be found in the restored object: (root).keras_api.metrics.0.total\n"
     ]
    },
    {
     "name": "stderr",
     "output_type": "stream",
     "text": [
      "WARNING:tensorflow:Value in checkpoint could not be found in the restored object: (root).keras_api.metrics.0.total\n"
     ]
    },
    {
     "name": "stdout",
     "output_type": "stream",
     "text": [
      "WARNING:tensorflow:Value in checkpoint could not be found in the restored object: (root).keras_api.metrics.0.count\n"
     ]
    },
    {
     "name": "stderr",
     "output_type": "stream",
     "text": [
      "WARNING:tensorflow:Value in checkpoint could not be found in the restored object: (root).keras_api.metrics.0.count\n"
     ]
    },
    {
     "name": "stdout",
     "output_type": "stream",
     "text": [
      "WARNING:tensorflow:Value in checkpoint could not be found in the restored object: (root).keras_api.metrics.1.total\n"
     ]
    },
    {
     "name": "stderr",
     "output_type": "stream",
     "text": [
      "WARNING:tensorflow:Value in checkpoint could not be found in the restored object: (root).keras_api.metrics.1.total\n"
     ]
    },
    {
     "name": "stdout",
     "output_type": "stream",
     "text": [
      "WARNING:tensorflow:Value in checkpoint could not be found in the restored object: (root).keras_api.metrics.1.count\n"
     ]
    },
    {
     "name": "stderr",
     "output_type": "stream",
     "text": [
      "WARNING:tensorflow:Value in checkpoint could not be found in the restored object: (root).keras_api.metrics.1.count\n"
     ]
    },
    {
     "name": "stdout",
     "output_type": "stream",
     "text": [
      "WARNING:tensorflow:Value in checkpoint could not be found in the restored object: (root).optimizer's state 'm' for (root).variables.0\n"
     ]
    },
    {
     "name": "stderr",
     "output_type": "stream",
     "text": [
      "WARNING:tensorflow:Value in checkpoint could not be found in the restored object: (root).optimizer's state 'm' for (root).variables.0\n"
     ]
    },
    {
     "name": "stdout",
     "output_type": "stream",
     "text": [
      "WARNING:tensorflow:Value in checkpoint could not be found in the restored object: (root).optimizer's state 'm' for (root).variables.1\n"
     ]
    },
    {
     "name": "stderr",
     "output_type": "stream",
     "text": [
      "WARNING:tensorflow:Value in checkpoint could not be found in the restored object: (root).optimizer's state 'm' for (root).variables.1\n"
     ]
    },
    {
     "name": "stdout",
     "output_type": "stream",
     "text": [
      "WARNING:tensorflow:Value in checkpoint could not be found in the restored object: (root).optimizer's state 'm' for (root).variables.2\n"
     ]
    },
    {
     "name": "stderr",
     "output_type": "stream",
     "text": [
      "WARNING:tensorflow:Value in checkpoint could not be found in the restored object: (root).optimizer's state 'm' for (root).variables.2\n"
     ]
    },
    {
     "name": "stdout",
     "output_type": "stream",
     "text": [
      "WARNING:tensorflow:Value in checkpoint could not be found in the restored object: (root).optimizer's state 'm' for (root).variables.3\n"
     ]
    },
    {
     "name": "stderr",
     "output_type": "stream",
     "text": [
      "WARNING:tensorflow:Value in checkpoint could not be found in the restored object: (root).optimizer's state 'm' for (root).variables.3\n"
     ]
    },
    {
     "name": "stdout",
     "output_type": "stream",
     "text": [
      "WARNING:tensorflow:Value in checkpoint could not be found in the restored object: (root).optimizer's state 'm' for (root).variables.4\n"
     ]
    },
    {
     "name": "stderr",
     "output_type": "stream",
     "text": [
      "WARNING:tensorflow:Value in checkpoint could not be found in the restored object: (root).optimizer's state 'm' for (root).variables.4\n"
     ]
    },
    {
     "name": "stdout",
     "output_type": "stream",
     "text": [
      "WARNING:tensorflow:Value in checkpoint could not be found in the restored object: (root).optimizer's state 'm' for (root).variables.5\n"
     ]
    },
    {
     "name": "stderr",
     "output_type": "stream",
     "text": [
      "WARNING:tensorflow:Value in checkpoint could not be found in the restored object: (root).optimizer's state 'm' for (root).variables.5\n"
     ]
    },
    {
     "name": "stdout",
     "output_type": "stream",
     "text": [
      "WARNING:tensorflow:Value in checkpoint could not be found in the restored object: (root).optimizer's state 'm' for (root).variables.6\n"
     ]
    },
    {
     "name": "stderr",
     "output_type": "stream",
     "text": [
      "WARNING:tensorflow:Value in checkpoint could not be found in the restored object: (root).optimizer's state 'm' for (root).variables.6\n"
     ]
    },
    {
     "name": "stdout",
     "output_type": "stream",
     "text": [
      "WARNING:tensorflow:Value in checkpoint could not be found in the restored object: (root).optimizer's state 'm' for (root).variables.7\n"
     ]
    },
    {
     "name": "stderr",
     "output_type": "stream",
     "text": [
      "WARNING:tensorflow:Value in checkpoint could not be found in the restored object: (root).optimizer's state 'm' for (root).variables.7\n"
     ]
    },
    {
     "name": "stdout",
     "output_type": "stream",
     "text": [
      "WARNING:tensorflow:Value in checkpoint could not be found in the restored object: (root).optimizer's state 'm' for (root).variables.8\n"
     ]
    },
    {
     "name": "stderr",
     "output_type": "stream",
     "text": [
      "WARNING:tensorflow:Value in checkpoint could not be found in the restored object: (root).optimizer's state 'm' for (root).variables.8\n"
     ]
    },
    {
     "name": "stdout",
     "output_type": "stream",
     "text": [
      "WARNING:tensorflow:Value in checkpoint could not be found in the restored object: (root).optimizer's state 'm' for (root).variables.9\n"
     ]
    },
    {
     "name": "stderr",
     "output_type": "stream",
     "text": [
      "WARNING:tensorflow:Value in checkpoint could not be found in the restored object: (root).optimizer's state 'm' for (root).variables.9\n"
     ]
    },
    {
     "name": "stdout",
     "output_type": "stream",
     "text": [
      "WARNING:tensorflow:Value in checkpoint could not be found in the restored object: (root).optimizer's state 'm' for (root).variables.10\n"
     ]
    },
    {
     "name": "stderr",
     "output_type": "stream",
     "text": [
      "WARNING:tensorflow:Value in checkpoint could not be found in the restored object: (root).optimizer's state 'm' for (root).variables.10\n"
     ]
    },
    {
     "name": "stdout",
     "output_type": "stream",
     "text": [
      "WARNING:tensorflow:Value in checkpoint could not be found in the restored object: (root).optimizer's state 'm' for (root).variables.11\n"
     ]
    },
    {
     "name": "stderr",
     "output_type": "stream",
     "text": [
      "WARNING:tensorflow:Value in checkpoint could not be found in the restored object: (root).optimizer's state 'm' for (root).variables.11\n"
     ]
    },
    {
     "name": "stdout",
     "output_type": "stream",
     "text": [
      "WARNING:tensorflow:Value in checkpoint could not be found in the restored object: (root).optimizer's state 'v' for (root).variables.0\n"
     ]
    },
    {
     "name": "stderr",
     "output_type": "stream",
     "text": [
      "WARNING:tensorflow:Value in checkpoint could not be found in the restored object: (root).optimizer's state 'v' for (root).variables.0\n"
     ]
    },
    {
     "name": "stdout",
     "output_type": "stream",
     "text": [
      "WARNING:tensorflow:Value in checkpoint could not be found in the restored object: (root).optimizer's state 'v' for (root).variables.1\n"
     ]
    },
    {
     "name": "stderr",
     "output_type": "stream",
     "text": [
      "WARNING:tensorflow:Value in checkpoint could not be found in the restored object: (root).optimizer's state 'v' for (root).variables.1\n"
     ]
    },
    {
     "name": "stdout",
     "output_type": "stream",
     "text": [
      "WARNING:tensorflow:Value in checkpoint could not be found in the restored object: (root).optimizer's state 'v' for (root).variables.2\n"
     ]
    },
    {
     "name": "stderr",
     "output_type": "stream",
     "text": [
      "WARNING:tensorflow:Value in checkpoint could not be found in the restored object: (root).optimizer's state 'v' for (root).variables.2\n"
     ]
    },
    {
     "name": "stdout",
     "output_type": "stream",
     "text": [
      "WARNING:tensorflow:Value in checkpoint could not be found in the restored object: (root).optimizer's state 'v' for (root).variables.3\n"
     ]
    },
    {
     "name": "stderr",
     "output_type": "stream",
     "text": [
      "WARNING:tensorflow:Value in checkpoint could not be found in the restored object: (root).optimizer's state 'v' for (root).variables.3\n"
     ]
    },
    {
     "name": "stdout",
     "output_type": "stream",
     "text": [
      "WARNING:tensorflow:Value in checkpoint could not be found in the restored object: (root).optimizer's state 'v' for (root).variables.4\n"
     ]
    },
    {
     "name": "stderr",
     "output_type": "stream",
     "text": [
      "WARNING:tensorflow:Value in checkpoint could not be found in the restored object: (root).optimizer's state 'v' for (root).variables.4\n"
     ]
    },
    {
     "name": "stdout",
     "output_type": "stream",
     "text": [
      "WARNING:tensorflow:Value in checkpoint could not be found in the restored object: (root).optimizer's state 'v' for (root).variables.5\n"
     ]
    },
    {
     "name": "stderr",
     "output_type": "stream",
     "text": [
      "WARNING:tensorflow:Value in checkpoint could not be found in the restored object: (root).optimizer's state 'v' for (root).variables.5\n"
     ]
    },
    {
     "name": "stdout",
     "output_type": "stream",
     "text": [
      "WARNING:tensorflow:Value in checkpoint could not be found in the restored object: (root).optimizer's state 'v' for (root).variables.6\n"
     ]
    },
    {
     "name": "stderr",
     "output_type": "stream",
     "text": [
      "WARNING:tensorflow:Value in checkpoint could not be found in the restored object: (root).optimizer's state 'v' for (root).variables.6\n"
     ]
    },
    {
     "name": "stdout",
     "output_type": "stream",
     "text": [
      "WARNING:tensorflow:Value in checkpoint could not be found in the restored object: (root).optimizer's state 'v' for (root).variables.7\n"
     ]
    },
    {
     "name": "stderr",
     "output_type": "stream",
     "text": [
      "WARNING:tensorflow:Value in checkpoint could not be found in the restored object: (root).optimizer's state 'v' for (root).variables.7\n"
     ]
    },
    {
     "name": "stdout",
     "output_type": "stream",
     "text": [
      "WARNING:tensorflow:Value in checkpoint could not be found in the restored object: (root).optimizer's state 'v' for (root).variables.8\n"
     ]
    },
    {
     "name": "stderr",
     "output_type": "stream",
     "text": [
      "WARNING:tensorflow:Value in checkpoint could not be found in the restored object: (root).optimizer's state 'v' for (root).variables.8\n"
     ]
    },
    {
     "name": "stdout",
     "output_type": "stream",
     "text": [
      "WARNING:tensorflow:Value in checkpoint could not be found in the restored object: (root).optimizer's state 'v' for (root).variables.9\n"
     ]
    },
    {
     "name": "stderr",
     "output_type": "stream",
     "text": [
      "WARNING:tensorflow:Value in checkpoint could not be found in the restored object: (root).optimizer's state 'v' for (root).variables.9\n"
     ]
    },
    {
     "name": "stdout",
     "output_type": "stream",
     "text": [
      "WARNING:tensorflow:Value in checkpoint could not be found in the restored object: (root).optimizer's state 'v' for (root).variables.10\n"
     ]
    },
    {
     "name": "stderr",
     "output_type": "stream",
     "text": [
      "WARNING:tensorflow:Value in checkpoint could not be found in the restored object: (root).optimizer's state 'v' for (root).variables.10\n"
     ]
    },
    {
     "name": "stdout",
     "output_type": "stream",
     "text": [
      "WARNING:tensorflow:Value in checkpoint could not be found in the restored object: (root).optimizer's state 'v' for (root).variables.11\n"
     ]
    },
    {
     "name": "stderr",
     "output_type": "stream",
     "text": [
      "WARNING:tensorflow:Value in checkpoint could not be found in the restored object: (root).optimizer's state 'v' for (root).variables.11\n"
     ]
    },
    {
     "name": "stdout",
     "output_type": "stream",
     "text": [
      "INFO:tensorflow:Assets written to: ../models/autoencoder/checkpoint/assets\n"
     ]
    },
    {
     "name": "stderr",
     "output_type": "stream",
     "text": [
      "INFO:tensorflow:Assets written to: ../models/autoencoder/checkpoint/assets\n"
     ]
    },
    {
     "name": "stdout",
     "output_type": "stream",
     "text": [
      "6/6 [==============================] - 1s 159ms/step - loss: 0.2486 - binary_accuracy: 0.5880 - val_loss: 0.2486 - val_binary_accuracy: 0.5802 - lr: 1.0000e-04\n",
      "Epoch 4/200\n",
      "1/6 [====>.........................] - ETA: 0s - loss: 0.2483 - binary_accuracy: 0.6018INFO:tensorflow:Assets written to: ../models/autoencoder/checkpoint/assets\n"
     ]
    },
    {
     "name": "stderr",
     "output_type": "stream",
     "text": [
      "INFO:tensorflow:Assets written to: ../models/autoencoder/checkpoint/assets\n"
     ]
    },
    {
     "name": "stdout",
     "output_type": "stream",
     "text": [
      "6/6 [==============================] - 0s 66ms/step - loss: 0.2481 - binary_accuracy: 0.6091 - val_loss: 0.2481 - val_binary_accuracy: 0.5978 - lr: 1.0000e-04\n",
      "Epoch 5/200\n",
      "1/6 [====>.........................] - ETA: 0s - loss: 0.2478 - binary_accuracy: 0.6219INFO:tensorflow:Assets written to: ../models/autoencoder/checkpoint/assets\n"
     ]
    },
    {
     "name": "stderr",
     "output_type": "stream",
     "text": [
      "INFO:tensorflow:Assets written to: ../models/autoencoder/checkpoint/assets\n"
     ]
    },
    {
     "name": "stdout",
     "output_type": "stream",
     "text": [
      "6/6 [==============================] - 0s 66ms/step - loss: 0.2476 - binary_accuracy: 0.6286 - val_loss: 0.2476 - val_binary_accuracy: 0.6135 - lr: 1.0000e-04\n",
      "Epoch 6/200\n",
      "1/6 [====>.........................] - ETA: 0s - loss: 0.2472 - binary_accuracy: 0.6406INFO:tensorflow:Assets written to: ../models/autoencoder/checkpoint/assets\n"
     ]
    },
    {
     "name": "stderr",
     "output_type": "stream",
     "text": [
      "INFO:tensorflow:Assets written to: ../models/autoencoder/checkpoint/assets\n"
     ]
    },
    {
     "name": "stdout",
     "output_type": "stream",
     "text": [
      "6/6 [==============================] - 0s 63ms/step - loss: 0.2470 - binary_accuracy: 0.6460 - val_loss: 0.2470 - val_binary_accuracy: 0.6277 - lr: 1.0000e-04\n",
      "Epoch 7/200\n",
      "1/6 [====>.........................] - ETA: 0s - loss: 0.2466 - binary_accuracy: 0.6569INFO:tensorflow:Assets written to: ../models/autoencoder/checkpoint/assets\n"
     ]
    },
    {
     "name": "stderr",
     "output_type": "stream",
     "text": [
      "INFO:tensorflow:Assets written to: ../models/autoencoder/checkpoint/assets\n"
     ]
    },
    {
     "name": "stdout",
     "output_type": "stream",
     "text": [
      "6/6 [==============================] - 0s 63ms/step - loss: 0.2463 - binary_accuracy: 0.6616 - val_loss: 0.2464 - val_binary_accuracy: 0.6407 - lr: 1.0000e-04\n",
      "Epoch 8/200\n",
      "1/6 [====>.........................] - ETA: 0s - loss: 0.2458 - binary_accuracy: 0.6716INFO:tensorflow:Assets written to: ../models/autoencoder/checkpoint/assets\n"
     ]
    },
    {
     "name": "stderr",
     "output_type": "stream",
     "text": [
      "INFO:tensorflow:Assets written to: ../models/autoencoder/checkpoint/assets\n"
     ]
    },
    {
     "name": "stdout",
     "output_type": "stream",
     "text": [
      "6/6 [==============================] - 0s 64ms/step - loss: 0.2456 - binary_accuracy: 0.6760 - val_loss: 0.2456 - val_binary_accuracy: 0.6527 - lr: 1.0000e-04\n",
      "Epoch 9/200\n",
      "1/6 [====>.........................] - ETA: 0s - loss: 0.2450 - binary_accuracy: 0.6835INFO:tensorflow:Assets written to: ../models/autoencoder/checkpoint/assets\n"
     ]
    },
    {
     "name": "stderr",
     "output_type": "stream",
     "text": [
      "INFO:tensorflow:Assets written to: ../models/autoencoder/checkpoint/assets\n"
     ]
    },
    {
     "name": "stdout",
     "output_type": "stream",
     "text": [
      "6/6 [==============================] - 0s 64ms/step - loss: 0.2447 - binary_accuracy: 0.6891 - val_loss: 0.2448 - val_binary_accuracy: 0.6643 - lr: 1.0000e-04\n",
      "Epoch 10/200\n",
      "1/6 [====>.........................] - ETA: 0s - loss: 0.2441 - binary_accuracy: 0.6971INFO:tensorflow:Assets written to: ../models/autoencoder/checkpoint/assets\n"
     ]
    },
    {
     "name": "stderr",
     "output_type": "stream",
     "text": [
      "INFO:tensorflow:Assets written to: ../models/autoencoder/checkpoint/assets\n"
     ]
    },
    {
     "name": "stdout",
     "output_type": "stream",
     "text": [
      "6/6 [==============================] - 0s 62ms/step - loss: 0.2437 - binary_accuracy: 0.7020 - val_loss: 0.2438 - val_binary_accuracy: 0.6755 - lr: 1.0000e-04\n",
      "Epoch 11/200\n",
      "1/6 [====>.........................] - ETA: 0s - loss: 0.2430 - binary_accuracy: 0.7108INFO:tensorflow:Assets written to: ../models/autoencoder/checkpoint/assets\n"
     ]
    },
    {
     "name": "stderr",
     "output_type": "stream",
     "text": [
      "INFO:tensorflow:Assets written to: ../models/autoencoder/checkpoint/assets\n"
     ]
    },
    {
     "name": "stdout",
     "output_type": "stream",
     "text": [
      "6/6 [==============================] - 0s 64ms/step - loss: 0.2426 - binary_accuracy: 0.7146 - val_loss: 0.2427 - val_binary_accuracy: 0.6866 - lr: 1.0000e-04\n",
      "Epoch 12/200\n",
      "1/6 [====>.........................] - ETA: 0s - loss: 0.2419 - binary_accuracy: 0.7217INFO:tensorflow:Assets written to: ../models/autoencoder/checkpoint/assets\n"
     ]
    },
    {
     "name": "stderr",
     "output_type": "stream",
     "text": [
      "INFO:tensorflow:Assets written to: ../models/autoencoder/checkpoint/assets\n"
     ]
    },
    {
     "name": "stdout",
     "output_type": "stream",
     "text": [
      "6/6 [==============================] - 1s 106ms/step - loss: 0.2413 - binary_accuracy: 0.7265 - val_loss: 0.2414 - val_binary_accuracy: 0.6977 - lr: 1.0000e-04\n",
      "Epoch 13/200\n",
      "1/6 [====>.........................] - ETA: 0s - loss: 0.2404 - binary_accuracy: 0.7339INFO:tensorflow:Assets written to: ../models/autoencoder/checkpoint/assets\n"
     ]
    },
    {
     "name": "stderr",
     "output_type": "stream",
     "text": [
      "INFO:tensorflow:Assets written to: ../models/autoencoder/checkpoint/assets\n"
     ]
    },
    {
     "name": "stdout",
     "output_type": "stream",
     "text": [
      "6/6 [==============================] - 0s 64ms/step - loss: 0.2398 - binary_accuracy: 0.7386 - val_loss: 0.2399 - val_binary_accuracy: 0.7084 - lr: 1.0000e-04\n",
      "Epoch 14/200\n",
      "1/6 [====>.........................] - ETA: 0s - loss: 0.2387 - binary_accuracy: 0.7470INFO:tensorflow:Assets written to: ../models/autoencoder/checkpoint/assets\n"
     ]
    },
    {
     "name": "stderr",
     "output_type": "stream",
     "text": [
      "INFO:tensorflow:Assets written to: ../models/autoencoder/checkpoint/assets\n"
     ]
    },
    {
     "name": "stdout",
     "output_type": "stream",
     "text": [
      "6/6 [==============================] - 0s 63ms/step - loss: 0.2381 - binary_accuracy: 0.7502 - val_loss: 0.2382 - val_binary_accuracy: 0.7189 - lr: 1.0000e-04\n",
      "Epoch 15/200\n",
      "1/6 [====>.........................] - ETA: 0s - loss: 0.2370 - binary_accuracy: 0.7579INFO:tensorflow:Assets written to: ../models/autoencoder/checkpoint/assets\n"
     ]
    },
    {
     "name": "stderr",
     "output_type": "stream",
     "text": [
      "INFO:tensorflow:Assets written to: ../models/autoencoder/checkpoint/assets\n"
     ]
    },
    {
     "name": "stdout",
     "output_type": "stream",
     "text": [
      "6/6 [==============================] - 0s 64ms/step - loss: 0.2361 - binary_accuracy: 0.7616 - val_loss: 0.2362 - val_binary_accuracy: 0.7287 - lr: 1.0000e-04\n",
      "Epoch 16/200\n",
      "1/6 [====>.........................] - ETA: 0s - loss: 0.2347 - binary_accuracy: 0.7691INFO:tensorflow:Assets written to: ../models/autoencoder/checkpoint/assets\n"
     ]
    },
    {
     "name": "stderr",
     "output_type": "stream",
     "text": [
      "INFO:tensorflow:Assets written to: ../models/autoencoder/checkpoint/assets\n"
     ]
    },
    {
     "name": "stdout",
     "output_type": "stream",
     "text": [
      "6/6 [==============================] - 0s 67ms/step - loss: 0.2338 - binary_accuracy: 0.7728 - val_loss: 0.2339 - val_binary_accuracy: 0.7379 - lr: 1.0000e-04\n",
      "Epoch 17/200\n",
      "1/6 [====>.........................] - ETA: 0s - loss: 0.2322 - binary_accuracy: 0.7796INFO:tensorflow:Assets written to: ../models/autoencoder/checkpoint/assets\n"
     ]
    },
    {
     "name": "stderr",
     "output_type": "stream",
     "text": [
      "INFO:tensorflow:Assets written to: ../models/autoencoder/checkpoint/assets\n"
     ]
    },
    {
     "name": "stdout",
     "output_type": "stream",
     "text": [
      "6/6 [==============================] - 0s 77ms/step - loss: 0.2312 - binary_accuracy: 0.7835 - val_loss: 0.2314 - val_binary_accuracy: 0.7465 - lr: 1.0000e-04\n",
      "Epoch 18/200\n",
      "1/6 [====>.........................] - ETA: 0s - loss: 0.2294 - binary_accuracy: 0.7897INFO:tensorflow:Assets written to: ../models/autoencoder/checkpoint/assets\n"
     ]
    },
    {
     "name": "stderr",
     "output_type": "stream",
     "text": [
      "INFO:tensorflow:Assets written to: ../models/autoencoder/checkpoint/assets\n"
     ]
    },
    {
     "name": "stdout",
     "output_type": "stream",
     "text": [
      "6/6 [==============================] - 0s 73ms/step - loss: 0.2282 - binary_accuracy: 0.7945 - val_loss: 0.2285 - val_binary_accuracy: 0.7554 - lr: 1.0000e-04\n",
      "Epoch 19/200\n",
      "1/6 [====>.........................] - ETA: 0s - loss: 0.2261 - binary_accuracy: 0.8020INFO:tensorflow:Assets written to: ../models/autoencoder/checkpoint/assets\n"
     ]
    },
    {
     "name": "stderr",
     "output_type": "stream",
     "text": [
      "INFO:tensorflow:Assets written to: ../models/autoencoder/checkpoint/assets\n"
     ]
    },
    {
     "name": "stdout",
     "output_type": "stream",
     "text": [
      "6/6 [==============================] - 0s 69ms/step - loss: 0.2248 - binary_accuracy: 0.8059 - val_loss: 0.2252 - val_binary_accuracy: 0.7641 - lr: 1.0000e-04\n",
      "Epoch 20/200\n",
      "1/6 [====>.........................] - ETA: 0s - loss: 0.2223 - binary_accuracy: 0.8143INFO:tensorflow:Assets written to: ../models/autoencoder/checkpoint/assets\n"
     ]
    },
    {
     "name": "stderr",
     "output_type": "stream",
     "text": [
      "INFO:tensorflow:Assets written to: ../models/autoencoder/checkpoint/assets\n"
     ]
    },
    {
     "name": "stdout",
     "output_type": "stream",
     "text": [
      "6/6 [==============================] - 1s 111ms/step - loss: 0.2210 - binary_accuracy: 0.8167 - val_loss: 0.2216 - val_binary_accuracy: 0.7729 - lr: 1.0000e-04\n",
      "Epoch 21/200\n",
      "1/6 [====>.........................] - ETA: 0s - loss: 0.2186 - binary_accuracy: 0.8226INFO:tensorflow:Assets written to: ../models/autoencoder/checkpoint/assets\n"
     ]
    },
    {
     "name": "stderr",
     "output_type": "stream",
     "text": [
      "INFO:tensorflow:Assets written to: ../models/autoencoder/checkpoint/assets\n"
     ]
    },
    {
     "name": "stdout",
     "output_type": "stream",
     "text": [
      "6/6 [==============================] - 0s 72ms/step - loss: 0.2167 - binary_accuracy: 0.8268 - val_loss: 0.2175 - val_binary_accuracy: 0.7814 - lr: 1.0000e-04\n",
      "Epoch 22/200\n",
      "1/6 [====>.........................] - ETA: 0s - loss: 0.2137 - binary_accuracy: 0.8332INFO:tensorflow:Assets written to: ../models/autoencoder/checkpoint/assets\n"
     ]
    },
    {
     "name": "stderr",
     "output_type": "stream",
     "text": [
      "INFO:tensorflow:Assets written to: ../models/autoencoder/checkpoint/assets\n"
     ]
    },
    {
     "name": "stdout",
     "output_type": "stream",
     "text": [
      "6/6 [==============================] - 0s 72ms/step - loss: 0.2119 - binary_accuracy: 0.8360 - val_loss: 0.2130 - val_binary_accuracy: 0.7888 - lr: 1.0000e-04\n",
      "Epoch 23/200\n",
      "1/6 [====>.........................] - ETA: 0s - loss: 0.2086 - binary_accuracy: 0.8413INFO:tensorflow:Assets written to: ../models/autoencoder/checkpoint/assets\n"
     ]
    },
    {
     "name": "stderr",
     "output_type": "stream",
     "text": [
      "INFO:tensorflow:Assets written to: ../models/autoencoder/checkpoint/assets\n"
     ]
    },
    {
     "name": "stdout",
     "output_type": "stream",
     "text": [
      "6/6 [==============================] - 0s 75ms/step - loss: 0.2067 - binary_accuracy: 0.8434 - val_loss: 0.2082 - val_binary_accuracy: 0.7950 - lr: 1.0000e-04\n",
      "Epoch 24/200\n",
      "1/6 [====>.........................] - ETA: 0s - loss: 0.2027 - binary_accuracy: 0.8475INFO:tensorflow:Assets written to: ../models/autoencoder/checkpoint/assets\n"
     ]
    },
    {
     "name": "stderr",
     "output_type": "stream",
     "text": [
      "INFO:tensorflow:Assets written to: ../models/autoencoder/checkpoint/assets\n"
     ]
    },
    {
     "name": "stdout",
     "output_type": "stream",
     "text": [
      "6/6 [==============================] - 0s 69ms/step - loss: 0.2009 - binary_accuracy: 0.8489 - val_loss: 0.2029 - val_binary_accuracy: 0.7997 - lr: 1.0000e-04\n",
      "Epoch 25/200\n",
      "1/6 [====>.........................] - ETA: 0s - loss: 0.1969 - binary_accuracy: 0.8521INFO:tensorflow:Assets written to: ../models/autoencoder/checkpoint/assets\n"
     ]
    },
    {
     "name": "stderr",
     "output_type": "stream",
     "text": [
      "INFO:tensorflow:Assets written to: ../models/autoencoder/checkpoint/assets\n"
     ]
    },
    {
     "name": "stdout",
     "output_type": "stream",
     "text": [
      "6/6 [==============================] - 0s 71ms/step - loss: 0.1946 - binary_accuracy: 0.8532 - val_loss: 0.1973 - val_binary_accuracy: 0.8038 - lr: 1.0000e-04\n",
      "Epoch 26/200\n",
      "1/6 [====>.........................] - ETA: 0s - loss: 0.1905 - binary_accuracy: 0.8559INFO:tensorflow:Assets written to: ../models/autoencoder/checkpoint/assets\n"
     ]
    },
    {
     "name": "stderr",
     "output_type": "stream",
     "text": [
      "INFO:tensorflow:Assets written to: ../models/autoencoder/checkpoint/assets\n"
     ]
    },
    {
     "name": "stdout",
     "output_type": "stream",
     "text": [
      "6/6 [==============================] - 0s 73ms/step - loss: 0.1878 - binary_accuracy: 0.8572 - val_loss: 0.1914 - val_binary_accuracy: 0.8080 - lr: 1.0000e-04\n",
      "Epoch 27/200\n",
      "1/6 [====>.........................] - ETA: 0s - loss: 0.1836 - binary_accuracy: 0.8595INFO:tensorflow:Assets written to: ../models/autoencoder/checkpoint/assets\n"
     ]
    },
    {
     "name": "stderr",
     "output_type": "stream",
     "text": [
      "INFO:tensorflow:Assets written to: ../models/autoencoder/checkpoint/assets\n"
     ]
    },
    {
     "name": "stdout",
     "output_type": "stream",
     "text": [
      "6/6 [==============================] - 0s 67ms/step - loss: 0.1807 - binary_accuracy: 0.8612 - val_loss: 0.1853 - val_binary_accuracy: 0.8128 - lr: 1.0000e-04\n",
      "Epoch 28/200\n",
      "1/6 [====>.........................] - ETA: 0s - loss: 0.1761 - binary_accuracy: 0.8638INFO:tensorflow:Assets written to: ../models/autoencoder/checkpoint/assets\n"
     ]
    },
    {
     "name": "stderr",
     "output_type": "stream",
     "text": [
      "INFO:tensorflow:Assets written to: ../models/autoencoder/checkpoint/assets\n"
     ]
    },
    {
     "name": "stdout",
     "output_type": "stream",
     "text": [
      "6/6 [==============================] - 0s 72ms/step - loss: 0.1732 - binary_accuracy: 0.8659 - val_loss: 0.1792 - val_binary_accuracy: 0.8177 - lr: 1.0000e-04\n",
      "Epoch 29/200\n",
      "1/6 [====>.........................] - ETA: 0s - loss: 0.1680 - binary_accuracy: 0.8693INFO:tensorflow:Assets written to: ../models/autoencoder/checkpoint/assets\n"
     ]
    },
    {
     "name": "stderr",
     "output_type": "stream",
     "text": [
      "INFO:tensorflow:Assets written to: ../models/autoencoder/checkpoint/assets\n"
     ]
    },
    {
     "name": "stdout",
     "output_type": "stream",
     "text": [
      "6/6 [==============================] - 1s 107ms/step - loss: 0.1656 - binary_accuracy: 0.8707 - val_loss: 0.1730 - val_binary_accuracy: 0.8223 - lr: 1.0000e-04\n",
      "Epoch 30/200\n",
      "1/6 [====>.........................] - ETA: 0s - loss: 0.1603 - binary_accuracy: 0.8748INFO:tensorflow:Assets written to: ../models/autoencoder/checkpoint/assets\n"
     ]
    },
    {
     "name": "stderr",
     "output_type": "stream",
     "text": [
      "INFO:tensorflow:Assets written to: ../models/autoencoder/checkpoint/assets\n"
     ]
    },
    {
     "name": "stdout",
     "output_type": "stream",
     "text": [
      "6/6 [==============================] - 0s 66ms/step - loss: 0.1579 - binary_accuracy: 0.8761 - val_loss: 0.1671 - val_binary_accuracy: 0.8274 - lr: 1.0000e-04\n",
      "Epoch 31/200\n",
      "1/6 [====>.........................] - ETA: 0s - loss: 0.1532 - binary_accuracy: 0.8797INFO:tensorflow:Assets written to: ../models/autoencoder/checkpoint/assets\n"
     ]
    },
    {
     "name": "stderr",
     "output_type": "stream",
     "text": [
      "INFO:tensorflow:Assets written to: ../models/autoencoder/checkpoint/assets\n"
     ]
    },
    {
     "name": "stdout",
     "output_type": "stream",
     "text": [
      "6/6 [==============================] - 0s 66ms/step - loss: 0.1502 - binary_accuracy: 0.8820 - val_loss: 0.1613 - val_binary_accuracy: 0.8321 - lr: 1.0000e-04\n",
      "Epoch 32/200\n",
      "1/6 [====>.........................] - ETA: 0s - loss: 0.1451 - binary_accuracy: 0.8855INFO:tensorflow:Assets written to: ../models/autoencoder/checkpoint/assets\n"
     ]
    },
    {
     "name": "stderr",
     "output_type": "stream",
     "text": [
      "INFO:tensorflow:Assets written to: ../models/autoencoder/checkpoint/assets\n"
     ]
    },
    {
     "name": "stdout",
     "output_type": "stream",
     "text": [
      "6/6 [==============================] - 0s 65ms/step - loss: 0.1428 - binary_accuracy: 0.8865 - val_loss: 0.1560 - val_binary_accuracy: 0.8359 - lr: 1.0000e-04\n",
      "Epoch 33/200\n",
      "4/6 [===================>..........] - ETA: 0s - loss: 0.1363 - binary_accuracy: 0.8893INFO:tensorflow:Assets written to: ../models/autoencoder/checkpoint/assets\n"
     ]
    },
    {
     "name": "stderr",
     "output_type": "stream",
     "text": [
      "INFO:tensorflow:Assets written to: ../models/autoencoder/checkpoint/assets\n"
     ]
    },
    {
     "name": "stdout",
     "output_type": "stream",
     "text": [
      "6/6 [==============================] - 0s 83ms/step - loss: 0.1357 - binary_accuracy: 0.8895 - val_loss: 0.1512 - val_binary_accuracy: 0.8394 - lr: 1.0000e-04\n",
      "Epoch 34/200\n",
      "1/6 [====>.........................] - ETA: 0s - loss: 0.1310 - binary_accuracy: 0.8916INFO:tensorflow:Assets written to: ../models/autoencoder/checkpoint/assets\n"
     ]
    },
    {
     "name": "stderr",
     "output_type": "stream",
     "text": [
      "INFO:tensorflow:Assets written to: ../models/autoencoder/checkpoint/assets\n"
     ]
    },
    {
     "name": "stdout",
     "output_type": "stream",
     "text": [
      "6/6 [==============================] - 0s 70ms/step - loss: 0.1291 - binary_accuracy: 0.8916 - val_loss: 0.1469 - val_binary_accuracy: 0.8412 - lr: 1.0000e-04\n",
      "Epoch 35/200\n",
      "1/6 [====>.........................] - ETA: 0s - loss: 0.1255 - binary_accuracy: 0.8918INFO:tensorflow:Assets written to: ../models/autoencoder/checkpoint/assets\n"
     ]
    },
    {
     "name": "stderr",
     "output_type": "stream",
     "text": [
      "INFO:tensorflow:Assets written to: ../models/autoencoder/checkpoint/assets\n"
     ]
    },
    {
     "name": "stdout",
     "output_type": "stream",
     "text": [
      "6/6 [==============================] - 0s 70ms/step - loss: 0.1230 - binary_accuracy: 0.8925 - val_loss: 0.1433 - val_binary_accuracy: 0.8420 - lr: 1.0000e-04\n",
      "Epoch 36/200\n",
      "4/6 [===================>..........] - ETA: 0s - loss: 0.1181 - binary_accuracy: 0.8933INFO:tensorflow:Assets written to: ../models/autoencoder/checkpoint/assets\n"
     ]
    },
    {
     "name": "stderr",
     "output_type": "stream",
     "text": [
      "INFO:tensorflow:Assets written to: ../models/autoencoder/checkpoint/assets\n"
     ]
    },
    {
     "name": "stdout",
     "output_type": "stream",
     "text": [
      "6/6 [==============================] - 0s 90ms/step - loss: 0.1176 - binary_accuracy: 0.8935 - val_loss: 0.1402 - val_binary_accuracy: 0.8446 - lr: 1.0000e-04\n",
      "Epoch 37/200\n",
      "1/6 [====>.........................] - ETA: 0s - loss: 0.1152 - binary_accuracy: 0.8942INFO:tensorflow:Assets written to: ../models/autoencoder/checkpoint/assets\n"
     ]
    },
    {
     "name": "stderr",
     "output_type": "stream",
     "text": [
      "INFO:tensorflow:Assets written to: ../models/autoencoder/checkpoint/assets\n"
     ]
    },
    {
     "name": "stdout",
     "output_type": "stream",
     "text": [
      "6/6 [==============================] - 0s 81ms/step - loss: 0.1128 - binary_accuracy: 0.8961 - val_loss: 0.1377 - val_binary_accuracy: 0.8497 - lr: 1.0000e-04\n",
      "Epoch 38/200\n",
      "1/6 [====>.........................] - ETA: 0s - loss: 0.1108 - binary_accuracy: 0.8979INFO:tensorflow:Assets written to: ../models/autoencoder/checkpoint/assets\n"
     ]
    },
    {
     "name": "stderr",
     "output_type": "stream",
     "text": [
      "INFO:tensorflow:Assets written to: ../models/autoencoder/checkpoint/assets\n"
     ]
    },
    {
     "name": "stdout",
     "output_type": "stream",
     "text": [
      "6/6 [==============================] - 1s 140ms/step - loss: 0.1087 - binary_accuracy: 0.9001 - val_loss: 0.1357 - val_binary_accuracy: 0.8531 - lr: 1.0000e-04\n",
      "Epoch 39/200\n",
      "1/6 [====>.........................] - ETA: 0s - loss: 0.1064 - binary_accuracy: 0.9022INFO:tensorflow:Assets written to: ../models/autoencoder/checkpoint/assets\n"
     ]
    },
    {
     "name": "stderr",
     "output_type": "stream",
     "text": [
      "INFO:tensorflow:Assets written to: ../models/autoencoder/checkpoint/assets\n"
     ]
    },
    {
     "name": "stdout",
     "output_type": "stream",
     "text": [
      "6/6 [==============================] - 0s 78ms/step - loss: 0.1052 - binary_accuracy: 0.9024 - val_loss: 0.1341 - val_binary_accuracy: 0.8537 - lr: 1.0000e-04\n",
      "Epoch 40/200\n",
      "1/6 [====>.........................] - ETA: 0s - loss: 0.1036 - binary_accuracy: 0.9022INFO:tensorflow:Assets written to: ../models/autoencoder/checkpoint/assets\n"
     ]
    },
    {
     "name": "stderr",
     "output_type": "stream",
     "text": [
      "INFO:tensorflow:Assets written to: ../models/autoencoder/checkpoint/assets\n"
     ]
    },
    {
     "name": "stdout",
     "output_type": "stream",
     "text": [
      "6/6 [==============================] - 0s 87ms/step - loss: 0.1023 - binary_accuracy: 0.9027 - val_loss: 0.1329 - val_binary_accuracy: 0.8537 - lr: 1.0000e-04\n",
      "Epoch 41/200\n",
      "1/6 [====>.........................] - ETA: 0s - loss: 0.1008 - binary_accuracy: 0.9025INFO:tensorflow:Assets written to: ../models/autoencoder/checkpoint/assets\n"
     ]
    },
    {
     "name": "stderr",
     "output_type": "stream",
     "text": [
      "INFO:tensorflow:Assets written to: ../models/autoencoder/checkpoint/assets\n"
     ]
    },
    {
     "name": "stdout",
     "output_type": "stream",
     "text": [
      "6/6 [==============================] - 0s 78ms/step - loss: 0.0999 - binary_accuracy: 0.9027 - val_loss: 0.1320 - val_binary_accuracy: 0.8537 - lr: 1.0000e-04\n",
      "Epoch 42/200\n",
      "1/6 [====>.........................] - ETA: 0s - loss: 0.0983 - binary_accuracy: 0.9032INFO:tensorflow:Assets written to: ../models/autoencoder/checkpoint/assets\n"
     ]
    },
    {
     "name": "stderr",
     "output_type": "stream",
     "text": [
      "INFO:tensorflow:Assets written to: ../models/autoencoder/checkpoint/assets\n"
     ]
    },
    {
     "name": "stdout",
     "output_type": "stream",
     "text": [
      "6/6 [==============================] - 0s 77ms/step - loss: 0.0978 - binary_accuracy: 0.9027 - val_loss: 0.1314 - val_binary_accuracy: 0.8537 - lr: 1.0000e-04\n",
      "Epoch 43/200\n",
      "1/6 [====>.........................] - ETA: 0s - loss: 0.0964 - binary_accuracy: 0.9029INFO:tensorflow:Assets written to: ../models/autoencoder/checkpoint/assets\n"
     ]
    },
    {
     "name": "stderr",
     "output_type": "stream",
     "text": [
      "INFO:tensorflow:Assets written to: ../models/autoencoder/checkpoint/assets\n"
     ]
    },
    {
     "name": "stdout",
     "output_type": "stream",
     "text": [
      "6/6 [==============================] - 0s 71ms/step - loss: 0.0962 - binary_accuracy: 0.9027 - val_loss: 0.1309 - val_binary_accuracy: 0.8537 - lr: 1.0000e-04\n",
      "Epoch 44/200\n",
      "1/6 [====>.........................] - ETA: 0s - loss: 0.0958 - binary_accuracy: 0.9022INFO:tensorflow:Assets written to: ../models/autoencoder/checkpoint/assets\n"
     ]
    },
    {
     "name": "stderr",
     "output_type": "stream",
     "text": [
      "INFO:tensorflow:Assets written to: ../models/autoencoder/checkpoint/assets\n"
     ]
    },
    {
     "name": "stdout",
     "output_type": "stream",
     "text": [
      "6/6 [==============================] - 0s 67ms/step - loss: 0.0948 - binary_accuracy: 0.9027 - val_loss: 0.1306 - val_binary_accuracy: 0.8537 - lr: 1.0000e-04\n",
      "Epoch 45/200\n",
      "4/6 [===================>..........] - ETA: 0s - loss: 0.0937 - binary_accuracy: 0.9029INFO:tensorflow:Assets written to: ../models/autoencoder/checkpoint/assets\n"
     ]
    },
    {
     "name": "stderr",
     "output_type": "stream",
     "text": [
      "INFO:tensorflow:Assets written to: ../models/autoencoder/checkpoint/assets\n"
     ]
    },
    {
     "name": "stdout",
     "output_type": "stream",
     "text": [
      "6/6 [==============================] - 0s 82ms/step - loss: 0.0937 - binary_accuracy: 0.9027 - val_loss: 0.1304 - val_binary_accuracy: 0.8537 - lr: 1.0000e-04\n",
      "Epoch 46/200\n",
      "1/6 [====>.........................] - ETA: 0s - loss: 0.0928 - binary_accuracy: 0.9033INFO:tensorflow:Assets written to: ../models/autoencoder/checkpoint/assets\n"
     ]
    },
    {
     "name": "stderr",
     "output_type": "stream",
     "text": [
      "INFO:tensorflow:Assets written to: ../models/autoencoder/checkpoint/assets\n"
     ]
    },
    {
     "name": "stdout",
     "output_type": "stream",
     "text": [
      "6/6 [==============================] - 1s 121ms/step - loss: 0.0928 - binary_accuracy: 0.9027 - val_loss: 0.1302 - val_binary_accuracy: 0.8537 - lr: 1.0000e-04\n",
      "Epoch 47/200\n",
      "1/6 [====>.........................] - ETA: 0s - loss: 0.0925 - binary_accuracy: 0.9024INFO:tensorflow:Assets written to: ../models/autoencoder/checkpoint/assets\n"
     ]
    },
    {
     "name": "stderr",
     "output_type": "stream",
     "text": [
      "INFO:tensorflow:Assets written to: ../models/autoencoder/checkpoint/assets\n"
     ]
    },
    {
     "name": "stdout",
     "output_type": "stream",
     "text": [
      "6/6 [==============================] - 0s 71ms/step - loss: 0.0921 - binary_accuracy: 0.9027 - val_loss: 0.1302 - val_binary_accuracy: 0.8537 - lr: 1.0000e-04\n",
      "Epoch 48/200\n",
      "1/6 [====>.........................] - ETA: 0s - loss: 0.0914 - binary_accuracy: 0.9031INFO:tensorflow:Assets written to: ../models/autoencoder/checkpoint/assets\n"
     ]
    },
    {
     "name": "stderr",
     "output_type": "stream",
     "text": [
      "INFO:tensorflow:Assets written to: ../models/autoencoder/checkpoint/assets\n"
     ]
    },
    {
     "name": "stdout",
     "output_type": "stream",
     "text": [
      "6/6 [==============================] - 0s 72ms/step - loss: 0.0915 - binary_accuracy: 0.9027 - val_loss: 0.1301 - val_binary_accuracy: 0.8537 - lr: 1.0000e-04\n",
      "Epoch 49/200\n",
      "1/6 [====>.........................] - ETA: 0s - loss: 0.0907 - binary_accuracy: 0.9032INFO:tensorflow:Assets written to: ../models/autoencoder/checkpoint/assets\n"
     ]
    },
    {
     "name": "stderr",
     "output_type": "stream",
     "text": [
      "INFO:tensorflow:Assets written to: ../models/autoencoder/checkpoint/assets\n"
     ]
    },
    {
     "name": "stdout",
     "output_type": "stream",
     "text": [
      "6/6 [==============================] - 0s 69ms/step - loss: 0.0910 - binary_accuracy: 0.9027 - val_loss: 0.1301 - val_binary_accuracy: 0.8537 - lr: 1.0000e-04\n",
      "Epoch 50/200\n",
      "6/6 [==============================] - 0s 11ms/step - loss: 0.0906 - binary_accuracy: 0.9027 - val_loss: 0.1301 - val_binary_accuracy: 0.8537 - lr: 1.0000e-04\n",
      "Epoch 51/200\n",
      "6/6 [==============================] - 0s 11ms/step - loss: 0.0902 - binary_accuracy: 0.9027 - val_loss: 0.1301 - val_binary_accuracy: 0.8537 - lr: 1.0000e-04\n",
      "Epoch 52/200\n",
      "6/6 [==============================] - 0s 11ms/step - loss: 0.0899 - binary_accuracy: 0.9027 - val_loss: 0.1301 - val_binary_accuracy: 0.8537 - lr: 1.0000e-04\n",
      "Epoch 53/200\n",
      "6/6 [==============================] - 0s 10ms/step - loss: 0.0897 - binary_accuracy: 0.9027 - val_loss: 0.1302 - val_binary_accuracy: 0.8537 - lr: 1.0000e-04\n",
      "Epoch 54/200\n",
      "6/6 [==============================] - 0s 9ms/step - loss: 0.0895 - binary_accuracy: 0.9027 - val_loss: 0.1302 - val_binary_accuracy: 0.8537 - lr: 1.0000e-04\n",
      "Epoch 55/200\n",
      "6/6 [==============================] - 0s 8ms/step - loss: 0.0893 - binary_accuracy: 0.9027 - val_loss: 0.1302 - val_binary_accuracy: 0.8537 - lr: 1.0000e-04\n",
      "Epoch 56/200\n",
      "6/6 [==============================] - 0s 8ms/step - loss: 0.0891 - binary_accuracy: 0.9027 - val_loss: 0.1302 - val_binary_accuracy: 0.8537 - lr: 1.0000e-04\n",
      "Epoch 57/200\n",
      "6/6 [==============================] - 0s 8ms/step - loss: 0.0890 - binary_accuracy: 0.9027 - val_loss: 0.1302 - val_binary_accuracy: 0.8537 - lr: 1.0000e-05\n",
      "Epoch 58/200\n",
      "6/6 [==============================] - 0s 9ms/step - loss: 0.0890 - binary_accuracy: 0.9027 - val_loss: 0.1302 - val_binary_accuracy: 0.8537 - lr: 1.0000e-05\n",
      "Epoch 59/200\n",
      "6/6 [==============================] - 0s 9ms/step - loss: 0.0890 - binary_accuracy: 0.9027 - val_loss: 0.1302 - val_binary_accuracy: 0.8537 - lr: 1.0000e-05\n",
      "Epoch 60/200\n",
      "6/6 [==============================] - 0s 9ms/step - loss: 0.0890 - binary_accuracy: 0.9027 - val_loss: 0.1302 - val_binary_accuracy: 0.8537 - lr: 1.0000e-05\n",
      "Epoch 61/200\n",
      "6/6 [==============================] - 0s 9ms/step - loss: 0.0890 - binary_accuracy: 0.9027 - val_loss: 0.1302 - val_binary_accuracy: 0.8537 - lr: 1.0000e-05\n",
      "Epoch 62/200\n",
      "6/6 [==============================] - 0s 12ms/step - loss: 0.0890 - binary_accuracy: 0.9027 - val_loss: 0.1302 - val_binary_accuracy: 0.8537 - lr: 1.0000e-05\n",
      "Epoch 63/200\n",
      "6/6 [==============================] - 0s 9ms/step - loss: 0.0889 - binary_accuracy: 0.9027 - val_loss: 0.1302 - val_binary_accuracy: 0.8537 - lr: 1.0000e-05\n",
      "Epoch 64/200\n",
      "6/6 [==============================] - 0s 8ms/step - loss: 0.0889 - binary_accuracy: 0.9027 - val_loss: 0.1302 - val_binary_accuracy: 0.8537 - lr: 1.0000e-05\n",
      "Epoch 65/200\n",
      "6/6 [==============================] - 0s 9ms/step - loss: 0.0889 - binary_accuracy: 0.9027 - val_loss: 0.1302 - val_binary_accuracy: 0.8537 - lr: 1.0000e-05\n",
      "Epoch 66/200\n",
      "6/6 [==============================] - 0s 9ms/step - loss: 0.0889 - binary_accuracy: 0.9027 - val_loss: 0.1302 - val_binary_accuracy: 0.8537 - lr: 1.0000e-05\n",
      "Epoch 67/200\n",
      "6/6 [==============================] - 0s 10ms/step - loss: 0.0889 - binary_accuracy: 0.9027 - val_loss: 0.1302 - val_binary_accuracy: 0.8537 - lr: 1.0000e-06\n",
      "Epoch 68/200\n",
      "6/6 [==============================] - 0s 9ms/step - loss: 0.0889 - binary_accuracy: 0.9027 - val_loss: 0.1302 - val_binary_accuracy: 0.8537 - lr: 1.0000e-06\n",
      "Epoch 69/200\n",
      "6/6 [==============================] - 0s 9ms/step - loss: 0.0889 - binary_accuracy: 0.9027 - val_loss: 0.1302 - val_binary_accuracy: 0.8537 - lr: 1.0000e-06\n",
      "Epoch 70/200\n",
      "6/6 [==============================] - 0s 9ms/step - loss: 0.0889 - binary_accuracy: 0.9027 - val_loss: 0.1302 - val_binary_accuracy: 0.8537 - lr: 1.0000e-06\n",
      "Epoch 71/200\n",
      "6/6 [==============================] - 0s 9ms/step - loss: 0.0889 - binary_accuracy: 0.9027 - val_loss: 0.1302 - val_binary_accuracy: 0.8537 - lr: 1.0000e-06\n",
      "Epoch 72/200\n",
      "6/6 [==============================] - 0s 8ms/step - loss: 0.0889 - binary_accuracy: 0.9027 - val_loss: 0.1302 - val_binary_accuracy: 0.8537 - lr: 1.0000e-06\n",
      "Epoch 73/200\n",
      "6/6 [==============================] - 0s 9ms/step - loss: 0.0889 - binary_accuracy: 0.9027 - val_loss: 0.1302 - val_binary_accuracy: 0.8537 - lr: 1.0000e-06\n",
      "Epoch 74/200\n",
      "6/6 [==============================] - 0s 10ms/step - loss: 0.0889 - binary_accuracy: 0.9027 - val_loss: 0.1302 - val_binary_accuracy: 0.8537 - lr: 1.0000e-06\n",
      "Epoch 75/200\n",
      "6/6 [==============================] - 0s 11ms/step - loss: 0.0889 - binary_accuracy: 0.9027 - val_loss: 0.1302 - val_binary_accuracy: 0.8537 - lr: 1.0000e-06\n",
      "Epoch 76/200\n",
      "6/6 [==============================] - 0s 13ms/step - loss: 0.0889 - binary_accuracy: 0.9027 - val_loss: 0.1302 - val_binary_accuracy: 0.8537 - lr: 1.0000e-06\n",
      "Epoch 77/200\n",
      "6/6 [==============================] - 0s 7ms/step - loss: 0.0889 - binary_accuracy: 0.9027 - val_loss: 0.1302 - val_binary_accuracy: 0.8537 - lr: 1.0000e-07\n",
      "Epoch 78/200\n",
      "6/6 [==============================] - 0s 8ms/step - loss: 0.0889 - binary_accuracy: 0.9027 - val_loss: 0.1302 - val_binary_accuracy: 0.8537 - lr: 1.0000e-07\n",
      "Epoch 79/200\n",
      "6/6 [==============================] - 0s 8ms/step - loss: 0.0889 - binary_accuracy: 0.9027 - val_loss: 0.1302 - val_binary_accuracy: 0.8537 - lr: 1.0000e-07\n",
      "Epoch 80/200\n",
      "6/6 [==============================] - 0s 8ms/step - loss: 0.0889 - binary_accuracy: 0.9027 - val_loss: 0.1302 - val_binary_accuracy: 0.8537 - lr: 1.0000e-07\n",
      "Epoch 81/200\n",
      "6/6 [==============================] - 0s 8ms/step - loss: 0.0889 - binary_accuracy: 0.9027 - val_loss: 0.1302 - val_binary_accuracy: 0.8537 - lr: 1.0000e-07\n",
      "Epoch 82/200\n",
      "6/6 [==============================] - 0s 7ms/step - loss: 0.0889 - binary_accuracy: 0.9027 - val_loss: 0.1302 - val_binary_accuracy: 0.8537 - lr: 1.0000e-07\n",
      "Epoch 83/200\n",
      "6/6 [==============================] - 0s 8ms/step - loss: 0.0889 - binary_accuracy: 0.9027 - val_loss: 0.1302 - val_binary_accuracy: 0.8537 - lr: 1.0000e-07\n",
      "Epoch 84/200\n",
      "6/6 [==============================] - 0s 7ms/step - loss: 0.0889 - binary_accuracy: 0.9027 - val_loss: 0.1302 - val_binary_accuracy: 0.8537 - lr: 1.0000e-07\n",
      "Epoch 85/200\n",
      "6/6 [==============================] - 0s 8ms/step - loss: 0.0889 - binary_accuracy: 0.9027 - val_loss: 0.1302 - val_binary_accuracy: 0.8537 - lr: 1.0000e-07\n",
      "Epoch 86/200\n",
      "6/6 [==============================] - 0s 8ms/step - loss: 0.0889 - binary_accuracy: 0.9027 - val_loss: 0.1302 - val_binary_accuracy: 0.8537 - lr: 1.0000e-07\n",
      "Epoch 87/200\n",
      "6/6 [==============================] - 0s 8ms/step - loss: 0.0889 - binary_accuracy: 0.9027 - val_loss: 0.1302 - val_binary_accuracy: 0.8537 - lr: 1.0000e-08\n",
      "Epoch 88/200\n",
      "6/6 [==============================] - 0s 8ms/step - loss: 0.0889 - binary_accuracy: 0.9027 - val_loss: 0.1302 - val_binary_accuracy: 0.8537 - lr: 1.0000e-08\n",
      "Epoch 89/200\n",
      "6/6 [==============================] - 0s 8ms/step - loss: 0.0889 - binary_accuracy: 0.9027 - val_loss: 0.1302 - val_binary_accuracy: 0.8537 - lr: 1.0000e-08\n",
      "Epoch 90/200\n",
      "6/6 [==============================] - 0s 9ms/step - loss: 0.0889 - binary_accuracy: 0.9027 - val_loss: 0.1302 - val_binary_accuracy: 0.8537 - lr: 1.0000e-08\n",
      "Epoch 91/200\n",
      "6/6 [==============================] - 0s 8ms/step - loss: 0.0889 - binary_accuracy: 0.9027 - val_loss: 0.1302 - val_binary_accuracy: 0.8537 - lr: 1.0000e-08\n",
      "Epoch 92/200\n",
      "6/6 [==============================] - 0s 8ms/step - loss: 0.0889 - binary_accuracy: 0.9027 - val_loss: 0.1302 - val_binary_accuracy: 0.8537 - lr: 1.0000e-08\n",
      "Epoch 93/200\n",
      "6/6 [==============================] - 0s 7ms/step - loss: 0.0889 - binary_accuracy: 0.9027 - val_loss: 0.1302 - val_binary_accuracy: 0.8537 - lr: 1.0000e-08\n",
      "Epoch 94/200\n",
      "6/6 [==============================] - 0s 8ms/step - loss: 0.0889 - binary_accuracy: 0.9027 - val_loss: 0.1302 - val_binary_accuracy: 0.8537 - lr: 1.0000e-08\n",
      "Epoch 95/200\n",
      "6/6 [==============================] - 0s 9ms/step - loss: 0.0889 - binary_accuracy: 0.9027 - val_loss: 0.1302 - val_binary_accuracy: 0.8537 - lr: 1.0000e-08\n",
      "Epoch 96/200\n",
      "6/6 [==============================] - 0s 8ms/step - loss: 0.0889 - binary_accuracy: 0.9027 - val_loss: 0.1302 - val_binary_accuracy: 0.8537 - lr: 1.0000e-08\n",
      "Epoch 97/200\n",
      "6/6 [==============================] - 0s 14ms/step - loss: 0.0889 - binary_accuracy: 0.9027 - val_loss: 0.1302 - val_binary_accuracy: 0.8537 - lr: 1.0000e-09\n",
      "Epoch 98/200\n",
      "6/6 [==============================] - 0s 8ms/step - loss: 0.0889 - binary_accuracy: 0.9027 - val_loss: 0.1302 - val_binary_accuracy: 0.8537 - lr: 1.0000e-09\n",
      "Epoch 99/200\n",
      "6/6 [==============================] - 0s 8ms/step - loss: 0.0889 - binary_accuracy: 0.9027 - val_loss: 0.1302 - val_binary_accuracy: 0.8537 - lr: 1.0000e-09\n",
      "Epoch 100/200\n",
      "6/6 [==============================] - 0s 8ms/step - loss: 0.0889 - binary_accuracy: 0.9027 - val_loss: 0.1302 - val_binary_accuracy: 0.8537 - lr: 1.0000e-09\n",
      "Epoch 101/200\n",
      "6/6 [==============================] - 0s 8ms/step - loss: 0.0889 - binary_accuracy: 0.9027 - val_loss: 0.1302 - val_binary_accuracy: 0.8537 - lr: 1.0000e-09\n",
      "Epoch 102/200\n",
      "6/6 [==============================] - 0s 8ms/step - loss: 0.0889 - binary_accuracy: 0.9027 - val_loss: 0.1302 - val_binary_accuracy: 0.8537 - lr: 1.0000e-09\n",
      "Epoch 103/200\n",
      "6/6 [==============================] - 0s 8ms/step - loss: 0.0889 - binary_accuracy: 0.9027 - val_loss: 0.1302 - val_binary_accuracy: 0.8537 - lr: 1.0000e-09\n",
      "Epoch 104/200\n",
      "6/6 [==============================] - 0s 8ms/step - loss: 0.0889 - binary_accuracy: 0.9027 - val_loss: 0.1302 - val_binary_accuracy: 0.8537 - lr: 1.0000e-09\n",
      "Epoch 105/200\n",
      "6/6 [==============================] - 0s 8ms/step - loss: 0.0889 - binary_accuracy: 0.9027 - val_loss: 0.1302 - val_binary_accuracy: 0.8537 - lr: 1.0000e-09\n",
      "Epoch 106/200\n",
      "6/6 [==============================] - 0s 8ms/step - loss: 0.0889 - binary_accuracy: 0.9027 - val_loss: 0.1302 - val_binary_accuracy: 0.8537 - lr: 1.0000e-09\n",
      "Epoch 107/200\n",
      "6/6 [==============================] - 0s 8ms/step - loss: 0.0889 - binary_accuracy: 0.9027 - val_loss: 0.1302 - val_binary_accuracy: 0.8537 - lr: 1.0000e-10\n",
      "Epoch 108/200\n",
      "6/6 [==============================] - 0s 7ms/step - loss: 0.0889 - binary_accuracy: 0.9027 - val_loss: 0.1302 - val_binary_accuracy: 0.8537 - lr: 1.0000e-10\n",
      "Epoch 109/200\n",
      "6/6 [==============================] - 0s 8ms/step - loss: 0.0889 - binary_accuracy: 0.9027 - val_loss: 0.1302 - val_binary_accuracy: 0.8537 - lr: 1.0000e-10\n",
      "Epoch 110/200\n",
      "6/6 [==============================] - 0s 8ms/step - loss: 0.0889 - binary_accuracy: 0.9027 - val_loss: 0.1302 - val_binary_accuracy: 0.8537 - lr: 1.0000e-10\n",
      "Epoch 111/200\n",
      "6/6 [==============================] - 0s 8ms/step - loss: 0.0889 - binary_accuracy: 0.9027 - val_loss: 0.1302 - val_binary_accuracy: 0.8537 - lr: 1.0000e-10\n",
      "Epoch 112/200\n",
      "6/6 [==============================] - 0s 7ms/step - loss: 0.0889 - binary_accuracy: 0.9027 - val_loss: 0.1302 - val_binary_accuracy: 0.8537 - lr: 1.0000e-10\n",
      "Epoch 113/200\n",
      "6/6 [==============================] - 0s 8ms/step - loss: 0.0889 - binary_accuracy: 0.9027 - val_loss: 0.1302 - val_binary_accuracy: 0.8537 - lr: 1.0000e-10\n",
      "Epoch 114/200\n",
      "6/6 [==============================] - 0s 8ms/step - loss: 0.0889 - binary_accuracy: 0.9027 - val_loss: 0.1302 - val_binary_accuracy: 0.8537 - lr: 1.0000e-10\n",
      "Epoch 115/200\n",
      "6/6 [==============================] - 0s 8ms/step - loss: 0.0889 - binary_accuracy: 0.9027 - val_loss: 0.1302 - val_binary_accuracy: 0.8537 - lr: 1.0000e-10\n",
      "Epoch 116/200\n",
      "6/6 [==============================] - 0s 8ms/step - loss: 0.0889 - binary_accuracy: 0.9027 - val_loss: 0.1302 - val_binary_accuracy: 0.8537 - lr: 1.0000e-10\n",
      "Epoch 117/200\n",
      "6/6 [==============================] - 0s 8ms/step - loss: 0.0889 - binary_accuracy: 0.9027 - val_loss: 0.1302 - val_binary_accuracy: 0.8537 - lr: 1.0000e-11\n",
      "Epoch 118/200\n",
      "6/6 [==============================] - 0s 8ms/step - loss: 0.0889 - binary_accuracy: 0.9027 - val_loss: 0.1302 - val_binary_accuracy: 0.8537 - lr: 1.0000e-11\n",
      "Epoch 119/200\n",
      "6/6 [==============================] - 0s 8ms/step - loss: 0.0889 - binary_accuracy: 0.9027 - val_loss: 0.1302 - val_binary_accuracy: 0.8537 - lr: 1.0000e-11\n",
      "Epoch 120/200\n",
      "6/6 [==============================] - 0s 7ms/step - loss: 0.0889 - binary_accuracy: 0.9027 - val_loss: 0.1302 - val_binary_accuracy: 0.8537 - lr: 1.0000e-11\n",
      "Epoch 121/200\n",
      "6/6 [==============================] - 0s 7ms/step - loss: 0.0889 - binary_accuracy: 0.9027 - val_loss: 0.1302 - val_binary_accuracy: 0.8537 - lr: 1.0000e-11\n",
      "Epoch 122/200\n",
      "6/6 [==============================] - 0s 8ms/step - loss: 0.0889 - binary_accuracy: 0.9027 - val_loss: 0.1302 - val_binary_accuracy: 0.8537 - lr: 1.0000e-11\n",
      "Epoch 123/200\n",
      "6/6 [==============================] - 0s 9ms/step - loss: 0.0889 - binary_accuracy: 0.9027 - val_loss: 0.1302 - val_binary_accuracy: 0.8537 - lr: 1.0000e-11\n",
      "Epoch 124/200\n",
      "6/6 [==============================] - 0s 8ms/step - loss: 0.0889 - binary_accuracy: 0.9027 - val_loss: 0.1302 - val_binary_accuracy: 0.8537 - lr: 1.0000e-11\n",
      "Epoch 125/200\n",
      "6/6 [==============================] - 0s 8ms/step - loss: 0.0889 - binary_accuracy: 0.9027 - val_loss: 0.1302 - val_binary_accuracy: 0.8537 - lr: 1.0000e-11\n",
      "Epoch 126/200\n",
      "6/6 [==============================] - 0s 18ms/step - loss: 0.0889 - binary_accuracy: 0.9027 - val_loss: 0.1302 - val_binary_accuracy: 0.8537 - lr: 1.0000e-11\n",
      "Epoch 127/200\n",
      "6/6 [==============================] - 0s 10ms/step - loss: 0.0889 - binary_accuracy: 0.9027 - val_loss: 0.1302 - val_binary_accuracy: 0.8537 - lr: 1.0000e-12\n",
      "Epoch 128/200\n",
      "6/6 [==============================] - 0s 9ms/step - loss: 0.0889 - binary_accuracy: 0.9027 - val_loss: 0.1302 - val_binary_accuracy: 0.8537 - lr: 1.0000e-12\n",
      "Epoch 129/200\n",
      "6/6 [==============================] - 0s 9ms/step - loss: 0.0889 - binary_accuracy: 0.9027 - val_loss: 0.1302 - val_binary_accuracy: 0.8537 - lr: 1.0000e-12\n",
      "Epoch 130/200\n",
      "6/6 [==============================] - 0s 9ms/step - loss: 0.0889 - binary_accuracy: 0.9027 - val_loss: 0.1302 - val_binary_accuracy: 0.8537 - lr: 1.0000e-12\n",
      "Epoch 131/200\n",
      "6/6 [==============================] - 0s 9ms/step - loss: 0.0889 - binary_accuracy: 0.9027 - val_loss: 0.1302 - val_binary_accuracy: 0.8537 - lr: 1.0000e-12\n",
      "Epoch 132/200\n",
      "6/6 [==============================] - 0s 8ms/step - loss: 0.0889 - binary_accuracy: 0.9027 - val_loss: 0.1302 - val_binary_accuracy: 0.8537 - lr: 1.0000e-12\n",
      "Epoch 133/200\n",
      "6/6 [==============================] - 0s 9ms/step - loss: 0.0889 - binary_accuracy: 0.9027 - val_loss: 0.1302 - val_binary_accuracy: 0.8537 - lr: 1.0000e-12\n",
      "Epoch 134/200\n",
      "6/6 [==============================] - 0s 8ms/step - loss: 0.0889 - binary_accuracy: 0.9027 - val_loss: 0.1302 - val_binary_accuracy: 0.8537 - lr: 1.0000e-12\n",
      "Epoch 135/200\n",
      "6/6 [==============================] - 0s 8ms/step - loss: 0.0889 - binary_accuracy: 0.9027 - val_loss: 0.1302 - val_binary_accuracy: 0.8537 - lr: 1.0000e-12\n",
      "Epoch 136/200\n",
      "6/6 [==============================] - 0s 9ms/step - loss: 0.0889 - binary_accuracy: 0.9027 - val_loss: 0.1302 - val_binary_accuracy: 0.8537 - lr: 1.0000e-12\n",
      "Epoch 137/200\n",
      "6/6 [==============================] - 0s 7ms/step - loss: 0.0889 - binary_accuracy: 0.9027 - val_loss: 0.1302 - val_binary_accuracy: 0.8537 - lr: 1.0000e-13\n",
      "Epoch 138/200\n",
      "6/6 [==============================] - 0s 7ms/step - loss: 0.0889 - binary_accuracy: 0.9027 - val_loss: 0.1302 - val_binary_accuracy: 0.8537 - lr: 1.0000e-13\n",
      "Epoch 139/200\n",
      "6/6 [==============================] - 0s 7ms/step - loss: 0.0889 - binary_accuracy: 0.9027 - val_loss: 0.1302 - val_binary_accuracy: 0.8537 - lr: 1.0000e-13\n",
      "Epoch 140/200\n",
      "6/6 [==============================] - 0s 8ms/step - loss: 0.0889 - binary_accuracy: 0.9027 - val_loss: 0.1302 - val_binary_accuracy: 0.8537 - lr: 1.0000e-13\n",
      "Epoch 141/200\n",
      "6/6 [==============================] - 0s 8ms/step - loss: 0.0889 - binary_accuracy: 0.9027 - val_loss: 0.1302 - val_binary_accuracy: 0.8537 - lr: 1.0000e-13\n",
      "Epoch 142/200\n",
      "6/6 [==============================] - 0s 8ms/step - loss: 0.0889 - binary_accuracy: 0.9027 - val_loss: 0.1302 - val_binary_accuracy: 0.8537 - lr: 1.0000e-13\n",
      "Epoch 143/200\n",
      "6/6 [==============================] - 0s 12ms/step - loss: 0.0889 - binary_accuracy: 0.9027 - val_loss: 0.1302 - val_binary_accuracy: 0.8537 - lr: 1.0000e-13\n",
      "Epoch 144/200\n",
      "6/6 [==============================] - 0s 7ms/step - loss: 0.0889 - binary_accuracy: 0.9027 - val_loss: 0.1302 - val_binary_accuracy: 0.8537 - lr: 1.0000e-13\n",
      "Epoch 145/200\n",
      "6/6 [==============================] - 0s 8ms/step - loss: 0.0889 - binary_accuracy: 0.9027 - val_loss: 0.1302 - val_binary_accuracy: 0.8537 - lr: 1.0000e-13\n",
      "Epoch 146/200\n",
      "6/6 [==============================] - 0s 9ms/step - loss: 0.0889 - binary_accuracy: 0.9027 - val_loss: 0.1302 - val_binary_accuracy: 0.8537 - lr: 1.0000e-13\n",
      "Epoch 147/200\n",
      "6/6 [==============================] - 0s 8ms/step - loss: 0.0889 - binary_accuracy: 0.9027 - val_loss: 0.1302 - val_binary_accuracy: 0.8537 - lr: 1.0000e-14\n",
      "Epoch 148/200\n",
      "6/6 [==============================] - 0s 9ms/step - loss: 0.0889 - binary_accuracy: 0.9027 - val_loss: 0.1302 - val_binary_accuracy: 0.8537 - lr: 1.0000e-14\n",
      "Epoch 149/200\n",
      "6/6 [==============================] - 0s 8ms/step - loss: 0.0889 - binary_accuracy: 0.9027 - val_loss: 0.1302 - val_binary_accuracy: 0.8537 - lr: 1.0000e-14\n",
      "Epoch 150/200\n",
      "6/6 [==============================] - 0s 9ms/step - loss: 0.0889 - binary_accuracy: 0.9027 - val_loss: 0.1302 - val_binary_accuracy: 0.8537 - lr: 1.0000e-14\n",
      "Epoch 151/200\n",
      "6/6 [==============================] - 0s 10ms/step - loss: 0.0889 - binary_accuracy: 0.9027 - val_loss: 0.1302 - val_binary_accuracy: 0.8537 - lr: 1.0000e-14\n",
      "Epoch 152/200\n",
      "6/6 [==============================] - 0s 8ms/step - loss: 0.0889 - binary_accuracy: 0.9027 - val_loss: 0.1302 - val_binary_accuracy: 0.8537 - lr: 1.0000e-14\n",
      "Epoch 153/200\n",
      "6/6 [==============================] - 0s 8ms/step - loss: 0.0889 - binary_accuracy: 0.9027 - val_loss: 0.1302 - val_binary_accuracy: 0.8537 - lr: 1.0000e-14\n",
      "Epoch 154/200\n",
      "6/6 [==============================] - 0s 9ms/step - loss: 0.0889 - binary_accuracy: 0.9027 - val_loss: 0.1302 - val_binary_accuracy: 0.8537 - lr: 1.0000e-14\n",
      "Epoch 155/200\n",
      "6/6 [==============================] - 0s 9ms/step - loss: 0.0889 - binary_accuracy: 0.9027 - val_loss: 0.1302 - val_binary_accuracy: 0.8537 - lr: 1.0000e-14\n",
      "Epoch 156/200\n",
      "6/6 [==============================] - 0s 8ms/step - loss: 0.0889 - binary_accuracy: 0.9027 - val_loss: 0.1302 - val_binary_accuracy: 0.8537 - lr: 1.0000e-14\n",
      "Epoch 157/200\n",
      "6/6 [==============================] - 0s 13ms/step - loss: 0.0889 - binary_accuracy: 0.9027 - val_loss: 0.1302 - val_binary_accuracy: 0.8537 - lr: 1.0000e-15\n",
      "Epoch 158/200\n",
      "6/6 [==============================] - 0s 8ms/step - loss: 0.0889 - binary_accuracy: 0.9027 - val_loss: 0.1302 - val_binary_accuracy: 0.8537 - lr: 1.0000e-15\n",
      "Epoch 159/200\n",
      "6/6 [==============================] - 0s 8ms/step - loss: 0.0889 - binary_accuracy: 0.9027 - val_loss: 0.1302 - val_binary_accuracy: 0.8537 - lr: 1.0000e-15\n",
      "Epoch 160/200\n",
      "6/6 [==============================] - 0s 8ms/step - loss: 0.0889 - binary_accuracy: 0.9027 - val_loss: 0.1302 - val_binary_accuracy: 0.8537 - lr: 1.0000e-15\n",
      "Epoch 161/200\n",
      "6/6 [==============================] - 0s 8ms/step - loss: 0.0889 - binary_accuracy: 0.9027 - val_loss: 0.1302 - val_binary_accuracy: 0.8537 - lr: 1.0000e-15\n",
      "Epoch 162/200\n",
      "6/6 [==============================] - 0s 8ms/step - loss: 0.0889 - binary_accuracy: 0.9027 - val_loss: 0.1302 - val_binary_accuracy: 0.8537 - lr: 1.0000e-15\n",
      "Epoch 163/200\n",
      "6/6 [==============================] - 0s 17ms/step - loss: 0.0889 - binary_accuracy: 0.9027 - val_loss: 0.1302 - val_binary_accuracy: 0.8537 - lr: 1.0000e-15\n",
      "Epoch 164/200\n",
      "6/6 [==============================] - 0s 53ms/step - loss: 0.0889 - binary_accuracy: 0.9027 - val_loss: 0.1302 - val_binary_accuracy: 0.8537 - lr: 1.0000e-15\n",
      "Epoch 165/200\n",
      "6/6 [==============================] - 0s 10ms/step - loss: 0.0889 - binary_accuracy: 0.9027 - val_loss: 0.1302 - val_binary_accuracy: 0.8537 - lr: 1.0000e-15\n",
      "Epoch 166/200\n",
      "6/6 [==============================] - 0s 9ms/step - loss: 0.0889 - binary_accuracy: 0.9027 - val_loss: 0.1302 - val_binary_accuracy: 0.8537 - lr: 1.0000e-15\n",
      "Epoch 167/200\n",
      "6/6 [==============================] - 0s 8ms/step - loss: 0.0889 - binary_accuracy: 0.9027 - val_loss: 0.1302 - val_binary_accuracy: 0.8537 - lr: 1.0000e-16\n",
      "Epoch 168/200\n",
      "6/6 [==============================] - 0s 9ms/step - loss: 0.0889 - binary_accuracy: 0.9027 - val_loss: 0.1302 - val_binary_accuracy: 0.8537 - lr: 1.0000e-16\n",
      "Epoch 169/200\n",
      "6/6 [==============================] - 0s 8ms/step - loss: 0.0889 - binary_accuracy: 0.9027 - val_loss: 0.1302 - val_binary_accuracy: 0.8537 - lr: 1.0000e-16\n",
      "Epoch 170/200\n",
      "6/6 [==============================] - 0s 7ms/step - loss: 0.0889 - binary_accuracy: 0.9027 - val_loss: 0.1302 - val_binary_accuracy: 0.8537 - lr: 1.0000e-16\n",
      "Epoch 171/200\n",
      "6/6 [==============================] - 0s 7ms/step - loss: 0.0889 - binary_accuracy: 0.9027 - val_loss: 0.1302 - val_binary_accuracy: 0.8537 - lr: 1.0000e-16\n",
      "Epoch 172/200\n",
      "6/6 [==============================] - 0s 8ms/step - loss: 0.0889 - binary_accuracy: 0.9027 - val_loss: 0.1302 - val_binary_accuracy: 0.8537 - lr: 1.0000e-16\n",
      "Epoch 173/200\n",
      "6/6 [==============================] - 0s 8ms/step - loss: 0.0889 - binary_accuracy: 0.9027 - val_loss: 0.1302 - val_binary_accuracy: 0.8537 - lr: 1.0000e-16\n",
      "Epoch 174/200\n",
      "6/6 [==============================] - 0s 8ms/step - loss: 0.0889 - binary_accuracy: 0.9027 - val_loss: 0.1302 - val_binary_accuracy: 0.8537 - lr: 1.0000e-16\n",
      "Epoch 175/200\n",
      "6/6 [==============================] - 0s 8ms/step - loss: 0.0889 - binary_accuracy: 0.9027 - val_loss: 0.1302 - val_binary_accuracy: 0.8537 - lr: 1.0000e-16\n",
      "Epoch 176/200\n",
      "6/6 [==============================] - 0s 8ms/step - loss: 0.0889 - binary_accuracy: 0.9027 - val_loss: 0.1302 - val_binary_accuracy: 0.8537 - lr: 1.0000e-16\n",
      "Epoch 177/200\n",
      "6/6 [==============================] - 0s 8ms/step - loss: 0.0889 - binary_accuracy: 0.9027 - val_loss: 0.1302 - val_binary_accuracy: 0.8537 - lr: 1.0000e-17\n",
      "Epoch 178/200\n",
      "6/6 [==============================] - 0s 10ms/step - loss: 0.0889 - binary_accuracy: 0.9027 - val_loss: 0.1302 - val_binary_accuracy: 0.8537 - lr: 1.0000e-17\n",
      "Epoch 179/200\n",
      "6/6 [==============================] - 0s 12ms/step - loss: 0.0889 - binary_accuracy: 0.9027 - val_loss: 0.1302 - val_binary_accuracy: 0.8537 - lr: 1.0000e-17\n",
      "Epoch 180/200\n",
      "6/6 [==============================] - 0s 11ms/step - loss: 0.0889 - binary_accuracy: 0.9027 - val_loss: 0.1302 - val_binary_accuracy: 0.8537 - lr: 1.0000e-17\n",
      "Epoch 181/200\n",
      "6/6 [==============================] - 0s 9ms/step - loss: 0.0889 - binary_accuracy: 0.9027 - val_loss: 0.1302 - val_binary_accuracy: 0.8537 - lr: 1.0000e-17\n",
      "Epoch 182/200\n",
      "6/6 [==============================] - 0s 9ms/step - loss: 0.0889 - binary_accuracy: 0.9027 - val_loss: 0.1302 - val_binary_accuracy: 0.8537 - lr: 1.0000e-17\n",
      "Epoch 183/200\n",
      "6/6 [==============================] - 0s 9ms/step - loss: 0.0889 - binary_accuracy: 0.9027 - val_loss: 0.1302 - val_binary_accuracy: 0.8537 - lr: 1.0000e-17\n",
      "Epoch 184/200\n",
      "6/6 [==============================] - 0s 11ms/step - loss: 0.0889 - binary_accuracy: 0.9027 - val_loss: 0.1302 - val_binary_accuracy: 0.8537 - lr: 1.0000e-17\n",
      "Epoch 185/200\n",
      "6/6 [==============================] - 0s 10ms/step - loss: 0.0889 - binary_accuracy: 0.9027 - val_loss: 0.1302 - val_binary_accuracy: 0.8537 - lr: 1.0000e-17\n",
      "Epoch 186/200\n",
      "6/6 [==============================] - 0s 9ms/step - loss: 0.0889 - binary_accuracy: 0.9027 - val_loss: 0.1302 - val_binary_accuracy: 0.8537 - lr: 1.0000e-17\n",
      "Epoch 187/200\n",
      "6/6 [==============================] - 0s 10ms/step - loss: 0.0889 - binary_accuracy: 0.9027 - val_loss: 0.1302 - val_binary_accuracy: 0.8537 - lr: 1.0000e-18\n",
      "Epoch 188/200\n",
      "6/6 [==============================] - 0s 9ms/step - loss: 0.0889 - binary_accuracy: 0.9027 - val_loss: 0.1302 - val_binary_accuracy: 0.8537 - lr: 1.0000e-18\n",
      "Epoch 189/200\n",
      "6/6 [==============================] - 0s 10ms/step - loss: 0.0889 - binary_accuracy: 0.9027 - val_loss: 0.1302 - val_binary_accuracy: 0.8537 - lr: 1.0000e-18\n",
      "Epoch 190/200\n",
      "6/6 [==============================] - 0s 10ms/step - loss: 0.0889 - binary_accuracy: 0.9027 - val_loss: 0.1302 - val_binary_accuracy: 0.8537 - lr: 1.0000e-18\n",
      "Epoch 191/200\n",
      "6/6 [==============================] - 0s 9ms/step - loss: 0.0889 - binary_accuracy: 0.9027 - val_loss: 0.1302 - val_binary_accuracy: 0.8537 - lr: 1.0000e-18\n",
      "Epoch 192/200\n",
      "6/6 [==============================] - 0s 8ms/step - loss: 0.0889 - binary_accuracy: 0.9027 - val_loss: 0.1302 - val_binary_accuracy: 0.8537 - lr: 1.0000e-18\n",
      "Epoch 193/200\n",
      "6/6 [==============================] - 0s 8ms/step - loss: 0.0889 - binary_accuracy: 0.9027 - val_loss: 0.1302 - val_binary_accuracy: 0.8537 - lr: 1.0000e-18\n",
      "Epoch 194/200\n",
      "6/6 [==============================] - 0s 8ms/step - loss: 0.0889 - binary_accuracy: 0.9027 - val_loss: 0.1302 - val_binary_accuracy: 0.8537 - lr: 1.0000e-18\n",
      "Epoch 195/200\n",
      "6/6 [==============================] - 0s 8ms/step - loss: 0.0889 - binary_accuracy: 0.9027 - val_loss: 0.1302 - val_binary_accuracy: 0.8537 - lr: 1.0000e-18\n",
      "Epoch 196/200\n",
      "6/6 [==============================] - 0s 9ms/step - loss: 0.0889 - binary_accuracy: 0.9027 - val_loss: 0.1302 - val_binary_accuracy: 0.8537 - lr: 1.0000e-18\n",
      "Epoch 197/200\n",
      "6/6 [==============================] - 0s 11ms/step - loss: 0.0889 - binary_accuracy: 0.9027 - val_loss: 0.1302 - val_binary_accuracy: 0.8537 - lr: 1.0000e-19\n",
      "Epoch 198/200\n",
      "6/6 [==============================] - 0s 11ms/step - loss: 0.0889 - binary_accuracy: 0.9027 - val_loss: 0.1302 - val_binary_accuracy: 0.8537 - lr: 1.0000e-19\n",
      "Epoch 199/200\n",
      "6/6 [==============================] - 0s 9ms/step - loss: 0.0889 - binary_accuracy: 0.9027 - val_loss: 0.1302 - val_binary_accuracy: 0.8537 - lr: 1.0000e-19\n",
      "Epoch 200/200\n",
      "6/6 [==============================] - 0s 8ms/step - loss: 0.0889 - binary_accuracy: 0.9027 - val_loss: 0.1302 - val_binary_accuracy: 0.8537 - lr: 1.0000e-19\n"
     ]
    }
   ],
   "source": [
    "res = model.fit(\n",
    "    x_train, y_train,\n",
    "    epochs=200,\n",
    "    batch_size=2048,\n",
    "    shuffle=True,\n",
    "    validation_data=(x_test, y_test),\n",
    "    callbacks=[callback_plateau, callback_checkpoint], \n",
    ")"
   ]
  },
  {
   "cell_type": "code",
   "execution_count": 109,
   "metadata": {},
   "outputs": [
    {
     "name": "stdout",
     "output_type": "stream",
     "text": [
      "255/255 [==============================] - 0s 736us/step - loss: 0.1302 - binary_accuracy: 0.8537\n"
     ]
    },
    {
     "data": {
      "text/plain": [
       "[0.130248561501503, 0.8537061810493469]"
      ]
     },
     "execution_count": 109,
     "metadata": {},
     "output_type": "execute_result"
    }
   ],
   "source": [
    "model.save_weights(f'../models/{model_name}/latest/')\n",
    "model.evaluate(x_test, y_test)"
   ]
  },
  {
   "cell_type": "code",
   "execution_count": 110,
   "metadata": {},
   "outputs": [
    {
     "name": "stdout",
     "output_type": "stream",
     "text": [
      " 91/255 [=========>....................] - ETA: 0s - loss: 0.1365 - binary_accuracy: 0.8449 "
     ]
    },
    {
     "name": "stderr",
     "output_type": "stream",
     "text": [
      "2024-01-27 15:12:45.183934: W tensorflow/core/util/tensor_slice_reader.cc:98] Could not open ../models/autoencoder/checkpoint/: FAILED_PRECONDITION: ../models/autoencoder/checkpoint; Is a directory: perhaps your file is in a different file format and you need to use a different restore operator?\n"
     ]
    },
    {
     "name": "stdout",
     "output_type": "stream",
     "text": [
      "255/255 [==============================] - 0s 484us/step - loss: 0.1301 - binary_accuracy: 0.8537\n"
     ]
    },
    {
     "data": {
      "text/plain": [
       "[0.13010217249393463, 0.8537061810493469]"
      ]
     },
     "execution_count": 110,
     "metadata": {},
     "output_type": "execute_result"
    }
   ],
   "source": [
    "model_best = build_model(model_name)\n",
    "model_best.load_weights(f'../models/{model_name}/checkpoint/')\n",
    "model_best.evaluate(x_test, y_test)"
   ]
  },
  {
   "cell_type": "code",
   "execution_count": 111,
   "metadata": {},
   "outputs": [
    {
     "name": "stdout",
     "output_type": "stream",
     "text": [
      "INFO:tensorflow:Assets written to: ../models/autoencoder/model/assets\n"
     ]
    },
    {
     "name": "stderr",
     "output_type": "stream",
     "text": [
      "INFO:tensorflow:Assets written to: ../models/autoencoder/model/assets\n"
     ]
    }
   ],
   "source": [
    "model_best.save(f'../models/{model_name}/model')"
   ]
  },
  {
   "cell_type": "markdown",
   "metadata": {},
   "source": [
    "# History"
   ]
  },
  {
   "cell_type": "code",
   "execution_count": 112,
   "metadata": {},
   "outputs": [
    {
     "data": {
      "image/png": "[encoded data removed]",
      "text/plain": [
       "<Figure size 640x480 with 1 Axes>"
      ]
     },
     "metadata": {},
     "output_type": "display_data"
    }
   ],
   "source": [
    "plt.plot(res.history['binary_accuracy'], label='binary_accuracy')\n",
    "plt.plot(res.history['val_binary_accuracy'], label='val_binary_accuracy')\n",
    "plt.ylabel('Binary Accuracy')\n",
    "\n",
    "plt.xlabel('Epochs')\n",
    "plt.legend()\n",
    "plt.show()"
   ]
  },
  {
   "cell_type": "code",
   "execution_count": 113,
   "metadata": {},
   "outputs": [
    {
     "data": {
      "image/png": "[encoded data removed]",
      "text/plain": [
       "<Figure size 640x480 with 1 Axes>"
      ]
     },
     "metadata": {},
     "output_type": "display_data"
    }
   ],
   "source": [
    "plt.plot(res.history['loss'], label='train_loss')\n",
    "plt.plot(res.history['val_loss'], label='val_loss')\n",
    "plt.xlabel('Epochs')\n",
    "plt.ylabel('Loss')\n",
    "plt.legend()\n",
    "plt.show()"
   ]
  },
  {
   "cell_type": "markdown",
   "metadata": {},
   "source": [
    "# Predict"
   ]
  },
  {
   "cell_type": "code",
   "execution_count": 114,
   "metadata": {},
   "outputs": [
    {
     "data": {
      "text/html": [
       "<div>\n",
       "<style scoped>\n",
       "    .dataframe tbody tr th:only-of-type {\n",
       "        vertical-align: middle;\n",
       "    }\n",
       "\n",
       "    .dataframe tbody tr th {\n",
       "        vertical-align: top;\n",
       "    }\n",
       "\n",
       "    .dataframe thead th {\n",
       "        text-align: right;\n",
       "    }\n",
       "</style>\n",
       "<table border=\"1\" class=\"dataframe\">\n",
       "  <thead>\n",
       "    <tr style=\"text-align: right;\">\n",
       "      <th></th>\n",
       "      <th>product_id</th>\n",
       "      <th>ratings</th>\n",
       "      <th>price</th>\n",
       "      <th>category</th>\n",
       "      <th>brand</th>\n",
       "      <th>kind</th>\n",
       "    </tr>\n",
       "  </thead>\n",
       "  <tbody>\n",
       "    <tr>\n",
       "      <th>0</th>\n",
       "      <td>0</td>\n",
       "      <td>3.270463</td>\n",
       "      <td>53.916667</td>\n",
       "      <td>Dress</td>\n",
       "      <td>Adidas</td>\n",
       "      <td>Kids' Fashion</td>\n",
       "    </tr>\n",
       "    <tr>\n",
       "      <th>1</th>\n",
       "      <td>1</td>\n",
       "      <td>2.879264</td>\n",
       "      <td>44.500000</td>\n",
       "      <td>Dress</td>\n",
       "      <td>Adidas</td>\n",
       "      <td>Men's Fashion</td>\n",
       "    </tr>\n",
       "    <tr>\n",
       "      <th>2</th>\n",
       "      <td>2</td>\n",
       "      <td>2.673620</td>\n",
       "      <td>47.666667</td>\n",
       "      <td>Dress</td>\n",
       "      <td>Adidas</td>\n",
       "      <td>Women's Fashion</td>\n",
       "    </tr>\n",
       "    <tr>\n",
       "      <th>3</th>\n",
       "      <td>3</td>\n",
       "      <td>3.689981</td>\n",
       "      <td>50.200000</td>\n",
       "      <td>Dress</td>\n",
       "      <td>Gucci</td>\n",
       "      <td>Kids' Fashion</td>\n",
       "    </tr>\n",
       "    <tr>\n",
       "      <th>4</th>\n",
       "      <td>4</td>\n",
       "      <td>3.282323</td>\n",
       "      <td>51.125000</td>\n",
       "      <td>Dress</td>\n",
       "      <td>Gucci</td>\n",
       "      <td>Men's Fashion</td>\n",
       "    </tr>\n",
       "    <tr>\n",
       "      <th>...</th>\n",
       "      <td>...</td>\n",
       "      <td>...</td>\n",
       "      <td>...</td>\n",
       "      <td>...</td>\n",
       "      <td>...</td>\n",
       "      <td>...</td>\n",
       "    </tr>\n",
       "    <tr>\n",
       "      <th>70</th>\n",
       "      <td>70</td>\n",
       "      <td>2.436425</td>\n",
       "      <td>56.500000</td>\n",
       "      <td>T-shirt</td>\n",
       "      <td>Nike</td>\n",
       "      <td>Men's Fashion</td>\n",
       "    </tr>\n",
       "    <tr>\n",
       "      <th>71</th>\n",
       "      <td>71</td>\n",
       "      <td>2.636504</td>\n",
       "      <td>72.166667</td>\n",
       "      <td>T-shirt</td>\n",
       "      <td>Nike</td>\n",
       "      <td>Women's Fashion</td>\n",
       "    </tr>\n",
       "    <tr>\n",
       "      <th>72</th>\n",
       "      <td>72</td>\n",
       "      <td>3.548573</td>\n",
       "      <td>65.750000</td>\n",
       "      <td>T-shirt</td>\n",
       "      <td>Zara</td>\n",
       "      <td>Kids' Fashion</td>\n",
       "    </tr>\n",
       "    <tr>\n",
       "      <th>73</th>\n",
       "      <td>73</td>\n",
       "      <td>2.520955</td>\n",
       "      <td>52.818182</td>\n",
       "      <td>T-shirt</td>\n",
       "      <td>Zara</td>\n",
       "      <td>Men's Fashion</td>\n",
       "    </tr>\n",
       "    <tr>\n",
       "      <th>74</th>\n",
       "      <td>74</td>\n",
       "      <td>2.908798</td>\n",
       "      <td>67.375000</td>\n",
       "      <td>T-shirt</td>\n",
       "      <td>Zara</td>\n",
       "      <td>Women's Fashion</td>\n",
       "    </tr>\n",
       "  </tbody>\n",
       "</table>\n",
       "<p>75 rows × 6 columns</p>\n",
       "</div>"
      ],
      "text/plain": [
       "    product_id   ratings      price category   brand             kind\n",
       "0            0  3.270463  53.916667    Dress  Adidas    Kids' Fashion\n",
       "1            1  2.879264  44.500000    Dress  Adidas    Men's Fashion\n",
       "2            2  2.673620  47.666667    Dress  Adidas  Women's Fashion\n",
       "3            3  3.689981  50.200000    Dress   Gucci    Kids' Fashion\n",
       "4            4  3.282323  51.125000    Dress   Gucci    Men's Fashion\n",
       "..         ...       ...        ...      ...     ...              ...\n",
       "70          70  2.436425  56.500000  T-shirt    Nike    Men's Fashion\n",
       "71          71  2.636504  72.166667  T-shirt    Nike  Women's Fashion\n",
       "72          72  3.548573  65.750000  T-shirt    Zara    Kids' Fashion\n",
       "73          73  2.520955  52.818182  T-shirt    Zara    Men's Fashion\n",
       "74          74  2.908798  67.375000  T-shirt    Zara  Women's Fashion\n",
       "\n",
       "[75 rows x 6 columns]"
      ]
     },
     "execution_count": 114,
     "metadata": {},
     "output_type": "execute_result"
    }
   ],
   "source": [
    "df_product"
   ]
  },
  {
   "cell_type": "code",
   "execution_count": 115,
   "metadata": {},
   "outputs": [
    {
     "name": "stdout",
     "output_type": "stream",
     "text": [
      "products_on_chart: [41, 65, 55, 9, 57, 69, 72, 11, 34]\n",
      "Items on your chart: \n"
     ]
    },
    {
     "data": {
      "text/html": [
       "<div>\n",
       "<style scoped>\n",
       "    .dataframe tbody tr th:only-of-type {\n",
       "        vertical-align: middle;\n",
       "    }\n",
       "\n",
       "    .dataframe tbody tr th {\n",
       "        vertical-align: top;\n",
       "    }\n",
       "\n",
       "    .dataframe thead th {\n",
       "        text-align: right;\n",
       "    }\n",
       "</style>\n",
       "<table border=\"1\" class=\"dataframe\">\n",
       "  <thead>\n",
       "    <tr style=\"text-align: right;\">\n",
       "      <th></th>\n",
       "      <th>product_id</th>\n",
       "      <th>ratings</th>\n",
       "      <th>price</th>\n",
       "      <th>category</th>\n",
       "      <th>brand</th>\n",
       "      <th>kind</th>\n",
       "    </tr>\n",
       "  </thead>\n",
       "  <tbody>\n",
       "    <tr>\n",
       "      <th>41</th>\n",
       "      <td>41</td>\n",
       "      <td>2.681958</td>\n",
       "      <td>66.176471</td>\n",
       "      <td>Shoes</td>\n",
       "      <td>Nike</td>\n",
       "      <td>Women's Fashion</td>\n",
       "    </tr>\n",
       "    <tr>\n",
       "      <th>65</th>\n",
       "      <td>65</td>\n",
       "      <td>2.965708</td>\n",
       "      <td>60.545455</td>\n",
       "      <td>T-shirt</td>\n",
       "      <td>Gucci</td>\n",
       "      <td>Women's Fashion</td>\n",
       "    </tr>\n",
       "    <tr>\n",
       "      <th>55</th>\n",
       "      <td>55</td>\n",
       "      <td>2.953674</td>\n",
       "      <td>57.833333</td>\n",
       "      <td>Sweater</td>\n",
       "      <td>Nike</td>\n",
       "      <td>Men's Fashion</td>\n",
       "    </tr>\n",
       "    <tr>\n",
       "      <th>9</th>\n",
       "      <td>9</td>\n",
       "      <td>3.108999</td>\n",
       "      <td>60.117647</td>\n",
       "      <td>Dress</td>\n",
       "      <td>Nike</td>\n",
       "      <td>Kids' Fashion</td>\n",
       "    </tr>\n",
       "    <tr>\n",
       "      <th>57</th>\n",
       "      <td>57</td>\n",
       "      <td>3.299868</td>\n",
       "      <td>60.416667</td>\n",
       "      <td>Sweater</td>\n",
       "      <td>Zara</td>\n",
       "      <td>Kids' Fashion</td>\n",
       "    </tr>\n",
       "    <tr>\n",
       "      <th>69</th>\n",
       "      <td>69</td>\n",
       "      <td>3.171572</td>\n",
       "      <td>60.117647</td>\n",
       "      <td>T-shirt</td>\n",
       "      <td>Nike</td>\n",
       "      <td>Kids' Fashion</td>\n",
       "    </tr>\n",
       "    <tr>\n",
       "      <th>72</th>\n",
       "      <td>72</td>\n",
       "      <td>3.548573</td>\n",
       "      <td>65.750000</td>\n",
       "      <td>T-shirt</td>\n",
       "      <td>Zara</td>\n",
       "      <td>Kids' Fashion</td>\n",
       "    </tr>\n",
       "    <tr>\n",
       "      <th>11</th>\n",
       "      <td>11</td>\n",
       "      <td>3.510605</td>\n",
       "      <td>48.000000</td>\n",
       "      <td>Dress</td>\n",
       "      <td>Nike</td>\n",
       "      <td>Women's Fashion</td>\n",
       "    </tr>\n",
       "    <tr>\n",
       "      <th>34</th>\n",
       "      <td>34</td>\n",
       "      <td>3.281908</td>\n",
       "      <td>53.181818</td>\n",
       "      <td>Shoes</td>\n",
       "      <td>Gucci</td>\n",
       "      <td>Men's Fashion</td>\n",
       "    </tr>\n",
       "  </tbody>\n",
       "</table>\n",
       "</div>"
      ],
      "text/plain": [
       "    product_id   ratings      price category  brand             kind\n",
       "41          41  2.681958  66.176471    Shoes   Nike  Women's Fashion\n",
       "65          65  2.965708  60.545455  T-shirt  Gucci  Women's Fashion\n",
       "55          55  2.953674  57.833333  Sweater   Nike    Men's Fashion\n",
       "9            9  3.108999  60.117647    Dress   Nike    Kids' Fashion\n",
       "57          57  3.299868  60.416667  Sweater   Zara    Kids' Fashion\n",
       "69          69  3.171572  60.117647  T-shirt   Nike    Kids' Fashion\n",
       "72          72  3.548573  65.750000  T-shirt   Zara    Kids' Fashion\n",
       "11          11  3.510605  48.000000    Dress   Nike  Women's Fashion\n",
       "34          34  3.281908  53.181818    Shoes  Gucci    Men's Fashion"
      ]
     },
     "execution_count": 115,
     "metadata": {},
     "output_type": "execute_result"
    }
   ],
   "source": [
    "# Input: from dataset\n",
    "idx = -432\n",
    "input_arr = x_test[idx]\n",
    "output_arr = y_test[idx]\n",
    "products_on_chart = np.argwhere(input_arr > 0.5).reshape(-1).tolist()\n",
    "products_truth = np.argwhere(output_arr > 0.5).reshape(-1).tolist()\n",
    "\n",
    "# # Input: manual select\n",
    "# # products_on_chart = [70, ]\n",
    "# products_on_chart = [0, 1]\n",
    "# products_truth = products_on_chart\n",
    "# input_arr = np.zeros((1, total_product))\n",
    "# input_arr[0, products_on_chart] = 1\n",
    "# # for id in products_on_chart:\n",
    "#     # input_arr[0, id] = 1\n",
    "\n",
    "# Input From Customer\n",
    "customer_id = 0\n",
    "products_on_chart = df_dataset[df_dataset['customer_id'] == customer_id]['product_id'].unique().tolist()\n",
    "products_truth = products_on_chart\n",
    "\n",
    "print(f'products_on_chart: {products_on_chart}')\n",
    "print(f'Items on your chart: ')\n",
    "df_product.iloc[products_on_chart]"
   ]
  },
  {
   "cell_type": "code",
   "execution_count": 116,
   "metadata": {},
   "outputs": [
    {
     "name": "stdout",
     "output_type": "stream",
     "text": [
      "Another Product you actualy buy:\n"
     ]
    },
    {
     "data": {
      "text/html": [
       "<div>\n",
       "<style scoped>\n",
       "    .dataframe tbody tr th:only-of-type {\n",
       "        vertical-align: middle;\n",
       "    }\n",
       "\n",
       "    .dataframe tbody tr th {\n",
       "        vertical-align: top;\n",
       "    }\n",
       "\n",
       "    .dataframe thead th {\n",
       "        text-align: right;\n",
       "    }\n",
       "</style>\n",
       "<table border=\"1\" class=\"dataframe\">\n",
       "  <thead>\n",
       "    <tr style=\"text-align: right;\">\n",
       "      <th></th>\n",
       "      <th>product_id</th>\n",
       "      <th>ratings</th>\n",
       "      <th>price</th>\n",
       "      <th>category</th>\n",
       "      <th>brand</th>\n",
       "      <th>kind</th>\n",
       "    </tr>\n",
       "  </thead>\n",
       "  <tbody>\n",
       "    <tr>\n",
       "      <th>41</th>\n",
       "      <td>41</td>\n",
       "      <td>2.681958</td>\n",
       "      <td>66.176471</td>\n",
       "      <td>Shoes</td>\n",
       "      <td>Nike</td>\n",
       "      <td>Women's Fashion</td>\n",
       "    </tr>\n",
       "    <tr>\n",
       "      <th>65</th>\n",
       "      <td>65</td>\n",
       "      <td>2.965708</td>\n",
       "      <td>60.545455</td>\n",
       "      <td>T-shirt</td>\n",
       "      <td>Gucci</td>\n",
       "      <td>Women's Fashion</td>\n",
       "    </tr>\n",
       "    <tr>\n",
       "      <th>55</th>\n",
       "      <td>55</td>\n",
       "      <td>2.953674</td>\n",
       "      <td>57.833333</td>\n",
       "      <td>Sweater</td>\n",
       "      <td>Nike</td>\n",
       "      <td>Men's Fashion</td>\n",
       "    </tr>\n",
       "    <tr>\n",
       "      <th>9</th>\n",
       "      <td>9</td>\n",
       "      <td>3.108999</td>\n",
       "      <td>60.117647</td>\n",
       "      <td>Dress</td>\n",
       "      <td>Nike</td>\n",
       "      <td>Kids' Fashion</td>\n",
       "    </tr>\n",
       "    <tr>\n",
       "      <th>57</th>\n",
       "      <td>57</td>\n",
       "      <td>3.299868</td>\n",
       "      <td>60.416667</td>\n",
       "      <td>Sweater</td>\n",
       "      <td>Zara</td>\n",
       "      <td>Kids' Fashion</td>\n",
       "    </tr>\n",
       "    <tr>\n",
       "      <th>69</th>\n",
       "      <td>69</td>\n",
       "      <td>3.171572</td>\n",
       "      <td>60.117647</td>\n",
       "      <td>T-shirt</td>\n",
       "      <td>Nike</td>\n",
       "      <td>Kids' Fashion</td>\n",
       "    </tr>\n",
       "    <tr>\n",
       "      <th>72</th>\n",
       "      <td>72</td>\n",
       "      <td>3.548573</td>\n",
       "      <td>65.750000</td>\n",
       "      <td>T-shirt</td>\n",
       "      <td>Zara</td>\n",
       "      <td>Kids' Fashion</td>\n",
       "    </tr>\n",
       "    <tr>\n",
       "      <th>11</th>\n",
       "      <td>11</td>\n",
       "      <td>3.510605</td>\n",
       "      <td>48.000000</td>\n",
       "      <td>Dress</td>\n",
       "      <td>Nike</td>\n",
       "      <td>Women's Fashion</td>\n",
       "    </tr>\n",
       "    <tr>\n",
       "      <th>34</th>\n",
       "      <td>34</td>\n",
       "      <td>3.281908</td>\n",
       "      <td>53.181818</td>\n",
       "      <td>Shoes</td>\n",
       "      <td>Gucci</td>\n",
       "      <td>Men's Fashion</td>\n",
       "    </tr>\n",
       "  </tbody>\n",
       "</table>\n",
       "</div>"
      ],
      "text/plain": [
       "    product_id   ratings      price category  brand             kind\n",
       "41          41  2.681958  66.176471    Shoes   Nike  Women's Fashion\n",
       "65          65  2.965708  60.545455  T-shirt  Gucci  Women's Fashion\n",
       "55          55  2.953674  57.833333  Sweater   Nike    Men's Fashion\n",
       "9            9  3.108999  60.117647    Dress   Nike    Kids' Fashion\n",
       "57          57  3.299868  60.416667  Sweater   Zara    Kids' Fashion\n",
       "69          69  3.171572  60.117647  T-shirt   Nike    Kids' Fashion\n",
       "72          72  3.548573  65.750000  T-shirt   Zara    Kids' Fashion\n",
       "11          11  3.510605  48.000000    Dress   Nike  Women's Fashion\n",
       "34          34  3.281908  53.181818    Shoes  Gucci    Men's Fashion"
      ]
     },
     "execution_count": 116,
     "metadata": {},
     "output_type": "execute_result"
    }
   ],
   "source": [
    "print(f'Another Product you actualy buy:')\n",
    "df_product_act = df_product.iloc[products_truth].copy()\n",
    "df_product_act"
   ]
  },
  {
   "cell_type": "code",
   "execution_count": 117,
   "metadata": {},
   "outputs": [
    {
     "name": "stdout",
     "output_type": "stream",
     "text": [
      "Another product you might like:\n",
      "(10, 8)\n"
     ]
    },
    {
     "data": {
      "text/html": [
       "<div>\n",
       "<style scoped>\n",
       "    .dataframe tbody tr th:only-of-type {\n",
       "        vertical-align: middle;\n",
       "    }\n",
       "\n",
       "    .dataframe tbody tr th {\n",
       "        vertical-align: top;\n",
       "    }\n",
       "\n",
       "    .dataframe thead th {\n",
       "        text-align: right;\n",
       "    }\n",
       "</style>\n",
       "<table border=\"1\" class=\"dataframe\">\n",
       "  <thead>\n",
       "    <tr style=\"text-align: right;\">\n",
       "      <th></th>\n",
       "      <th>product_id</th>\n",
       "      <th>ratings</th>\n",
       "      <th>price</th>\n",
       "      <th>category</th>\n",
       "      <th>brand</th>\n",
       "      <th>kind</th>\n",
       "      <th>Score</th>\n",
       "      <th>Correct</th>\n",
       "    </tr>\n",
       "  </thead>\n",
       "  <tbody>\n",
       "    <tr>\n",
       "      <th>19</th>\n",
       "      <td>19</td>\n",
       "      <td>3.596602</td>\n",
       "      <td>54.153846</td>\n",
       "      <td>Jeans</td>\n",
       "      <td>Gucci</td>\n",
       "      <td>Men's Fashion</td>\n",
       "      <td>0.070356</td>\n",
       "      <td>False</td>\n",
       "    </tr>\n",
       "    <tr>\n",
       "      <th>44</th>\n",
       "      <td>44</td>\n",
       "      <td>2.333109</td>\n",
       "      <td>49.466667</td>\n",
       "      <td>Shoes</td>\n",
       "      <td>Zara</td>\n",
       "      <td>Women's Fashion</td>\n",
       "      <td>0.050090</td>\n",
       "      <td>False</td>\n",
       "    </tr>\n",
       "    <tr>\n",
       "      <th>32</th>\n",
       "      <td>32</td>\n",
       "      <td>2.723359</td>\n",
       "      <td>68.428571</td>\n",
       "      <td>Shoes</td>\n",
       "      <td>Adidas</td>\n",
       "      <td>Women's Fashion</td>\n",
       "      <td>0.039852</td>\n",
       "      <td>False</td>\n",
       "    </tr>\n",
       "    <tr>\n",
       "      <th>24</th>\n",
       "      <td>24</td>\n",
       "      <td>2.461879</td>\n",
       "      <td>56.650000</td>\n",
       "      <td>Jeans</td>\n",
       "      <td>Nike</td>\n",
       "      <td>Kids' Fashion</td>\n",
       "      <td>0.027449</td>\n",
       "      <td>False</td>\n",
       "    </tr>\n",
       "    <tr>\n",
       "      <th>61</th>\n",
       "      <td>61</td>\n",
       "      <td>2.784215</td>\n",
       "      <td>58.294118</td>\n",
       "      <td>T-shirt</td>\n",
       "      <td>Adidas</td>\n",
       "      <td>Men's Fashion</td>\n",
       "      <td>0.023923</td>\n",
       "      <td>False</td>\n",
       "    </tr>\n",
       "    <tr>\n",
       "      <th>21</th>\n",
       "      <td>21</td>\n",
       "      <td>2.813687</td>\n",
       "      <td>56.857143</td>\n",
       "      <td>Jeans</td>\n",
       "      <td>H&amp;M</td>\n",
       "      <td>Kids' Fashion</td>\n",
       "      <td>0.019330</td>\n",
       "      <td>False</td>\n",
       "    </tr>\n",
       "    <tr>\n",
       "      <th>3</th>\n",
       "      <td>3</td>\n",
       "      <td>3.689981</td>\n",
       "      <td>50.200000</td>\n",
       "      <td>Dress</td>\n",
       "      <td>Gucci</td>\n",
       "      <td>Kids' Fashion</td>\n",
       "      <td>0.016861</td>\n",
       "      <td>False</td>\n",
       "    </tr>\n",
       "    <tr>\n",
       "      <th>39</th>\n",
       "      <td>39</td>\n",
       "      <td>3.122795</td>\n",
       "      <td>46.187500</td>\n",
       "      <td>Shoes</td>\n",
       "      <td>Nike</td>\n",
       "      <td>Kids' Fashion</td>\n",
       "      <td>0.016304</td>\n",
       "      <td>False</td>\n",
       "    </tr>\n",
       "    <tr>\n",
       "      <th>73</th>\n",
       "      <td>73</td>\n",
       "      <td>2.520955</td>\n",
       "      <td>52.818182</td>\n",
       "      <td>T-shirt</td>\n",
       "      <td>Zara</td>\n",
       "      <td>Men's Fashion</td>\n",
       "      <td>0.014668</td>\n",
       "      <td>False</td>\n",
       "    </tr>\n",
       "    <tr>\n",
       "      <th>56</th>\n",
       "      <td>56</td>\n",
       "      <td>3.120295</td>\n",
       "      <td>68.625000</td>\n",
       "      <td>Sweater</td>\n",
       "      <td>Nike</td>\n",
       "      <td>Women's Fashion</td>\n",
       "      <td>0.012779</td>\n",
       "      <td>False</td>\n",
       "    </tr>\n",
       "  </tbody>\n",
       "</table>\n",
       "</div>"
      ],
      "text/plain": [
       "    product_id   ratings      price category   brand             kind  \\\n",
       "19          19  3.596602  54.153846    Jeans   Gucci    Men's Fashion   \n",
       "44          44  2.333109  49.466667    Shoes    Zara  Women's Fashion   \n",
       "32          32  2.723359  68.428571    Shoes  Adidas  Women's Fashion   \n",
       "24          24  2.461879  56.650000    Jeans    Nike    Kids' Fashion   \n",
       "61          61  2.784215  58.294118  T-shirt  Adidas    Men's Fashion   \n",
       "21          21  2.813687  56.857143    Jeans     H&M    Kids' Fashion   \n",
       "3            3  3.689981  50.200000    Dress   Gucci    Kids' Fashion   \n",
       "39          39  3.122795  46.187500    Shoes    Nike    Kids' Fashion   \n",
       "73          73  2.520955  52.818182  T-shirt    Zara    Men's Fashion   \n",
       "56          56  3.120295  68.625000  Sweater    Nike  Women's Fashion   \n",
       "\n",
       "       Score  Correct  \n",
       "19  0.070356    False  \n",
       "44  0.050090    False  \n",
       "32  0.039852    False  \n",
       "24  0.027449    False  \n",
       "61  0.023923    False  \n",
       "21  0.019330    False  \n",
       "3   0.016861    False  \n",
       "39  0.016304    False  \n",
       "73  0.014668    False  \n",
       "56  0.012779    False  "
      ]
     },
     "execution_count": 117,
     "metadata": {},
     "output_type": "execute_result"
    }
   ],
   "source": [
    "x = np.zeros((1, total_product))\n",
    "x[0, products_on_chart] = 1\n",
    "pred = model(x)\n",
    "\n",
    "df_product_pred = df_product.copy()\n",
    "df_product_pred['Score'] = pred.numpy()[0]\n",
    "df_product_pred['Correct'] = df_product_pred['product_id'].isin(df_product_act['product_id'].tolist())\n",
    "df_product_pred = df_product_pred[~df_product_pred['product_id'].isin(products_on_chart)]\n",
    "df_product_pred = df_product_pred.sort_values(by=['Score'], ascending=False).head(10)\n",
    "\n",
    "print(f'Another product you might like:')\n",
    "print(df_product_pred.shape)\n",
    "df_product_pred"
   ]
  },
  {
   "cell_type": "code",
   "execution_count": null,
   "metadata": {},
   "outputs": [],
   "source": []
  }
 ],
 "metadata": {
  "kernelspec": {
   "display_name": "skilvul",
   "language": "python",
   "name": "python3"
  },
  "language_info": {
   "codemirror_mode": {
    "name": "ipython",
    "version": 3
   },
   "file_extension": ".py",
   "mimetype": "text/x-python",
   "name": "python",
   "nbconvert_exporter": "python",
   "pygments_lexer": "ipython3",
   "version": "3.9.18"
  }
 },
 "nbformat": 4,
 "nbformat_minor": 2
}
